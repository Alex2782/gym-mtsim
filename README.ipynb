{
 "cells": [
  {
   "cell_type": "markdown",
   "source": [
    "# gym-mtsim: OpenAI Gym - MetaTrader 5 Simulator\n",
    "\n",
    "`MtSim` is a simulator for the [MetaTrader 5](https://www.metatrader5.com) trading platform alongside an [OpenAI Gym](https://github.com/openai/gym) environment for reinforcement learning-based trading algorithms. `MetaTrader 5` is a **multi-asset** platform that allows trading **Forex**, **Stocks**, **Crypto**, and Futures. It is one of the most popular trading platforms and supports numerous useful features, such as opening demo accounts on various brokers.\n",
    "\n",
    "The simulator is separated from the Gym environment and can work independently. Although the Gym environment is designed to be suitable for RL frameworks, it is also proper for backtesting and classic analysis.\n",
    "\n",
    "The goal of this project was to provide a *general-purpose*, *flexible*, and *easy-to-use* library with a focus on *code readability* that enables users to do all parts of the trading process through it from 0 to 100. So, `gym-mtsim` is not just a testing tool or a Gym environment. It is a combination of a **real-world** simulator, a **backtesting** tool with *high detail visualization*, and a **Gym environment** appropriate for RL/classic algorithms.\n",
    "\n",
    "**Note:** For beginners, it is recommended to check out the [gym-anytrading](https://github.com/AminHP/gym-anytrading) project."
   ],
   "metadata": {}
  },
  {
   "cell_type": "markdown",
   "source": [
    "## Prerequisites\r\n",
    "\r\n",
    "### Install MetaTrader 5\r\n",
    "Download and install MetaTrader 5 software from [here](https://www.metatrader5.com/en/download).\r\n",
    "\r\n",
    "Open a demo account on any broker. By default, the software opens a demo account automatically after installation.\r\n",
    "\r\n",
    "Explore the software and try to get familiar with it by trading different symbols in both **hedged** and **unhedged** accounts.\r\n",
    "\r\n",
    "### Install gym-mtsim\r\n",
    "\r\n",
    "#### Via PIP\r\n",
    "```bash\r\n",
    "pip install gym-mtsim\r\n",
    "```\r\n",
    "\r\n",
    "#### From Repository\r\n",
    "```bash\r\n",
    "git clone https://github.com/AminHP/gym-mtsim\r\n",
    "cd gym-mtsim\r\n",
    "pip install -e .\r\n",
    "\r\n",
    "## or\r\n",
    "\r\n",
    "pip install --upgrade --no-deps --force-reinstall https://github.com/AminHP/gym-mtsim/archive/main.zip\r\n",
    "```\r\n",
    "\r\n",
    "### Install stable-baselines3\r\n",
    "This package is required to run some examples. Install it from [here](https://github.com/DLR-RM/stable-baselines3#installation)."
   ],
   "metadata": {}
  },
  {
   "cell_type": "markdown",
   "source": [
    "## Components"
   ],
   "metadata": {}
  },
  {
   "cell_type": "markdown",
   "source": [
    "### 1. SymbolInfo\n",
    "\n",
    "This is a data class that contains the essential properties of a symbol. Try to get fully acquainted with [these properties](https://github.com/AminHP/gym-mtsim/blob/main/gym_mtsim/metatrader/symbol.py) in case they are unfamiliar. There are plenty of resources that provide good explanations."
   ],
   "metadata": {}
  },
  {
   "cell_type": "markdown",
   "source": [
    "### 2. Order\n",
    "\n",
    "This is another data class that consists of information of an order. Each order has the following properties:\n",
    "\n",
    "> `id`: A unique number that helps with tracking orders.\n",
    ">\n",
    "> `type`: An enum that specifies the type of the order. It can be either **Buy** or **Sell**.\n",
    ">\n",
    "> `symbol`: The symbol selected for the order.\n",
    ">\n",
    "> `volume`: The volume chose for the order. It can be a multiple of *volume_step* between *volume_min* and *volume_max*. \n",
    ">\n",
    "> `fee`: It is a tricky property. In MetaTrader, there is *no* such concept called fee. Each symbol has bid and ask prices, the difference between which represents the **fee**. Although MetaTrader API provides these bid/ask prices for the recent past, it is not possible to access them for the distant past. Therefore, the **fee** property helps to manage the mentioned difference.\n",
    ">\n",
    "> `entry_time`: The time when the order was placed.\n",
    ">\n",
    "> `entry_price`: The **close** price when the order was placed.\n",
    ">\n",
    "> `exit_time`: The time when the order was closed.\n",
    ">\n",
    "> `exit_price`: The **close** price when the order was closed.\n",
    ">\n",
    "> `profit`: The amount of profit earned by this order so far.\n",
    ">\n",
    "> `margin`: The required amount of margin for this order.\n",
    ">\n",
    "> `closed`: A boolean that specifies whether this order is closed or not."
   ],
   "metadata": {}
  },
  {
   "cell_type": "markdown",
   "source": [
    "### 3. MtSimulator\n",
    "\n",
    "This is the core class that simulates the main parts of MetaTrader. Most of its public properties and methods are explained here. But feel free to take a look at the complete [source code](https://github.com/AminHP/gym-mtsim/blob/main/gym_mtsim/simulator/mt_simulator.py).\n",
    "\n",
    "* Properties:\n",
    "\n",
    "    > `unit`: The unit currency. It is usually *USD*, but it can be anything the broker allows, such as *EUR*.\n",
    "    >\n",
    "    > `balance`: The amount of money before taking into account any open positions.\n",
    "    >\n",
    "    > `equity`: The amount of money, including the value of any open positions.\n",
    "    >\n",
    "    > `margin`: The amount of money which is required for having positions opened.\n",
    "    >\n",
    "    > `leverage`: The leverage ratio.\n",
    "    >\n",
    "    > `free_margin`: The amount of money that is available to open new positions.\n",
    "    >\n",
    "    > `margin_level`: The ratio between **equity** and **margin**.\n",
    "    >\n",
    "    > `stop_out_level`: If the **margin_level** drops below **stop_out_level**, the most unprofitable position will be closed automatically by the broker.\n",
    "    >\n",
    "    > `hedge`: A boolean that specifies whether hedging is enabled or not.\n",
    "    >\n",
    "    > `symbols_info`: A dictionary that contains symbols' information.\n",
    "    >\n",
    "    > `symbols_data`: A dictionary that contains symbols' OHLCV data.\n",
    "    >\n",
    "    > `orders`: The list of open orders.\n",
    "    >\n",
    "    > `closed_orders`: The list of closed orders.\n",
    "    >\n",
    "    > `current_time`: The current time of the system.\n",
    "\n",
    "* Methods:\n",
    "\n",
    "    > `download_data`: Downloads required data from MetaTrader for a list of symbols in a time range. This method can be overridden in order to download data from servers other than MetaTrader.\n",
    "    >\n",
    "    > `save_symbols`: Saves the downloaded symbols' data to a file.\n",
    "    >\n",
    "    > `load_symbols`: Loads the symbols' data from a file.\n",
    "    >\n",
    "    > `tick`: Moves forward in time (by a delta time) and updates orders and other related properties.\n",
    "    >\n",
    "    > `create_order`: Creates a **Buy** or **Sell** order and updates related properties.\n",
    "    >\n",
    "    > `close_order`: Closes an order and updates related properties.\n",
    "    >\n",
    "    > `get_state`: Returns the state of the system. The result is similar to the *Trading tab* and *History tab* of the *Toolbox window* in MetaTrader software."
   ],
   "metadata": {}
  },
  {
   "cell_type": "markdown",
   "source": [
    "### 4. MtEnv\n",
    "\n",
    "This is the Gym environment that works on top of the *MtSim*. Most of its public properties and methods are explained here. But feel free to take a look at the complete [source code](https://github.com/AminHP/gym-mtsim/blob/main/gym_mtsim/envs/mt_env.py).\n",
    "\n",
    "* Properties:\n",
    "\n",
    "    > `original_simulator`: An instance of **MtSim** class as a baseline for simulating the system.\n",
    "    >\n",
    "    > `simulator`: The current simulator in use. It is a copy of the **original_simulator**.\n",
    "    >\n",
    "    > `trading_symbols`: The list of symbols to trade.\n",
    "    >\n",
    "    > `time_points`: A list of time points based on which the simulator moves time. The default value is taken from the *pandas DataFrame.Index* of the first symbol in the **trading_symbols** list.\n",
    "    >\n",
    "    > `hold_threshold`: A probability threshold that controls holding or placing a new order.\n",
    "    >\n",
    "    > `close_threshold`: A probability threshold that controls closing an order.\n",
    "    >\n",
    "    > `fee`: A constant number or a callable that takes a *symbol* as input and returns the **fee** based on that.\n",
    "    >\n",
    "    > `symbol_max_orders`: Specifies the maximum number of open positions per symbol in hedge trading. \n",
    "    >\n",
    "    > `multiprocessing_processes`: Specifies the maximum number of processes used for parallel processing.\n",
    "    >\n",
    "    > `prices`: The symbol prices over time. It is used to calculate signal features and render the environment.\n",
    "    >\n",
    "    > `signal_features`: The extracted features over time. It is used to generate *Gym observations*.\n",
    "    >\n",
    "    > `window_size`: The number of time points (current and previous points) as the length of each observation's features. \n",
    "    >\n",
    "    > `features_shape`: The shape of a single observation's features.\n",
    "    >\n",
    "    > `action_space`: The *Gym action_space* property. It has a complex structure since **stable-baselines** does not support *Dict* or *2D Box* action spaces. The action space is a 1D vector of size `count(trading_symbols) * (symbol_max_orders + 2)`. For each symbol, two types of actions can be performed, closing previous orders and placing a new order. The latter is controlled by the first *symbol_max_orders* elements and the former is controlled by the last two elements. Therefore, the action for each symbol is ***[probability of closing order 1, probability of closing order 2, ..., probability of closing order symbol_max_orders, probability of holding, volume of new order]***. The last two elements specify whether to hold or place a new order and the volume of the new order (positive volume indicates buy and negative volume indicates sell). These elements are a number in range (-∞, ∞), but the probability values must be in the range [0, 1]. This is a problem with **stable-baselines** as mentioned earlier. To overcome this problem, it is assumed that the probability values belong to the [logit](https://en.wikipedia.org/wiki/Logit) function. So, applying the [expit](https://en.wikipedia.org/wiki/Expit) function on them gives the desired probability values in the range [0, 1]. This function is applied in the **step** method of the environment.\n",
    "    >\n",
    "    > `observation_space`: The *Gym observation_space* property. Each observation contains information about *balance*, *equity*, *margin*, *features*, and *orders*. The **features** is a window on the *signal_features* from index *current_tick - window_size + 1* to *current_tick*. The **orders** is a 3D array. Its first dimension specifies the symbol index in the *trading_symbols* list. The second dimension specifies the order number (each symbol can have more than one open order at the same time in hedge trading). The last dimension has three elements, *entry_price*, *volume*, and *profit* of corresponding order.\n",
    "    >\n",
    "    > `history`: Stores the information of all steps.\n",
    "\n",
    "* Methods:\n",
    "\n",
    "    > `seed`: The typical *Gym seed* method.\n",
    "    >\n",
    "    > `reset`: The typical *Gym reset* method.\n",
    "    >\n",
    "    > `step`: The typical *Gym step* method.\n",
    "    >\n",
    "    > `render`: The typical *Gym render* method. It can render in three modes, **human**, **simple_figure**, and **advanced_figure**.\n",
    "    >\n",
    "    > `close`: The typical *Gym close* method.\n",
    "\n",
    "* Virtual Methods:\n",
    "\n",
    "    > `_get_prices`: It is called in the constructor and calculates symbol **prices**.\n",
    "    >\n",
    "    > `_process_data`: It is called in the constructor and calculates **signal_features**.\n",
    "    >\n",
    "    > `_calculate_reward`: The reward function for the RL agent."
   ],
   "metadata": {}
  },
  {
   "cell_type": "markdown",
   "source": [
    "## A Simple Example"
   ],
   "metadata": {}
  },
  {
   "cell_type": "markdown",
   "source": [
    "### MtSim"
   ],
   "metadata": {}
  },
  {
   "cell_type": "markdown",
   "source": [
    "#### Create a simulator with custom parameters"
   ],
   "metadata": {}
  },
  {
   "cell_type": "code",
   "execution_count": 1,
   "source": [
    "import pytz\r\n",
    "from datetime import datetime, timedelta\r\n",
    "from gym_mtsim import MtSimulator, OrderType, Timeframe, FOREX_DATA_PATH\r\n",
    "\r\n",
    "\r\n",
    "sim = MtSimulator(\r\n",
    "    unit='USD',\r\n",
    "    balance=10000.,\r\n",
    "    leverage=100.,\r\n",
    "    stop_out_level=0.2,\r\n",
    "    hedge=False,\r\n",
    ")\r\n",
    "\r\n",
    "if not sim.load_symbols(FOREX_DATA_PATH):\r\n",
    "    sim.download_data(\r\n",
    "        symbols=['EURUSD', 'GBPCAD', 'GBPUSD', 'USDCAD', 'USDCHF', 'GBPJPY', 'USDJPY'],\r\n",
    "        time_range=(\r\n",
    "            datetime(2021, 5, 5, tzinfo=pytz.UTC),\r\n",
    "            datetime(2021, 9, 5, tzinfo=pytz.UTC)\r\n",
    "        ),\r\n",
    "        timeframe=Timeframe.D1\r\n",
    "    )\r\n",
    "    sim.save_symbols(FOREX_DATA_PATH)"
   ],
   "outputs": [],
   "metadata": {}
  },
  {
   "cell_type": "markdown",
   "source": [
    "#### Place some orders"
   ],
   "metadata": {}
  },
  {
   "cell_type": "code",
   "execution_count": 2,
   "source": [
    "sim.current_time = datetime(2021, 8, 30, 0, 17, 52, tzinfo=pytz.UTC)\r\n",
    "\r\n",
    "order1 = sim.create_order(\r\n",
    "    order_type=OrderType.Buy,\r\n",
    "    symbol='GBPCAD',\r\n",
    "    volume=1.,\r\n",
    "    fee=0.0003,\r\n",
    ")\r\n",
    "\r\n",
    "sim.tick(timedelta(days=2))\r\n",
    "\r\n",
    "order2 = sim.create_order(\r\n",
    "    order_type=OrderType.Sell,\r\n",
    "    symbol='USDJPY',\r\n",
    "    volume=2.,\r\n",
    "    fee=0.01,\r\n",
    ")\r\n",
    "\r\n",
    "sim.tick(timedelta(days=5))\r\n",
    "\r\n",
    "state = sim.get_state()\r\n",
    "\r\n",
    "print(\r\n",
    "    f\"balance: {state['balance']}, equity: {state['equity']}, margin: {state['margin']}\\n\"\r\n",
    "    f\"free_margin: {state['free_margin']}, margin_level: {state['margin_level']}\\n\"\r\n",
    ")\r\n",
    "state['orders']"
   ],
   "outputs": [
    {
     "output_type": "stream",
     "name": "stdout",
     "text": [
      "balance: 10000.0, equity: 10717.58118589908, margin: 3375.480933228619\n",
      "free_margin: 7342.1002526704615, margin_level: 3.1751271592500743\n",
      "\n"
     ]
    },
    {
     "output_type": "execute_result",
     "data": {
      "text/html": [
       "<div>\n",
       "<style scoped>\n",
       "    .dataframe tbody tr th:only-of-type {\n",
       "        vertical-align: middle;\n",
       "    }\n",
       "\n",
       "    .dataframe tbody tr th {\n",
       "        vertical-align: top;\n",
       "    }\n",
       "\n",
       "    .dataframe thead th {\n",
       "        text-align: right;\n",
       "    }\n",
       "</style>\n",
       "<table border=\"1\" class=\"dataframe\">\n",
       "  <thead>\n",
       "    <tr style=\"text-align: right;\">\n",
       "      <th></th>\n",
       "      <th>Id</th>\n",
       "      <th>Symbol</th>\n",
       "      <th>Type</th>\n",
       "      <th>Volume</th>\n",
       "      <th>Entry Time</th>\n",
       "      <th>Entry Price</th>\n",
       "      <th>Exit Time</th>\n",
       "      <th>Exit Price</th>\n",
       "      <th>Profit</th>\n",
       "      <th>Margin</th>\n",
       "      <th>Fee</th>\n",
       "      <th>Closed</th>\n",
       "    </tr>\n",
       "  </thead>\n",
       "  <tbody>\n",
       "    <tr>\n",
       "      <th>0</th>\n",
       "      <td>2</td>\n",
       "      <td>USDJPY</td>\n",
       "      <td>Sell</td>\n",
       "      <td>2.0</td>\n",
       "      <td>2021-09-01 00:17:52+00:00</td>\n",
       "      <td>110.02500</td>\n",
       "      <td>2021-09-06 00:17:52+00:00</td>\n",
       "      <td>109.71200</td>\n",
       "      <td>552.355257</td>\n",
       "      <td>2000.000000</td>\n",
       "      <td>0.0100</td>\n",
       "      <td>False</td>\n",
       "    </tr>\n",
       "    <tr>\n",
       "      <th>1</th>\n",
       "      <td>1</td>\n",
       "      <td>GBPCAD</td>\n",
       "      <td>Buy</td>\n",
       "      <td>1.0</td>\n",
       "      <td>2021-08-30 00:17:52+00:00</td>\n",
       "      <td>1.73389</td>\n",
       "      <td>2021-09-06 00:17:52+00:00</td>\n",
       "      <td>1.73626</td>\n",
       "      <td>165.225928</td>\n",
       "      <td>1375.480933</td>\n",
       "      <td>0.0003</td>\n",
       "      <td>False</td>\n",
       "    </tr>\n",
       "  </tbody>\n",
       "</table>\n",
       "</div>"
      ],
      "text/plain": [
       "   Id  Symbol  Type  Volume                Entry Time  Entry Price  \\\n",
       "0   2  USDJPY  Sell     2.0 2021-09-01 00:17:52+00:00    110.02500   \n",
       "1   1  GBPCAD   Buy     1.0 2021-08-30 00:17:52+00:00      1.73389   \n",
       "\n",
       "                  Exit Time  Exit Price      Profit       Margin     Fee  \\\n",
       "0 2021-09-06 00:17:52+00:00   109.71200  552.355257  2000.000000  0.0100   \n",
       "1 2021-09-06 00:17:52+00:00     1.73626  165.225928  1375.480933  0.0003   \n",
       "\n",
       "   Closed  \n",
       "0   False  \n",
       "1   False  "
      ]
     },
     "metadata": {},
     "execution_count": 2
    }
   ],
   "metadata": {}
  },
  {
   "cell_type": "markdown",
   "source": [
    "#### Close all orders"
   ],
   "metadata": {}
  },
  {
   "cell_type": "code",
   "execution_count": 3,
   "source": [
    "order1_profit = sim.close_order(order1)\r\n",
    "order2_profit = sim.close_order(order2)\r\n",
    "\r\n",
    "# alternatively:\r\n",
    "# for order in sim.orders:\r\n",
    "#     sim.close_order(order)\r\n",
    "\r\n",
    "state = sim.get_state()\r\n",
    "\r\n",
    "print(\r\n",
    "    f\"balance: {state['balance']}, equity: {state['equity']}, margin: {state['margin']}\\n\"\r\n",
    "    f\"free_margin: {state['free_margin']}, margin_level: {state['margin_level']}\\n\"\r\n",
    ")\r\n",
    "state['orders']"
   ],
   "outputs": [
    {
     "output_type": "stream",
     "name": "stdout",
     "text": [
      "balance: 10717.58118589908, equity: 10717.58118589908, margin: 0.0\n",
      "free_margin: 10717.58118589908, margin_level: inf\n",
      "\n"
     ]
    },
    {
     "output_type": "execute_result",
     "data": {
      "text/html": [
       "<div>\n",
       "<style scoped>\n",
       "    .dataframe tbody tr th:only-of-type {\n",
       "        vertical-align: middle;\n",
       "    }\n",
       "\n",
       "    .dataframe tbody tr th {\n",
       "        vertical-align: top;\n",
       "    }\n",
       "\n",
       "    .dataframe thead th {\n",
       "        text-align: right;\n",
       "    }\n",
       "</style>\n",
       "<table border=\"1\" class=\"dataframe\">\n",
       "  <thead>\n",
       "    <tr style=\"text-align: right;\">\n",
       "      <th></th>\n",
       "      <th>Id</th>\n",
       "      <th>Symbol</th>\n",
       "      <th>Type</th>\n",
       "      <th>Volume</th>\n",
       "      <th>Entry Time</th>\n",
       "      <th>Entry Price</th>\n",
       "      <th>Exit Time</th>\n",
       "      <th>Exit Price</th>\n",
       "      <th>Profit</th>\n",
       "      <th>Margin</th>\n",
       "      <th>Fee</th>\n",
       "      <th>Closed</th>\n",
       "    </tr>\n",
       "  </thead>\n",
       "  <tbody>\n",
       "    <tr>\n",
       "      <th>0</th>\n",
       "      <td>2</td>\n",
       "      <td>USDJPY</td>\n",
       "      <td>Sell</td>\n",
       "      <td>2.0</td>\n",
       "      <td>2021-09-01 00:17:52+00:00</td>\n",
       "      <td>110.02500</td>\n",
       "      <td>2021-09-06 00:17:52+00:00</td>\n",
       "      <td>109.71200</td>\n",
       "      <td>552.355257</td>\n",
       "      <td>2000.000000</td>\n",
       "      <td>0.0100</td>\n",
       "      <td>True</td>\n",
       "    </tr>\n",
       "    <tr>\n",
       "      <th>1</th>\n",
       "      <td>1</td>\n",
       "      <td>GBPCAD</td>\n",
       "      <td>Buy</td>\n",
       "      <td>1.0</td>\n",
       "      <td>2021-08-30 00:17:52+00:00</td>\n",
       "      <td>1.73389</td>\n",
       "      <td>2021-09-06 00:17:52+00:00</td>\n",
       "      <td>1.73626</td>\n",
       "      <td>165.225928</td>\n",
       "      <td>1375.480933</td>\n",
       "      <td>0.0003</td>\n",
       "      <td>True</td>\n",
       "    </tr>\n",
       "  </tbody>\n",
       "</table>\n",
       "</div>"
      ],
      "text/plain": [
       "   Id  Symbol  Type  Volume                Entry Time  Entry Price  \\\n",
       "0   2  USDJPY  Sell     2.0 2021-09-01 00:17:52+00:00    110.02500   \n",
       "1   1  GBPCAD   Buy     1.0 2021-08-30 00:17:52+00:00      1.73389   \n",
       "\n",
       "                  Exit Time  Exit Price      Profit       Margin     Fee  \\\n",
       "0 2021-09-06 00:17:52+00:00   109.71200  552.355257  2000.000000  0.0100   \n",
       "1 2021-09-06 00:17:52+00:00     1.73626  165.225928  1375.480933  0.0003   \n",
       "\n",
       "   Closed  \n",
       "0    True  \n",
       "1    True  "
      ]
     },
     "metadata": {},
     "execution_count": 3
    }
   ],
   "metadata": {}
  },
  {
   "cell_type": "markdown",
   "source": [
    "### MtEnv"
   ],
   "metadata": {}
  },
  {
   "cell_type": "markdown",
   "source": [
    "#### Create an environment"
   ],
   "metadata": {}
  },
  {
   "cell_type": "code",
   "execution_count": 4,
   "source": [
    "import gym\r\n",
    "import gym_mtsim\r\n",
    "\r\n",
    "env = gym.make('forex-hedge-v0')\r\n",
    "# env = gym.make('stocks-hedge-v0')\r\n",
    "# env = gym.make('crypto-hedge-v0')\r\n",
    "# env = gym.make('mixed-hedge-v0')\r\n",
    "\r\n",
    "# env = gym.make('forex-unhedge-v0')\r\n",
    "# env = gym.make('stocks-unhedge-v0')\r\n",
    "# env = gym.make('crypto-unhedge-v0')\r\n",
    "# env = gym.make('mixed-unhedge-v0')"
   ],
   "outputs": [],
   "metadata": {}
  },
  {
   "cell_type": "markdown",
   "source": [
    "* This will create a default environment. There are eight default environments, but it is also possible to create environments with custom parameters."
   ],
   "metadata": {}
  },
  {
   "cell_type": "markdown",
   "source": [
    "#### Create an environment with custom parameters"
   ],
   "metadata": {}
  },
  {
   "cell_type": "code",
   "execution_count": 5,
   "source": [
    "import pytz\r\n",
    "from datetime import datetime, timedelta\r\n",
    "import numpy as np\r\n",
    "from gym_mtsim import MtEnv, MtSimulator, FOREX_DATA_PATH\r\n",
    "\r\n",
    "\r\n",
    "sim = MtSimulator(\r\n",
    "    unit='USD',\r\n",
    "    balance=10000.,\r\n",
    "    leverage=100.,\r\n",
    "    stop_out_level=0.2,\r\n",
    "    hedge=True,\r\n",
    "    symbols_filename=FOREX_DATA_PATH\r\n",
    ")\r\n",
    "\r\n",
    "env = MtEnv(\r\n",
    "    original_simulator=sim,\r\n",
    "    trading_symbols=['GBPCAD', 'EURUSD', 'USDJPY'],\r\n",
    "    window_size=10,\r\n",
    "    # time_points=[desired time points ...],\r\n",
    "    hold_threshold=0.5,\r\n",
    "    close_threshold=0.5,\r\n",
    "    fee=lambda symbol: {\r\n",
    "        'GBPCAD': np.random.normal(0.0007, 0.0005),\r\n",
    "        'EURUSD': np.random.normal(0.0002, 0.0003),\r\n",
    "        'USDJPY': np.random.normal(0.02, 0.003),\r\n",
    "    }[symbol],\r\n",
    "    symbol_max_orders=2,\r\n",
    "    multiprocessing_processes=2\r\n",
    ")"
   ],
   "outputs": [],
   "metadata": {}
  },
  {
   "cell_type": "markdown",
   "source": [
    "#### Print some information"
   ],
   "metadata": {}
  },
  {
   "cell_type": "code",
   "execution_count": 6,
   "source": [
    "print(\"env information:\")\r\n",
    "\r\n",
    "for symbol in env.prices:\r\n",
    "    print(f\"> prices[{symbol}].shape:\", env.prices[symbol].shape)\r\n",
    "\r\n",
    "print(\"> signal_features.shape:\", env.signal_features.shape)\r\n",
    "print(\"> features_shape:\", env.features_shape)"
   ],
   "outputs": [
    {
     "output_type": "stream",
     "name": "stdout",
     "text": [
      "env information:\n",
      "> prices[GBPCAD].shape: (88, 2)\n",
      "> prices[EURUSD].shape: (88, 2)\n",
      "> prices[USDJPY].shape: (88, 2)\n",
      "> signal_features.shape: (88, 6)\n",
      "> features_shape: (10, 6)\n"
     ]
    }
   ],
   "metadata": {}
  },
  {
   "cell_type": "markdown",
   "source": [
    "#### Trade randomly"
   ],
   "metadata": {}
  },
  {
   "cell_type": "code",
   "execution_count": 7,
   "source": [
    "observation = env.reset()\r\n",
    "\r\n",
    "while True:\r\n",
    "    action = env.action_space.sample()\r\n",
    "    observation, reward, done, info = env.step(action)\r\n",
    "\r\n",
    "    if done:\r\n",
    "        # print(info)\r\n",
    "        print(\r\n",
    "            f\"balance: {info['balance']}, equity: {info['equity']}, margin: {info['margin']}\\n\"\r\n",
    "            f\"free_margin: {info['free_margin']}, margin_level: {info['margin_level']}\\n\"\r\n",
    "            f\"step_reward: {info['step_reward']}\"\r\n",
    "        )\r\n",
    "        break"
   ],
   "outputs": [
    {
     "output_type": "stream",
     "name": "stdout",
     "text": [
      "balance: 9376.891775198916, equity: 9641.936625205548, margin: 3634.1077619051393\n",
      "free_margin: 6007.828863300409, margin_level: 2.6531785122131852\n",
      "step_reward: 140.93306243685583\n"
     ]
    }
   ],
   "metadata": {}
  },
  {
   "cell_type": "markdown",
   "source": [
    "#### Render in *human* mode"
   ],
   "metadata": {}
  },
  {
   "cell_type": "code",
   "execution_count": 8,
   "source": [
    "state = env.render()\r\n",
    "\r\n",
    "print(\r\n",
    "    f\"balance: {state['balance']}, equity: {state['equity']}, margin: {state['margin']}\\n\"\r\n",
    "    f\"free_margin: {state['free_margin']}, margin_level: {state['margin_level']}\\n\"\r\n",
    ")\r\n",
    "state['orders']"
   ],
   "outputs": [
    {
     "output_type": "stream",
     "name": "stdout",
     "text": [
      "balance: 9376.891775198916, equity: 9641.936625205548, margin: 3634.1077619051393\n",
      "free_margin: 6007.828863300409, margin_level: 2.6531785122131852\n",
      "\n"
     ]
    },
    {
     "output_type": "execute_result",
     "data": {
      "text/html": [
       "<div>\n",
       "<style scoped>\n",
       "    .dataframe tbody tr th:only-of-type {\n",
       "        vertical-align: middle;\n",
       "    }\n",
       "\n",
       "    .dataframe tbody tr th {\n",
       "        vertical-align: top;\n",
       "    }\n",
       "\n",
       "    .dataframe thead th {\n",
       "        text-align: right;\n",
       "    }\n",
       "</style>\n",
       "<table border=\"1\" class=\"dataframe\">\n",
       "  <thead>\n",
       "    <tr style=\"text-align: right;\">\n",
       "      <th></th>\n",
       "      <th>Id</th>\n",
       "      <th>Symbol</th>\n",
       "      <th>Type</th>\n",
       "      <th>Volume</th>\n",
       "      <th>Entry Time</th>\n",
       "      <th>Entry Price</th>\n",
       "      <th>Exit Time</th>\n",
       "      <th>Exit Price</th>\n",
       "      <th>Profit</th>\n",
       "      <th>Margin</th>\n",
       "      <th>Fee</th>\n",
       "      <th>Closed</th>\n",
       "    </tr>\n",
       "  </thead>\n",
       "  <tbody>\n",
       "    <tr>\n",
       "      <th>0</th>\n",
       "      <td>119</td>\n",
       "      <td>USDJPY</td>\n",
       "      <td>Buy</td>\n",
       "      <td>1.12</td>\n",
       "      <td>2021-09-02 00:00:00+00:00</td>\n",
       "      <td>109.93700</td>\n",
       "      <td>2021-09-03 00:00:00+00:00</td>\n",
       "      <td>109.71200</td>\n",
       "      <td>-248.970123</td>\n",
       "      <td>1120.000000</td>\n",
       "      <td>0.018884</td>\n",
       "      <td>False</td>\n",
       "    </tr>\n",
       "    <tr>\n",
       "      <th>1</th>\n",
       "      <td>118</td>\n",
       "      <td>EURUSD</td>\n",
       "      <td>Buy</td>\n",
       "      <td>0.24</td>\n",
       "      <td>2021-09-02 00:00:00+00:00</td>\n",
       "      <td>1.18744</td>\n",
       "      <td>2021-09-03 00:00:00+00:00</td>\n",
       "      <td>1.18772</td>\n",
       "      <td>-4.355531</td>\n",
       "      <td>284.985600</td>\n",
       "      <td>0.000461</td>\n",
       "      <td>False</td>\n",
       "    </tr>\n",
       "    <tr>\n",
       "      <th>2</th>\n",
       "      <td>117</td>\n",
       "      <td>USDJPY</td>\n",
       "      <td>Sell</td>\n",
       "      <td>1.94</td>\n",
       "      <td>2021-09-01 00:00:00+00:00</td>\n",
       "      <td>110.02500</td>\n",
       "      <td>2021-09-03 00:00:00+00:00</td>\n",
       "      <td>109.71200</td>\n",
       "      <td>520.155098</td>\n",
       "      <td>1940.000000</td>\n",
       "      <td>0.018839</td>\n",
       "      <td>False</td>\n",
       "    </tr>\n",
       "    <tr>\n",
       "      <th>3</th>\n",
       "      <td>116</td>\n",
       "      <td>GBPCAD</td>\n",
       "      <td>Sell</td>\n",
       "      <td>0.21</td>\n",
       "      <td>2021-09-01 00:00:00+00:00</td>\n",
       "      <td>1.73728</td>\n",
       "      <td>2021-09-03 00:00:00+00:00</td>\n",
       "      <td>1.73626</td>\n",
       "      <td>-1.784594</td>\n",
       "      <td>289.122162</td>\n",
       "      <td>0.001126</td>\n",
       "      <td>False</td>\n",
       "    </tr>\n",
       "    <tr>\n",
       "      <th>4</th>\n",
       "      <td>113</td>\n",
       "      <td>USDJPY</td>\n",
       "      <td>Sell</td>\n",
       "      <td>2.24</td>\n",
       "      <td>2021-08-30 00:00:00+00:00</td>\n",
       "      <td>109.91300</td>\n",
       "      <td>2021-09-01 00:00:00+00:00</td>\n",
       "      <td>110.02500</td>\n",
       "      <td>-258.362674</td>\n",
       "      <td>2240.000000</td>\n",
       "      <td>0.014903</td>\n",
       "      <td>True</td>\n",
       "    </tr>\n",
       "    <tr>\n",
       "      <th>...</th>\n",
       "      <td>...</td>\n",
       "      <td>...</td>\n",
       "      <td>...</td>\n",
       "      <td>...</td>\n",
       "      <td>...</td>\n",
       "      <td>...</td>\n",
       "      <td>...</td>\n",
       "      <td>...</td>\n",
       "      <td>...</td>\n",
       "      <td>...</td>\n",
       "      <td>...</td>\n",
       "      <td>...</td>\n",
       "    </tr>\n",
       "    <tr>\n",
       "      <th>114</th>\n",
       "      <td>6</td>\n",
       "      <td>USDJPY</td>\n",
       "      <td>Sell</td>\n",
       "      <td>1.03</td>\n",
       "      <td>2021-05-21 00:00:00+00:00</td>\n",
       "      <td>108.94500</td>\n",
       "      <td>2021-05-24 00:00:00+00:00</td>\n",
       "      <td>108.74000</td>\n",
       "      <td>173.893295</td>\n",
       "      <td>1030.000000</td>\n",
       "      <td>0.021416</td>\n",
       "      <td>True</td>\n",
       "    </tr>\n",
       "    <tr>\n",
       "      <th>115</th>\n",
       "      <td>3</td>\n",
       "      <td>EURUSD</td>\n",
       "      <td>Buy</td>\n",
       "      <td>0.86</td>\n",
       "      <td>2021-05-19 00:00:00+00:00</td>\n",
       "      <td>1.21744</td>\n",
       "      <td>2021-05-24 00:00:00+00:00</td>\n",
       "      <td>1.22150</td>\n",
       "      <td>352.419311</td>\n",
       "      <td>1046.998400</td>\n",
       "      <td>-0.000038</td>\n",
       "      <td>True</td>\n",
       "    </tr>\n",
       "    <tr>\n",
       "      <th>116</th>\n",
       "      <td>5</td>\n",
       "      <td>GBPCAD</td>\n",
       "      <td>Sell</td>\n",
       "      <td>0.94</td>\n",
       "      <td>2021-05-21 00:00:00+00:00</td>\n",
       "      <td>1.70726</td>\n",
       "      <td>2021-05-24 00:00:00+00:00</td>\n",
       "      <td>1.70440</td>\n",
       "      <td>174.119943</td>\n",
       "      <td>1330.148695</td>\n",
       "      <td>0.000629</td>\n",
       "      <td>True</td>\n",
       "    </tr>\n",
       "    <tr>\n",
       "      <th>117</th>\n",
       "      <td>1</td>\n",
       "      <td>GBPCAD</td>\n",
       "      <td>Buy</td>\n",
       "      <td>1.45</td>\n",
       "      <td>2021-05-18 00:00:00+00:00</td>\n",
       "      <td>1.71128</td>\n",
       "      <td>2021-05-24 00:00:00+00:00</td>\n",
       "      <td>1.70440</td>\n",
       "      <td>-961.496723</td>\n",
       "      <td>2056.809874</td>\n",
       "      <td>0.001105</td>\n",
       "      <td>True</td>\n",
       "    </tr>\n",
       "    <tr>\n",
       "      <th>118</th>\n",
       "      <td>2</td>\n",
       "      <td>GBPCAD</td>\n",
       "      <td>Sell</td>\n",
       "      <td>0.58</td>\n",
       "      <td>2021-05-19 00:00:00+00:00</td>\n",
       "      <td>1.71211</td>\n",
       "      <td>2021-05-21 00:00:00+00:00</td>\n",
       "      <td>1.70726</td>\n",
       "      <td>219.514676</td>\n",
       "      <td>818.590377</td>\n",
       "      <td>0.000284</td>\n",
       "      <td>True</td>\n",
       "    </tr>\n",
       "  </tbody>\n",
       "</table>\n",
       "<p>119 rows × 12 columns</p>\n",
       "</div>"
      ],
      "text/plain": [
       "      Id  Symbol  Type  Volume                Entry Time  Entry Price  \\\n",
       "0    119  USDJPY   Buy    1.12 2021-09-02 00:00:00+00:00    109.93700   \n",
       "1    118  EURUSD   Buy    0.24 2021-09-02 00:00:00+00:00      1.18744   \n",
       "2    117  USDJPY  Sell    1.94 2021-09-01 00:00:00+00:00    110.02500   \n",
       "3    116  GBPCAD  Sell    0.21 2021-09-01 00:00:00+00:00      1.73728   \n",
       "4    113  USDJPY  Sell    2.24 2021-08-30 00:00:00+00:00    109.91300   \n",
       "..   ...     ...   ...     ...                       ...          ...   \n",
       "114    6  USDJPY  Sell    1.03 2021-05-21 00:00:00+00:00    108.94500   \n",
       "115    3  EURUSD   Buy    0.86 2021-05-19 00:00:00+00:00      1.21744   \n",
       "116    5  GBPCAD  Sell    0.94 2021-05-21 00:00:00+00:00      1.70726   \n",
       "117    1  GBPCAD   Buy    1.45 2021-05-18 00:00:00+00:00      1.71128   \n",
       "118    2  GBPCAD  Sell    0.58 2021-05-19 00:00:00+00:00      1.71211   \n",
       "\n",
       "                    Exit Time  Exit Price      Profit       Margin       Fee  \\\n",
       "0   2021-09-03 00:00:00+00:00   109.71200 -248.970123  1120.000000  0.018884   \n",
       "1   2021-09-03 00:00:00+00:00     1.18772   -4.355531   284.985600  0.000461   \n",
       "2   2021-09-03 00:00:00+00:00   109.71200  520.155098  1940.000000  0.018839   \n",
       "3   2021-09-03 00:00:00+00:00     1.73626   -1.784594   289.122162  0.001126   \n",
       "4   2021-09-01 00:00:00+00:00   110.02500 -258.362674  2240.000000  0.014903   \n",
       "..                        ...         ...         ...          ...       ...   \n",
       "114 2021-05-24 00:00:00+00:00   108.74000  173.893295  1030.000000  0.021416   \n",
       "115 2021-05-24 00:00:00+00:00     1.22150  352.419311  1046.998400 -0.000038   \n",
       "116 2021-05-24 00:00:00+00:00     1.70440  174.119943  1330.148695  0.000629   \n",
       "117 2021-05-24 00:00:00+00:00     1.70440 -961.496723  2056.809874  0.001105   \n",
       "118 2021-05-21 00:00:00+00:00     1.70726  219.514676   818.590377  0.000284   \n",
       "\n",
       "     Closed  \n",
       "0     False  \n",
       "1     False  \n",
       "2     False  \n",
       "3     False  \n",
       "4      True  \n",
       "..      ...  \n",
       "114    True  \n",
       "115    True  \n",
       "116    True  \n",
       "117    True  \n",
       "118    True  \n",
       "\n",
       "[119 rows x 12 columns]"
      ]
     },
     "metadata": {},
     "execution_count": 8
    }
   ],
   "metadata": {}
  },
  {
   "cell_type": "markdown",
   "source": [
    "#### Render in *simple_figure* mode\n",
    "\n",
    "* Each *symbol* is illustrated with a separate color.\n",
    "* The **green**/**red** triangles show successful **buy**/**sell** actions.\n",
    "* The **gray** triangles indicate that the **buy**/**sell** action has encountered an **error**.\n",
    "* The **black** vertical bars specify **close** actions."
   ],
   "metadata": {}
  },
  {
   "cell_type": "code",
   "execution_count": 9,
   "source": [
    "env.render('simple_figure')"
   ],
   "outputs": [
    {
     "output_type": "display_data",
     "data": {
      "image/png": "[encoded data removed]",
      "text/plain": [
       "<Figure size 1008x432 with 3 Axes>"
      ]
     },
     "metadata": {}
    }
   ],
   "metadata": {}
  },
  {
   "cell_type": "markdown",
   "source": [
    "#### Render in *advanced_figure* mode\n",
    "\n",
    "* Clicking on a symbol name will hide/show its plot.\n",
    "* Hovering over points and markers will display their detail.\n",
    "* The size of triangles indicates their relative volume."
   ],
   "metadata": {}
  },
  {
   "cell_type": "code",
   "execution_count": 10,
   "source": [
    "env.render('advanced_figure', time_format=\"%Y-%m-%d\")"
   ],
   "outputs": [
    {
     "output_type": "display_data",
     "data": {
      "application/vnd.plotly.v1+json": {
       "config": {
        "plotlyServerURL": "https://plot.ly"
       },
       "data": [
        {
         "hovertext": [
          "balance: 10000.000000 USD<br>equity: 10000.000000<br>margin: 0.000000<br>free margin: 10000.000000<br>margin level: inf",
          "balance: 10000.000000 USD<br>equity: 10000.000000<br>margin: 0.000000<br>free margin: 10000.000000<br>margin level: inf",
          "balance: 10000.000000 USD<br>equity: 10000.000000<br>margin: 0.000000<br>free margin: 10000.000000<br>margin level: inf",
          "balance: 10000.000000 USD<br>equity: 10000.000000<br>margin: 0.000000<br>free margin: 10000.000000<br>margin level: inf",
          "balance: 10000.000000 USD<br>equity: 10000.000000<br>margin: 0.000000<br>free margin: 10000.000000<br>margin level: inf",
          "balance: 10000.000000 USD<br>equity: 10000.000000<br>margin: 0.000000<br>free margin: 10000.000000<br>margin level: inf",
          "balance: 10000.000000 USD<br>equity: 10000.000000<br>margin: 0.000000<br>free margin: 10000.000000<br>margin level: inf",
          "balance: 10000.000000 USD<br>equity: 10000.000000<br>margin: 0.000000<br>free margin: 10000.000000<br>margin level: inf",
          "balance: 10000.000000 USD<br>equity: 10000.000000<br>margin: 0.000000<br>free margin: 10000.000000<br>margin level: inf",
          "balance: 10000.000000 USD<br>equity: 10000.000000<br>margin: 0.000000<br>free margin: 10000.000000<br>margin level: inf",
          "balance: 10000.000000 USD<br>equity: 9967.129612<br>margin: 2056.809874<br>free margin: 7910.319738<br>margin level: 4.845917",
          "balance: 10000.000000 USD<br>equity: 10306.323456<br>margin: 3922.398651<br>free margin: 6383.924805<br>margin level: 2.627556",
          "balance: 10000.000000 USD<br>equity: 9715.622718<br>margin: 4302.398651<br>free margin: 5413.224068<br>margin level: 2.258187",
          "balance: 10219.514676 USD<br>equity: 9942.379328<br>margin: 5843.956968<br>free margin: 4098.422359<br>margin level: 1.701309",
          "balance: 9958.450502 USD<br>equity: 9869.296113<br>margin: 624.300000<br>free margin: 9244.996113<br>margin level: 15.808579",
          "balance: 9869.296113 USD<br>equity: 11000.889934<br>margin: 3947.869925<br>free margin: 7053.020009<br>margin level: 2.786538",
          "balance: 9869.296113 USD<br>equity: 10842.021935<br>margin: 3947.869925<br>free margin: 6894.152010<br>margin level: 2.746297",
          "balance: 9869.296113 USD<br>equity: 10897.322429<br>margin: 7990.723080<br>free margin: 2906.599348<br>margin level: 1.363747",
          "balance: 10897.322429 USD<br>equity: 10865.642857<br>margin: 811.965887<br>free margin: 10053.676970<br>margin level: 13.381896",
          "balance: 10865.642857 USD<br>equity: 11001.422092<br>margin: 1046.926932<br>free margin: 9954.495160<br>margin level: 10.508300",
          "balance: 10867.319427 USD<br>equity: 10993.202319<br>margin: 2214.239325<br>free margin: 8778.962993<br>margin level: 4.964776",
          "balance: 10826.634054 USD<br>equity: 10817.280751<br>margin: 623.955725<br>free margin: 10193.325026<br>margin level: 17.336616",
          "balance: 10933.519868 USD<br>equity: 12128.606320<br>margin: 1950.000000<br>free margin: 10178.606320<br>margin level: 6.219798",
          "balance: 10933.519868 USD<br>equity: 12672.257260<br>margin: 2190.795782<br>free margin: 10481.461478<br>margin level: 5.784317",
          "balance: 12628.063708 USD<br>equity: 12436.425390<br>margin: 1420.172800<br>free margin: 11016.252590<br>margin level: 8.756980",
          "balance: 12451.947247 USD<br>equity: 12732.767717<br>margin: 1969.577732<br>free margin: 10763.189985<br>margin level: 6.464720",
          "balance: 12420.634811 USD<br>equity: 12316.898831<br>margin: 3365.248164<br>free margin: 8951.650667<br>margin level: 3.660027",
          "balance: 12447.530513 USD<br>equity: 10420.891503<br>margin: 4435.166832<br>free margin: 5985.724671<br>margin level: 2.349605",
          "balance: 11725.063453 USD<br>equity: 10592.824512<br>margin: 4423.050041<br>free margin: 6169.774472<br>margin level: 2.394914",
          "balance: 11689.759372 USD<br>equity: 10806.031282<br>margin: 3523.534419<br>free margin: 7282.496863<br>margin level: 3.066816",
          "balance: 11704.544314 USD<br>equity: 9268.241107<br>margin: 4166.108569<br>free margin: 5102.132539<br>margin level: 2.224676",
          "balance: 11753.294062 USD<br>equity: 9322.742657<br>margin: 5543.372431<br>free margin: 3779.370226<br>margin level: 1.681782",
          "balance: 7970.962503 USD<br>equity: 10331.747248<br>margin: 4665.914509<br>free margin: 5665.832740<br>margin level: 2.214303",
          "balance: 7962.583387 USD<br>equity: 9209.432391<br>margin: 3755.914509<br>free margin: 5453.517882<br>margin level: 2.451981",
          "balance: 9209.432391 USD<br>equity: 10121.681262<br>margin: 3021.151139<br>free margin: 7100.530123<br>margin level: 3.350273",
          "balance: 10121.681262 USD<br>equity: 10150.819436<br>margin: 120.000000<br>free margin: 10030.819436<br>margin level: 84.590162",
          "balance: 10121.681262 USD<br>equity: 10104.124698<br>margin: 1068.586800<br>free margin: 9035.537898<br>margin level: 9.455596",
          "balance: 10142.721824 USD<br>equity: 10399.285645<br>margin: 1714.025226<br>free margin: 8685.260419<br>margin level: 6.067172",
          "balance: 10344.416009 USD<br>equity: 10642.419913<br>margin: 2768.419490<br>free margin: 7874.000423<br>margin level: 3.844222",
          "balance: 10300.947870 USD<br>equity: 10827.856320<br>margin: 4837.351086<br>free margin: 5990.505234<br>margin level: 2.238385",
          "balance: 11044.217712 USD<br>equity: 10723.945626<br>margin: 2148.931597<br>free margin: 8575.014029<br>margin level: 4.990362",
          "balance: 10982.637245 USD<br>equity: 11107.746810<br>margin: 1748.931597<br>free margin: 9358.815214<br>margin level: 6.351161",
          "balance: 11107.746810 USD<br>equity: 11073.917343<br>margin: 1610.364762<br>free margin: 9463.552581<br>margin level: 6.876652",
          "balance: 10755.992714 USD<br>equity: 11099.209915<br>margin: 955.427400<br>free margin: 10143.782515<br>margin level: 11.617010",
          "balance: 10742.961900 USD<br>equity: 11240.801864<br>margin: 1438.156758<br>free margin: 9802.645106<br>margin level: 7.816117",
          "balance: 11332.655347 USD<br>equity: 10759.055478<br>margin: 4358.006225<br>free margin: 6401.049253<br>margin level: 2.468802",
          "balance: 11042.662409 USD<br>equity: 10581.349403<br>margin: 1989.849467<br>free margin: 8591.499935<br>margin level: 5.317663",
          "balance: 10581.349403 USD<br>equity: 10134.570310<br>margin: 1846.354323<br>free margin: 8288.215987<br>margin level: 5.488963",
          "balance: 10581.349403 USD<br>equity: 10320.936349<br>margin: 2981.527123<br>free margin: 7339.409226<br>margin level: 3.461628",
          "balance: 10447.523008 USD<br>equity: 9715.416349<br>margin: 855.172800<br>free margin: 8860.243549<br>margin level: 11.360764",
          "balance: 9715.416349 USD<br>equity: 9825.384919<br>margin: 208.424000<br>free margin: 9616.960919<br>margin level: 47.141332",
          "balance: 9813.384330 USD<br>equity: 9725.879795<br>margin: 213.894023<br>free margin: 9511.985772<br>margin level: 45.470554",
          "balance: 9725.879795 USD<br>equity: 9305.246598<br>margin: 2528.990263<br>free margin: 6776.256336<br>margin level: 3.679432",
          "balance: 9305.246598 USD<br>equity: 8890.649496<br>margin: 1101.226075<br>free margin: 7789.423422<br>margin level: 8.073410",
          "balance: 9305.246598 USD<br>equity: 8192.927691<br>margin: 2837.459383<br>free margin: 5355.468308<br>margin level: 2.887417",
          "balance: 8192.927691 USD<br>equity: 9009.922717<br>margin: 2738.304980<br>free margin: 6271.617737<br>margin level: 3.290328",
          "balance: 9009.922717 USD<br>equity: 8739.008465<br>margin: 799.559404<br>free margin: 7939.449061<br>margin level: 10.929780",
          "balance: 8716.529272 USD<br>equity: 8669.858646<br>margin: 2513.280300<br>free margin: 6156.578346<br>margin level: 3.449619",
          "balance: 8707.573674 USD<br>equity: 9243.268649<br>margin: 1913.940449<br>free margin: 7329.328200<br>margin level: 4.829444",
          "balance: 9143.109052 USD<br>equity: 11047.974902<br>margin: 3037.687575<br>free margin: 8010.287327<br>margin level: 3.636969",
          "balance: 11015.538107 USD<br>equity: 11380.942222<br>margin: 2543.575522<br>free margin: 8837.366700<br>margin level: 4.474387",
          "balance: 10805.308966 USD<br>equity: 11694.454459<br>margin: 1376.365022<br>free margin: 10318.089438<br>margin level: 8.496623",
          "balance: 10865.606005 USD<br>equity: 12052.397562<br>margin: 4316.334022<br>free margin: 7736.063541<br>margin level: 2.792276",
          "balance: 11953.791359 USD<br>equity: 11467.364362<br>margin: 3139.969000<br>free margin: 8327.395362<br>margin level: 3.652063",
          "balance: 11953.791359 USD<br>equity: 10762.978867<br>margin: 6156.345832<br>free margin: 4606.633035<br>margin level: 1.748274",
          "balance: 12094.045416 USD<br>equity: 11491.752200<br>margin: 5208.746169<br>free margin: 6283.006032<br>margin level: 2.206242",
          "balance: 11596.592965 USD<br>equity: 12121.772439<br>margin: 3557.275069<br>free margin: 8564.497371<br>margin level: 3.407601",
          "balance: 11392.782975 USD<br>equity: 12607.068975<br>margin: 3742.875037<br>free margin: 8864.193938<br>margin level: 3.368285",
          "balance: 11501.411770 USD<br>equity: 12687.890138<br>margin: 3293.804577<br>free margin: 9394.085561<br>margin level: 3.852047",
          "balance: 12762.423471 USD<br>equity: 12928.022569<br>margin: 3814.301977<br>free margin: 9113.720592<br>margin level: 3.389355",
          "balance: 12587.439590 USD<br>equity: 13016.762380<br>margin: 2890.151240<br>free margin: 10126.611140<br>margin level: 4.503834",
          "balance: 13095.452931 USD<br>equity: 12883.337721<br>margin: 1597.581018<br>free margin: 11285.756704<br>margin level: 8.064278",
          "balance: 13074.882095 USD<br>equity: 11853.562095<br>margin: 3917.818598<br>free margin: 7935.743497<br>margin level: 3.025552",
          "balance: 12079.399897 USD<br>equity: 11550.734285<br>margin: 3037.995597<br>free margin: 8512.738688<br>margin level: 3.802091",
          "balance: 11875.309346 USD<br>equity: 10707.752835<br>margin: 3201.225697<br>free margin: 7506.527138<br>margin level: 3.344892",
          "balance: 12049.075101 USD<br>equity: 10747.172835<br>margin: 1722.245200<br>free margin: 9024.927635<br>margin level: 6.240211",
          "balance: 12049.075101 USD<br>equity: 10206.057072<br>margin: 2992.245200<br>free margin: 7213.811872<br>margin level: 3.410836",
          "balance: 10233.252835 USD<br>equity: 10190.321859<br>margin: 1550.214400<br>free margin: 8640.107459<br>margin level: 6.573492",
          "balance: 10247.705712 USD<br>equity: 10280.709775<br>margin: 1013.297200<br>free margin: 9267.412575<br>margin level: 10.145799",
          "balance: 10097.280264 USD<br>equity: 10301.898202<br>margin: 890.690900<br>free margin: 9411.207302<br>margin level: 11.566188",
          "balance: 10301.898202 USD<br>equity: 9786.082561<br>margin: 2256.940818<br>free margin: 7529.141743<br>margin level: 4.335994",
          "balance: 10301.898202 USD<br>equity: 9626.954427<br>margin: 5806.692818<br>free margin: 3820.261608<br>margin level: 1.657907",
          "balance: 9463.519709 USD<br>equity: 9455.560882<br>margin: 3528.049569<br>free margin: 5927.511313<br>margin level: 2.680110",
          "balance: 9463.519709 USD<br>equity: 9732.390026<br>margin: 3761.921030<br>free margin: 5970.468995<br>margin level: 2.587080",
          "balance: 9539.821802 USD<br>equity: 9451.496531<br>margin: 6237.119630<br>free margin: 3214.376901<br>margin level: 1.515362",
          "balance: 9673.249267 USD<br>equity: 9376.891775<br>margin: 3800.952373<br>free margin: 5575.939402<br>margin level: 2.466985",
          "balance: 9376.891775 USD<br>equity: 9501.003563<br>margin: 2229.122162<br>free margin: 7271.881401<br>margin level: 4.262218",
          "balance: 9376.891775 USD<br>equity: 9641.936625<br>margin: 3634.107762<br>free margin: 6007.828863<br>margin level: 2.653179"
         ],
         "legendgroup": "g1",
         "line": {
          "color": "rgba(0.12156862745098039, 0.4666666666666667, 0.7058823529411765, 1.0)"
         },
         "mode": "lines+markers",
         "name": "GBPCAD",
         "opacity": 1,
         "type": "scatter",
         "x": [
          "2021-05-05T00:00:00+00:00",
          "2021-05-06T00:00:00+00:00",
          "2021-05-07T00:00:00+00:00",
          "2021-05-10T00:00:00+00:00",
          "2021-05-11T00:00:00+00:00",
          "2021-05-12T00:00:00+00:00",
          "2021-05-13T00:00:00+00:00",
          "2021-05-14T00:00:00+00:00",
          "2021-05-17T00:00:00+00:00",
          "2021-05-18T00:00:00+00:00",
          "2021-05-19T00:00:00+00:00",
          "2021-05-20T00:00:00+00:00",
          "2021-05-21T00:00:00+00:00",
          "2021-05-24T00:00:00+00:00",
          "2021-05-25T00:00:00+00:00",
          "2021-05-26T00:00:00+00:00",
          "2021-05-27T00:00:00+00:00",
          "2021-05-28T00:00:00+00:00",
          "2021-05-31T00:00:00+00:00",
          "2021-06-01T00:00:00+00:00",
          "2021-06-02T00:00:00+00:00",
          "2021-06-03T00:00:00+00:00",
          "2021-06-04T00:00:00+00:00",
          "2021-06-07T00:00:00+00:00",
          "2021-06-08T00:00:00+00:00",
          "2021-06-09T00:00:00+00:00",
          "2021-06-10T00:00:00+00:00",
          "2021-06-11T00:00:00+00:00",
          "2021-06-14T00:00:00+00:00",
          "2021-06-15T00:00:00+00:00",
          "2021-06-16T00:00:00+00:00",
          "2021-06-17T00:00:00+00:00",
          "2021-06-18T00:00:00+00:00",
          "2021-06-21T00:00:00+00:00",
          "2021-06-22T00:00:00+00:00",
          "2021-06-23T00:00:00+00:00",
          "2021-06-24T00:00:00+00:00",
          "2021-06-25T00:00:00+00:00",
          "2021-06-28T00:00:00+00:00",
          "2021-06-29T00:00:00+00:00",
          "2021-06-30T00:00:00+00:00",
          "2021-07-01T00:00:00+00:00",
          "2021-07-02T00:00:00+00:00",
          "2021-07-05T00:00:00+00:00",
          "2021-07-06T00:00:00+00:00",
          "2021-07-07T00:00:00+00:00",
          "2021-07-08T00:00:00+00:00",
          "2021-07-09T00:00:00+00:00",
          "2021-07-12T00:00:00+00:00",
          "2021-07-13T00:00:00+00:00",
          "2021-07-14T00:00:00+00:00",
          "2021-07-15T00:00:00+00:00",
          "2021-07-16T00:00:00+00:00",
          "2021-07-19T00:00:00+00:00",
          "2021-07-20T00:00:00+00:00",
          "2021-07-21T00:00:00+00:00",
          "2021-07-22T00:00:00+00:00",
          "2021-07-23T00:00:00+00:00",
          "2021-07-26T00:00:00+00:00",
          "2021-07-27T00:00:00+00:00",
          "2021-07-28T00:00:00+00:00",
          "2021-07-29T00:00:00+00:00",
          "2021-07-30T00:00:00+00:00",
          "2021-08-02T00:00:00+00:00",
          "2021-08-03T00:00:00+00:00",
          "2021-08-04T00:00:00+00:00",
          "2021-08-05T00:00:00+00:00",
          "2021-08-06T00:00:00+00:00",
          "2021-08-09T00:00:00+00:00",
          "2021-08-10T00:00:00+00:00",
          "2021-08-11T00:00:00+00:00",
          "2021-08-12T00:00:00+00:00",
          "2021-08-13T00:00:00+00:00",
          "2021-08-16T00:00:00+00:00",
          "2021-08-17T00:00:00+00:00",
          "2021-08-18T00:00:00+00:00",
          "2021-08-19T00:00:00+00:00",
          "2021-08-20T00:00:00+00:00",
          "2021-08-23T00:00:00+00:00",
          "2021-08-24T00:00:00+00:00",
          "2021-08-25T00:00:00+00:00",
          "2021-08-26T00:00:00+00:00",
          "2021-08-27T00:00:00+00:00",
          "2021-08-30T00:00:00+00:00",
          "2021-08-31T00:00:00+00:00",
          "2021-09-01T00:00:00+00:00",
          "2021-09-02T00:00:00+00:00",
          "2021-09-03T00:00:00+00:00"
         ],
         "y": [
          1.70525,
          1.68648,
          1.69619,
          1.7070699999999999,
          1.71108,
          1.70468,
          1.7082899999999999,
          1.70635,
          1.7059199999999999,
          1.71128,
          1.71211,
          1.7107,
          1.70726,
          1.7044000000000001,
          1.7066,
          1.71089,
          1.71345,
          1.71356,
          1.7132399999999999,
          1.70755,
          1.70462,
          1.7068400000000001,
          1.70999,
          1.71255,
          1.7139199999999999,
          1.70927,
          1.71433,
          1.71691,
          1.71341,
          1.71492,
          1.71638,
          1.71949,
          1.72017,
          1.72173,
          1.7158099999999998,
          1.7177,
          1.7149299999999998,
          1.70721,
          1.71244,
          1.71535,
          1.71437,
          1.71059,
          1.70511,
          1.70716,
          1.71879,
          1.72167,
          1.72692,
          1.7307000000000001,
          1.72832,
          1.72767,
          1.73236,
          1.7407,
          1.73684,
          1.74244,
          1.7273800000000001,
          1.72183,
          1.72851,
          1.72728,
          1.73336,
          1.7481900000000001,
          1.7405300000000001,
          1.73688,
          1.73335,
          1.73577,
          1.7441499999999999,
          1.7412999999999998,
          1.7408299999999999,
          1.7419799999999999,
          1.7408000000000001,
          1.7316500000000001,
          1.73282,
          1.72889,
          1.7357200000000002,
          1.7402199999999999,
          1.7349700000000001,
          1.74061,
          1.74874,
          1.7468,
          1.73506,
          1.72784,
          1.73259,
          1.7377,
          1.7353399999999999,
          1.7338900000000002,
          1.73501,
          1.7372800000000002,
          1.73603,
          1.7362600000000001
         ],
         "yaxis": "y"
        },
        {
         "hovertext": [
          "order id: 1<br>hold probability: 0.2665<br>hold: False<br>volume: 1.448659<br>modified volume: 1.4500<br>fee: 0.0011049981975435968<br>error: ",
          "order id: 2<br>hold probability: 0.2351<br>hold: False<br>volume: -0.584266<br>modified volume: 0.5800<br>fee: 0.00028371627204614325<br>error: ",
          "order id: 5<br>hold probability: 0.1513<br>hold: False<br>volume: -0.937294<br>modified volume: 0.9400<br>fee: 0.0006294309081708571<br>error: ",
          "order id: 8<br>hold probability: 0.4976<br>hold: False<br>volume: -0.596804<br>modified volume: 0.6000<br>fee: 0.00103061300810558<br>error: ",
          "order id: 10<br>hold probability: 0.4321<br>hold: False<br>volume: -0.675534<br>modified volume: 0.6800<br>fee: 0.001388412583482563<br>error: ",
          "order id: 13<br>hold probability: 0.4586<br>hold: False<br>volume: 0.531054<br>modified volume: 0.5300<br>fee: 0.0007643165589355698<br>error: ",
          "order id: 15<br>hold probability: 0.3493<br>hold: False<br>volume: -0.219208<br>modified volume: 0.2200<br>fee: 0.0009184100717505768<br>error: ",
          "order id: 18<br>hold probability: 0.4169<br>hold: False<br>volume: -0.103397<br>modified volume: 0.1000<br>fee: -0.00016849548541047294<br>error: ",
          "order id: 22<br>hold probability: 0.2547<br>hold: False<br>volume: 0.172547<br>modified volume: 0.1700<br>fee: 0.0004295187331980536<br>error: ",
          "order id: 25<br>hold probability: 0.2481<br>hold: False<br>volume: -1.056739<br>modified volume: 1.0600<br>fee: 0.00091445486652293<br>error: ",
          "order id: 27<br>hold probability: 0.2688<br>hold: False<br>volume: -0.006625<br>modified volume: 0.0100<br>fee: 0.0005860565834393077<br>error: ",
          "order id: 30<br>hold probability: 0.3545<br>hold: False<br>volume: 0.875323<br>modified volume: 0.8800<br>fee: 0.0009437508287190816<br>error: ",
          "order id: 31<br>hold probability: 0.1962<br>hold: False<br>volume: 0.268145<br>modified volume: 0.2700<br>fee: 0.000559628272596841<br>error: ",
          "order id: 33<br>hold probability: 0.2144<br>hold: False<br>volume: 0.716335<br>modified volume: 0.7200<br>fee: 0.0006288438774250526<br>error: ",
          "order id: 35<br>hold probability: 0.4307<br>hold: False<br>volume: 0.183262<br>modified volume: 0.1800<br>fee: 0.0008409081798303379<br>error: ",
          "order id: 40<br>hold probability: 0.1589<br>hold: False<br>volume: -2.085654<br>modified volume: 2.0900<br>fee: 0.0007383986721312127<br>error: ",
          "order id: 45<br>hold probability: 0.4967<br>hold: False<br>volume: -0.546202<br>modified volume: 0.5500<br>fee: 0.0013297099186934196<br>error: ",
          "order id: 46<br>hold probability: 0.3325<br>hold: False<br>volume: 0.104222<br>modified volume: 0.1000<br>fee: -7.438723604693707e-05<br>error: ",
          "order id: 49<br>hold probability: 0.2372<br>hold: False<br>volume: -1.256583<br>modified volume: 1.2600<br>fee: 0.0006152380976208285<br>error: ",
          "order id: 51<br>hold probability: 0.4258<br>hold: False<br>volume: 0.637952<br>modified volume: 0.6400<br>fee: 0.0012953334971763173<br>error: ",
          "order id: 54<br>hold probability: 0.0688<br>hold: False<br>volume: -0.233544<br>modified volume: 0.2300<br>fee: -0.000283028992947351<br>error: ",
          "order id: 56<br>hold probability: 0.1610<br>hold: False<br>volume: -1.162677<br>modified volume: 1.1600<br>fee: 0.001444035897929682<br>error: ",
          "order id: 58<br>hold probability: 0.4762<br>hold: False<br>volume: -1.343355<br>modified volume: 1.3400<br>fee: 0.0003714779946521024<br>error: ",
          "order id: 63<br>hold probability: 0.2971<br>hold: False<br>volume: -0.137909<br>modified volume: 0.1400<br>fee: 0.0008067918969592644<br>error: ",
          "order id: 64<br>hold probability: 0.1228<br>hold: False<br>volume: 0.767236<br>modified volume: 0.7700<br>fee: 0.001020627240526181<br>error: ",
          "order id: 66<br>hold probability: 0.2293<br>hold: False<br>volume: -0.796430<br>modified volume: 0.8000<br>fee: 0.0010052573801134313<br>error: ",
          "order id: 67<br>hold probability: 0.1365<br>hold: False<br>volume: 1.269887<br>modified volume: 1.2700<br>fee: 0.0013710564456851184<br>error: ",
          "order id: 68<br>hold probability: 0.1347<br>hold: False<br>volume: -2.008074<br>modified volume: 2.0100<br>fee: 0.0004447972458612168<br>error: ",
          "order id: 69<br>hold probability: 0.0859<br>hold: False<br>volume: -0.484497<br>modified volume: 0.4800<br>fee: 0.0009973118492719326<br>error: ",
          "order id: 73<br>hold probability: 0.4305<br>hold: False<br>volume: 0.959992<br>modified volume: 0.9600<br>fee: 0.000387870192863215<br>error: ",
          "order id: 75<br>hold probability: 0.4738<br>hold: False<br>volume: 0.898340<br>modified volume: 0.9000<br>fee: 0.00014310572244212298<br>error: ",
          "order id: 77<br>hold probability: 0.1729<br>hold: False<br>volume: -0.915018<br>modified volume: 0.9200<br>fee: 9.757234231209575e-05<br>error: ",
          "order id: 83<br>hold probability: 0.2408<br>hold: False<br>volume: -0.477257<br>modified volume: 0.4800<br>fee: 0.0002469573717134185<br>error: ",
          "order id: 85<br>hold probability: 0.0521<br>hold: False<br>volume: 0.357725<br>modified volume: 0.3600<br>fee: 0.0004517268951742814<br>error: ",
          "order id: 89<br>hold probability: 0.3021<br>hold: False<br>volume: -0.731972<br>modified volume: 0.7300<br>fee: 0.0005893340695665773<br>error: ",
          "order id: None<br>hold probability: 0.3952<br>hold: False<br>volume: 1.303394<br>modified volume: 1.3000<br>fee: None<br>error: cannot add more orders",
          "order id: 93<br>hold probability: 0.3483<br>hold: False<br>volume: 0.341523<br>modified volume: 0.3400<br>fee: 0.0013441017472263124<br>error: ",
          "order id: 95<br>hold probability: 0.4405<br>hold: False<br>volume: -0.788096<br>modified volume: 0.7900<br>fee: 0.0012106376405142069<br>error: ",
          "order id: 98<br>hold probability: 0.3780<br>hold: False<br>volume: -0.326556<br>modified volume: 0.3300<br>fee: 0.00121647870930092<br>error: ",
          "order id: None<br>hold probability: 0.2289<br>hold: False<br>volume: 0.439847<br>modified volume: 0.4400<br>fee: None<br>error: cannot add more orders",
          "order id: 106<br>hold probability: 0.4859<br>hold: False<br>volume: -1.356169<br>modified volume: 1.3600<br>fee: 0.0010915123258611883<br>error: ",
          "order id: 110<br>hold probability: 0.2967<br>hold: False<br>volume: -1.593098<br>modified volume: 1.5900<br>fee: 0.0014702704668321726<br>error: ",
          "order id: 111<br>hold probability: 0.4913<br>hold: False<br>volume: -0.170330<br>modified volume: 0.1700<br>fee: 0.00023297660818151294<br>error: ",
          "order id: None<br>hold probability: 0.3598<br>hold: False<br>volume: -1.528942<br>modified volume: 1.5300<br>fee: None<br>error: cannot add more orders",
          "order id: 114<br>hold probability: 0.2063<br>hold: False<br>volume: -0.737651<br>modified volume: 0.7400<br>fee: 0.0005562500770845513<br>error: ",
          "order id: 116<br>hold probability: 0.2100<br>hold: False<br>volume: -0.206782<br>modified volume: 0.2100<br>fee: 0.0011264663533275899<br>error: "
         ],
         "legendgroup": "g1",
         "marker": {
          "color": [
           "green",
           "red",
           "red",
           "red",
           "red",
           "green",
           "red",
           "red",
           "green",
           "red",
           "red",
           "green",
           "green",
           "green",
           "green",
           "red",
           "red",
           "green",
           "red",
           "green",
           "red",
           "red",
           "red",
           "red",
           "green",
           "red",
           "green",
           "red",
           "red",
           "green",
           "green",
           "red",
           "red",
           "green",
           "red",
           "gray",
           "green",
           "red",
           "red",
           "gray",
           "red",
           "red",
           "red",
           "gray",
           "red",
           "red"
          ],
          "size": [
           23.263157894736842,
           14.105263157894736,
           17.894736842105267,
           14.31578947368421,
           15.157894736842106,
           13.578947368421055,
           10.31578947368421,
           9.052631578947368,
           9.789473684210527,
           19.15789473684211,
           8.105263157894736,
           17.263157894736842,
           10.842105263157894,
           15.578947368421053,
           9.894736842105264,
           30,
           13.789473684210527,
           9.052631578947368,
           21.263157894736842,
           14.73684210526316,
           10.421052631578949,
           20.210526315789473,
           22.10526315789474,
           9.473684210526317,
           16.10526315789474,
           16.42105263157895,
           21.368421052631582,
           29.15789473684211,
           13.052631578947368,
           18.105263157894736,
           17.473684210526315,
           17.68421052631579,
           13.052631578947368,
           11.789473684210527,
           15.68421052631579,
           21.684210526315788,
           11.578947368421053,
           16.315789473684212,
           11.473684210526317,
           12.631578947368421,
           22.315789473684212,
           24.73684210526316,
           9.789473684210527,
           24.105263157894736,
           15.789473684210527,
           10.210526315789473
          ],
          "symbol": [
           "triangle-up",
           "triangle-down",
           "triangle-down",
           "triangle-down",
           "triangle-down",
           "triangle-up",
           "triangle-down",
           "triangle-down",
           "triangle-up",
           "triangle-down",
           "triangle-down",
           "triangle-up",
           "triangle-up",
           "triangle-up",
           "triangle-up",
           "triangle-down",
           "triangle-down",
           "triangle-up",
           "triangle-down",
           "triangle-up",
           "triangle-down",
           "triangle-down",
           "triangle-down",
           "triangle-down",
           "triangle-up",
           "triangle-down",
           "triangle-up",
           "triangle-down",
           "triangle-down",
           "triangle-up",
           "triangle-up",
           "triangle-down",
           "triangle-down",
           "triangle-up",
           "triangle-down",
           "triangle-down",
           "triangle-up",
           "triangle-down",
           "triangle-down",
           "triangle-down",
           "triangle-down",
           "triangle-down",
           "triangle-down",
           "triangle-down",
           "triangle-down",
           "triangle-down"
          ]
         },
         "mode": "markers",
         "name": "GBPCAD",
         "showlegend": false,
         "type": "scatter",
         "x": [
          "2021-05-18T00:00:00+00:00",
          "2021-05-19T00:00:00+00:00",
          "2021-05-21T00:00:00+00:00",
          "2021-05-25T00:00:00+00:00",
          "2021-05-27T00:00:00+00:00",
          "2021-05-28T00:00:00+00:00",
          "2021-05-31T00:00:00+00:00",
          "2021-06-01T00:00:00+00:00",
          "2021-06-04T00:00:00+00:00",
          "2021-06-08T00:00:00+00:00",
          "2021-06-09T00:00:00+00:00",
          "2021-06-11T00:00:00+00:00",
          "2021-06-14T00:00:00+00:00",
          "2021-06-15T00:00:00+00:00",
          "2021-06-16T00:00:00+00:00",
          "2021-06-21T00:00:00+00:00",
          "2021-06-24T00:00:00+00:00",
          "2021-06-25T00:00:00+00:00",
          "2021-06-28T00:00:00+00:00",
          "2021-07-01T00:00:00+00:00",
          "2021-07-05T00:00:00+00:00",
          "2021-07-06T00:00:00+00:00",
          "2021-07-08T00:00:00+00:00",
          "2021-07-14T00:00:00+00:00",
          "2021-07-15T00:00:00+00:00",
          "2021-07-16T00:00:00+00:00",
          "2021-07-19T00:00:00+00:00",
          "2021-07-20T00:00:00+00:00",
          "2021-07-21T00:00:00+00:00",
          "2021-07-23T00:00:00+00:00",
          "2021-07-26T00:00:00+00:00",
          "2021-07-27T00:00:00+00:00",
          "2021-08-02T00:00:00+00:00",
          "2021-08-03T00:00:00+00:00",
          "2021-08-06T00:00:00+00:00",
          "2021-08-09T00:00:00+00:00",
          "2021-08-11T00:00:00+00:00",
          "2021-08-12T00:00:00+00:00",
          "2021-08-13T00:00:00+00:00",
          "2021-08-16T00:00:00+00:00",
          "2021-08-24T00:00:00+00:00",
          "2021-08-26T00:00:00+00:00",
          "2021-08-27T00:00:00+00:00",
          "2021-08-30T00:00:00+00:00",
          "2021-08-31T00:00:00+00:00",
          "2021-09-01T00:00:00+00:00"
         ],
         "y": [
          1.71128,
          1.71211,
          1.70726,
          1.7066,
          1.71345,
          1.71356,
          1.7132399999999999,
          1.70755,
          1.70999,
          1.7139199999999999,
          1.70927,
          1.71691,
          1.71341,
          1.71492,
          1.71638,
          1.72173,
          1.7149299999999998,
          1.70721,
          1.71244,
          1.71059,
          1.70716,
          1.71879,
          1.72692,
          1.73236,
          1.7407,
          1.73684,
          1.74244,
          1.7273800000000001,
          1.72183,
          1.72728,
          1.73336,
          1.7481900000000001,
          1.73577,
          1.7441499999999999,
          1.7419799999999999,
          1.7408000000000001,
          1.73282,
          1.72889,
          1.7357200000000002,
          1.7402199999999999,
          1.72784,
          1.7377,
          1.7353399999999999,
          1.7338900000000002,
          1.73501,
          1.7372800000000002
         ],
         "yaxis": "y"
        },
        {
         "hovertext": [
          "order id: 2<br>order type: Sell<br>close probability: 0.6864<br>profit: 219.514676",
          "order id: 1<br>order type: Buy<br>close probability: 0.5452<br>profit: -961.496723<br>---------------------------------<br>order id: 5<br>order type: Sell<br>close probability: 0.5685<br>profit: 174.119943",
          "order id: 8<br>order type: Sell<br>close probability: 0.8703<br>profit: -396.966906<br>---------------------------------<br>order id: 10<br>order type: Sell<br>close probability: 0.5058<br>profit: -84.365188",
          "order id: 13<br>order type: Buy<br>close probability: 0.8017<br>profit: -47.644090",
          "order id: 15<br>order type: Sell<br>close probability: 0.6227<br>profit: 99.628220<br>---------------------------------<br>order id: 18<br>order type: Sell<br>close probability: 0.5855<br>profit: 7.257594",
          "order id: 22<br>order type: Buy<br>close probability: 0.6167<br>profit: 29.985413",
          "order id: 27<br>order type: Sell<br>close probability: 0.6234<br>profit: -4.668941",
          "order id: 25<br>order type: Sell<br>close probability: 0.6991<br>profit: -35.304080",
          "order id: 31<br>order type: Buy<br>close probability: 0.6792<br>profit: 21.062857",
          "order id: 33<br>order type: Buy<br>close probability: 0.5942<br>profit: 48.749748",
          "order id: 35<br>order type: Buy<br>close probability: 0.5853<br>profit: 33.062414",
          "order id: 30<br>order type: Buy<br>close probability: 0.5397<br>profit: 275.961044",
          "order id: 40<br>order type: Sell<br>close probability: 0.7488<br>profit: 880.121806",
          "order id: 45<br>order type: Sell<br>close probability: 0.6978<br>profit: 285.779530",
          "order id: 46<br>order type: Buy<br>close probability: 0.8236<br>profit: 66.242921",
          "order id: 49<br>order type: Sell<br>close probability: 0.7788<br>profit: 125.109565",
          "order id: 51<br>order type: Buy<br>close probability: 0.5960<br>profit: -351.754096",
          "order id: 54<br>order type: Sell<br>close probability: 0.5962<br>profit: -262.170571",
          "order id: 56<br>order type: Sell<br>close probability: 0.5987<br>profit: -886.117005",
          "order id: 58<br>order type: Sell<br>close probability: 0.5419<br>profit: -190.648257",
          "order id: 63<br>order type: Sell<br>close probability: 0.6268<br>profit: -101.685092",
          "order id: 64<br>order type: Buy<br>close probability: 0.5152<br>profit: -297.846877",
          "order id: 66<br>order type: Sell<br>close probability: 0.5251<br>profit: 533.443282<br>---------------------------------<br>order id: 67<br>order type: Buy<br>close probability: 0.5356<br>profit: -1645.762190",
          "order id: 68<br>order type: Sell<br>close probability: 0.8133<br>profit: 816.995027",
          "order id: 69<br>order type: Sell<br>close probability: 0.7133<br>profit: -293.393445",
          "order id: 73<br>order type: Buy<br>close probability: 0.6076<br>profit: 435.535378",
          "order id: 75<br>order type: Buy<br>close probability: 0.7183<br>profit: 1048.988949",
          "order id: 77<br>order type: Sell<br>close probability: 0.6921<br>profit: 1088.185355",
          "order id: 83<br>order type: Sell<br>close probability: 0.5381<br>profit: -203.809990",
          "order id: 85<br>order type: Buy<br>close probability: 0.6723<br>profit: -372.437670",
          "order id: 89<br>order type: Sell<br>close probability: 0.5420<br>profit: 500.462831",
          "order id: 95<br>order type: Sell<br>close probability: 0.5660<br>profit: -507.595731",
          "order id: 93<br>order type: Buy<br>close probability: 0.5579<br>profit: 21.702023<br>---------------------------------<br>order id: 98<br>order type: Sell<br>close probability: 0.7051<br>profit: -12.192334",
          "order id: 106<br>order type: Sell<br>close probability: 0.8949<br>profit: -1174.110139",
          "order id: 110<br>order type: Sell<br>close probability: 0.7167<br>profit: 153.736451<br>---------------------------------<br>order id: 111<br>order type: Sell<br>close probability: 0.7032<br>profit: 1.307500",
          "order id: 114<br>order type: Sell<br>close probability: 0.6036<br>profit: -165.742763"
         ],
         "legendgroup": "g1",
         "marker": {
          "color": "black",
          "line": {
           "width": 1.5
          },
          "size": 7,
          "symbol": "line-ns"
         },
         "mode": "markers",
         "name": "GBPCAD",
         "showlegend": false,
         "type": "scatter",
         "x": [
          "2021-05-21T00:00:00+00:00",
          "2021-05-24T00:00:00+00:00",
          "2021-05-28T00:00:00+00:00",
          "2021-05-31T00:00:00+00:00",
          "2021-06-03T00:00:00+00:00",
          "2021-06-07T00:00:00+00:00",
          "2021-06-10T00:00:00+00:00",
          "2021-06-14T00:00:00+00:00",
          "2021-06-15T00:00:00+00:00",
          "2021-06-16T00:00:00+00:00",
          "2021-06-17T00:00:00+00:00",
          "2021-06-21T00:00:00+00:00",
          "2021-06-22T00:00:00+00:00",
          "2021-06-25T00:00:00+00:00",
          "2021-06-29T00:00:00+00:00",
          "2021-07-01T00:00:00+00:00",
          "2021-07-02T00:00:00+00:00",
          "2021-07-07T00:00:00+00:00",
          "2021-07-08T00:00:00+00:00",
          "2021-07-12T00:00:00+00:00",
          "2021-07-15T00:00:00+00:00",
          "2021-07-16T00:00:00+00:00",
          "2021-07-20T00:00:00+00:00",
          "2021-07-21T00:00:00+00:00",
          "2021-07-22T00:00:00+00:00",
          "2021-07-26T00:00:00+00:00",
          "2021-07-27T00:00:00+00:00",
          "2021-07-30T00:00:00+00:00",
          "2021-08-05T00:00:00+00:00",
          "2021-08-10T00:00:00+00:00",
          "2021-08-11T00:00:00+00:00",
          "2021-08-13T00:00:00+00:00",
          "2021-08-17T00:00:00+00:00",
          "2021-08-26T00:00:00+00:00",
          "2021-08-31T00:00:00+00:00",
          "2021-09-01T00:00:00+00:00"
         ],
         "y": [
          1.70726,
          1.7044000000000001,
          1.71356,
          1.7132399999999999,
          1.7068400000000001,
          1.71255,
          1.71433,
          1.71341,
          1.71492,
          1.71638,
          1.71949,
          1.72173,
          1.7158099999999998,
          1.70721,
          1.71535,
          1.71059,
          1.70511,
          1.72167,
          1.72692,
          1.72832,
          1.7407,
          1.73684,
          1.7273800000000001,
          1.72183,
          1.72851,
          1.73336,
          1.7481900000000001,
          1.73335,
          1.7408299999999999,
          1.7316500000000001,
          1.73282,
          1.7357200000000002,
          1.7349700000000001,
          1.7377,
          1.73501,
          1.7372800000000002
         ],
         "yaxis": "y"
        },
        {
         "hovertext": [
          "balance: 10000.000000 USD<br>equity: 10000.000000<br>margin: 0.000000<br>free margin: 10000.000000<br>margin level: inf",
          "balance: 10000.000000 USD<br>equity: 10000.000000<br>margin: 0.000000<br>free margin: 10000.000000<br>margin level: inf",
          "balance: 10000.000000 USD<br>equity: 10000.000000<br>margin: 0.000000<br>free margin: 10000.000000<br>margin level: inf",
          "balance: 10000.000000 USD<br>equity: 10000.000000<br>margin: 0.000000<br>free margin: 10000.000000<br>margin level: inf",
          "balance: 10000.000000 USD<br>equity: 10000.000000<br>margin: 0.000000<br>free margin: 10000.000000<br>margin level: inf",
          "balance: 10000.000000 USD<br>equity: 10000.000000<br>margin: 0.000000<br>free margin: 10000.000000<br>margin level: inf",
          "balance: 10000.000000 USD<br>equity: 10000.000000<br>margin: 0.000000<br>free margin: 10000.000000<br>margin level: inf",
          "balance: 10000.000000 USD<br>equity: 10000.000000<br>margin: 0.000000<br>free margin: 10000.000000<br>margin level: inf",
          "balance: 10000.000000 USD<br>equity: 10000.000000<br>margin: 0.000000<br>free margin: 10000.000000<br>margin level: inf",
          "balance: 10000.000000 USD<br>equity: 10000.000000<br>margin: 0.000000<br>free margin: 10000.000000<br>margin level: inf",
          "balance: 10000.000000 USD<br>equity: 9967.129612<br>margin: 2056.809874<br>free margin: 7910.319738<br>margin level: 4.845917",
          "balance: 10000.000000 USD<br>equity: 10306.323456<br>margin: 3922.398651<br>free margin: 6383.924805<br>margin level: 2.627556",
          "balance: 10000.000000 USD<br>equity: 9715.622718<br>margin: 4302.398651<br>free margin: 5413.224068<br>margin level: 2.258187",
          "balance: 10219.514676 USD<br>equity: 9942.379328<br>margin: 5843.956968<br>free margin: 4098.422359<br>margin level: 1.701309",
          "balance: 9958.450502 USD<br>equity: 9869.296113<br>margin: 624.300000<br>free margin: 9244.996113<br>margin level: 15.808579",
          "balance: 9869.296113 USD<br>equity: 11000.889934<br>margin: 3947.869925<br>free margin: 7053.020009<br>margin level: 2.786538",
          "balance: 9869.296113 USD<br>equity: 10842.021935<br>margin: 3947.869925<br>free margin: 6894.152010<br>margin level: 2.746297",
          "balance: 9869.296113 USD<br>equity: 10897.322429<br>margin: 7990.723080<br>free margin: 2906.599348<br>margin level: 1.363747",
          "balance: 10897.322429 USD<br>equity: 10865.642857<br>margin: 811.965887<br>free margin: 10053.676970<br>margin level: 13.381896",
          "balance: 10865.642857 USD<br>equity: 11001.422092<br>margin: 1046.926932<br>free margin: 9954.495160<br>margin level: 10.508300",
          "balance: 10867.319427 USD<br>equity: 10993.202319<br>margin: 2214.239325<br>free margin: 8778.962993<br>margin level: 4.964776",
          "balance: 10826.634054 USD<br>equity: 10817.280751<br>margin: 623.955725<br>free margin: 10193.325026<br>margin level: 17.336616",
          "balance: 10933.519868 USD<br>equity: 12128.606320<br>margin: 1950.000000<br>free margin: 10178.606320<br>margin level: 6.219798",
          "balance: 10933.519868 USD<br>equity: 12672.257260<br>margin: 2190.795782<br>free margin: 10481.461478<br>margin level: 5.784317",
          "balance: 12628.063708 USD<br>equity: 12436.425390<br>margin: 1420.172800<br>free margin: 11016.252590<br>margin level: 8.756980",
          "balance: 12451.947247 USD<br>equity: 12732.767717<br>margin: 1969.577732<br>free margin: 10763.189985<br>margin level: 6.464720",
          "balance: 12420.634811 USD<br>equity: 12316.898831<br>margin: 3365.248164<br>free margin: 8951.650667<br>margin level: 3.660027",
          "balance: 12447.530513 USD<br>equity: 10420.891503<br>margin: 4435.166832<br>free margin: 5985.724671<br>margin level: 2.349605",
          "balance: 11725.063453 USD<br>equity: 10592.824512<br>margin: 4423.050041<br>free margin: 6169.774472<br>margin level: 2.394914",
          "balance: 11689.759372 USD<br>equity: 10806.031282<br>margin: 3523.534419<br>free margin: 7282.496863<br>margin level: 3.066816",
          "balance: 11704.544314 USD<br>equity: 9268.241107<br>margin: 4166.108569<br>free margin: 5102.132539<br>margin level: 2.224676",
          "balance: 11753.294062 USD<br>equity: 9322.742657<br>margin: 5543.372431<br>free margin: 3779.370226<br>margin level: 1.681782",
          "balance: 7970.962503 USD<br>equity: 10331.747248<br>margin: 4665.914509<br>free margin: 5665.832740<br>margin level: 2.214303",
          "balance: 7962.583387 USD<br>equity: 9209.432391<br>margin: 3755.914509<br>free margin: 5453.517882<br>margin level: 2.451981",
          "balance: 9209.432391 USD<br>equity: 10121.681262<br>margin: 3021.151139<br>free margin: 7100.530123<br>margin level: 3.350273",
          "balance: 10121.681262 USD<br>equity: 10150.819436<br>margin: 120.000000<br>free margin: 10030.819436<br>margin level: 84.590162",
          "balance: 10121.681262 USD<br>equity: 10104.124698<br>margin: 1068.586800<br>free margin: 9035.537898<br>margin level: 9.455596",
          "balance: 10142.721824 USD<br>equity: 10399.285645<br>margin: 1714.025226<br>free margin: 8685.260419<br>margin level: 6.067172",
          "balance: 10344.416009 USD<br>equity: 10642.419913<br>margin: 2768.419490<br>free margin: 7874.000423<br>margin level: 3.844222",
          "balance: 10300.947870 USD<br>equity: 10827.856320<br>margin: 4837.351086<br>free margin: 5990.505234<br>margin level: 2.238385",
          "balance: 11044.217712 USD<br>equity: 10723.945626<br>margin: 2148.931597<br>free margin: 8575.014029<br>margin level: 4.990362",
          "balance: 10982.637245 USD<br>equity: 11107.746810<br>margin: 1748.931597<br>free margin: 9358.815214<br>margin level: 6.351161",
          "balance: 11107.746810 USD<br>equity: 11073.917343<br>margin: 1610.364762<br>free margin: 9463.552581<br>margin level: 6.876652",
          "balance: 10755.992714 USD<br>equity: 11099.209915<br>margin: 955.427400<br>free margin: 10143.782515<br>margin level: 11.617010",
          "balance: 10742.961900 USD<br>equity: 11240.801864<br>margin: 1438.156758<br>free margin: 9802.645106<br>margin level: 7.816117",
          "balance: 11332.655347 USD<br>equity: 10759.055478<br>margin: 4358.006225<br>free margin: 6401.049253<br>margin level: 2.468802",
          "balance: 11042.662409 USD<br>equity: 10581.349403<br>margin: 1989.849467<br>free margin: 8591.499935<br>margin level: 5.317663",
          "balance: 10581.349403 USD<br>equity: 10134.570310<br>margin: 1846.354323<br>free margin: 8288.215987<br>margin level: 5.488963",
          "balance: 10581.349403 USD<br>equity: 10320.936349<br>margin: 2981.527123<br>free margin: 7339.409226<br>margin level: 3.461628",
          "balance: 10447.523008 USD<br>equity: 9715.416349<br>margin: 855.172800<br>free margin: 8860.243549<br>margin level: 11.360764",
          "balance: 9715.416349 USD<br>equity: 9825.384919<br>margin: 208.424000<br>free margin: 9616.960919<br>margin level: 47.141332",
          "balance: 9813.384330 USD<br>equity: 9725.879795<br>margin: 213.894023<br>free margin: 9511.985772<br>margin level: 45.470554",
          "balance: 9725.879795 USD<br>equity: 9305.246598<br>margin: 2528.990263<br>free margin: 6776.256336<br>margin level: 3.679432",
          "balance: 9305.246598 USD<br>equity: 8890.649496<br>margin: 1101.226075<br>free margin: 7789.423422<br>margin level: 8.073410",
          "balance: 9305.246598 USD<br>equity: 8192.927691<br>margin: 2837.459383<br>free margin: 5355.468308<br>margin level: 2.887417",
          "balance: 8192.927691 USD<br>equity: 9009.922717<br>margin: 2738.304980<br>free margin: 6271.617737<br>margin level: 3.290328",
          "balance: 9009.922717 USD<br>equity: 8739.008465<br>margin: 799.559404<br>free margin: 7939.449061<br>margin level: 10.929780",
          "balance: 8716.529272 USD<br>equity: 8669.858646<br>margin: 2513.280300<br>free margin: 6156.578346<br>margin level: 3.449619",
          "balance: 8707.573674 USD<br>equity: 9243.268649<br>margin: 1913.940449<br>free margin: 7329.328200<br>margin level: 4.829444",
          "balance: 9143.109052 USD<br>equity: 11047.974902<br>margin: 3037.687575<br>free margin: 8010.287327<br>margin level: 3.636969",
          "balance: 11015.538107 USD<br>equity: 11380.942222<br>margin: 2543.575522<br>free margin: 8837.366700<br>margin level: 4.474387",
          "balance: 10805.308966 USD<br>equity: 11694.454459<br>margin: 1376.365022<br>free margin: 10318.089438<br>margin level: 8.496623",
          "balance: 10865.606005 USD<br>equity: 12052.397562<br>margin: 4316.334022<br>free margin: 7736.063541<br>margin level: 2.792276",
          "balance: 11953.791359 USD<br>equity: 11467.364362<br>margin: 3139.969000<br>free margin: 8327.395362<br>margin level: 3.652063",
          "balance: 11953.791359 USD<br>equity: 10762.978867<br>margin: 6156.345832<br>free margin: 4606.633035<br>margin level: 1.748274",
          "balance: 12094.045416 USD<br>equity: 11491.752200<br>margin: 5208.746169<br>free margin: 6283.006032<br>margin level: 2.206242",
          "balance: 11596.592965 USD<br>equity: 12121.772439<br>margin: 3557.275069<br>free margin: 8564.497371<br>margin level: 3.407601",
          "balance: 11392.782975 USD<br>equity: 12607.068975<br>margin: 3742.875037<br>free margin: 8864.193938<br>margin level: 3.368285",
          "balance: 11501.411770 USD<br>equity: 12687.890138<br>margin: 3293.804577<br>free margin: 9394.085561<br>margin level: 3.852047",
          "balance: 12762.423471 USD<br>equity: 12928.022569<br>margin: 3814.301977<br>free margin: 9113.720592<br>margin level: 3.389355",
          "balance: 12587.439590 USD<br>equity: 13016.762380<br>margin: 2890.151240<br>free margin: 10126.611140<br>margin level: 4.503834",
          "balance: 13095.452931 USD<br>equity: 12883.337721<br>margin: 1597.581018<br>free margin: 11285.756704<br>margin level: 8.064278",
          "balance: 13074.882095 USD<br>equity: 11853.562095<br>margin: 3917.818598<br>free margin: 7935.743497<br>margin level: 3.025552",
          "balance: 12079.399897 USD<br>equity: 11550.734285<br>margin: 3037.995597<br>free margin: 8512.738688<br>margin level: 3.802091",
          "balance: 11875.309346 USD<br>equity: 10707.752835<br>margin: 3201.225697<br>free margin: 7506.527138<br>margin level: 3.344892",
          "balance: 12049.075101 USD<br>equity: 10747.172835<br>margin: 1722.245200<br>free margin: 9024.927635<br>margin level: 6.240211",
          "balance: 12049.075101 USD<br>equity: 10206.057072<br>margin: 2992.245200<br>free margin: 7213.811872<br>margin level: 3.410836",
          "balance: 10233.252835 USD<br>equity: 10190.321859<br>margin: 1550.214400<br>free margin: 8640.107459<br>margin level: 6.573492",
          "balance: 10247.705712 USD<br>equity: 10280.709775<br>margin: 1013.297200<br>free margin: 9267.412575<br>margin level: 10.145799",
          "balance: 10097.280264 USD<br>equity: 10301.898202<br>margin: 890.690900<br>free margin: 9411.207302<br>margin level: 11.566188",
          "balance: 10301.898202 USD<br>equity: 9786.082561<br>margin: 2256.940818<br>free margin: 7529.141743<br>margin level: 4.335994",
          "balance: 10301.898202 USD<br>equity: 9626.954427<br>margin: 5806.692818<br>free margin: 3820.261608<br>margin level: 1.657907",
          "balance: 9463.519709 USD<br>equity: 9455.560882<br>margin: 3528.049569<br>free margin: 5927.511313<br>margin level: 2.680110",
          "balance: 9463.519709 USD<br>equity: 9732.390026<br>margin: 3761.921030<br>free margin: 5970.468995<br>margin level: 2.587080",
          "balance: 9539.821802 USD<br>equity: 9451.496531<br>margin: 6237.119630<br>free margin: 3214.376901<br>margin level: 1.515362",
          "balance: 9673.249267 USD<br>equity: 9376.891775<br>margin: 3800.952373<br>free margin: 5575.939402<br>margin level: 2.466985",
          "balance: 9376.891775 USD<br>equity: 9501.003563<br>margin: 2229.122162<br>free margin: 7271.881401<br>margin level: 4.262218",
          "balance: 9376.891775 USD<br>equity: 9641.936625<br>margin: 3634.107762<br>free margin: 6007.828863<br>margin level: 2.653179"
         ],
         "legendgroup": "g2",
         "line": {
          "color": "rgba(0.5643983083429451, 0.36993464052287583, 0.5132641291810843, 1.0)"
         },
         "mode": "lines+markers",
         "name": "EURUSD",
         "opacity": 1,
         "type": "scatter",
         "x": [
          "2021-05-05T00:00:00+00:00",
          "2021-05-06T00:00:00+00:00",
          "2021-05-07T00:00:00+00:00",
          "2021-05-10T00:00:00+00:00",
          "2021-05-11T00:00:00+00:00",
          "2021-05-12T00:00:00+00:00",
          "2021-05-13T00:00:00+00:00",
          "2021-05-14T00:00:00+00:00",
          "2021-05-17T00:00:00+00:00",
          "2021-05-18T00:00:00+00:00",
          "2021-05-19T00:00:00+00:00",
          "2021-05-20T00:00:00+00:00",
          "2021-05-21T00:00:00+00:00",
          "2021-05-24T00:00:00+00:00",
          "2021-05-25T00:00:00+00:00",
          "2021-05-26T00:00:00+00:00",
          "2021-05-27T00:00:00+00:00",
          "2021-05-28T00:00:00+00:00",
          "2021-05-31T00:00:00+00:00",
          "2021-06-01T00:00:00+00:00",
          "2021-06-02T00:00:00+00:00",
          "2021-06-03T00:00:00+00:00",
          "2021-06-04T00:00:00+00:00",
          "2021-06-07T00:00:00+00:00",
          "2021-06-08T00:00:00+00:00",
          "2021-06-09T00:00:00+00:00",
          "2021-06-10T00:00:00+00:00",
          "2021-06-11T00:00:00+00:00",
          "2021-06-14T00:00:00+00:00",
          "2021-06-15T00:00:00+00:00",
          "2021-06-16T00:00:00+00:00",
          "2021-06-17T00:00:00+00:00",
          "2021-06-18T00:00:00+00:00",
          "2021-06-21T00:00:00+00:00",
          "2021-06-22T00:00:00+00:00",
          "2021-06-23T00:00:00+00:00",
          "2021-06-24T00:00:00+00:00",
          "2021-06-25T00:00:00+00:00",
          "2021-06-28T00:00:00+00:00",
          "2021-06-29T00:00:00+00:00",
          "2021-06-30T00:00:00+00:00",
          "2021-07-01T00:00:00+00:00",
          "2021-07-02T00:00:00+00:00",
          "2021-07-05T00:00:00+00:00",
          "2021-07-06T00:00:00+00:00",
          "2021-07-07T00:00:00+00:00",
          "2021-07-08T00:00:00+00:00",
          "2021-07-09T00:00:00+00:00",
          "2021-07-12T00:00:00+00:00",
          "2021-07-13T00:00:00+00:00",
          "2021-07-14T00:00:00+00:00",
          "2021-07-15T00:00:00+00:00",
          "2021-07-16T00:00:00+00:00",
          "2021-07-19T00:00:00+00:00",
          "2021-07-20T00:00:00+00:00",
          "2021-07-21T00:00:00+00:00",
          "2021-07-22T00:00:00+00:00",
          "2021-07-23T00:00:00+00:00",
          "2021-07-26T00:00:00+00:00",
          "2021-07-27T00:00:00+00:00",
          "2021-07-28T00:00:00+00:00",
          "2021-07-29T00:00:00+00:00",
          "2021-07-30T00:00:00+00:00",
          "2021-08-02T00:00:00+00:00",
          "2021-08-03T00:00:00+00:00",
          "2021-08-04T00:00:00+00:00",
          "2021-08-05T00:00:00+00:00",
          "2021-08-06T00:00:00+00:00",
          "2021-08-09T00:00:00+00:00",
          "2021-08-10T00:00:00+00:00",
          "2021-08-11T00:00:00+00:00",
          "2021-08-12T00:00:00+00:00",
          "2021-08-13T00:00:00+00:00",
          "2021-08-16T00:00:00+00:00",
          "2021-08-17T00:00:00+00:00",
          "2021-08-18T00:00:00+00:00",
          "2021-08-19T00:00:00+00:00",
          "2021-08-20T00:00:00+00:00",
          "2021-08-23T00:00:00+00:00",
          "2021-08-24T00:00:00+00:00",
          "2021-08-25T00:00:00+00:00",
          "2021-08-26T00:00:00+00:00",
          "2021-08-27T00:00:00+00:00",
          "2021-08-30T00:00:00+00:00",
          "2021-08-31T00:00:00+00:00",
          "2021-09-01T00:00:00+00:00",
          "2021-09-02T00:00:00+00:00",
          "2021-09-03T00:00:00+00:00"
         ],
         "y": [
          1.20036,
          1.20646,
          1.21618,
          1.21282,
          1.2147000000000001,
          1.20705,
          1.20791,
          1.21441,
          1.21511,
          1.2221899999999999,
          1.21744,
          1.22269,
          1.21806,
          1.2215,
          1.22497,
          1.21922,
          1.21934,
          1.21896,
          1.2225,
          1.22126,
          1.221,
          1.21265,
          1.21662,
          1.21893,
          1.21726,
          1.21787,
          1.21751,
          1.21063,
          1.212,
          1.21264,
          1.19943,
          1.19069,
          1.18597,
          1.19185,
          1.19413,
          1.19258,
          1.19315,
          1.1937,
          1.19242,
          1.1896,
          1.1856,
          1.18497,
          1.18646,
          1.18634,
          1.18231,
          1.17903,
          1.18449,
          1.18774,
          1.18606,
          1.17765,
          1.18358,
          1.18118,
          1.18055,
          1.17987,
          1.17805,
          1.17946,
          1.17707,
          1.17689,
          1.18029,
          1.18165,
          1.18441,
          1.18865,
          1.1873,
          1.18688,
          1.18637,
          1.18367,
          1.18327,
          1.17611,
          1.17362,
          1.17203,
          1.17388,
          1.17296,
          1.17962,
          1.17768,
          1.17081,
          1.17108,
          1.16756,
          1.16996,
          1.1745700000000001,
          1.17555,
          1.17716,
          1.17515,
          1.1795499999999999,
          1.17962,
          1.18083,
          1.18384,
          1.18744,
          1.18772
         ],
         "yaxis": "y2"
        },
        {
         "hovertext": [
          "order id: 3<br>hold probability: 0.3618<br>hold: False<br>volume: 0.855187<br>modified volume: 0.8600<br>fee: -3.7898968066923684e-05<br>error: ",
          "order id: 7<br>hold probability: 0.3925<br>hold: False<br>volume: -0.203541<br>modified volume: 0.2000<br>fee: 0.0003065146650824074<br>error: ",
          "order id: 9<br>hold probability: 0.1998<br>hold: False<br>volume: -2.531818<br>modified volume: 2.5300<br>fee: 0.00023633237170041964<br>error: ",
          "order id: 11<br>hold probability: 0.4552<br>hold: False<br>volume: 0.575682<br>modified volume: 0.5800<br>fee: 0.00024988292156298845<br>error: ",
          "order id: 16<br>hold probability: 0.3022<br>hold: False<br>volume: -0.018794<br>modified volume: 0.0200<br>fee: 0.0004017148466410926<br>error: ",
          "order id: 19<br>hold probability: 0.1763<br>hold: False<br>volume: 0.860248<br>modified volume: 0.8600<br>fee: 0.0001577543611629161<br>error: ",
          "order id: 23<br>hold probability: 0.3326<br>hold: False<br>volume: 0.958840<br>modified volume: 0.9600<br>fee: 0.00016454646674311525<br>error: ",
          "order id: 26<br>hold probability: 0.3062<br>hold: False<br>volume: 0.177991<br>modified volume: 0.1800<br>fee: 0.0007191022926978318<br>error: ",
          "order id: 28<br>hold probability: 0.1308<br>hold: False<br>volume: 1.383858<br>modified volume: 1.3800<br>fee: -0.00025466684417528834<br>error: ",
          "order id: 29<br>hold probability: 0.4022<br>hold: False<br>volume: 1.029332<br>modified volume: 1.0300<br>fee: 0.00013424330160485452<br>error: ",
          "order id: 36<br>hold probability: 0.3098<br>hold: False<br>volume: -1.550413<br>modified volume: 1.5500<br>fee: 0.0007708248256008195<br>error: ",
          "order id: 38<br>hold probability: 0.4203<br>hold: False<br>volume: -0.549995<br>modified volume: 0.5500<br>fee: 0.00037698529892308034<br>error: ",
          "order id: 43<br>hold probability: 0.3503<br>hold: False<br>volume: -0.460934<br>modified volume: 0.4600<br>fee: 0.0007079422887163017<br>error: ",
          "order id: 47<br>hold probability: 0.2145<br>hold: False<br>volume: -1.645836<br>modified volume: 1.6500<br>fee: 0.00016351327700396388<br>error: ",
          "order id: 53<br>hold probability: 0.2837<br>hold: False<br>volume: -0.188691<br>modified volume: 0.1900<br>fee: 0.0008058323564988067<br>error: ",
          "order id: 59<br>hold probability: 0.2164<br>hold: False<br>volume: 0.718588<br>modified volume: 0.7200<br>fee: 7.814804340187358e-05<br>error: ",
          "order id: 61<br>hold probability: 0.1221<br>hold: False<br>volume: 0.155112<br>modified volume: 0.1600<br>fee: -0.00019299883785463395<br>error: ",
          "order id: 65<br>hold probability: 0.2556<br>hold: False<br>volume: 1.242273<br>modified volume: 1.2400<br>fee: 0.0003602122541977368<br>error: ",
          "order id: 70<br>hold probability: 0.1752<br>hold: False<br>volume: -0.120066<br>modified volume: 0.1200<br>fee: 0.0005167339807848104<br>error: ",
          "order id: 71<br>hold probability: 0.1197<br>hold: False<br>volume: -1.932841<br>modified volume: 1.9300<br>fee: 0.0003540662732415863<br>error: ",
          "order id: 74<br>hold probability: 0.1664<br>hold: False<br>volume: 0.423590<br>modified volume: 0.4200<br>fee: 0.000473987526325801<br>error: ",
          "order id: 78<br>hold probability: 0.4848<br>hold: False<br>volume: -0.373568<br>modified volume: 0.3700<br>fee: 0.00010267094670583318<br>error: ",
          "order id: 80<br>hold probability: 0.4323<br>hold: False<br>volume: 1.064574<br>modified volume: 1.0600<br>fee: 0.00032567042139420704<br>error: ",
          "order id: 84<br>hold probability: 0.3449<br>hold: False<br>volume: -1.984921<br>modified volume: 1.9800<br>fee: 7.631788643026893e-05<br>error: ",
          "order id: 86<br>hold probability: 0.4099<br>hold: False<br>volume: -0.325914<br>modified volume: 0.3300<br>fee: 0.0007318601863924324<br>error: ",
          "order id: 88<br>hold probability: 0.1604<br>hold: False<br>volume: 0.720914<br>modified volume: 0.7200<br>fee: 0.0002498899040201108<br>error: ",
          "order id: 90<br>hold probability: 0.2852<br>hold: False<br>volume: 1.270058<br>modified volume: 1.2700<br>fee: 0.0002005471665040448<br>error: ",
          "order id: 92<br>hold probability: 0.4052<br>hold: False<br>volume: -0.330219<br>modified volume: 0.3300<br>fee: 0.0005345621529812427<br>error: ",
          "order id: 94<br>hold probability: 0.4996<br>hold: False<br>volume: 0.627369<br>modified volume: 0.6300<br>fee: -0.0005934788006683786<br>error: ",
          "order id: 96<br>hold probability: 0.4134<br>hold: False<br>volume: 0.629448<br>modified volume: 0.6300<br>fee: -0.00010128454239181843<br>error: ",
          "order id: 99<br>hold probability: 0.2611<br>hold: False<br>volume: 1.461156<br>modified volume: 1.4600<br>fee: 0.00037713880906691<br>error: ",
          "order id: 102<br>hold probability: 0.2150<br>hold: False<br>volume: -0.241205<br>modified volume: 0.2400<br>fee: -9.006121650533981e-06<br>error: ",
          "order id: 103<br>hold probability: 0.4485<br>hold: False<br>volume: 0.427181<br>modified volume: 0.4300<br>fee: 0.0003441974220853975<br>error: ",
          "order id: 105<br>hold probability: 0.0539<br>hold: False<br>volume: -0.325293<br>modified volume: 0.3300<br>fee: -0.0003451038523617368<br>error: ",
          "order id: 108<br>hold probability: 0.3346<br>hold: False<br>volume: -2.198459<br>modified volume: 2.2000<br>fee: 0.00048394706277838674<br>error: ",
          "order id: 112<br>hold probability: 0.4682<br>hold: False<br>volume: 0.526561<br>modified volume: 0.5300<br>fee: 0.0009229565171044715<br>error: ",
          "order id: 115<br>hold probability: 0.3886<br>hold: False<br>volume: 0.456771<br>modified volume: 0.4600<br>fee: 0.00023287074604657034<br>error: ",
          "order id: 118<br>hold probability: 0.3580<br>hold: False<br>volume: 0.235911<br>modified volume: 0.2400<br>fee: 0.0004614804410832074<br>error: "
         ],
         "legendgroup": "g2",
         "marker": {
          "color": [
           "green",
           "red",
           "red",
           "green",
           "red",
           "green",
           "green",
           "green",
           "green",
           "green",
           "red",
           "red",
           "red",
           "red",
           "red",
           "green",
           "green",
           "green",
           "red",
           "red",
           "green",
           "red",
           "green",
           "red",
           "red",
           "green",
           "green",
           "red",
           "green",
           "green",
           "green",
           "red",
           "green",
           "red",
           "red",
           "green",
           "green",
           "green"
          ],
          "size": [
           15.478260869565217,
           9.73913043478261,
           30,
           13.043478260869565,
           8.173913043478262,
           15.478260869565217,
           16.347826086956523,
           9.565217391304348,
           20,
           16.956521739130434,
           21.478260869565215,
           12.782608695652174,
           12,
           22.347826086956523,
           9.652173913043478,
           14.26086956521739,
           9.391304347826086,
           18.782608695652172,
           9.043478260869565,
           24.782608695652172,
           11.652173913043478,
           11.217391304347826,
           17.217391304347828,
           25.217391304347824,
           10.869565217391305,
           14.26086956521739,
           19.043478260869563,
           10.869565217391305,
           13.478260869565217,
           13.478260869565217,
           20.69565217391304,
           10.08695652173913,
           11.73913043478261,
           10.869565217391305,
           27.130434782608695,
           12.608695652173914,
           12,
           10.08695652173913
          ],
          "symbol": [
           "triangle-up",
           "triangle-down",
           "triangle-down",
           "triangle-up",
           "triangle-down",
           "triangle-up",
           "triangle-up",
           "triangle-up",
           "triangle-up",
           "triangle-up",
           "triangle-down",
           "triangle-down",
           "triangle-down",
           "triangle-down",
           "triangle-down",
           "triangle-up",
           "triangle-up",
           "triangle-up",
           "triangle-down",
           "triangle-down",
           "triangle-up",
           "triangle-down",
           "triangle-up",
           "triangle-down",
           "triangle-down",
           "triangle-up",
           "triangle-up",
           "triangle-down",
           "triangle-up",
           "triangle-up",
           "triangle-up",
           "triangle-down",
           "triangle-up",
           "triangle-down",
           "triangle-down",
           "triangle-up",
           "triangle-up",
           "triangle-up"
          ]
         },
         "mode": "markers",
         "name": "EURUSD",
         "showlegend": false,
         "type": "scatter",
         "x": [
          "2021-05-19T00:00:00+00:00",
          "2021-05-24T00:00:00+00:00",
          "2021-05-25T00:00:00+00:00",
          "2021-05-27T00:00:00+00:00",
          "2021-05-31T00:00:00+00:00",
          "2021-06-01T00:00:00+00:00",
          "2021-06-07T00:00:00+00:00",
          "2021-06-08T00:00:00+00:00",
          "2021-06-09T00:00:00+00:00",
          "2021-06-10T00:00:00+00:00",
          "2021-06-16T00:00:00+00:00",
          "2021-06-17T00:00:00+00:00",
          "2021-06-23T00:00:00+00:00",
          "2021-06-25T00:00:00+00:00",
          "2021-07-02T00:00:00+00:00",
          "2021-07-09T00:00:00+00:00",
          "2021-07-13T00:00:00+00:00",
          "2021-07-15T00:00:00+00:00",
          "2021-07-21T00:00:00+00:00",
          "2021-07-22T00:00:00+00:00",
          "2021-07-23T00:00:00+00:00",
          "2021-07-27T00:00:00+00:00",
          "2021-07-29T00:00:00+00:00",
          "2021-08-02T00:00:00+00:00",
          "2021-08-03T00:00:00+00:00",
          "2021-08-05T00:00:00+00:00",
          "2021-08-09T00:00:00+00:00",
          "2021-08-10T00:00:00+00:00",
          "2021-08-11T00:00:00+00:00",
          "2021-08-12T00:00:00+00:00",
          "2021-08-13T00:00:00+00:00",
          "2021-08-19T00:00:00+00:00",
          "2021-08-20T00:00:00+00:00",
          "2021-08-23T00:00:00+00:00",
          "2021-08-25T00:00:00+00:00",
          "2021-08-30T00:00:00+00:00",
          "2021-08-31T00:00:00+00:00",
          "2021-09-02T00:00:00+00:00"
         ],
         "y": [
          1.21744,
          1.2215,
          1.22497,
          1.21934,
          1.2225,
          1.22126,
          1.21893,
          1.21726,
          1.21787,
          1.21751,
          1.19943,
          1.19069,
          1.19258,
          1.1937,
          1.18646,
          1.18774,
          1.17765,
          1.18118,
          1.17946,
          1.17707,
          1.17689,
          1.18165,
          1.18865,
          1.18688,
          1.18637,
          1.18327,
          1.17362,
          1.17203,
          1.17388,
          1.17296,
          1.17962,
          1.16756,
          1.16996,
          1.1745700000000001,
          1.17716,
          1.17962,
          1.18083,
          1.18744
         ],
         "yaxis": "y2"
        },
        {
         "hovertext": [
          "order id: 3<br>order type: Buy<br>close probability: 0.6481<br>profit: 352.419311",
          "order id: 7<br>order type: Sell<br>close probability: 0.5797<br>profit: -75.530293",
          "order id: 9<br>order type: Sell<br>close probability: 0.6435<br>profit: 1460.737910<br>---------------------------------<br>order id: 11<br>order type: Buy<br>close probability: 0.6677<br>profit: -36.533209",
          "order id: 16<br>order type: Sell<br>close probability: 0.8022<br>profit: 1.676570",
          "order id: 19<br>order type: Buy<br>close probability: 0.5719<br>profit: -35.926875",
          "order id: 23<br>order type: Buy<br>close probability: 0.6665<br>profit: -176.116461",
          "order id: 26<br>order type: Buy<br>close probability: 0.7349<br>profit: -1.963841",
          "order id: 29<br>order type: Buy<br>close probability: 0.6692<br>profit: -722.467060",
          "order id: 28<br>order type: Buy<br>close probability: 0.6306<br>profit: -3715.695976",
          "order id: 36<br>order type: Sell<br>close probability: 0.7270<br>profit: 1055.422152<br>---------------------------------<br>order id: 38<br>order type: Sell<br>close probability: 0.5300<br>profit: -84.534191",
          "order id: 43<br>order type: Sell<br>close probability: 0.5652<br>profit: -84.085345",
          "order id: 47<br>order type: Sell<br>close probability: 0.6064<br>profit: 649.520309",
          "order id: 53<br>order type: Sell<br>close probability: 0.5343<br>profit: -13.030815",
          "order id: 59<br>order type: Buy<br>close probability: 0.5849<br>profit: -732.106659",
          "order id: 61<br>order type: Buy<br>close probability: 0.5460<br>profit: 97.967981",
          "order id: 65<br>order type: Buy<br>close probability: 0.7581<br>profit: -122.786320",
          "order id: 70<br>order type: Sell<br>close probability: 0.6792<br>profit: 24.639192<br>---------------------------------<br>order id: 71<br>order type: Sell<br>close probability: 0.7980<br>profit: -33.594791",
          "order id: 74<br>order type: Buy<br>close probability: 0.5394<br>profit: 180.012524",
          "order id: 78<br>order type: Sell<br>close probability: 0.5770<br>profit: -105.918825",
          "order id: 84<br>order type: Sell<br>close probability: 0.5907<br>profit: 85.869058",
          "order id: 80<br>order type: Buy<br>close probability: 0.5903<br>profit: -562.401065<br>---------------------------------<br>order id: 86<br>order type: Sell<br>close probability: 0.6483<br>profit: 64.948614",
          "order id: 88<br>order type: Buy<br>close probability: 0.7266<br>profit: -533.512073",
          "order id: 90<br>order type: Buy<br>close probability: 0.5830<br>profit: 7.550510",
          "order id: 94<br>order type: Buy<br>close probability: 0.5182<br>profit: -20.570836",
          "order id: 96<br>order type: Buy<br>close probability: 0.5079<br>profit: 425.960926",
          "order id: 92<br>order type: Sell<br>close probability: 0.5708<br>profit: -204.090551",
          "order id: 99<br>order type: Buy<br>close probability: 0.6081<br>profit: -1815.822266",
          "order id: 102<br>order type: Sell<br>close probability: 0.6760<br>profit: -168.023853",
          "order id: 103<br>order type: Buy<br>close probability: 0.7415<br>profit: 225.569511<br>---------------------------------<br>order id: 105<br>order type: Sell<br>close probability: 0.5436<br>profit: -20.951573",
          "order id: 108<br>order type: Sell<br>close probability: 0.6300<br>profit: 335.731646",
          "order id: 112<br>order type: Buy<br>close probability: 0.8012<br>profit: 15.213305",
          "order id: 115<br>order type: Buy<br>close probability: 0.9237<br>profit: 127.747946"
         ],
         "legendgroup": "g2",
         "marker": {
          "color": "black",
          "line": {
           "width": 1.5
          },
          "size": 7,
          "symbol": "line-ns"
         },
         "mode": "markers",
         "name": "EURUSD",
         "showlegend": false,
         "type": "scatter",
         "x": [
          "2021-05-24T00:00:00+00:00",
          "2021-05-25T00:00:00+00:00",
          "2021-05-28T00:00:00+00:00",
          "2021-06-01T00:00:00+00:00",
          "2021-06-02T00:00:00+00:00",
          "2021-06-08T00:00:00+00:00",
          "2021-06-09T00:00:00+00:00",
          "2021-06-11T00:00:00+00:00",
          "2021-06-17T00:00:00+00:00",
          "2021-06-21T00:00:00+00:00",
          "2021-06-25T00:00:00+00:00",
          "2021-06-29T00:00:00+00:00",
          "2021-07-05T00:00:00+00:00",
          "2021-07-13T00:00:00+00:00",
          "2021-07-14T00:00:00+00:00",
          "2021-07-16T00:00:00+00:00",
          "2021-07-23T00:00:00+00:00",
          "2021-07-27T00:00:00+00:00",
          "2021-07-28T00:00:00+00:00",
          "2021-08-03T00:00:00+00:00",
          "2021-08-04T00:00:00+00:00",
          "2021-08-06T00:00:00+00:00",
          "2021-08-11T00:00:00+00:00",
          "2021-08-12T00:00:00+00:00",
          "2021-08-13T00:00:00+00:00",
          "2021-08-16T00:00:00+00:00",
          "2021-08-19T00:00:00+00:00",
          "2021-08-23T00:00:00+00:00",
          "2021-08-24T00:00:00+00:00",
          "2021-08-26T00:00:00+00:00",
          "2021-08-31T00:00:00+00:00",
          "2021-09-01T00:00:00+00:00"
         ],
         "y": [
          1.2215,
          1.22497,
          1.21896,
          1.22126,
          1.221,
          1.21726,
          1.21787,
          1.21063,
          1.19069,
          1.19185,
          1.1937,
          1.1896,
          1.18634,
          1.17765,
          1.18358,
          1.18055,
          1.17689,
          1.18165,
          1.18441,
          1.18637,
          1.18367,
          1.17611,
          1.17388,
          1.17296,
          1.17962,
          1.17768,
          1.16756,
          1.1745700000000001,
          1.17555,
          1.17515,
          1.18083,
          1.18384
         ],
         "yaxis": "y2"
        },
        {
         "hovertext": [
          "balance: 10000.000000 USD<br>equity: 10000.000000<br>margin: 0.000000<br>free margin: 10000.000000<br>margin level: inf",
          "balance: 10000.000000 USD<br>equity: 10000.000000<br>margin: 0.000000<br>free margin: 10000.000000<br>margin level: inf",
          "balance: 10000.000000 USD<br>equity: 10000.000000<br>margin: 0.000000<br>free margin: 10000.000000<br>margin level: inf",
          "balance: 10000.000000 USD<br>equity: 10000.000000<br>margin: 0.000000<br>free margin: 10000.000000<br>margin level: inf",
          "balance: 10000.000000 USD<br>equity: 10000.000000<br>margin: 0.000000<br>free margin: 10000.000000<br>margin level: inf",
          "balance: 10000.000000 USD<br>equity: 10000.000000<br>margin: 0.000000<br>free margin: 10000.000000<br>margin level: inf",
          "balance: 10000.000000 USD<br>equity: 10000.000000<br>margin: 0.000000<br>free margin: 10000.000000<br>margin level: inf",
          "balance: 10000.000000 USD<br>equity: 10000.000000<br>margin: 0.000000<br>free margin: 10000.000000<br>margin level: inf",
          "balance: 10000.000000 USD<br>equity: 10000.000000<br>margin: 0.000000<br>free margin: 10000.000000<br>margin level: inf",
          "balance: 10000.000000 USD<br>equity: 10000.000000<br>margin: 0.000000<br>free margin: 10000.000000<br>margin level: inf",
          "balance: 10000.000000 USD<br>equity: 9967.129612<br>margin: 2056.809874<br>free margin: 7910.319738<br>margin level: 4.845917",
          "balance: 10000.000000 USD<br>equity: 10306.323456<br>margin: 3922.398651<br>free margin: 6383.924805<br>margin level: 2.627556",
          "balance: 10000.000000 USD<br>equity: 9715.622718<br>margin: 4302.398651<br>free margin: 5413.224068<br>margin level: 2.258187",
          "balance: 10219.514676 USD<br>equity: 9942.379328<br>margin: 5843.956968<br>free margin: 4098.422359<br>margin level: 1.701309",
          "balance: 9958.450502 USD<br>equity: 9869.296113<br>margin: 624.300000<br>free margin: 9244.996113<br>margin level: 15.808579",
          "balance: 9869.296113 USD<br>equity: 11000.889934<br>margin: 3947.869925<br>free margin: 7053.020009<br>margin level: 2.786538",
          "balance: 9869.296113 USD<br>equity: 10842.021935<br>margin: 3947.869925<br>free margin: 6894.152010<br>margin level: 2.746297",
          "balance: 9869.296113 USD<br>equity: 10897.322429<br>margin: 7990.723080<br>free margin: 2906.599348<br>margin level: 1.363747",
          "balance: 10897.322429 USD<br>equity: 10865.642857<br>margin: 811.965887<br>free margin: 10053.676970<br>margin level: 13.381896",
          "balance: 10865.642857 USD<br>equity: 11001.422092<br>margin: 1046.926932<br>free margin: 9954.495160<br>margin level: 10.508300",
          "balance: 10867.319427 USD<br>equity: 10993.202319<br>margin: 2214.239325<br>free margin: 8778.962993<br>margin level: 4.964776",
          "balance: 10826.634054 USD<br>equity: 10817.280751<br>margin: 623.955725<br>free margin: 10193.325026<br>margin level: 17.336616",
          "balance: 10933.519868 USD<br>equity: 12128.606320<br>margin: 1950.000000<br>free margin: 10178.606320<br>margin level: 6.219798",
          "balance: 10933.519868 USD<br>equity: 12672.257260<br>margin: 2190.795782<br>free margin: 10481.461478<br>margin level: 5.784317",
          "balance: 12628.063708 USD<br>equity: 12436.425390<br>margin: 1420.172800<br>free margin: 11016.252590<br>margin level: 8.756980",
          "balance: 12451.947247 USD<br>equity: 12732.767717<br>margin: 1969.577732<br>free margin: 10763.189985<br>margin level: 6.464720",
          "balance: 12420.634811 USD<br>equity: 12316.898831<br>margin: 3365.248164<br>free margin: 8951.650667<br>margin level: 3.660027",
          "balance: 12447.530513 USD<br>equity: 10420.891503<br>margin: 4435.166832<br>free margin: 5985.724671<br>margin level: 2.349605",
          "balance: 11725.063453 USD<br>equity: 10592.824512<br>margin: 4423.050041<br>free margin: 6169.774472<br>margin level: 2.394914",
          "balance: 11689.759372 USD<br>equity: 10806.031282<br>margin: 3523.534419<br>free margin: 7282.496863<br>margin level: 3.066816",
          "balance: 11704.544314 USD<br>equity: 9268.241107<br>margin: 4166.108569<br>free margin: 5102.132539<br>margin level: 2.224676",
          "balance: 11753.294062 USD<br>equity: 9322.742657<br>margin: 5543.372431<br>free margin: 3779.370226<br>margin level: 1.681782",
          "balance: 7970.962503 USD<br>equity: 10331.747248<br>margin: 4665.914509<br>free margin: 5665.832740<br>margin level: 2.214303",
          "balance: 7962.583387 USD<br>equity: 9209.432391<br>margin: 3755.914509<br>free margin: 5453.517882<br>margin level: 2.451981",
          "balance: 9209.432391 USD<br>equity: 10121.681262<br>margin: 3021.151139<br>free margin: 7100.530123<br>margin level: 3.350273",
          "balance: 10121.681262 USD<br>equity: 10150.819436<br>margin: 120.000000<br>free margin: 10030.819436<br>margin level: 84.590162",
          "balance: 10121.681262 USD<br>equity: 10104.124698<br>margin: 1068.586800<br>free margin: 9035.537898<br>margin level: 9.455596",
          "balance: 10142.721824 USD<br>equity: 10399.285645<br>margin: 1714.025226<br>free margin: 8685.260419<br>margin level: 6.067172",
          "balance: 10344.416009 USD<br>equity: 10642.419913<br>margin: 2768.419490<br>free margin: 7874.000423<br>margin level: 3.844222",
          "balance: 10300.947870 USD<br>equity: 10827.856320<br>margin: 4837.351086<br>free margin: 5990.505234<br>margin level: 2.238385",
          "balance: 11044.217712 USD<br>equity: 10723.945626<br>margin: 2148.931597<br>free margin: 8575.014029<br>margin level: 4.990362",
          "balance: 10982.637245 USD<br>equity: 11107.746810<br>margin: 1748.931597<br>free margin: 9358.815214<br>margin level: 6.351161",
          "balance: 11107.746810 USD<br>equity: 11073.917343<br>margin: 1610.364762<br>free margin: 9463.552581<br>margin level: 6.876652",
          "balance: 10755.992714 USD<br>equity: 11099.209915<br>margin: 955.427400<br>free margin: 10143.782515<br>margin level: 11.617010",
          "balance: 10742.961900 USD<br>equity: 11240.801864<br>margin: 1438.156758<br>free margin: 9802.645106<br>margin level: 7.816117",
          "balance: 11332.655347 USD<br>equity: 10759.055478<br>margin: 4358.006225<br>free margin: 6401.049253<br>margin level: 2.468802",
          "balance: 11042.662409 USD<br>equity: 10581.349403<br>margin: 1989.849467<br>free margin: 8591.499935<br>margin level: 5.317663",
          "balance: 10581.349403 USD<br>equity: 10134.570310<br>margin: 1846.354323<br>free margin: 8288.215987<br>margin level: 5.488963",
          "balance: 10581.349403 USD<br>equity: 10320.936349<br>margin: 2981.527123<br>free margin: 7339.409226<br>margin level: 3.461628",
          "balance: 10447.523008 USD<br>equity: 9715.416349<br>margin: 855.172800<br>free margin: 8860.243549<br>margin level: 11.360764",
          "balance: 9715.416349 USD<br>equity: 9825.384919<br>margin: 208.424000<br>free margin: 9616.960919<br>margin level: 47.141332",
          "balance: 9813.384330 USD<br>equity: 9725.879795<br>margin: 213.894023<br>free margin: 9511.985772<br>margin level: 45.470554",
          "balance: 9725.879795 USD<br>equity: 9305.246598<br>margin: 2528.990263<br>free margin: 6776.256336<br>margin level: 3.679432",
          "balance: 9305.246598 USD<br>equity: 8890.649496<br>margin: 1101.226075<br>free margin: 7789.423422<br>margin level: 8.073410",
          "balance: 9305.246598 USD<br>equity: 8192.927691<br>margin: 2837.459383<br>free margin: 5355.468308<br>margin level: 2.887417",
          "balance: 8192.927691 USD<br>equity: 9009.922717<br>margin: 2738.304980<br>free margin: 6271.617737<br>margin level: 3.290328",
          "balance: 9009.922717 USD<br>equity: 8739.008465<br>margin: 799.559404<br>free margin: 7939.449061<br>margin level: 10.929780",
          "balance: 8716.529272 USD<br>equity: 8669.858646<br>margin: 2513.280300<br>free margin: 6156.578346<br>margin level: 3.449619",
          "balance: 8707.573674 USD<br>equity: 9243.268649<br>margin: 1913.940449<br>free margin: 7329.328200<br>margin level: 4.829444",
          "balance: 9143.109052 USD<br>equity: 11047.974902<br>margin: 3037.687575<br>free margin: 8010.287327<br>margin level: 3.636969",
          "balance: 11015.538107 USD<br>equity: 11380.942222<br>margin: 2543.575522<br>free margin: 8837.366700<br>margin level: 4.474387",
          "balance: 10805.308966 USD<br>equity: 11694.454459<br>margin: 1376.365022<br>free margin: 10318.089438<br>margin level: 8.496623",
          "balance: 10865.606005 USD<br>equity: 12052.397562<br>margin: 4316.334022<br>free margin: 7736.063541<br>margin level: 2.792276",
          "balance: 11953.791359 USD<br>equity: 11467.364362<br>margin: 3139.969000<br>free margin: 8327.395362<br>margin level: 3.652063",
          "balance: 11953.791359 USD<br>equity: 10762.978867<br>margin: 6156.345832<br>free margin: 4606.633035<br>margin level: 1.748274",
          "balance: 12094.045416 USD<br>equity: 11491.752200<br>margin: 5208.746169<br>free margin: 6283.006032<br>margin level: 2.206242",
          "balance: 11596.592965 USD<br>equity: 12121.772439<br>margin: 3557.275069<br>free margin: 8564.497371<br>margin level: 3.407601",
          "balance: 11392.782975 USD<br>equity: 12607.068975<br>margin: 3742.875037<br>free margin: 8864.193938<br>margin level: 3.368285",
          "balance: 11501.411770 USD<br>equity: 12687.890138<br>margin: 3293.804577<br>free margin: 9394.085561<br>margin level: 3.852047",
          "balance: 12762.423471 USD<br>equity: 12928.022569<br>margin: 3814.301977<br>free margin: 9113.720592<br>margin level: 3.389355",
          "balance: 12587.439590 USD<br>equity: 13016.762380<br>margin: 2890.151240<br>free margin: 10126.611140<br>margin level: 4.503834",
          "balance: 13095.452931 USD<br>equity: 12883.337721<br>margin: 1597.581018<br>free margin: 11285.756704<br>margin level: 8.064278",
          "balance: 13074.882095 USD<br>equity: 11853.562095<br>margin: 3917.818598<br>free margin: 7935.743497<br>margin level: 3.025552",
          "balance: 12079.399897 USD<br>equity: 11550.734285<br>margin: 3037.995597<br>free margin: 8512.738688<br>margin level: 3.802091",
          "balance: 11875.309346 USD<br>equity: 10707.752835<br>margin: 3201.225697<br>free margin: 7506.527138<br>margin level: 3.344892",
          "balance: 12049.075101 USD<br>equity: 10747.172835<br>margin: 1722.245200<br>free margin: 9024.927635<br>margin level: 6.240211",
          "balance: 12049.075101 USD<br>equity: 10206.057072<br>margin: 2992.245200<br>free margin: 7213.811872<br>margin level: 3.410836",
          "balance: 10233.252835 USD<br>equity: 10190.321859<br>margin: 1550.214400<br>free margin: 8640.107459<br>margin level: 6.573492",
          "balance: 10247.705712 USD<br>equity: 10280.709775<br>margin: 1013.297200<br>free margin: 9267.412575<br>margin level: 10.145799",
          "balance: 10097.280264 USD<br>equity: 10301.898202<br>margin: 890.690900<br>free margin: 9411.207302<br>margin level: 11.566188",
          "balance: 10301.898202 USD<br>equity: 9786.082561<br>margin: 2256.940818<br>free margin: 7529.141743<br>margin level: 4.335994",
          "balance: 10301.898202 USD<br>equity: 9626.954427<br>margin: 5806.692818<br>free margin: 3820.261608<br>margin level: 1.657907",
          "balance: 9463.519709 USD<br>equity: 9455.560882<br>margin: 3528.049569<br>free margin: 5927.511313<br>margin level: 2.680110",
          "balance: 9463.519709 USD<br>equity: 9732.390026<br>margin: 3761.921030<br>free margin: 5970.468995<br>margin level: 2.587080",
          "balance: 9539.821802 USD<br>equity: 9451.496531<br>margin: 6237.119630<br>free margin: 3214.376901<br>margin level: 1.515362",
          "balance: 9673.249267 USD<br>equity: 9376.891775<br>margin: 3800.952373<br>free margin: 5575.939402<br>margin level: 2.466985",
          "balance: 9376.891775 USD<br>equity: 9501.003563<br>margin: 2229.122162<br>free margin: 7271.881401<br>margin level: 4.262218",
          "balance: 9376.891775 USD<br>equity: 9641.936625<br>margin: 3634.107762<br>free margin: 6007.828863<br>margin level: 2.653179"
         ],
         "legendgroup": "g3",
         "line": {
          "color": "rgba(0.7372549019607844, 0.7411764705882353, 0.13333333333333333, 1.0)"
         },
         "mode": "lines+markers",
         "name": "USDJPY",
         "opacity": 1,
         "type": "scatter",
         "x": [
          "2021-05-05T00:00:00+00:00",
          "2021-05-06T00:00:00+00:00",
          "2021-05-07T00:00:00+00:00",
          "2021-05-10T00:00:00+00:00",
          "2021-05-11T00:00:00+00:00",
          "2021-05-12T00:00:00+00:00",
          "2021-05-13T00:00:00+00:00",
          "2021-05-14T00:00:00+00:00",
          "2021-05-17T00:00:00+00:00",
          "2021-05-18T00:00:00+00:00",
          "2021-05-19T00:00:00+00:00",
          "2021-05-20T00:00:00+00:00",
          "2021-05-21T00:00:00+00:00",
          "2021-05-24T00:00:00+00:00",
          "2021-05-25T00:00:00+00:00",
          "2021-05-26T00:00:00+00:00",
          "2021-05-27T00:00:00+00:00",
          "2021-05-28T00:00:00+00:00",
          "2021-05-31T00:00:00+00:00",
          "2021-06-01T00:00:00+00:00",
          "2021-06-02T00:00:00+00:00",
          "2021-06-03T00:00:00+00:00",
          "2021-06-04T00:00:00+00:00",
          "2021-06-07T00:00:00+00:00",
          "2021-06-08T00:00:00+00:00",
          "2021-06-09T00:00:00+00:00",
          "2021-06-10T00:00:00+00:00",
          "2021-06-11T00:00:00+00:00",
          "2021-06-14T00:00:00+00:00",
          "2021-06-15T00:00:00+00:00",
          "2021-06-16T00:00:00+00:00",
          "2021-06-17T00:00:00+00:00",
          "2021-06-18T00:00:00+00:00",
          "2021-06-21T00:00:00+00:00",
          "2021-06-22T00:00:00+00:00",
          "2021-06-23T00:00:00+00:00",
          "2021-06-24T00:00:00+00:00",
          "2021-06-25T00:00:00+00:00",
          "2021-06-28T00:00:00+00:00",
          "2021-06-29T00:00:00+00:00",
          "2021-06-30T00:00:00+00:00",
          "2021-07-01T00:00:00+00:00",
          "2021-07-02T00:00:00+00:00",
          "2021-07-05T00:00:00+00:00",
          "2021-07-06T00:00:00+00:00",
          "2021-07-07T00:00:00+00:00",
          "2021-07-08T00:00:00+00:00",
          "2021-07-09T00:00:00+00:00",
          "2021-07-12T00:00:00+00:00",
          "2021-07-13T00:00:00+00:00",
          "2021-07-14T00:00:00+00:00",
          "2021-07-15T00:00:00+00:00",
          "2021-07-16T00:00:00+00:00",
          "2021-07-19T00:00:00+00:00",
          "2021-07-20T00:00:00+00:00",
          "2021-07-21T00:00:00+00:00",
          "2021-07-22T00:00:00+00:00",
          "2021-07-23T00:00:00+00:00",
          "2021-07-26T00:00:00+00:00",
          "2021-07-27T00:00:00+00:00",
          "2021-07-28T00:00:00+00:00",
          "2021-07-29T00:00:00+00:00",
          "2021-07-30T00:00:00+00:00",
          "2021-08-02T00:00:00+00:00",
          "2021-08-03T00:00:00+00:00",
          "2021-08-04T00:00:00+00:00",
          "2021-08-05T00:00:00+00:00",
          "2021-08-06T00:00:00+00:00",
          "2021-08-09T00:00:00+00:00",
          "2021-08-10T00:00:00+00:00",
          "2021-08-11T00:00:00+00:00",
          "2021-08-12T00:00:00+00:00",
          "2021-08-13T00:00:00+00:00",
          "2021-08-16T00:00:00+00:00",
          "2021-08-17T00:00:00+00:00",
          "2021-08-18T00:00:00+00:00",
          "2021-08-19T00:00:00+00:00",
          "2021-08-20T00:00:00+00:00",
          "2021-08-23T00:00:00+00:00",
          "2021-08-24T00:00:00+00:00",
          "2021-08-25T00:00:00+00:00",
          "2021-08-26T00:00:00+00:00",
          "2021-08-27T00:00:00+00:00",
          "2021-08-30T00:00:00+00:00",
          "2021-08-31T00:00:00+00:00",
          "2021-09-01T00:00:00+00:00",
          "2021-09-02T00:00:00+00:00",
          "2021-09-03T00:00:00+00:00"
         ],
         "y": [
          109.188,
          109.09,
          108.604,
          108.81,
          108.615,
          109.699,
          109.453,
          109.362,
          109.209,
          108.888,
          109.227,
          108.767,
          108.945,
          108.74,
          108.747,
          109.139,
          109.808,
          109.872,
          109.556,
          109.467,
          109.547,
          110.276,
          109.524,
          109.238,
          109.492,
          109.618,
          109.319,
          109.682,
          110.071,
          110.056,
          110.708,
          110.221,
          110.211,
          110.314,
          110.658,
          110.949,
          110.874,
          110.778,
          110.614,
          110.538,
          111.101,
          111.521,
          111.02,
          110.962,
          110.61,
          110.608,
          109.748,
          110.102,
          110.349,
          110.627,
          109.95,
          109.831,
          110.081,
          109.447,
          109.843,
          110.286,
          110.149,
          110.547,
          110.381,
          109.774,
          109.909,
          109.47,
          109.656,
          109.305,
          109.042,
          109.473,
          109.761,
          110.217,
          110.267,
          110.56,
          110.428,
          110.386,
          109.592,
          109.243,
          109.595,
          109.763,
          109.763,
          109.799,
          109.694,
          109.679,
          110.023,
          110.081,
          109.85,
          109.913,
          110.007,
          110.025,
          109.937,
          109.712
         ],
         "yaxis": "y3"
        },
        {
         "hovertext": [
          "order id: 4<br>hold probability: 0.3816<br>hold: False<br>volume: 0.377736<br>modified volume: 0.3800<br>fee: 0.018988935417678682<br>error: ",
          "order id: 6<br>hold probability: 0.2947<br>hold: False<br>volume: -1.033022<br>modified volume: 1.0300<br>fee: 0.021415952543826444<br>error: ",
          "order id: 12<br>hold probability: 0.3110<br>hold: False<br>volume: 2.369493<br>modified volume: 2.3700<br>fee: 0.024523171928121798<br>error: ",
          "order id: 14<br>hold probability: 0.3514<br>hold: False<br>volume: -0.063468<br>modified volume: 0.0600<br>fee: 0.024498544684742992<br>error: ",
          "order id: 17<br>hold probability: 0.4997<br>hold: False<br>volume: -0.708140<br>modified volume: 0.7100<br>fee: 0.016341960488465576<br>error: ",
          "order id: 20<br>hold probability: 0.1707<br>hold: False<br>volume: -0.174451<br>modified volume: 0.1700<br>fee: 0.025022636290992148<br>error: ",
          "order id: 21<br>hold probability: 0.4558<br>hold: False<br>volume: -1.778150<br>modified volume: 1.7800<br>fee: 0.016466104107632877<br>error: ",
          "order id: 24<br>hold probability: 0.3909<br>hold: False<br>volume: -0.081575<br>modified volume: 0.0800<br>fee: 0.02214179359457737<br>error: ",
          "order id: None<br>hold probability: 0.3579<br>hold: False<br>volume: -0.130909<br>modified volume: 0.1300<br>fee: None<br>error: cannot add more orders",
          "order id: 32<br>hold probability: 0.4119<br>hold: False<br>volume: 0.224711<br>modified volume: 0.2200<br>fee: 0.016405559467805586<br>error: ",
          "order id: 34<br>hold probability: 0.2393<br>hold: False<br>volume: 0.225721<br>modified volume: 0.2300<br>fee: 0.02543274840238957<br>error: ",
          "order id: 37<br>hold probability: 0.3526<br>hold: False<br>volume: 0.277057<br>modified volume: 0.2800<br>fee: 0.020102132703286434<br>error: ",
          "order id: 39<br>hold probability: 0.3273<br>hold: False<br>volume: -0.906348<br>modified volume: 0.9100<br>fee: 0.020148031125820094<br>error: ",
          "order id: 41<br>hold probability: 0.4298<br>hold: False<br>volume: 0.110400<br>modified volume: 0.1100<br>fee: 0.020807569424829416<br>error: ",
          "order id: 42<br>hold probability: 0.0703<br>hold: False<br>volume: 0.119828<br>modified volume: 0.1200<br>fee: 0.02159572324759302<br>error: ",
          "order id: 44<br>hold probability: 0.4292<br>hold: False<br>volume: -0.401413<br>modified volume: 0.4000<br>fee: 0.01904128603097018<br>error: ",
          "order id: 48<br>hold probability: 0.1276<br>hold: False<br>volume: 0.262321<br>modified volume: 0.2600<br>fee: 0.020930182035282463<br>error: ",
          "order id: 50<br>hold probability: 0.3506<br>hold: False<br>volume: -0.580352<br>modified volume: 0.5800<br>fee: 0.023577141280574726<br>error: ",
          "order id: 52<br>hold probability: 0.2699<br>hold: False<br>volume: -0.725158<br>modified volume: 0.7300<br>fee: 0.01749325717008417<br>error: ",
          "order id: 55<br>hold probability: 0.3977<br>hold: False<br>volume: -0.392764<br>modified volume: 0.3900<br>fee: 0.01857976466302805<br>error: ",
          "order id: 57<br>hold probability: 0.1848<br>hold: False<br>volume: -2.045597<br>modified volume: 2.0500<br>fee: 0.0170115919981429<br>error: ",
          "order id: 60<br>hold probability: 0.1729<br>hold: False<br>volume: 0.275818<br>modified volume: 0.2800<br>fee: 0.023063011675507273<br>error: ",
          "order id: 62<br>hold probability: 0.2255<br>hold: False<br>volume: -0.015701<br>modified volume: 0.0200<br>fee: 0.01726762776747701<br>error: ",
          "order id: 72<br>hold probability: 0.2973<br>hold: False<br>volume: -0.098838<br>modified volume: 0.1000<br>fee: 0.01892831950107583<br>error: ",
          "order id: 76<br>hold probability: 0.4174<br>hold: False<br>volume: -1.197099<br>modified volume: 1.2000<br>fee: 0.01840317166902213<br>error: ",
          "order id: 79<br>hold probability: 0.4651<br>hold: False<br>volume: -0.729055<br>modified volume: 0.7300<br>fee: 0.02204989708801977<br>error: ",
          "order id: 81<br>hold probability: 0.4364<br>hold: False<br>volume: 1.780079<br>modified volume: 1.7800<br>fee: 0.0158315885096169<br>error: ",
          "order id: 82<br>hold probability: 0.4879<br>hold: False<br>volume: -0.098432<br>modified volume: 0.1000<br>fee: 0.02097510728589954<br>error: ",
          "order id: 87<br>hold probability: 0.4663<br>hold: False<br>volume: 0.605129<br>modified volume: 0.6100<br>fee: 0.014756720013070969<br>error: ",
          "order id: None<br>hold probability: 0.2803<br>hold: False<br>volume: 0.836977<br>modified volume: 0.8400<br>fee: None<br>error: cannot add more orders",
          "order id: None<br>hold probability: 0.1920<br>hold: False<br>volume: -0.222860<br>modified volume: 0.2200<br>fee: None<br>error: cannot add more orders",
          "order id: 91<br>hold probability: 0.3255<br>hold: False<br>volume: 0.811104<br>modified volume: 0.8100<br>fee: 0.023487767122871962<br>error: ",
          "order id: 97<br>hold probability: 0.4639<br>hold: False<br>volume: 1.231829<br>modified volume: 1.2300<br>fee: 0.020230597329247826<br>error: ",
          "order id: 100<br>hold probability: 0.3912<br>hold: False<br>volume: 0.545763<br>modified volume: 0.5500<br>fee: 0.024697390386368395<br>error: ",
          "order id: 101<br>hold probability: 0.3073<br>hold: False<br>volume: 1.268020<br>modified volume: 1.2700<br>fee: 0.02350463449325266<br>error: ",
          "order id: 104<br>hold probability: 0.4328<br>hold: False<br>volume: -0.232117<br>modified volume: 0.2300<br>fee: 0.021067850125918823<br>error: ",
          "order id: 107<br>hold probability: 0.3270<br>hold: False<br>volume: 0.387161<br>modified volume: 0.3900<br>fee: 0.0189591811129136<br>error: ",
          "order id: 109<br>hold probability: 0.2309<br>hold: False<br>volume: 0.957595<br>modified volume: 0.9600<br>fee: 0.026203486801369864<br>error: ",
          "order id: 113<br>hold probability: 0.4842<br>hold: False<br>volume: -2.241110<br>modified volume: 2.2400<br>fee: 0.014903362513911446<br>error: ",
          "order id: 117<br>hold probability: 0.3665<br>hold: False<br>volume: -1.944258<br>modified volume: 1.9400<br>fee: 0.018838885931917803<br>error: ",
          "order id: 119<br>hold probability: 0.4498<br>hold: False<br>volume: 1.121941<br>modified volume: 1.1200<br>fee: 0.018884019207726793<br>error: "
         ],
         "legendgroup": "g3",
         "marker": {
          "color": [
           "green",
           "red",
           "green",
           "red",
           "red",
           "red",
           "red",
           "red",
           "gray",
           "green",
           "green",
           "green",
           "red",
           "green",
           "green",
           "red",
           "green",
           "red",
           "red",
           "red",
           "red",
           "green",
           "red",
           "red",
           "red",
           "red",
           "green",
           "red",
           "green",
           "gray",
           "gray",
           "green",
           "green",
           "green",
           "green",
           "red",
           "green",
           "green",
           "red",
           "red",
           "green"
          ],
          "size": [
           10.628930817610062,
           15.125786163522012,
           24.39622641509434,
           8.415094339622641,
           12.91194968553459,
           9.176100628930818,
           20.31446540880503,
           8.553459119496855,
           8.89937106918239,
           9.522012578616351,
           9.59119496855346,
           9.937106918238994,
           14.29559748427673,
           8.761006289308176,
           8.830188679245284,
           10.767295597484276,
           9.79874213836478,
           12.0125786163522,
           13.050314465408803,
           10.69811320754717,
           22.182389937106915,
           9.937106918238994,
           8.138364779874214,
           8.69182389937107,
           16.30188679245283,
           13.050314465408803,
           20.31446540880503,
           8.69182389937107,
           12.220125786163521,
           13.81132075471698,
           9.522012578616351,
           13.60377358490566,
           16.50943396226415,
           11.80503144654088,
           16.78616352201258,
           9.59119496855346,
           10.69811320754717,
           14.641509433962263,
           23.496855345911953,
           21.42138364779874,
           15.748427672955977
          ],
          "symbol": [
           "triangle-up",
           "triangle-down",
           "triangle-up",
           "triangle-down",
           "triangle-down",
           "triangle-down",
           "triangle-down",
           "triangle-down",
           "triangle-down",
           "triangle-up",
           "triangle-up",
           "triangle-up",
           "triangle-down",
           "triangle-up",
           "triangle-up",
           "triangle-down",
           "triangle-up",
           "triangle-down",
           "triangle-down",
           "triangle-down",
           "triangle-down",
           "triangle-up",
           "triangle-down",
           "triangle-down",
           "triangle-down",
           "triangle-down",
           "triangle-up",
           "triangle-down",
           "triangle-up",
           "triangle-down",
           "triangle-down",
           "triangle-up",
           "triangle-up",
           "triangle-up",
           "triangle-up",
           "triangle-down",
           "triangle-up",
           "triangle-up",
           "triangle-down",
           "triangle-down",
           "triangle-up"
          ]
         },
         "mode": "markers",
         "name": "USDJPY",
         "showlegend": false,
         "type": "scatter",
         "x": [
          "2021-05-20T00:00:00+00:00",
          "2021-05-21T00:00:00+00:00",
          "2021-05-27T00:00:00+00:00",
          "2021-05-28T00:00:00+00:00",
          "2021-05-31T00:00:00+00:00",
          "2021-06-02T00:00:00+00:00",
          "2021-06-03T00:00:00+00:00",
          "2021-06-07T00:00:00+00:00",
          "2021-06-08T00:00:00+00:00",
          "2021-06-14T00:00:00+00:00",
          "2021-06-15T00:00:00+00:00",
          "2021-06-16T00:00:00+00:00",
          "2021-06-17T00:00:00+00:00",
          "2021-06-21T00:00:00+00:00",
          "2021-06-22T00:00:00+00:00",
          "2021-06-23T00:00:00+00:00",
          "2021-06-25T00:00:00+00:00",
          "2021-06-28T00:00:00+00:00",
          "2021-07-01T00:00:00+00:00",
          "2021-07-05T00:00:00+00:00",
          "2021-07-06T00:00:00+00:00",
          "2021-07-09T00:00:00+00:00",
          "2021-07-13T00:00:00+00:00",
          "2021-07-22T00:00:00+00:00",
          "2021-07-26T00:00:00+00:00",
          "2021-07-27T00:00:00+00:00",
          "2021-07-29T00:00:00+00:00",
          "2021-07-30T00:00:00+00:00",
          "2021-08-03T00:00:00+00:00",
          "2021-08-04T00:00:00+00:00",
          "2021-08-05T00:00:00+00:00",
          "2021-08-09T00:00:00+00:00",
          "2021-08-12T00:00:00+00:00",
          "2021-08-16T00:00:00+00:00",
          "2021-08-18T00:00:00+00:00",
          "2021-08-20T00:00:00+00:00",
          "2021-08-24T00:00:00+00:00",
          "2021-08-25T00:00:00+00:00",
          "2021-08-30T00:00:00+00:00",
          "2021-09-01T00:00:00+00:00",
          "2021-09-02T00:00:00+00:00"
         ],
         "y": [
          108.767,
          108.945,
          109.808,
          109.872,
          109.556,
          109.547,
          110.276,
          109.238,
          109.492,
          110.071,
          110.056,
          110.708,
          110.221,
          110.314,
          110.658,
          110.949,
          110.778,
          110.614,
          111.521,
          110.962,
          110.61,
          110.102,
          110.627,
          110.149,
          110.381,
          109.774,
          109.47,
          109.656,
          109.042,
          109.473,
          109.761,
          110.267,
          110.386,
          109.243,
          109.763,
          109.799,
          109.679,
          110.023,
          109.913,
          110.025,
          109.937
         ],
         "yaxis": "y3"
        },
        {
         "hovertext": [
          "order id: 6<br>order type: Sell<br>close probability: 0.5940<br>profit: 173.893295",
          "order id: 4<br>order type: Buy<br>close probability: 0.8561<br>profit: -13.624096",
          "order id: 12<br>order type: Buy<br>close probability: 0.7846<br>profit: 85.153708",
          "order id: 14<br>order type: Sell<br>close probability: 0.5110<br>profit: 15.964518",
          "order id: 17<br>order type: Sell<br>close probability: 0.6240<br>profit: -4.758498",
          "order id: 21<br>order type: Sell<br>close probability: 0.5061<br>profit: 1664.558427",
          "order id: 24<br>order type: Sell<br>close probability: 0.9151<br>profit: -29.348596",
          "order id: 20<br>order type: Sell<br>close probability: 0.5743<br>profit: 31.564643",
          "order id: 32<br>order type: Buy<br>close probability: 0.5866<br>profit: -6.277916",
          "order id: 34<br>order type: Buy<br>close probability: 0.5513<br>profit: 29.123731<br>---------------------------------<br>order id: 37<br>order type: Buy<br>close probability: 0.6630<br>profit: -128.821728",
          "order id: 39<br>order type: Sell<br>close probability: 0.7224<br>profit: -8.379117",
          "order id: 41<br>order type: Buy<br>close probability: 0.6243<br>profit: 32.127065",
          "order id: 42<br>order type: Buy<br>close probability: 0.5919<br>profit: 21.040562",
          "order id: 48<br>order type: Buy<br>close probability: 0.7464<br>profit: -43.468139",
          "order id: 50<br>order type: Sell<br>close probability: 0.5882<br>profit: 27.506611",
          "order id: 44<br>order type: Sell<br>close probability: 0.5506<br>profit: -61.580467",
          "order id: 52<br>order type: Sell<br>close probability: 0.9642<br>profit: 589.693447",
          "order id: 57<br>order type: Sell<br>close probability: 0.6067<br>profit: -27.822367",
          "order id: 55<br>order type: Sell<br>close probability: 0.6699<br>profit: 424.803998",
          "order id: 60<br>order type: Buy<br>close probability: 0.8138<br>profit: 56.821862",
          "order id: 62<br>order type: Sell<br>close probability: 0.5063<br>profit: 14.180557",
          "order id: 76<br>order type: Sell<br>close probability: 0.5843<br>profit: 643.427582",
          "order id: 79<br>order type: Sell<br>close probability: 0.7996<br>profit: -104.310316",
          "order id: 72<br>order type: Sell<br>close probability: 0.9319<br>profit: 60.297039",
          "order id: 82<br>order type: Sell<br>close probability: 0.5703<br>profit: 54.384998",
          "order id: 87<br>order type: Buy<br>close probability: 0.6317<br>profit: 642.140868",
          "order id: 81<br>order type: Buy<br>close probability: 0.6527<br>profit: 1261.011701",
          "order id: 91<br>order type: Buy<br>close probability: 0.7208<br>profit: 197.453789",
          "order id: 97<br>order type: Buy<br>close probability: 0.5362<br>profit: -913.847393",
          "order id: 100<br>order type: Buy<br>close probability: 0.5942<br>profit: 164.256066",
          "order id: 101<br>order type: Buy<br>close probability: 0.5728<br>profit: 14.452877",
          "order id: 104<br>order type: Sell<br>close probability: 0.5309<br>profit: 17.598405",
          "order id: 107<br>order type: Buy<br>close probability: 0.6068<br>profit: 76.302093",
          "order id: 109<br>order type: Buy<br>close probability: 0.7445<br>profit: -36.829790",
          "order id: 113<br>order type: Sell<br>close probability: 0.7365<br>profit: -258.362674"
         ],
         "legendgroup": "g3",
         "marker": {
          "color": "black",
          "line": {
           "width": 1.5
          },
          "size": 7,
          "symbol": "line-ns"
         },
         "mode": "markers",
         "name": "USDJPY",
         "showlegend": false,
         "type": "scatter",
         "x": [
          "2021-05-24T00:00:00+00:00",
          "2021-05-25T00:00:00+00:00",
          "2021-05-28T00:00:00+00:00",
          "2021-05-31T00:00:00+00:00",
          "2021-06-02T00:00:00+00:00",
          "2021-06-07T00:00:00+00:00",
          "2021-06-09T00:00:00+00:00",
          "2021-06-10T00:00:00+00:00",
          "2021-06-15T00:00:00+00:00",
          "2021-06-17T00:00:00+00:00",
          "2021-06-18T00:00:00+00:00",
          "2021-06-22T00:00:00+00:00",
          "2021-06-24T00:00:00+00:00",
          "2021-06-28T00:00:00+00:00",
          "2021-06-29T00:00:00+00:00",
          "2021-06-30T00:00:00+00:00",
          "2021-07-06T00:00:00+00:00",
          "2021-07-07T00:00:00+00:00",
          "2021-07-08T00:00:00+00:00",
          "2021-07-12T00:00:00+00:00",
          "2021-07-15T00:00:00+00:00",
          "2021-07-27T00:00:00+00:00",
          "2021-07-28T00:00:00+00:00",
          "2021-07-29T00:00:00+00:00",
          "2021-08-03T00:00:00+00:00",
          "2021-08-06T00:00:00+00:00",
          "2021-08-09T00:00:00+00:00",
          "2021-08-10T00:00:00+00:00",
          "2021-08-13T00:00:00+00:00",
          "2021-08-17T00:00:00+00:00",
          "2021-08-20T00:00:00+00:00",
          "2021-08-23T00:00:00+00:00",
          "2021-08-30T00:00:00+00:00",
          "2021-08-31T00:00:00+00:00",
          "2021-09-01T00:00:00+00:00"
         ],
         "y": [
          108.74,
          108.747,
          109.872,
          109.556,
          109.547,
          109.238,
          109.618,
          109.319,
          110.056,
          110.221,
          110.211,
          110.658,
          110.874,
          110.614,
          110.538,
          111.101,
          110.61,
          110.608,
          109.748,
          110.349,
          109.831,
          109.774,
          109.909,
          109.47,
          109.042,
          110.217,
          110.267,
          110.56,
          109.592,
          109.595,
          109.799,
          109.694,
          109.913,
          110.007,
          110.025
         ],
         "yaxis": "y3"
        }
       ],
       "layout": {
        "height": 600,
        "template": {
         "data": {
          "bar": [
           {
            "error_x": {
             "color": "#2a3f5f"
            },
            "error_y": {
             "color": "#2a3f5f"
            },
            "marker": {
             "line": {
              "color": "#E5ECF6",
              "width": 0.5
             },
             "pattern": {
              "fillmode": "overlay",
              "size": 10,
              "solidity": 0.2
             }
            },
            "type": "bar"
           }
          ],
          "barpolar": [
           {
            "marker": {
             "line": {
              "color": "#E5ECF6",
              "width": 0.5
             },
             "pattern": {
              "fillmode": "overlay",
              "size": 10,
              "solidity": 0.2
             }
            },
            "type": "barpolar"
           }
          ],
          "carpet": [
           {
            "aaxis": {
             "endlinecolor": "#2a3f5f",
             "gridcolor": "white",
             "linecolor": "white",
             "minorgridcolor": "white",
             "startlinecolor": "#2a3f5f"
            },
            "baxis": {
             "endlinecolor": "#2a3f5f",
             "gridcolor": "white",
             "linecolor": "white",
             "minorgridcolor": "white",
             "startlinecolor": "#2a3f5f"
            },
            "type": "carpet"
           }
          ],
          "choropleth": [
           {
            "colorbar": {
             "outlinewidth": 0,
             "ticks": ""
            },
            "type": "choropleth"
           }
          ],
          "contour": [
           {
            "colorbar": {
             "outlinewidth": 0,
             "ticks": ""
            },
            "colorscale": [
             [
              0,
              "#0d0887"
             ],
             [
              0.1111111111111111,
              "#46039f"
             ],
             [
              0.2222222222222222,
              "#7201a8"
             ],
             [
              0.3333333333333333,
              "#9c179e"
             ],
             [
              0.4444444444444444,
              "#bd3786"
             ],
             [
              0.5555555555555556,
              "#d8576b"
             ],
             [
              0.6666666666666666,
              "#ed7953"
             ],
             [
              0.7777777777777778,
              "#fb9f3a"
             ],
             [
              0.8888888888888888,
              "#fdca26"
             ],
             [
              1,
              "#f0f921"
             ]
            ],
            "type": "contour"
           }
          ],
          "contourcarpet": [
           {
            "colorbar": {
             "outlinewidth": 0,
             "ticks": ""
            },
            "type": "contourcarpet"
           }
          ],
          "heatmap": [
           {
            "colorbar": {
             "outlinewidth": 0,
             "ticks": ""
            },
            "colorscale": [
             [
              0,
              "#0d0887"
             ],
             [
              0.1111111111111111,
              "#46039f"
             ],
             [
              0.2222222222222222,
              "#7201a8"
             ],
             [
              0.3333333333333333,
              "#9c179e"
             ],
             [
              0.4444444444444444,
              "#bd3786"
             ],
             [
              0.5555555555555556,
              "#d8576b"
             ],
             [
              0.6666666666666666,
              "#ed7953"
             ],
             [
              0.7777777777777778,
              "#fb9f3a"
             ],
             [
              0.8888888888888888,
              "#fdca26"
             ],
             [
              1,
              "#f0f921"
             ]
            ],
            "type": "heatmap"
           }
          ],
          "heatmapgl": [
           {
            "colorbar": {
             "outlinewidth": 0,
             "ticks": ""
            },
            "colorscale": [
             [
              0,
              "#0d0887"
             ],
             [
              0.1111111111111111,
              "#46039f"
             ],
             [
              0.2222222222222222,
              "#7201a8"
             ],
             [
              0.3333333333333333,
              "#9c179e"
             ],
             [
              0.4444444444444444,
              "#bd3786"
             ],
             [
              0.5555555555555556,
              "#d8576b"
             ],
             [
              0.6666666666666666,
              "#ed7953"
             ],
             [
              0.7777777777777778,
              "#fb9f3a"
             ],
             [
              0.8888888888888888,
              "#fdca26"
             ],
             [
              1,
              "#f0f921"
             ]
            ],
            "type": "heatmapgl"
           }
          ],
          "histogram": [
           {
            "marker": {
             "pattern": {
              "fillmode": "overlay",
              "size": 10,
              "solidity": 0.2
             }
            },
            "type": "histogram"
           }
          ],
          "histogram2d": [
           {
            "colorbar": {
             "outlinewidth": 0,
             "ticks": ""
            },
            "colorscale": [
             [
              0,
              "#0d0887"
             ],
             [
              0.1111111111111111,
              "#46039f"
             ],
             [
              0.2222222222222222,
              "#7201a8"
             ],
             [
              0.3333333333333333,
              "#9c179e"
             ],
             [
              0.4444444444444444,
              "#bd3786"
             ],
             [
              0.5555555555555556,
              "#d8576b"
             ],
             [
              0.6666666666666666,
              "#ed7953"
             ],
             [
              0.7777777777777778,
              "#fb9f3a"
             ],
             [
              0.8888888888888888,
              "#fdca26"
             ],
             [
              1,
              "#f0f921"
             ]
            ],
            "type": "histogram2d"
           }
          ],
          "histogram2dcontour": [
           {
            "colorbar": {
             "outlinewidth": 0,
             "ticks": ""
            },
            "colorscale": [
             [
              0,
              "#0d0887"
             ],
             [
              0.1111111111111111,
              "#46039f"
             ],
             [
              0.2222222222222222,
              "#7201a8"
             ],
             [
              0.3333333333333333,
              "#9c179e"
             ],
             [
              0.4444444444444444,
              "#bd3786"
             ],
             [
              0.5555555555555556,
              "#d8576b"
             ],
             [
              0.6666666666666666,
              "#ed7953"
             ],
             [
              0.7777777777777778,
              "#fb9f3a"
             ],
             [
              0.8888888888888888,
              "#fdca26"
             ],
             [
              1,
              "#f0f921"
             ]
            ],
            "type": "histogram2dcontour"
           }
          ],
          "mesh3d": [
           {
            "colorbar": {
             "outlinewidth": 0,
             "ticks": ""
            },
            "type": "mesh3d"
           }
          ],
          "parcoords": [
           {
            "line": {
             "colorbar": {
              "outlinewidth": 0,
              "ticks": ""
             }
            },
            "type": "parcoords"
           }
          ],
          "pie": [
           {
            "automargin": true,
            "type": "pie"
           }
          ],
          "scatter": [
           {
            "marker": {
             "colorbar": {
              "outlinewidth": 0,
              "ticks": ""
             }
            },
            "type": "scatter"
           }
          ],
          "scatter3d": [
           {
            "line": {
             "colorbar": {
              "outlinewidth": 0,
              "ticks": ""
             }
            },
            "marker": {
             "colorbar": {
              "outlinewidth": 0,
              "ticks": ""
             }
            },
            "type": "scatter3d"
           }
          ],
          "scattercarpet": [
           {
            "marker": {
             "colorbar": {
              "outlinewidth": 0,
              "ticks": ""
             }
            },
            "type": "scattercarpet"
           }
          ],
          "scattergeo": [
           {
            "marker": {
             "colorbar": {
              "outlinewidth": 0,
              "ticks": ""
             }
            },
            "type": "scattergeo"
           }
          ],
          "scattergl": [
           {
            "marker": {
             "colorbar": {
              "outlinewidth": 0,
              "ticks": ""
             }
            },
            "type": "scattergl"
           }
          ],
          "scattermapbox": [
           {
            "marker": {
             "colorbar": {
              "outlinewidth": 0,
              "ticks": ""
             }
            },
            "type": "scattermapbox"
           }
          ],
          "scatterpolar": [
           {
            "marker": {
             "colorbar": {
              "outlinewidth": 0,
              "ticks": ""
             }
            },
            "type": "scatterpolar"
           }
          ],
          "scatterpolargl": [
           {
            "marker": {
             "colorbar": {
              "outlinewidth": 0,
              "ticks": ""
             }
            },
            "type": "scatterpolargl"
           }
          ],
          "scatterternary": [
           {
            "marker": {
             "colorbar": {
              "outlinewidth": 0,
              "ticks": ""
             }
            },
            "type": "scatterternary"
           }
          ],
          "surface": [
           {
            "colorbar": {
             "outlinewidth": 0,
             "ticks": ""
            },
            "colorscale": [
             [
              0,
              "#0d0887"
             ],
             [
              0.1111111111111111,
              "#46039f"
             ],
             [
              0.2222222222222222,
              "#7201a8"
             ],
             [
              0.3333333333333333,
              "#9c179e"
             ],
             [
              0.4444444444444444,
              "#bd3786"
             ],
             [
              0.5555555555555556,
              "#d8576b"
             ],
             [
              0.6666666666666666,
              "#ed7953"
             ],
             [
              0.7777777777777778,
              "#fb9f3a"
             ],
             [
              0.8888888888888888,
              "#fdca26"
             ],
             [
              1,
              "#f0f921"
             ]
            ],
            "type": "surface"
           }
          ],
          "table": [
           {
            "cells": {
             "fill": {
              "color": "#EBF0F8"
             },
             "line": {
              "color": "white"
             }
            },
            "header": {
             "fill": {
              "color": "#C8D4E3"
             },
             "line": {
              "color": "white"
             }
            },
            "type": "table"
           }
          ]
         },
         "layout": {
          "annotationdefaults": {
           "arrowcolor": "#2a3f5f",
           "arrowhead": 0,
           "arrowwidth": 1
          },
          "autotypenumbers": "strict",
          "coloraxis": {
           "colorbar": {
            "outlinewidth": 0,
            "ticks": ""
           }
          },
          "colorscale": {
           "diverging": [
            [
             0,
             "#8e0152"
            ],
            [
             0.1,
             "#c51b7d"
            ],
            [
             0.2,
             "#de77ae"
            ],
            [
             0.3,
             "#f1b6da"
            ],
            [
             0.4,
             "#fde0ef"
            ],
            [
             0.5,
             "#f7f7f7"
            ],
            [
             0.6,
             "#e6f5d0"
            ],
            [
             0.7,
             "#b8e186"
            ],
            [
             0.8,
             "#7fbc41"
            ],
            [
             0.9,
             "#4d9221"
            ],
            [
             1,
             "#276419"
            ]
           ],
           "sequential": [
            [
             0,
             "#0d0887"
            ],
            [
             0.1111111111111111,
             "#46039f"
            ],
            [
             0.2222222222222222,
             "#7201a8"
            ],
            [
             0.3333333333333333,
             "#9c179e"
            ],
            [
             0.4444444444444444,
             "#bd3786"
            ],
            [
             0.5555555555555556,
             "#d8576b"
            ],
            [
             0.6666666666666666,
             "#ed7953"
            ],
            [
             0.7777777777777778,
             "#fb9f3a"
            ],
            [
             0.8888888888888888,
             "#fdca26"
            ],
            [
             1,
             "#f0f921"
            ]
           ],
           "sequentialminus": [
            [
             0,
             "#0d0887"
            ],
            [
             0.1111111111111111,
             "#46039f"
            ],
            [
             0.2222222222222222,
             "#7201a8"
            ],
            [
             0.3333333333333333,
             "#9c179e"
            ],
            [
             0.4444444444444444,
             "#bd3786"
            ],
            [
             0.5555555555555556,
             "#d8576b"
            ],
            [
             0.6666666666666666,
             "#ed7953"
            ],
            [
             0.7777777777777778,
             "#fb9f3a"
            ],
            [
             0.8888888888888888,
             "#fdca26"
            ],
            [
             1,
             "#f0f921"
            ]
           ]
          },
          "colorway": [
           "#636efa",
           "#EF553B",
           "#00cc96",
           "#ab63fa",
           "#FFA15A",
           "#19d3f3",
           "#FF6692",
           "#B6E880",
           "#FF97FF",
           "#FECB52"
          ],
          "font": {
           "color": "#2a3f5f"
          },
          "geo": {
           "bgcolor": "white",
           "lakecolor": "white",
           "landcolor": "#E5ECF6",
           "showlakes": true,
           "showland": true,
           "subunitcolor": "white"
          },
          "hoverlabel": {
           "align": "left"
          },
          "hovermode": "closest",
          "mapbox": {
           "style": "light"
          },
          "paper_bgcolor": "white",
          "plot_bgcolor": "#E5ECF6",
          "polar": {
           "angularaxis": {
            "gridcolor": "white",
            "linecolor": "white",
            "ticks": ""
           },
           "bgcolor": "#E5ECF6",
           "radialaxis": {
            "gridcolor": "white",
            "linecolor": "white",
            "ticks": ""
           }
          },
          "scene": {
           "xaxis": {
            "backgroundcolor": "#E5ECF6",
            "gridcolor": "white",
            "gridwidth": 2,
            "linecolor": "white",
            "showbackground": true,
            "ticks": "",
            "zerolinecolor": "white"
           },
           "yaxis": {
            "backgroundcolor": "#E5ECF6",
            "gridcolor": "white",
            "gridwidth": 2,
            "linecolor": "white",
            "showbackground": true,
            "ticks": "",
            "zerolinecolor": "white"
           },
           "zaxis": {
            "backgroundcolor": "#E5ECF6",
            "gridcolor": "white",
            "gridwidth": 2,
            "linecolor": "white",
            "showbackground": true,
            "ticks": "",
            "zerolinecolor": "white"
           }
          },
          "shapedefaults": {
           "line": {
            "color": "#2a3f5f"
           }
          },
          "ternary": {
           "aaxis": {
            "gridcolor": "white",
            "linecolor": "white",
            "ticks": ""
           },
           "baxis": {
            "gridcolor": "white",
            "linecolor": "white",
            "ticks": ""
           },
           "bgcolor": "#E5ECF6",
           "caxis": {
            "gridcolor": "white",
            "linecolor": "white",
            "ticks": ""
           }
          },
          "title": {
           "x": 0.05
          },
          "xaxis": {
           "automargin": true,
           "gridcolor": "white",
           "linecolor": "white",
           "ticks": "",
           "title": {
            "standoff": 15
           },
           "zerolinecolor": "white",
           "zerolinewidth": 2
          },
          "yaxis": {
           "automargin": true,
           "gridcolor": "white",
           "linecolor": "white",
           "ticks": "",
           "title": {
            "standoff": 15
           },
           "zerolinecolor": "white",
           "zerolinewidth": 2
          }
         }
        },
        "title": {
         "text": "Balance: 9376.891775 USD ~ Equity: 9641.936625 ~ Margin: 3634.107762 ~ Free Margin: 6007.828863 ~ Margin Level: 2.653179"
        },
        "width": 1400,
        "xaxis": {
         "tickformat": "%Y-%m-%d"
        },
        "yaxis": {
         "tickfont": {
          "color": "rgba(0.12156862745098039, 0.4666666666666667, 0.7058823529411765, 0.8)"
         }
        },
        "yaxis2": {
         "overlaying": "y",
         "tickfont": {
          "color": "rgba(0.5643983083429451, 0.36993464052287583, 0.5132641291810843, 0.8)"
         }
        },
        "yaxis3": {
         "overlaying": "y",
         "tickfont": {
          "color": "rgba(0.7372549019607844, 0.7411764705882353, 0.13333333333333333, 0.8)"
         }
        }
       }
      }
     },
     "metadata": {}
    }
   ],
   "metadata": {}
  },
  {
   "cell_type": "markdown",
   "source": [
    "### A Complete Example using `stable-baselines`"
   ],
   "metadata": {}
  },
  {
   "cell_type": "code",
   "execution_count": 11,
   "source": [
    "import gym\n",
    "from gym_mtsim import (\n",
    "    Timeframe, SymbolInfo,\n",
    "    MtSimulator, OrderType, Order, SymbolNotFound, OrderNotFound,\n",
    "    MtEnv,\n",
    "    FOREX_DATA_PATH, STOCKS_DATA_PATH, CRYPTO_DATA_PATH, MIXED_DATA_PATH,\n",
    ")\n",
    "from stable_baselines3 import A2C\n",
    "\n",
    "\n",
    "# env = gym.make('forex-hedge-v0')\n",
    "\n",
    "model = A2C('MultiInputPolicy', env, verbose=0)\n",
    "model.learn(total_timesteps=1000)\n",
    "\n",
    "observation = env.reset()\n",
    "while True:\n",
    "    action, _states = model.predict(observation)\n",
    "    observation, reward, done, info = env.step(action)\n",
    "    if done:\n",
    "        break\n",
    "\n",
    "env.render('advanced_figure', time_format=\"%Y-%m-%d\")"
   ],
   "outputs": [
    {
     "output_type": "display_data",
     "data": {
      "application/vnd.plotly.v1+json": {
       "config": {
        "plotlyServerURL": "https://plot.ly"
       },
       "data": [
        {
         "hovertext": [
          "balance: 10000.000000 USD<br>equity: 10000.000000<br>margin: 0.000000<br>free margin: 10000.000000<br>margin level: inf",
          "balance: 10000.000000 USD<br>equity: 10000.000000<br>margin: 0.000000<br>free margin: 10000.000000<br>margin level: inf",
          "balance: 10000.000000 USD<br>equity: 10000.000000<br>margin: 0.000000<br>free margin: 10000.000000<br>margin level: inf",
          "balance: 10000.000000 USD<br>equity: 10000.000000<br>margin: 0.000000<br>free margin: 10000.000000<br>margin level: inf",
          "balance: 10000.000000 USD<br>equity: 10000.000000<br>margin: 0.000000<br>free margin: 10000.000000<br>margin level: inf",
          "balance: 10000.000000 USD<br>equity: 10000.000000<br>margin: 0.000000<br>free margin: 10000.000000<br>margin level: inf",
          "balance: 10000.000000 USD<br>equity: 10000.000000<br>margin: 0.000000<br>free margin: 10000.000000<br>margin level: inf",
          "balance: 10000.000000 USD<br>equity: 10000.000000<br>margin: 0.000000<br>free margin: 10000.000000<br>margin level: inf",
          "balance: 10000.000000 USD<br>equity: 10000.000000<br>margin: 0.000000<br>free margin: 10000.000000<br>margin level: inf",
          "balance: 10000.000000 USD<br>equity: 10000.000000<br>margin: 0.000000<br>free margin: 10000.000000<br>margin level: inf",
          "balance: 10000.000000 USD<br>equity: 10518.228990<br>margin: 2047.764797<br>free margin: 8470.464193<br>margin level: 5.136444",
          "balance: 10526.778557 USD<br>equity: 10463.223736<br>margin: 666.690097<br>free margin: 9796.533639<br>margin level: 15.694284",
          "balance: 10463.223736 USD<br>equity: 10277.133017<br>margin: 1896.737070<br>free margin: 8380.395947<br>margin level: 5.418322",
          "balance: 10186.558098 USD<br>equity: 9798.630935<br>margin: 1898.963000<br>free margin: 7899.667935<br>margin level: 5.159990",
          "balance: 9824.769574 USD<br>equity: 9121.680875<br>margin: 2950.980000<br>free margin: 6170.700875<br>margin level: 3.091068",
          "balance: 9824.769574 USD<br>equity: 10801.935944<br>margin: 4542.100151<br>free margin: 6259.835793<br>margin level: 2.378181",
          "balance: 9898.443118 USD<br>equity: 11246.858576<br>margin: 3774.823207<br>free margin: 7472.035369<br>margin level: 2.979440",
          "balance: 10956.884318 USD<br>equity: 11338.112195<br>margin: 2932.052307<br>free margin: 8406.059888<br>margin level: 3.866954",
          "balance: 11338.112195 USD<br>equity: 11088.663442<br>margin: 3459.873680<br>free margin: 7628.789762<br>margin level: 3.204933",
          "balance: 11088.663442 USD<br>equity: 11414.735716<br>margin: 2047.593740<br>free margin: 9367.141976<br>margin level: 5.574707",
          "balance: 11440.721633 USD<br>equity: 11412.994234<br>margin: 659.728400<br>free margin: 10753.265834<br>margin level: 17.299535",
          "balance: 11412.994234 USD<br>equity: 12736.461302<br>margin: 3791.458969<br>free margin: 8945.002334<br>margin level: 3.359251",
          "balance: 11827.601051 USD<br>equity: 11412.344693<br>margin: 5595.090469<br>free margin: 5817.254225<br>margin level: 2.039707",
          "balance: 11827.601051 USD<br>equity: 10698.397470<br>margin: 6125.090469<br>free margin: 4573.307001<br>margin level: 1.746651",
          "balance: 11510.286682 USD<br>equity: 11121.235870<br>margin: 4508.391500<br>free margin: 6612.844370<br>margin level: 2.466786",
          "balance: 11510.286682 USD<br>equity: 10849.900439<br>margin: 4588.391500<br>free margin: 6261.508939<br>margin level: 2.364641",
          "balance: 10860.837262 USD<br>equity: 10978.964065<br>margin: 2506.353039<br>free margin: 8472.611026<br>margin level: 4.380454",
          "balance: 10798.057439 USD<br>equity: 11283.873142<br>margin: 2477.409535<br>free margin: 8806.463607<br>margin level: 4.554706",
          "balance: 10981.049001 USD<br>equity: 11073.917177<br>margin: 2053.200211<br>free margin: 9020.716966<br>margin level: 5.393491",
          "balance: 11117.256882 USD<br>equity: 10966.630839<br>margin: 1417.858499<br>free margin: 9548.772340<br>margin level: 7.734644",
          "balance: 11114.990087 USD<br>equity: 11759.230839<br>margin: 726.378000<br>free margin: 11032.852839<br>margin level: 16.188859",
          "balance: 11114.990087 USD<br>equity: 12185.856298<br>margin: 858.315300<br>free margin: 11327.540998<br>margin level: 14.197412",
          "balance: 11114.990087 USD<br>equity: 12416.867835<br>margin: 878.315300<br>free margin: 11538.552535<br>margin level: 14.137142",
          "balance: 12566.562376 USD<br>equity: 12574.079280<br>margin: 1331.937300<br>free margin: 11242.141980<br>margin level: 9.440444",
          "balance: 12574.079280 USD<br>equity: 12289.774686<br>margin: 860.000000<br>free margin: 11429.774686<br>margin level: 14.290436",
          "balance: 12574.079280 USD<br>equity: 12106.574312<br>margin: 2079.099823<br>free margin: 10027.474489<br>margin level: 5.822988",
          "balance: 12106.574312 USD<br>equity: 12900.471682<br>margin: 6851.554060<br>free margin: 6048.917622<br>margin level: 1.882853",
          "balance: 12900.471682 USD<br>equity: 12900.471682<br>margin: 0.000000<br>free margin: 12900.471682<br>margin level: inf",
          "balance: 12900.471682 USD<br>equity: 12825.137253<br>margin: 319.273326<br>free margin: 12505.863927<br>margin level: 40.169774",
          "balance: 12825.137253 USD<br>equity: 12825.137253<br>margin: 0.000000<br>free margin: 12825.137253<br>margin level: inf",
          "balance: 12825.137253 USD<br>equity: 12696.066289<br>margin: 1043.835420<br>free margin: 11652.230869<br>margin level: 12.162900",
          "balance: 12696.066289 USD<br>equity: 13135.794806<br>margin: 2132.496000<br>free margin: 11003.298806<br>margin level: 6.159822",
          "balance: 12651.573814 USD<br>equity: 12353.138425<br>margin: 1926.472277<br>free margin: 10426.666148<br>margin level: 6.412311",
          "balance: 12458.546063 USD<br>equity: 12312.691666<br>margin: 1694.301150<br>free margin: 10618.390516<br>margin level: 7.267121",
          "balance: 12312.691666 USD<br>equity: 13466.020860<br>margin: 1853.608939<br>free margin: 11612.411921<br>margin level: 7.264758",
          "balance: 13466.020860 USD<br>equity: 13466.020860<br>margin: 0.000000<br>free margin: 13466.020860<br>margin level: inf",
          "balance: 13466.020860 USD<br>equity: 13066.330825<br>margin: 1227.675464<br>free margin: 11838.655361<br>margin level: 10.643147",
          "balance: 13066.330825 USD<br>equity: 12696.389465<br>margin: 1090.000000<br>free margin: 11606.389465<br>margin level: 11.648064",
          "balance: 13066.330825 USD<br>equity: 12390.926767<br>margin: 1505.709000<br>free margin: 10885.217767<br>margin level: 8.229297",
          "balance: 13004.020530 USD<br>equity: 12183.577249<br>margin: 1173.024200<br>free margin: 11010.553049<br>margin level: 10.386467",
          "balance: 12118.556008 USD<br>equity: 11043.464533<br>margin: 2827.336365<br>free margin: 8216.128168<br>margin level: 3.905961",
          "balance: 11597.048131 USD<br>equity: 11301.791572<br>margin: 1624.138000<br>free margin: 9677.653572<br>margin level: 6.958640",
          "balance: 11658.111559 USD<br>equity: 11248.620372<br>margin: 3041.006469<br>free margin: 8207.613903<br>margin level: 3.698979",
          "balance: 11233.248385 USD<br>equity: 11445.427689<br>margin: 1536.564445<br>free margin: 9908.863243<br>margin level: 7.448713",
          "balance: 11445.427689 USD<br>equity: 11698.292531<br>margin: 740.000000<br>free margin: 10958.292531<br>margin level: 15.808503",
          "balance: 11698.292531 USD<br>equity: 12551.194459<br>margin: 2499.160062<br>free margin: 10052.034398<br>margin level: 5.022165",
          "balance: 12296.991525 USD<br>equity: 12474.845275<br>margin: 710.000000<br>free margin: 11764.845275<br>margin level: 17.570205",
          "balance: 12474.845275 USD<br>equity: 12477.646996<br>margin: 635.617800<br>free margin: 11842.029196<br>margin level: 19.630739",
          "balance: 12474.845275 USD<br>equity: 12294.046996<br>margin: 635.617800<br>free margin: 11658.429196<br>margin level: 19.341886",
          "balance: 12294.046996 USD<br>equity: 12779.542537<br>margin: 1014.423200<br>free margin: 11765.119337<br>margin level: 12.597841",
          "balance: 12789.527132 USD<br>equity: 13113.912954<br>margin: 4594.772955<br>free margin: 8519.139999<br>margin level: 2.854094",
          "balance: 12789.527132 USD<br>equity: 12736.629305<br>margin: 4594.772955<br>free margin: 8141.856350<br>margin level: 2.771982",
          "balance: 14167.523781 USD<br>equity: 13474.392277<br>margin: 4970.802807<br>free margin: 8503.589470<br>margin level: 2.710707",
          "balance: 14578.752157 USD<br>equity: 13335.824289<br>margin: 3118.679500<br>free margin: 10217.144789<br>margin level: 4.276112",
          "balance: 13331.901653 USD<br>equity: 12917.414100<br>margin: 1052.685191<br>free margin: 11864.728908<br>margin level: 12.270918",
          "balance: 12905.841465 USD<br>equity: 13659.984881<br>margin: 2038.095000<br>free margin: 11621.889881<br>margin level: 6.702330",
          "balance: 12905.841465 USD<br>equity: 13909.010030<br>margin: 4465.845800<br>free margin: 9443.164230<br>margin level: 3.114530",
          "balance: 13822.222838 USD<br>equity: 14766.123354<br>margin: 1965.845800<br>free margin: 12800.277554<br>margin level: 7.511333",
          "balance: 13684.096162 USD<br>equity: 15065.157913<br>margin: 2355.845800<br>free margin: 12709.312113<br>margin level: 6.394798",
          "balance: 15065.157913 USD<br>equity: 14959.823627<br>margin: 774.589200<br>free margin: 14185.234427<br>margin level: 19.313235",
          "balance: 14959.823627 USD<br>equity: 14702.646943<br>margin: 2080.674724<br>free margin: 12621.972219<br>margin level: 7.066288",
          "balance: 14889.744626 USD<br>equity: 15100.676641<br>margin: 3257.584324<br>free margin: 11843.092318<br>margin level: 4.635544",
          "balance: 15063.889038 USD<br>equity: 12963.908596<br>margin: 3882.563823<br>free margin: 9081.344773<br>margin level: 3.339007",
          "balance: 15049.158054 USD<br>equity: 13479.111705<br>margin: 3918.044281<br>free margin: 9561.067423<br>margin level: 3.440265",
          "balance: 14884.218342 USD<br>equity: 15926.163049<br>margin: 4699.503658<br>free margin: 11226.659391<br>margin level: 3.388903",
          "balance: 15611.783636 USD<br>equity: 15574.871488<br>margin: 2869.945128<br>free margin: 12704.926361<br>margin level: 5.426888",
          "balance: 15141.186608 USD<br>equity: 15402.859410<br>margin: 2768.389828<br>free margin: 12634.469582<br>margin level: 5.563833",
          "balance: 15364.535336 USD<br>equity: 15252.198361<br>margin: 3386.846640<br>free margin: 11865.351721<br>margin level: 4.503363",
          "balance: 15527.167336 USD<br>equity: 17149.996323<br>margin: 5105.992481<br>free margin: 12044.003842<br>margin level: 3.358798",
          "balance: 14760.467309 USD<br>equity: 18519.716904<br>margin: 5405.081281<br>free margin: 13114.635623<br>margin level: 3.426353",
          "balance: 15122.676861 USD<br>equity: 18211.579781<br>margin: 5071.405681<br>free margin: 13140.174101<br>margin level: 3.591032",
          "balance: 17794.207783 USD<br>equity: 17787.261867<br>margin: 2262.938013<br>free margin: 15524.323855<br>margin level: 7.860251",
          "balance: 17452.930732 USD<br>equity: 18156.047553<br>margin: 1849.002413<br>free margin: 16307.045140<br>margin level: 9.819375",
          "balance: 17701.926005 USD<br>equity: 18144.947561<br>margin: 2510.801185<br>free margin: 15634.146376<br>margin level: 7.226756",
          "balance: 18056.794922 USD<br>equity: 17823.640059<br>margin: 3584.366985<br>free margin: 14239.273074<br>margin level: 4.972605",
          "balance: 18016.896540 USD<br>equity: 17200.189644<br>margin: 3770.945205<br>free margin: 13429.244439<br>margin level: 4.561241",
          "balance: 17795.431962 USD<br>equity: 16752.715190<br>margin: 2628.367406<br>free margin: 14124.347784<br>margin level: 6.373810",
          "balance: 16749.485482 USD<br>equity: 16670.893120<br>margin: 2790.329942<br>free margin: 13880.563178<br>margin level: 5.974524"
         ],
         "legendgroup": "g1",
         "line": {
          "color": "rgba(0.12156862745098039, 0.4666666666666667, 0.7058823529411765, 1.0)"
         },
         "mode": "lines+markers",
         "name": "GBPCAD",
         "opacity": 1,
         "type": "scatter",
         "x": [
          "2021-05-05T00:00:00+00:00",
          "2021-05-06T00:00:00+00:00",
          "2021-05-07T00:00:00+00:00",
          "2021-05-10T00:00:00+00:00",
          "2021-05-11T00:00:00+00:00",
          "2021-05-12T00:00:00+00:00",
          "2021-05-13T00:00:00+00:00",
          "2021-05-14T00:00:00+00:00",
          "2021-05-17T00:00:00+00:00",
          "2021-05-18T00:00:00+00:00",
          "2021-05-19T00:00:00+00:00",
          "2021-05-20T00:00:00+00:00",
          "2021-05-21T00:00:00+00:00",
          "2021-05-24T00:00:00+00:00",
          "2021-05-25T00:00:00+00:00",
          "2021-05-26T00:00:00+00:00",
          "2021-05-27T00:00:00+00:00",
          "2021-05-28T00:00:00+00:00",
          "2021-05-31T00:00:00+00:00",
          "2021-06-01T00:00:00+00:00",
          "2021-06-02T00:00:00+00:00",
          "2021-06-03T00:00:00+00:00",
          "2021-06-04T00:00:00+00:00",
          "2021-06-07T00:00:00+00:00",
          "2021-06-08T00:00:00+00:00",
          "2021-06-09T00:00:00+00:00",
          "2021-06-10T00:00:00+00:00",
          "2021-06-11T00:00:00+00:00",
          "2021-06-14T00:00:00+00:00",
          "2021-06-15T00:00:00+00:00",
          "2021-06-16T00:00:00+00:00",
          "2021-06-17T00:00:00+00:00",
          "2021-06-18T00:00:00+00:00",
          "2021-06-21T00:00:00+00:00",
          "2021-06-22T00:00:00+00:00",
          "2021-06-23T00:00:00+00:00",
          "2021-06-24T00:00:00+00:00",
          "2021-06-25T00:00:00+00:00",
          "2021-06-28T00:00:00+00:00",
          "2021-06-29T00:00:00+00:00",
          "2021-06-30T00:00:00+00:00",
          "2021-07-01T00:00:00+00:00",
          "2021-07-02T00:00:00+00:00",
          "2021-07-05T00:00:00+00:00",
          "2021-07-06T00:00:00+00:00",
          "2021-07-07T00:00:00+00:00",
          "2021-07-08T00:00:00+00:00",
          "2021-07-09T00:00:00+00:00",
          "2021-07-12T00:00:00+00:00",
          "2021-07-13T00:00:00+00:00",
          "2021-07-14T00:00:00+00:00",
          "2021-07-15T00:00:00+00:00",
          "2021-07-16T00:00:00+00:00",
          "2021-07-19T00:00:00+00:00",
          "2021-07-20T00:00:00+00:00",
          "2021-07-21T00:00:00+00:00",
          "2021-07-22T00:00:00+00:00",
          "2021-07-23T00:00:00+00:00",
          "2021-07-26T00:00:00+00:00",
          "2021-07-27T00:00:00+00:00",
          "2021-07-28T00:00:00+00:00",
          "2021-07-29T00:00:00+00:00",
          "2021-07-30T00:00:00+00:00",
          "2021-08-02T00:00:00+00:00",
          "2021-08-03T00:00:00+00:00",
          "2021-08-04T00:00:00+00:00",
          "2021-08-05T00:00:00+00:00",
          "2021-08-06T00:00:00+00:00",
          "2021-08-09T00:00:00+00:00",
          "2021-08-10T00:00:00+00:00",
          "2021-08-11T00:00:00+00:00",
          "2021-08-12T00:00:00+00:00",
          "2021-08-13T00:00:00+00:00",
          "2021-08-16T00:00:00+00:00",
          "2021-08-17T00:00:00+00:00",
          "2021-08-18T00:00:00+00:00",
          "2021-08-19T00:00:00+00:00",
          "2021-08-20T00:00:00+00:00",
          "2021-08-23T00:00:00+00:00",
          "2021-08-24T00:00:00+00:00",
          "2021-08-25T00:00:00+00:00",
          "2021-08-26T00:00:00+00:00",
          "2021-08-27T00:00:00+00:00",
          "2021-08-30T00:00:00+00:00",
          "2021-08-31T00:00:00+00:00",
          "2021-09-01T00:00:00+00:00",
          "2021-09-02T00:00:00+00:00",
          "2021-09-03T00:00:00+00:00"
         ],
         "y": [
          1.70525,
          1.68648,
          1.69619,
          1.7070699999999999,
          1.71108,
          1.70468,
          1.7082899999999999,
          1.70635,
          1.7059199999999999,
          1.71128,
          1.71211,
          1.7107,
          1.70726,
          1.7044000000000001,
          1.7066,
          1.71089,
          1.71345,
          1.71356,
          1.7132399999999999,
          1.70755,
          1.70462,
          1.7068400000000001,
          1.70999,
          1.71255,
          1.7139199999999999,
          1.70927,
          1.71433,
          1.71691,
          1.71341,
          1.71492,
          1.71638,
          1.71949,
          1.72017,
          1.72173,
          1.7158099999999998,
          1.7177,
          1.7149299999999998,
          1.70721,
          1.71244,
          1.71535,
          1.71437,
          1.71059,
          1.70511,
          1.70716,
          1.71879,
          1.72167,
          1.72692,
          1.7307000000000001,
          1.72832,
          1.72767,
          1.73236,
          1.7407,
          1.73684,
          1.74244,
          1.7273800000000001,
          1.72183,
          1.72851,
          1.72728,
          1.73336,
          1.7481900000000001,
          1.7405300000000001,
          1.73688,
          1.73335,
          1.73577,
          1.7441499999999999,
          1.7412999999999998,
          1.7408299999999999,
          1.7419799999999999,
          1.7408000000000001,
          1.7316500000000001,
          1.73282,
          1.72889,
          1.7357200000000002,
          1.7402199999999999,
          1.7349700000000001,
          1.74061,
          1.74874,
          1.7468,
          1.73506,
          1.72784,
          1.73259,
          1.7377,
          1.7353399999999999,
          1.7338900000000002,
          1.73501,
          1.7372800000000002,
          1.73603,
          1.7362600000000001
         ],
         "yaxis": "y"
        },
        {
         "hovertext": [
          "order id: 1<br>hold probability: 0.2379<br>hold: False<br>volume: 0.470679<br>modified volume: 0.4700<br>fee: 0.00105066797477324<br>error: ",
          "order id: 3<br>hold probability: 0.1068<br>hold: False<br>volume: 0.898151<br>modified volume: 0.9000<br>fee: 0.0002688565718556006<br>error: ",
          "order id: 8<br>hold probability: 0.2718<br>hold: False<br>volume: 0.513266<br>modified volume: 0.5100<br>fee: 0.00045869700992023937<br>error: ",
          "order id: 10<br>hold probability: 0.4390<br>hold: False<br>volume: -0.001154<br>modified volume: 0.0100<br>fee: 0.0003060014104041886<br>error: ",
          "order id: 13<br>hold probability: 0.3565<br>hold: False<br>volume: -1.819243<br>modified volume: 1.8200<br>fee: 0.00028573715127247306<br>error: ",
          "order id: 15<br>hold probability: 0.2484<br>hold: False<br>volume: -0.841441<br>modified volume: 0.8400<br>fee: 0.0011685602629523603<br>error: ",
          "order id: 19<br>hold probability: 0.1627<br>hold: False<br>volume: -0.878858<br>modified volume: 0.8800<br>fee: 0.0011482330831981945<br>error: ",
          "order id: 26<br>hold probability: 0.3904<br>hold: False<br>volume: 0.582241<br>modified volume: 0.5800<br>fee: 0.0012881592250060883<br>error: ",
          "order id: 28<br>hold probability: 0.4630<br>hold: False<br>volume: 1.165102<br>modified volume: 1.1700<br>fee: 0.0006772474832670343<br>error: ",
          "order id: 29<br>hold probability: 0.2114<br>hold: False<br>volume: -0.358278<br>modified volume: 0.3600<br>fee: 0.0012527562635463356<br>error: ",
          "order id: 31<br>hold probability: 0.3415<br>hold: False<br>volume: -0.133053<br>modified volume: 0.1300<br>fee: 0.0007440246244390906<br>error: ",
          "order id: 36<br>hold probability: 0.4019<br>hold: False<br>volume: 0.842656<br>modified volume: 0.8400<br>fee: 0.0013685817453377546<br>error: ",
          "order id: 38<br>hold probability: 0.3348<br>hold: False<br>volume: -3.155049<br>modified volume: 3.1600<br>fee: 0.0001234882592235446<br>error: ",
          "order id: 40<br>hold probability: 0.4206<br>hold: False<br>volume: -0.227846<br>modified volume: 0.2300<br>fee: -0.0011890939715983608<br>error: ",
          "order id: 41<br>hold probability: 0.4211<br>hold: False<br>volume: 0.659543<br>modified volume: 0.6600<br>fee: 0.0006559294958865413<br>error: ",
          "order id: 45<br>hold probability: 0.4261<br>hold: False<br>volume: 0.386791<br>modified volume: 0.3900<br>fee: 0.0006213597346486681<br>error: ",
          "order id: 47<br>hold probability: 0.0948<br>hold: False<br>volume: 0.216329<br>modified volume: 0.2200<br>fee: 0.0004746762890881024<br>error: ",
          "order id: 48<br>hold probability: 0.4219<br>hold: False<br>volume: 1.338565<br>modified volume: 1.3400<br>fee: 0.000903694218152646<br>error: ",
          "order id: 49<br>hold probability: 0.1440<br>hold: False<br>volume: -0.889763<br>modified volume: 0.8900<br>fee: 0.00037853387420568014<br>error: ",
          "order id: 53<br>hold probability: 0.4169<br>hold: False<br>volume: -1.215589<br>modified volume: 1.2200<br>fee: 0.0008979648568703321<br>error: ",
          "order id: 57<br>hold probability: 0.2289<br>hold: False<br>volume: -0.501495<br>modified volume: 0.5000<br>fee: 0.00041609515799915603<br>error: ",
          "order id: 59<br>hold probability: 0.3222<br>hold: False<br>volume: 0.751144<br>modified volume: 0.7500<br>fee: 0.0011266887433815974<br>error: ",
          "order id: 62<br>hold probability: 0.3635<br>hold: False<br>volume: -1.345171<br>modified volume: 1.3500<br>fee: -2.011804372046308e-05<br>error: ",
          "order id: 68<br>hold probability: 0.1568<br>hold: False<br>volume: -1.597291<br>modified volume: 1.6000<br>fee: 0.00059133919069066<br>error: ",
          "order id: 70<br>hold probability: 0.3100<br>hold: False<br>volume: -1.864308<br>modified volume: 1.8600<br>fee: 0.00040455664778692483<br>error: ",
          "order id: 73<br>hold probability: 0.3786<br>hold: False<br>volume: -0.629388<br>modified volume: 0.6300<br>fee: 9.710993056958597e-05<br>error: ",
          "order id: 80<br>hold probability: 0.3034<br>hold: False<br>volume: -1.152562<br>modified volume: 1.1500<br>fee: 0.0008639307802102029<br>error: ",
          "order id: 83<br>hold probability: 0.1189<br>hold: False<br>volume: -0.177726<br>modified volume: 0.1800<br>fee: 0.0001893895393130329<br>error: ",
          "order id: 86<br>hold probability: 0.1138<br>hold: False<br>volume: -0.040387<br>modified volume: 0.0400<br>fee: 0.0012646806277905888<br>error: ",
          "order id: 88<br>hold probability: 0.2193<br>hold: False<br>volume: -0.930262<br>modified volume: 0.9300<br>fee: 0.000765078563321925<br>error: ",
          "order id: 90<br>hold probability: 0.4468<br>hold: False<br>volume: -0.601074<br>modified volume: 0.6000<br>fee: 0.0011308617594929992<br>error: ",
          "order id: 92<br>hold probability: 0.4500<br>hold: False<br>volume: -0.249294<br>modified volume: 0.2500<br>fee: 0.0008365949096688103<br>error: ",
          "order id: 94<br>hold probability: 0.3856<br>hold: False<br>volume: -2.101758<br>modified volume: 2.1000<br>fee: 0.0006978798094924227<br>error: ",
          "order id: None<br>hold probability: 0.4218<br>hold: False<br>volume: 1.164826<br>modified volume: 1.1600<br>fee: None<br>error: cannot add more orders",
          "order id: None<br>hold probability: 0.3649<br>hold: False<br>volume: 1.001139<br>modified volume: 1.0000<br>fee: None<br>error: cannot add more orders",
          "order id: 100<br>hold probability: 0.2297<br>hold: False<br>volume: -0.219396<br>modified volume: 0.2200<br>fee: 0.0007173944088272773<br>error: ",
          "order id: 104<br>hold probability: 0.1725<br>hold: False<br>volume: -1.263892<br>modified volume: 1.2600<br>fee: 0.0002254363131274907<br>error: ",
          "order id: 107<br>hold probability: 0.4914<br>hold: False<br>volume: -0.226234<br>modified volume: 0.2300<br>fee: 5.314559591790161e-05<br>error: ",
          "order id: 109<br>hold probability: 0.4810<br>hold: False<br>volume: -0.228483<br>modified volume: 0.2300<br>fee: 0.0012439749277009526<br>error: "
         ],
         "legendgroup": "g1",
         "marker": {
          "color": [
           "green",
           "green",
           "green",
           "red",
           "red",
           "red",
           "red",
           "green",
           "green",
           "red",
           "red",
           "green",
           "red",
           "red",
           "green",
           "green",
           "green",
           "green",
           "red",
           "red",
           "red",
           "green",
           "red",
           "red",
           "red",
           "red",
           "red",
           "red",
           "red",
           "red",
           "red",
           "red",
           "red",
           "gray",
           "gray",
           "red",
           "red",
           "red",
           "red"
          ],
          "size": [
           11.272151898734178,
           14.265822784810126,
           11.550632911392405,
           8.069620253164556,
           20.670886075949365,
           13.848101265822784,
           14.126582278481013,
           12.037974683544302,
           16.145569620253163,
           10.50632911392405,
           8.905063291139241,
           13.848101265822784,
           30,
           9.60126582278481,
           12.594936708860759,
           10.715189873417721,
           9.531645569620252,
           17.32911392405063,
           14.19620253164557,
           16.493670886075947,
           11.481012658227847,
           13.22151898734177,
           17.39873417721519,
           19.139240506329116,
           20.949367088607595,
           12.386075949367088,
           16.006329113924053,
           9.253164556962025,
           8.278481012658228,
           14.474683544303797,
           12.177215189873419,
           9.740506329113924,
           22.620253164556964,
           16.075949367088604,
           14.962025316455694,
           9.531645569620252,
           16.772151898734176,
           9.60126582278481,
           9.60126582278481
          ],
          "symbol": [
           "triangle-up",
           "triangle-up",
           "triangle-up",
           "triangle-down",
           "triangle-down",
           "triangle-down",
           "triangle-down",
           "triangle-up",
           "triangle-up",
           "triangle-down",
           "triangle-down",
           "triangle-up",
           "triangle-down",
           "triangle-down",
           "triangle-up",
           "triangle-up",
           "triangle-up",
           "triangle-up",
           "triangle-down",
           "triangle-down",
           "triangle-down",
           "triangle-up",
           "triangle-down",
           "triangle-down",
           "triangle-down",
           "triangle-down",
           "triangle-down",
           "triangle-down",
           "triangle-down",
           "triangle-down",
           "triangle-down",
           "triangle-down",
           "triangle-down",
           "triangle-down",
           "triangle-down",
           "triangle-down",
           "triangle-down",
           "triangle-down",
           "triangle-down"
          ]
         },
         "mode": "markers",
         "name": "GBPCAD",
         "showlegend": false,
         "type": "scatter",
         "x": [
          "2021-05-18T00:00:00+00:00",
          "2021-05-20T00:00:00+00:00",
          "2021-05-25T00:00:00+00:00",
          "2021-05-26T00:00:00+00:00",
          "2021-05-28T00:00:00+00:00",
          "2021-05-31T00:00:00+00:00",
          "2021-06-02T00:00:00+00:00",
          "2021-06-09T00:00:00+00:00",
          "2021-06-10T00:00:00+00:00",
          "2021-06-11T00:00:00+00:00",
          "2021-06-14T00:00:00+00:00",
          "2021-06-22T00:00:00+00:00",
          "2021-06-23T00:00:00+00:00",
          "2021-06-25T00:00:00+00:00",
          "2021-06-29T00:00:00+00:00",
          "2021-07-01T00:00:00+00:00",
          "2021-07-02T00:00:00+00:00",
          "2021-07-05T00:00:00+00:00",
          "2021-07-07T00:00:00+00:00",
          "2021-07-13T00:00:00+00:00",
          "2021-07-15T00:00:00+00:00",
          "2021-07-16T00:00:00+00:00",
          "2021-07-20T00:00:00+00:00",
          "2021-07-27T00:00:00+00:00",
          "2021-07-29T00:00:00+00:00",
          "2021-08-02T00:00:00+00:00",
          "2021-08-10T00:00:00+00:00",
          "2021-08-12T00:00:00+00:00",
          "2021-08-13T00:00:00+00:00",
          "2021-08-17T00:00:00+00:00",
          "2021-08-18T00:00:00+00:00",
          "2021-08-19T00:00:00+00:00",
          "2021-08-20T00:00:00+00:00",
          "2021-08-23T00:00:00+00:00",
          "2021-08-24T00:00:00+00:00",
          "2021-08-27T00:00:00+00:00",
          "2021-08-31T00:00:00+00:00",
          "2021-09-01T00:00:00+00:00",
          "2021-09-02T00:00:00+00:00"
         ],
         "y": [
          1.71128,
          1.7107,
          1.7066,
          1.71089,
          1.71356,
          1.7132399999999999,
          1.70462,
          1.70927,
          1.71433,
          1.71691,
          1.71341,
          1.7158099999999998,
          1.7177,
          1.70721,
          1.71535,
          1.71059,
          1.70511,
          1.70716,
          1.72167,
          1.72767,
          1.7407,
          1.73684,
          1.7273800000000001,
          1.7481900000000001,
          1.73688,
          1.73577,
          1.7316500000000001,
          1.72889,
          1.7357200000000002,
          1.7349700000000001,
          1.74061,
          1.74874,
          1.7468,
          1.73506,
          1.72784,
          1.7353399999999999,
          1.73501,
          1.7372800000000002,
          1.73603
         ],
         "yaxis": "y"
        },
        {
         "hovertext": [
          "order id: 1<br>order type: Buy<br>close probability: 0.5472<br>profit: -63.554822",
          "order id: 3<br>order type: Buy<br>close probability: 0.8140<br>profit: -276.665637",
          "order id: 8<br>order type: Buy<br>close probability: 0.7280<br>profit: 161.198245",
          "order id: 10<br>order type: Sell<br>close probability: 0.5389<br>profit: -2.464087",
          "order id: 13<br>order type: Sell<br>close probability: 0.6824<br>profit: 5.169778",
          "order id: 15<br>order type: Sell<br>close probability: 0.9241<br>profit: 314.683484",
          "order id: 19<br>order type: Sell<br>close probability: 0.7617<br>profit: -661.404891",
          "order id: 28<br>order type: Buy<br>close probability: 0.6002<br>profit: 182.991562",
          "order id: 26<br>order type: Buy<br>close probability: 0.6476<br>profit: 136.207881",
          "order id: 29<br>order type: Sell<br>close probability: 0.7463<br>profit: 21.785805<br>---------------------------------<br>order id: 31<br>order type: Sell<br>close probability: 0.6679<br>profit: -24.052600",
          "order id: 36<br>order type: Buy<br>close probability: 0.5642<br>profit: 35.597764",
          "order id: 38<br>order type: Sell<br>close probability: 0.5060<br>profit: 678.675358",
          "order id: 40<br>order type: Sell<br>close probability: 0.5552<br>profit: -75.334429",
          "order id: 41<br>order type: Buy<br>close probability: 0.9312<br>profit: -87.094738",
          "order id: 45<br>order type: Buy<br>close probability: 0.6338<br>profit: -193.027751",
          "order id: 47<br>order type: Buy<br>close probability: 0.5737<br>profit: 28.082229",
          "order id: 48<br>order type: Buy<br>close probability: 0.7062<br>profit: 1153.329194",
          "order id: 49<br>order type: Sell<br>close probability: 0.6830<br>profit: -399.690035",
          "order id: 53<br>order type: Sell<br>close probability: 0.5905<br>profit: -545.019117",
          "order id: 57<br>order type: Sell<br>close probability: 0.6001<br>profit: 136.473344",
          "order id: 59<br>order type: Buy<br>close probability: 0.8349<br>profit: 263.230926",
          "order id: 62<br>order type: Sell<br>close probability: 0.7527<br>profit: 598.698994",
          "order id: 68<br>order type: Sell<br>close probability: 0.9212<br>profit: 1377.996649",
          "order id: 70<br>order type: Sell<br>close probability: 0.7854<br>profit: 466.412971",
          "order id: 73<br>order type: Sell<br>close probability: 0.8360<br>profit: -426.060189",
          "order id: 80<br>order type: Sell<br>close probability: 0.8996<br>profit: 174.144412",
          "order id: 83<br>order type: Sell<br>close probability: 0.7091<br>profit: -164.939713",
          "order id: 86<br>order type: Sell<br>close probability: 0.8413<br>profit: -1.630568",
          "order id: 88<br>order type: Sell<br>close probability: 0.8359<br>profit: -470.597028",
          "order id: 90<br>order type: Sell<br>close probability: 0.6473<br>profit: -342.531177",
          "order id: 94<br>order type: Sell<br>close probability: 0.7873<br>profit: 2253.880377",
          "order id: 92<br>order type: Sell<br>close probability: 0.5170<br>profit: 248.995273",
          "order id: 100<br>order type: Sell<br>close probability: 0.6802<br>profit: -6.756040",
          "order id: 104<br>order type: Sell<br>close probability: 0.8103<br>profit: -249.177775"
         ],
         "legendgroup": "g1",
         "marker": {
          "color": "black",
          "line": {
           "width": 1.5
          },
          "size": 7,
          "symbol": "line-ns"
         },
         "mode": "markers",
         "name": "GBPCAD",
         "showlegend": false,
         "type": "scatter",
         "x": [
          "2021-05-20T00:00:00+00:00",
          "2021-05-21T00:00:00+00:00",
          "2021-05-26T00:00:00+00:00",
          "2021-05-28T00:00:00+00:00",
          "2021-05-31T00:00:00+00:00",
          "2021-06-01T00:00:00+00:00",
          "2021-06-07T00:00:00+00:00",
          "2021-06-11T00:00:00+00:00",
          "2021-06-14T00:00:00+00:00",
          "2021-06-15T00:00:00+00:00",
          "2021-06-23T00:00:00+00:00",
          "2021-06-24T00:00:00+00:00",
          "2021-06-28T00:00:00+00:00",
          "2021-06-30T00:00:00+00:00",
          "2021-07-02T00:00:00+00:00",
          "2021-07-05T00:00:00+00:00",
          "2021-07-06T00:00:00+00:00",
          "2021-07-08T00:00:00+00:00",
          "2021-07-14T00:00:00+00:00",
          "2021-07-16T00:00:00+00:00",
          "2021-07-19T00:00:00+00:00",
          "2021-07-21T00:00:00+00:00",
          "2021-07-29T00:00:00+00:00",
          "2021-07-30T00:00:00+00:00",
          "2021-08-03T00:00:00+00:00",
          "2021-08-12T00:00:00+00:00",
          "2021-08-16T00:00:00+00:00",
          "2021-08-17T00:00:00+00:00",
          "2021-08-18T00:00:00+00:00",
          "2021-08-20T00:00:00+00:00",
          "2021-08-25T00:00:00+00:00",
          "2021-08-27T00:00:00+00:00",
          "2021-08-31T00:00:00+00:00",
          "2021-09-01T00:00:00+00:00"
         ],
         "y": [
          1.7107,
          1.70726,
          1.71089,
          1.71356,
          1.7132399999999999,
          1.70755,
          1.71255,
          1.71691,
          1.71341,
          1.71492,
          1.7177,
          1.7149299999999998,
          1.71244,
          1.71437,
          1.70511,
          1.70716,
          1.71879,
          1.72692,
          1.73236,
          1.73684,
          1.74244,
          1.72183,
          1.73688,
          1.73335,
          1.7441499999999999,
          1.72889,
          1.7402199999999999,
          1.7349700000000001,
          1.74061,
          1.7468,
          1.73259,
          1.7353399999999999,
          1.73501,
          1.7372800000000002
         ],
         "yaxis": "y"
        },
        {
         "hovertext": [
          "balance: 10000.000000 USD<br>equity: 10000.000000<br>margin: 0.000000<br>free margin: 10000.000000<br>margin level: inf",
          "balance: 10000.000000 USD<br>equity: 10000.000000<br>margin: 0.000000<br>free margin: 10000.000000<br>margin level: inf",
          "balance: 10000.000000 USD<br>equity: 10000.000000<br>margin: 0.000000<br>free margin: 10000.000000<br>margin level: inf",
          "balance: 10000.000000 USD<br>equity: 10000.000000<br>margin: 0.000000<br>free margin: 10000.000000<br>margin level: inf",
          "balance: 10000.000000 USD<br>equity: 10000.000000<br>margin: 0.000000<br>free margin: 10000.000000<br>margin level: inf",
          "balance: 10000.000000 USD<br>equity: 10000.000000<br>margin: 0.000000<br>free margin: 10000.000000<br>margin level: inf",
          "balance: 10000.000000 USD<br>equity: 10000.000000<br>margin: 0.000000<br>free margin: 10000.000000<br>margin level: inf",
          "balance: 10000.000000 USD<br>equity: 10000.000000<br>margin: 0.000000<br>free margin: 10000.000000<br>margin level: inf",
          "balance: 10000.000000 USD<br>equity: 10000.000000<br>margin: 0.000000<br>free margin: 10000.000000<br>margin level: inf",
          "balance: 10000.000000 USD<br>equity: 10000.000000<br>margin: 0.000000<br>free margin: 10000.000000<br>margin level: inf",
          "balance: 10000.000000 USD<br>equity: 10518.228990<br>margin: 2047.764797<br>free margin: 8470.464193<br>margin level: 5.136444",
          "balance: 10526.778557 USD<br>equity: 10463.223736<br>margin: 666.690097<br>free margin: 9796.533639<br>margin level: 15.694284",
          "balance: 10463.223736 USD<br>equity: 10277.133017<br>margin: 1896.737070<br>free margin: 8380.395947<br>margin level: 5.418322",
          "balance: 10186.558098 USD<br>equity: 9798.630935<br>margin: 1898.963000<br>free margin: 7899.667935<br>margin level: 5.159990",
          "balance: 9824.769574 USD<br>equity: 9121.680875<br>margin: 2950.980000<br>free margin: 6170.700875<br>margin level: 3.091068",
          "balance: 9824.769574 USD<br>equity: 10801.935944<br>margin: 4542.100151<br>free margin: 6259.835793<br>margin level: 2.378181",
          "balance: 9898.443118 USD<br>equity: 11246.858576<br>margin: 3774.823207<br>free margin: 7472.035369<br>margin level: 2.979440",
          "balance: 10956.884318 USD<br>equity: 11338.112195<br>margin: 2932.052307<br>free margin: 8406.059888<br>margin level: 3.866954",
          "balance: 11338.112195 USD<br>equity: 11088.663442<br>margin: 3459.873680<br>free margin: 7628.789762<br>margin level: 3.204933",
          "balance: 11088.663442 USD<br>equity: 11414.735716<br>margin: 2047.593740<br>free margin: 9367.141976<br>margin level: 5.574707",
          "balance: 11440.721633 USD<br>equity: 11412.994234<br>margin: 659.728400<br>free margin: 10753.265834<br>margin level: 17.299535",
          "balance: 11412.994234 USD<br>equity: 12736.461302<br>margin: 3791.458969<br>free margin: 8945.002334<br>margin level: 3.359251",
          "balance: 11827.601051 USD<br>equity: 11412.344693<br>margin: 5595.090469<br>free margin: 5817.254225<br>margin level: 2.039707",
          "balance: 11827.601051 USD<br>equity: 10698.397470<br>margin: 6125.090469<br>free margin: 4573.307001<br>margin level: 1.746651",
          "balance: 11510.286682 USD<br>equity: 11121.235870<br>margin: 4508.391500<br>free margin: 6612.844370<br>margin level: 2.466786",
          "balance: 11510.286682 USD<br>equity: 10849.900439<br>margin: 4588.391500<br>free margin: 6261.508939<br>margin level: 2.364641",
          "balance: 10860.837262 USD<br>equity: 10978.964065<br>margin: 2506.353039<br>free margin: 8472.611026<br>margin level: 4.380454",
          "balance: 10798.057439 USD<br>equity: 11283.873142<br>margin: 2477.409535<br>free margin: 8806.463607<br>margin level: 4.554706",
          "balance: 10981.049001 USD<br>equity: 11073.917177<br>margin: 2053.200211<br>free margin: 9020.716966<br>margin level: 5.393491",
          "balance: 11117.256882 USD<br>equity: 10966.630839<br>margin: 1417.858499<br>free margin: 9548.772340<br>margin level: 7.734644",
          "balance: 11114.990087 USD<br>equity: 11759.230839<br>margin: 726.378000<br>free margin: 11032.852839<br>margin level: 16.188859",
          "balance: 11114.990087 USD<br>equity: 12185.856298<br>margin: 858.315300<br>free margin: 11327.540998<br>margin level: 14.197412",
          "balance: 11114.990087 USD<br>equity: 12416.867835<br>margin: 878.315300<br>free margin: 11538.552535<br>margin level: 14.137142",
          "balance: 12566.562376 USD<br>equity: 12574.079280<br>margin: 1331.937300<br>free margin: 11242.141980<br>margin level: 9.440444",
          "balance: 12574.079280 USD<br>equity: 12289.774686<br>margin: 860.000000<br>free margin: 11429.774686<br>margin level: 14.290436",
          "balance: 12574.079280 USD<br>equity: 12106.574312<br>margin: 2079.099823<br>free margin: 10027.474489<br>margin level: 5.822988",
          "balance: 12106.574312 USD<br>equity: 12900.471682<br>margin: 6851.554060<br>free margin: 6048.917622<br>margin level: 1.882853",
          "balance: 12900.471682 USD<br>equity: 12900.471682<br>margin: 0.000000<br>free margin: 12900.471682<br>margin level: inf",
          "balance: 12900.471682 USD<br>equity: 12825.137253<br>margin: 319.273326<br>free margin: 12505.863927<br>margin level: 40.169774",
          "balance: 12825.137253 USD<br>equity: 12825.137253<br>margin: 0.000000<br>free margin: 12825.137253<br>margin level: inf",
          "balance: 12825.137253 USD<br>equity: 12696.066289<br>margin: 1043.835420<br>free margin: 11652.230869<br>margin level: 12.162900",
          "balance: 12696.066289 USD<br>equity: 13135.794806<br>margin: 2132.496000<br>free margin: 11003.298806<br>margin level: 6.159822",
          "balance: 12651.573814 USD<br>equity: 12353.138425<br>margin: 1926.472277<br>free margin: 10426.666148<br>margin level: 6.412311",
          "balance: 12458.546063 USD<br>equity: 12312.691666<br>margin: 1694.301150<br>free margin: 10618.390516<br>margin level: 7.267121",
          "balance: 12312.691666 USD<br>equity: 13466.020860<br>margin: 1853.608939<br>free margin: 11612.411921<br>margin level: 7.264758",
          "balance: 13466.020860 USD<br>equity: 13466.020860<br>margin: 0.000000<br>free margin: 13466.020860<br>margin level: inf",
          "balance: 13466.020860 USD<br>equity: 13066.330825<br>margin: 1227.675464<br>free margin: 11838.655361<br>margin level: 10.643147",
          "balance: 13066.330825 USD<br>equity: 12696.389465<br>margin: 1090.000000<br>free margin: 11606.389465<br>margin level: 11.648064",
          "balance: 13066.330825 USD<br>equity: 12390.926767<br>margin: 1505.709000<br>free margin: 10885.217767<br>margin level: 8.229297",
          "balance: 13004.020530 USD<br>equity: 12183.577249<br>margin: 1173.024200<br>free margin: 11010.553049<br>margin level: 10.386467",
          "balance: 12118.556008 USD<br>equity: 11043.464533<br>margin: 2827.336365<br>free margin: 8216.128168<br>margin level: 3.905961",
          "balance: 11597.048131 USD<br>equity: 11301.791572<br>margin: 1624.138000<br>free margin: 9677.653572<br>margin level: 6.958640",
          "balance: 11658.111559 USD<br>equity: 11248.620372<br>margin: 3041.006469<br>free margin: 8207.613903<br>margin level: 3.698979",
          "balance: 11233.248385 USD<br>equity: 11445.427689<br>margin: 1536.564445<br>free margin: 9908.863243<br>margin level: 7.448713",
          "balance: 11445.427689 USD<br>equity: 11698.292531<br>margin: 740.000000<br>free margin: 10958.292531<br>margin level: 15.808503",
          "balance: 11698.292531 USD<br>equity: 12551.194459<br>margin: 2499.160062<br>free margin: 10052.034398<br>margin level: 5.022165",
          "balance: 12296.991525 USD<br>equity: 12474.845275<br>margin: 710.000000<br>free margin: 11764.845275<br>margin level: 17.570205",
          "balance: 12474.845275 USD<br>equity: 12477.646996<br>margin: 635.617800<br>free margin: 11842.029196<br>margin level: 19.630739",
          "balance: 12474.845275 USD<br>equity: 12294.046996<br>margin: 635.617800<br>free margin: 11658.429196<br>margin level: 19.341886",
          "balance: 12294.046996 USD<br>equity: 12779.542537<br>margin: 1014.423200<br>free margin: 11765.119337<br>margin level: 12.597841",
          "balance: 12789.527132 USD<br>equity: 13113.912954<br>margin: 4594.772955<br>free margin: 8519.139999<br>margin level: 2.854094",
          "balance: 12789.527132 USD<br>equity: 12736.629305<br>margin: 4594.772955<br>free margin: 8141.856350<br>margin level: 2.771982",
          "balance: 14167.523781 USD<br>equity: 13474.392277<br>margin: 4970.802807<br>free margin: 8503.589470<br>margin level: 2.710707",
          "balance: 14578.752157 USD<br>equity: 13335.824289<br>margin: 3118.679500<br>free margin: 10217.144789<br>margin level: 4.276112",
          "balance: 13331.901653 USD<br>equity: 12917.414100<br>margin: 1052.685191<br>free margin: 11864.728908<br>margin level: 12.270918",
          "balance: 12905.841465 USD<br>equity: 13659.984881<br>margin: 2038.095000<br>free margin: 11621.889881<br>margin level: 6.702330",
          "balance: 12905.841465 USD<br>equity: 13909.010030<br>margin: 4465.845800<br>free margin: 9443.164230<br>margin level: 3.114530",
          "balance: 13822.222838 USD<br>equity: 14766.123354<br>margin: 1965.845800<br>free margin: 12800.277554<br>margin level: 7.511333",
          "balance: 13684.096162 USD<br>equity: 15065.157913<br>margin: 2355.845800<br>free margin: 12709.312113<br>margin level: 6.394798",
          "balance: 15065.157913 USD<br>equity: 14959.823627<br>margin: 774.589200<br>free margin: 14185.234427<br>margin level: 19.313235",
          "balance: 14959.823627 USD<br>equity: 14702.646943<br>margin: 2080.674724<br>free margin: 12621.972219<br>margin level: 7.066288",
          "balance: 14889.744626 USD<br>equity: 15100.676641<br>margin: 3257.584324<br>free margin: 11843.092318<br>margin level: 4.635544",
          "balance: 15063.889038 USD<br>equity: 12963.908596<br>margin: 3882.563823<br>free margin: 9081.344773<br>margin level: 3.339007",
          "balance: 15049.158054 USD<br>equity: 13479.111705<br>margin: 3918.044281<br>free margin: 9561.067423<br>margin level: 3.440265",
          "balance: 14884.218342 USD<br>equity: 15926.163049<br>margin: 4699.503658<br>free margin: 11226.659391<br>margin level: 3.388903",
          "balance: 15611.783636 USD<br>equity: 15574.871488<br>margin: 2869.945128<br>free margin: 12704.926361<br>margin level: 5.426888",
          "balance: 15141.186608 USD<br>equity: 15402.859410<br>margin: 2768.389828<br>free margin: 12634.469582<br>margin level: 5.563833",
          "balance: 15364.535336 USD<br>equity: 15252.198361<br>margin: 3386.846640<br>free margin: 11865.351721<br>margin level: 4.503363",
          "balance: 15527.167336 USD<br>equity: 17149.996323<br>margin: 5105.992481<br>free margin: 12044.003842<br>margin level: 3.358798",
          "balance: 14760.467309 USD<br>equity: 18519.716904<br>margin: 5405.081281<br>free margin: 13114.635623<br>margin level: 3.426353",
          "balance: 15122.676861 USD<br>equity: 18211.579781<br>margin: 5071.405681<br>free margin: 13140.174101<br>margin level: 3.591032",
          "balance: 17794.207783 USD<br>equity: 17787.261867<br>margin: 2262.938013<br>free margin: 15524.323855<br>margin level: 7.860251",
          "balance: 17452.930732 USD<br>equity: 18156.047553<br>margin: 1849.002413<br>free margin: 16307.045140<br>margin level: 9.819375",
          "balance: 17701.926005 USD<br>equity: 18144.947561<br>margin: 2510.801185<br>free margin: 15634.146376<br>margin level: 7.226756",
          "balance: 18056.794922 USD<br>equity: 17823.640059<br>margin: 3584.366985<br>free margin: 14239.273074<br>margin level: 4.972605",
          "balance: 18016.896540 USD<br>equity: 17200.189644<br>margin: 3770.945205<br>free margin: 13429.244439<br>margin level: 4.561241",
          "balance: 17795.431962 USD<br>equity: 16752.715190<br>margin: 2628.367406<br>free margin: 14124.347784<br>margin level: 6.373810",
          "balance: 16749.485482 USD<br>equity: 16670.893120<br>margin: 2790.329942<br>free margin: 13880.563178<br>margin level: 5.974524"
         ],
         "legendgroup": "g2",
         "line": {
          "color": "rgba(0.5643983083429451, 0.36993464052287583, 0.5132641291810843, 1.0)"
         },
         "mode": "lines+markers",
         "name": "EURUSD",
         "opacity": 1,
         "type": "scatter",
         "x": [
          "2021-05-05T00:00:00+00:00",
          "2021-05-06T00:00:00+00:00",
          "2021-05-07T00:00:00+00:00",
          "2021-05-10T00:00:00+00:00",
          "2021-05-11T00:00:00+00:00",
          "2021-05-12T00:00:00+00:00",
          "2021-05-13T00:00:00+00:00",
          "2021-05-14T00:00:00+00:00",
          "2021-05-17T00:00:00+00:00",
          "2021-05-18T00:00:00+00:00",
          "2021-05-19T00:00:00+00:00",
          "2021-05-20T00:00:00+00:00",
          "2021-05-21T00:00:00+00:00",
          "2021-05-24T00:00:00+00:00",
          "2021-05-25T00:00:00+00:00",
          "2021-05-26T00:00:00+00:00",
          "2021-05-27T00:00:00+00:00",
          "2021-05-28T00:00:00+00:00",
          "2021-05-31T00:00:00+00:00",
          "2021-06-01T00:00:00+00:00",
          "2021-06-02T00:00:00+00:00",
          "2021-06-03T00:00:00+00:00",
          "2021-06-04T00:00:00+00:00",
          "2021-06-07T00:00:00+00:00",
          "2021-06-08T00:00:00+00:00",
          "2021-06-09T00:00:00+00:00",
          "2021-06-10T00:00:00+00:00",
          "2021-06-11T00:00:00+00:00",
          "2021-06-14T00:00:00+00:00",
          "2021-06-15T00:00:00+00:00",
          "2021-06-16T00:00:00+00:00",
          "2021-06-17T00:00:00+00:00",
          "2021-06-18T00:00:00+00:00",
          "2021-06-21T00:00:00+00:00",
          "2021-06-22T00:00:00+00:00",
          "2021-06-23T00:00:00+00:00",
          "2021-06-24T00:00:00+00:00",
          "2021-06-25T00:00:00+00:00",
          "2021-06-28T00:00:00+00:00",
          "2021-06-29T00:00:00+00:00",
          "2021-06-30T00:00:00+00:00",
          "2021-07-01T00:00:00+00:00",
          "2021-07-02T00:00:00+00:00",
          "2021-07-05T00:00:00+00:00",
          "2021-07-06T00:00:00+00:00",
          "2021-07-07T00:00:00+00:00",
          "2021-07-08T00:00:00+00:00",
          "2021-07-09T00:00:00+00:00",
          "2021-07-12T00:00:00+00:00",
          "2021-07-13T00:00:00+00:00",
          "2021-07-14T00:00:00+00:00",
          "2021-07-15T00:00:00+00:00",
          "2021-07-16T00:00:00+00:00",
          "2021-07-19T00:00:00+00:00",
          "2021-07-20T00:00:00+00:00",
          "2021-07-21T00:00:00+00:00",
          "2021-07-22T00:00:00+00:00",
          "2021-07-23T00:00:00+00:00",
          "2021-07-26T00:00:00+00:00",
          "2021-07-27T00:00:00+00:00",
          "2021-07-28T00:00:00+00:00",
          "2021-07-29T00:00:00+00:00",
          "2021-07-30T00:00:00+00:00",
          "2021-08-02T00:00:00+00:00",
          "2021-08-03T00:00:00+00:00",
          "2021-08-04T00:00:00+00:00",
          "2021-08-05T00:00:00+00:00",
          "2021-08-06T00:00:00+00:00",
          "2021-08-09T00:00:00+00:00",
          "2021-08-10T00:00:00+00:00",
          "2021-08-11T00:00:00+00:00",
          "2021-08-12T00:00:00+00:00",
          "2021-08-13T00:00:00+00:00",
          "2021-08-16T00:00:00+00:00",
          "2021-08-17T00:00:00+00:00",
          "2021-08-18T00:00:00+00:00",
          "2021-08-19T00:00:00+00:00",
          "2021-08-20T00:00:00+00:00",
          "2021-08-23T00:00:00+00:00",
          "2021-08-24T00:00:00+00:00",
          "2021-08-25T00:00:00+00:00",
          "2021-08-26T00:00:00+00:00",
          "2021-08-27T00:00:00+00:00",
          "2021-08-30T00:00:00+00:00",
          "2021-08-31T00:00:00+00:00",
          "2021-09-01T00:00:00+00:00",
          "2021-09-02T00:00:00+00:00",
          "2021-09-03T00:00:00+00:00"
         ],
         "y": [
          1.20036,
          1.20646,
          1.21618,
          1.21282,
          1.2147000000000001,
          1.20705,
          1.20791,
          1.21441,
          1.21511,
          1.2221899999999999,
          1.21744,
          1.22269,
          1.21806,
          1.2215,
          1.22497,
          1.21922,
          1.21934,
          1.21896,
          1.2225,
          1.22126,
          1.221,
          1.21265,
          1.21662,
          1.21893,
          1.21726,
          1.21787,
          1.21751,
          1.21063,
          1.212,
          1.21264,
          1.19943,
          1.19069,
          1.18597,
          1.19185,
          1.19413,
          1.19258,
          1.19315,
          1.1937,
          1.19242,
          1.1896,
          1.1856,
          1.18497,
          1.18646,
          1.18634,
          1.18231,
          1.17903,
          1.18449,
          1.18774,
          1.18606,
          1.17765,
          1.18358,
          1.18118,
          1.18055,
          1.17987,
          1.17805,
          1.17946,
          1.17707,
          1.17689,
          1.18029,
          1.18165,
          1.18441,
          1.18865,
          1.1873,
          1.18688,
          1.18637,
          1.18367,
          1.18327,
          1.17611,
          1.17362,
          1.17203,
          1.17388,
          1.17296,
          1.17962,
          1.17768,
          1.17081,
          1.17108,
          1.16756,
          1.16996,
          1.1745700000000001,
          1.17555,
          1.17716,
          1.17515,
          1.1795499999999999,
          1.17962,
          1.18083,
          1.18384,
          1.18744,
          1.18772
         ],
         "yaxis": "y2"
        },
        {
         "hovertext": [
          "order id: 2<br>hold probability: 0.1592<br>hold: False<br>volume: -1.129114<br>modified volume: 1.1300<br>fee: 8.824285560795619e-05<br>error: ",
          "order id: 5<br>hold probability: 0.3567<br>hold: False<br>volume: -1.051463<br>modified volume: 1.0500<br>fee: 5.604996067011487e-06<br>error: ",
          "order id: 6<br>hold probability: 0.1367<br>hold: False<br>volume: -1.719876<br>modified volume: 1.7200<br>fee: 0.0004602935525406961<br>error: ",
          "order id: 9<br>hold probability: 0.4703<br>hold: False<br>volume: -0.712546<br>modified volume: 0.7100<br>fee: 0.0002587138425427211<br>error: ",
          "order id: None<br>hold probability: 0.3212<br>hold: False<br>volume: -2.193539<br>modified volume: 2.1900<br>fee: None<br>error: cannot add more orders",
          "order id: 12<br>hold probability: 0.2774<br>hold: False<br>volume: -0.667348<br>modified volume: 0.6700<br>fee: -7.797846169735551e-06<br>error: ",
          "order id: 14<br>hold probability: 0.3425<br>hold: False<br>volume: -0.720729<br>modified volume: 0.7200<br>fee: -3.63149749789922e-06<br>error: ",
          "order id: 16<br>hold probability: 0.2113<br>hold: False<br>volume: 0.202834<br>modified volume: 0.2000<br>fee: 5.929588274301007e-05<br>error: ",
          "order id: 18<br>hold probability: 0.2971<br>hold: False<br>volume: -0.339048<br>modified volume: 0.3400<br>fee: 0.00015827888535359554<br>error: ",
          "order id: 20<br>hold probability: 0.3224<br>hold: False<br>volume: -1.561147<br>modified volume: 1.5600<br>fee: 0.0009542846865333161<br>error: ",
          "order id: 22<br>hold probability: 0.1514<br>hold: False<br>volume: -1.713364<br>modified volume: 1.7100<br>fee: 0.0002469868639355935<br>error: ",
          "order id: None<br>hold probability: 0.2353<br>hold: False<br>volume: -0.563717<br>modified volume: 0.5600<br>fee: None<br>error: cannot add more orders",
          "order id: 27<br>hold probability: 0.4374<br>hold: False<br>volume: 1.322409<br>modified volume: 1.3200<br>fee: 0.0001982879098256518<br>error: ",
          "order id: 30<br>hold probability: 0.4969<br>hold: False<br>volume: -0.601936<br>modified volume: 0.6000<br>fee: 0.00046265414595906326<br>error: ",
          "order id: 32<br>hold probability: 0.3752<br>hold: False<br>volume: 0.105369<br>modified volume: 0.1100<br>fee: 0.000148594621917919<br>error: ",
          "order id: 37<br>hold probability: 0.3759<br>hold: False<br>volume: -0.042093<br>modified volume: 0.0400<br>fee: 4.5180787688466534e-05<br>error: ",
          "order id: 42<br>hold probability: 0.3767<br>hold: False<br>volume: 0.112991<br>modified volume: 0.1100<br>fee: -0.00018397944761217014<br>error: ",
          "order id: 43<br>hold probability: 0.1214<br>hold: False<br>volume: 0.659612<br>modified volume: 0.6600<br>fee: 4.412841291956469e-05<br>error: ",
          "order id: 51<br>hold probability: 0.3133<br>hold: False<br>volume: 0.348172<br>modified volume: 0.3500<br>fee: 0.00010029415123063596<br>error: ",
          "order id: 52<br>hold probability: 0.2683<br>hold: False<br>volume: -0.067011<br>modified volume: 0.0700<br>fee: -0.0008787486432022198<br>error: ",
          "order id: 54<br>hold probability: 0.2510<br>hold: False<br>volume: -0.899136<br>modified volume: 0.9000<br>fee: 0.00022092886947313188<br>error: ",
          "order id: 55<br>hold probability: 0.2246<br>hold: False<br>volume: -0.352149<br>modified volume: 0.3500<br>fee: 0.0006553306497174269<br>error: ",
          "order id: 60<br>hold probability: 0.1479<br>hold: False<br>volume: -0.301073<br>modified volume: 0.3000<br>fee: 7.094475329197088e-07<br>error: ",
          "order id: 65<br>hold probability: 0.4650<br>hold: False<br>volume: -0.537871<br>modified volume: 0.5400<br>fee: 0.00012811626624281754<br>error: ",
          "order id: 66<br>hold probability: 0.1362<br>hold: False<br>volume: -0.075344<br>modified volume: 0.0800<br>fee: -0.00011192562701801704<br>error: ",
          "order id: 69<br>hold probability: 0.1636<br>hold: False<br>volume: -1.927756<br>modified volume: 1.9300<br>fee: 7.20719182342758e-05<br>error: ",
          "order id: 71<br>hold probability: 0.4648<br>hold: False<br>volume: -0.154234<br>modified volume: 0.1500<br>fee: 0.0001584909929205699<br>error: ",
          "order id: 75<br>hold probability: 0.3934<br>hold: False<br>volume: -1.239490<br>modified volume: 1.2400<br>fee: 0.00016843099701744344<br>error: ",
          "order id: None<br>hold probability: 0.4175<br>hold: False<br>volume: -0.144753<br>modified volume: 0.1400<br>fee: None<br>error: cannot add more orders",
          "order id: 79<br>hold probability: 0.4787<br>hold: False<br>volume: 0.662408<br>modified volume: 0.6600<br>fee: 5.974022075682761e-06<br>error: ",
          "order id: 82<br>hold probability: 0.4392<br>hold: False<br>volume: -1.419472<br>modified volume: 1.4200<br>fee: 0.000660932374008004<br>error: ",
          "order id: 84<br>hold probability: 0.4309<br>hold: False<br>volume: -1.661137<br>modified volume: 1.6600<br>fee: -0.00018197746630894504<br>error: ",
          "order id: None<br>hold probability: 0.2713<br>hold: False<br>volume: 0.072247<br>modified volume: 0.0700<br>fee: None<br>error: cannot add more orders",
          "order id: 89<br>hold probability: 0.4556<br>hold: False<br>volume: -0.479041<br>modified volume: 0.4800<br>fee: 0.0005187938435621013<br>error: ",
          "order id: 91<br>hold probability: 0.3797<br>hold: False<br>volume: -0.299074<br>modified volume: 0.3000<br>fee: 0.00044497225141271256<br>error: ",
          "order id: 93<br>hold probability: 0.0439<br>hold: False<br>volume: -1.020906<br>modified volume: 1.0200<br>fee: 0.0005066669319873871<br>error: ",
          "order id: 95<br>hold probability: 0.3444<br>hold: False<br>volume: 0.612205<br>modified volume: 0.6100<br>fee: -0.00034786150166517694<br>error: ",
          "order id: 98<br>hold probability: 0.4433<br>hold: False<br>volume: 1.312118<br>modified volume: 1.3100<br>fee: 0.0005951683261768421<br>error: ",
          "order id: 99<br>hold probability: 0.3970<br>hold: False<br>volume: 0.961489<br>modified volume: 0.9600<br>fee: 0.00022807519049884115<br>error: ",
          "order id: 102<br>hold probability: 0.4584<br>hold: False<br>volume: -1.285605<br>modified volume: 1.2900<br>fee: 0.0002881122532401295<br>error: ",
          "order id: 105<br>hold probability: 0.2805<br>hold: False<br>volume: 0.087115<br>modified volume: 0.0900<br>fee: -6.924419359899639e-05<br>error: ",
          "order id: 110<br>hold probability: 0.3777<br>hold: False<br>volume: -1.147221<br>modified volume: 1.1500<br>fee: 0.00021299704183101243<br>error: "
         ],
         "legendgroup": "g2",
         "marker": {
          "color": [
           "red",
           "red",
           "red",
           "red",
           "gray",
           "red",
           "red",
           "green",
           "red",
           "red",
           "red",
           "gray",
           "green",
           "red",
           "green",
           "red",
           "green",
           "green",
           "green",
           "red",
           "red",
           "red",
           "red",
           "red",
           "red",
           "red",
           "red",
           "red",
           "gray",
           "green",
           "red",
           "red",
           "gray",
           "red",
           "red",
           "red",
           "green",
           "green",
           "green",
           "red",
           "green",
           "red"
          ],
          "size": [
           16.484641638225256,
           15.8839590443686,
           20.914675767918087,
           13.331058020477816,
           24.443686006825935,
           13.030716723549489,
           13.406143344709896,
           9.501706484641637,
           10.552901023890785,
           19.713310580204777,
           20.839590443686006,
           12.204778156996587,
           17.911262798634812,
           12.505119453924914,
           8.825938566552901,
           8.300341296928327,
           8.825938566552901,
           12.955631399317406,
           10.627986348122867,
           8.525597269624573,
           14.757679180887372,
           10.627986348122867,
           10.252559726962456,
           12.054607508532424,
           8.600682593856655,
           22.491467576791806,
           9.126279863481228,
           17.310580204778155,
           9.051194539249147,
           12.955631399317406,
           18.66211604095563,
           20.4641638225256,
           8.525597269624573,
           11.604095563139932,
           10.252559726962456,
           15.658703071672354,
           12.580204778156997,
           17.83617747440273,
           15.208191126279864,
           17.686006825938566,
           8.675767918088738,
           16.63481228668942
          ],
          "symbol": [
           "triangle-down",
           "triangle-down",
           "triangle-down",
           "triangle-down",
           "triangle-down",
           "triangle-down",
           "triangle-down",
           "triangle-up",
           "triangle-down",
           "triangle-down",
           "triangle-down",
           "triangle-down",
           "triangle-up",
           "triangle-down",
           "triangle-up",
           "triangle-down",
           "triangle-up",
           "triangle-up",
           "triangle-up",
           "triangle-down",
           "triangle-down",
           "triangle-down",
           "triangle-down",
           "triangle-down",
           "triangle-down",
           "triangle-down",
           "triangle-down",
           "triangle-down",
           "triangle-down",
           "triangle-up",
           "triangle-down",
           "triangle-down",
           "triangle-down",
           "triangle-down",
           "triangle-down",
           "triangle-down",
           "triangle-up",
           "triangle-up",
           "triangle-up",
           "triangle-down",
           "triangle-up",
           "triangle-down"
          ]
         },
         "mode": "markers",
         "name": "EURUSD",
         "showlegend": false,
         "type": "scatter",
         "x": [
          "2021-05-18T00:00:00+00:00",
          "2021-05-21T00:00:00+00:00",
          "2021-05-24T00:00:00+00:00",
          "2021-05-25T00:00:00+00:00",
          "2021-05-26T00:00:00+00:00",
          "2021-05-27T00:00:00+00:00",
          "2021-05-28T00:00:00+00:00",
          "2021-05-31T00:00:00+00:00",
          "2021-06-01T00:00:00+00:00",
          "2021-06-02T00:00:00+00:00",
          "2021-06-03T00:00:00+00:00",
          "2021-06-04T00:00:00+00:00",
          "2021-06-09T00:00:00+00:00",
          "2021-06-11T00:00:00+00:00",
          "2021-06-16T00:00:00+00:00",
          "2021-06-22T00:00:00+00:00",
          "2021-06-29T00:00:00+00:00",
          "2021-06-30T00:00:00+00:00",
          "2021-07-09T00:00:00+00:00",
          "2021-07-12T00:00:00+00:00",
          "2021-07-13T00:00:00+00:00",
          "2021-07-14T00:00:00+00:00",
          "2021-07-16T00:00:00+00:00",
          "2021-07-22T00:00:00+00:00",
          "2021-07-26T00:00:00+00:00",
          "2021-07-27T00:00:00+00:00",
          "2021-07-30T00:00:00+00:00",
          "2021-08-04T00:00:00+00:00",
          "2021-08-05T00:00:00+00:00",
          "2021-08-09T00:00:00+00:00",
          "2021-08-11T00:00:00+00:00",
          "2021-08-12T00:00:00+00:00",
          "2021-08-13T00:00:00+00:00",
          "2021-08-17T00:00:00+00:00",
          "2021-08-18T00:00:00+00:00",
          "2021-08-19T00:00:00+00:00",
          "2021-08-20T00:00:00+00:00",
          "2021-08-25T00:00:00+00:00",
          "2021-08-26T00:00:00+00:00",
          "2021-08-30T00:00:00+00:00",
          "2021-08-31T00:00:00+00:00",
          "2021-09-02T00:00:00+00:00"
         ],
         "y": [
          1.2221899999999999,
          1.21806,
          1.2215,
          1.22497,
          1.21922,
          1.21934,
          1.21896,
          1.2225,
          1.22126,
          1.221,
          1.21265,
          1.21662,
          1.21787,
          1.21063,
          1.19943,
          1.19413,
          1.1896,
          1.1856,
          1.18774,
          1.18606,
          1.17765,
          1.18358,
          1.18055,
          1.17707,
          1.18029,
          1.18165,
          1.1873,
          1.18367,
          1.18327,
          1.17362,
          1.17388,
          1.17296,
          1.17962,
          1.17081,
          1.17108,
          1.16756,
          1.16996,
          1.17716,
          1.17515,
          1.17962,
          1.18083,
          1.18744
         ],
         "yaxis": "y2"
        },
        {
         "hovertext": [
          "order id: 2<br>order type: Sell<br>close probability: 0.8142<br>profit: 526.778557",
          "order id: 5<br>order type: Sell<br>close probability: 0.5084<br>profit: -361.788525",
          "order id: 9<br>order type: Sell<br>close probability: 0.5301<br>profit: 381.361317",
          "order id: 6<br>order type: Sell<br>close probability: 0.7564<br>profit: 357.709509<br>---------------------------------<br>order id: 12<br>order type: Sell<br>close probability: 0.7590<br>profit: 25.982456",
          "order id: 14<br>order type: Sell<br>close probability: 0.5650<br>profit: -254.618532",
          "order id: 16<br>order type: Buy<br>close probability: 0.5548<br>profit: -31.185918<br>---------------------------------<br>order id: 18<br>order type: Sell<br>close probability: 0.6317<br>profit: 3.458518",
          "order id: 20<br>order type: Sell<br>close probability: 0.7366<br>profit: 339.411589<br>---------------------------------<br>order id: 22<br>order type: Sell<br>close probability: 0.7076<br>profit: -934.854754",
          "order id: 27<br>order type: Buy<br>close probability: 0.5017<br>profit: -73.694004",
          "order id: 30<br>order type: Sell<br>close probability: 0.8271<br>profit: 1451.840751",
          "order id: 32<br>order type: Buy<br>close probability: 0.7628<br>profit: -85.014541",
          "order id: 37<br>order type: Sell<br>close probability: 0.7131<br>profit: 6.019277",
          "order id: 42<br>order type: Buy<br>close probability: 0.8246<br>profit: -41.976226",
          "order id: 43<br>order type: Buy<br>close probability: 0.8842<br>profit: -44.492475",
          "order id: 51<br>order type: Buy<br>close probability: 0.5392<br>profit: -62.310295",
          "order id: 52<br>order type: Sell<br>close probability: 0.6146<br>profit: 23.511241",
          "order id: 55<br>order type: Sell<br>close probability: 0.7161<br>profit: 61.063427",
          "order id: 54<br>order type: Sell<br>close probability: 0.8727<br>profit: -280.883598",
          "order id: 60<br>order type: Sell<br>close probability: 0.6572<br>profit: 20.378717",
          "order id: 65<br>order type: Sell<br>close probability: 0.5853<br>profit: -180.798278",
          "order id: 66<br>order type: Sell<br>close probability: 0.8658<br>profit: -55.184595",
          "order id: 69<br>order type: Sell<br>close probability: 0.5405<br>profit: -1023.299880",
          "order id: 71<br>order type: Sell<br>close probability: 0.9213<br>profit: 202.822635<br>---------------------------------<br>order id: 75<br>order type: Sell<br>close probability: 0.6476<br>profit: 1225.314556",
          "order id: 79<br>order type: Buy<br>close probability: 0.6281<br>profit: -105.334285",
          "order id: 82<br>order type: Sell<br>close probability: 0.7895<br>profit: 342.087603<br>---------------------------------<br>order id: 84<br>order type: Sell<br>close probability: 0.7108<br>profit: 387.108259",
          "order id: 89<br>order type: Sell<br>close probability: 0.6416<br>profit: 131.097896<br>---------------------------------<br>order id: 91<br>order type: Sell<br>close probability: 0.5727<br>profit: 92.250832",
          "order id: 93<br>order type: Sell<br>close probability: 0.6437<br>profit: -766.700027",
          "order id: 95<br>order type: Buy<br>close probability: 0.5776<br>profit: 362.209552",
          "order id: 98<br>order type: Buy<br>close probability: 0.6978<br>profit: -341.277051",
          "order id: 99<br>order type: Buy<br>close probability: 0.5988<br>profit: 407.224782",
          "order id: 105<br>order type: Buy<br>close probability: 0.7041<br>profit: 27.713198",
          "order id: 102<br>order type: Sell<br>close probability: 0.5868<br>profit: -1045.946481"
         ],
         "legendgroup": "g2",
         "marker": {
          "color": "black",
          "line": {
           "width": 1.5
          },
          "size": 7,
          "symbol": "line-ns"
         },
         "mode": "markers",
         "name": "EURUSD",
         "showlegend": false,
         "type": "scatter",
         "x": [
          "2021-05-19T00:00:00+00:00",
          "2021-05-24T00:00:00+00:00",
          "2021-05-27T00:00:00+00:00",
          "2021-05-28T00:00:00+00:00",
          "2021-05-31T00:00:00+00:00",
          "2021-06-02T00:00:00+00:00",
          "2021-06-09T00:00:00+00:00",
          "2021-06-10T00:00:00+00:00",
          "2021-06-18T00:00:00+00:00",
          "2021-06-21T00:00:00+00:00",
          "2021-06-23T00:00:00+00:00",
          "2021-06-30T00:00:00+00:00",
          "2021-07-01T00:00:00+00:00",
          "2021-07-12T00:00:00+00:00",
          "2021-07-14T00:00:00+00:00",
          "2021-07-15T00:00:00+00:00",
          "2021-07-16T00:00:00+00:00",
          "2021-07-19T00:00:00+00:00",
          "2021-07-26T00:00:00+00:00",
          "2021-07-30T00:00:00+00:00",
          "2021-08-02T00:00:00+00:00",
          "2021-08-09T00:00:00+00:00",
          "2021-08-10T00:00:00+00:00",
          "2021-08-17T00:00:00+00:00",
          "2021-08-19T00:00:00+00:00",
          "2021-08-23T00:00:00+00:00",
          "2021-08-24T00:00:00+00:00",
          "2021-08-26T00:00:00+00:00",
          "2021-08-30T00:00:00+00:00",
          "2021-09-01T00:00:00+00:00",
          "2021-09-02T00:00:00+00:00"
         ],
         "y": [
          1.21744,
          1.2215,
          1.21934,
          1.21896,
          1.2225,
          1.221,
          1.21787,
          1.21751,
          1.18597,
          1.19185,
          1.19258,
          1.1856,
          1.18497,
          1.18606,
          1.18358,
          1.18118,
          1.18055,
          1.17987,
          1.18029,
          1.1873,
          1.18688,
          1.17362,
          1.17203,
          1.17081,
          1.16756,
          1.1745700000000001,
          1.17555,
          1.17515,
          1.17962,
          1.18384,
          1.18744
         ],
         "yaxis": "y2"
        },
        {
         "hovertext": [
          "balance: 10000.000000 USD<br>equity: 10000.000000<br>margin: 0.000000<br>free margin: 10000.000000<br>margin level: inf",
          "balance: 10000.000000 USD<br>equity: 10000.000000<br>margin: 0.000000<br>free margin: 10000.000000<br>margin level: inf",
          "balance: 10000.000000 USD<br>equity: 10000.000000<br>margin: 0.000000<br>free margin: 10000.000000<br>margin level: inf",
          "balance: 10000.000000 USD<br>equity: 10000.000000<br>margin: 0.000000<br>free margin: 10000.000000<br>margin level: inf",
          "balance: 10000.000000 USD<br>equity: 10000.000000<br>margin: 0.000000<br>free margin: 10000.000000<br>margin level: inf",
          "balance: 10000.000000 USD<br>equity: 10000.000000<br>margin: 0.000000<br>free margin: 10000.000000<br>margin level: inf",
          "balance: 10000.000000 USD<br>equity: 10000.000000<br>margin: 0.000000<br>free margin: 10000.000000<br>margin level: inf",
          "balance: 10000.000000 USD<br>equity: 10000.000000<br>margin: 0.000000<br>free margin: 10000.000000<br>margin level: inf",
          "balance: 10000.000000 USD<br>equity: 10000.000000<br>margin: 0.000000<br>free margin: 10000.000000<br>margin level: inf",
          "balance: 10000.000000 USD<br>equity: 10000.000000<br>margin: 0.000000<br>free margin: 10000.000000<br>margin level: inf",
          "balance: 10000.000000 USD<br>equity: 10518.228990<br>margin: 2047.764797<br>free margin: 8470.464193<br>margin level: 5.136444",
          "balance: 10526.778557 USD<br>equity: 10463.223736<br>margin: 666.690097<br>free margin: 9796.533639<br>margin level: 15.694284",
          "balance: 10463.223736 USD<br>equity: 10277.133017<br>margin: 1896.737070<br>free margin: 8380.395947<br>margin level: 5.418322",
          "balance: 10186.558098 USD<br>equity: 9798.630935<br>margin: 1898.963000<br>free margin: 7899.667935<br>margin level: 5.159990",
          "balance: 9824.769574 USD<br>equity: 9121.680875<br>margin: 2950.980000<br>free margin: 6170.700875<br>margin level: 3.091068",
          "balance: 9824.769574 USD<br>equity: 10801.935944<br>margin: 4542.100151<br>free margin: 6259.835793<br>margin level: 2.378181",
          "balance: 9898.443118 USD<br>equity: 11246.858576<br>margin: 3774.823207<br>free margin: 7472.035369<br>margin level: 2.979440",
          "balance: 10956.884318 USD<br>equity: 11338.112195<br>margin: 2932.052307<br>free margin: 8406.059888<br>margin level: 3.866954",
          "balance: 11338.112195 USD<br>equity: 11088.663442<br>margin: 3459.873680<br>free margin: 7628.789762<br>margin level: 3.204933",
          "balance: 11088.663442 USD<br>equity: 11414.735716<br>margin: 2047.593740<br>free margin: 9367.141976<br>margin level: 5.574707",
          "balance: 11440.721633 USD<br>equity: 11412.994234<br>margin: 659.728400<br>free margin: 10753.265834<br>margin level: 17.299535",
          "balance: 11412.994234 USD<br>equity: 12736.461302<br>margin: 3791.458969<br>free margin: 8945.002334<br>margin level: 3.359251",
          "balance: 11827.601051 USD<br>equity: 11412.344693<br>margin: 5595.090469<br>free margin: 5817.254225<br>margin level: 2.039707",
          "balance: 11827.601051 USD<br>equity: 10698.397470<br>margin: 6125.090469<br>free margin: 4573.307001<br>margin level: 1.746651",
          "balance: 11510.286682 USD<br>equity: 11121.235870<br>margin: 4508.391500<br>free margin: 6612.844370<br>margin level: 2.466786",
          "balance: 11510.286682 USD<br>equity: 10849.900439<br>margin: 4588.391500<br>free margin: 6261.508939<br>margin level: 2.364641",
          "balance: 10860.837262 USD<br>equity: 10978.964065<br>margin: 2506.353039<br>free margin: 8472.611026<br>margin level: 4.380454",
          "balance: 10798.057439 USD<br>equity: 11283.873142<br>margin: 2477.409535<br>free margin: 8806.463607<br>margin level: 4.554706",
          "balance: 10981.049001 USD<br>equity: 11073.917177<br>margin: 2053.200211<br>free margin: 9020.716966<br>margin level: 5.393491",
          "balance: 11117.256882 USD<br>equity: 10966.630839<br>margin: 1417.858499<br>free margin: 9548.772340<br>margin level: 7.734644",
          "balance: 11114.990087 USD<br>equity: 11759.230839<br>margin: 726.378000<br>free margin: 11032.852839<br>margin level: 16.188859",
          "balance: 11114.990087 USD<br>equity: 12185.856298<br>margin: 858.315300<br>free margin: 11327.540998<br>margin level: 14.197412",
          "balance: 11114.990087 USD<br>equity: 12416.867835<br>margin: 878.315300<br>free margin: 11538.552535<br>margin level: 14.137142",
          "balance: 12566.562376 USD<br>equity: 12574.079280<br>margin: 1331.937300<br>free margin: 11242.141980<br>margin level: 9.440444",
          "balance: 12574.079280 USD<br>equity: 12289.774686<br>margin: 860.000000<br>free margin: 11429.774686<br>margin level: 14.290436",
          "balance: 12574.079280 USD<br>equity: 12106.574312<br>margin: 2079.099823<br>free margin: 10027.474489<br>margin level: 5.822988",
          "balance: 12106.574312 USD<br>equity: 12900.471682<br>margin: 6851.554060<br>free margin: 6048.917622<br>margin level: 1.882853",
          "balance: 12900.471682 USD<br>equity: 12900.471682<br>margin: 0.000000<br>free margin: 12900.471682<br>margin level: inf",
          "balance: 12900.471682 USD<br>equity: 12825.137253<br>margin: 319.273326<br>free margin: 12505.863927<br>margin level: 40.169774",
          "balance: 12825.137253 USD<br>equity: 12825.137253<br>margin: 0.000000<br>free margin: 12825.137253<br>margin level: inf",
          "balance: 12825.137253 USD<br>equity: 12696.066289<br>margin: 1043.835420<br>free margin: 11652.230869<br>margin level: 12.162900",
          "balance: 12696.066289 USD<br>equity: 13135.794806<br>margin: 2132.496000<br>free margin: 11003.298806<br>margin level: 6.159822",
          "balance: 12651.573814 USD<br>equity: 12353.138425<br>margin: 1926.472277<br>free margin: 10426.666148<br>margin level: 6.412311",
          "balance: 12458.546063 USD<br>equity: 12312.691666<br>margin: 1694.301150<br>free margin: 10618.390516<br>margin level: 7.267121",
          "balance: 12312.691666 USD<br>equity: 13466.020860<br>margin: 1853.608939<br>free margin: 11612.411921<br>margin level: 7.264758",
          "balance: 13466.020860 USD<br>equity: 13466.020860<br>margin: 0.000000<br>free margin: 13466.020860<br>margin level: inf",
          "balance: 13466.020860 USD<br>equity: 13066.330825<br>margin: 1227.675464<br>free margin: 11838.655361<br>margin level: 10.643147",
          "balance: 13066.330825 USD<br>equity: 12696.389465<br>margin: 1090.000000<br>free margin: 11606.389465<br>margin level: 11.648064",
          "balance: 13066.330825 USD<br>equity: 12390.926767<br>margin: 1505.709000<br>free margin: 10885.217767<br>margin level: 8.229297",
          "balance: 13004.020530 USD<br>equity: 12183.577249<br>margin: 1173.024200<br>free margin: 11010.553049<br>margin level: 10.386467",
          "balance: 12118.556008 USD<br>equity: 11043.464533<br>margin: 2827.336365<br>free margin: 8216.128168<br>margin level: 3.905961",
          "balance: 11597.048131 USD<br>equity: 11301.791572<br>margin: 1624.138000<br>free margin: 9677.653572<br>margin level: 6.958640",
          "balance: 11658.111559 USD<br>equity: 11248.620372<br>margin: 3041.006469<br>free margin: 8207.613903<br>margin level: 3.698979",
          "balance: 11233.248385 USD<br>equity: 11445.427689<br>margin: 1536.564445<br>free margin: 9908.863243<br>margin level: 7.448713",
          "balance: 11445.427689 USD<br>equity: 11698.292531<br>margin: 740.000000<br>free margin: 10958.292531<br>margin level: 15.808503",
          "balance: 11698.292531 USD<br>equity: 12551.194459<br>margin: 2499.160062<br>free margin: 10052.034398<br>margin level: 5.022165",
          "balance: 12296.991525 USD<br>equity: 12474.845275<br>margin: 710.000000<br>free margin: 11764.845275<br>margin level: 17.570205",
          "balance: 12474.845275 USD<br>equity: 12477.646996<br>margin: 635.617800<br>free margin: 11842.029196<br>margin level: 19.630739",
          "balance: 12474.845275 USD<br>equity: 12294.046996<br>margin: 635.617800<br>free margin: 11658.429196<br>margin level: 19.341886",
          "balance: 12294.046996 USD<br>equity: 12779.542537<br>margin: 1014.423200<br>free margin: 11765.119337<br>margin level: 12.597841",
          "balance: 12789.527132 USD<br>equity: 13113.912954<br>margin: 4594.772955<br>free margin: 8519.139999<br>margin level: 2.854094",
          "balance: 12789.527132 USD<br>equity: 12736.629305<br>margin: 4594.772955<br>free margin: 8141.856350<br>margin level: 2.771982",
          "balance: 14167.523781 USD<br>equity: 13474.392277<br>margin: 4970.802807<br>free margin: 8503.589470<br>margin level: 2.710707",
          "balance: 14578.752157 USD<br>equity: 13335.824289<br>margin: 3118.679500<br>free margin: 10217.144789<br>margin level: 4.276112",
          "balance: 13331.901653 USD<br>equity: 12917.414100<br>margin: 1052.685191<br>free margin: 11864.728908<br>margin level: 12.270918",
          "balance: 12905.841465 USD<br>equity: 13659.984881<br>margin: 2038.095000<br>free margin: 11621.889881<br>margin level: 6.702330",
          "balance: 12905.841465 USD<br>equity: 13909.010030<br>margin: 4465.845800<br>free margin: 9443.164230<br>margin level: 3.114530",
          "balance: 13822.222838 USD<br>equity: 14766.123354<br>margin: 1965.845800<br>free margin: 12800.277554<br>margin level: 7.511333",
          "balance: 13684.096162 USD<br>equity: 15065.157913<br>margin: 2355.845800<br>free margin: 12709.312113<br>margin level: 6.394798",
          "balance: 15065.157913 USD<br>equity: 14959.823627<br>margin: 774.589200<br>free margin: 14185.234427<br>margin level: 19.313235",
          "balance: 14959.823627 USD<br>equity: 14702.646943<br>margin: 2080.674724<br>free margin: 12621.972219<br>margin level: 7.066288",
          "balance: 14889.744626 USD<br>equity: 15100.676641<br>margin: 3257.584324<br>free margin: 11843.092318<br>margin level: 4.635544",
          "balance: 15063.889038 USD<br>equity: 12963.908596<br>margin: 3882.563823<br>free margin: 9081.344773<br>margin level: 3.339007",
          "balance: 15049.158054 USD<br>equity: 13479.111705<br>margin: 3918.044281<br>free margin: 9561.067423<br>margin level: 3.440265",
          "balance: 14884.218342 USD<br>equity: 15926.163049<br>margin: 4699.503658<br>free margin: 11226.659391<br>margin level: 3.388903",
          "balance: 15611.783636 USD<br>equity: 15574.871488<br>margin: 2869.945128<br>free margin: 12704.926361<br>margin level: 5.426888",
          "balance: 15141.186608 USD<br>equity: 15402.859410<br>margin: 2768.389828<br>free margin: 12634.469582<br>margin level: 5.563833",
          "balance: 15364.535336 USD<br>equity: 15252.198361<br>margin: 3386.846640<br>free margin: 11865.351721<br>margin level: 4.503363",
          "balance: 15527.167336 USD<br>equity: 17149.996323<br>margin: 5105.992481<br>free margin: 12044.003842<br>margin level: 3.358798",
          "balance: 14760.467309 USD<br>equity: 18519.716904<br>margin: 5405.081281<br>free margin: 13114.635623<br>margin level: 3.426353",
          "balance: 15122.676861 USD<br>equity: 18211.579781<br>margin: 5071.405681<br>free margin: 13140.174101<br>margin level: 3.591032",
          "balance: 17794.207783 USD<br>equity: 17787.261867<br>margin: 2262.938013<br>free margin: 15524.323855<br>margin level: 7.860251",
          "balance: 17452.930732 USD<br>equity: 18156.047553<br>margin: 1849.002413<br>free margin: 16307.045140<br>margin level: 9.819375",
          "balance: 17701.926005 USD<br>equity: 18144.947561<br>margin: 2510.801185<br>free margin: 15634.146376<br>margin level: 7.226756",
          "balance: 18056.794922 USD<br>equity: 17823.640059<br>margin: 3584.366985<br>free margin: 14239.273074<br>margin level: 4.972605",
          "balance: 18016.896540 USD<br>equity: 17200.189644<br>margin: 3770.945205<br>free margin: 13429.244439<br>margin level: 4.561241",
          "balance: 17795.431962 USD<br>equity: 16752.715190<br>margin: 2628.367406<br>free margin: 14124.347784<br>margin level: 6.373810",
          "balance: 16749.485482 USD<br>equity: 16670.893120<br>margin: 2790.329942<br>free margin: 13880.563178<br>margin level: 5.974524"
         ],
         "legendgroup": "g3",
         "line": {
          "color": "rgba(0.7372549019607844, 0.7411764705882353, 0.13333333333333333, 1.0)"
         },
         "mode": "lines+markers",
         "name": "USDJPY",
         "opacity": 1,
         "type": "scatter",
         "x": [
          "2021-05-05T00:00:00+00:00",
          "2021-05-06T00:00:00+00:00",
          "2021-05-07T00:00:00+00:00",
          "2021-05-10T00:00:00+00:00",
          "2021-05-11T00:00:00+00:00",
          "2021-05-12T00:00:00+00:00",
          "2021-05-13T00:00:00+00:00",
          "2021-05-14T00:00:00+00:00",
          "2021-05-17T00:00:00+00:00",
          "2021-05-18T00:00:00+00:00",
          "2021-05-19T00:00:00+00:00",
          "2021-05-20T00:00:00+00:00",
          "2021-05-21T00:00:00+00:00",
          "2021-05-24T00:00:00+00:00",
          "2021-05-25T00:00:00+00:00",
          "2021-05-26T00:00:00+00:00",
          "2021-05-27T00:00:00+00:00",
          "2021-05-28T00:00:00+00:00",
          "2021-05-31T00:00:00+00:00",
          "2021-06-01T00:00:00+00:00",
          "2021-06-02T00:00:00+00:00",
          "2021-06-03T00:00:00+00:00",
          "2021-06-04T00:00:00+00:00",
          "2021-06-07T00:00:00+00:00",
          "2021-06-08T00:00:00+00:00",
          "2021-06-09T00:00:00+00:00",
          "2021-06-10T00:00:00+00:00",
          "2021-06-11T00:00:00+00:00",
          "2021-06-14T00:00:00+00:00",
          "2021-06-15T00:00:00+00:00",
          "2021-06-16T00:00:00+00:00",
          "2021-06-17T00:00:00+00:00",
          "2021-06-18T00:00:00+00:00",
          "2021-06-21T00:00:00+00:00",
          "2021-06-22T00:00:00+00:00",
          "2021-06-23T00:00:00+00:00",
          "2021-06-24T00:00:00+00:00",
          "2021-06-25T00:00:00+00:00",
          "2021-06-28T00:00:00+00:00",
          "2021-06-29T00:00:00+00:00",
          "2021-06-30T00:00:00+00:00",
          "2021-07-01T00:00:00+00:00",
          "2021-07-02T00:00:00+00:00",
          "2021-07-05T00:00:00+00:00",
          "2021-07-06T00:00:00+00:00",
          "2021-07-07T00:00:00+00:00",
          "2021-07-08T00:00:00+00:00",
          "2021-07-09T00:00:00+00:00",
          "2021-07-12T00:00:00+00:00",
          "2021-07-13T00:00:00+00:00",
          "2021-07-14T00:00:00+00:00",
          "2021-07-15T00:00:00+00:00",
          "2021-07-16T00:00:00+00:00",
          "2021-07-19T00:00:00+00:00",
          "2021-07-20T00:00:00+00:00",
          "2021-07-21T00:00:00+00:00",
          "2021-07-22T00:00:00+00:00",
          "2021-07-23T00:00:00+00:00",
          "2021-07-26T00:00:00+00:00",
          "2021-07-27T00:00:00+00:00",
          "2021-07-28T00:00:00+00:00",
          "2021-07-29T00:00:00+00:00",
          "2021-07-30T00:00:00+00:00",
          "2021-08-02T00:00:00+00:00",
          "2021-08-03T00:00:00+00:00",
          "2021-08-04T00:00:00+00:00",
          "2021-08-05T00:00:00+00:00",
          "2021-08-06T00:00:00+00:00",
          "2021-08-09T00:00:00+00:00",
          "2021-08-10T00:00:00+00:00",
          "2021-08-11T00:00:00+00:00",
          "2021-08-12T00:00:00+00:00",
          "2021-08-13T00:00:00+00:00",
          "2021-08-16T00:00:00+00:00",
          "2021-08-17T00:00:00+00:00",
          "2021-08-18T00:00:00+00:00",
          "2021-08-19T00:00:00+00:00",
          "2021-08-20T00:00:00+00:00",
          "2021-08-23T00:00:00+00:00",
          "2021-08-24T00:00:00+00:00",
          "2021-08-25T00:00:00+00:00",
          "2021-08-26T00:00:00+00:00",
          "2021-08-27T00:00:00+00:00",
          "2021-08-30T00:00:00+00:00",
          "2021-08-31T00:00:00+00:00",
          "2021-09-01T00:00:00+00:00",
          "2021-09-02T00:00:00+00:00",
          "2021-09-03T00:00:00+00:00"
         ],
         "y": [
          109.188,
          109.09,
          108.604,
          108.81,
          108.615,
          109.699,
          109.453,
          109.362,
          109.209,
          108.888,
          109.227,
          108.767,
          108.945,
          108.74,
          108.747,
          109.139,
          109.808,
          109.872,
          109.556,
          109.467,
          109.547,
          110.276,
          109.524,
          109.238,
          109.492,
          109.618,
          109.319,
          109.682,
          110.071,
          110.056,
          110.708,
          110.221,
          110.211,
          110.314,
          110.658,
          110.949,
          110.874,
          110.778,
          110.614,
          110.538,
          111.101,
          111.521,
          111.02,
          110.962,
          110.61,
          110.608,
          109.748,
          110.102,
          110.349,
          110.627,
          109.95,
          109.831,
          110.081,
          109.447,
          109.843,
          110.286,
          110.149,
          110.547,
          110.381,
          109.774,
          109.909,
          109.47,
          109.656,
          109.305,
          109.042,
          109.473,
          109.761,
          110.217,
          110.267,
          110.56,
          110.428,
          110.386,
          109.592,
          109.243,
          109.595,
          109.763,
          109.763,
          109.799,
          109.694,
          109.679,
          110.023,
          110.081,
          109.85,
          109.913,
          110.007,
          110.025,
          109.937,
          109.712
         ],
         "yaxis": "y3"
        },
        {
         "hovertext": [
          "order id: 4<br>hold probability: 0.2381<br>hold: False<br>volume: 0.619322<br>modified volume: 0.6200<br>fee: 0.018843799069094874<br>error: ",
          "order id: 7<br>hold probability: 0.3651<br>hold: False<br>volume: -0.225207<br>modified volume: 0.2300<br>fee: 0.016319925395309007<br>error: ",
          "order id: 11<br>hold probability: 0.4328<br>hold: False<br>volume: 0.174989<br>modified volume: 0.1700<br>fee: 0.02340568817800488<br>error: ",
          "order id: 17<br>hold probability: 0.3959<br>hold: False<br>volume: -0.610959<br>modified volume: 0.6100<br>fee: 0.021929556164423346<br>error: ",
          "order id: 21<br>hold probability: 0.4355<br>hold: False<br>volume: 0.639341<br>modified volume: 0.6400<br>fee: 0.014606540140060508<br>error: ",
          "order id: 23<br>hold probability: 0.4476<br>hold: False<br>volume: -0.373696<br>modified volume: 0.3700<br>fee: 0.02211458316404094<br>error: ",
          "order id: 24<br>hold probability: 0.2703<br>hold: False<br>volume: -0.534773<br>modified volume: 0.5300<br>fee: 0.017699203546063906<br>error: ",
          "order id: 25<br>hold probability: 0.2418<br>hold: False<br>volume: -0.075216<br>modified volume: 0.0800<br>fee: 0.023859072013666167<br>error: ",
          "order id: 33<br>hold probability: 0.1653<br>hold: False<br>volume: -0.015272<br>modified volume: 0.0200<br>fee: 0.024793759998973226<br>error: ",
          "order id: 34<br>hold probability: 0.2751<br>hold: False<br>volume: 1.196470<br>modified volume: 1.2000<br>fee: 0.01793738548026562<br>error: ",
          "order id: 35<br>hold probability: 0.3356<br>hold: False<br>volume: -0.855984<br>modified volume: 0.8600<br>fee: 0.021820671663600067<br>error: ",
          "order id: 39<br>hold probability: 0.1928<br>hold: False<br>volume: -2.437282<br>modified volume: 2.4400<br>fee: 0.02264292889341427<br>error: ",
          "order id: 44<br>hold probability: 0.3639<br>hold: False<br>volume: 1.347169<br>modified volume: 1.3500<br>fee: 0.01999400540054282<br>error: ",
          "order id: 46<br>hold probability: 0.4306<br>hold: False<br>volume: -0.043350<br>modified volume: 0.0400<br>fee: 0.01804128951291474<br>error: ",
          "order id: 50<br>hold probability: 0.4691<br>hold: False<br>volume: -1.088047<br>modified volume: 1.0900<br>fee: 0.019681501096788966<br>error: ",
          "order id: 56<br>hold probability: 0.4089<br>hold: False<br>volume: 0.147165<br>modified volume: 0.1500<br>fee: 0.01818908632389915<br>error: ",
          "order id: 58<br>hold probability: 0.2624<br>hold: False<br>volume: -1.135331<br>modified volume: 1.1400<br>fee: 0.02081173549294124<br>error: ",
          "order id: 61<br>hold probability: 0.4960<br>hold: False<br>volume: 0.744650<br>modified volume: 0.7400<br>fee: 0.020656312142969563<br>error: ",
          "order id: 63<br>hold probability: 0.3529<br>hold: False<br>volume: 0.655466<br>modified volume: 0.6600<br>fee: 0.018226896351392637<br>error: ",
          "order id: 64<br>hold probability: 0.2795<br>hold: False<br>volume: -0.049772<br>modified volume: 0.0500<br>fee: 0.01752242838531712<br>error: ",
          "order id: 67<br>hold probability: 0.0695<br>hold: False<br>volume: -0.922540<br>modified volume: 0.9200<br>fee: 0.01579525690429838<br>error: ",
          "order id: 72<br>hold probability: 0.1433<br>hold: False<br>volume: 0.656525<br>modified volume: 0.6600<br>fee: 0.019230316369178713<br>error: ",
          "order id: 74<br>hold probability: 0.4306<br>hold: False<br>volume: 1.863874<br>modified volume: 1.8600<br>fee: 0.01778605034002213<br>error: ",
          "order id: 76<br>hold probability: 0.3546<br>hold: False<br>volume: -0.961936<br>modified volume: 0.9600<br>fee: 0.022863110943999867<br>error: ",
          "order id: 77<br>hold probability: 0.3585<br>hold: False<br>volume: -0.315676<br>modified volume: 0.3200<br>fee: 0.019747121796050343<br>error: ",
          "order id: 78<br>hold probability: 0.3574<br>hold: False<br>volume: -0.712102<br>modified volume: 0.7100<br>fee: 0.023110811735328467<br>error: ",
          "order id: 81<br>hold probability: 0.2543<br>hold: False<br>volume: 0.492015<br>modified volume: 0.4900<br>fee: 0.02593232590302553<br>error: ",
          "order id: 85<br>hold probability: 0.2418<br>hold: False<br>volume: 0.022412<br>modified volume: 0.0200<br>fee: 0.013198988268978364<br>error: ",
          "order id: 87<br>hold probability: 0.1785<br>hold: False<br>volume: 1.034488<br>modified volume: 1.0300<br>fee: 0.017491148295967162<br>error: ",
          "order id: 96<br>hold probability: 0.2890<br>hold: False<br>volume: 1.494576<br>modified volume: 1.4900<br>fee: 0.020602913371467375<br>error: ",
          "order id: 97<br>hold probability: 0.4403<br>hold: False<br>volume: 0.378896<br>modified volume: 0.3800<br>fee: 0.016005217696315847<br>error: ",
          "order id: 101<br>hold probability: 0.3512<br>hold: False<br>volume: -0.696505<br>modified volume: 0.7000<br>fee: 0.019208430878684252<br>error: ",
          "order id: 103<br>hold probability: 0.1454<br>hold: False<br>volume: -1.377010<br>modified volume: 1.3800<br>fee: 0.01833109715818379<br>error: ",
          "order id: 106<br>hold probability: 0.4115<br>hold: False<br>volume: -0.413153<br>modified volume: 0.4100<br>fee: 0.01875328142515293<br>error: ",
          "order id: 108<br>hold probability: 0.3356<br>hold: False<br>volume: 0.375927<br>modified volume: 0.3800<br>fee: 0.021398526180472846<br>error: "
         ],
         "legendgroup": "g3",
         "marker": {
          "color": [
           "green",
           "red",
           "green",
           "red",
           "green",
           "red",
           "red",
           "red",
           "red",
           "green",
           "red",
           "red",
           "green",
           "red",
           "red",
           "green",
           "red",
           "green",
           "green",
           "red",
           "red",
           "green",
           "green",
           "red",
           "red",
           "red",
           "green",
           "green",
           "green",
           "green",
           "green",
           "red",
           "red",
           "red",
           "green"
          ],
          "size": [
           13.59016393442623,
           10.073770491803279,
           9.532786885245901,
           13.5,
           13.770491803278688,
           11.336065573770492,
           12.778688524590164,
           8.721311475409836,
           8.180327868852459,
           18.81967213114754,
           15.754098360655739,
           30,
           20.172131147540984,
           8.360655737704919,
           17.82786885245902,
           9.352459016393443,
           18.278688524590166,
           14.672131147540984,
           13.950819672131148,
           8.450819672131148,
           16.295081967213115,
           13.950819672131148,
           24.77049180327869,
           16.65573770491803,
           10.885245901639344,
           14.401639344262295,
           12.418032786885245,
           8.180327868852459,
           17.28688524590164,
           21.434426229508198,
           11.426229508196721,
           14.311475409836067,
           20.442622950819676,
           11.696721311475411,
           11.426229508196721
          ],
          "symbol": [
           "triangle-up",
           "triangle-down",
           "triangle-up",
           "triangle-down",
           "triangle-up",
           "triangle-down",
           "triangle-down",
           "triangle-down",
           "triangle-down",
           "triangle-up",
           "triangle-down",
           "triangle-down",
           "triangle-up",
           "triangle-down",
           "triangle-down",
           "triangle-up",
           "triangle-down",
           "triangle-up",
           "triangle-up",
           "triangle-down",
           "triangle-down",
           "triangle-up",
           "triangle-up",
           "triangle-down",
           "triangle-down",
           "triangle-down",
           "triangle-up",
           "triangle-up",
           "triangle-up",
           "triangle-up",
           "triangle-up",
           "triangle-down",
           "triangle-down",
           "triangle-down",
           "triangle-up"
          ]
         },
         "mode": "markers",
         "name": "USDJPY",
         "showlegend": false,
         "type": "scatter",
         "x": [
          "2021-05-20T00:00:00+00:00",
          "2021-05-24T00:00:00+00:00",
          "2021-05-26T00:00:00+00:00",
          "2021-05-31T00:00:00+00:00",
          "2021-06-02T00:00:00+00:00",
          "2021-06-03T00:00:00+00:00",
          "2021-06-04T00:00:00+00:00",
          "2021-06-08T00:00:00+00:00",
          "2021-06-17T00:00:00+00:00",
          "2021-06-18T00:00:00+00:00",
          "2021-06-21T00:00:00+00:00",
          "2021-06-23T00:00:00+00:00",
          "2021-06-30T00:00:00+00:00",
          "2021-07-01T00:00:00+00:00",
          "2021-07-08T00:00:00+00:00",
          "2021-07-14T00:00:00+00:00",
          "2021-07-15T00:00:00+00:00",
          "2021-07-19T00:00:00+00:00",
          "2021-07-20T00:00:00+00:00",
          "2021-07-21T00:00:00+00:00",
          "2021-07-26T00:00:00+00:00",
          "2021-07-30T00:00:00+00:00",
          "2021-08-03T00:00:00+00:00",
          "2021-08-04T00:00:00+00:00",
          "2021-08-05T00:00:00+00:00",
          "2021-08-06T00:00:00+00:00",
          "2021-08-10T00:00:00+00:00",
          "2021-08-12T00:00:00+00:00",
          "2021-08-16T00:00:00+00:00",
          "2021-08-23T00:00:00+00:00",
          "2021-08-24T00:00:00+00:00",
          "2021-08-27T00:00:00+00:00",
          "2021-08-30T00:00:00+00:00",
          "2021-08-31T00:00:00+00:00",
          "2021-09-01T00:00:00+00:00"
         ],
         "y": [
          108.767,
          108.74,
          109.139,
          109.556,
          109.547,
          110.276,
          109.524,
          109.492,
          110.221,
          110.211,
          110.314,
          110.949,
          111.101,
          111.521,
          109.748,
          109.95,
          109.831,
          109.447,
          109.843,
          110.286,
          110.381,
          109.656,
          109.042,
          109.473,
          109.761,
          110.217,
          110.56,
          110.386,
          109.243,
          109.694,
          109.679,
          109.85,
          109.913,
          110.007,
          110.025
         ],
         "yaxis": "y3"
        },
        {
         "hovertext": [
          "order id: 7<br>order type: Sell<br>close probability: 0.6260<br>profit: -87.524700",
          "order id: 4<br>order type: Buy<br>close probability: 0.8213<br>profit: 577.131761<br>---------------------------------<br>order id: 11<br>order type: Buy<br>close probability: 0.5645<br>profit: 99.948121",
          "order id: 17<br>order type: Sell<br>close probability: 0.5890<br>profit: 37.374707",
          "order id: 21<br>order type: Buy<br>close probability: 0.5355<br>profit: 414.606818",
          "order id: 23<br>order type: Sell<br>close probability: 0.6984<br>profit: 344.090522",
          "order id: 24<br>order type: Sell<br>close probability: 0.5205<br>profit: -54.006256",
          "order id: 25<br>order type: Sell<br>close probability: 0.5233<br>profit: 10.914182",
          "order id: 33<br>order type: Sell<br>close probability: 0.6288<br>profit: -0.268462",
          "order id: 34<br>order type: Buy<br>close probability: 0.6241<br>profit: 92.531444",
          "order id: 35<br>order type: Sell<br>close probability: 0.5606<br>profit: -509.122009",
          "order id: 39<br>order type: Sell<br>close probability: 0.6173<br>profit: 115.222012",
          "order id: 44<br>order type: Buy<br>close probability: 0.6242<br>profit: -193.437309<br>---------------------------------<br>order id: 46<br>order type: Sell<br>close probability: 0.6405<br>profit: 19.500683",
          "order id: 50<br>order type: Sell<br>close probability: 0.5335<br>profit: -885.464521",
          "order id: 58<br>order type: Sell<br>close probability: 0.8589<br>profit: -280.452920",
          "order id: 56<br>order type: Buy<br>close probability: 0.6689<br>profit: -71.430339",
          "order id: 61<br>order type: Buy<br>close probability: 0.7698<br>profit: 252.864843",
          "order id: 63<br>order type: Buy<br>close probability: 0.5030<br>profit: 172.430298<br>---------------------------------<br>order id: 64<br>order type: Sell<br>close probability: 0.8033<br>profit: 5.423452",
          "order id: 67<br>order type: Sell<br>close probability: 0.8909<br>profit: 495.480135",
          "order id: 72<br>order type: Buy<br>close probability: 0.6534<br>profit: -223.550623",
          "order id: 74<br>order type: Buy<br>close probability: 0.9074<br>profit: 1188.270831<br>---------------------------------<br>order id: 76<br>order type: Sell<br>close probability: 0.5623<br>profit: -271.889457",
          "order id: 77<br>order type: Sell<br>close probability: 0.7509<br>profit: -138.126676",
          "order id: 78<br>order type: Sell<br>close probability: 0.8628<br>profit: -47.075441",
          "order id: 81<br>order type: Buy<br>close probability: 0.6976<br>profit: -70.079001",
          "order id: 85<br>order type: Buy<br>close probability: 0.6403<br>profit: -14.730984",
          "order id: 87<br>order type: Buy<br>close probability: 0.7726<br>profit: 505.163177",
          "order id: 96<br>order type: Buy<br>close probability: 0.5243<br>profit: 417.650545",
          "order id: 101<br>order type: Sell<br>close probability: 0.5121<br>profit: -52.355865",
          "order id: 97<br>order type: Buy<br>close probability: 0.5503<br>profit: 107.773157<br>---------------------------------<br>order id: 103<br>order type: Sell<br>close probability: 0.6858<br>profit: -140.915500"
         ],
         "legendgroup": "g3",
         "marker": {
          "color": "black",
          "line": {
           "width": 1.5
          },
          "size": 7,
          "symbol": "line-ns"
         },
         "mode": "markers",
         "name": "USDJPY",
         "showlegend": false,
         "type": "scatter",
         "x": [
          "2021-05-26T00:00:00+00:00",
          "2021-05-27T00:00:00+00:00",
          "2021-06-01T00:00:00+00:00",
          "2021-06-03T00:00:00+00:00",
          "2021-06-07T00:00:00+00:00",
          "2021-06-09T00:00:00+00:00",
          "2021-06-10T00:00:00+00:00",
          "2021-06-18T00:00:00+00:00",
          "2021-06-21T00:00:00+00:00",
          "2021-06-23T00:00:00+00:00",
          "2021-06-24T00:00:00+00:00",
          "2021-07-05T00:00:00+00:00",
          "2021-07-13T00:00:00+00:00",
          "2021-07-16T00:00:00+00:00",
          "2021-07-19T00:00:00+00:00",
          "2021-07-20T00:00:00+00:00",
          "2021-07-22T00:00:00+00:00",
          "2021-07-27T00:00:00+00:00",
          "2021-08-02T00:00:00+00:00",
          "2021-08-05T00:00:00+00:00",
          "2021-08-06T00:00:00+00:00",
          "2021-08-09T00:00:00+00:00",
          "2021-08-11T00:00:00+00:00",
          "2021-08-13T00:00:00+00:00",
          "2021-08-20T00:00:00+00:00",
          "2021-08-25T00:00:00+00:00",
          "2021-08-30T00:00:00+00:00",
          "2021-08-31T00:00:00+00:00"
         ],
         "y": [
          109.139,
          109.808,
          109.467,
          110.276,
          109.238,
          109.618,
          109.319,
          110.211,
          110.314,
          110.949,
          110.874,
          110.962,
          110.627,
          110.081,
          109.447,
          109.843,
          110.149,
          109.774,
          109.305,
          109.761,
          110.217,
          110.267,
          110.428,
          109.592,
          109.799,
          110.023,
          109.913,
          110.007
         ],
         "yaxis": "y3"
        }
       ],
       "layout": {
        "height": 600,
        "template": {
         "data": {
          "bar": [
           {
            "error_x": {
             "color": "#2a3f5f"
            },
            "error_y": {
             "color": "#2a3f5f"
            },
            "marker": {
             "line": {
              "color": "#E5ECF6",
              "width": 0.5
             },
             "pattern": {
              "fillmode": "overlay",
              "size": 10,
              "solidity": 0.2
             }
            },
            "type": "bar"
           }
          ],
          "barpolar": [
           {
            "marker": {
             "line": {
              "color": "#E5ECF6",
              "width": 0.5
             },
             "pattern": {
              "fillmode": "overlay",
              "size": 10,
              "solidity": 0.2
             }
            },
            "type": "barpolar"
           }
          ],
          "carpet": [
           {
            "aaxis": {
             "endlinecolor": "#2a3f5f",
             "gridcolor": "white",
             "linecolor": "white",
             "minorgridcolor": "white",
             "startlinecolor": "#2a3f5f"
            },
            "baxis": {
             "endlinecolor": "#2a3f5f",
             "gridcolor": "white",
             "linecolor": "white",
             "minorgridcolor": "white",
             "startlinecolor": "#2a3f5f"
            },
            "type": "carpet"
           }
          ],
          "choropleth": [
           {
            "colorbar": {
             "outlinewidth": 0,
             "ticks": ""
            },
            "type": "choropleth"
           }
          ],
          "contour": [
           {
            "colorbar": {
             "outlinewidth": 0,
             "ticks": ""
            },
            "colorscale": [
             [
              0,
              "#0d0887"
             ],
             [
              0.1111111111111111,
              "#46039f"
             ],
             [
              0.2222222222222222,
              "#7201a8"
             ],
             [
              0.3333333333333333,
              "#9c179e"
             ],
             [
              0.4444444444444444,
              "#bd3786"
             ],
             [
              0.5555555555555556,
              "#d8576b"
             ],
             [
              0.6666666666666666,
              "#ed7953"
             ],
             [
              0.7777777777777778,
              "#fb9f3a"
             ],
             [
              0.8888888888888888,
              "#fdca26"
             ],
             [
              1,
              "#f0f921"
             ]
            ],
            "type": "contour"
           }
          ],
          "contourcarpet": [
           {
            "colorbar": {
             "outlinewidth": 0,
             "ticks": ""
            },
            "type": "contourcarpet"
           }
          ],
          "heatmap": [
           {
            "colorbar": {
             "outlinewidth": 0,
             "ticks": ""
            },
            "colorscale": [
             [
              0,
              "#0d0887"
             ],
             [
              0.1111111111111111,
              "#46039f"
             ],
             [
              0.2222222222222222,
              "#7201a8"
             ],
             [
              0.3333333333333333,
              "#9c179e"
             ],
             [
              0.4444444444444444,
              "#bd3786"
             ],
             [
              0.5555555555555556,
              "#d8576b"
             ],
             [
              0.6666666666666666,
              "#ed7953"
             ],
             [
              0.7777777777777778,
              "#fb9f3a"
             ],
             [
              0.8888888888888888,
              "#fdca26"
             ],
             [
              1,
              "#f0f921"
             ]
            ],
            "type": "heatmap"
           }
          ],
          "heatmapgl": [
           {
            "colorbar": {
             "outlinewidth": 0,
             "ticks": ""
            },
            "colorscale": [
             [
              0,
              "#0d0887"
             ],
             [
              0.1111111111111111,
              "#46039f"
             ],
             [
              0.2222222222222222,
              "#7201a8"
             ],
             [
              0.3333333333333333,
              "#9c179e"
             ],
             [
              0.4444444444444444,
              "#bd3786"
             ],
             [
              0.5555555555555556,
              "#d8576b"
             ],
             [
              0.6666666666666666,
              "#ed7953"
             ],
             [
              0.7777777777777778,
              "#fb9f3a"
             ],
             [
              0.8888888888888888,
              "#fdca26"
             ],
             [
              1,
              "#f0f921"
             ]
            ],
            "type": "heatmapgl"
           }
          ],
          "histogram": [
           {
            "marker": {
             "pattern": {
              "fillmode": "overlay",
              "size": 10,
              "solidity": 0.2
             }
            },
            "type": "histogram"
           }
          ],
          "histogram2d": [
           {
            "colorbar": {
             "outlinewidth": 0,
             "ticks": ""
            },
            "colorscale": [
             [
              0,
              "#0d0887"
             ],
             [
              0.1111111111111111,
              "#46039f"
             ],
             [
              0.2222222222222222,
              "#7201a8"
             ],
             [
              0.3333333333333333,
              "#9c179e"
             ],
             [
              0.4444444444444444,
              "#bd3786"
             ],
             [
              0.5555555555555556,
              "#d8576b"
             ],
             [
              0.6666666666666666,
              "#ed7953"
             ],
             [
              0.7777777777777778,
              "#fb9f3a"
             ],
             [
              0.8888888888888888,
              "#fdca26"
             ],
             [
              1,
              "#f0f921"
             ]
            ],
            "type": "histogram2d"
           }
          ],
          "histogram2dcontour": [
           {
            "colorbar": {
             "outlinewidth": 0,
             "ticks": ""
            },
            "colorscale": [
             [
              0,
              "#0d0887"
             ],
             [
              0.1111111111111111,
              "#46039f"
             ],
             [
              0.2222222222222222,
              "#7201a8"
             ],
             [
              0.3333333333333333,
              "#9c179e"
             ],
             [
              0.4444444444444444,
              "#bd3786"
             ],
             [
              0.5555555555555556,
              "#d8576b"
             ],
             [
              0.6666666666666666,
              "#ed7953"
             ],
             [
              0.7777777777777778,
              "#fb9f3a"
             ],
             [
              0.8888888888888888,
              "#fdca26"
             ],
             [
              1,
              "#f0f921"
             ]
            ],
            "type": "histogram2dcontour"
           }
          ],
          "mesh3d": [
           {
            "colorbar": {
             "outlinewidth": 0,
             "ticks": ""
            },
            "type": "mesh3d"
           }
          ],
          "parcoords": [
           {
            "line": {
             "colorbar": {
              "outlinewidth": 0,
              "ticks": ""
             }
            },
            "type": "parcoords"
           }
          ],
          "pie": [
           {
            "automargin": true,
            "type": "pie"
           }
          ],
          "scatter": [
           {
            "marker": {
             "colorbar": {
              "outlinewidth": 0,
              "ticks": ""
             }
            },
            "type": "scatter"
           }
          ],
          "scatter3d": [
           {
            "line": {
             "colorbar": {
              "outlinewidth": 0,
              "ticks": ""
             }
            },
            "marker": {
             "colorbar": {
              "outlinewidth": 0,
              "ticks": ""
             }
            },
            "type": "scatter3d"
           }
          ],
          "scattercarpet": [
           {
            "marker": {
             "colorbar": {
              "outlinewidth": 0,
              "ticks": ""
             }
            },
            "type": "scattercarpet"
           }
          ],
          "scattergeo": [
           {
            "marker": {
             "colorbar": {
              "outlinewidth": 0,
              "ticks": ""
             }
            },
            "type": "scattergeo"
           }
          ],
          "scattergl": [
           {
            "marker": {
             "colorbar": {
              "outlinewidth": 0,
              "ticks": ""
             }
            },
            "type": "scattergl"
           }
          ],
          "scattermapbox": [
           {
            "marker": {
             "colorbar": {
              "outlinewidth": 0,
              "ticks": ""
             }
            },
            "type": "scattermapbox"
           }
          ],
          "scatterpolar": [
           {
            "marker": {
             "colorbar": {
              "outlinewidth": 0,
              "ticks": ""
             }
            },
            "type": "scatterpolar"
           }
          ],
          "scatterpolargl": [
           {
            "marker": {
             "colorbar": {
              "outlinewidth": 0,
              "ticks": ""
             }
            },
            "type": "scatterpolargl"
           }
          ],
          "scatterternary": [
           {
            "marker": {
             "colorbar": {
              "outlinewidth": 0,
              "ticks": ""
             }
            },
            "type": "scatterternary"
           }
          ],
          "surface": [
           {
            "colorbar": {
             "outlinewidth": 0,
             "ticks": ""
            },
            "colorscale": [
             [
              0,
              "#0d0887"
             ],
             [
              0.1111111111111111,
              "#46039f"
             ],
             [
              0.2222222222222222,
              "#7201a8"
             ],
             [
              0.3333333333333333,
              "#9c179e"
             ],
             [
              0.4444444444444444,
              "#bd3786"
             ],
             [
              0.5555555555555556,
              "#d8576b"
             ],
             [
              0.6666666666666666,
              "#ed7953"
             ],
             [
              0.7777777777777778,
              "#fb9f3a"
             ],
             [
              0.8888888888888888,
              "#fdca26"
             ],
             [
              1,
              "#f0f921"
             ]
            ],
            "type": "surface"
           }
          ],
          "table": [
           {
            "cells": {
             "fill": {
              "color": "#EBF0F8"
             },
             "line": {
              "color": "white"
             }
            },
            "header": {
             "fill": {
              "color": "#C8D4E3"
             },
             "line": {
              "color": "white"
             }
            },
            "type": "table"
           }
          ]
         },
         "layout": {
          "annotationdefaults": {
           "arrowcolor": "#2a3f5f",
           "arrowhead": 0,
           "arrowwidth": 1
          },
          "autotypenumbers": "strict",
          "coloraxis": {
           "colorbar": {
            "outlinewidth": 0,
            "ticks": ""
           }
          },
          "colorscale": {
           "diverging": [
            [
             0,
             "#8e0152"
            ],
            [
             0.1,
             "#c51b7d"
            ],
            [
             0.2,
             "#de77ae"
            ],
            [
             0.3,
             "#f1b6da"
            ],
            [
             0.4,
             "#fde0ef"
            ],
            [
             0.5,
             "#f7f7f7"
            ],
            [
             0.6,
             "#e6f5d0"
            ],
            [
             0.7,
             "#b8e186"
            ],
            [
             0.8,
             "#7fbc41"
            ],
            [
             0.9,
             "#4d9221"
            ],
            [
             1,
             "#276419"
            ]
           ],
           "sequential": [
            [
             0,
             "#0d0887"
            ],
            [
             0.1111111111111111,
             "#46039f"
            ],
            [
             0.2222222222222222,
             "#7201a8"
            ],
            [
             0.3333333333333333,
             "#9c179e"
            ],
            [
             0.4444444444444444,
             "#bd3786"
            ],
            [
             0.5555555555555556,
             "#d8576b"
            ],
            [
             0.6666666666666666,
             "#ed7953"
            ],
            [
             0.7777777777777778,
             "#fb9f3a"
            ],
            [
             0.8888888888888888,
             "#fdca26"
            ],
            [
             1,
             "#f0f921"
            ]
           ],
           "sequentialminus": [
            [
             0,
             "#0d0887"
            ],
            [
             0.1111111111111111,
             "#46039f"
            ],
            [
             0.2222222222222222,
             "#7201a8"
            ],
            [
             0.3333333333333333,
             "#9c179e"
            ],
            [
             0.4444444444444444,
             "#bd3786"
            ],
            [
             0.5555555555555556,
             "#d8576b"
            ],
            [
             0.6666666666666666,
             "#ed7953"
            ],
            [
             0.7777777777777778,
             "#fb9f3a"
            ],
            [
             0.8888888888888888,
             "#fdca26"
            ],
            [
             1,
             "#f0f921"
            ]
           ]
          },
          "colorway": [
           "#636efa",
           "#EF553B",
           "#00cc96",
           "#ab63fa",
           "#FFA15A",
           "#19d3f3",
           "#FF6692",
           "#B6E880",
           "#FF97FF",
           "#FECB52"
          ],
          "font": {
           "color": "#2a3f5f"
          },
          "geo": {
           "bgcolor": "white",
           "lakecolor": "white",
           "landcolor": "#E5ECF6",
           "showlakes": true,
           "showland": true,
           "subunitcolor": "white"
          },
          "hoverlabel": {
           "align": "left"
          },
          "hovermode": "closest",
          "mapbox": {
           "style": "light"
          },
          "paper_bgcolor": "white",
          "plot_bgcolor": "#E5ECF6",
          "polar": {
           "angularaxis": {
            "gridcolor": "white",
            "linecolor": "white",
            "ticks": ""
           },
           "bgcolor": "#E5ECF6",
           "radialaxis": {
            "gridcolor": "white",
            "linecolor": "white",
            "ticks": ""
           }
          },
          "scene": {
           "xaxis": {
            "backgroundcolor": "#E5ECF6",
            "gridcolor": "white",
            "gridwidth": 2,
            "linecolor": "white",
            "showbackground": true,
            "ticks": "",
            "zerolinecolor": "white"
           },
           "yaxis": {
            "backgroundcolor": "#E5ECF6",
            "gridcolor": "white",
            "gridwidth": 2,
            "linecolor": "white",
            "showbackground": true,
            "ticks": "",
            "zerolinecolor": "white"
           },
           "zaxis": {
            "backgroundcolor": "#E5ECF6",
            "gridcolor": "white",
            "gridwidth": 2,
            "linecolor": "white",
            "showbackground": true,
            "ticks": "",
            "zerolinecolor": "white"
           }
          },
          "shapedefaults": {
           "line": {
            "color": "#2a3f5f"
           }
          },
          "ternary": {
           "aaxis": {
            "gridcolor": "white",
            "linecolor": "white",
            "ticks": ""
           },
           "baxis": {
            "gridcolor": "white",
            "linecolor": "white",
            "ticks": ""
           },
           "bgcolor": "#E5ECF6",
           "caxis": {
            "gridcolor": "white",
            "linecolor": "white",
            "ticks": ""
           }
          },
          "title": {
           "x": 0.05
          },
          "xaxis": {
           "automargin": true,
           "gridcolor": "white",
           "linecolor": "white",
           "ticks": "",
           "title": {
            "standoff": 15
           },
           "zerolinecolor": "white",
           "zerolinewidth": 2
          },
          "yaxis": {
           "automargin": true,
           "gridcolor": "white",
           "linecolor": "white",
           "ticks": "",
           "title": {
            "standoff": 15
           },
           "zerolinecolor": "white",
           "zerolinewidth": 2
          }
         }
        },
        "title": {
         "text": "Balance: 16749.485482 USD ~ Equity: 16670.893120 ~ Margin: 2790.329942 ~ Free Margin: 13880.563178 ~ Margin Level: 5.974524"
        },
        "width": 1400,
        "xaxis": {
         "tickformat": "%Y-%m-%d"
        },
        "yaxis": {
         "tickfont": {
          "color": "rgba(0.12156862745098039, 0.4666666666666667, 0.7058823529411765, 0.8)"
         }
        },
        "yaxis2": {
         "overlaying": "y",
         "tickfont": {
          "color": "rgba(0.5643983083429451, 0.36993464052287583, 0.5132641291810843, 0.8)"
         }
        },
        "yaxis3": {
         "overlaying": "y",
         "tickfont": {
          "color": "rgba(0.7372549019607844, 0.7411764705882353, 0.13333333333333333, 0.8)"
         }
        }
       }
      }
     },
     "metadata": {}
    }
   ],
   "metadata": {}
  },
  {
   "cell_type": "markdown",
   "source": [
    "## Reference\n",
    "\n",
    "* [https://www.mql5.com/en/docs/integration/python_metatrader5](https://www.mql5.com/en/docs/integration/python_metatrader5)\n",
    "* [https://www.metatrader5.com/en/terminal/help/trading_advanced/margin_forex](https://www.metatrader5.com/en/terminal/help/trading_advanced/margin_forex)\n",
    "* [https://admiralmarkets.com/education/articles/forex-basics/margin-in-forex-trading-margin-level-vs-margin-call](https://admiralmarkets.com/education/articles/forex-basics/margin-in-forex-trading-margin-level-vs-margin-call)\n",
    "* [https://www.tfxi.com/support/support-articles/791095](https://www.tfxi.com/support/support-articles/791095)\n"
   ],
   "metadata": {}
  }
 ],
 "metadata": {
  "interpreter": {
   "hash": "0abee77d591a174194b91b850e12395de882ac6d36de3e6e63e8904e4cff1216"
  },
  "kernelspec": {
   "name": "python3",
   "display_name": "Python 3.9.6 64-bit ('venv': venv)"
  },
  "language_info": {
   "codemirror_mode": {
    "name": "ipython",
    "version": 3
   },
   "file_extension": ".py",
   "mimetype": "text/x-python",
   "name": "python",
   "nbconvert_exporter": "python",
   "pygments_lexer": "ipython3",
   "version": "3.9.6"
  }
 },
 "nbformat": 4,
 "nbformat_minor": 2
}