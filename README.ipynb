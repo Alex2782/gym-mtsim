{
 "cells": [
  {
   "cell_type": "markdown",
   "metadata": {},
   "source": [
    "# gym-mtsim: OpenAI Gym - MetaTrader 5 Simulator\n",
    "\n",
    "`MtSim` is a simulator for the [MetaTrader 5](https://www.metatrader5.com) trading platform alongside an [OpenAI Gym](https://github.com/openai/gym) environment for reinforcement learning-based trading algorithms. `MetaTrader 5` is a **multi-asset** platform that allows trading **Forex**, **Stocks**, **Crypto**, and Futures. It is one of the most popular trading platforms and supports numerous useful features, such as opening demo accounts on various brokers.\n",
    "\n",
    "The simulator is separated from the Gym environment and can work independently. Although the Gym environment is designed to be suitable for RL frameworks, it is also proper for backtesting and classic analysis.\n",
    "\n",
    "The goal of this project was to provide a *general-purpose*, *flexible*, and *easy-to-use* library with a focus on *code readability* that enables users to do all parts of the trading process through it from 0 to 100. So, `gym-mtsim` is not just a testing tool or a Gym environment. It is a combination of a **real-world** simulator, a **backtesting** tool with *high detail visualization*, and a **Gym environment** appropriate for RL/classic algorithms.\n",
    "\n",
    "**Note:** For beginners, it is recommended to check out the [gym-anytrading](https://github.com/AminHP/gym-anytrading) project."
   ]
  },
  {
   "cell_type": "markdown",
   "metadata": {},
   "source": [
    "## Prerequisites\n",
    "\n",
    "### Install MetaTrader 5\n",
    "Download and install MetaTrader 5 software from [here](https://www.metatrader5.com/en/download).\n",
    "\n",
    "Open a demo account on any broker. By default, the software opens a demo account automatically after installation.\n",
    "\n",
    "Explore the software and try to get familiar with it by trading different symbols in both **hedged** and **unhedged** accounts.\n",
    "\n",
    "### Install gym-mtsim\n",
    "\n",
    "#### Via PIP\n",
    "```bash\n",
    "pip install gym-mtsim\n",
    "```\n",
    "\n",
    "#### From Repository\n",
    "```bash\n",
    "git clone https://github.com/AminHP/gym-mtsim\n",
    "cd gym-mtsim\n",
    "pip install -e .\n",
    "\n",
    "## or\n",
    "\n",
    "pip install --upgrade --no-deps --force-reinstall https://github.com/AminHP/gym-mtsim/archive/main.zip\n",
    "```\n",
    "\n",
    "### Install stable-baselines3\n",
    "This package is required to run some examples. Install it from [here](https://github.com/DLR-RM/stable-baselines3#installation)."
   ]
  },
  {
   "cell_type": "markdown",
   "metadata": {},
   "source": [
    "## Components"
   ]
  },
  {
   "cell_type": "markdown",
   "metadata": {},
   "source": [
    "### 1. SymbolInfo\n",
    "\n",
    "This is a data class that contains the essential properties of a symbol. Try to get fully acquainted with [these properties](https://github.com/AminHP/gym-mtsim/blob/main/gym_mtsim/metatrader/symbol.py) in case they are unfamiliar. There are plenty of resources that provide good explanations."
   ]
  },
  {
   "cell_type": "markdown",
   "metadata": {},
   "source": [
    "### 2. Order\n",
    "\n",
    "This is another data class that consists of information of an order. Each order has the following properties:\n",
    "\n",
    "> `id`: A unique number that helps with tracking orders.\n",
    ">\n",
    "> `type`: An enum that specifies the type of the order. It can be either **Buy** or **Sell**.\n",
    ">\n",
    "> `symbol`: The symbol selected for the order.\n",
    ">\n",
    "> `volume`: The volume chose for the order. It can be a multiple of *volume_step* between *volume_min* and *volume_max*. \n",
    ">\n",
    "> `fee`: It is a tricky property. In MetaTrader, there is *no* such concept called fee. Each symbol has bid and ask prices, the difference between which represents the **fee**. Although MetaTrader API provides these bid/ask prices for the recent past, it is not possible to access them for the distant past. Therefore, the **fee** property helps to manage the mentioned difference.\n",
    ">\n",
    "> `entry_time`: The time when the order was placed.\n",
    ">\n",
    "> `entry_price`: The **close** price when the order was placed.\n",
    ">\n",
    "> `exit_time`: The time when the order was closed.\n",
    ">\n",
    "> `exit_price`: The **close** price when the order was closed.\n",
    ">\n",
    "> `profit`: The amount of profit earned by this order so far.\n",
    ">\n",
    "> `margin`: The required amount of margin for this order.\n",
    ">\n",
    "> `closed`: A boolean that specifies whether this order is closed or not."
   ]
  },
  {
   "attachments": {},
   "cell_type": "markdown",
   "metadata": {},
   "source": [
    "### 3. MtSimulator\n",
    "\n",
    "This is the core class that simulates the main parts of MetaTrader. Most of its public properties and methods are explained here. But feel free to take a look at the complete [source code](https://github.com/AminHP/gym-mtsim/blob/main/gym_mtsim/simulator/mt_simulator.py).\n",
    "\n",
    "* Properties:\n",
    "\n",
    "    > `unit`: The unit currency. It is usually *USD*, but it can be anything the broker allows, such as *EUR*.\n",
    "    >\n",
    "    > `balance`: The amount of money before taking into account any open positions.\n",
    "    >\n",
    "    > `equity`: The amount of money, including the value of any open positions.\n",
    "    >\n",
    "    > `margin`: The amount of money which is required for having positions opened.\n",
    "    >\n",
    "    > `leverage`: The leverage ratio.\n",
    "    >\n",
    "    > `free_margin`: The amount of money that is available to open new positions.\n",
    "    >\n",
    "    > `margin_level`: The ratio between **equity** and **margin**.\n",
    "    >\n",
    "    > `stop_out_level`: If the **margin_level** drops below **stop_out_level**, the most unprofitable position will be closed automatically by the broker.\n",
    "    >\n",
    "    > `hedge`: A boolean that specifies whether hedging is enabled or not.\n",
    "    >\n",
    "    > `symbols_info`: A dictionary that contains symbols' information.\n",
    "    >\n",
    "    > `symbols_data`: A dictionary that contains symbols' OHLCV data.\n",
    "    >\n",
    "    > `orders`: The list of open orders.\n",
    "    >\n",
    "    > `closed_orders`: The list of closed orders.\n",
    "    >\n",
    "    > `current_time`: The current time of the system.\n",
    "\n",
    "* Methods:\n",
    "\n",
    "    > `download_data`: Downloads required data from MetaTrader for a list of symbols in a time range. This method can be overridden in order to download data from servers other than MetaTrader. *Note that this method only works on Windows, as the MetaTrader5 Python package is not available on other platforms.*\n",
    "    >\n",
    "    > `save_symbols`: Saves the downloaded symbols' data to a file.\n",
    "    >\n",
    "    > `load_symbols`: Loads the symbols' data from a file.\n",
    "    >\n",
    "    > `tick`: Moves forward in time (by a delta time) and updates orders and other related properties.\n",
    "    >\n",
    "    > `create_order`: Creates a **Buy** or **Sell** order and updates related properties.\n",
    "    >\n",
    "    > `close_order`: Closes an order and updates related properties.\n",
    "    >\n",
    "    > `get_state`: Returns the state of the system. The result is similar to the *Trading tab* and *History tab* of the *Toolbox window* in MetaTrader software."
   ]
  },
  {
   "cell_type": "markdown",
   "metadata": {},
   "source": [
    "### 4. MtEnv\n",
    "\n",
    "This is the Gym environment that works on top of the *MtSim*. Most of its public properties and methods are explained here. But feel free to take a look at the complete [source code](https://github.com/AminHP/gym-mtsim/blob/main/gym_mtsim/envs/mt_env.py).\n",
    "\n",
    "* Properties:\n",
    "\n",
    "    > `original_simulator`: An instance of **MtSim** class as a baseline for simulating the system.\n",
    "    >\n",
    "    > `simulator`: The current simulator in use. It is a copy of the **original_simulator**.\n",
    "    >\n",
    "    > `trading_symbols`: The list of symbols to trade.\n",
    "    >\n",
    "    > `time_points`: A list of time points based on which the simulator moves time. The default value is taken from the *pandas DataFrame.Index* of the first symbol in the **trading_symbols** list.\n",
    "    >\n",
    "    > `hold_threshold`: A probability threshold that controls holding or placing a new order.\n",
    "    >\n",
    "    > `close_threshold`: A probability threshold that controls closing an order.\n",
    "    >\n",
    "    > `fee`: A constant number or a callable that takes a *symbol* as input and returns the **fee** based on that.\n",
    "    >\n",
    "    > `symbol_max_orders`: Specifies the maximum number of open positions per symbol in hedge trading. \n",
    "    >\n",
    "    > `multiprocessing_processes`: Specifies the maximum number of processes used for parallel processing.\n",
    "    >\n",
    "    > `prices`: The symbol prices over time. It is used to calculate signal features and render the environment.\n",
    "    >\n",
    "    > `signal_features`: The extracted features over time. It is used to generate *Gym observations*.\n",
    "    >\n",
    "    > `window_size`: The number of time points (current and previous points) as the length of each observation's features. \n",
    "    >\n",
    "    > `features_shape`: The shape of a single observation's features.\n",
    "    >\n",
    "    > `action_space`: The *Gym action_space* property. It has a complex structure since **stable-baselines** does not support *Dict* or *2D Box* action spaces. The action space is a 1D vector of size `count(trading_symbols) * (symbol_max_orders + 2)`. For each symbol, two types of actions can be performed, closing previous orders and placing a new order. The former is controlled by the first *symbol_max_orders* elements and the latter is controlled by the last two elements. Therefore, the action for each symbol is ***[probability of closing order 1, probability of closing order 2, ..., probability of closing order symbol_max_orders, probability of holding or creating a new order, volume of the new order]***. The last two elements specify whether to hold or place a new order and the volume of the new order (positive volume indicates buy and negative volume indicates sell). These elements are a number in range (-∞, ∞), but the probability values must be in the range [0, 1]. This is a problem with **stable-baselines** as mentioned earlier. To overcome this problem, it is assumed that the probability values belong to the [logit](https://en.wikipedia.org/wiki/Logit) function. So, applying the [expit](https://en.wikipedia.org/wiki/Expit) function on them gives the desired probability values in the range [0, 1]. This function is applied in the **step** method of the environment.\n",
    "    >\n",
    "    > `observation_space`: The *Gym observation_space* property. Each observation contains information about *balance*, *equity*, *margin*, *features*, and *orders*. The **features** is a window on the *signal_features* from index *current_tick - window_size + 1* to *current_tick*. The **orders** is a 3D array. Its first dimension specifies the symbol index in the *trading_symbols* list. The second dimension specifies the order number (each symbol can have more than one open order at the same time in hedge trading). The last dimension has three elements, *entry_price*, *volume*, and *profit* of corresponding order.\n",
    "    >\n",
    "    > `history`: Stores the information of all steps.\n",
    "\n",
    "* Methods:\n",
    "\n",
    "    > `seed`: The typical *Gym seed* method.\n",
    "    >\n",
    "    > `reset`: The typical *Gym reset* method.\n",
    "    >\n",
    "    > `step`: The typical *Gym step* method.\n",
    "    >\n",
    "    > `render`: The typical *Gym render* method. It can render in three modes, **human**, **simple_figure**, and **advanced_figure**.\n",
    "    >\n",
    "    > `close`: The typical *Gym close* method.\n",
    "\n",
    "* Virtual Methods:\n",
    "\n",
    "    > `_get_prices`: It is called in the constructor and calculates symbol **prices**.\n",
    "    >\n",
    "    > `_process_data`: It is called in the constructor and calculates **signal_features**.\n",
    "    >\n",
    "    > `_calculate_reward`: The reward function for the RL agent."
   ]
  },
  {
   "cell_type": "markdown",
   "metadata": {},
   "source": [
    "## A Simple Example"
   ]
  },
  {
   "cell_type": "markdown",
   "metadata": {},
   "source": [
    "### MtSim"
   ]
  },
  {
   "cell_type": "markdown",
   "metadata": {},
   "source": [
    "#### Create a simulator with custom parameters"
   ]
  },
  {
   "cell_type": "code",
   "execution_count": 22,
   "metadata": {},
   "outputs": [],
   "source": [
    "import pytz\n",
    "from datetime import datetime, timedelta\n",
    "from gym_mtsim import MtSimulator, OrderType, Timeframe, FOREX_DATA_PATH\n",
    "\n",
    "\n",
    "sim = MtSimulator(\n",
    "    unit='USD',\n",
    "    balance=10000.,\n",
    "    leverage=100.,\n",
    "    stop_out_level=0.2,\n",
    "    hedge=False,\n",
    ")\n",
    "\n",
    "if not sim.load_symbols(FOREX_DATA_PATH):\n",
    "    sim.download_data(\n",
    "        symbols=['EURUSD', 'GBPCAD', 'GBPUSD', 'USDCAD', 'USDCHF', 'GBPJPY', 'USDJPY'],\n",
    "        time_range=(\n",
    "            datetime(2021, 5, 5, tzinfo=pytz.UTC),\n",
    "            datetime(2021, 9, 5, tzinfo=pytz.UTC)\n",
    "        ),\n",
    "        timeframe=Timeframe.D1\n",
    "    )\n",
    "    sim.save_symbols(FOREX_DATA_PATH)"
   ]
  },
  {
   "cell_type": "markdown",
   "metadata": {},
   "source": [
    "#### Place some orders"
   ]
  },
  {
   "cell_type": "code",
   "execution_count": 23,
   "metadata": {},
   "outputs": [
    {
     "name": "stdout",
     "output_type": "stream",
     "text": [
      "balance: 10000.0, equity: 10717.58118589908, margin: 3375.480933228619\n",
      "free_margin: 7342.1002526704615, margin_level: 3.1751271592500743\n",
      "\n"
     ]
    },
    {
     "data": {
      "text/html": [
       "<div>\n",
       "<style scoped>\n",
       "    .dataframe tbody tr th:only-of-type {\n",
       "        vertical-align: middle;\n",
       "    }\n",
       "\n",
       "    .dataframe tbody tr th {\n",
       "        vertical-align: top;\n",
       "    }\n",
       "\n",
       "    .dataframe thead th {\n",
       "        text-align: right;\n",
       "    }\n",
       "</style>\n",
       "<table border=\"1\" class=\"dataframe\">\n",
       "  <thead>\n",
       "    <tr style=\"text-align: right;\">\n",
       "      <th></th>\n",
       "      <th>Id</th>\n",
       "      <th>Symbol</th>\n",
       "      <th>Type</th>\n",
       "      <th>Volume</th>\n",
       "      <th>Entry Time</th>\n",
       "      <th>Entry Price</th>\n",
       "      <th>Exit Time</th>\n",
       "      <th>Exit Price</th>\n",
       "      <th>Profit</th>\n",
       "      <th>Margin</th>\n",
       "      <th>Fee</th>\n",
       "      <th>Closed</th>\n",
       "    </tr>\n",
       "  </thead>\n",
       "  <tbody>\n",
       "    <tr>\n",
       "      <th>0</th>\n",
       "      <td>2</td>\n",
       "      <td>USDJPY</td>\n",
       "      <td>Sell</td>\n",
       "      <td>2.0</td>\n",
       "      <td>2021-09-01 00:17:52+00:00</td>\n",
       "      <td>110.02500</td>\n",
       "      <td>2021-09-06 00:17:52+00:00</td>\n",
       "      <td>109.71200</td>\n",
       "      <td>552.355257</td>\n",
       "      <td>2000.000000</td>\n",
       "      <td>0.0100</td>\n",
       "      <td>False</td>\n",
       "    </tr>\n",
       "    <tr>\n",
       "      <th>1</th>\n",
       "      <td>1</td>\n",
       "      <td>GBPCAD</td>\n",
       "      <td>Buy</td>\n",
       "      <td>1.0</td>\n",
       "      <td>2021-08-30 00:17:52+00:00</td>\n",
       "      <td>1.73389</td>\n",
       "      <td>2021-09-06 00:17:52+00:00</td>\n",
       "      <td>1.73626</td>\n",
       "      <td>165.225928</td>\n",
       "      <td>1375.480933</td>\n",
       "      <td>0.0003</td>\n",
       "      <td>False</td>\n",
       "    </tr>\n",
       "  </tbody>\n",
       "</table>\n",
       "</div>"
      ],
      "text/plain": [
       "   Id  Symbol  Type  Volume                Entry Time  Entry Price  \\\n",
       "0   2  USDJPY  Sell     2.0 2021-09-01 00:17:52+00:00    110.02500   \n",
       "1   1  GBPCAD   Buy     1.0 2021-08-30 00:17:52+00:00      1.73389   \n",
       "\n",
       "                  Exit Time  Exit Price      Profit       Margin     Fee  \\\n",
       "0 2021-09-06 00:17:52+00:00   109.71200  552.355257  2000.000000  0.0100   \n",
       "1 2021-09-06 00:17:52+00:00     1.73626  165.225928  1375.480933  0.0003   \n",
       "\n",
       "   Closed  \n",
       "0   False  \n",
       "1   False  "
      ]
     },
     "execution_count": 23,
     "metadata": {},
     "output_type": "execute_result"
    }
   ],
   "source": [
    "sim.current_time = datetime(2021, 8, 30, 0, 17, 52, tzinfo=pytz.UTC)\n",
    "\n",
    "order1 = sim.create_order(\n",
    "    order_type=OrderType.Buy,\n",
    "    symbol='GBPCAD',\n",
    "    volume=1.,\n",
    "    fee=0.0003,\n",
    ")\n",
    "\n",
    "sim.tick(timedelta(days=2))\n",
    "\n",
    "order2 = sim.create_order(\n",
    "    order_type=OrderType.Sell,\n",
    "    symbol='USDJPY',\n",
    "    volume=2.,\n",
    "    fee=0.01,\n",
    ")\n",
    "\n",
    "sim.tick(timedelta(days=5))\n",
    "\n",
    "state = sim.get_state()\n",
    "\n",
    "print(\n",
    "    f\"balance: {state['balance']}, equity: {state['equity']}, margin: {state['margin']}\\n\"\n",
    "    f\"free_margin: {state['free_margin']}, margin_level: {state['margin_level']}\\n\"\n",
    ")\n",
    "state['orders']"
   ]
  },
  {
   "cell_type": "markdown",
   "metadata": {},
   "source": [
    "#### Close all orders"
   ]
  },
  {
   "cell_type": "code",
   "execution_count": 24,
   "metadata": {},
   "outputs": [
    {
     "name": "stdout",
     "output_type": "stream",
     "text": [
      "balance: 10717.58118589908, equity: 10717.58118589908, margin: 0.0\n",
      "free_margin: 10717.58118589908, margin_level: inf\n",
      "\n"
     ]
    },
    {
     "data": {
      "text/html": [
       "<div>\n",
       "<style scoped>\n",
       "    .dataframe tbody tr th:only-of-type {\n",
       "        vertical-align: middle;\n",
       "    }\n",
       "\n",
       "    .dataframe tbody tr th {\n",
       "        vertical-align: top;\n",
       "    }\n",
       "\n",
       "    .dataframe thead th {\n",
       "        text-align: right;\n",
       "    }\n",
       "</style>\n",
       "<table border=\"1\" class=\"dataframe\">\n",
       "  <thead>\n",
       "    <tr style=\"text-align: right;\">\n",
       "      <th></th>\n",
       "      <th>Id</th>\n",
       "      <th>Symbol</th>\n",
       "      <th>Type</th>\n",
       "      <th>Volume</th>\n",
       "      <th>Entry Time</th>\n",
       "      <th>Entry Price</th>\n",
       "      <th>Exit Time</th>\n",
       "      <th>Exit Price</th>\n",
       "      <th>Profit</th>\n",
       "      <th>Margin</th>\n",
       "      <th>Fee</th>\n",
       "      <th>Closed</th>\n",
       "    </tr>\n",
       "  </thead>\n",
       "  <tbody>\n",
       "    <tr>\n",
       "      <th>0</th>\n",
       "      <td>2</td>\n",
       "      <td>USDJPY</td>\n",
       "      <td>Sell</td>\n",
       "      <td>2.0</td>\n",
       "      <td>2021-09-01 00:17:52+00:00</td>\n",
       "      <td>110.02500</td>\n",
       "      <td>2021-09-06 00:17:52+00:00</td>\n",
       "      <td>109.71200</td>\n",
       "      <td>552.355257</td>\n",
       "      <td>2000.000000</td>\n",
       "      <td>0.0100</td>\n",
       "      <td>True</td>\n",
       "    </tr>\n",
       "    <tr>\n",
       "      <th>1</th>\n",
       "      <td>1</td>\n",
       "      <td>GBPCAD</td>\n",
       "      <td>Buy</td>\n",
       "      <td>1.0</td>\n",
       "      <td>2021-08-30 00:17:52+00:00</td>\n",
       "      <td>1.73389</td>\n",
       "      <td>2021-09-06 00:17:52+00:00</td>\n",
       "      <td>1.73626</td>\n",
       "      <td>165.225928</td>\n",
       "      <td>1375.480933</td>\n",
       "      <td>0.0003</td>\n",
       "      <td>True</td>\n",
       "    </tr>\n",
       "  </tbody>\n",
       "</table>\n",
       "</div>"
      ],
      "text/plain": [
       "   Id  Symbol  Type  Volume                Entry Time  Entry Price  \\\n",
       "0   2  USDJPY  Sell     2.0 2021-09-01 00:17:52+00:00    110.02500   \n",
       "1   1  GBPCAD   Buy     1.0 2021-08-30 00:17:52+00:00      1.73389   \n",
       "\n",
       "                  Exit Time  Exit Price      Profit       Margin     Fee  \\\n",
       "0 2021-09-06 00:17:52+00:00   109.71200  552.355257  2000.000000  0.0100   \n",
       "1 2021-09-06 00:17:52+00:00     1.73626  165.225928  1375.480933  0.0003   \n",
       "\n",
       "   Closed  \n",
       "0    True  \n",
       "1    True  "
      ]
     },
     "execution_count": 24,
     "metadata": {},
     "output_type": "execute_result"
    }
   ],
   "source": [
    "order1_profit = sim.close_order(order1)\n",
    "order2_profit = sim.close_order(order2)\n",
    "\n",
    "# alternatively:\n",
    "# for order in sim.orders:\n",
    "#     sim.close_order(order)\n",
    "\n",
    "state = sim.get_state()\n",
    "\n",
    "print(\n",
    "    f\"balance: {state['balance']}, equity: {state['equity']}, margin: {state['margin']}\\n\"\n",
    "    f\"free_margin: {state['free_margin']}, margin_level: {state['margin_level']}\\n\"\n",
    ")\n",
    "state['orders']"
   ]
  },
  {
   "cell_type": "markdown",
   "metadata": {},
   "source": [
    "### MtEnv"
   ]
  },
  {
   "cell_type": "markdown",
   "metadata": {},
   "source": [
    "#### Create an environment"
   ]
  },
  {
   "cell_type": "code",
   "execution_count": 25,
   "metadata": {},
   "outputs": [
    {
     "name": "stderr",
     "output_type": "stream",
     "text": [
      "/opt/homebrew/lib/python3.11/site-packages/gymnasium/utils/passive_env_checker.py:42: UserWarning: \u001b[33mWARN: A Box observation space has an unconventional shape (neither an image, nor a 1D vector). We recommend flattening the observation to have only a 1D vector or use a custom policy to properly process the data. Actual observation shape: (10, 6)\u001b[0m\n",
      "  logger.warn(\n",
      "/opt/homebrew/lib/python3.11/site-packages/gymnasium/utils/passive_env_checker.py:29: UserWarning: \u001b[33mWARN: It seems a Box observation space is an image but the `dtype` is not `np.uint8`, actual type: float64. If the Box observation space is not an image, we recommend flattening the observation to have only a 1D vector.\u001b[0m\n",
      "  logger.warn(\n",
      "/opt/homebrew/lib/python3.11/site-packages/gymnasium/utils/passive_env_checker.py:34: UserWarning: \u001b[33mWARN: It seems a Box observation space is an image but the lower and upper bounds are not [0, 255]. Actual lower bound: -10000000000.0, upper bound: 10000000000.0. Generally, CNN policies assume observations are within that range, so you may encounter an issue if the observation values are not.\u001b[0m\n",
      "  logger.warn(\n"
     ]
    }
   ],
   "source": [
    "import gymnasium as gym\n",
    "import gym_mtsim\n",
    "\n",
    "env = gym.make('forex-hedge-v0')\n",
    "# env = gym.make('stocks-hedge-v0')\n",
    "# env = gym.make('crypto-hedge-v0')\n",
    "# env = gym.make('mixed-hedge-v0')\n",
    "\n",
    "# env = gym.make('forex-unhedge-v0')\n",
    "# env = gym.make('stocks-unhedge-v0')\n",
    "# env = gym.make('crypto-unhedge-v0')\n",
    "# env = gym.make('mixed-unhedge-v0')"
   ]
  },
  {
   "cell_type": "markdown",
   "metadata": {},
   "source": [
    "* This will create a default environment. There are eight default environments, but it is also possible to create environments with custom parameters."
   ]
  },
  {
   "cell_type": "markdown",
   "metadata": {},
   "source": [
    "#### Create an environment with custom parameters"
   ]
  },
  {
   "cell_type": "code",
   "execution_count": 26,
   "metadata": {},
   "outputs": [],
   "source": [
    "import pytz\n",
    "from datetime import datetime, timedelta\n",
    "import numpy as np\n",
    "from gym_mtsim import MtEnv, MtSimulator, FOREX_DATA_PATH\n",
    "\n",
    "\n",
    "sim = MtSimulator(\n",
    "    unit='USD',\n",
    "    balance=10000.,\n",
    "    leverage=100.,\n",
    "    stop_out_level=0.2,\n",
    "    hedge=True,\n",
    "    symbols_filename=FOREX_DATA_PATH\n",
    ")\n",
    "\n",
    "env = MtEnv(\n",
    "    original_simulator=sim,\n",
    "    trading_symbols=['GBPCAD', 'EURUSD', 'USDJPY'],\n",
    "    window_size=10,\n",
    "    # time_points=[desired time points ...],\n",
    "    hold_threshold=0.5,\n",
    "    close_threshold=0.5,\n",
    "    fee=lambda symbol: {\n",
    "        'GBPCAD': max(0., np.random.normal(0.0007, 0.00005)),\n",
    "        'EURUSD': max(0., np.random.normal(0.0002, 0.00003)),\n",
    "        'USDJPY': max(0., np.random.normal(0.02, 0.003)),\n",
    "    }[symbol],\n",
    "    symbol_max_orders=2,\n",
    "    multiprocessing_processes=2\n",
    ")"
   ]
  },
  {
   "cell_type": "markdown",
   "metadata": {},
   "source": [
    "#### Print some information"
   ]
  },
  {
   "cell_type": "code",
   "execution_count": 27,
   "metadata": {},
   "outputs": [
    {
     "name": "stdout",
     "output_type": "stream",
     "text": [
      "env information:\n",
      "> prices[GBPCAD].shape: (88, 2)\n",
      "> prices[EURUSD].shape: (88, 2)\n",
      "> prices[USDJPY].shape: (88, 2)\n",
      "> signal_features.shape: (88, 6)\n",
      "> features_shape: (10, 6)\n"
     ]
    }
   ],
   "source": [
    "print(\"env information:\")\n",
    "\n",
    "for symbol in env.prices:\n",
    "    print(f\"> prices[{symbol}].shape:\", env.prices[symbol].shape)\n",
    "\n",
    "print(\"> signal_features.shape:\", env.signal_features.shape)\n",
    "print(\"> features_shape:\", env.features_shape)"
   ]
  },
  {
   "cell_type": "markdown",
   "metadata": {},
   "source": [
    "#### Trade randomly"
   ]
  },
  {
   "cell_type": "code",
   "execution_count": 28,
   "metadata": {},
   "outputs": [
    {
     "name": "stdout",
     "output_type": "stream",
     "text": [
      "balance: 5003.219145802498, equity: 5003.219145802498, margin: -2.2737367544323206e-13\n",
      "free_margin: 5003.219145802498, margin_level: inf\n",
      "step_reward: 0.0\n"
     ]
    }
   ],
   "source": [
    "observation = env.reset()\n",
    "\n",
    "while True:\n",
    "    action = env.action_space.sample()\n",
    "    observation, reward, terminated, truncated, info = env.step(action)\n",
    "\n",
    "    # End the episode when either truncated or terminated is true\n",
    "    #  - truncated: The episode duration reaches max number of timesteps\n",
    "    #  - terminated: Any of the state space values is no longer finite.\n",
    "    done = terminated or truncated\n",
    "\n",
    "    if done:\n",
    "        # print(info)\n",
    "        print(\n",
    "            f\"balance: {info['balance']}, equity: {info['equity']}, margin: {info['margin']}\\n\"\n",
    "            f\"free_margin: {info['free_margin']}, margin_level: {info['margin_level']}\\n\"\n",
    "            f\"step_reward: {info['step_reward']}\"\n",
    "        )\n",
    "        break"
   ]
  },
  {
   "cell_type": "markdown",
   "metadata": {},
   "source": [
    "#### Render in *human* mode"
   ]
  },
  {
   "cell_type": "code",
   "execution_count": 29,
   "metadata": {},
   "outputs": [
    {
     "name": "stdout",
     "output_type": "stream",
     "text": [
      "balance: 5003.219145802498, equity: 5003.219145802498, margin: -2.2737367544323206e-13\n",
      "free_margin: 5003.219145802498, margin_level: inf\n",
      "\n"
     ]
    },
    {
     "data": {
      "text/html": [
       "<div>\n",
       "<style scoped>\n",
       "    .dataframe tbody tr th:only-of-type {\n",
       "        vertical-align: middle;\n",
       "    }\n",
       "\n",
       "    .dataframe tbody tr th {\n",
       "        vertical-align: top;\n",
       "    }\n",
       "\n",
       "    .dataframe thead th {\n",
       "        text-align: right;\n",
       "    }\n",
       "</style>\n",
       "<table border=\"1\" class=\"dataframe\">\n",
       "  <thead>\n",
       "    <tr style=\"text-align: right;\">\n",
       "      <th></th>\n",
       "      <th>Id</th>\n",
       "      <th>Symbol</th>\n",
       "      <th>Type</th>\n",
       "      <th>Volume</th>\n",
       "      <th>Entry Time</th>\n",
       "      <th>Entry Price</th>\n",
       "      <th>Exit Time</th>\n",
       "      <th>Exit Price</th>\n",
       "      <th>Profit</th>\n",
       "      <th>Margin</th>\n",
       "      <th>Fee</th>\n",
       "      <th>Closed</th>\n",
       "    </tr>\n",
       "  </thead>\n",
       "  <tbody>\n",
       "    <tr>\n",
       "      <th>0</th>\n",
       "      <td>8</td>\n",
       "      <td>USDJPY</td>\n",
       "      <td>Sell</td>\n",
       "      <td>1.96</td>\n",
       "      <td>2021-08-03 00:00:00+00:00</td>\n",
       "      <td>109.04200</td>\n",
       "      <td>2021-08-05 00:00:00+00:00</td>\n",
       "      <td>109.76100</td>\n",
       "      <td>-1327.956834</td>\n",
       "      <td>1960.00000</td>\n",
       "      <td>0.024663</td>\n",
       "      <td>True</td>\n",
       "    </tr>\n",
       "    <tr>\n",
       "      <th>1</th>\n",
       "      <td>7</td>\n",
       "      <td>EURUSD</td>\n",
       "      <td>Buy</td>\n",
       "      <td>3.67</td>\n",
       "      <td>2021-08-02 00:00:00+00:00</td>\n",
       "      <td>1.18688</td>\n",
       "      <td>2021-08-04 00:00:00+00:00</td>\n",
       "      <td>1.18367</td>\n",
       "      <td>-1267.954781</td>\n",
       "      <td>4355.84960</td>\n",
       "      <td>0.000245</td>\n",
       "      <td>True</td>\n",
       "    </tr>\n",
       "    <tr>\n",
       "      <th>2</th>\n",
       "      <td>6</td>\n",
       "      <td>USDJPY</td>\n",
       "      <td>Buy</td>\n",
       "      <td>5.51</td>\n",
       "      <td>2021-06-30 00:00:00+00:00</td>\n",
       "      <td>111.10100</td>\n",
       "      <td>2021-07-02 00:00:00+00:00</td>\n",
       "      <td>111.02000</td>\n",
       "      <td>-492.633357</td>\n",
       "      <td>5510.00000</td>\n",
       "      <td>0.018260</td>\n",
       "      <td>True</td>\n",
       "    </tr>\n",
       "    <tr>\n",
       "      <th>3</th>\n",
       "      <td>5</td>\n",
       "      <td>USDJPY</td>\n",
       "      <td>Buy</td>\n",
       "      <td>4.39</td>\n",
       "      <td>2021-06-21 00:00:00+00:00</td>\n",
       "      <td>110.31400</td>\n",
       "      <td>2021-06-22 00:00:00+00:00</td>\n",
       "      <td>110.65800</td>\n",
       "      <td>1290.811581</td>\n",
       "      <td>4390.00000</td>\n",
       "      <td>0.018627</td>\n",
       "      <td>True</td>\n",
       "    </tr>\n",
       "    <tr>\n",
       "      <th>4</th>\n",
       "      <td>4</td>\n",
       "      <td>EURUSD</td>\n",
       "      <td>Buy</td>\n",
       "      <td>0.47</td>\n",
       "      <td>2021-06-10 00:00:00+00:00</td>\n",
       "      <td>1.21751</td>\n",
       "      <td>2021-06-15 00:00:00+00:00</td>\n",
       "      <td>1.21264</td>\n",
       "      <td>-237.888406</td>\n",
       "      <td>572.22970</td>\n",
       "      <td>0.000191</td>\n",
       "      <td>True</td>\n",
       "    </tr>\n",
       "    <tr>\n",
       "      <th>5</th>\n",
       "      <td>3</td>\n",
       "      <td>GBPCAD</td>\n",
       "      <td>Sell</td>\n",
       "      <td>0.40</td>\n",
       "      <td>2021-05-27 00:00:00+00:00</td>\n",
       "      <td>1.71345</td>\n",
       "      <td>2021-06-01 00:00:00+00:00</td>\n",
       "      <td>1.70755</td>\n",
       "      <td>175.280611</td>\n",
       "      <td>568.02115</td>\n",
       "      <td>0.000611</td>\n",
       "      <td>True</td>\n",
       "    </tr>\n",
       "    <tr>\n",
       "      <th>6</th>\n",
       "      <td>2</td>\n",
       "      <td>USDJPY</td>\n",
       "      <td>Sell</td>\n",
       "      <td>3.10</td>\n",
       "      <td>2021-05-24 00:00:00+00:00</td>\n",
       "      <td>108.74000</td>\n",
       "      <td>2021-05-27 00:00:00+00:00</td>\n",
       "      <td>109.80800</td>\n",
       "      <td>-3084.793034</td>\n",
       "      <td>3100.00000</td>\n",
       "      <td>0.024693</td>\n",
       "      <td>True</td>\n",
       "    </tr>\n",
       "    <tr>\n",
       "      <th>7</th>\n",
       "      <td>1</td>\n",
       "      <td>EURUSD</td>\n",
       "      <td>Sell</td>\n",
       "      <td>0.14</td>\n",
       "      <td>2021-05-24 00:00:00+00:00</td>\n",
       "      <td>1.22150</td>\n",
       "      <td>2021-05-25 00:00:00+00:00</td>\n",
       "      <td>1.22497</td>\n",
       "      <td>-51.646633</td>\n",
       "      <td>171.01000</td>\n",
       "      <td>0.000219</td>\n",
       "      <td>True</td>\n",
       "    </tr>\n",
       "  </tbody>\n",
       "</table>\n",
       "</div>"
      ],
      "text/plain": [
       "   Id  Symbol  Type  Volume                Entry Time  Entry Price  \\\n",
       "0   8  USDJPY  Sell    1.96 2021-08-03 00:00:00+00:00    109.04200   \n",
       "1   7  EURUSD   Buy    3.67 2021-08-02 00:00:00+00:00      1.18688   \n",
       "2   6  USDJPY   Buy    5.51 2021-06-30 00:00:00+00:00    111.10100   \n",
       "3   5  USDJPY   Buy    4.39 2021-06-21 00:00:00+00:00    110.31400   \n",
       "4   4  EURUSD   Buy    0.47 2021-06-10 00:00:00+00:00      1.21751   \n",
       "5   3  GBPCAD  Sell    0.40 2021-05-27 00:00:00+00:00      1.71345   \n",
       "6   2  USDJPY  Sell    3.10 2021-05-24 00:00:00+00:00    108.74000   \n",
       "7   1  EURUSD  Sell    0.14 2021-05-24 00:00:00+00:00      1.22150   \n",
       "\n",
       "                  Exit Time  Exit Price       Profit      Margin       Fee  \\\n",
       "0 2021-08-05 00:00:00+00:00   109.76100 -1327.956834  1960.00000  0.024663   \n",
       "1 2021-08-04 00:00:00+00:00     1.18367 -1267.954781  4355.84960  0.000245   \n",
       "2 2021-07-02 00:00:00+00:00   111.02000  -492.633357  5510.00000  0.018260   \n",
       "3 2021-06-22 00:00:00+00:00   110.65800  1290.811581  4390.00000  0.018627   \n",
       "4 2021-06-15 00:00:00+00:00     1.21264  -237.888406   572.22970  0.000191   \n",
       "5 2021-06-01 00:00:00+00:00     1.70755   175.280611   568.02115  0.000611   \n",
       "6 2021-05-27 00:00:00+00:00   109.80800 -3084.793034  3100.00000  0.024693   \n",
       "7 2021-05-25 00:00:00+00:00     1.22497   -51.646633   171.01000  0.000219   \n",
       "\n",
       "   Closed  \n",
       "0    True  \n",
       "1    True  \n",
       "2    True  \n",
       "3    True  \n",
       "4    True  \n",
       "5    True  \n",
       "6    True  \n",
       "7    True  "
      ]
     },
     "execution_count": 29,
     "metadata": {},
     "output_type": "execute_result"
    }
   ],
   "source": [
    "state = env.render()\n",
    "\n",
    "print(\n",
    "    f\"balance: {state['balance']}, equity: {state['equity']}, margin: {state['margin']}\\n\"\n",
    "    f\"free_margin: {state['free_margin']}, margin_level: {state['margin_level']}\\n\"\n",
    ")\n",
    "state['orders']"
   ]
  },
  {
   "cell_type": "markdown",
   "metadata": {},
   "source": [
    "#### Render in *simple_figure* mode\n",
    "\n",
    "* Each *symbol* is illustrated with a separate color.\n",
    "* The **green**/**red** triangles show successful **buy**/**sell** actions.\n",
    "* The **gray** triangles indicate that the **buy**/**sell** action has encountered an **error**.\n",
    "* The **black** vertical bars specify **close** actions."
   ]
  },
  {
   "cell_type": "code",
   "execution_count": 30,
   "metadata": {},
   "outputs": [
    {
     "name": "stderr",
     "output_type": "stream",
     "text": [
      "/opt/homebrew/lib/python3.11/site-packages/matplotlib/axis.py:125: FutureWarning: elementwise comparison failed; returning scalar instead, but in the future will perform elementwise comparison\n",
      "  if labelcolor == 'inherit':\n"
     ]
    },
    {
     "data": {
      "image/png": "[encoded data removed]",
      "text/plain": [
       "<Figure size 1400x600 with 3 Axes>"
      ]
     },
     "metadata": {},
     "output_type": "display_data"
    }
   ],
   "source": [
    "env.render('simple_figure')"
   ]
  },
  {
   "cell_type": "markdown",
   "metadata": {},
   "source": [
    "#### Render in *advanced_figure* mode\n",
    "\n",
    "* Clicking on a symbol name will hide/show its plot.\n",
    "* Hovering over points and markers will display their detail.\n",
    "* The size of triangles indicates their relative volume."
   ]
  },
  {
   "cell_type": "code",
   "execution_count": 31,
   "metadata": {},
   "outputs": [
    {
     "data": {
      "application/vnd.plotly.v1+json": {
       "config": {
        "plotlyServerURL": "https://plot.ly"
       },
       "data": [
        {
         "hovertext": [
          "balance: 10000.000000 USD<br>equity: 10000.000000<br>margin: 0.000000<br>free margin: 10000.000000<br>margin level: inf",
          "balance: 10000.000000 USD<br>equity: 10000.000000<br>margin: 0.000000<br>free margin: 10000.000000<br>margin level: inf",
          "balance: 10000.000000 USD<br>equity: 10000.000000<br>margin: 0.000000<br>free margin: 10000.000000<br>margin level: inf",
          "balance: 10000.000000 USD<br>equity: 10000.000000<br>margin: 0.000000<br>free margin: 10000.000000<br>margin level: inf",
          "balance: 10000.000000 USD<br>equity: 10000.000000<br>margin: 0.000000<br>free margin: 10000.000000<br>margin level: inf",
          "balance: 10000.000000 USD<br>equity: 10000.000000<br>margin: 0.000000<br>free margin: 10000.000000<br>margin level: inf",
          "balance: 10000.000000 USD<br>equity: 10000.000000<br>margin: 0.000000<br>free margin: 10000.000000<br>margin level: inf",
          "balance: 10000.000000 USD<br>equity: 10000.000000<br>margin: 0.000000<br>free margin: 10000.000000<br>margin level: inf",
          "balance: 10000.000000 USD<br>equity: 10000.000000<br>margin: 0.000000<br>free margin: 10000.000000<br>margin level: inf",
          "balance: 10000.000000 USD<br>equity: 10000.000000<br>margin: 0.000000<br>free margin: 10000.000000<br>margin level: inf",
          "balance: 10000.000000 USD<br>equity: 10000.000000<br>margin: 0.000000<br>free margin: 10000.000000<br>margin level: inf",
          "balance: 10000.000000 USD<br>equity: 10000.000000<br>margin: 0.000000<br>free margin: 10000.000000<br>margin level: inf",
          "balance: 10000.000000 USD<br>equity: 10000.000000<br>margin: 0.000000<br>free margin: 10000.000000<br>margin level: inf",
          "balance: 10000.000000 USD<br>equity: 10000.000000<br>margin: 0.000000<br>free margin: 10000.000000<br>margin level: inf",
          "balance: 10000.000000 USD<br>equity: 9858.006475<br>margin: 3271.010000<br>free margin: 6586.996475<br>margin level: 3.013750",
          "balance: 9948.353367 USD<br>equity: 8744.888488<br>margin: 3100.000000<br>free margin: 5644.888488<br>margin level: 2.820932",
          "balance: 9948.353367 USD<br>equity: 6863.560333<br>margin: 3100.000000<br>free margin: 3763.560333<br>margin level: 2.214052",
          "balance: 6863.560333 USD<br>equity: 6839.674122<br>margin: 568.021150<br>free margin: 6271.652971<br>margin level: 12.041231",
          "balance: 6863.560333 USD<br>equity: 6850.255376<br>margin: 568.021150<br>free margin: 6282.234226<br>margin level: 12.059860",
          "balance: 6863.560333 USD<br>equity: 7038.840944<br>margin: 568.021150<br>free margin: 6470.819794<br>margin level: 12.391864",
          "balance: 7038.840944 USD<br>equity: 7038.840944<br>margin: 0.000000<br>free margin: 7038.840944<br>margin level: inf",
          "balance: 7038.840944 USD<br>equity: 7038.840944<br>margin: 0.000000<br>free margin: 7038.840944<br>margin level: inf",
          "balance: 7038.840944 USD<br>equity: 7038.840944<br>margin: 0.000000<br>free margin: 7038.840944<br>margin level: inf",
          "balance: 7038.840944 USD<br>equity: 7038.840944<br>margin: 0.000000<br>free margin: 7038.840944<br>margin level: inf",
          "balance: 7038.840944 USD<br>equity: 7038.840944<br>margin: 0.000000<br>free margin: 7038.840944<br>margin level: inf",
          "balance: 7038.840944 USD<br>equity: 7038.840944<br>margin: 0.000000<br>free margin: 7038.840944<br>margin level: inf",
          "balance: 7038.840944 USD<br>equity: 7038.840944<br>margin: 0.000000<br>free margin: 7038.840944<br>margin level: inf",
          "balance: 7038.840944 USD<br>equity: 6706.482538<br>margin: 572.229700<br>free margin: 6134.252838<br>margin level: 11.719913",
          "balance: 7038.840944 USD<br>equity: 6770.872538<br>margin: 572.229700<br>free margin: 6198.642838<br>margin level: 11.832438",
          "balance: 7038.840944 USD<br>equity: 6800.952538<br>margin: 572.229700<br>free margin: 6228.722838<br>margin level: 11.885004",
          "balance: 6800.952538 USD<br>equity: 6800.952538<br>margin: 0.000000<br>free margin: 6800.952538<br>margin level: inf",
          "balance: 6800.952538 USD<br>equity: 6800.952538<br>margin: 0.000000<br>free margin: 6800.952538<br>margin level: inf",
          "balance: 6800.952538 USD<br>equity: 6800.952538<br>margin: 0.000000<br>free margin: 6800.952538<br>margin level: inf",
          "balance: 6800.952538 USD<br>equity: 6800.952538<br>margin: 0.000000<br>free margin: 6800.952538<br>margin level: inf",
          "balance: 6800.952538 USD<br>equity: 8091.764119<br>margin: 4390.000000<br>free margin: 3701.764119<br>margin level: 1.843226",
          "balance: 8091.764119 USD<br>equity: 8091.764119<br>margin: 0.000000<br>free margin: 8091.764119<br>margin level: inf",
          "balance: 8091.764119 USD<br>equity: 8091.764119<br>margin: 0.000000<br>free margin: 8091.764119<br>margin level: inf",
          "balance: 8091.764119 USD<br>equity: 8091.764119<br>margin: 0.000000<br>free margin: 8091.764119<br>margin level: inf",
          "balance: 8091.764119 USD<br>equity: 8091.764119<br>margin: 0.000000<br>free margin: 8091.764119<br>margin level: inf",
          "balance: 8091.764119 USD<br>equity: 8091.764119<br>margin: 0.000000<br>free margin: 8091.764119<br>margin level: inf",
          "balance: 8091.764119 USD<br>equity: 8091.764119<br>margin: 0.000000<br>free margin: 8091.764119<br>margin level: inf",
          "balance: 8091.764119 USD<br>equity: 10076.671398<br>margin: 5510.000000<br>free margin: 4566.671398<br>margin level: 1.828797",
          "balance: 8091.764119 USD<br>equity: 7599.130761<br>margin: 5510.000000<br>free margin: 2089.130761<br>margin level: 1.379153",
          "balance: 7599.130761 USD<br>equity: 7599.130761<br>margin: 0.000000<br>free margin: 7599.130761<br>margin level: inf",
          "balance: 7599.130761 USD<br>equity: 7599.130761<br>margin: 0.000000<br>free margin: 7599.130761<br>margin level: inf",
          "balance: 7599.130761 USD<br>equity: 7599.130761<br>margin: 0.000000<br>free margin: 7599.130761<br>margin level: inf",
          "balance: 7599.130761 USD<br>equity: 7599.130761<br>margin: 0.000000<br>free margin: 7599.130761<br>margin level: inf",
          "balance: 7599.130761 USD<br>equity: 7599.130761<br>margin: 0.000000<br>free margin: 7599.130761<br>margin level: inf",
          "balance: 7599.130761 USD<br>equity: 7599.130761<br>margin: 0.000000<br>free margin: 7599.130761<br>margin level: inf",
          "balance: 7599.130761 USD<br>equity: 7599.130761<br>margin: 0.000000<br>free margin: 7599.130761<br>margin level: inf",
          "balance: 7599.130761 USD<br>equity: 7599.130761<br>margin: 0.000000<br>free margin: 7599.130761<br>margin level: inf",
          "balance: 7599.130761 USD<br>equity: 7599.130761<br>margin: 0.000000<br>free margin: 7599.130761<br>margin level: inf",
          "balance: 7599.130761 USD<br>equity: 7599.130761<br>margin: 0.000000<br>free margin: 7599.130761<br>margin level: inf",
          "balance: 7599.130761 USD<br>equity: 7599.130761<br>margin: 0.000000<br>free margin: 7599.130761<br>margin level: inf",
          "balance: 7599.130761 USD<br>equity: 7599.130761<br>margin: 0.000000<br>free margin: 7599.130761<br>margin level: inf",
          "balance: 7599.130761 USD<br>equity: 7599.130761<br>margin: 0.000000<br>free margin: 7599.130761<br>margin level: inf",
          "balance: 7599.130761 USD<br>equity: 7599.130761<br>margin: 0.000000<br>free margin: 7599.130761<br>margin level: inf",
          "balance: 7599.130761 USD<br>equity: 7599.130761<br>margin: 0.000000<br>free margin: 7599.130761<br>margin level: inf",
          "balance: 7599.130761 USD<br>equity: 7599.130761<br>margin: 0.000000<br>free margin: 7599.130761<br>margin level: inf",
          "balance: 7599.130761 USD<br>equity: 7599.130761<br>margin: 0.000000<br>free margin: 7599.130761<br>margin level: inf",
          "balance: 7599.130761 USD<br>equity: 7599.130761<br>margin: 0.000000<br>free margin: 7599.130761<br>margin level: inf",
          "balance: 7599.130761 USD<br>equity: 7599.130761<br>margin: 0.000000<br>free margin: 7599.130761<br>margin level: inf",
          "balance: 7599.130761 USD<br>equity: 7599.130761<br>margin: 0.000000<br>free margin: 7599.130761<br>margin level: inf",
          "balance: 7599.130761 USD<br>equity: 7599.130761<br>margin: 0.000000<br>free margin: 7599.130761<br>margin level: inf",
          "balance: 7599.130761 USD<br>equity: 7322.075980<br>margin: 4355.849600<br>free margin: 2966.226380<br>margin level: 1.680975",
          "balance: 7599.130761 USD<br>equity: 5515.359568<br>margin: 6315.849600<br>free margin: -800.490032<br>margin level: 0.873257",
          "balance: 6331.175980 USD<br>equity: 5003.219146<br>margin: 1960.000000<br>free margin: 3043.219146<br>margin level: 2.552663",
          "balance: 5003.219146 USD<br>equity: 5003.219146<br>margin: -0.000000<br>free margin: 5003.219146<br>margin level: inf",
          "balance: 5003.219146 USD<br>equity: 5003.219146<br>margin: -0.000000<br>free margin: 5003.219146<br>margin level: inf",
          "balance: 5003.219146 USD<br>equity: 5003.219146<br>margin: -0.000000<br>free margin: 5003.219146<br>margin level: inf",
          "balance: 5003.219146 USD<br>equity: 5003.219146<br>margin: -0.000000<br>free margin: 5003.219146<br>margin level: inf",
          "balance: 5003.219146 USD<br>equity: 5003.219146<br>margin: -0.000000<br>free margin: 5003.219146<br>margin level: inf",
          "balance: 5003.219146 USD<br>equity: 5003.219146<br>margin: -0.000000<br>free margin: 5003.219146<br>margin level: inf",
          "balance: 5003.219146 USD<br>equity: 5003.219146<br>margin: -0.000000<br>free margin: 5003.219146<br>margin level: inf",
          "balance: 5003.219146 USD<br>equity: 5003.219146<br>margin: -0.000000<br>free margin: 5003.219146<br>margin level: inf",
          "balance: 5003.219146 USD<br>equity: 5003.219146<br>margin: -0.000000<br>free margin: 5003.219146<br>margin level: inf",
          "balance: 5003.219146 USD<br>equity: 5003.219146<br>margin: -0.000000<br>free margin: 5003.219146<br>margin level: inf",
          "balance: 5003.219146 USD<br>equity: 5003.219146<br>margin: -0.000000<br>free margin: 5003.219146<br>margin level: inf",
          "balance: 5003.219146 USD<br>equity: 5003.219146<br>margin: -0.000000<br>free margin: 5003.219146<br>margin level: inf",
          "balance: 5003.219146 USD<br>equity: 5003.219146<br>margin: -0.000000<br>free margin: 5003.219146<br>margin level: inf",
          "balance: 5003.219146 USD<br>equity: 5003.219146<br>margin: -0.000000<br>free margin: 5003.219146<br>margin level: inf",
          "balance: 5003.219146 USD<br>equity: 5003.219146<br>margin: -0.000000<br>free margin: 5003.219146<br>margin level: inf",
          "balance: 5003.219146 USD<br>equity: 5003.219146<br>margin: -0.000000<br>free margin: 5003.219146<br>margin level: inf",
          "balance: 5003.219146 USD<br>equity: 5003.219146<br>margin: -0.000000<br>free margin: 5003.219146<br>margin level: inf",
          "balance: 5003.219146 USD<br>equity: 5003.219146<br>margin: -0.000000<br>free margin: 5003.219146<br>margin level: inf",
          "balance: 5003.219146 USD<br>equity: 5003.219146<br>margin: -0.000000<br>free margin: 5003.219146<br>margin level: inf",
          "balance: 5003.219146 USD<br>equity: 5003.219146<br>margin: -0.000000<br>free margin: 5003.219146<br>margin level: inf",
          "balance: 5003.219146 USD<br>equity: 5003.219146<br>margin: -0.000000<br>free margin: 5003.219146<br>margin level: inf"
         ],
         "legendgroup": "g1",
         "line": {
          "color": "rgba(0.12156862745098039, 0.4666666666666667, 0.7058823529411765, 1.0)"
         },
         "mode": "lines+markers",
         "name": "GBPCAD",
         "opacity": 1,
         "type": "scatter",
         "x": [
          "2021-05-05T00:00:00+00:00",
          "2021-05-06T00:00:00+00:00",
          "2021-05-07T00:00:00+00:00",
          "2021-05-10T00:00:00+00:00",
          "2021-05-11T00:00:00+00:00",
          "2021-05-12T00:00:00+00:00",
          "2021-05-13T00:00:00+00:00",
          "2021-05-14T00:00:00+00:00",
          "2021-05-17T00:00:00+00:00",
          "2021-05-18T00:00:00+00:00",
          "2021-05-19T00:00:00+00:00",
          "2021-05-20T00:00:00+00:00",
          "2021-05-21T00:00:00+00:00",
          "2021-05-24T00:00:00+00:00",
          "2021-05-25T00:00:00+00:00",
          "2021-05-26T00:00:00+00:00",
          "2021-05-27T00:00:00+00:00",
          "2021-05-28T00:00:00+00:00",
          "2021-05-31T00:00:00+00:00",
          "2021-06-01T00:00:00+00:00",
          "2021-06-02T00:00:00+00:00",
          "2021-06-03T00:00:00+00:00",
          "2021-06-04T00:00:00+00:00",
          "2021-06-07T00:00:00+00:00",
          "2021-06-08T00:00:00+00:00",
          "2021-06-09T00:00:00+00:00",
          "2021-06-10T00:00:00+00:00",
          "2021-06-11T00:00:00+00:00",
          "2021-06-14T00:00:00+00:00",
          "2021-06-15T00:00:00+00:00",
          "2021-06-16T00:00:00+00:00",
          "2021-06-17T00:00:00+00:00",
          "2021-06-18T00:00:00+00:00",
          "2021-06-21T00:00:00+00:00",
          "2021-06-22T00:00:00+00:00",
          "2021-06-23T00:00:00+00:00",
          "2021-06-24T00:00:00+00:00",
          "2021-06-25T00:00:00+00:00",
          "2021-06-28T00:00:00+00:00",
          "2021-06-29T00:00:00+00:00",
          "2021-06-30T00:00:00+00:00",
          "2021-07-01T00:00:00+00:00",
          "2021-07-02T00:00:00+00:00",
          "2021-07-05T00:00:00+00:00",
          "2021-07-06T00:00:00+00:00",
          "2021-07-07T00:00:00+00:00",
          "2021-07-08T00:00:00+00:00",
          "2021-07-09T00:00:00+00:00",
          "2021-07-12T00:00:00+00:00",
          "2021-07-13T00:00:00+00:00",
          "2021-07-14T00:00:00+00:00",
          "2021-07-15T00:00:00+00:00",
          "2021-07-16T00:00:00+00:00",
          "2021-07-19T00:00:00+00:00",
          "2021-07-20T00:00:00+00:00",
          "2021-07-21T00:00:00+00:00",
          "2021-07-22T00:00:00+00:00",
          "2021-07-23T00:00:00+00:00",
          "2021-07-26T00:00:00+00:00",
          "2021-07-27T00:00:00+00:00",
          "2021-07-28T00:00:00+00:00",
          "2021-07-29T00:00:00+00:00",
          "2021-07-30T00:00:00+00:00",
          "2021-08-02T00:00:00+00:00",
          "2021-08-03T00:00:00+00:00",
          "2021-08-04T00:00:00+00:00",
          "2021-08-05T00:00:00+00:00",
          "2021-08-06T00:00:00+00:00",
          "2021-08-09T00:00:00+00:00",
          "2021-08-10T00:00:00+00:00",
          "2021-08-11T00:00:00+00:00",
          "2021-08-12T00:00:00+00:00",
          "2021-08-13T00:00:00+00:00",
          "2021-08-16T00:00:00+00:00",
          "2021-08-17T00:00:00+00:00",
          "2021-08-18T00:00:00+00:00",
          "2021-08-19T00:00:00+00:00",
          "2021-08-20T00:00:00+00:00",
          "2021-08-23T00:00:00+00:00",
          "2021-08-24T00:00:00+00:00",
          "2021-08-25T00:00:00+00:00",
          "2021-08-26T00:00:00+00:00",
          "2021-08-27T00:00:00+00:00",
          "2021-08-30T00:00:00+00:00",
          "2021-08-31T00:00:00+00:00",
          "2021-09-01T00:00:00+00:00",
          "2021-09-02T00:00:00+00:00",
          "2021-09-03T00:00:00+00:00"
         ],
         "y": [
          1.70525,
          1.68648,
          1.69619,
          1.7070699999999999,
          1.71108,
          1.70468,
          1.7082899999999999,
          1.70635,
          1.7059199999999999,
          1.71128,
          1.71211,
          1.7107,
          1.70726,
          1.7044000000000001,
          1.7066,
          1.71089,
          1.71345,
          1.71356,
          1.7132399999999999,
          1.70755,
          1.70462,
          1.7068400000000001,
          1.70999,
          1.71255,
          1.7139199999999999,
          1.70927,
          1.71433,
          1.71691,
          1.71341,
          1.71492,
          1.71638,
          1.71949,
          1.72017,
          1.72173,
          1.7158099999999998,
          1.7177,
          1.7149299999999998,
          1.70721,
          1.71244,
          1.71535,
          1.71437,
          1.71059,
          1.70511,
          1.70716,
          1.71879,
          1.72167,
          1.72692,
          1.7307000000000001,
          1.72832,
          1.72767,
          1.73236,
          1.7407,
          1.73684,
          1.74244,
          1.7273800000000001,
          1.72183,
          1.72851,
          1.72728,
          1.73336,
          1.7481900000000001,
          1.7405300000000001,
          1.73688,
          1.73335,
          1.73577,
          1.7441499999999999,
          1.7412999999999998,
          1.7408299999999999,
          1.7419799999999999,
          1.7408000000000001,
          1.7316500000000001,
          1.73282,
          1.72889,
          1.7357200000000002,
          1.7402199999999999,
          1.7349700000000001,
          1.74061,
          1.74874,
          1.7468,
          1.73506,
          1.72784,
          1.73259,
          1.7377,
          1.7353399999999999,
          1.7338900000000002,
          1.73501,
          1.7372800000000002,
          1.73603,
          1.7362600000000001
         ],
         "yaxis": "y"
        },
        {
         "hovertext": [
          "order id: <br>hold probability: 0.0000<br>hold: False<br>volume: 34.042875<br>modified volume: 34.0400<br>fee: nan<br>margin: nan<br>error: low free margin (order margin=48285.384902313475, order profit=-2079.7329669900546, free margin=10000.0)",
          "order id: <br>hold probability: 0.0000<br>hold: False<br>volume: 23.781219<br>modified volume: 23.7800<br>fee: nan<br>margin: nan<br>error: low free margin (order margin=33562.20544230024, order profit=-1580.2248090086525, free margin=10000.0)",
          "order id: <br>hold probability: 0.0000<br>hold: False<br>volume: 81.868431<br>modified volume: 35.0000<br>fee: nan<br>margin: nan<br>error: low free margin (order margin=49526.81309573146, order profit=-1888.1688154813737, free margin=10000.0)",
          "order id: <br>hold probability: 0.0000<br>hold: False<br>volume: -14.840294<br>modified volume: 14.8400<br>fee: nan<br>margin: nan<br>error: low free margin (order margin=21004.406281400774, order profit=-851.252607001817, free margin=10000.0)",
          "order id: 3<br>hold probability: 0.0000<br>hold: False<br>volume: -0.397014<br>modified volume: 0.4000<br>fee: 0.000611<br>margin: 568.021150<br>error: ",
          "order id: <br>hold probability: 0.0000<br>hold: False<br>volume: -80.652360<br>modified volume: 35.0000<br>fee: nan<br>margin: nan<br>error: low free margin (order margin=49575.602200059635, order profit=-2296.9983147232506, free margin=7038.840944234235)",
          "order id: <br>hold probability: 0.0000<br>hold: False<br>volume: -13.963924<br>modified volume: 13.9600<br>fee: nan<br>margin: nan<br>error: low free margin (order margin=19760.91906936793, order profit=-797.6294494678293, free margin=7038.840944234235)",
          "order id: <br>hold probability: 0.0000<br>hold: False<br>volume: 51.581498<br>modified volume: 35.0000<br>fee: nan<br>margin: nan<br>error: low free margin (order margin=49383.095761588316, order profit=-1977.5365670389308, free margin=6198.642837872994)",
          "order id: <br>hold probability: 0.0000<br>hold: False<br>volume: 33.983701<br>modified volume: 33.9800<br>fee: nan<br>margin: nan<br>error: low free margin (order margin=47510.991234644345, order profit=-1945.3714877396756, free margin=6800.952537872992)",
          "order id: <br>hold probability: 0.0000<br>hold: False<br>volume: -96.328214<br>modified volume: 35.0000<br>fee: nan<br>margin: nan<br>error: low free margin (order margin=48286.44183342022, order profit=-1853.7338924161309, free margin=6800.952537872992)",
          "order id: <br>hold probability: 0.0000<br>hold: False<br>volume: -4.707319<br>modified volume: 4.7100<br>fee: nan<br>margin: nan<br>error: low free margin (order margin=6567.840563691627, order profit=-260.43365810143024, free margin=3701.76411859558)",
          "order id: <br>hold probability: 0.0000<br>hold: False<br>volume: 60.845459<br>modified volume: 35.0000<br>fee: nan<br>margin: nan<br>error: low free margin (order margin=48862.149399783804, order profit=-2104.9942559478022, free margin=8091.764118595579)",
          "order id: <br>hold probability: 0.0000<br>hold: False<br>volume: -60.690084<br>modified volume: 35.0000<br>fee: nan<br>margin: nan<br>error: low free margin (order margin=48581.433237957055, order profit=-1893.893711399731, free margin=8091.764118595579)",
          "order id: <br>hold probability: 0.0000<br>hold: False<br>volume: 60.809007<br>modified volume: 35.0000<br>fee: nan<br>margin: nan<br>error: low free margin (order margin=48415.57530402245, order profit=-1970.332668739343, free margin=8091.764118595579)",
          "order id: <br>hold probability: 0.0000<br>hold: False<br>volume: 76.705025<br>modified volume: 35.0000<br>fee: nan<br>margin: nan<br>error: low free margin (order margin=48401.185770750984, order profit=-1981.639571296708, free margin=8091.764118595579)",
          "order id: <br>hold probability: 0.0000<br>hold: False<br>volume: -37.369150<br>modified volume: 35.0000<br>fee: nan<br>margin: nan<br>error: low free margin (order margin=48144.947931325645, order profit=-1852.2755290160226, free margin=4566.6713975808325)",
          "order id: <br>hold probability: 0.0000<br>hold: False<br>volume: -83.783922<br>modified volume: 35.0000<br>fee: nan<br>margin: nan<br>error: low free margin (order margin=48415.15885684652, order profit=-1783.2928538361596, free margin=7599.130761179905)",
          "order id: <br>hold probability: 0.0000<br>hold: False<br>volume: -50.635680<br>modified volume: 35.0000<br>fee: nan<br>margin: nan<br>error: low free margin (order margin=48583.01676157127, order profit=-1969.663877701374, free margin=7599.130761179905)",
          "order id: <br>hold probability: 0.0000<br>hold: False<br>volume: 71.001426<br>modified volume: 35.0000<br>fee: nan<br>margin: nan<br>error: low free margin (order margin=48378.502854692575, order profit=-2004.00490195945, free margin=7599.130761179905)",
          "order id: <br>hold probability: 0.0000<br>hold: False<br>volume: 50.966978<br>modified volume: 35.0000<br>fee: nan<br>margin: nan<br>error: low free margin (order margin=47681.927520801306, order profit=-1861.4423043325758, free margin=7599.130761179905)",
          "order id: <br>hold probability: 0.0000<br>hold: False<br>volume: 55.990012<br>modified volume: 35.0000<br>fee: nan<br>margin: nan<br>error: low free margin (order margin=47980.931528662426, order profit=-1664.3025189992952, free margin=7599.130761179905)",
          "order id: <br>hold probability: 0.0000<br>hold: False<br>volume: 37.750270<br>modified volume: 35.0000<br>fee: nan<br>margin: nan<br>error: low free margin (order margin=48112.117401754025, order profit=-2030.371561556748, free margin=7599.130761179905)",
          "order id: <br>hold probability: 0.0000<br>hold: False<br>volume: -62.801977<br>modified volume: 35.0000<br>fee: nan<br>margin: nan<br>error: low free margin (order margin=48354.20236719404, order profit=-2108.0974945986136, free margin=7599.130761179905)",
          "order id: <br>hold probability: 0.0001<br>hold: False<br>volume: -71.795437<br>modified volume: 35.0000<br>fee: nan<br>margin: nan<br>error: low free margin (order margin=48640.67165966689, order profit=-1951.6663987535828, free margin=7599.130761179905)",
          "order id: <br>hold probability: 0.0000<br>hold: False<br>volume: 86.457947<br>modified volume: 35.0000<br>fee: nan<br>margin: nan<br>error: low free margin (order margin=48588.34397044004, order profit=-2091.9281602865844, free margin=7599.130761179905)",
          "order id: <br>hold probability: 0.0000<br>hold: False<br>volume: 76.212306<br>modified volume: 35.0000<br>fee: nan<br>margin: nan<br>error: low free margin (order margin=48748.699854383696, order profit=-2002.291010738611, free margin=3043.219145802498)",
          "order id: <br>hold probability: 0.0000<br>hold: False<br>volume: 8.979916<br>modified volume: 8.9800<br>fee: nan<br>margin: nan<br>error: low free margin (order margin=12459.859972759206, order profit=-556.9873046293523, free margin=5003.219145802498)",
          "order id: <br>hold probability: 0.0000<br>hold: False<br>volume: 83.235637<br>modified volume: 35.0000<br>fee: nan<br>margin: nan<br>error: low free margin (order margin=48442.444384371964, order profit=-1919.5454210231374, free margin=5003.219145802498)",
          "order id: <br>hold probability: 0.0004<br>hold: False<br>volume: 25.927485<br>modified volume: 25.9300<br>fee: nan<br>margin: nan<br>error: low free margin (order margin=35866.25702920315, order profit=-1340.329739362045, free margin=5003.219145802498)",
          "order id: <br>hold probability: 0.0000<br>hold: False<br>volume: -73.166051<br>modified volume: 35.0000<br>fee: nan<br>margin: nan<br>error: low free margin (order margin=48512.7503679529, order profit=-2084.1852050091265, free margin=5003.219145802498)",
          "order id: <br>hold probability: 0.0884<br>hold: False<br>volume: 88.786751<br>modified volume: 35.0000<br>fee: nan<br>margin: nan<br>error: low free margin (order margin=48095.130605585386, order profit=-2138.541917147643, free margin=5003.219145802498)",
          "order id: <br>hold probability: 0.0000<br>hold: False<br>volume: 74.102941<br>modified volume: 35.0000<br>fee: nan<br>margin: nan<br>error: low free margin (order margin=48129.49327687276, order profit=-1898.9929406725885, free margin=5003.219145802498)",
          "order id: <br>hold probability: 0.0000<br>hold: False<br>volume: 91.475040<br>modified volume: 35.0000<br>fee: nan<br>margin: nan<br>error: low free margin (order margin=48046.271063900786, order profit=-2118.414447062857, free margin=5003.219145802498)",
          "order id: <br>hold probability: 0.0658<br>hold: False<br>volume: -41.237640<br>modified volume: 35.0000<br>fee: nan<br>margin: nan<br>error: low free margin (order margin=48167.25710109932, order profit=-1585.720632011294, free margin=5003.219145802498)",
          "order id: <br>hold probability: 0.0000<br>hold: False<br>volume: 23.661390<br>modified volume: 23.6600<br>fee: nan<br>margin: nan<br>error: low free margin (order margin=32410.47345767576, order profit=-1336.5833682315802, free margin=5003.219145802498)",
          "order id: <br>hold probability: 0.0000<br>hold: False<br>volume: 8.817199<br>modified volume: 8.8200<br>fee: nan<br>margin: nan<br>error: low free margin (order margin=12133.801698099745, order profit=-437.8094369126401, free margin=5003.219145802498)",
          "order id: <br>hold probability: 0.0000<br>hold: False<br>volume: -68.025428<br>modified volume: 35.0000<br>fee: nan<br>margin: nan<br>error: low free margin (order margin=48137.79736660616, order profit=-1932.6265250344757, free margin=5003.219145802498)",
          "order id: <br>hold probability: 0.0000<br>hold: False<br>volume: -22.950344<br>modified volume: 22.9500<br>fee: nan<br>margin: nan<br>error: low free margin (order margin=31596.921979633087, order profit=-1403.5121421823053, free margin=5003.219145802498)"
         ],
         "legendgroup": "g1",
         "marker": {
          "color": [
           "gray",
           "gray",
           "gray",
           "gray",
           "red",
           "gray",
           "gray",
           "gray",
           "gray",
           "gray",
           "gray",
           "gray",
           "gray",
           "gray",
           "gray",
           "gray",
           "gray",
           "gray",
           "gray",
           "gray",
           "gray",
           "gray",
           "gray",
           "gray",
           "gray",
           "gray",
           "gray",
           "gray",
           "gray",
           "gray",
           "gray",
           "gray",
           "gray",
           "gray",
           "gray",
           "gray",
           "gray",
           "gray"
          ],
          "size": [
           29.396571428571427,
           22.947428571428574,
           30,
           17.328,
           8.251428571428571,
           30,
           16.774857142857144,
           30,
           29.358857142857147,
           30,
           10.960571428571429,
           30,
           30,
           30,
           30,
           30,
           30,
           30,
           30,
           30,
           30,
           30,
           30,
           30,
           30,
           30,
           13.644571428571428,
           30,
           24.298857142857145,
           30,
           30,
           30,
           30,
           30,
           22.872,
           13.544,
           30,
           22.425714285714285
          ],
          "symbol": [
           "triangle-down",
           "triangle-down",
           "triangle-down",
           "triangle-down",
           "triangle-down",
           "triangle-down",
           "triangle-down",
           "triangle-down",
           "triangle-down",
           "triangle-down",
           "triangle-down",
           "triangle-down",
           "triangle-down",
           "triangle-down",
           "triangle-down",
           "triangle-down",
           "triangle-down",
           "triangle-down",
           "triangle-down",
           "triangle-down",
           "triangle-down",
           "triangle-down",
           "triangle-down",
           "triangle-down",
           "triangle-down",
           "triangle-down",
           "triangle-down",
           "triangle-down",
           "triangle-down",
           "triangle-down",
           "triangle-down",
           "triangle-down",
           "triangle-down",
           "triangle-down",
           "triangle-down",
           "triangle-down",
           "triangle-down",
           "triangle-down"
          ]
         },
         "mode": "markers",
         "name": "GBPCAD",
         "showlegend": false,
         "type": "scatter",
         "x": [
          "2021-05-18T00:00:00+00:00",
          "2021-05-19T00:00:00+00:00",
          "2021-05-21T00:00:00+00:00",
          "2021-05-24T00:00:00+00:00",
          "2021-05-27T00:00:00+00:00",
          "2021-06-04T00:00:00+00:00",
          "2021-06-08T00:00:00+00:00",
          "2021-06-14T00:00:00+00:00",
          "2021-06-16T00:00:00+00:00",
          "2021-06-18T00:00:00+00:00",
          "2021-06-22T00:00:00+00:00",
          "2021-06-23T00:00:00+00:00",
          "2021-06-28T00:00:00+00:00",
          "2021-06-29T00:00:00+00:00",
          "2021-06-30T00:00:00+00:00",
          "2021-07-01T00:00:00+00:00",
          "2021-07-05T00:00:00+00:00",
          "2021-07-12T00:00:00+00:00",
          "2021-07-15T00:00:00+00:00",
          "2021-07-20T00:00:00+00:00",
          "2021-07-21T00:00:00+00:00",
          "2021-07-23T00:00:00+00:00",
          "2021-07-26T00:00:00+00:00",
          "2021-07-28T00:00:00+00:00",
          "2021-08-02T00:00:00+00:00",
          "2021-08-05T00:00:00+00:00",
          "2021-08-06T00:00:00+00:00",
          "2021-08-09T00:00:00+00:00",
          "2021-08-10T00:00:00+00:00",
          "2021-08-11T00:00:00+00:00",
          "2021-08-17T00:00:00+00:00",
          "2021-08-18T00:00:00+00:00",
          "2021-08-24T00:00:00+00:00",
          "2021-08-25T00:00:00+00:00",
          "2021-08-26T00:00:00+00:00",
          "2021-08-27T00:00:00+00:00",
          "2021-08-31T00:00:00+00:00",
          "2021-09-01T00:00:00+00:00"
         ],
         "y": [
          1.71128,
          1.71211,
          1.70726,
          1.7044000000000001,
          1.71345,
          1.70999,
          1.7139199999999999,
          1.71341,
          1.71638,
          1.72017,
          1.7158099999999998,
          1.7177,
          1.71244,
          1.71535,
          1.71437,
          1.71059,
          1.70716,
          1.72832,
          1.7407,
          1.7273800000000001,
          1.72183,
          1.72728,
          1.73336,
          1.7405300000000001,
          1.73577,
          1.7408299999999999,
          1.7419799999999999,
          1.7408000000000001,
          1.7316500000000001,
          1.73282,
          1.7349700000000001,
          1.74061,
          1.72784,
          1.73259,
          1.7377,
          1.7353399999999999,
          1.73501,
          1.7372800000000002
         ],
         "yaxis": "y"
        },
        {
         "hovertext": [
          "order id: 3<br>order type: Sell<br>close probability: 1.0000<br>margin: 568.021150<br>profit: 175.280611"
         ],
         "legendgroup": "g1",
         "marker": {
          "color": "black",
          "line": {
           "width": 1.5
          },
          "size": 7,
          "symbol": "line-ns"
         },
         "mode": "markers",
         "name": "GBPCAD",
         "showlegend": false,
         "type": "scatter",
         "x": [
          "2021-06-01T00:00:00+00:00"
         ],
         "y": [
          1.70755
         ],
         "yaxis": "y"
        },
        {
         "hovertext": [
          "balance: 10000.000000 USD<br>equity: 10000.000000<br>margin: 0.000000<br>free margin: 10000.000000<br>margin level: inf",
          "balance: 10000.000000 USD<br>equity: 10000.000000<br>margin: 0.000000<br>free margin: 10000.000000<br>margin level: inf",
          "balance: 10000.000000 USD<br>equity: 10000.000000<br>margin: 0.000000<br>free margin: 10000.000000<br>margin level: inf",
          "balance: 10000.000000 USD<br>equity: 10000.000000<br>margin: 0.000000<br>free margin: 10000.000000<br>margin level: inf",
          "balance: 10000.000000 USD<br>equity: 10000.000000<br>margin: 0.000000<br>free margin: 10000.000000<br>margin level: inf",
          "balance: 10000.000000 USD<br>equity: 10000.000000<br>margin: 0.000000<br>free margin: 10000.000000<br>margin level: inf",
          "balance: 10000.000000 USD<br>equity: 10000.000000<br>margin: 0.000000<br>free margin: 10000.000000<br>margin level: inf",
          "balance: 10000.000000 USD<br>equity: 10000.000000<br>margin: 0.000000<br>free margin: 10000.000000<br>margin level: inf",
          "balance: 10000.000000 USD<br>equity: 10000.000000<br>margin: 0.000000<br>free margin: 10000.000000<br>margin level: inf",
          "balance: 10000.000000 USD<br>equity: 10000.000000<br>margin: 0.000000<br>free margin: 10000.000000<br>margin level: inf",
          "balance: 10000.000000 USD<br>equity: 10000.000000<br>margin: 0.000000<br>free margin: 10000.000000<br>margin level: inf",
          "balance: 10000.000000 USD<br>equity: 10000.000000<br>margin: 0.000000<br>free margin: 10000.000000<br>margin level: inf",
          "balance: 10000.000000 USD<br>equity: 10000.000000<br>margin: 0.000000<br>free margin: 10000.000000<br>margin level: inf",
          "balance: 10000.000000 USD<br>equity: 10000.000000<br>margin: 0.000000<br>free margin: 10000.000000<br>margin level: inf",
          "balance: 10000.000000 USD<br>equity: 9858.006475<br>margin: 3271.010000<br>free margin: 6586.996475<br>margin level: 3.013750",
          "balance: 9948.353367 USD<br>equity: 8744.888488<br>margin: 3100.000000<br>free margin: 5644.888488<br>margin level: 2.820932",
          "balance: 9948.353367 USD<br>equity: 6863.560333<br>margin: 3100.000000<br>free margin: 3763.560333<br>margin level: 2.214052",
          "balance: 6863.560333 USD<br>equity: 6839.674122<br>margin: 568.021150<br>free margin: 6271.652971<br>margin level: 12.041231",
          "balance: 6863.560333 USD<br>equity: 6850.255376<br>margin: 568.021150<br>free margin: 6282.234226<br>margin level: 12.059860",
          "balance: 6863.560333 USD<br>equity: 7038.840944<br>margin: 568.021150<br>free margin: 6470.819794<br>margin level: 12.391864",
          "balance: 7038.840944 USD<br>equity: 7038.840944<br>margin: 0.000000<br>free margin: 7038.840944<br>margin level: inf",
          "balance: 7038.840944 USD<br>equity: 7038.840944<br>margin: 0.000000<br>free margin: 7038.840944<br>margin level: inf",
          "balance: 7038.840944 USD<br>equity: 7038.840944<br>margin: 0.000000<br>free margin: 7038.840944<br>margin level: inf",
          "balance: 7038.840944 USD<br>equity: 7038.840944<br>margin: 0.000000<br>free margin: 7038.840944<br>margin level: inf",
          "balance: 7038.840944 USD<br>equity: 7038.840944<br>margin: 0.000000<br>free margin: 7038.840944<br>margin level: inf",
          "balance: 7038.840944 USD<br>equity: 7038.840944<br>margin: 0.000000<br>free margin: 7038.840944<br>margin level: inf",
          "balance: 7038.840944 USD<br>equity: 7038.840944<br>margin: 0.000000<br>free margin: 7038.840944<br>margin level: inf",
          "balance: 7038.840944 USD<br>equity: 6706.482538<br>margin: 572.229700<br>free margin: 6134.252838<br>margin level: 11.719913",
          "balance: 7038.840944 USD<br>equity: 6770.872538<br>margin: 572.229700<br>free margin: 6198.642838<br>margin level: 11.832438",
          "balance: 7038.840944 USD<br>equity: 6800.952538<br>margin: 572.229700<br>free margin: 6228.722838<br>margin level: 11.885004",
          "balance: 6800.952538 USD<br>equity: 6800.952538<br>margin: 0.000000<br>free margin: 6800.952538<br>margin level: inf",
          "balance: 6800.952538 USD<br>equity: 6800.952538<br>margin: 0.000000<br>free margin: 6800.952538<br>margin level: inf",
          "balance: 6800.952538 USD<br>equity: 6800.952538<br>margin: 0.000000<br>free margin: 6800.952538<br>margin level: inf",
          "balance: 6800.952538 USD<br>equity: 6800.952538<br>margin: 0.000000<br>free margin: 6800.952538<br>margin level: inf",
          "balance: 6800.952538 USD<br>equity: 8091.764119<br>margin: 4390.000000<br>free margin: 3701.764119<br>margin level: 1.843226",
          "balance: 8091.764119 USD<br>equity: 8091.764119<br>margin: 0.000000<br>free margin: 8091.764119<br>margin level: inf",
          "balance: 8091.764119 USD<br>equity: 8091.764119<br>margin: 0.000000<br>free margin: 8091.764119<br>margin level: inf",
          "balance: 8091.764119 USD<br>equity: 8091.764119<br>margin: 0.000000<br>free margin: 8091.764119<br>margin level: inf",
          "balance: 8091.764119 USD<br>equity: 8091.764119<br>margin: 0.000000<br>free margin: 8091.764119<br>margin level: inf",
          "balance: 8091.764119 USD<br>equity: 8091.764119<br>margin: 0.000000<br>free margin: 8091.764119<br>margin level: inf",
          "balance: 8091.764119 USD<br>equity: 8091.764119<br>margin: 0.000000<br>free margin: 8091.764119<br>margin level: inf",
          "balance: 8091.764119 USD<br>equity: 10076.671398<br>margin: 5510.000000<br>free margin: 4566.671398<br>margin level: 1.828797",
          "balance: 8091.764119 USD<br>equity: 7599.130761<br>margin: 5510.000000<br>free margin: 2089.130761<br>margin level: 1.379153",
          "balance: 7599.130761 USD<br>equity: 7599.130761<br>margin: 0.000000<br>free margin: 7599.130761<br>margin level: inf",
          "balance: 7599.130761 USD<br>equity: 7599.130761<br>margin: 0.000000<br>free margin: 7599.130761<br>margin level: inf",
          "balance: 7599.130761 USD<br>equity: 7599.130761<br>margin: 0.000000<br>free margin: 7599.130761<br>margin level: inf",
          "balance: 7599.130761 USD<br>equity: 7599.130761<br>margin: 0.000000<br>free margin: 7599.130761<br>margin level: inf",
          "balance: 7599.130761 USD<br>equity: 7599.130761<br>margin: 0.000000<br>free margin: 7599.130761<br>margin level: inf",
          "balance: 7599.130761 USD<br>equity: 7599.130761<br>margin: 0.000000<br>free margin: 7599.130761<br>margin level: inf",
          "balance: 7599.130761 USD<br>equity: 7599.130761<br>margin: 0.000000<br>free margin: 7599.130761<br>margin level: inf",
          "balance: 7599.130761 USD<br>equity: 7599.130761<br>margin: 0.000000<br>free margin: 7599.130761<br>margin level: inf",
          "balance: 7599.130761 USD<br>equity: 7599.130761<br>margin: 0.000000<br>free margin: 7599.130761<br>margin level: inf",
          "balance: 7599.130761 USD<br>equity: 7599.130761<br>margin: 0.000000<br>free margin: 7599.130761<br>margin level: inf",
          "balance: 7599.130761 USD<br>equity: 7599.130761<br>margin: 0.000000<br>free margin: 7599.130761<br>margin level: inf",
          "balance: 7599.130761 USD<br>equity: 7599.130761<br>margin: 0.000000<br>free margin: 7599.130761<br>margin level: inf",
          "balance: 7599.130761 USD<br>equity: 7599.130761<br>margin: 0.000000<br>free margin: 7599.130761<br>margin level: inf",
          "balance: 7599.130761 USD<br>equity: 7599.130761<br>margin: 0.000000<br>free margin: 7599.130761<br>margin level: inf",
          "balance: 7599.130761 USD<br>equity: 7599.130761<br>margin: 0.000000<br>free margin: 7599.130761<br>margin level: inf",
          "balance: 7599.130761 USD<br>equity: 7599.130761<br>margin: 0.000000<br>free margin: 7599.130761<br>margin level: inf",
          "balance: 7599.130761 USD<br>equity: 7599.130761<br>margin: 0.000000<br>free margin: 7599.130761<br>margin level: inf",
          "balance: 7599.130761 USD<br>equity: 7599.130761<br>margin: 0.000000<br>free margin: 7599.130761<br>margin level: inf",
          "balance: 7599.130761 USD<br>equity: 7599.130761<br>margin: 0.000000<br>free margin: 7599.130761<br>margin level: inf",
          "balance: 7599.130761 USD<br>equity: 7599.130761<br>margin: 0.000000<br>free margin: 7599.130761<br>margin level: inf",
          "balance: 7599.130761 USD<br>equity: 7599.130761<br>margin: 0.000000<br>free margin: 7599.130761<br>margin level: inf",
          "balance: 7599.130761 USD<br>equity: 7322.075980<br>margin: 4355.849600<br>free margin: 2966.226380<br>margin level: 1.680975",
          "balance: 7599.130761 USD<br>equity: 5515.359568<br>margin: 6315.849600<br>free margin: -800.490032<br>margin level: 0.873257",
          "balance: 6331.175980 USD<br>equity: 5003.219146<br>margin: 1960.000000<br>free margin: 3043.219146<br>margin level: 2.552663",
          "balance: 5003.219146 USD<br>equity: 5003.219146<br>margin: -0.000000<br>free margin: 5003.219146<br>margin level: inf",
          "balance: 5003.219146 USD<br>equity: 5003.219146<br>margin: -0.000000<br>free margin: 5003.219146<br>margin level: inf",
          "balance: 5003.219146 USD<br>equity: 5003.219146<br>margin: -0.000000<br>free margin: 5003.219146<br>margin level: inf",
          "balance: 5003.219146 USD<br>equity: 5003.219146<br>margin: -0.000000<br>free margin: 5003.219146<br>margin level: inf",
          "balance: 5003.219146 USD<br>equity: 5003.219146<br>margin: -0.000000<br>free margin: 5003.219146<br>margin level: inf",
          "balance: 5003.219146 USD<br>equity: 5003.219146<br>margin: -0.000000<br>free margin: 5003.219146<br>margin level: inf",
          "balance: 5003.219146 USD<br>equity: 5003.219146<br>margin: -0.000000<br>free margin: 5003.219146<br>margin level: inf",
          "balance: 5003.219146 USD<br>equity: 5003.219146<br>margin: -0.000000<br>free margin: 5003.219146<br>margin level: inf",
          "balance: 5003.219146 USD<br>equity: 5003.219146<br>margin: -0.000000<br>free margin: 5003.219146<br>margin level: inf",
          "balance: 5003.219146 USD<br>equity: 5003.219146<br>margin: -0.000000<br>free margin: 5003.219146<br>margin level: inf",
          "balance: 5003.219146 USD<br>equity: 5003.219146<br>margin: -0.000000<br>free margin: 5003.219146<br>margin level: inf",
          "balance: 5003.219146 USD<br>equity: 5003.219146<br>margin: -0.000000<br>free margin: 5003.219146<br>margin level: inf",
          "balance: 5003.219146 USD<br>equity: 5003.219146<br>margin: -0.000000<br>free margin: 5003.219146<br>margin level: inf",
          "balance: 5003.219146 USD<br>equity: 5003.219146<br>margin: -0.000000<br>free margin: 5003.219146<br>margin level: inf",
          "balance: 5003.219146 USD<br>equity: 5003.219146<br>margin: -0.000000<br>free margin: 5003.219146<br>margin level: inf",
          "balance: 5003.219146 USD<br>equity: 5003.219146<br>margin: -0.000000<br>free margin: 5003.219146<br>margin level: inf",
          "balance: 5003.219146 USD<br>equity: 5003.219146<br>margin: -0.000000<br>free margin: 5003.219146<br>margin level: inf",
          "balance: 5003.219146 USD<br>equity: 5003.219146<br>margin: -0.000000<br>free margin: 5003.219146<br>margin level: inf",
          "balance: 5003.219146 USD<br>equity: 5003.219146<br>margin: -0.000000<br>free margin: 5003.219146<br>margin level: inf",
          "balance: 5003.219146 USD<br>equity: 5003.219146<br>margin: -0.000000<br>free margin: 5003.219146<br>margin level: inf",
          "balance: 5003.219146 USD<br>equity: 5003.219146<br>margin: -0.000000<br>free margin: 5003.219146<br>margin level: inf"
         ],
         "legendgroup": "g2",
         "line": {
          "color": "rgba(0.5643983083429451, 0.36993464052287583, 0.5132641291810843, 1.0)"
         },
         "mode": "lines+markers",
         "name": "EURUSD",
         "opacity": 1,
         "type": "scatter",
         "x": [
          "2021-05-05T00:00:00+00:00",
          "2021-05-06T00:00:00+00:00",
          "2021-05-07T00:00:00+00:00",
          "2021-05-10T00:00:00+00:00",
          "2021-05-11T00:00:00+00:00",
          "2021-05-12T00:00:00+00:00",
          "2021-05-13T00:00:00+00:00",
          "2021-05-14T00:00:00+00:00",
          "2021-05-17T00:00:00+00:00",
          "2021-05-18T00:00:00+00:00",
          "2021-05-19T00:00:00+00:00",
          "2021-05-20T00:00:00+00:00",
          "2021-05-21T00:00:00+00:00",
          "2021-05-24T00:00:00+00:00",
          "2021-05-25T00:00:00+00:00",
          "2021-05-26T00:00:00+00:00",
          "2021-05-27T00:00:00+00:00",
          "2021-05-28T00:00:00+00:00",
          "2021-05-31T00:00:00+00:00",
          "2021-06-01T00:00:00+00:00",
          "2021-06-02T00:00:00+00:00",
          "2021-06-03T00:00:00+00:00",
          "2021-06-04T00:00:00+00:00",
          "2021-06-07T00:00:00+00:00",
          "2021-06-08T00:00:00+00:00",
          "2021-06-09T00:00:00+00:00",
          "2021-06-10T00:00:00+00:00",
          "2021-06-11T00:00:00+00:00",
          "2021-06-14T00:00:00+00:00",
          "2021-06-15T00:00:00+00:00",
          "2021-06-16T00:00:00+00:00",
          "2021-06-17T00:00:00+00:00",
          "2021-06-18T00:00:00+00:00",
          "2021-06-21T00:00:00+00:00",
          "2021-06-22T00:00:00+00:00",
          "2021-06-23T00:00:00+00:00",
          "2021-06-24T00:00:00+00:00",
          "2021-06-25T00:00:00+00:00",
          "2021-06-28T00:00:00+00:00",
          "2021-06-29T00:00:00+00:00",
          "2021-06-30T00:00:00+00:00",
          "2021-07-01T00:00:00+00:00",
          "2021-07-02T00:00:00+00:00",
          "2021-07-05T00:00:00+00:00",
          "2021-07-06T00:00:00+00:00",
          "2021-07-07T00:00:00+00:00",
          "2021-07-08T00:00:00+00:00",
          "2021-07-09T00:00:00+00:00",
          "2021-07-12T00:00:00+00:00",
          "2021-07-13T00:00:00+00:00",
          "2021-07-14T00:00:00+00:00",
          "2021-07-15T00:00:00+00:00",
          "2021-07-16T00:00:00+00:00",
          "2021-07-19T00:00:00+00:00",
          "2021-07-20T00:00:00+00:00",
          "2021-07-21T00:00:00+00:00",
          "2021-07-22T00:00:00+00:00",
          "2021-07-23T00:00:00+00:00",
          "2021-07-26T00:00:00+00:00",
          "2021-07-27T00:00:00+00:00",
          "2021-07-28T00:00:00+00:00",
          "2021-07-29T00:00:00+00:00",
          "2021-07-30T00:00:00+00:00",
          "2021-08-02T00:00:00+00:00",
          "2021-08-03T00:00:00+00:00",
          "2021-08-04T00:00:00+00:00",
          "2021-08-05T00:00:00+00:00",
          "2021-08-06T00:00:00+00:00",
          "2021-08-09T00:00:00+00:00",
          "2021-08-10T00:00:00+00:00",
          "2021-08-11T00:00:00+00:00",
          "2021-08-12T00:00:00+00:00",
          "2021-08-13T00:00:00+00:00",
          "2021-08-16T00:00:00+00:00",
          "2021-08-17T00:00:00+00:00",
          "2021-08-18T00:00:00+00:00",
          "2021-08-19T00:00:00+00:00",
          "2021-08-20T00:00:00+00:00",
          "2021-08-23T00:00:00+00:00",
          "2021-08-24T00:00:00+00:00",
          "2021-08-25T00:00:00+00:00",
          "2021-08-26T00:00:00+00:00",
          "2021-08-27T00:00:00+00:00",
          "2021-08-30T00:00:00+00:00",
          "2021-08-31T00:00:00+00:00",
          "2021-09-01T00:00:00+00:00",
          "2021-09-02T00:00:00+00:00",
          "2021-09-03T00:00:00+00:00"
         ],
         "y": [
          1.20036,
          1.20646,
          1.21618,
          1.21282,
          1.2147000000000001,
          1.20705,
          1.20791,
          1.21441,
          1.21511,
          1.2221899999999999,
          1.21744,
          1.22269,
          1.21806,
          1.2215,
          1.22497,
          1.21922,
          1.21934,
          1.21896,
          1.2225,
          1.22126,
          1.221,
          1.21265,
          1.21662,
          1.21893,
          1.21726,
          1.21787,
          1.21751,
          1.21063,
          1.212,
          1.21264,
          1.19943,
          1.19069,
          1.18597,
          1.19185,
          1.19413,
          1.19258,
          1.19315,
          1.1937,
          1.19242,
          1.1896,
          1.1856,
          1.18497,
          1.18646,
          1.18634,
          1.18231,
          1.17903,
          1.18449,
          1.18774,
          1.18606,
          1.17765,
          1.18358,
          1.18118,
          1.18055,
          1.17987,
          1.17805,
          1.17946,
          1.17707,
          1.17689,
          1.18029,
          1.18165,
          1.18441,
          1.18865,
          1.1873,
          1.18688,
          1.18637,
          1.18367,
          1.18327,
          1.17611,
          1.17362,
          1.17203,
          1.17388,
          1.17296,
          1.17962,
          1.17768,
          1.17081,
          1.17108,
          1.16756,
          1.16996,
          1.1745700000000001,
          1.17555,
          1.17716,
          1.17515,
          1.1795499999999999,
          1.17962,
          1.18083,
          1.18384,
          1.18744,
          1.18772
         ],
         "yaxis": "y2"
        },
        {
         "hovertext": [
          "order id: <br>hold probability: 0.0000<br>hold: False<br>volume: -36.294827<br>modified volume: 36.2900<br>fee: nan<br>margin: nan<br>error: low free margin (order margin=44180.897600000004, order profit=-755.7063622778418, free margin=10000.0)",
          "order id: <br>hold probability: 0.0000<br>hold: False<br>volume: 38.291912<br>modified volume: 38.2900<br>fee: nan<br>margin: nan<br>error: low free margin (order margin=46639.51739999999, order profit=-585.0878241420584, free margin=10000.0)",
          "order id: 1<br>hold probability: 0.0000<br>hold: False<br>volume: -0.142381<br>modified volume: 0.1400<br>fee: 0.000219<br>margin: 171.010000<br>error: ",
          "order id: <br>hold probability: 0.0000<br>hold: False<br>volume: 47.000075<br>modified volume: 47.0000<br>fee: nan<br>margin: nan<br>error: low free margin (order margin=57303.34, order profit=-972.1691972608016, free margin=5644.888487539069)",
          "order id: <br>hold probability: 0.0000<br>hold: False<br>volume: 94.569914<br>modified volume: 94.5700<br>fee: nan<br>margin: nan<br>error: low free margin (order margin=115312.9838, order profit=-1884.272655656726, free margin=3175.27698387886)",
          "order id: <br>hold probability: 0.0000<br>hold: False<br>volume: -17.606238<br>modified volume: 17.6100<br>fee: nan<br>margin: nan<br>error: low free margin (order margin=21506.3886, order profit=-355.59639381725594, free margin=7038.840944234235)",
          "order id: <br>hold probability: 0.0000<br>hold: False<br>volume: -47.075155<br>modified volume: 47.0800<br>fee: nan<br>margin: nan<br>error: low free margin (order margin=57278.4696, order profit=-913.4658407427468, free margin=7038.840944234235)",
          "order id: <br>hold probability: 0.0000<br>hold: False<br>volume: -32.273559<br>modified volume: 32.2700<br>fee: nan<br>margin: nan<br>error: low free margin (order margin=39280.980200000005, order profit=-705.1868110105779, free margin=7038.840944234235)",
          "order id: <br>hold probability: 0.0000<br>hold: False<br>volume: 66.303883<br>modified volume: 66.3000<br>fee: nan<br>margin: nan<br>error: low free margin (order margin=80744.781, order profit=-1122.3621396650747, free margin=7038.840944234235)",
          "order id: 4<br>hold probability: 0.0000<br>hold: False<br>volume: 0.469265<br>modified volume: 0.4700<br>fee: 0.000191<br>margin: 572.229700<br>error: ",
          "order id: <br>hold probability: 0.0000<br>hold: False<br>volume: 62.312577<br>modified volume: 62.3100<br>fee: nan<br>margin: nan<br>error: low free margin (order margin=75559.5984, order profit=-957.0403630924633, free margin=6800.952537872992)",
          "order id: <br>hold probability: 0.0000<br>hold: False<br>volume: 72.072491<br>modified volume: 72.0700<br>fee: nan<br>margin: nan<br>error: low free margin (order margin=85813.02830000002, order profit=-1354.0870962944202, free margin=6800.952537872992)",
          "order id: <br>hold probability: 0.0000<br>hold: False<br>volume: -10.304530<br>modified volume: 10.3000<br>fee: nan<br>margin: nan<br>error: low free margin (order margin=12215.491000000002, order profit=-135.43507000059506, free margin=6800.952537872992)",
          "order id: <br>hold probability: 0.0000<br>hold: False<br>volume: 34.178511<br>modified volume: 34.1800<br>fee: nan<br>margin: nan<br>error: low free margin (order margin=40737.433000000005, order profit=-714.8949903047182, free margin=6800.952537872992)",
          "order id: <br>hold probability: 0.0000<br>hold: False<br>volume: -51.095650<br>modified volume: 51.1000<br>fee: nan<br>margin: nan<br>error: low free margin (order margin=61020.043, order profit=-1130.814058214946, free margin=3701.76411859558)",
          "order id: <br>hold probability: 0.0238<br>hold: False<br>volume: -57.485208<br>modified volume: 57.4900<br>fee: nan<br>margin: nan<br>error: low free margin (order margin=68561.4242, order profit=-1208.5499316076614, free margin=8091.764118595579)",
          "order id: <br>hold probability: 0.0000<br>hold: False<br>volume: -15.339941<br>modified volume: 15.3400<br>fee: nan<br>margin: nan<br>error: low free margin (order margin=18198.455599999998, order profit=-288.01452834653116, free margin=7599.130761179905)",
          "order id: <br>hold probability: 0.0000<br>hold: False<br>volume: 54.718391<br>modified volume: 54.7200<br>fee: nan<br>margin: nan<br>error: low free margin (order margin=64696.00320000001, order profit=-1259.5760398665996, free margin=7599.130761179905)",
          "order id: <br>hold probability: 0.0000<br>hold: False<br>volume: 22.620200<br>modified volume: 22.6200<br>fee: nan<br>margin: nan<br>error: low free margin (order margin=26793.1638, order profit=-422.3322799435806, free margin=7599.130761179905)",
          "order id: <br>hold probability: 0.0000<br>hold: False<br>volume: -98.205632<br>modified volume: 98.2100<br>fee: nan<br>margin: nan<br>error: low free margin (order margin=116239.39180000001, order profit=-2066.090092363596, free margin=7599.130761179905)",
          "order id: <br>hold probability: 0.0000<br>hold: False<br>volume: 34.374054<br>modified volume: 34.3700<br>fee: nan<br>margin: nan<br>error: low free margin (order margin=40597.156599999995, order profit=-563.7600984167273, free margin=7599.130761179905)",
          "order id: <br>hold probability: 0.0000<br>hold: False<br>volume: -14.583204<br>modified volume: 14.5800<br>fee: nan<br>margin: nan<br>error: low free margin (order margin=17212.418999999998, order profit=-286.80375756812174, free margin=7599.130761179905)",
          "order id: <br>hold probability: 0.0000<br>hold: False<br>volume: -98.963328<br>modified volume: 98.9600<br>fee: nan<br>margin: nan<br>error: low free margin (order margin=116759.93519999999, order profit=-2145.6157441076875, free margin=7599.130761179905)",
          "order id: <br>hold probability: 0.0000<br>hold: False<br>volume: -73.092214<br>modified volume: 73.0900<br>fee: nan<br>margin: nan<br>error: low free margin (order margin=86103.67450000001, order profit=-1559.556743653151, free margin=7599.130761179905)",
          "order id: <br>hold probability: 0.0000<br>hold: False<br>volume: -73.874827<br>modified volume: 73.8700<br>fee: nan<br>margin: nan<br>error: low free margin (order margin=86950.1609, order profit=-1653.7861325127312, free margin=7599.130761179905)",
          "order id: <br>hold probability: 0.0000<br>hold: False<br>volume: 60.373871<br>modified volume: 60.3700<br>fee: nan<br>margin: nan<br>error: low free margin (order margin=71048.8493, order profit=-1404.784739947568, free margin=7599.130761179905)",
          "order id: 7<br>hold probability: 0.0000<br>hold: False<br>volume: 3.667723<br>modified volume: 3.6700<br>fee: 0.000245<br>margin: 4355.849600<br>error: ",
          "order id: <br>hold probability: 0.0000<br>hold: False<br>volume: -13.426936<br>modified volume: 13.4300<br>fee: nan<br>margin: nan<br>error: low free margin (order margin=15896.688100000001, order profit=-247.42115509703737, free margin=3555.359567931153)",
          "order id: <br>hold probability: 0.0000<br>hold: False<br>volume: -60.004856<br>modified volume: 60.0000<br>fee: nan<br>margin: nan<br>error: low free margin (order margin=70566.6, order profit=-1117.3468896357842, free margin=5003.219145802498)",
          "order id: <br>hold probability: 0.0000<br>hold: False<br>volume: -9.769995<br>modified volume: 9.7700<br>fee: nan<br>margin: nan<br>error: low free margin (order margin=11466.2674, order profit=-169.55772007936756, free margin=5003.219145802498)",
          "order id: <br>hold probability: 0.0000<br>hold: False<br>volume: 78.113182<br>modified volume: 78.1100<br>fee: nan<br>margin: nan<br>error: low free margin (order margin=91547.2633, order profit=-1495.762952505358, free margin=5003.219145802498)",
          "order id: <br>hold probability: 0.0000<br>hold: False<br>volume: -88.509524<br>modified volume: 88.5100<br>fee: nan<br>margin: nan<br>error: low free margin (order margin=103900.11880000001, order profit=-1432.7700800903976, free margin=5003.219145802498)",
          "order id: <br>hold probability: 0.0000<br>hold: False<br>volume: -75.152811<br>modified volume: 75.1500<br>fee: nan<br>margin: nan<br>error: low free margin (order margin=88147.944, order profit=-1582.8809958250988, free margin=5003.219145802498)",
          "order id: <br>hold probability: 0.0000<br>hold: False<br>volume: 40.101828<br>modified volume: 40.1000<br>fee: nan<br>margin: nan<br>error: low free margin (order margin=46949.481, order profit=-880.5761803743698, free margin=5003.219145802498)",
          "order id: <br>hold probability: 0.0008<br>hold: False<br>volume: 51.691726<br>modified volume: 51.6900<br>fee: nan<br>margin: nan<br>error: low free margin (order margin=60475.2324, order profit=-884.5974901154055, free margin=5003.219145802498)",
          "order id: <br>hold probability: 0.0000<br>hold: False<br>volume: 45.661930<br>modified volume: 45.6600<br>fee: nan<br>margin: nan<br>error: low free margin (order margin=53749.1256, order profit=-943.5525014865881, free margin=5003.219145802498)",
          "order id: <br>hold probability: 0.0000<br>hold: False<br>volume: -70.142813<br>modified volume: 70.1400<br>fee: nan<br>margin: nan<br>error: low free margin (order margin=82425.021, order profit=-1926.1209800992083, free margin=5003.219145802498)",
          "order id: <br>hold probability: 0.0000<br>hold: False<br>volume: 88.201980<br>modified volume: 88.2000<br>fee: nan<br>margin: nan<br>error: low free margin (order margin=104042.48399999998, order profit=-1669.8916141853401, free margin=5003.219145802498)",
          "order id: <br>hold probability: 0.1107<br>hold: False<br>volume: -78.466814<br>modified volume: 78.4700<br>fee: nan<br>margin: nan<br>error: low free margin (order margin=92659.7301, order profit=-1416.4855885943018, free margin=5003.219145802498)"
         ],
         "legendgroup": "g2",
         "marker": {
          "color": [
           "gray",
           "gray",
           "red",
           "gray",
           "gray",
           "gray",
           "gray",
           "gray",
           "gray",
           "green",
           "gray",
           "gray",
           "gray",
           "gray",
           "gray",
           "gray",
           "gray",
           "gray",
           "gray",
           "gray",
           "gray",
           "gray",
           "gray",
           "gray",
           "gray",
           "gray",
           "green",
           "gray",
           "gray",
           "gray",
           "gray",
           "gray",
           "gray",
           "gray",
           "gray",
           "gray",
           "gray",
           "gray",
           "gray"
          ],
          "size": [
           16.067704122877927,
           16.512328213419565,
           8.031123686337914,
           18.448666127728373,
           29.024050121261116,
           11.914915117219078,
           18.466451091350038,
           15.174009700889249,
           22.73928860145513,
           8.104486661277283,
           21.852263540824577,
           24.022029102667744,
           10.28981406628941,
           15.598625707356508,
           19.360145513338722,
           20.78071948261924,
           11.410266774454325,
           20.164915117219078,
           13.028698464025869,
           29.833265966046888,
           15.640864995957962,
           11.241309620048504,
           30,
           24.248787388843976,
           24.422190784155212,
           21.42097817299919,
           8.815885206143896,
           10.985650767987066,
           21.338722716248988,
           10.171988682295877,
           25.364793856103475,
           27.67683912691997,
           24.70675020210186,
           16.91471301535974,
           19.491309620048504,
           18.15076798706548,
           23.592966855295067,
           27.607922392886014,
           25.444826192400967
          ],
          "symbol": [
           "triangle-down",
           "triangle-down",
           "triangle-down",
           "triangle-down",
           "triangle-down",
           "triangle-down",
           "triangle-down",
           "triangle-down",
           "triangle-down",
           "triangle-up",
           "triangle-down",
           "triangle-down",
           "triangle-down",
           "triangle-down",
           "triangle-down",
           "triangle-down",
           "triangle-down",
           "triangle-down",
           "triangle-down",
           "triangle-down",
           "triangle-down",
           "triangle-down",
           "triangle-down",
           "triangle-down",
           "triangle-down",
           "triangle-down",
           "triangle-up",
           "triangle-down",
           "triangle-down",
           "triangle-down",
           "triangle-down",
           "triangle-down",
           "triangle-down",
           "triangle-down",
           "triangle-down",
           "triangle-down",
           "triangle-down",
           "triangle-down",
           "triangle-down"
          ]
         },
         "mode": "markers",
         "name": "EURUSD",
         "showlegend": false,
         "type": "scatter",
         "x": [
          "2021-05-19T00:00:00+00:00",
          "2021-05-21T00:00:00+00:00",
          "2021-05-24T00:00:00+00:00",
          "2021-05-26T00:00:00+00:00",
          "2021-05-27T00:00:00+00:00",
          "2021-06-01T00:00:00+00:00",
          "2021-06-04T00:00:00+00:00",
          "2021-06-08T00:00:00+00:00",
          "2021-06-09T00:00:00+00:00",
          "2021-06-10T00:00:00+00:00",
          "2021-06-15T00:00:00+00:00",
          "2021-06-17T00:00:00+00:00",
          "2021-06-18T00:00:00+00:00",
          "2021-06-21T00:00:00+00:00",
          "2021-06-22T00:00:00+00:00",
          "2021-06-23T00:00:00+00:00",
          "2021-07-05T00:00:00+00:00",
          "2021-07-06T00:00:00+00:00",
          "2021-07-08T00:00:00+00:00",
          "2021-07-14T00:00:00+00:00",
          "2021-07-15T00:00:00+00:00",
          "2021-07-16T00:00:00+00:00",
          "2021-07-19T00:00:00+00:00",
          "2021-07-20T00:00:00+00:00",
          "2021-07-22T00:00:00+00:00",
          "2021-07-23T00:00:00+00:00",
          "2021-08-02T00:00:00+00:00",
          "2021-08-04T00:00:00+00:00",
          "2021-08-06T00:00:00+00:00",
          "2021-08-09T00:00:00+00:00",
          "2021-08-10T00:00:00+00:00",
          "2021-08-11T00:00:00+00:00",
          "2021-08-12T00:00:00+00:00",
          "2021-08-17T00:00:00+00:00",
          "2021-08-20T00:00:00+00:00",
          "2021-08-25T00:00:00+00:00",
          "2021-08-26T00:00:00+00:00",
          "2021-08-30T00:00:00+00:00",
          "2021-08-31T00:00:00+00:00"
         ],
         "y": [
          1.21744,
          1.21806,
          1.2215,
          1.21922,
          1.21934,
          1.22126,
          1.21662,
          1.21726,
          1.21787,
          1.21751,
          1.21264,
          1.19069,
          1.18597,
          1.19185,
          1.19413,
          1.19258,
          1.18634,
          1.18231,
          1.18449,
          1.18358,
          1.18118,
          1.18055,
          1.17987,
          1.17805,
          1.17707,
          1.17689,
          1.18688,
          1.18367,
          1.17611,
          1.17362,
          1.17203,
          1.17388,
          1.17296,
          1.17081,
          1.16996,
          1.17716,
          1.17515,
          1.17962,
          1.18083
         ],
         "yaxis": "y2"
        },
        {
         "hovertext": [
          "order id: 1<br>order type: Sell<br>close probability: 1.0000<br>margin: 171.010000<br>profit: -51.646633",
          "order id: 4<br>order type: Buy<br>close probability: 1.0000<br>margin: 572.229700<br>profit: -237.888406",
          "order id: 7<br>order type: Buy<br>close probability: 1.0000<br>margin: 4355.849600<br>profit: -1267.954781"
         ],
         "legendgroup": "g2",
         "marker": {
          "color": "black",
          "line": {
           "width": 1.5
          },
          "size": 7,
          "symbol": "line-ns"
         },
         "mode": "markers",
         "name": "EURUSD",
         "showlegend": false,
         "type": "scatter",
         "x": [
          "2021-05-25T00:00:00+00:00",
          "2021-06-15T00:00:00+00:00",
          "2021-08-04T00:00:00+00:00"
         ],
         "y": [
          1.22497,
          1.21264,
          1.18367
         ],
         "yaxis": "y2"
        },
        {
         "hovertext": [
          "balance: 10000.000000 USD<br>equity: 10000.000000<br>margin: 0.000000<br>free margin: 10000.000000<br>margin level: inf",
          "balance: 10000.000000 USD<br>equity: 10000.000000<br>margin: 0.000000<br>free margin: 10000.000000<br>margin level: inf",
          "balance: 10000.000000 USD<br>equity: 10000.000000<br>margin: 0.000000<br>free margin: 10000.000000<br>margin level: inf",
          "balance: 10000.000000 USD<br>equity: 10000.000000<br>margin: 0.000000<br>free margin: 10000.000000<br>margin level: inf",
          "balance: 10000.000000 USD<br>equity: 10000.000000<br>margin: 0.000000<br>free margin: 10000.000000<br>margin level: inf",
          "balance: 10000.000000 USD<br>equity: 10000.000000<br>margin: 0.000000<br>free margin: 10000.000000<br>margin level: inf",
          "balance: 10000.000000 USD<br>equity: 10000.000000<br>margin: 0.000000<br>free margin: 10000.000000<br>margin level: inf",
          "balance: 10000.000000 USD<br>equity: 10000.000000<br>margin: 0.000000<br>free margin: 10000.000000<br>margin level: inf",
          "balance: 10000.000000 USD<br>equity: 10000.000000<br>margin: 0.000000<br>free margin: 10000.000000<br>margin level: inf",
          "balance: 10000.000000 USD<br>equity: 10000.000000<br>margin: 0.000000<br>free margin: 10000.000000<br>margin level: inf",
          "balance: 10000.000000 USD<br>equity: 10000.000000<br>margin: 0.000000<br>free margin: 10000.000000<br>margin level: inf",
          "balance: 10000.000000 USD<br>equity: 10000.000000<br>margin: 0.000000<br>free margin: 10000.000000<br>margin level: inf",
          "balance: 10000.000000 USD<br>equity: 10000.000000<br>margin: 0.000000<br>free margin: 10000.000000<br>margin level: inf",
          "balance: 10000.000000 USD<br>equity: 10000.000000<br>margin: 0.000000<br>free margin: 10000.000000<br>margin level: inf",
          "balance: 10000.000000 USD<br>equity: 9858.006475<br>margin: 3271.010000<br>free margin: 6586.996475<br>margin level: 3.013750",
          "balance: 9948.353367 USD<br>equity: 8744.888488<br>margin: 3100.000000<br>free margin: 5644.888488<br>margin level: 2.820932",
          "balance: 9948.353367 USD<br>equity: 6863.560333<br>margin: 3100.000000<br>free margin: 3763.560333<br>margin level: 2.214052",
          "balance: 6863.560333 USD<br>equity: 6839.674122<br>margin: 568.021150<br>free margin: 6271.652971<br>margin level: 12.041231",
          "balance: 6863.560333 USD<br>equity: 6850.255376<br>margin: 568.021150<br>free margin: 6282.234226<br>margin level: 12.059860",
          "balance: 6863.560333 USD<br>equity: 7038.840944<br>margin: 568.021150<br>free margin: 6470.819794<br>margin level: 12.391864",
          "balance: 7038.840944 USD<br>equity: 7038.840944<br>margin: 0.000000<br>free margin: 7038.840944<br>margin level: inf",
          "balance: 7038.840944 USD<br>equity: 7038.840944<br>margin: 0.000000<br>free margin: 7038.840944<br>margin level: inf",
          "balance: 7038.840944 USD<br>equity: 7038.840944<br>margin: 0.000000<br>free margin: 7038.840944<br>margin level: inf",
          "balance: 7038.840944 USD<br>equity: 7038.840944<br>margin: 0.000000<br>free margin: 7038.840944<br>margin level: inf",
          "balance: 7038.840944 USD<br>equity: 7038.840944<br>margin: 0.000000<br>free margin: 7038.840944<br>margin level: inf",
          "balance: 7038.840944 USD<br>equity: 7038.840944<br>margin: 0.000000<br>free margin: 7038.840944<br>margin level: inf",
          "balance: 7038.840944 USD<br>equity: 7038.840944<br>margin: 0.000000<br>free margin: 7038.840944<br>margin level: inf",
          "balance: 7038.840944 USD<br>equity: 6706.482538<br>margin: 572.229700<br>free margin: 6134.252838<br>margin level: 11.719913",
          "balance: 7038.840944 USD<br>equity: 6770.872538<br>margin: 572.229700<br>free margin: 6198.642838<br>margin level: 11.832438",
          "balance: 7038.840944 USD<br>equity: 6800.952538<br>margin: 572.229700<br>free margin: 6228.722838<br>margin level: 11.885004",
          "balance: 6800.952538 USD<br>equity: 6800.952538<br>margin: 0.000000<br>free margin: 6800.952538<br>margin level: inf",
          "balance: 6800.952538 USD<br>equity: 6800.952538<br>margin: 0.000000<br>free margin: 6800.952538<br>margin level: inf",
          "balance: 6800.952538 USD<br>equity: 6800.952538<br>margin: 0.000000<br>free margin: 6800.952538<br>margin level: inf",
          "balance: 6800.952538 USD<br>equity: 6800.952538<br>margin: 0.000000<br>free margin: 6800.952538<br>margin level: inf",
          "balance: 6800.952538 USD<br>equity: 8091.764119<br>margin: 4390.000000<br>free margin: 3701.764119<br>margin level: 1.843226",
          "balance: 8091.764119 USD<br>equity: 8091.764119<br>margin: 0.000000<br>free margin: 8091.764119<br>margin level: inf",
          "balance: 8091.764119 USD<br>equity: 8091.764119<br>margin: 0.000000<br>free margin: 8091.764119<br>margin level: inf",
          "balance: 8091.764119 USD<br>equity: 8091.764119<br>margin: 0.000000<br>free margin: 8091.764119<br>margin level: inf",
          "balance: 8091.764119 USD<br>equity: 8091.764119<br>margin: 0.000000<br>free margin: 8091.764119<br>margin level: inf",
          "balance: 8091.764119 USD<br>equity: 8091.764119<br>margin: 0.000000<br>free margin: 8091.764119<br>margin level: inf",
          "balance: 8091.764119 USD<br>equity: 8091.764119<br>margin: 0.000000<br>free margin: 8091.764119<br>margin level: inf",
          "balance: 8091.764119 USD<br>equity: 10076.671398<br>margin: 5510.000000<br>free margin: 4566.671398<br>margin level: 1.828797",
          "balance: 8091.764119 USD<br>equity: 7599.130761<br>margin: 5510.000000<br>free margin: 2089.130761<br>margin level: 1.379153",
          "balance: 7599.130761 USD<br>equity: 7599.130761<br>margin: 0.000000<br>free margin: 7599.130761<br>margin level: inf",
          "balance: 7599.130761 USD<br>equity: 7599.130761<br>margin: 0.000000<br>free margin: 7599.130761<br>margin level: inf",
          "balance: 7599.130761 USD<br>equity: 7599.130761<br>margin: 0.000000<br>free margin: 7599.130761<br>margin level: inf",
          "balance: 7599.130761 USD<br>equity: 7599.130761<br>margin: 0.000000<br>free margin: 7599.130761<br>margin level: inf",
          "balance: 7599.130761 USD<br>equity: 7599.130761<br>margin: 0.000000<br>free margin: 7599.130761<br>margin level: inf",
          "balance: 7599.130761 USD<br>equity: 7599.130761<br>margin: 0.000000<br>free margin: 7599.130761<br>margin level: inf",
          "balance: 7599.130761 USD<br>equity: 7599.130761<br>margin: 0.000000<br>free margin: 7599.130761<br>margin level: inf",
          "balance: 7599.130761 USD<br>equity: 7599.130761<br>margin: 0.000000<br>free margin: 7599.130761<br>margin level: inf",
          "balance: 7599.130761 USD<br>equity: 7599.130761<br>margin: 0.000000<br>free margin: 7599.130761<br>margin level: inf",
          "balance: 7599.130761 USD<br>equity: 7599.130761<br>margin: 0.000000<br>free margin: 7599.130761<br>margin level: inf",
          "balance: 7599.130761 USD<br>equity: 7599.130761<br>margin: 0.000000<br>free margin: 7599.130761<br>margin level: inf",
          "balance: 7599.130761 USD<br>equity: 7599.130761<br>margin: 0.000000<br>free margin: 7599.130761<br>margin level: inf",
          "balance: 7599.130761 USD<br>equity: 7599.130761<br>margin: 0.000000<br>free margin: 7599.130761<br>margin level: inf",
          "balance: 7599.130761 USD<br>equity: 7599.130761<br>margin: 0.000000<br>free margin: 7599.130761<br>margin level: inf",
          "balance: 7599.130761 USD<br>equity: 7599.130761<br>margin: 0.000000<br>free margin: 7599.130761<br>margin level: inf",
          "balance: 7599.130761 USD<br>equity: 7599.130761<br>margin: 0.000000<br>free margin: 7599.130761<br>margin level: inf",
          "balance: 7599.130761 USD<br>equity: 7599.130761<br>margin: 0.000000<br>free margin: 7599.130761<br>margin level: inf",
          "balance: 7599.130761 USD<br>equity: 7599.130761<br>margin: 0.000000<br>free margin: 7599.130761<br>margin level: inf",
          "balance: 7599.130761 USD<br>equity: 7599.130761<br>margin: 0.000000<br>free margin: 7599.130761<br>margin level: inf",
          "balance: 7599.130761 USD<br>equity: 7599.130761<br>margin: 0.000000<br>free margin: 7599.130761<br>margin level: inf",
          "balance: 7599.130761 USD<br>equity: 7599.130761<br>margin: 0.000000<br>free margin: 7599.130761<br>margin level: inf",
          "balance: 7599.130761 USD<br>equity: 7322.075980<br>margin: 4355.849600<br>free margin: 2966.226380<br>margin level: 1.680975",
          "balance: 7599.130761 USD<br>equity: 5515.359568<br>margin: 6315.849600<br>free margin: -800.490032<br>margin level: 0.873257",
          "balance: 6331.175980 USD<br>equity: 5003.219146<br>margin: 1960.000000<br>free margin: 3043.219146<br>margin level: 2.552663",
          "balance: 5003.219146 USD<br>equity: 5003.219146<br>margin: -0.000000<br>free margin: 5003.219146<br>margin level: inf",
          "balance: 5003.219146 USD<br>equity: 5003.219146<br>margin: -0.000000<br>free margin: 5003.219146<br>margin level: inf",
          "balance: 5003.219146 USD<br>equity: 5003.219146<br>margin: -0.000000<br>free margin: 5003.219146<br>margin level: inf",
          "balance: 5003.219146 USD<br>equity: 5003.219146<br>margin: -0.000000<br>free margin: 5003.219146<br>margin level: inf",
          "balance: 5003.219146 USD<br>equity: 5003.219146<br>margin: -0.000000<br>free margin: 5003.219146<br>margin level: inf",
          "balance: 5003.219146 USD<br>equity: 5003.219146<br>margin: -0.000000<br>free margin: 5003.219146<br>margin level: inf",
          "balance: 5003.219146 USD<br>equity: 5003.219146<br>margin: -0.000000<br>free margin: 5003.219146<br>margin level: inf",
          "balance: 5003.219146 USD<br>equity: 5003.219146<br>margin: -0.000000<br>free margin: 5003.219146<br>margin level: inf",
          "balance: 5003.219146 USD<br>equity: 5003.219146<br>margin: -0.000000<br>free margin: 5003.219146<br>margin level: inf",
          "balance: 5003.219146 USD<br>equity: 5003.219146<br>margin: -0.000000<br>free margin: 5003.219146<br>margin level: inf",
          "balance: 5003.219146 USD<br>equity: 5003.219146<br>margin: -0.000000<br>free margin: 5003.219146<br>margin level: inf",
          "balance: 5003.219146 USD<br>equity: 5003.219146<br>margin: -0.000000<br>free margin: 5003.219146<br>margin level: inf",
          "balance: 5003.219146 USD<br>equity: 5003.219146<br>margin: -0.000000<br>free margin: 5003.219146<br>margin level: inf",
          "balance: 5003.219146 USD<br>equity: 5003.219146<br>margin: -0.000000<br>free margin: 5003.219146<br>margin level: inf",
          "balance: 5003.219146 USD<br>equity: 5003.219146<br>margin: -0.000000<br>free margin: 5003.219146<br>margin level: inf",
          "balance: 5003.219146 USD<br>equity: 5003.219146<br>margin: -0.000000<br>free margin: 5003.219146<br>margin level: inf",
          "balance: 5003.219146 USD<br>equity: 5003.219146<br>margin: -0.000000<br>free margin: 5003.219146<br>margin level: inf",
          "balance: 5003.219146 USD<br>equity: 5003.219146<br>margin: -0.000000<br>free margin: 5003.219146<br>margin level: inf",
          "balance: 5003.219146 USD<br>equity: 5003.219146<br>margin: -0.000000<br>free margin: 5003.219146<br>margin level: inf",
          "balance: 5003.219146 USD<br>equity: 5003.219146<br>margin: -0.000000<br>free margin: 5003.219146<br>margin level: inf",
          "balance: 5003.219146 USD<br>equity: 5003.219146<br>margin: -0.000000<br>free margin: 5003.219146<br>margin level: inf"
         ],
         "legendgroup": "g3",
         "line": {
          "color": "rgba(0.7372549019607844, 0.7411764705882353, 0.13333333333333333, 1.0)"
         },
         "mode": "lines+markers",
         "name": "USDJPY",
         "opacity": 1,
         "type": "scatter",
         "x": [
          "2021-05-05T00:00:00+00:00",
          "2021-05-06T00:00:00+00:00",
          "2021-05-07T00:00:00+00:00",
          "2021-05-10T00:00:00+00:00",
          "2021-05-11T00:00:00+00:00",
          "2021-05-12T00:00:00+00:00",
          "2021-05-13T00:00:00+00:00",
          "2021-05-14T00:00:00+00:00",
          "2021-05-17T00:00:00+00:00",
          "2021-05-18T00:00:00+00:00",
          "2021-05-19T00:00:00+00:00",
          "2021-05-20T00:00:00+00:00",
          "2021-05-21T00:00:00+00:00",
          "2021-05-24T00:00:00+00:00",
          "2021-05-25T00:00:00+00:00",
          "2021-05-26T00:00:00+00:00",
          "2021-05-27T00:00:00+00:00",
          "2021-05-28T00:00:00+00:00",
          "2021-05-31T00:00:00+00:00",
          "2021-06-01T00:00:00+00:00",
          "2021-06-02T00:00:00+00:00",
          "2021-06-03T00:00:00+00:00",
          "2021-06-04T00:00:00+00:00",
          "2021-06-07T00:00:00+00:00",
          "2021-06-08T00:00:00+00:00",
          "2021-06-09T00:00:00+00:00",
          "2021-06-10T00:00:00+00:00",
          "2021-06-11T00:00:00+00:00",
          "2021-06-14T00:00:00+00:00",
          "2021-06-15T00:00:00+00:00",
          "2021-06-16T00:00:00+00:00",
          "2021-06-17T00:00:00+00:00",
          "2021-06-18T00:00:00+00:00",
          "2021-06-21T00:00:00+00:00",
          "2021-06-22T00:00:00+00:00",
          "2021-06-23T00:00:00+00:00",
          "2021-06-24T00:00:00+00:00",
          "2021-06-25T00:00:00+00:00",
          "2021-06-28T00:00:00+00:00",
          "2021-06-29T00:00:00+00:00",
          "2021-06-30T00:00:00+00:00",
          "2021-07-01T00:00:00+00:00",
          "2021-07-02T00:00:00+00:00",
          "2021-07-05T00:00:00+00:00",
          "2021-07-06T00:00:00+00:00",
          "2021-07-07T00:00:00+00:00",
          "2021-07-08T00:00:00+00:00",
          "2021-07-09T00:00:00+00:00",
          "2021-07-12T00:00:00+00:00",
          "2021-07-13T00:00:00+00:00",
          "2021-07-14T00:00:00+00:00",
          "2021-07-15T00:00:00+00:00",
          "2021-07-16T00:00:00+00:00",
          "2021-07-19T00:00:00+00:00",
          "2021-07-20T00:00:00+00:00",
          "2021-07-21T00:00:00+00:00",
          "2021-07-22T00:00:00+00:00",
          "2021-07-23T00:00:00+00:00",
          "2021-07-26T00:00:00+00:00",
          "2021-07-27T00:00:00+00:00",
          "2021-07-28T00:00:00+00:00",
          "2021-07-29T00:00:00+00:00",
          "2021-07-30T00:00:00+00:00",
          "2021-08-02T00:00:00+00:00",
          "2021-08-03T00:00:00+00:00",
          "2021-08-04T00:00:00+00:00",
          "2021-08-05T00:00:00+00:00",
          "2021-08-06T00:00:00+00:00",
          "2021-08-09T00:00:00+00:00",
          "2021-08-10T00:00:00+00:00",
          "2021-08-11T00:00:00+00:00",
          "2021-08-12T00:00:00+00:00",
          "2021-08-13T00:00:00+00:00",
          "2021-08-16T00:00:00+00:00",
          "2021-08-17T00:00:00+00:00",
          "2021-08-18T00:00:00+00:00",
          "2021-08-19T00:00:00+00:00",
          "2021-08-20T00:00:00+00:00",
          "2021-08-23T00:00:00+00:00",
          "2021-08-24T00:00:00+00:00",
          "2021-08-25T00:00:00+00:00",
          "2021-08-26T00:00:00+00:00",
          "2021-08-27T00:00:00+00:00",
          "2021-08-30T00:00:00+00:00",
          "2021-08-31T00:00:00+00:00",
          "2021-09-01T00:00:00+00:00",
          "2021-09-02T00:00:00+00:00",
          "2021-09-03T00:00:00+00:00"
         ],
         "y": [
          109.188,
          109.09,
          108.604,
          108.81,
          108.615,
          109.699,
          109.453,
          109.362,
          109.209,
          108.888,
          109.227,
          108.767,
          108.945,
          108.74,
          108.747,
          109.139,
          109.808,
          109.872,
          109.556,
          109.467,
          109.547,
          110.276,
          109.524,
          109.238,
          109.492,
          109.618,
          109.319,
          109.682,
          110.071,
          110.056,
          110.708,
          110.221,
          110.211,
          110.314,
          110.658,
          110.949,
          110.874,
          110.778,
          110.614,
          110.538,
          111.101,
          111.521,
          111.02,
          110.962,
          110.61,
          110.608,
          109.748,
          110.102,
          110.349,
          110.627,
          109.95,
          109.831,
          110.081,
          109.447,
          109.843,
          110.286,
          110.149,
          110.547,
          110.381,
          109.774,
          109.909,
          109.47,
          109.656,
          109.305,
          109.042,
          109.473,
          109.761,
          110.217,
          110.267,
          110.56,
          110.428,
          110.386,
          109.592,
          109.243,
          109.595,
          109.763,
          109.763,
          109.799,
          109.694,
          109.679,
          110.023,
          110.081,
          109.85,
          109.913,
          110.007,
          110.025,
          109.937,
          109.712
         ],
         "yaxis": "y3"
        },
        {
         "hovertext": [
          "order id: <br>hold probability: 0.0000<br>hold: False<br>volume: 72.107736<br>modified volume: 72.1100<br>fee: nan<br>margin: nan<br>error: low free margin (order margin=72109.99999999999, order profit=-1313.2442147072134, free margin=10000.0)",
          "order id: <br>hold probability: 0.0000<br>hold: False<br>volume: -58.249212<br>modified volume: 58.2500<br>fee: nan<br>margin: nan<br>error: low free margin (order margin=58250.00000000001, order profit=-1183.990600825703, free margin=10000.0)",
          "order id: 2<br>hold probability: 0.0000<br>hold: False<br>volume: -3.097283<br>modified volume: 3.1000<br>fee: 0.024693<br>margin: 3100.000000<br>error: ",
          "order id: <br>hold probability: 0.0000<br>hold: False<br>volume: 82.437402<br>modified volume: 82.4400<br>fee: nan<br>margin: nan<br>error: low free margin (order margin=82440.0, order profit=-1206.068123133689, free margin=5644.888487539069)",
          "order id: <br>hold probability: 0.0000<br>hold: False<br>volume: 90.551424<br>modified volume: 90.5500<br>fee: nan<br>margin: nan<br>error: low free margin (order margin=90550.0, order profit=-1676.1064851446822, free margin=7038.840944234235)",
          "order id: <br>hold probability: 0.0000<br>hold: False<br>volume: 25.275148<br>modified volume: 25.2800<br>fee: nan<br>margin: nan<br>error: low free margin (order margin=25280.0, order profit=-652.6631253227133, free margin=7038.840944234235)",
          "order id: <br>hold probability: 0.0000<br>hold: False<br>volume: 58.322011<br>modified volume: 58.3200<br>fee: nan<br>margin: nan<br>error: low free margin (order margin=58320.0, order profit=-1110.0330323373703, free margin=7038.840944234235)",
          "order id: <br>hold probability: 0.0000<br>hold: False<br>volume: 71.526030<br>modified volume: 71.5300<br>fee: nan<br>margin: nan<br>error: low free margin (order margin=71530.0, order profit=-1256.825099775554, free margin=7038.840944234235)",
          "order id: <br>hold probability: 0.0000<br>hold: False<br>volume: 47.232101<br>modified volume: 47.2300<br>fee: nan<br>margin: nan<br>error: low free margin (order margin=47230.0, order profit=-900.3820972368626, free margin=6800.952537872992)",
          "order id: <br>hold probability: 0.0000<br>hold: False<br>volume: -65.619720<br>modified volume: 65.6200<br>fee: nan<br>margin: nan<br>error: low free margin (order margin=65619.99999999999, order profit=-1073.6755191714215, free margin=6800.952537872992)",
          "order id: <br>hold probability: 0.0000<br>hold: False<br>volume: -27.919948<br>modified volume: 27.9200<br>fee: nan<br>margin: nan<br>error: low free margin (order margin=27920.0, order profit=-547.2912809332764, free margin=6800.952537872992)",
          "order id: 5<br>hold probability: 0.0001<br>hold: False<br>volume: 4.394230<br>modified volume: 4.3900<br>fee: 0.018627<br>margin: 4390.000000<br>error: ",
          "order id: <br>hold probability: 0.0002<br>hold: False<br>volume: 25.912352<br>modified volume: 25.9100<br>fee: nan<br>margin: nan<br>error: low free margin (order margin=25910.0, order profit=-562.5329631875098, free margin=8091.764118595579)",
          "order id: <br>hold probability: 0.0000<br>hold: False<br>volume: -84.117978<br>modified volume: 84.1200<br>fee: nan<br>margin: nan<br>error: low free margin (order margin=84120.00000000001, order profit=-1644.808045570863, free margin=8091.764118595579)",
          "order id: <br>hold probability: 0.0000<br>hold: False<br>volume: 15.566713<br>modified volume: 15.5700<br>fee: nan<br>margin: nan<br>error: low free margin (order margin=15570.0, order profit=-292.8092360171947, free margin=8091.764118595579)",
          "order id: <br>hold probability: 0.0000<br>hold: False<br>volume: 42.922131<br>modified volume: 42.9200<br>fee: nan<br>margin: nan<br>error: low free margin (order margin=42919.99999999999, order profit=-762.3976802948642, free margin=8091.764118595579)",
          "order id: <br>hold probability: 0.0000<br>hold: False<br>volume: 22.358782<br>modified volume: 22.3600<br>fee: nan<br>margin: nan<br>error: low free margin (order margin=22360.000000000004, order profit=-414.24124464715226, free margin=8091.764118595579)",
          "order id: 6<br>hold probability: 0.0000<br>hold: False<br>volume: 5.509511<br>modified volume: 5.5100<br>fee: 0.018260<br>margin: 5510.000000<br>error: ",
          "order id: <br>hold probability: 0.0000<br>hold: False<br>volume: 91.735249<br>modified volume: 91.7400<br>fee: nan<br>margin: nan<br>error: low free margin (order margin=91740.0, order profit=-1482.3905229191676, free margin=7599.130761179905)",
          "order id: <br>hold probability: 0.0000<br>hold: False<br>volume: 85.926916<br>modified volume: 85.9300<br>fee: nan<br>margin: nan<br>error: low free margin (order margin=85930.0, order profit=-1611.612999281941, free margin=7599.130761179905)",
          "order id: <br>hold probability: 0.0000<br>hold: False<br>volume: 85.587688<br>modified volume: 85.5900<br>fee: nan<br>margin: nan<br>error: low free margin (order margin=85590.0, order profit=-1534.848596438667, free margin=7599.130761179905)",
          "order id: <br>hold probability: 0.0000<br>hold: False<br>volume: -55.954619<br>modified volume: 55.9500<br>fee: nan<br>margin: nan<br>error: low free margin (order margin=55950.0, order profit=-912.8361516846326, free margin=7599.130761179905)",
          "order id: <br>hold probability: 0.0000<br>hold: False<br>volume: 83.376966<br>modified volume: 83.3800<br>fee: nan<br>margin: nan<br>error: low free margin (order margin=83379.99999999999, order profit=-1371.709784149479, free margin=7599.130761179905)",
          "order id: <br>hold probability: 0.0000<br>hold: False<br>volume: 29.146434<br>modified volume: 29.1500<br>fee: nan<br>margin: nan<br>error: low free margin (order margin=29150.0, order profit=-568.2434813439853, free margin=7599.130761179905)",
          "order id: <br>hold probability: 0.0000<br>hold: False<br>volume: 18.007708<br>modified volume: 18.0100<br>fee: nan<br>margin: nan<br>error: low free margin (order margin=18010.0, order profit=-406.20735355791214, free margin=7599.130761179905)",
          "order id: <br>hold probability: 0.0000<br>hold: False<br>volume: 9.589764<br>modified volume: 9.5900<br>fee: nan<br>margin: nan<br>error: low free margin (order margin=9590.0, order profit=-173.3707302526949, free margin=7599.130761179905)",
          "order id: <br>hold probability: 0.0000<br>hold: False<br>volume: 48.061431<br>modified volume: 48.0600<br>fee: nan<br>margin: nan<br>error: low free margin (order margin=48060.00000000001, order profit=-942.7415483018286, free margin=3153.396380209075)",
          "order id: 8<br>hold probability: 0.0000<br>hold: False<br>volume: -1.963526<br>modified volume: 1.9600<br>fee: 0.024663<br>margin: 1960.000000<br>error: ",
          "order id: <br>hold probability: 0.0000<br>hold: False<br>volume: 73.671220<br>modified volume: 73.6700<br>fee: nan<br>margin: nan<br>error: low free margin (order margin=73670.0, order profit=-1592.871874893334, free margin=3555.359567931153)",
          "order id: <br>hold probability: 0.0000<br>hold: False<br>volume: 84.673011<br>modified volume: 84.6700<br>fee: nan<br>margin: nan<br>error: low free margin (order margin=84670.0, order profit=-1332.5588360328172, free margin=5003.219145802498)",
          "order id: <br>hold probability: 0.0000<br>hold: False<br>volume: -88.119359<br>modified volume: 88.1200<br>fee: nan<br>margin: nan<br>error: low free margin (order margin=88119.99999999999, order profit=-1866.9086839960564, free margin=5003.219145802498)",
          "order id: <br>hold probability: 0.0004<br>hold: False<br>volume: 75.527495<br>modified volume: 75.5300<br>fee: nan<br>margin: nan<br>error: low free margin (order margin=75530.0, order profit=-1318.612285391254, free margin=5003.219145802498)",
          "order id: <br>hold probability: 0.0000<br>hold: False<br>volume: 59.959861<br>modified volume: 59.9600<br>fee: nan<br>margin: nan<br>error: low free margin (order margin=59960.0, order profit=-1294.1474320538011, free margin=5003.219145802498)",
          "order id: <br>hold probability: 0.0000<br>hold: False<br>volume: -38.044990<br>modified volume: 38.0400<br>fee: nan<br>margin: nan<br>error: low free margin (order margin=38040.0, order profit=-592.8052616444986, free margin=5003.219145802498)",
          "order id: <br>hold probability: 0.0000<br>hold: False<br>volume: -71.609496<br>modified volume: 71.6100<br>fee: nan<br>margin: nan<br>error: low free margin (order margin=71610.0, order profit=-607.6361175278138, free margin=5003.219145802498)",
          "order id: <br>hold probability: 0.0000<br>hold: False<br>volume: -44.225882<br>modified volume: 44.2300<br>fee: nan<br>margin: nan<br>error: low free margin (order margin=44230.0, order profit=-839.6225831229631, free margin=5003.219145802498)"
         ],
         "legendgroup": "g3",
         "marker": {
          "color": [
           "gray",
           "gray",
           "red",
           "gray",
           "gray",
           "gray",
           "gray",
           "gray",
           "gray",
           "gray",
           "gray",
           "green",
           "gray",
           "gray",
           "gray",
           "gray",
           "gray",
           "green",
           "gray",
           "gray",
           "gray",
           "gray",
           "gray",
           "gray",
           "gray",
           "gray",
           "gray",
           "red",
           "gray",
           "gray",
           "gray",
           "gray",
           "gray",
           "gray",
           "gray",
           "gray"
          ],
          "size": [
           24.358218189317384,
           21.214064755619717,
           8.70323778098577,
           26.701587956279642,
           28.541348731697255,
           13.73479067849041,
           21.229944318416166,
           24.226644669003917,
           18.71416786966385,
           22.88595586718911,
           14.333677046813776,
           8.995875438234687,
           13.877706743658486,
           27.082697463394513,
           11.532068467725304,
           17.736440503196533,
           13.072386058981234,
           9.249948442977933,
           28.811301299236955,
           27.49329758713137,
           27.416168282120026,
           20.692307692307693,
           26.914827799546295,
           14.612703650237162,
           12.085584656630234,
           10.175500103114043,
           18.90245411425036,
           8.44462775830068,
           24.712105588781192,
           27.207465456795216,
           27.99010105176325,
           25.134048257372655,
           21.60197978964735,
           16.629408125386675,
           24.24479274077129,
           18.033615178387297
          ],
          "symbol": [
           "triangle-down",
           "triangle-down",
           "triangle-down",
           "triangle-down",
           "triangle-down",
           "triangle-down",
           "triangle-down",
           "triangle-down",
           "triangle-down",
           "triangle-down",
           "triangle-down",
           "triangle-up",
           "triangle-down",
           "triangle-down",
           "triangle-down",
           "triangle-down",
           "triangle-down",
           "triangle-up",
           "triangle-down",
           "triangle-down",
           "triangle-down",
           "triangle-down",
           "triangle-down",
           "triangle-down",
           "triangle-down",
           "triangle-down",
           "triangle-down",
           "triangle-down",
           "triangle-down",
           "triangle-down",
           "triangle-down",
           "triangle-down",
           "triangle-down",
           "triangle-down",
           "triangle-down",
           "triangle-down"
          ]
         },
         "mode": "markers",
         "name": "USDJPY",
         "showlegend": false,
         "type": "scatter",
         "x": [
          "2021-05-18T00:00:00+00:00",
          "2021-05-21T00:00:00+00:00",
          "2021-05-24T00:00:00+00:00",
          "2021-05-26T00:00:00+00:00",
          "2021-06-02T00:00:00+00:00",
          "2021-06-03T00:00:00+00:00",
          "2021-06-04T00:00:00+00:00",
          "2021-06-08T00:00:00+00:00",
          "2021-06-16T00:00:00+00:00",
          "2021-06-17T00:00:00+00:00",
          "2021-06-18T00:00:00+00:00",
          "2021-06-21T00:00:00+00:00",
          "2021-06-22T00:00:00+00:00",
          "2021-06-23T00:00:00+00:00",
          "2021-06-24T00:00:00+00:00",
          "2021-06-25T00:00:00+00:00",
          "2021-06-29T00:00:00+00:00",
          "2021-06-30T00:00:00+00:00",
          "2021-07-05T00:00:00+00:00",
          "2021-07-08T00:00:00+00:00",
          "2021-07-09T00:00:00+00:00",
          "2021-07-13T00:00:00+00:00",
          "2021-07-15T00:00:00+00:00",
          "2021-07-16T00:00:00+00:00",
          "2021-07-21T00:00:00+00:00",
          "2021-07-30T00:00:00+00:00",
          "2021-08-02T00:00:00+00:00",
          "2021-08-03T00:00:00+00:00",
          "2021-08-04T00:00:00+00:00",
          "2021-08-06T00:00:00+00:00",
          "2021-08-10T00:00:00+00:00",
          "2021-08-12T00:00:00+00:00",
          "2021-08-17T00:00:00+00:00",
          "2021-08-18T00:00:00+00:00",
          "2021-08-30T00:00:00+00:00",
          "2021-09-02T00:00:00+00:00"
         ],
         "y": [
          108.888,
          108.945,
          108.74,
          109.139,
          109.547,
          110.276,
          109.524,
          109.492,
          110.708,
          110.221,
          110.211,
          110.314,
          110.658,
          110.949,
          110.874,
          110.778,
          110.538,
          111.101,
          110.962,
          109.748,
          110.102,
          110.627,
          109.831,
          110.081,
          110.286,
          109.656,
          109.305,
          109.042,
          109.473,
          110.217,
          110.56,
          110.386,
          109.595,
          109.763,
          109.913,
          109.937
         ],
         "yaxis": "y3"
        },
        {
         "hovertext": [
          "order id: 2<br>order type: Sell<br>close probability: 1.0000<br>margin: 3100.000000<br>profit: -3084.793034",
          "order id: 5<br>order type: Buy<br>close probability: 1.0000<br>margin: 4390.000000<br>profit: 1290.811581",
          "order id: 6<br>order type: Buy<br>close probability: 1.0000<br>margin: 5510.000000<br>profit: -492.633357",
          "order id: 8<br>order type: Sell<br>close probability: 0.5622<br>margin: 1960.000000<br>profit: -1327.956834"
         ],
         "legendgroup": "g3",
         "marker": {
          "color": "black",
          "line": {
           "width": 1.5
          },
          "size": 7,
          "symbol": "line-ns"
         },
         "mode": "markers",
         "name": "USDJPY",
         "showlegend": false,
         "type": "scatter",
         "x": [
          "2021-05-27T00:00:00+00:00",
          "2021-06-22T00:00:00+00:00",
          "2021-07-02T00:00:00+00:00",
          "2021-08-05T00:00:00+00:00"
         ],
         "y": [
          109.808,
          110.658,
          111.02,
          109.761
         ],
         "yaxis": "y3"
        }
       ],
       "layout": {
        "height": 600,
        "template": {
         "data": {
          "bar": [
           {
            "error_x": {
             "color": "#2a3f5f"
            },
            "error_y": {
             "color": "#2a3f5f"
            },
            "marker": {
             "line": {
              "color": "#E5ECF6",
              "width": 0.5
             },
             "pattern": {
              "fillmode": "overlay",
              "size": 10,
              "solidity": 0.2
             }
            },
            "type": "bar"
           }
          ],
          "barpolar": [
           {
            "marker": {
             "line": {
              "color": "#E5ECF6",
              "width": 0.5
             },
             "pattern": {
              "fillmode": "overlay",
              "size": 10,
              "solidity": 0.2
             }
            },
            "type": "barpolar"
           }
          ],
          "carpet": [
           {
            "aaxis": {
             "endlinecolor": "#2a3f5f",
             "gridcolor": "white",
             "linecolor": "white",
             "minorgridcolor": "white",
             "startlinecolor": "#2a3f5f"
            },
            "baxis": {
             "endlinecolor": "#2a3f5f",
             "gridcolor": "white",
             "linecolor": "white",
             "minorgridcolor": "white",
             "startlinecolor": "#2a3f5f"
            },
            "type": "carpet"
           }
          ],
          "choropleth": [
           {
            "colorbar": {
             "outlinewidth": 0,
             "ticks": ""
            },
            "type": "choropleth"
           }
          ],
          "contour": [
           {
            "colorbar": {
             "outlinewidth": 0,
             "ticks": ""
            },
            "colorscale": [
             [
              0,
              "#0d0887"
             ],
             [
              0.1111111111111111,
              "#46039f"
             ],
             [
              0.2222222222222222,
              "#7201a8"
             ],
             [
              0.3333333333333333,
              "#9c179e"
             ],
             [
              0.4444444444444444,
              "#bd3786"
             ],
             [
              0.5555555555555556,
              "#d8576b"
             ],
             [
              0.6666666666666666,
              "#ed7953"
             ],
             [
              0.7777777777777778,
              "#fb9f3a"
             ],
             [
              0.8888888888888888,
              "#fdca26"
             ],
             [
              1,
              "#f0f921"
             ]
            ],
            "type": "contour"
           }
          ],
          "contourcarpet": [
           {
            "colorbar": {
             "outlinewidth": 0,
             "ticks": ""
            },
            "type": "contourcarpet"
           }
          ],
          "heatmap": [
           {
            "colorbar": {
             "outlinewidth": 0,
             "ticks": ""
            },
            "colorscale": [
             [
              0,
              "#0d0887"
             ],
             [
              0.1111111111111111,
              "#46039f"
             ],
             [
              0.2222222222222222,
              "#7201a8"
             ],
             [
              0.3333333333333333,
              "#9c179e"
             ],
             [
              0.4444444444444444,
              "#bd3786"
             ],
             [
              0.5555555555555556,
              "#d8576b"
             ],
             [
              0.6666666666666666,
              "#ed7953"
             ],
             [
              0.7777777777777778,
              "#fb9f3a"
             ],
             [
              0.8888888888888888,
              "#fdca26"
             ],
             [
              1,
              "#f0f921"
             ]
            ],
            "type": "heatmap"
           }
          ],
          "heatmapgl": [
           {
            "colorbar": {
             "outlinewidth": 0,
             "ticks": ""
            },
            "colorscale": [
             [
              0,
              "#0d0887"
             ],
             [
              0.1111111111111111,
              "#46039f"
             ],
             [
              0.2222222222222222,
              "#7201a8"
             ],
             [
              0.3333333333333333,
              "#9c179e"
             ],
             [
              0.4444444444444444,
              "#bd3786"
             ],
             [
              0.5555555555555556,
              "#d8576b"
             ],
             [
              0.6666666666666666,
              "#ed7953"
             ],
             [
              0.7777777777777778,
              "#fb9f3a"
             ],
             [
              0.8888888888888888,
              "#fdca26"
             ],
             [
              1,
              "#f0f921"
             ]
            ],
            "type": "heatmapgl"
           }
          ],
          "histogram": [
           {
            "marker": {
             "pattern": {
              "fillmode": "overlay",
              "size": 10,
              "solidity": 0.2
             }
            },
            "type": "histogram"
           }
          ],
          "histogram2d": [
           {
            "colorbar": {
             "outlinewidth": 0,
             "ticks": ""
            },
            "colorscale": [
             [
              0,
              "#0d0887"
             ],
             [
              0.1111111111111111,
              "#46039f"
             ],
             [
              0.2222222222222222,
              "#7201a8"
             ],
             [
              0.3333333333333333,
              "#9c179e"
             ],
             [
              0.4444444444444444,
              "#bd3786"
             ],
             [
              0.5555555555555556,
              "#d8576b"
             ],
             [
              0.6666666666666666,
              "#ed7953"
             ],
             [
              0.7777777777777778,
              "#fb9f3a"
             ],
             [
              0.8888888888888888,
              "#fdca26"
             ],
             [
              1,
              "#f0f921"
             ]
            ],
            "type": "histogram2d"
           }
          ],
          "histogram2dcontour": [
           {
            "colorbar": {
             "outlinewidth": 0,
             "ticks": ""
            },
            "colorscale": [
             [
              0,
              "#0d0887"
             ],
             [
              0.1111111111111111,
              "#46039f"
             ],
             [
              0.2222222222222222,
              "#7201a8"
             ],
             [
              0.3333333333333333,
              "#9c179e"
             ],
             [
              0.4444444444444444,
              "#bd3786"
             ],
             [
              0.5555555555555556,
              "#d8576b"
             ],
             [
              0.6666666666666666,
              "#ed7953"
             ],
             [
              0.7777777777777778,
              "#fb9f3a"
             ],
             [
              0.8888888888888888,
              "#fdca26"
             ],
             [
              1,
              "#f0f921"
             ]
            ],
            "type": "histogram2dcontour"
           }
          ],
          "mesh3d": [
           {
            "colorbar": {
             "outlinewidth": 0,
             "ticks": ""
            },
            "type": "mesh3d"
           }
          ],
          "parcoords": [
           {
            "line": {
             "colorbar": {
              "outlinewidth": 0,
              "ticks": ""
             }
            },
            "type": "parcoords"
           }
          ],
          "pie": [
           {
            "automargin": true,
            "type": "pie"
           }
          ],
          "scatter": [
           {
            "fillpattern": {
             "fillmode": "overlay",
             "size": 10,
             "solidity": 0.2
            },
            "type": "scatter"
           }
          ],
          "scatter3d": [
           {
            "line": {
             "colorbar": {
              "outlinewidth": 0,
              "ticks": ""
             }
            },
            "marker": {
             "colorbar": {
              "outlinewidth": 0,
              "ticks": ""
             }
            },
            "type": "scatter3d"
           }
          ],
          "scattercarpet": [
           {
            "marker": {
             "colorbar": {
              "outlinewidth": 0,
              "ticks": ""
             }
            },
            "type": "scattercarpet"
           }
          ],
          "scattergeo": [
           {
            "marker": {
             "colorbar": {
              "outlinewidth": 0,
              "ticks": ""
             }
            },
            "type": "scattergeo"
           }
          ],
          "scattergl": [
           {
            "marker": {
             "colorbar": {
              "outlinewidth": 0,
              "ticks": ""
             }
            },
            "type": "scattergl"
           }
          ],
          "scattermapbox": [
           {
            "marker": {
             "colorbar": {
              "outlinewidth": 0,
              "ticks": ""
             }
            },
            "type": "scattermapbox"
           }
          ],
          "scatterpolar": [
           {
            "marker": {
             "colorbar": {
              "outlinewidth": 0,
              "ticks": ""
             }
            },
            "type": "scatterpolar"
           }
          ],
          "scatterpolargl": [
           {
            "marker": {
             "colorbar": {
              "outlinewidth": 0,
              "ticks": ""
             }
            },
            "type": "scatterpolargl"
           }
          ],
          "scatterternary": [
           {
            "marker": {
             "colorbar": {
              "outlinewidth": 0,
              "ticks": ""
             }
            },
            "type": "scatterternary"
           }
          ],
          "surface": [
           {
            "colorbar": {
             "outlinewidth": 0,
             "ticks": ""
            },
            "colorscale": [
             [
              0,
              "#0d0887"
             ],
             [
              0.1111111111111111,
              "#46039f"
             ],
             [
              0.2222222222222222,
              "#7201a8"
             ],
             [
              0.3333333333333333,
              "#9c179e"
             ],
             [
              0.4444444444444444,
              "#bd3786"
             ],
             [
              0.5555555555555556,
              "#d8576b"
             ],
             [
              0.6666666666666666,
              "#ed7953"
             ],
             [
              0.7777777777777778,
              "#fb9f3a"
             ],
             [
              0.8888888888888888,
              "#fdca26"
             ],
             [
              1,
              "#f0f921"
             ]
            ],
            "type": "surface"
           }
          ],
          "table": [
           {
            "cells": {
             "fill": {
              "color": "#EBF0F8"
             },
             "line": {
              "color": "white"
             }
            },
            "header": {
             "fill": {
              "color": "#C8D4E3"
             },
             "line": {
              "color": "white"
             }
            },
            "type": "table"
           }
          ]
         },
         "layout": {
          "annotationdefaults": {
           "arrowcolor": "#2a3f5f",
           "arrowhead": 0,
           "arrowwidth": 1
          },
          "autotypenumbers": "strict",
          "coloraxis": {
           "colorbar": {
            "outlinewidth": 0,
            "ticks": ""
           }
          },
          "colorscale": {
           "diverging": [
            [
             0,
             "#8e0152"
            ],
            [
             0.1,
             "#c51b7d"
            ],
            [
             0.2,
             "#de77ae"
            ],
            [
             0.3,
             "#f1b6da"
            ],
            [
             0.4,
             "#fde0ef"
            ],
            [
             0.5,
             "#f7f7f7"
            ],
            [
             0.6,
             "#e6f5d0"
            ],
            [
             0.7,
             "#b8e186"
            ],
            [
             0.8,
             "#7fbc41"
            ],
            [
             0.9,
             "#4d9221"
            ],
            [
             1,
             "#276419"
            ]
           ],
           "sequential": [
            [
             0,
             "#0d0887"
            ],
            [
             0.1111111111111111,
             "#46039f"
            ],
            [
             0.2222222222222222,
             "#7201a8"
            ],
            [
             0.3333333333333333,
             "#9c179e"
            ],
            [
             0.4444444444444444,
             "#bd3786"
            ],
            [
             0.5555555555555556,
             "#d8576b"
            ],
            [
             0.6666666666666666,
             "#ed7953"
            ],
            [
             0.7777777777777778,
             "#fb9f3a"
            ],
            [
             0.8888888888888888,
             "#fdca26"
            ],
            [
             1,
             "#f0f921"
            ]
           ],
           "sequentialminus": [
            [
             0,
             "#0d0887"
            ],
            [
             0.1111111111111111,
             "#46039f"
            ],
            [
             0.2222222222222222,
             "#7201a8"
            ],
            [
             0.3333333333333333,
             "#9c179e"
            ],
            [
             0.4444444444444444,
             "#bd3786"
            ],
            [
             0.5555555555555556,
             "#d8576b"
            ],
            [
             0.6666666666666666,
             "#ed7953"
            ],
            [
             0.7777777777777778,
             "#fb9f3a"
            ],
            [
             0.8888888888888888,
             "#fdca26"
            ],
            [
             1,
             "#f0f921"
            ]
           ]
          },
          "colorway": [
           "#636efa",
           "#EF553B",
           "#00cc96",
           "#ab63fa",
           "#FFA15A",
           "#19d3f3",
           "#FF6692",
           "#B6E880",
           "#FF97FF",
           "#FECB52"
          ],
          "font": {
           "color": "#2a3f5f"
          },
          "geo": {
           "bgcolor": "white",
           "lakecolor": "white",
           "landcolor": "#E5ECF6",
           "showlakes": true,
           "showland": true,
           "subunitcolor": "white"
          },
          "hoverlabel": {
           "align": "left"
          },
          "hovermode": "closest",
          "mapbox": {
           "style": "light"
          },
          "paper_bgcolor": "white",
          "plot_bgcolor": "#E5ECF6",
          "polar": {
           "angularaxis": {
            "gridcolor": "white",
            "linecolor": "white",
            "ticks": ""
           },
           "bgcolor": "#E5ECF6",
           "radialaxis": {
            "gridcolor": "white",
            "linecolor": "white",
            "ticks": ""
           }
          },
          "scene": {
           "xaxis": {
            "backgroundcolor": "#E5ECF6",
            "gridcolor": "white",
            "gridwidth": 2,
            "linecolor": "white",
            "showbackground": true,
            "ticks": "",
            "zerolinecolor": "white"
           },
           "yaxis": {
            "backgroundcolor": "#E5ECF6",
            "gridcolor": "white",
            "gridwidth": 2,
            "linecolor": "white",
            "showbackground": true,
            "ticks": "",
            "zerolinecolor": "white"
           },
           "zaxis": {
            "backgroundcolor": "#E5ECF6",
            "gridcolor": "white",
            "gridwidth": 2,
            "linecolor": "white",
            "showbackground": true,
            "ticks": "",
            "zerolinecolor": "white"
           }
          },
          "shapedefaults": {
           "line": {
            "color": "#2a3f5f"
           }
          },
          "ternary": {
           "aaxis": {
            "gridcolor": "white",
            "linecolor": "white",
            "ticks": ""
           },
           "baxis": {
            "gridcolor": "white",
            "linecolor": "white",
            "ticks": ""
           },
           "bgcolor": "#E5ECF6",
           "caxis": {
            "gridcolor": "white",
            "linecolor": "white",
            "ticks": ""
           }
          },
          "title": {
           "x": 0.05
          },
          "xaxis": {
           "automargin": true,
           "gridcolor": "white",
           "linecolor": "white",
           "ticks": "",
           "title": {
            "standoff": 15
           },
           "zerolinecolor": "white",
           "zerolinewidth": 2
          },
          "yaxis": {
           "automargin": true,
           "gridcolor": "white",
           "linecolor": "white",
           "ticks": "",
           "title": {
            "standoff": 15
           },
           "zerolinecolor": "white",
           "zerolinewidth": 2
          }
         }
        },
        "title": {
         "text": "Balance: 5003.219146 USD ~ Equity: 5003.219146 ~ Margin: -0.000000 ~ Free Margin: 5003.219146 ~ Margin Level: inf"
        },
        "width": 1400,
        "xaxis": {
         "tickformat": "%Y-%m-%d"
        },
        "yaxis": {
         "tickfont": {
          "color": "rgba(0.12156862745098039, 0.4666666666666667, 0.7058823529411765, 0.8)"
         }
        },
        "yaxis2": {
         "overlaying": "y",
         "tickfont": {
          "color": "rgba(0.5643983083429451, 0.36993464052287583, 0.5132641291810843, 0.8)"
         }
        },
        "yaxis3": {
         "overlaying": "y",
         "tickfont": {
          "color": "rgba(0.7372549019607844, 0.7411764705882353, 0.13333333333333333, 0.8)"
         }
        }
       }
      }
     },
     "metadata": {},
     "output_type": "display_data"
    }
   ],
   "source": [
    "env.render('advanced_figure', time_format=\"%Y-%m-%d\")"
   ]
  },
  {
   "cell_type": "markdown",
   "metadata": {},
   "source": [
    "### A Complete Example using `stable-baselines`"
   ]
  },
  {
   "cell_type": "code",
   "execution_count": 44,
   "metadata": {},
   "outputs": [
    {
     "name": "stdout",
     "output_type": "stream",
     "text": [
      "[10000.]\n"
     ]
    },
    {
     "name": "stderr",
     "output_type": "stream",
     "text": [
      "/opt/homebrew/lib/python3.11/site-packages/gymnasium/utils/passive_env_checker.py:42: UserWarning:\n",
      "\n",
      "\u001b[33mWARN: A Box observation space has an unconventional shape (neither an image, nor a 1D vector). We recommend flattening the observation to have only a 1D vector or use a custom policy to properly process the data. Actual observation shape: (10, 6)\u001b[0m\n",
      "\n",
      "/opt/homebrew/lib/python3.11/site-packages/gymnasium/utils/passive_env_checker.py:29: UserWarning:\n",
      "\n",
      "\u001b[33mWARN: It seems a Box observation space is an image but the `dtype` is not `np.uint8`, actual type: float64. If the Box observation space is not an image, we recommend flattening the observation to have only a 1D vector.\u001b[0m\n",
      "\n",
      "/opt/homebrew/lib/python3.11/site-packages/gymnasium/utils/passive_env_checker.py:34: UserWarning:\n",
      "\n",
      "\u001b[33mWARN: It seems a Box observation space is an image but the lower and upper bounds are not [0, 255]. Actual lower bound: -10000000000.0, upper bound: 10000000000.0. Generally, CNN policies assume observations are within that range, so you may encounter an issue if the observation values are not.\u001b[0m\n",
      "\n"
     ]
    },
    {
     "ename": "TypeError",
     "evalue": "unsupported format string passed to numpy.ndarray.__format__",
     "output_type": "error",
     "traceback": [
      "\u001b[0;31m---------------------------------------------------------------------------\u001b[0m",
      "\u001b[0;31mTypeError\u001b[0m                                 Traceback (most recent call last)",
      "Cell \u001b[0;32mIn[44], line 39\u001b[0m\n\u001b[1;32m     35\u001b[0m observation \u001b[39m=\u001b[39m vec_env\u001b[39m.\u001b[39mreset()\n\u001b[1;32m     38\u001b[0m start_balance \u001b[39m=\u001b[39m observation[\u001b[39m'\u001b[39m\u001b[39mbalance\u001b[39m\u001b[39m'\u001b[39m][\u001b[39m0\u001b[39m]\n\u001b[0;32m---> 39\u001b[0m \u001b[39mprint\u001b[39m (\u001b[39mf\u001b[39m\u001b[39m'\u001b[39m\u001b[39mstart_balance : \u001b[39m\u001b[39m{\u001b[39;00mstart_balance\u001b[39m:\u001b[39;00m\u001b[39m>10.3f\u001b[39m\u001b[39m}\u001b[39;00m\u001b[39m'\u001b[39m)\n\u001b[1;32m     40\u001b[0m total_reward \u001b[39m=\u001b[39m \u001b[39m0\u001b[39m\n\u001b[1;32m     42\u001b[0m \u001b[39mwhile\u001b[39;00m \u001b[39mTrue\u001b[39;00m:\n",
      "\u001b[0;31mTypeError\u001b[0m: unsupported format string passed to numpy.ndarray.__format__"
     ]
    },
    {
     "ename": "",
     "evalue": "",
     "output_type": "error",
     "traceback": [
      "\u001b[1;31mThe Kernel crashed while executing code in the the current cell or a previous cell. Please review the code in the cell(s) to identify a possible cause of the failure. Click <a href='https://aka.ms/vscodeJupyterKernelCrash'>here</a> for more info. View Jupyter <a href='command:jupyter.viewOutput'>log</a> for further details."
     ]
    }
   ],
   "source": [
    "import gymnasium as gym\n",
    "from gym_mtsim import (\n",
    "    Timeframe, SymbolInfo,\n",
    "    MtSimulator, OrderType, Order, SymbolNotFound, OrderNotFound,\n",
    "    MtEnv,\n",
    "    FOREX_DATA_PATH, STOCKS_DATA_PATH, CRYPTO_DATA_PATH, MIXED_DATA_PATH,\n",
    ")\n",
    "from stable_baselines3 import A2C\n",
    "from stable_baselines3.common.vec_env import DummyVecEnv\n",
    "import random\n",
    "import torch\n",
    "\n",
    "env_name = 'forex-hedge-v0'\n",
    "\n",
    "#reproduce training and test\n",
    "seed = 42\n",
    "\n",
    "obs = env.reset(seed=seed)\n",
    "start_balance = observation['balance'][0]\n",
    "print(start_balance)\n",
    "\n",
    "torch.manual_seed(seed)\n",
    "random.seed(seed)\n",
    "np.random.seed(seed)\n",
    "\n",
    "env = gym.make(env_name)\n",
    "model = A2C('MultiInputPolicy', env, verbose=0)\n",
    "model.learn(total_timesteps=10000)\n",
    "\n",
    "vec_env = model.get_env()\n",
    "#vec_env = DummyVecEnv([lambda: gym.make(env_name, render_mode = \"human\")])\n",
    "#vec_env = DummyVecEnv([lambda: gym.make(env_name, render_mode = \"simple_figure\")])\n",
    "\n",
    "observation = vec_env.reset()\n",
    "total_reward = 0\n",
    "\n",
    "while True:\n",
    "    action, _states = model.predict(observation)\n",
    "    observation, reward, done, info = vec_env.step(action)\n",
    "\n",
    "    total_reward += reward\n",
    "    if done: break\n",
    "\n",
    "end_balance = info[0][\"balance\"]\n",
    "returns = (end_balance - start_balance) / end_balance\n",
    "out_returns = ''\n",
    "if returns > 0: out_returns = '+'\n",
    "out_returns += f'{returns:.3f}%' \n",
    "\n",
    "print (f'total_reward : {total_reward[0]:>10.3f} ({out_returns})')\n",
    "print (f'balance      : {info[0][\"balance\"]:>10.3f}')\n",
    "print (f'equity       : {info[0][\"equity\"]:>10.3f}')\n",
    "\n",
    "#env.render('advanced_figure', time_format=\"%Y-%m-%d\")"
   ]
  },
  {
   "attachments": {},
   "cell_type": "markdown",
   "metadata": {},
   "source": [
    "## References\n",
    "\n",
    "* [https://www.mql5.com/en/docs/python_metatrader5](https://www.mql5.com/en/docs/python_metatrader5)\n",
    "* [https://www.metatrader5.com/en/terminal/help/trading_advanced/margin_forex](https://www.metatrader5.com/en/terminal/help/trading_advanced/margin_forex)\n",
    "* [https://admiralmarkets.com/education/articles/forex-basics/margin-in-forex-trading-margin-level-vs-margin-call](https://admiralmarkets.com/education/articles/forex-basics/margin-in-forex-trading-margin-level-vs-margin-call)\n",
    "* [https://www.investopedia.com/articles/forex/12/calculating-profits-and-losses-of-forex-trades.asp](https://www.investopedia.com/articles/forex/12/calculating-profits-and-losses-of-forex-trades.asp)\n"
   ]
  }
 ],
 "metadata": {
  "interpreter": {
   "hash": "0abee77d591a174194b91b850e12395de882ac6d36de3e6e63e8904e4cff1216"
  },
  "kernelspec": {
   "display_name": "Python 3.9.6 64-bit ('venv': venv)",
   "name": "python3"
  },
  "language_info": {
   "codemirror_mode": {
    "name": "ipython",
    "version": 3
   },
   "file_extension": ".py",
   "mimetype": "text/x-python",
   "name": "python",
   "nbconvert_exporter": "python",
   "pygments_lexer": "ipython3",
   "version": "3.11.1"
  }
 },
 "nbformat": 4,
 "nbformat_minor": 2
}
