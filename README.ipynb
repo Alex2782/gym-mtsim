{
 "cells": [
  {
   "cell_type": "markdown",
   "metadata": {},
   "source": [
    "# gym-mtsim: OpenAI Gym - MetaTrader 5 Simulator\n",
    "\n",
    "`MtSim` is a simulator for the [MetaTrader 5](https://www.metatrader5.com) trading platform alongside an [OpenAI Gym](https://github.com/openai/gym) environment for reinforcement learning-based trading algorithms. `MetaTrader 5` is a **multi-asset** platform that allows trading **Forex**, **Stocks**, **Crypto**, and Futures. It is one of the most popular trading platforms and supports numerous useful features, such as opening demo accounts on various brokers.\n",
    "\n",
    "The simulator is separated from the Gym environment and can work independently. Although the Gym environment is designed to be suitable for RL frameworks, it is also proper for backtesting and classic analysis.\n",
    "\n",
    "The goal of this project was to provide a *general-purpose*, *flexible*, and *easy-to-use* library with a focus on *code readability* that enables users to do all parts of the trading process through it from 0 to 100. So, `gym-mtsim` is not just a testing tool or a Gym environment. It is a combination of a **real-world** simulator, a **backtesting** tool with *high detail visualization*, and a **Gym environment** appropriate for RL/classic algorithms.\n",
    "\n",
    "**Note:** For beginners, it is recommended to check out the [gym-anytrading](https://github.com/AminHP/gym-anytrading) project."
   ]
  },
  {
   "cell_type": "markdown",
   "metadata": {},
   "source": [
    "## Prerequisites\n",
    "\n",
    "### Install MetaTrader 5\n",
    "Download and install MetaTrader 5 software from [here](https://www.metatrader5.com/en/download).\n",
    "\n",
    "Open a demo account on any broker. By default, the software opens a demo account automatically after installation.\n",
    "\n",
    "Explore the software and try to get familiar with it by trading different symbols in both **hedged** and **unhedged** accounts.\n",
    "\n",
    "### Install gym-mtsim\n",
    "\n",
    "#### Via PIP\n",
    "```bash\n",
    "pip install gym-mtsim\n",
    "```\n",
    "\n",
    "#### From Repository\n",
    "```bash\n",
    "git clone https://github.com/AminHP/gym-mtsim\n",
    "cd gym-mtsim\n",
    "pip install -e .\n",
    "\n",
    "## or\n",
    "\n",
    "pip install --upgrade --no-deps --force-reinstall https://github.com/AminHP/gym-mtsim/archive/main.zip\n",
    "```\n",
    "\n",
    "### Install stable-baselines3\n",
    "This package is required to run some examples. Install it from [here](https://github.com/DLR-RM/stable-baselines3#installation)."
   ]
  },
  {
   "cell_type": "markdown",
   "metadata": {},
   "source": [
    "## Components"
   ]
  },
  {
   "cell_type": "markdown",
   "metadata": {},
   "source": [
    "### 1. SymbolInfo\n",
    "\n",
    "This is a data class that contains the essential properties of a symbol. Try to get fully acquainted with [these properties](https://github.com/AminHP/gym-mtsim/blob/main/gym_mtsim/metatrader/symbol.py) in case they are unfamiliar. There are plenty of resources that provide good explanations."
   ]
  },
  {
   "cell_type": "markdown",
   "metadata": {},
   "source": [
    "### 2. Order\n",
    "\n",
    "This is another data class that consists of information of an order. Each order has the following properties:\n",
    "\n",
    "> `id`: A unique number that helps with tracking orders.\n",
    ">\n",
    "> `type`: An enum that specifies the type of the order. It can be either **Buy** or **Sell**.\n",
    ">\n",
    "> `symbol`: The symbol selected for the order.\n",
    ">\n",
    "> `volume`: The volume chose for the order. It can be a multiple of *volume_step* between *volume_min* and *volume_max*. \n",
    ">\n",
    "> `fee`: It is a tricky property. In MetaTrader, there is *no* such concept called fee. Each symbol has bid and ask prices, the difference between which represents the **fee**. Although MetaTrader API provides these bid/ask prices for the recent past, it is not possible to access them for the distant past. Therefore, the **fee** property helps to manage the mentioned difference.\n",
    ">\n",
    "> `entry_time`: The time when the order was placed.\n",
    ">\n",
    "> `entry_price`: The **close** price when the order was placed.\n",
    ">\n",
    "> `exit_time`: The time when the order was closed.\n",
    ">\n",
    "> `exit_price`: The **close** price when the order was closed.\n",
    ">\n",
    "> `profit`: The amount of profit earned by this order so far.\n",
    ">\n",
    "> `margin`: The required amount of margin for this order.\n",
    ">\n",
    "> `closed`: A boolean that specifies whether this order is closed or not."
   ]
  },
  {
   "attachments": {},
   "cell_type": "markdown",
   "metadata": {},
   "source": [
    "### 3. MtSimulator\n",
    "\n",
    "This is the core class that simulates the main parts of MetaTrader. Most of its public properties and methods are explained here. But feel free to take a look at the complete [source code](https://github.com/AminHP/gym-mtsim/blob/main/gym_mtsim/simulator/mt_simulator.py).\n",
    "\n",
    "* Properties:\n",
    "\n",
    "    > `unit`: The unit currency. It is usually *USD*, but it can be anything the broker allows, such as *EUR*.\n",
    "    >\n",
    "    > `balance`: The amount of money before taking into account any open positions.\n",
    "    >\n",
    "    > `equity`: The amount of money, including the value of any open positions.\n",
    "    >\n",
    "    > `margin`: The amount of money which is required for having positions opened.\n",
    "    >\n",
    "    > `leverage`: The leverage ratio.\n",
    "    >\n",
    "    > `free_margin`: The amount of money that is available to open new positions.\n",
    "    >\n",
    "    > `margin_level`: The ratio between **equity** and **margin**.\n",
    "    >\n",
    "    > `stop_out_level`: If the **margin_level** drops below **stop_out_level**, the most unprofitable position will be closed automatically by the broker.\n",
    "    >\n",
    "    > `hedge`: A boolean that specifies whether hedging is enabled or not.\n",
    "    >\n",
    "    > `symbols_info`: A dictionary that contains symbols' information.\n",
    "    >\n",
    "    > `symbols_data`: A dictionary that contains symbols' OHLCV data.\n",
    "    >\n",
    "    > `orders`: The list of open orders.\n",
    "    >\n",
    "    > `closed_orders`: The list of closed orders.\n",
    "    >\n",
    "    > `current_time`: The current time of the system.\n",
    "\n",
    "* Methods:\n",
    "\n",
    "    > `download_data`: Downloads required data from MetaTrader for a list of symbols in a time range. This method can be overridden in order to download data from servers other than MetaTrader. *Note that this method only works on Windows, as the MetaTrader5 Python package is not available on other platforms.*\n",
    "    >\n",
    "    > `save_symbols`: Saves the downloaded symbols' data to a file.\n",
    "    >\n",
    "    > `load_symbols`: Loads the symbols' data from a file.\n",
    "    >\n",
    "    > `tick`: Moves forward in time (by a delta time) and updates orders and other related properties.\n",
    "    >\n",
    "    > `create_order`: Creates a **Buy** or **Sell** order and updates related properties.\n",
    "    >\n",
    "    > `close_order`: Closes an order and updates related properties.\n",
    "    >\n",
    "    > `get_state`: Returns the state of the system. The result is similar to the *Trading tab* and *History tab* of the *Toolbox window* in MetaTrader software."
   ]
  },
  {
   "cell_type": "markdown",
   "metadata": {},
   "source": [
    "### 4. MtEnv\n",
    "\n",
    "This is the Gym environment that works on top of the *MtSim*. Most of its public properties and methods are explained here. But feel free to take a look at the complete [source code](https://github.com/AminHP/gym-mtsim/blob/main/gym_mtsim/envs/mt_env.py).\n",
    "\n",
    "* Properties:\n",
    "\n",
    "    > `original_simulator`: An instance of **MtSim** class as a baseline for simulating the system.\n",
    "    >\n",
    "    > `simulator`: The current simulator in use. It is a copy of the **original_simulator**.\n",
    "    >\n",
    "    > `trading_symbols`: The list of symbols to trade.\n",
    "    >\n",
    "    > `time_points`: A list of time points based on which the simulator moves time. The default value is taken from the *pandas DataFrame.Index* of the first symbol in the **trading_symbols** list.\n",
    "    >\n",
    "    > `hold_threshold`: A probability threshold that controls holding or placing a new order.\n",
    "    >\n",
    "    > `close_threshold`: A probability threshold that controls closing an order.\n",
    "    >\n",
    "    > `fee`: A constant number or a callable that takes a *symbol* as input and returns the **fee** based on that.\n",
    "    >\n",
    "    > `symbol_max_orders`: Specifies the maximum number of open positions per symbol in hedge trading. \n",
    "    >\n",
    "    > `multiprocessing_processes`: Specifies the maximum number of processes used for parallel processing.\n",
    "    >\n",
    "    > `prices`: The symbol prices over time. It is used to calculate signal features and render the environment.\n",
    "    >\n",
    "    > `signal_features`: The extracted features over time. It is used to generate *Gym observations*.\n",
    "    >\n",
    "    > `window_size`: The number of time points (current and previous points) as the length of each observation's features. \n",
    "    >\n",
    "    > `features_shape`: The shape of a single observation's features.\n",
    "    >\n",
    "    > `action_space`: The *Gym action_space* property. It has a complex structure since **stable-baselines** does not support *Dict* or *2D Box* action spaces. The action space is a 1D vector of size `count(trading_symbols) * (symbol_max_orders + 2)`. For each symbol, two types of actions can be performed, closing previous orders and placing a new order. The former is controlled by the first *symbol_max_orders* elements and the latter is controlled by the last two elements. Therefore, the action for each symbol is ***[probability of closing order 1, probability of closing order 2, ..., probability of closing order symbol_max_orders, probability of holding or creating a new order, volume of the new order]***. The last two elements specify whether to hold or place a new order and the volume of the new order (positive volume indicates buy and negative volume indicates sell). These elements are a number in range (-∞, ∞), but the probability values must be in the range [0, 1]. This is a problem with **stable-baselines** as mentioned earlier. To overcome this problem, it is assumed that the probability values belong to the [logit](https://en.wikipedia.org/wiki/Logit) function. So, applying the [expit](https://en.wikipedia.org/wiki/Expit) function on them gives the desired probability values in the range [0, 1]. This function is applied in the **step** method of the environment.\n",
    "    >\n",
    "    > `observation_space`: The *Gym observation_space* property. Each observation contains information about *balance*, *equity*, *margin*, *features*, and *orders*. The **features** is a window on the *signal_features* from index *current_tick - window_size + 1* to *current_tick*. The **orders** is a 3D array. Its first dimension specifies the symbol index in the *trading_symbols* list. The second dimension specifies the order number (each symbol can have more than one open order at the same time in hedge trading). The last dimension has three elements, *entry_price*, *volume*, and *profit* of corresponding order.\n",
    "    >\n",
    "    > `history`: Stores the information of all steps.\n",
    "\n",
    "* Methods:\n",
    "\n",
    "    > `seed`: The typical *Gym seed* method.\n",
    "    >\n",
    "    > `reset`: The typical *Gym reset* method.\n",
    "    >\n",
    "    > `step`: The typical *Gym step* method.\n",
    "    >\n",
    "    > `render`: The typical *Gym render* method. It can render in three modes, **human**, **simple_figure**, and **advanced_figure**.\n",
    "    >\n",
    "    > `close`: The typical *Gym close* method.\n",
    "\n",
    "* Virtual Methods:\n",
    "\n",
    "    > `_get_prices`: It is called in the constructor and calculates symbol **prices**.\n",
    "    >\n",
    "    > `_process_data`: It is called in the constructor and calculates **signal_features**.\n",
    "    >\n",
    "    > `_calculate_reward`: The reward function for the RL agent."
   ]
  },
  {
   "cell_type": "markdown",
   "metadata": {},
   "source": [
    "## A Simple Example"
   ]
  },
  {
   "cell_type": "markdown",
   "metadata": {},
   "source": [
    "### MtSim"
   ]
  },
  {
   "cell_type": "markdown",
   "metadata": {},
   "source": [
    "#### Create a simulator with custom parameters"
   ]
  },
  {
   "cell_type": "code",
   "execution_count": 1,
   "metadata": {},
   "outputs": [],
   "source": [
    "import pytz\n",
    "from datetime import datetime, timedelta\n",
    "from gym_mtsim import MtSimulator, OrderType, Timeframe, FOREX_DATA_PATH\n",
    "\n",
    "\n",
    "sim = MtSimulator(\n",
    "    unit='USD',\n",
    "    balance=10000.,\n",
    "    leverage=100.,\n",
    "    stop_out_level=0.2,\n",
    "    hedge=False,\n",
    ")\n",
    "\n",
    "if not sim.load_symbols(FOREX_DATA_PATH):\n",
    "    sim.download_data(\n",
    "        symbols=['EURUSD', 'GBPCAD', 'GBPUSD', 'USDCAD', 'USDCHF', 'GBPJPY', 'USDJPY'],\n",
    "        time_range=(\n",
    "            datetime(2021, 5, 5, tzinfo=pytz.UTC),\n",
    "            datetime(2021, 9, 5, tzinfo=pytz.UTC)\n",
    "        ),\n",
    "        timeframe=Timeframe.D1\n",
    "    )\n",
    "    sim.save_symbols(FOREX_DATA_PATH)"
   ]
  },
  {
   "cell_type": "markdown",
   "metadata": {},
   "source": [
    "#### Place some orders"
   ]
  },
  {
   "cell_type": "code",
   "execution_count": 2,
   "metadata": {},
   "outputs": [
    {
     "name": "stdout",
     "output_type": "stream",
     "text": [
      "balance: 10000.0, equity: 10717.58118589908, margin: 3375.480933228619\n",
      "free_margin: 7342.1002526704615, margin_level: 3.1751271592500743\n",
      "\n"
     ]
    },
    {
     "data": {
      "text/html": [
       "<div>\n",
       "<style scoped>\n",
       "    .dataframe tbody tr th:only-of-type {\n",
       "        vertical-align: middle;\n",
       "    }\n",
       "\n",
       "    .dataframe tbody tr th {\n",
       "        vertical-align: top;\n",
       "    }\n",
       "\n",
       "    .dataframe thead th {\n",
       "        text-align: right;\n",
       "    }\n",
       "</style>\n",
       "<table border=\"1\" class=\"dataframe\">\n",
       "  <thead>\n",
       "    <tr style=\"text-align: right;\">\n",
       "      <th></th>\n",
       "      <th>Id</th>\n",
       "      <th>Symbol</th>\n",
       "      <th>Type</th>\n",
       "      <th>Volume</th>\n",
       "      <th>Entry Time</th>\n",
       "      <th>Entry Price</th>\n",
       "      <th>Exit Time</th>\n",
       "      <th>Exit Price</th>\n",
       "      <th>Profit</th>\n",
       "      <th>Margin</th>\n",
       "      <th>Fee</th>\n",
       "      <th>Closed</th>\n",
       "    </tr>\n",
       "  </thead>\n",
       "  <tbody>\n",
       "    <tr>\n",
       "      <th>0</th>\n",
       "      <td>2</td>\n",
       "      <td>USDJPY</td>\n",
       "      <td>Sell</td>\n",
       "      <td>2.0</td>\n",
       "      <td>2021-09-01 00:17:52+00:00</td>\n",
       "      <td>110.02500</td>\n",
       "      <td>2021-09-06 00:17:52+00:00</td>\n",
       "      <td>109.71200</td>\n",
       "      <td>552.355257</td>\n",
       "      <td>2000.000000</td>\n",
       "      <td>0.0100</td>\n",
       "      <td>False</td>\n",
       "    </tr>\n",
       "    <tr>\n",
       "      <th>1</th>\n",
       "      <td>1</td>\n",
       "      <td>GBPCAD</td>\n",
       "      <td>Buy</td>\n",
       "      <td>1.0</td>\n",
       "      <td>2021-08-30 00:17:52+00:00</td>\n",
       "      <td>1.73389</td>\n",
       "      <td>2021-09-06 00:17:52+00:00</td>\n",
       "      <td>1.73626</td>\n",
       "      <td>165.225928</td>\n",
       "      <td>1375.480933</td>\n",
       "      <td>0.0003</td>\n",
       "      <td>False</td>\n",
       "    </tr>\n",
       "  </tbody>\n",
       "</table>\n",
       "</div>"
      ],
      "text/plain": [
       "   Id  Symbol  Type  Volume                Entry Time  Entry Price  \\\n",
       "0   2  USDJPY  Sell     2.0 2021-09-01 00:17:52+00:00    110.02500   \n",
       "1   1  GBPCAD   Buy     1.0 2021-08-30 00:17:52+00:00      1.73389   \n",
       "\n",
       "                  Exit Time  Exit Price      Profit       Margin     Fee  \\\n",
       "0 2021-09-06 00:17:52+00:00   109.71200  552.355257  2000.000000  0.0100   \n",
       "1 2021-09-06 00:17:52+00:00     1.73626  165.225928  1375.480933  0.0003   \n",
       "\n",
       "   Closed  \n",
       "0   False  \n",
       "1   False  "
      ]
     },
     "execution_count": 2,
     "metadata": {},
     "output_type": "execute_result"
    }
   ],
   "source": [
    "sim.current_time = datetime(2021, 8, 30, 0, 17, 52, tzinfo=pytz.UTC)\n",
    "\n",
    "order1 = sim.create_order(\n",
    "    order_type=OrderType.Buy,\n",
    "    symbol='GBPCAD',\n",
    "    volume=1.,\n",
    "    fee=0.0003,\n",
    ")\n",
    "\n",
    "sim.tick(timedelta(days=2))\n",
    "\n",
    "order2 = sim.create_order(\n",
    "    order_type=OrderType.Sell,\n",
    "    symbol='USDJPY',\n",
    "    volume=2.,\n",
    "    fee=0.01,\n",
    ")\n",
    "\n",
    "sim.tick(timedelta(days=5))\n",
    "\n",
    "state = sim.get_state()\n",
    "\n",
    "print(\n",
    "    f\"balance: {state['balance']}, equity: {state['equity']}, margin: {state['margin']}\\n\"\n",
    "    f\"free_margin: {state['free_margin']}, margin_level: {state['margin_level']}\\n\"\n",
    ")\n",
    "state['orders']"
   ]
  },
  {
   "cell_type": "markdown",
   "metadata": {},
   "source": [
    "#### Close all orders"
   ]
  },
  {
   "cell_type": "code",
   "execution_count": 3,
   "metadata": {},
   "outputs": [
    {
     "name": "stdout",
     "output_type": "stream",
     "text": [
      "balance: 10717.58118589908, equity: 10717.58118589908, margin: 0.0\n",
      "free_margin: 10717.58118589908, margin_level: inf\n",
      "\n"
     ]
    },
    {
     "data": {
      "text/html": [
       "<div>\n",
       "<style scoped>\n",
       "    .dataframe tbody tr th:only-of-type {\n",
       "        vertical-align: middle;\n",
       "    }\n",
       "\n",
       "    .dataframe tbody tr th {\n",
       "        vertical-align: top;\n",
       "    }\n",
       "\n",
       "    .dataframe thead th {\n",
       "        text-align: right;\n",
       "    }\n",
       "</style>\n",
       "<table border=\"1\" class=\"dataframe\">\n",
       "  <thead>\n",
       "    <tr style=\"text-align: right;\">\n",
       "      <th></th>\n",
       "      <th>Id</th>\n",
       "      <th>Symbol</th>\n",
       "      <th>Type</th>\n",
       "      <th>Volume</th>\n",
       "      <th>Entry Time</th>\n",
       "      <th>Entry Price</th>\n",
       "      <th>Exit Time</th>\n",
       "      <th>Exit Price</th>\n",
       "      <th>Profit</th>\n",
       "      <th>Margin</th>\n",
       "      <th>Fee</th>\n",
       "      <th>Closed</th>\n",
       "    </tr>\n",
       "  </thead>\n",
       "  <tbody>\n",
       "    <tr>\n",
       "      <th>0</th>\n",
       "      <td>2</td>\n",
       "      <td>USDJPY</td>\n",
       "      <td>Sell</td>\n",
       "      <td>2.0</td>\n",
       "      <td>2021-09-01 00:17:52+00:00</td>\n",
       "      <td>110.02500</td>\n",
       "      <td>2021-09-06 00:17:52+00:00</td>\n",
       "      <td>109.71200</td>\n",
       "      <td>552.355257</td>\n",
       "      <td>2000.000000</td>\n",
       "      <td>0.0100</td>\n",
       "      <td>True</td>\n",
       "    </tr>\n",
       "    <tr>\n",
       "      <th>1</th>\n",
       "      <td>1</td>\n",
       "      <td>GBPCAD</td>\n",
       "      <td>Buy</td>\n",
       "      <td>1.0</td>\n",
       "      <td>2021-08-30 00:17:52+00:00</td>\n",
       "      <td>1.73389</td>\n",
       "      <td>2021-09-06 00:17:52+00:00</td>\n",
       "      <td>1.73626</td>\n",
       "      <td>165.225928</td>\n",
       "      <td>1375.480933</td>\n",
       "      <td>0.0003</td>\n",
       "      <td>True</td>\n",
       "    </tr>\n",
       "  </tbody>\n",
       "</table>\n",
       "</div>"
      ],
      "text/plain": [
       "   Id  Symbol  Type  Volume                Entry Time  Entry Price  \\\n",
       "0   2  USDJPY  Sell     2.0 2021-09-01 00:17:52+00:00    110.02500   \n",
       "1   1  GBPCAD   Buy     1.0 2021-08-30 00:17:52+00:00      1.73389   \n",
       "\n",
       "                  Exit Time  Exit Price      Profit       Margin     Fee  \\\n",
       "0 2021-09-06 00:17:52+00:00   109.71200  552.355257  2000.000000  0.0100   \n",
       "1 2021-09-06 00:17:52+00:00     1.73626  165.225928  1375.480933  0.0003   \n",
       "\n",
       "   Closed  \n",
       "0    True  \n",
       "1    True  "
      ]
     },
     "execution_count": 3,
     "metadata": {},
     "output_type": "execute_result"
    }
   ],
   "source": [
    "order1_profit = sim.close_order(order1)\n",
    "order2_profit = sim.close_order(order2)\n",
    "\n",
    "# alternatively:\n",
    "# for order in sim.orders:\n",
    "#     sim.close_order(order)\n",
    "\n",
    "state = sim.get_state()\n",
    "\n",
    "print(\n",
    "    f\"balance: {state['balance']}, equity: {state['equity']}, margin: {state['margin']}\\n\"\n",
    "    f\"free_margin: {state['free_margin']}, margin_level: {state['margin_level']}\\n\"\n",
    ")\n",
    "state['orders']"
   ]
  },
  {
   "cell_type": "markdown",
   "metadata": {},
   "source": [
    "### MtEnv"
   ]
  },
  {
   "cell_type": "markdown",
   "metadata": {},
   "source": [
    "#### Create an environment"
   ]
  },
  {
   "cell_type": "code",
   "execution_count": 4,
   "metadata": {},
   "outputs": [
    {
     "name": "stderr",
     "output_type": "stream",
     "text": [
      "/opt/homebrew/lib/python3.11/site-packages/gymnasium/utils/passive_env_checker.py:42: UserWarning: \u001b[33mWARN: A Box observation space has an unconventional shape (neither an image, nor a 1D vector). We recommend flattening the observation to have only a 1D vector or use a custom policy to properly process the data. Actual observation shape: (10, 6)\u001b[0m\n",
      "  logger.warn(\n",
      "/opt/homebrew/lib/python3.11/site-packages/gymnasium/utils/passive_env_checker.py:29: UserWarning: \u001b[33mWARN: It seems a Box observation space is an image but the `dtype` is not `np.uint8`, actual type: float64. If the Box observation space is not an image, we recommend flattening the observation to have only a 1D vector.\u001b[0m\n",
      "  logger.warn(\n",
      "/opt/homebrew/lib/python3.11/site-packages/gymnasium/utils/passive_env_checker.py:34: UserWarning: \u001b[33mWARN: It seems a Box observation space is an image but the lower and upper bounds are not [0, 255]. Actual lower bound: -10000000000.0, upper bound: 10000000000.0. Generally, CNN policies assume observations are within that range, so you may encounter an issue if the observation values are not.\u001b[0m\n",
      "  logger.warn(\n"
     ]
    }
   ],
   "source": [
    "import gymnasium as gym\n",
    "import gym_mtsim\n",
    "\n",
    "env = gym.make('forex-hedge-v0')\n",
    "# env = gym.make('stocks-hedge-v0')\n",
    "# env = gym.make('crypto-hedge-v0')\n",
    "# env = gym.make('mixed-hedge-v0')\n",
    "\n",
    "# env = gym.make('forex-unhedge-v0')\n",
    "# env = gym.make('stocks-unhedge-v0')\n",
    "# env = gym.make('crypto-unhedge-v0')\n",
    "# env = gym.make('mixed-unhedge-v0')"
   ]
  },
  {
   "cell_type": "markdown",
   "metadata": {},
   "source": [
    "* This will create a default environment. There are eight default environments, but it is also possible to create environments with custom parameters."
   ]
  },
  {
   "cell_type": "markdown",
   "metadata": {},
   "source": [
    "#### Create an environment with custom parameters"
   ]
  },
  {
   "cell_type": "code",
   "execution_count": 5,
   "metadata": {},
   "outputs": [],
   "source": [
    "import pytz\n",
    "from datetime import datetime, timedelta\n",
    "import numpy as np\n",
    "from gym_mtsim import MtEnv, MtSimulator, FOREX_DATA_PATH\n",
    "\n",
    "\n",
    "sim = MtSimulator(\n",
    "    unit='USD',\n",
    "    balance=10000.,\n",
    "    leverage=100.,\n",
    "    stop_out_level=0.2,\n",
    "    hedge=True,\n",
    "    symbols_filename=FOREX_DATA_PATH\n",
    ")\n",
    "\n",
    "env = MtEnv(\n",
    "    original_simulator=sim,\n",
    "    trading_symbols=['GBPCAD', 'EURUSD', 'USDJPY'],\n",
    "    window_size=10,\n",
    "    # time_points=[desired time points ...],\n",
    "    hold_threshold=0.5,\n",
    "    close_threshold=0.5,\n",
    "    fee=lambda symbol: {\n",
    "        'GBPCAD': max(0., np.random.normal(0.0007, 0.00005)),\n",
    "        'EURUSD': max(0., np.random.normal(0.0002, 0.00003)),\n",
    "        'USDJPY': max(0., np.random.normal(0.02, 0.003)),\n",
    "    }[symbol],\n",
    "    symbol_max_orders=2,\n",
    "    multiprocessing_processes=2\n",
    ")"
   ]
  },
  {
   "cell_type": "markdown",
   "metadata": {},
   "source": [
    "#### Print some information"
   ]
  },
  {
   "cell_type": "code",
   "execution_count": 6,
   "metadata": {},
   "outputs": [
    {
     "name": "stdout",
     "output_type": "stream",
     "text": [
      "env information:\n",
      "> prices[GBPCAD].shape: (88, 2)\n",
      "> prices[EURUSD].shape: (88, 2)\n",
      "> prices[USDJPY].shape: (88, 2)\n",
      "> signal_features.shape: (88, 6)\n",
      "> features_shape: (10, 6)\n"
     ]
    }
   ],
   "source": [
    "print(\"env information:\")\n",
    "\n",
    "for symbol in env.prices:\n",
    "    print(f\"> prices[{symbol}].shape:\", env.prices[symbol].shape)\n",
    "\n",
    "print(\"> signal_features.shape:\", env.signal_features.shape)\n",
    "print(\"> features_shape:\", env.features_shape)"
   ]
  },
  {
   "cell_type": "markdown",
   "metadata": {},
   "source": [
    "#### Trade randomly"
   ]
  },
  {
   "cell_type": "code",
   "execution_count": 7,
   "metadata": {},
   "outputs": [
    {
     "name": "stdout",
     "output_type": "stream",
     "text": [
      "balance: 6967.60110656924, equity: 6967.60110656924, margin: 0.0\n",
      "free_margin: 6967.60110656924, margin_level: inf\n",
      "step_reward: 0.0\n"
     ]
    }
   ],
   "source": [
    "observation = env.reset()\n",
    "\n",
    "while True:\n",
    "    action = env.action_space.sample()\n",
    "    observation, reward, terminated, truncated, info = env.step(action)\n",
    "\n",
    "    # End the episode when either truncated or terminated is true\n",
    "    #  - truncated: The episode duration reaches max number of timesteps\n",
    "    #  - terminated: Any of the state space values is no longer finite.\n",
    "    done = terminated or truncated\n",
    "\n",
    "    if done:\n",
    "        # print(info)\n",
    "        print(\n",
    "            f\"balance: {info['balance']}, equity: {info['equity']}, margin: {info['margin']}\\n\"\n",
    "            f\"free_margin: {info['free_margin']}, margin_level: {info['margin_level']}\\n\"\n",
    "            f\"step_reward: {info['step_reward']}\"\n",
    "        )\n",
    "        break"
   ]
  },
  {
   "cell_type": "markdown",
   "metadata": {},
   "source": [
    "#### Render in *human* mode"
   ]
  },
  {
   "cell_type": "code",
   "execution_count": 8,
   "metadata": {},
   "outputs": [
    {
     "name": "stdout",
     "output_type": "stream",
     "text": [
      "balance: 6967.60110656924, equity: 6967.60110656924, margin: 0.0\n",
      "free_margin: 6967.60110656924, margin_level: inf\n",
      "\n"
     ]
    },
    {
     "data": {
      "text/html": [
       "<div>\n",
       "<style scoped>\n",
       "    .dataframe tbody tr th:only-of-type {\n",
       "        vertical-align: middle;\n",
       "    }\n",
       "\n",
       "    .dataframe tbody tr th {\n",
       "        vertical-align: top;\n",
       "    }\n",
       "\n",
       "    .dataframe thead th {\n",
       "        text-align: right;\n",
       "    }\n",
       "</style>\n",
       "<table border=\"1\" class=\"dataframe\">\n",
       "  <thead>\n",
       "    <tr style=\"text-align: right;\">\n",
       "      <th></th>\n",
       "      <th>Id</th>\n",
       "      <th>Symbol</th>\n",
       "      <th>Type</th>\n",
       "      <th>Volume</th>\n",
       "      <th>Entry Time</th>\n",
       "      <th>Entry Price</th>\n",
       "      <th>Exit Time</th>\n",
       "      <th>Exit Price</th>\n",
       "      <th>Profit</th>\n",
       "      <th>Margin</th>\n",
       "      <th>Fee</th>\n",
       "      <th>Closed</th>\n",
       "    </tr>\n",
       "  </thead>\n",
       "  <tbody>\n",
       "    <tr>\n",
       "      <th>0</th>\n",
       "      <td>6</td>\n",
       "      <td>EURUSD</td>\n",
       "      <td>Buy</td>\n",
       "      <td>2.19</td>\n",
       "      <td>2021-08-03 00:00:00+00:00</td>\n",
       "      <td>1.18637</td>\n",
       "      <td>2021-08-05 00:00:00+00:00</td>\n",
       "      <td>1.18327</td>\n",
       "      <td>-717.961563</td>\n",
       "      <td>2598.150300</td>\n",
       "      <td>0.000178</td>\n",
       "      <td>True</td>\n",
       "    </tr>\n",
       "    <tr>\n",
       "      <th>1</th>\n",
       "      <td>5</td>\n",
       "      <td>USDJPY</td>\n",
       "      <td>Sell</td>\n",
       "      <td>4.89</td>\n",
       "      <td>2021-07-21 00:00:00+00:00</td>\n",
       "      <td>110.28600</td>\n",
       "      <td>2021-07-22 00:00:00+00:00</td>\n",
       "      <td>110.14900</td>\n",
       "      <td>518.740293</td>\n",
       "      <td>4890.000000</td>\n",
       "      <td>0.020152</td>\n",
       "      <td>True</td>\n",
       "    </tr>\n",
       "    <tr>\n",
       "      <th>2</th>\n",
       "      <td>4</td>\n",
       "      <td>GBPCAD</td>\n",
       "      <td>Buy</td>\n",
       "      <td>4.65</td>\n",
       "      <td>2021-07-15 00:00:00+00:00</td>\n",
       "      <td>1.74070</td>\n",
       "      <td>2021-07-19 00:00:00+00:00</td>\n",
       "      <td>1.74244</td>\n",
       "      <td>392.211585</td>\n",
       "      <td>6427.429665</td>\n",
       "      <td>0.000665</td>\n",
       "      <td>True</td>\n",
       "    </tr>\n",
       "    <tr>\n",
       "      <th>3</th>\n",
       "      <td>3</td>\n",
       "      <td>USDJPY</td>\n",
       "      <td>Buy</td>\n",
       "      <td>0.34</td>\n",
       "      <td>2021-06-28 00:00:00+00:00</td>\n",
       "      <td>110.61400</td>\n",
       "      <td>2021-06-30 00:00:00+00:00</td>\n",
       "      <td>111.10100</td>\n",
       "      <td>142.868027</td>\n",
       "      <td>340.000000</td>\n",
       "      <td>0.020154</td>\n",
       "      <td>True</td>\n",
       "    </tr>\n",
       "    <tr>\n",
       "      <th>4</th>\n",
       "      <td>2</td>\n",
       "      <td>EURUSD</td>\n",
       "      <td>Buy</td>\n",
       "      <td>8.50</td>\n",
       "      <td>2021-05-25 00:00:00+00:00</td>\n",
       "      <td>1.22497</td>\n",
       "      <td>2021-05-26 00:00:00+00:00</td>\n",
       "      <td>1.21922</td>\n",
       "      <td>-5039.716745</td>\n",
       "      <td>10412.245000</td>\n",
       "      <td>0.000179</td>\n",
       "      <td>True</td>\n",
       "    </tr>\n",
       "    <tr>\n",
       "      <th>5</th>\n",
       "      <td>1</td>\n",
       "      <td>EURUSD</td>\n",
       "      <td>Sell</td>\n",
       "      <td>3.67</td>\n",
       "      <td>2021-05-18 00:00:00+00:00</td>\n",
       "      <td>1.22219</td>\n",
       "      <td>2021-05-19 00:00:00+00:00</td>\n",
       "      <td>1.21744</td>\n",
       "      <td>1671.459510</td>\n",
       "      <td>4485.437300</td>\n",
       "      <td>0.000196</td>\n",
       "      <td>True</td>\n",
       "    </tr>\n",
       "  </tbody>\n",
       "</table>\n",
       "</div>"
      ],
      "text/plain": [
       "   Id  Symbol  Type  Volume                Entry Time  Entry Price  \\\n",
       "0   6  EURUSD   Buy    2.19 2021-08-03 00:00:00+00:00      1.18637   \n",
       "1   5  USDJPY  Sell    4.89 2021-07-21 00:00:00+00:00    110.28600   \n",
       "2   4  GBPCAD   Buy    4.65 2021-07-15 00:00:00+00:00      1.74070   \n",
       "3   3  USDJPY   Buy    0.34 2021-06-28 00:00:00+00:00    110.61400   \n",
       "4   2  EURUSD   Buy    8.50 2021-05-25 00:00:00+00:00      1.22497   \n",
       "5   1  EURUSD  Sell    3.67 2021-05-18 00:00:00+00:00      1.22219   \n",
       "\n",
       "                  Exit Time  Exit Price       Profit        Margin       Fee  \\\n",
       "0 2021-08-05 00:00:00+00:00     1.18327  -717.961563   2598.150300  0.000178   \n",
       "1 2021-07-22 00:00:00+00:00   110.14900   518.740293   4890.000000  0.020152   \n",
       "2 2021-07-19 00:00:00+00:00     1.74244   392.211585   6427.429665  0.000665   \n",
       "3 2021-06-30 00:00:00+00:00   111.10100   142.868027    340.000000  0.020154   \n",
       "4 2021-05-26 00:00:00+00:00     1.21922 -5039.716745  10412.245000  0.000179   \n",
       "5 2021-05-19 00:00:00+00:00     1.21744  1671.459510   4485.437300  0.000196   \n",
       "\n",
       "   Closed  \n",
       "0    True  \n",
       "1    True  \n",
       "2    True  \n",
       "3    True  \n",
       "4    True  \n",
       "5    True  "
      ]
     },
     "execution_count": 8,
     "metadata": {},
     "output_type": "execute_result"
    }
   ],
   "source": [
    "state = env.render()\n",
    "\n",
    "print(\n",
    "    f\"balance: {state['balance']}, equity: {state['equity']}, margin: {state['margin']}\\n\"\n",
    "    f\"free_margin: {state['free_margin']}, margin_level: {state['margin_level']}\\n\"\n",
    ")\n",
    "state['orders']"
   ]
  },
  {
   "cell_type": "markdown",
   "metadata": {},
   "source": [
    "#### Render in *simple_figure* mode\n",
    "\n",
    "* Each *symbol* is illustrated with a separate color.\n",
    "* The **green**/**red** triangles show successful **buy**/**sell** actions.\n",
    "* The **gray** triangles indicate that the **buy**/**sell** action has encountered an **error**.\n",
    "* The **black** vertical bars specify **close** actions."
   ]
  },
  {
   "cell_type": "code",
   "execution_count": 9,
   "metadata": {},
   "outputs": [
    {
     "name": "stderr",
     "output_type": "stream",
     "text": [
      "/opt/homebrew/lib/python3.11/site-packages/matplotlib/axis.py:125: FutureWarning: elementwise comparison failed; returning scalar instead, but in the future will perform elementwise comparison\n",
      "  if labelcolor == 'inherit':\n"
     ]
    },
    {
     "data": {
      "image/png": "[encoded data removed]",
      "text/plain": [
       "<Figure size 1400x600 with 3 Axes>"
      ]
     },
     "metadata": {},
     "output_type": "display_data"
    }
   ],
   "source": [
    "env.render('simple_figure')"
   ]
  },
  {
   "cell_type": "markdown",
   "metadata": {},
   "source": [
    "#### Render in *advanced_figure* mode\n",
    "\n",
    "* Clicking on a symbol name will hide/show its plot.\n",
    "* Hovering over points and markers will display their detail.\n",
    "* The size of triangles indicates their relative volume."
   ]
  },
  {
   "cell_type": "code",
   "execution_count": 10,
   "metadata": {},
   "outputs": [
    {
     "data": {
      "application/vnd.plotly.v1+json": {
       "config": {
        "plotlyServerURL": "https://plot.ly"
       },
       "data": [
        {
         "hovertext": [
          "balance: 10000.000000 USD<br>equity: 10000.000000<br>margin: 0.000000<br>free margin: 10000.000000<br>margin level: inf",
          "balance: 10000.000000 USD<br>equity: 10000.000000<br>margin: 0.000000<br>free margin: 10000.000000<br>margin level: inf",
          "balance: 10000.000000 USD<br>equity: 10000.000000<br>margin: 0.000000<br>free margin: 10000.000000<br>margin level: inf",
          "balance: 10000.000000 USD<br>equity: 10000.000000<br>margin: 0.000000<br>free margin: 10000.000000<br>margin level: inf",
          "balance: 10000.000000 USD<br>equity: 10000.000000<br>margin: 0.000000<br>free margin: 10000.000000<br>margin level: inf",
          "balance: 10000.000000 USD<br>equity: 10000.000000<br>margin: 0.000000<br>free margin: 10000.000000<br>margin level: inf",
          "balance: 10000.000000 USD<br>equity: 10000.000000<br>margin: 0.000000<br>free margin: 10000.000000<br>margin level: inf",
          "balance: 10000.000000 USD<br>equity: 10000.000000<br>margin: 0.000000<br>free margin: 10000.000000<br>margin level: inf",
          "balance: 10000.000000 USD<br>equity: 10000.000000<br>margin: 0.000000<br>free margin: 10000.000000<br>margin level: inf",
          "balance: 10000.000000 USD<br>equity: 10000.000000<br>margin: 0.000000<br>free margin: 10000.000000<br>margin level: inf",
          "balance: 10000.000000 USD<br>equity: 11671.459510<br>margin: 4485.437300<br>free margin: 7186.022210<br>margin level: 2.602078",
          "balance: 11671.459510 USD<br>equity: 11671.459510<br>margin: 0.000000<br>free margin: 11671.459510<br>margin level: inf",
          "balance: 11671.459510 USD<br>equity: 11671.459510<br>margin: 0.000000<br>free margin: 11671.459510<br>margin level: inf",
          "balance: 11671.459510 USD<br>equity: 11671.459510<br>margin: 0.000000<br>free margin: 11671.459510<br>margin level: inf",
          "balance: 11671.459510 USD<br>equity: 11671.459510<br>margin: 0.000000<br>free margin: 11671.459510<br>margin level: inf",
          "balance: 11671.459510 USD<br>equity: 6631.742765<br>margin: 10412.245000<br>free margin: -3780.502235<br>margin level: 0.636918",
          "balance: 6631.742765 USD<br>equity: 6631.742765<br>margin: 0.000000<br>free margin: 6631.742765<br>margin level: inf",
          "balance: 6631.742765 USD<br>equity: 6631.742765<br>margin: 0.000000<br>free margin: 6631.742765<br>margin level: inf",
          "balance: 6631.742765 USD<br>equity: 6631.742765<br>margin: 0.000000<br>free margin: 6631.742765<br>margin level: inf",
          "balance: 6631.742765 USD<br>equity: 6631.742765<br>margin: 0.000000<br>free margin: 6631.742765<br>margin level: inf",
          "balance: 6631.742765 USD<br>equity: 6631.742765<br>margin: 0.000000<br>free margin: 6631.742765<br>margin level: inf",
          "balance: 6631.742765 USD<br>equity: 6631.742765<br>margin: 0.000000<br>free margin: 6631.742765<br>margin level: inf",
          "balance: 6631.742765 USD<br>equity: 6631.742765<br>margin: 0.000000<br>free margin: 6631.742765<br>margin level: inf",
          "balance: 6631.742765 USD<br>equity: 6631.742765<br>margin: 0.000000<br>free margin: 6631.742765<br>margin level: inf",
          "balance: 6631.742765 USD<br>equity: 6631.742765<br>margin: 0.000000<br>free margin: 6631.742765<br>margin level: inf",
          "balance: 6631.742765 USD<br>equity: 6631.742765<br>margin: 0.000000<br>free margin: 6631.742765<br>margin level: inf",
          "balance: 6631.742765 USD<br>equity: 6631.742765<br>margin: 0.000000<br>free margin: 6631.742765<br>margin level: inf",
          "balance: 6631.742765 USD<br>equity: 6631.742765<br>margin: 0.000000<br>free margin: 6631.742765<br>margin level: inf",
          "balance: 6631.742765 USD<br>equity: 6631.742765<br>margin: 0.000000<br>free margin: 6631.742765<br>margin level: inf",
          "balance: 6631.742765 USD<br>equity: 6631.742765<br>margin: 0.000000<br>free margin: 6631.742765<br>margin level: inf",
          "balance: 6631.742765 USD<br>equity: 6631.742765<br>margin: 0.000000<br>free margin: 6631.742765<br>margin level: inf",
          "balance: 6631.742765 USD<br>equity: 6631.742765<br>margin: 0.000000<br>free margin: 6631.742765<br>margin level: inf",
          "balance: 6631.742765 USD<br>equity: 6631.742765<br>margin: 0.000000<br>free margin: 6631.742765<br>margin level: inf",
          "balance: 6631.742765 USD<br>equity: 6631.742765<br>margin: 0.000000<br>free margin: 6631.742765<br>margin level: inf",
          "balance: 6631.742765 USD<br>equity: 6631.742765<br>margin: 0.000000<br>free margin: 6631.742765<br>margin level: inf",
          "balance: 6631.742765 USD<br>equity: 6631.742765<br>margin: 0.000000<br>free margin: 6631.742765<br>margin level: inf",
          "balance: 6631.742765 USD<br>equity: 6631.742765<br>margin: 0.000000<br>free margin: 6631.742765<br>margin level: inf",
          "balance: 6631.742765 USD<br>equity: 6631.742765<br>margin: 0.000000<br>free margin: 6631.742765<br>margin level: inf",
          "balance: 6631.742765 USD<br>equity: 6631.742765<br>margin: 0.000000<br>free margin: 6631.742765<br>margin level: inf",
          "balance: 6631.742765 USD<br>equity: 6602.167240<br>margin: 340.000000<br>free margin: 6262.167240<br>margin level: 19.418139",
          "balance: 6631.742765 USD<br>equity: 6774.610791<br>margin: 340.000000<br>free margin: 6434.610791<br>margin level: 19.925326",
          "balance: 6774.610791 USD<br>equity: 6774.610791<br>margin: 0.000000<br>free margin: 6774.610791<br>margin level: inf",
          "balance: 6774.610791 USD<br>equity: 6774.610791<br>margin: 0.000000<br>free margin: 6774.610791<br>margin level: inf",
          "balance: 6774.610791 USD<br>equity: 6774.610791<br>margin: 0.000000<br>free margin: 6774.610791<br>margin level: inf",
          "balance: 6774.610791 USD<br>equity: 6774.610791<br>margin: 0.000000<br>free margin: 6774.610791<br>margin level: inf",
          "balance: 6774.610791 USD<br>equity: 6774.610791<br>margin: 0.000000<br>free margin: 6774.610791<br>margin level: inf",
          "balance: 6774.610791 USD<br>equity: 6774.610791<br>margin: 0.000000<br>free margin: 6774.610791<br>margin level: inf",
          "balance: 6774.610791 USD<br>equity: 6774.610791<br>margin: 0.000000<br>free margin: 6774.610791<br>margin level: inf",
          "balance: 6774.610791 USD<br>equity: 6774.610791<br>margin: 0.000000<br>free margin: 6774.610791<br>margin level: inf",
          "balance: 6774.610791 USD<br>equity: 6774.610791<br>margin: 0.000000<br>free margin: 6774.610791<br>margin level: inf",
          "balance: 6774.610791 USD<br>equity: 6774.610791<br>margin: 0.000000<br>free margin: 6774.610791<br>margin level: inf",
          "balance: 6774.610791 USD<br>equity: 6774.610791<br>margin: 0.000000<br>free margin: 6774.610791<br>margin level: inf",
          "balance: 6774.610791 USD<br>equity: 5106.997836<br>margin: 6427.429665<br>free margin: -1320.431829<br>margin level: 0.794563",
          "balance: 6774.610791 USD<br>equity: 7166.822376<br>margin: 6427.429665<br>free margin: 739.392711<br>margin level: 1.115037",
          "balance: 7166.822376 USD<br>equity: 7166.822376<br>margin: 0.000000<br>free margin: 7166.822376<br>margin level: inf",
          "balance: 7166.822376 USD<br>equity: 7166.822376<br>margin: 0.000000<br>free margin: 7166.822376<br>margin level: inf",
          "balance: 7166.822376 USD<br>equity: 7685.562670<br>margin: 4890.000000<br>free margin: 2795.562670<br>margin level: 1.571690",
          "balance: 7685.562670 USD<br>equity: 7685.562670<br>margin: 0.000000<br>free margin: 7685.562670<br>margin level: inf",
          "balance: 7685.562670 USD<br>equity: 7685.562670<br>margin: 0.000000<br>free margin: 7685.562670<br>margin level: inf",
          "balance: 7685.562670 USD<br>equity: 7685.562670<br>margin: 0.000000<br>free margin: 7685.562670<br>margin level: inf",
          "balance: 7685.562670 USD<br>equity: 7685.562670<br>margin: 0.000000<br>free margin: 7685.562670<br>margin level: inf",
          "balance: 7685.562670 USD<br>equity: 7685.562670<br>margin: 0.000000<br>free margin: 7685.562670<br>margin level: inf",
          "balance: 7685.562670 USD<br>equity: 7685.562670<br>margin: 0.000000<br>free margin: 7685.562670<br>margin level: inf",
          "balance: 7685.562670 USD<br>equity: 7685.562670<br>margin: 0.000000<br>free margin: 7685.562670<br>margin level: inf",
          "balance: 7685.562670 USD<br>equity: 7685.562670<br>margin: 0.000000<br>free margin: 7685.562670<br>margin level: inf",
          "balance: 7685.562670 USD<br>equity: 7055.201107<br>margin: 2598.150300<br>free margin: 4457.050807<br>margin level: 2.715471",
          "balance: 7685.562670 USD<br>equity: 6967.601107<br>margin: 2598.150300<br>free margin: 4369.450807<br>margin level: 2.681754",
          "balance: 6967.601107 USD<br>equity: 6967.601107<br>margin: 0.000000<br>free margin: 6967.601107<br>margin level: inf",
          "balance: 6967.601107 USD<br>equity: 6967.601107<br>margin: 0.000000<br>free margin: 6967.601107<br>margin level: inf",
          "balance: 6967.601107 USD<br>equity: 6967.601107<br>margin: 0.000000<br>free margin: 6967.601107<br>margin level: inf",
          "balance: 6967.601107 USD<br>equity: 6967.601107<br>margin: 0.000000<br>free margin: 6967.601107<br>margin level: inf",
          "balance: 6967.601107 USD<br>equity: 6967.601107<br>margin: 0.000000<br>free margin: 6967.601107<br>margin level: inf",
          "balance: 6967.601107 USD<br>equity: 6967.601107<br>margin: 0.000000<br>free margin: 6967.601107<br>margin level: inf",
          "balance: 6967.601107 USD<br>equity: 6967.601107<br>margin: 0.000000<br>free margin: 6967.601107<br>margin level: inf",
          "balance: 6967.601107 USD<br>equity: 6967.601107<br>margin: 0.000000<br>free margin: 6967.601107<br>margin level: inf",
          "balance: 6967.601107 USD<br>equity: 6967.601107<br>margin: 0.000000<br>free margin: 6967.601107<br>margin level: inf",
          "balance: 6967.601107 USD<br>equity: 6967.601107<br>margin: 0.000000<br>free margin: 6967.601107<br>margin level: inf",
          "balance: 6967.601107 USD<br>equity: 6967.601107<br>margin: 0.000000<br>free margin: 6967.601107<br>margin level: inf",
          "balance: 6967.601107 USD<br>equity: 6967.601107<br>margin: 0.000000<br>free margin: 6967.601107<br>margin level: inf",
          "balance: 6967.601107 USD<br>equity: 6967.601107<br>margin: 0.000000<br>free margin: 6967.601107<br>margin level: inf",
          "balance: 6967.601107 USD<br>equity: 6967.601107<br>margin: 0.000000<br>free margin: 6967.601107<br>margin level: inf",
          "balance: 6967.601107 USD<br>equity: 6967.601107<br>margin: 0.000000<br>free margin: 6967.601107<br>margin level: inf",
          "balance: 6967.601107 USD<br>equity: 6967.601107<br>margin: 0.000000<br>free margin: 6967.601107<br>margin level: inf",
          "balance: 6967.601107 USD<br>equity: 6967.601107<br>margin: 0.000000<br>free margin: 6967.601107<br>margin level: inf",
          "balance: 6967.601107 USD<br>equity: 6967.601107<br>margin: 0.000000<br>free margin: 6967.601107<br>margin level: inf",
          "balance: 6967.601107 USD<br>equity: 6967.601107<br>margin: 0.000000<br>free margin: 6967.601107<br>margin level: inf",
          "balance: 6967.601107 USD<br>equity: 6967.601107<br>margin: 0.000000<br>free margin: 6967.601107<br>margin level: inf",
          "balance: 6967.601107 USD<br>equity: 6967.601107<br>margin: 0.000000<br>free margin: 6967.601107<br>margin level: inf"
         ],
         "legendgroup": "g1",
         "line": {
          "color": "rgba(0.12156862745098039, 0.4666666666666667, 0.7058823529411765, 1.0)"
         },
         "mode": "lines+markers",
         "name": "GBPCAD",
         "opacity": 1,
         "type": "scatter",
         "x": [
          "2021-05-05T00:00:00+00:00",
          "2021-05-06T00:00:00+00:00",
          "2021-05-07T00:00:00+00:00",
          "2021-05-10T00:00:00+00:00",
          "2021-05-11T00:00:00+00:00",
          "2021-05-12T00:00:00+00:00",
          "2021-05-13T00:00:00+00:00",
          "2021-05-14T00:00:00+00:00",
          "2021-05-17T00:00:00+00:00",
          "2021-05-18T00:00:00+00:00",
          "2021-05-19T00:00:00+00:00",
          "2021-05-20T00:00:00+00:00",
          "2021-05-21T00:00:00+00:00",
          "2021-05-24T00:00:00+00:00",
          "2021-05-25T00:00:00+00:00",
          "2021-05-26T00:00:00+00:00",
          "2021-05-27T00:00:00+00:00",
          "2021-05-28T00:00:00+00:00",
          "2021-05-31T00:00:00+00:00",
          "2021-06-01T00:00:00+00:00",
          "2021-06-02T00:00:00+00:00",
          "2021-06-03T00:00:00+00:00",
          "2021-06-04T00:00:00+00:00",
          "2021-06-07T00:00:00+00:00",
          "2021-06-08T00:00:00+00:00",
          "2021-06-09T00:00:00+00:00",
          "2021-06-10T00:00:00+00:00",
          "2021-06-11T00:00:00+00:00",
          "2021-06-14T00:00:00+00:00",
          "2021-06-15T00:00:00+00:00",
          "2021-06-16T00:00:00+00:00",
          "2021-06-17T00:00:00+00:00",
          "2021-06-18T00:00:00+00:00",
          "2021-06-21T00:00:00+00:00",
          "2021-06-22T00:00:00+00:00",
          "2021-06-23T00:00:00+00:00",
          "2021-06-24T00:00:00+00:00",
          "2021-06-25T00:00:00+00:00",
          "2021-06-28T00:00:00+00:00",
          "2021-06-29T00:00:00+00:00",
          "2021-06-30T00:00:00+00:00",
          "2021-07-01T00:00:00+00:00",
          "2021-07-02T00:00:00+00:00",
          "2021-07-05T00:00:00+00:00",
          "2021-07-06T00:00:00+00:00",
          "2021-07-07T00:00:00+00:00",
          "2021-07-08T00:00:00+00:00",
          "2021-07-09T00:00:00+00:00",
          "2021-07-12T00:00:00+00:00",
          "2021-07-13T00:00:00+00:00",
          "2021-07-14T00:00:00+00:00",
          "2021-07-15T00:00:00+00:00",
          "2021-07-16T00:00:00+00:00",
          "2021-07-19T00:00:00+00:00",
          "2021-07-20T00:00:00+00:00",
          "2021-07-21T00:00:00+00:00",
          "2021-07-22T00:00:00+00:00",
          "2021-07-23T00:00:00+00:00",
          "2021-07-26T00:00:00+00:00",
          "2021-07-27T00:00:00+00:00",
          "2021-07-28T00:00:00+00:00",
          "2021-07-29T00:00:00+00:00",
          "2021-07-30T00:00:00+00:00",
          "2021-08-02T00:00:00+00:00",
          "2021-08-03T00:00:00+00:00",
          "2021-08-04T00:00:00+00:00",
          "2021-08-05T00:00:00+00:00",
          "2021-08-06T00:00:00+00:00",
          "2021-08-09T00:00:00+00:00",
          "2021-08-10T00:00:00+00:00",
          "2021-08-11T00:00:00+00:00",
          "2021-08-12T00:00:00+00:00",
          "2021-08-13T00:00:00+00:00",
          "2021-08-16T00:00:00+00:00",
          "2021-08-17T00:00:00+00:00",
          "2021-08-18T00:00:00+00:00",
          "2021-08-19T00:00:00+00:00",
          "2021-08-20T00:00:00+00:00",
          "2021-08-23T00:00:00+00:00",
          "2021-08-24T00:00:00+00:00",
          "2021-08-25T00:00:00+00:00",
          "2021-08-26T00:00:00+00:00",
          "2021-08-27T00:00:00+00:00",
          "2021-08-30T00:00:00+00:00",
          "2021-08-31T00:00:00+00:00",
          "2021-09-01T00:00:00+00:00",
          "2021-09-02T00:00:00+00:00",
          "2021-09-03T00:00:00+00:00"
         ],
         "y": [
          1.70525,
          1.68648,
          1.69619,
          1.7070699999999999,
          1.71108,
          1.70468,
          1.7082899999999999,
          1.70635,
          1.7059199999999999,
          1.71128,
          1.71211,
          1.7107,
          1.70726,
          1.7044000000000001,
          1.7066,
          1.71089,
          1.71345,
          1.71356,
          1.7132399999999999,
          1.70755,
          1.70462,
          1.7068400000000001,
          1.70999,
          1.71255,
          1.7139199999999999,
          1.70927,
          1.71433,
          1.71691,
          1.71341,
          1.71492,
          1.71638,
          1.71949,
          1.72017,
          1.72173,
          1.7158099999999998,
          1.7177,
          1.7149299999999998,
          1.70721,
          1.71244,
          1.71535,
          1.71437,
          1.71059,
          1.70511,
          1.70716,
          1.71879,
          1.72167,
          1.72692,
          1.7307000000000001,
          1.72832,
          1.72767,
          1.73236,
          1.7407,
          1.73684,
          1.74244,
          1.7273800000000001,
          1.72183,
          1.72851,
          1.72728,
          1.73336,
          1.7481900000000001,
          1.7405300000000001,
          1.73688,
          1.73335,
          1.73577,
          1.7441499999999999,
          1.7412999999999998,
          1.7408299999999999,
          1.7419799999999999,
          1.7408000000000001,
          1.7316500000000001,
          1.73282,
          1.72889,
          1.7357200000000002,
          1.7402199999999999,
          1.7349700000000001,
          1.74061,
          1.74874,
          1.7468,
          1.73506,
          1.72784,
          1.73259,
          1.7377,
          1.7353399999999999,
          1.7338900000000002,
          1.73501,
          1.7372800000000002,
          1.73603,
          1.7362600000000001
         ],
         "yaxis": "y"
        },
        {
         "hovertext": [
          "order id: <br>hold probability: 0.0000<br>hold: False<br>volume: -87.203757<br>modified volume: 35.0000<br>fee: nan<br>margin: nan<br>error: low free margin (order margin=49647.13488780763, order profit=-2222.9368156863698, free margin=10000.0)",
          "order id: <br>hold probability: 0.0000<br>hold: False<br>volume: 61.442828<br>modified volume: 35.0000<br>fee: nan<br>margin: nan<br>error: low free margin (order margin=49397.69514215763, order profit=-2301.9819245313306, free margin=7186.022209553254)",
          "order id: <br>hold probability: 0.0003<br>hold: False<br>volume: 26.688583<br>modified volume: 26.6900<br>fee: nan<br>margin: nan<br>error: low free margin (order margin=37862.347107163885, order profit=-1751.5546237013762, free margin=11671.459509553253)",
          "order id: <br>hold probability: 0.0000<br>hold: False<br>volume: 74.542138<br>modified volume: 35.0000<br>fee: nan<br>margin: nan<br>error: low free margin (order margin=49526.81309573146, order profit=-2128.852672434128, free margin=11671.459509553253)",
          "order id: <br>hold probability: 0.0000<br>hold: False<br>volume: 41.531289<br>modified volume: 35.0000<br>fee: nan<br>margin: nan<br>error: low free margin (order margin=49538.69405990749, order profit=-2028.1976910547285, free margin=11671.459509553253)",
          "order id: <br>hold probability: 0.0000<br>hold: False<br>volume: 68.989207<br>modified volume: 35.0000<br>fee: nan<br>margin: nan<br>error: low free margin (order margin=49701.85063939467, order profit=-2150.653347167916, free margin=6631.742764748329)",
          "order id: <br>hold probability: 0.0000<br>hold: False<br>volume: -97.289130<br>modified volume: 35.0000<br>fee: nan<br>margin: nan<br>error: low free margin (order margin=49658.1246118816, order profit=-2168.6856265744946, free margin=6631.742764748329)",
          "order id: <br>hold probability: 0.0000<br>hold: False<br>volume: -93.590068<br>modified volume: 35.0000<br>fee: nan<br>margin: nan<br>error: low free margin (order margin=49517.57765570497, order profit=-1765.8358415182872, free margin=6631.742764748329)",
          "order id: <br>hold probability: 0.0000<br>hold: False<br>volume: 87.176584<br>modified volume: 35.0000<br>fee: nan<br>margin: nan<br>error: low free margin (order margin=49584.61806969573, order profit=-1878.216608114887, free margin=6631.742764748329)",
          "order id: <br>hold probability: 0.0000<br>hold: False<br>volume: 63.039694<br>modified volume: 35.0000<br>fee: nan<br>margin: nan<br>error: low free margin (order margin=49353.050518402255, order profit=-2334.636966464384, free margin=6631.742764748329)",
          "order id: <br>hold probability: 0.0055<br>hold: False<br>volume: 44.955916<br>modified volume: 35.0000<br>fee: nan<br>margin: nan<br>error: low free margin (order margin=49624.33560180816, order profit=-1790.6895572491562, free margin=6631.742764748329)",
          "order id: <br>hold probability: 0.0000<br>hold: False<br>volume: 62.365777<br>modified volume: 35.0000<br>fee: nan<br>margin: nan<br>error: low free margin (order margin=49543.851534948255, order profit=-2042.4860732730385, free margin=6631.742764748329)",
          "order id: <br>hold probability: 0.1588<br>hold: False<br>volume: -47.504911<br>modified volume: 35.0000<br>fee: nan<br>margin: nan<br>error: low free margin (order margin=49408.21096447036, order profit=-1989.347379907679, free margin=6631.742764748329)",
          "order id: <br>hold probability: 0.0000<br>hold: False<br>volume: -97.691191<br>modified volume: 35.0000<br>fee: nan<br>margin: nan<br>error: low free margin (order margin=49617.58236305902, order profit=-2017.5469053179727, free margin=6631.742764748329)",
          "order id: <br>hold probability: 0.0000<br>hold: False<br>volume: -97.449411<br>modified volume: 35.0000<br>fee: nan<br>margin: nan<br>error: low free margin (order margin=49394.48613725474, order profit=-1983.46366979519, free margin=6631.742764748329)",
          "order id: <br>hold probability: 0.0000<br>hold: False<br>volume: -8.175492<br>modified volume: 8.1800<br>fee: nan<br>margin: nan<br>error: low free margin (order margin=11514.820810007717, order profit=-499.22505218369037, free margin=6631.742764748329)",
          "order id: <br>hold probability: 0.0000<br>hold: False<br>volume: 21.508841<br>modified volume: 21.5100<br>fee: nan<br>margin: nan<br>error: low free margin (order margin=30075.380266545017, order profit=-1265.5765879957166, free margin=6631.742764748329)",
          "order id: <br>hold probability: 0.0000<br>hold: False<br>volume: -64.185712<br>modified volume: 35.0000<br>fee: nan<br>margin: nan<br>error: low free margin (order margin=48751.33486505728, order profit=-2052.159889041593, free margin=6631.742764748329)",
          "order id: <br>hold probability: 0.0000<br>hold: False<br>volume: -78.993924<br>modified volume: 35.0000<br>fee: nan<br>margin: nan<br>error: low free margin (order margin=48581.433237957055, order profit=-2067.8049100068306, free margin=6631.742764748329)",
          "order id: <br>hold probability: 0.0000<br>hold: False<br>volume: 72.610233<br>modified volume: 35.0000<br>fee: nan<br>margin: nan<br>error: low free margin (order margin=48401.185770750984, order profit=-1861.2898155060486, free margin=6434.610791298202)",
          "order id: <br>hold probability: 0.0000<br>hold: False<br>volume: 71.373479<br>modified volume: 35.0000<br>fee: nan<br>margin: nan<br>error: low free margin (order margin=48411.54663594919, order profit=-1844.82514014033, free margin=6774.610791298202)",
          "order id: <br>hold probability: 0.0000<br>hold: False<br>volume: -9.365154<br>modified volume: 9.3700<br>fee: nan<br>margin: nan<br>error: low free margin (order margin=12961.429671104343, order profit=-548.9226088479586, free margin=6774.610791298202)",
          "order id: <br>hold probability: 0.0000<br>hold: False<br>volume: 99.791329<br>modified volume: 35.0000<br>fee: nan<br>margin: nan<br>error: low free margin (order margin=48271.320130953914, order profit=-2301.4444700194467, free margin=6774.610791298202)",
          "order id: <br>hold probability: 0.0000<br>hold: False<br>volume: -78.203061<br>modified volume: 35.0000<br>fee: nan<br>margin: nan<br>error: low free margin (order margin=48473.505804099645, order profit=-2177.128994887818, free margin=6774.610791298202)",
          "order id: 4<br>hold probability: 0.0000<br>hold: False<br>volume: 4.649300<br>modified volume: 4.6500<br>fee: 0.000665<br>margin: 6427.429665<br>error: ",
          "order id: <br>hold probability: 0.0000<br>hold: False<br>volume: 26.895391<br>modified volume: 26.9000<br>fee: nan<br>margin: nan<br>error: low free margin (order margin=37028.72676837726, order profit=-1471.2751884455477, free margin=-1320.4318289382863)",
          "order id: <br>hold probability: 0.0000<br>hold: False<br>volume: -24.005887<br>modified volume: 24.0100<br>fee: nan<br>margin: nan<br>error: low free margin (order margin=32914.91902866242, order profit=-1369.078240530506, free margin=7166.822376423728)",
          "order id: <br>hold probability: 0.0000<br>hold: False<br>volume: -70.503596<br>modified volume: 35.0000<br>fee: nan<br>margin: nan<br>error: low free margin (order margin=48112.117401754025, order profit=-1630.7226824461686, free margin=7685.562669606192)",
          "order id: <br>hold probability: 0.0000<br>hold: False<br>volume: 97.570215<br>modified volume: 35.0000<br>fee: nan<br>margin: nan<br>error: low free margin (order margin=48354.20236719404, order profit=-1788.8622276184724, free margin=7685.562669606192)",
          "order id: <br>hold probability: 0.0000<br>hold: False<br>volume: -59.032274<br>modified volume: 35.0000<br>fee: nan<br>margin: nan<br>error: low free margin (order margin=48557.36495012261, order profit=-2039.3327175966651, free margin=7685.562669606192)",
          "order id: <br>hold probability: 0.0000<br>hold: False<br>volume: 63.817024<br>modified volume: 35.0000<br>fee: nan<br>margin: nan<br>error: low free margin (order margin=48845.6068458479, order profit=-1546.312778261842, free margin=7685.562669606192)",
          "order id: <br>hold probability: 0.0000<br>hold: False<br>volume: 51.318448<br>modified volume: 35.0000<br>fee: nan<br>margin: nan<br>error: low free margin (order margin=48674.37158513788, order profit=-2233.279539133528, free margin=7685.562669606192)",
          "order id: <br>hold probability: 0.0000<br>hold: False<br>volume: -31.684486<br>modified volume: 31.6800<br>fee: nan<br>margin: nan<br>error: low free margin (order margin=44081.01605131314, order profit=-1734.8418454398584, free margin=7685.562669606192)",
          "order id: <br>hold probability: 0.0000<br>hold: False<br>volume: -42.451761<br>modified volume: 35.0000<br>fee: nan<br>margin: nan<br>error: low free margin (order margin=48600.87719298245, order profit=-1985.5750719365406, free margin=4457.050806569232)",
          "order id: <br>hold probability: 0.0000<br>hold: False<br>volume: 25.620037<br>modified volume: 25.6200<br>fee: nan<br>margin: nan<br>error: low free margin (order margin=35684.04829340886, order profit=-1529.9341581029896, free margin=4369.450806569241)",
          "order id: <br>hold probability: 0.0000<br>hold: False<br>volume: -23.099234<br>modified volume: 23.1000<br>fee: nan<br>margin: nan<br>error: low free margin (order margin=32051.532892064326, order profit=-1270.8688756641736, free margin=6967.60110656924)",
          "order id: <br>hold probability: 0.0000<br>hold: False<br>volume: -79.381337<br>modified volume: 35.0000<br>fee: nan<br>margin: nan<br>error: low free margin (order margin=48442.444384371964, order profit=-1923.722743682804, free margin=6967.60110656924)",
          "order id: <br>hold probability: 0.0000<br>hold: False<br>volume: 64.941802<br>modified volume: 35.0000<br>fee: nan<br>margin: nan<br>error: low free margin (order margin=48095.130605585386, order profit=-1914.6659500087035, free margin=6967.60110656924)",
          "order id: <br>hold probability: 0.0000<br>hold: False<br>volume: 26.848369<br>modified volume: 26.8500<br>fee: nan<br>margin: nan<br>error: low free margin (order margin=36574.1400687789, order profit=-1582.050771162156, free margin=6967.60110656924)",
          "order id: <br>hold probability: 0.0000<br>hold: False<br>volume: 62.408244<br>modified volume: 35.0000<br>fee: nan<br>margin: nan<br>error: low free margin (order margin=48167.25710109932, order profit=-2004.7538658382628, free margin=6967.60110656924)",
          "order id: <br>hold probability: 0.0000<br>hold: False<br>volume: 16.448456<br>modified volume: 16.4500<br>fee: nan<br>margin: nan<br>error: low free margin (order margin=22752.233579782656, order profit=-838.1947769241768, free margin=6967.60110656924)"
         ],
         "legendgroup": "g1",
         "marker": {
          "color": [
           "gray",
           "gray",
           "gray",
           "gray",
           "gray",
           "gray",
           "gray",
           "gray",
           "gray",
           "gray",
           "gray",
           "gray",
           "gray",
           "gray",
           "gray",
           "gray",
           "gray",
           "gray",
           "gray",
           "gray",
           "gray",
           "gray",
           "gray",
           "gray",
           "green",
           "gray",
           "gray",
           "gray",
           "gray",
           "gray",
           "gray",
           "gray",
           "gray",
           "gray",
           "gray",
           "gray",
           "gray",
           "gray",
           "gray",
           "gray",
           "gray"
          ],
          "size": [
           30,
           30,
           24.77657142857143,
           30,
           30,
           30,
           30,
           30,
           30,
           30,
           30,
           30,
           30,
           30,
           30,
           13.141714285714286,
           21.52057142857143,
           30,
           30,
           30,
           30,
           13.889714285714287,
           30,
           30,
           10.922857142857143,
           24.90857142857143,
           23.092,
           30,
           30,
           30,
           30,
           30,
           27.91314285714286,
           30,
           24.104,
           22.520000000000003,
           30,
           30,
           24.87714285714286,
           30,
           18.34
          ],
          "symbol": [
           "triangle-down",
           "triangle-down",
           "triangle-down",
           "triangle-down",
           "triangle-down",
           "triangle-down",
           "triangle-down",
           "triangle-down",
           "triangle-down",
           "triangle-down",
           "triangle-down",
           "triangle-down",
           "triangle-down",
           "triangle-down",
           "triangle-down",
           "triangle-down",
           "triangle-down",
           "triangle-down",
           "triangle-down",
           "triangle-down",
           "triangle-down",
           "triangle-down",
           "triangle-down",
           "triangle-down",
           "triangle-up",
           "triangle-down",
           "triangle-down",
           "triangle-down",
           "triangle-down",
           "triangle-down",
           "triangle-down",
           "triangle-down",
           "triangle-down",
           "triangle-down",
           "triangle-down",
           "triangle-down",
           "triangle-down",
           "triangle-down",
           "triangle-down",
           "triangle-down",
           "triangle-down"
          ]
         },
         "mode": "markers",
         "name": "GBPCAD",
         "showlegend": false,
         "type": "scatter",
         "x": [
          "2021-05-18T00:00:00+00:00",
          "2021-05-19T00:00:00+00:00",
          "2021-05-20T00:00:00+00:00",
          "2021-05-21T00:00:00+00:00",
          "2021-05-24T00:00:00+00:00",
          "2021-05-27T00:00:00+00:00",
          "2021-05-28T00:00:00+00:00",
          "2021-06-01T00:00:00+00:00",
          "2021-06-02T00:00:00+00:00",
          "2021-06-03T00:00:00+00:00",
          "2021-06-07T00:00:00+00:00",
          "2021-06-08T00:00:00+00:00",
          "2021-06-09T00:00:00+00:00",
          "2021-06-10T00:00:00+00:00",
          "2021-06-11T00:00:00+00:00",
          "2021-06-15T00:00:00+00:00",
          "2021-06-16T00:00:00+00:00",
          "2021-06-21T00:00:00+00:00",
          "2021-06-28T00:00:00+00:00",
          "2021-06-30T00:00:00+00:00",
          "2021-07-02T00:00:00+00:00",
          "2021-07-05T00:00:00+00:00",
          "2021-07-06T00:00:00+00:00",
          "2021-07-14T00:00:00+00:00",
          "2021-07-15T00:00:00+00:00",
          "2021-07-16T00:00:00+00:00",
          "2021-07-21T00:00:00+00:00",
          "2021-07-23T00:00:00+00:00",
          "2021-07-26T00:00:00+00:00",
          "2021-07-27T00:00:00+00:00",
          "2021-07-29T00:00:00+00:00",
          "2021-07-30T00:00:00+00:00",
          "2021-08-03T00:00:00+00:00",
          "2021-08-04T00:00:00+00:00",
          "2021-08-05T00:00:00+00:00",
          "2021-08-06T00:00:00+00:00",
          "2021-08-09T00:00:00+00:00",
          "2021-08-17T00:00:00+00:00",
          "2021-08-20T00:00:00+00:00",
          "2021-08-25T00:00:00+00:00",
          "2021-09-02T00:00:00+00:00"
         ],
         "y": [
          1.71128,
          1.71211,
          1.7107,
          1.70726,
          1.7044000000000001,
          1.71345,
          1.71356,
          1.70755,
          1.70462,
          1.7068400000000001,
          1.71255,
          1.7139199999999999,
          1.70927,
          1.71433,
          1.71691,
          1.71492,
          1.71638,
          1.72173,
          1.71244,
          1.71437,
          1.70511,
          1.70716,
          1.71879,
          1.73236,
          1.7407,
          1.73684,
          1.72183,
          1.72728,
          1.73336,
          1.7481900000000001,
          1.73688,
          1.73335,
          1.7441499999999999,
          1.7412999999999998,
          1.7408299999999999,
          1.7419799999999999,
          1.7408000000000001,
          1.7349700000000001,
          1.7468,
          1.73259,
          1.73603
         ],
         "yaxis": "y"
        },
        {
         "hovertext": [
          "order id: 4<br>order type: Buy<br>close probability: 1.0000<br>margin: 6427.429665<br>profit: 392.211585"
         ],
         "legendgroup": "g1",
         "marker": {
          "color": "black",
          "line": {
           "width": 1.5
          },
          "size": 7,
          "symbol": "line-ns"
         },
         "mode": "markers",
         "name": "GBPCAD",
         "showlegend": false,
         "type": "scatter",
         "x": [
          "2021-07-19T00:00:00+00:00"
         ],
         "y": [
          1.74244
         ],
         "yaxis": "y"
        },
        {
         "hovertext": [
          "balance: 10000.000000 USD<br>equity: 10000.000000<br>margin: 0.000000<br>free margin: 10000.000000<br>margin level: inf",
          "balance: 10000.000000 USD<br>equity: 10000.000000<br>margin: 0.000000<br>free margin: 10000.000000<br>margin level: inf",
          "balance: 10000.000000 USD<br>equity: 10000.000000<br>margin: 0.000000<br>free margin: 10000.000000<br>margin level: inf",
          "balance: 10000.000000 USD<br>equity: 10000.000000<br>margin: 0.000000<br>free margin: 10000.000000<br>margin level: inf",
          "balance: 10000.000000 USD<br>equity: 10000.000000<br>margin: 0.000000<br>free margin: 10000.000000<br>margin level: inf",
          "balance: 10000.000000 USD<br>equity: 10000.000000<br>margin: 0.000000<br>free margin: 10000.000000<br>margin level: inf",
          "balance: 10000.000000 USD<br>equity: 10000.000000<br>margin: 0.000000<br>free margin: 10000.000000<br>margin level: inf",
          "balance: 10000.000000 USD<br>equity: 10000.000000<br>margin: 0.000000<br>free margin: 10000.000000<br>margin level: inf",
          "balance: 10000.000000 USD<br>equity: 10000.000000<br>margin: 0.000000<br>free margin: 10000.000000<br>margin level: inf",
          "balance: 10000.000000 USD<br>equity: 10000.000000<br>margin: 0.000000<br>free margin: 10000.000000<br>margin level: inf",
          "balance: 10000.000000 USD<br>equity: 11671.459510<br>margin: 4485.437300<br>free margin: 7186.022210<br>margin level: 2.602078",
          "balance: 11671.459510 USD<br>equity: 11671.459510<br>margin: 0.000000<br>free margin: 11671.459510<br>margin level: inf",
          "balance: 11671.459510 USD<br>equity: 11671.459510<br>margin: 0.000000<br>free margin: 11671.459510<br>margin level: inf",
          "balance: 11671.459510 USD<br>equity: 11671.459510<br>margin: 0.000000<br>free margin: 11671.459510<br>margin level: inf",
          "balance: 11671.459510 USD<br>equity: 11671.459510<br>margin: 0.000000<br>free margin: 11671.459510<br>margin level: inf",
          "balance: 11671.459510 USD<br>equity: 6631.742765<br>margin: 10412.245000<br>free margin: -3780.502235<br>margin level: 0.636918",
          "balance: 6631.742765 USD<br>equity: 6631.742765<br>margin: 0.000000<br>free margin: 6631.742765<br>margin level: inf",
          "balance: 6631.742765 USD<br>equity: 6631.742765<br>margin: 0.000000<br>free margin: 6631.742765<br>margin level: inf",
          "balance: 6631.742765 USD<br>equity: 6631.742765<br>margin: 0.000000<br>free margin: 6631.742765<br>margin level: inf",
          "balance: 6631.742765 USD<br>equity: 6631.742765<br>margin: 0.000000<br>free margin: 6631.742765<br>margin level: inf",
          "balance: 6631.742765 USD<br>equity: 6631.742765<br>margin: 0.000000<br>free margin: 6631.742765<br>margin level: inf",
          "balance: 6631.742765 USD<br>equity: 6631.742765<br>margin: 0.000000<br>free margin: 6631.742765<br>margin level: inf",
          "balance: 6631.742765 USD<br>equity: 6631.742765<br>margin: 0.000000<br>free margin: 6631.742765<br>margin level: inf",
          "balance: 6631.742765 USD<br>equity: 6631.742765<br>margin: 0.000000<br>free margin: 6631.742765<br>margin level: inf",
          "balance: 6631.742765 USD<br>equity: 6631.742765<br>margin: 0.000000<br>free margin: 6631.742765<br>margin level: inf",
          "balance: 6631.742765 USD<br>equity: 6631.742765<br>margin: 0.000000<br>free margin: 6631.742765<br>margin level: inf",
          "balance: 6631.742765 USD<br>equity: 6631.742765<br>margin: 0.000000<br>free margin: 6631.742765<br>margin level: inf",
          "balance: 6631.742765 USD<br>equity: 6631.742765<br>margin: 0.000000<br>free margin: 6631.742765<br>margin level: inf",
          "balance: 6631.742765 USD<br>equity: 6631.742765<br>margin: 0.000000<br>free margin: 6631.742765<br>margin level: inf",
          "balance: 6631.742765 USD<br>equity: 6631.742765<br>margin: 0.000000<br>free margin: 6631.742765<br>margin level: inf",
          "balance: 6631.742765 USD<br>equity: 6631.742765<br>margin: 0.000000<br>free margin: 6631.742765<br>margin level: inf",
          "balance: 6631.742765 USD<br>equity: 6631.742765<br>margin: 0.000000<br>free margin: 6631.742765<br>margin level: inf",
          "balance: 6631.742765 USD<br>equity: 6631.742765<br>margin: 0.000000<br>free margin: 6631.742765<br>margin level: inf",
          "balance: 6631.742765 USD<br>equity: 6631.742765<br>margin: 0.000000<br>free margin: 6631.742765<br>margin level: inf",
          "balance: 6631.742765 USD<br>equity: 6631.742765<br>margin: 0.000000<br>free margin: 6631.742765<br>margin level: inf",
          "balance: 6631.742765 USD<br>equity: 6631.742765<br>margin: 0.000000<br>free margin: 6631.742765<br>margin level: inf",
          "balance: 6631.742765 USD<br>equity: 6631.742765<br>margin: 0.000000<br>free margin: 6631.742765<br>margin level: inf",
          "balance: 6631.742765 USD<br>equity: 6631.742765<br>margin: 0.000000<br>free margin: 6631.742765<br>margin level: inf",
          "balance: 6631.742765 USD<br>equity: 6631.742765<br>margin: 0.000000<br>free margin: 6631.742765<br>margin level: inf",
          "balance: 6631.742765 USD<br>equity: 6602.167240<br>margin: 340.000000<br>free margin: 6262.167240<br>margin level: 19.418139",
          "balance: 6631.742765 USD<br>equity: 6774.610791<br>margin: 340.000000<br>free margin: 6434.610791<br>margin level: 19.925326",
          "balance: 6774.610791 USD<br>equity: 6774.610791<br>margin: 0.000000<br>free margin: 6774.610791<br>margin level: inf",
          "balance: 6774.610791 USD<br>equity: 6774.610791<br>margin: 0.000000<br>free margin: 6774.610791<br>margin level: inf",
          "balance: 6774.610791 USD<br>equity: 6774.610791<br>margin: 0.000000<br>free margin: 6774.610791<br>margin level: inf",
          "balance: 6774.610791 USD<br>equity: 6774.610791<br>margin: 0.000000<br>free margin: 6774.610791<br>margin level: inf",
          "balance: 6774.610791 USD<br>equity: 6774.610791<br>margin: 0.000000<br>free margin: 6774.610791<br>margin level: inf",
          "balance: 6774.610791 USD<br>equity: 6774.610791<br>margin: 0.000000<br>free margin: 6774.610791<br>margin level: inf",
          "balance: 6774.610791 USD<br>equity: 6774.610791<br>margin: 0.000000<br>free margin: 6774.610791<br>margin level: inf",
          "balance: 6774.610791 USD<br>equity: 6774.610791<br>margin: 0.000000<br>free margin: 6774.610791<br>margin level: inf",
          "balance: 6774.610791 USD<br>equity: 6774.610791<br>margin: 0.000000<br>free margin: 6774.610791<br>margin level: inf",
          "balance: 6774.610791 USD<br>equity: 6774.610791<br>margin: 0.000000<br>free margin: 6774.610791<br>margin level: inf",
          "balance: 6774.610791 USD<br>equity: 6774.610791<br>margin: 0.000000<br>free margin: 6774.610791<br>margin level: inf",
          "balance: 6774.610791 USD<br>equity: 5106.997836<br>margin: 6427.429665<br>free margin: -1320.431829<br>margin level: 0.794563",
          "balance: 6774.610791 USD<br>equity: 7166.822376<br>margin: 6427.429665<br>free margin: 739.392711<br>margin level: 1.115037",
          "balance: 7166.822376 USD<br>equity: 7166.822376<br>margin: 0.000000<br>free margin: 7166.822376<br>margin level: inf",
          "balance: 7166.822376 USD<br>equity: 7166.822376<br>margin: 0.000000<br>free margin: 7166.822376<br>margin level: inf",
          "balance: 7166.822376 USD<br>equity: 7685.562670<br>margin: 4890.000000<br>free margin: 2795.562670<br>margin level: 1.571690",
          "balance: 7685.562670 USD<br>equity: 7685.562670<br>margin: 0.000000<br>free margin: 7685.562670<br>margin level: inf",
          "balance: 7685.562670 USD<br>equity: 7685.562670<br>margin: 0.000000<br>free margin: 7685.562670<br>margin level: inf",
          "balance: 7685.562670 USD<br>equity: 7685.562670<br>margin: 0.000000<br>free margin: 7685.562670<br>margin level: inf",
          "balance: 7685.562670 USD<br>equity: 7685.562670<br>margin: 0.000000<br>free margin: 7685.562670<br>margin level: inf",
          "balance: 7685.562670 USD<br>equity: 7685.562670<br>margin: 0.000000<br>free margin: 7685.562670<br>margin level: inf",
          "balance: 7685.562670 USD<br>equity: 7685.562670<br>margin: 0.000000<br>free margin: 7685.562670<br>margin level: inf",
          "balance: 7685.562670 USD<br>equity: 7685.562670<br>margin: 0.000000<br>free margin: 7685.562670<br>margin level: inf",
          "balance: 7685.562670 USD<br>equity: 7685.562670<br>margin: 0.000000<br>free margin: 7685.562670<br>margin level: inf",
          "balance: 7685.562670 USD<br>equity: 7055.201107<br>margin: 2598.150300<br>free margin: 4457.050807<br>margin level: 2.715471",
          "balance: 7685.562670 USD<br>equity: 6967.601107<br>margin: 2598.150300<br>free margin: 4369.450807<br>margin level: 2.681754",
          "balance: 6967.601107 USD<br>equity: 6967.601107<br>margin: 0.000000<br>free margin: 6967.601107<br>margin level: inf",
          "balance: 6967.601107 USD<br>equity: 6967.601107<br>margin: 0.000000<br>free margin: 6967.601107<br>margin level: inf",
          "balance: 6967.601107 USD<br>equity: 6967.601107<br>margin: 0.000000<br>free margin: 6967.601107<br>margin level: inf",
          "balance: 6967.601107 USD<br>equity: 6967.601107<br>margin: 0.000000<br>free margin: 6967.601107<br>margin level: inf",
          "balance: 6967.601107 USD<br>equity: 6967.601107<br>margin: 0.000000<br>free margin: 6967.601107<br>margin level: inf",
          "balance: 6967.601107 USD<br>equity: 6967.601107<br>margin: 0.000000<br>free margin: 6967.601107<br>margin level: inf",
          "balance: 6967.601107 USD<br>equity: 6967.601107<br>margin: 0.000000<br>free margin: 6967.601107<br>margin level: inf",
          "balance: 6967.601107 USD<br>equity: 6967.601107<br>margin: 0.000000<br>free margin: 6967.601107<br>margin level: inf",
          "balance: 6967.601107 USD<br>equity: 6967.601107<br>margin: 0.000000<br>free margin: 6967.601107<br>margin level: inf",
          "balance: 6967.601107 USD<br>equity: 6967.601107<br>margin: 0.000000<br>free margin: 6967.601107<br>margin level: inf",
          "balance: 6967.601107 USD<br>equity: 6967.601107<br>margin: 0.000000<br>free margin: 6967.601107<br>margin level: inf",
          "balance: 6967.601107 USD<br>equity: 6967.601107<br>margin: 0.000000<br>free margin: 6967.601107<br>margin level: inf",
          "balance: 6967.601107 USD<br>equity: 6967.601107<br>margin: 0.000000<br>free margin: 6967.601107<br>margin level: inf",
          "balance: 6967.601107 USD<br>equity: 6967.601107<br>margin: 0.000000<br>free margin: 6967.601107<br>margin level: inf",
          "balance: 6967.601107 USD<br>equity: 6967.601107<br>margin: 0.000000<br>free margin: 6967.601107<br>margin level: inf",
          "balance: 6967.601107 USD<br>equity: 6967.601107<br>margin: 0.000000<br>free margin: 6967.601107<br>margin level: inf",
          "balance: 6967.601107 USD<br>equity: 6967.601107<br>margin: 0.000000<br>free margin: 6967.601107<br>margin level: inf",
          "balance: 6967.601107 USD<br>equity: 6967.601107<br>margin: 0.000000<br>free margin: 6967.601107<br>margin level: inf",
          "balance: 6967.601107 USD<br>equity: 6967.601107<br>margin: 0.000000<br>free margin: 6967.601107<br>margin level: inf",
          "balance: 6967.601107 USD<br>equity: 6967.601107<br>margin: 0.000000<br>free margin: 6967.601107<br>margin level: inf",
          "balance: 6967.601107 USD<br>equity: 6967.601107<br>margin: 0.000000<br>free margin: 6967.601107<br>margin level: inf"
         ],
         "legendgroup": "g2",
         "line": {
          "color": "rgba(0.5643983083429451, 0.36993464052287583, 0.5132641291810843, 1.0)"
         },
         "mode": "lines+markers",
         "name": "EURUSD",
         "opacity": 1,
         "type": "scatter",
         "x": [
          "2021-05-05T00:00:00+00:00",
          "2021-05-06T00:00:00+00:00",
          "2021-05-07T00:00:00+00:00",
          "2021-05-10T00:00:00+00:00",
          "2021-05-11T00:00:00+00:00",
          "2021-05-12T00:00:00+00:00",
          "2021-05-13T00:00:00+00:00",
          "2021-05-14T00:00:00+00:00",
          "2021-05-17T00:00:00+00:00",
          "2021-05-18T00:00:00+00:00",
          "2021-05-19T00:00:00+00:00",
          "2021-05-20T00:00:00+00:00",
          "2021-05-21T00:00:00+00:00",
          "2021-05-24T00:00:00+00:00",
          "2021-05-25T00:00:00+00:00",
          "2021-05-26T00:00:00+00:00",
          "2021-05-27T00:00:00+00:00",
          "2021-05-28T00:00:00+00:00",
          "2021-05-31T00:00:00+00:00",
          "2021-06-01T00:00:00+00:00",
          "2021-06-02T00:00:00+00:00",
          "2021-06-03T00:00:00+00:00",
          "2021-06-04T00:00:00+00:00",
          "2021-06-07T00:00:00+00:00",
          "2021-06-08T00:00:00+00:00",
          "2021-06-09T00:00:00+00:00",
          "2021-06-10T00:00:00+00:00",
          "2021-06-11T00:00:00+00:00",
          "2021-06-14T00:00:00+00:00",
          "2021-06-15T00:00:00+00:00",
          "2021-06-16T00:00:00+00:00",
          "2021-06-17T00:00:00+00:00",
          "2021-06-18T00:00:00+00:00",
          "2021-06-21T00:00:00+00:00",
          "2021-06-22T00:00:00+00:00",
          "2021-06-23T00:00:00+00:00",
          "2021-06-24T00:00:00+00:00",
          "2021-06-25T00:00:00+00:00",
          "2021-06-28T00:00:00+00:00",
          "2021-06-29T00:00:00+00:00",
          "2021-06-30T00:00:00+00:00",
          "2021-07-01T00:00:00+00:00",
          "2021-07-02T00:00:00+00:00",
          "2021-07-05T00:00:00+00:00",
          "2021-07-06T00:00:00+00:00",
          "2021-07-07T00:00:00+00:00",
          "2021-07-08T00:00:00+00:00",
          "2021-07-09T00:00:00+00:00",
          "2021-07-12T00:00:00+00:00",
          "2021-07-13T00:00:00+00:00",
          "2021-07-14T00:00:00+00:00",
          "2021-07-15T00:00:00+00:00",
          "2021-07-16T00:00:00+00:00",
          "2021-07-19T00:00:00+00:00",
          "2021-07-20T00:00:00+00:00",
          "2021-07-21T00:00:00+00:00",
          "2021-07-22T00:00:00+00:00",
          "2021-07-23T00:00:00+00:00",
          "2021-07-26T00:00:00+00:00",
          "2021-07-27T00:00:00+00:00",
          "2021-07-28T00:00:00+00:00",
          "2021-07-29T00:00:00+00:00",
          "2021-07-30T00:00:00+00:00",
          "2021-08-02T00:00:00+00:00",
          "2021-08-03T00:00:00+00:00",
          "2021-08-04T00:00:00+00:00",
          "2021-08-05T00:00:00+00:00",
          "2021-08-06T00:00:00+00:00",
          "2021-08-09T00:00:00+00:00",
          "2021-08-10T00:00:00+00:00",
          "2021-08-11T00:00:00+00:00",
          "2021-08-12T00:00:00+00:00",
          "2021-08-13T00:00:00+00:00",
          "2021-08-16T00:00:00+00:00",
          "2021-08-17T00:00:00+00:00",
          "2021-08-18T00:00:00+00:00",
          "2021-08-19T00:00:00+00:00",
          "2021-08-20T00:00:00+00:00",
          "2021-08-23T00:00:00+00:00",
          "2021-08-24T00:00:00+00:00",
          "2021-08-25T00:00:00+00:00",
          "2021-08-26T00:00:00+00:00",
          "2021-08-27T00:00:00+00:00",
          "2021-08-30T00:00:00+00:00",
          "2021-08-31T00:00:00+00:00",
          "2021-09-01T00:00:00+00:00",
          "2021-09-02T00:00:00+00:00",
          "2021-09-03T00:00:00+00:00"
         ],
         "y": [
          1.20036,
          1.20646,
          1.21618,
          1.21282,
          1.2147000000000001,
          1.20705,
          1.20791,
          1.21441,
          1.21511,
          1.2221899999999999,
          1.21744,
          1.22269,
          1.21806,
          1.2215,
          1.22497,
          1.21922,
          1.21934,
          1.21896,
          1.2225,
          1.22126,
          1.221,
          1.21265,
          1.21662,
          1.21893,
          1.21726,
          1.21787,
          1.21751,
          1.21063,
          1.212,
          1.21264,
          1.19943,
          1.19069,
          1.18597,
          1.19185,
          1.19413,
          1.19258,
          1.19315,
          1.1937,
          1.19242,
          1.1896,
          1.1856,
          1.18497,
          1.18646,
          1.18634,
          1.18231,
          1.17903,
          1.18449,
          1.18774,
          1.18606,
          1.17765,
          1.18358,
          1.18118,
          1.18055,
          1.17987,
          1.17805,
          1.17946,
          1.17707,
          1.17689,
          1.18029,
          1.18165,
          1.18441,
          1.18865,
          1.1873,
          1.18688,
          1.18637,
          1.18367,
          1.18327,
          1.17611,
          1.17362,
          1.17203,
          1.17388,
          1.17296,
          1.17962,
          1.17768,
          1.17081,
          1.17108,
          1.16756,
          1.16996,
          1.1745700000000001,
          1.17555,
          1.17716,
          1.17515,
          1.1795499999999999,
          1.17962,
          1.18083,
          1.18384,
          1.18744,
          1.18772
         ],
         "yaxis": "y2"
        },
        {
         "hovertext": [
          "order id: 1<br>hold probability: 0.0000<br>hold: False<br>volume: -3.674090<br>modified volume: 3.6700<br>fee: 0.000196<br>margin: 4485.437300<br>error: ",
          "order id: <br>hold probability: 0.0000<br>hold: False<br>volume: -47.146988<br>modified volume: 47.1500<br>fee: nan<br>margin: nan<br>error: low free margin (order margin=57649.83350000001, order profit=-865.7797547080936, free margin=11671.459509553253)",
          "order id: <br>hold probability: 0.0000<br>hold: False<br>volume: -75.852096<br>modified volume: 75.8500<br>fee: nan<br>margin: nan<br>error: low free margin (order margin=92650.77500000002, order profit=-1308.9756708139284, free margin=11671.459509553253)",
          "order id: 2<br>hold probability: 0.0000<br>hold: False<br>volume: 8.503938<br>modified volume: 8.5000<br>fee: 0.000179<br>margin: 10412.245000<br>error: ",
          "order id: <br>hold probability: 0.0000<br>hold: False<br>volume: -81.681829<br>modified volume: 81.6800<br>fee: nan<br>margin: nan<br>error: low free margin (order margin=99853.8, order profit=-1330.622352622908, free margin=6631.742764748329)",
          "order id: <br>hold probability: 0.0000<br>hold: False<br>volume: 9.831689<br>modified volume: 9.8300<br>fee: nan<br>margin: nan<br>error: low free margin (order margin=12004.9858, order profit=-217.48951986667197, free margin=6631.742764748329)",
          "order id: <br>hold probability: 0.0000<br>hold: False<br>volume: 42.496126<br>modified volume: 42.5000<br>fee: nan<br>margin: nan<br>error: low free margin (order margin=51892.5, order profit=-734.0546038775476, free margin=6631.742764748329)",
          "order id: <br>hold probability: 0.0000<br>hold: False<br>volume: 28.555695<br>modified volume: 28.5600<br>fee: nan<br>margin: nan<br>error: low free margin (order margin=34746.6672, order profit=-540.9466353270391, free margin=6631.742764748329)",
          "order id: <br>hold probability: 0.0000<br>hold: False<br>volume: -51.116763<br>modified volume: 51.1200<br>fee: nan<br>margin: nan<br>error: low free margin (order margin=62257.51440000001, order profit=-1122.0164877554853, free margin=6631.742764748329)",
          "order id: <br>hold probability: 0.0000<br>hold: False<br>volume: -98.505533<br>modified volume: 98.5100<br>fee: nan<br>margin: nan<br>error: low free margin (order margin=119936.91010000002, order profit=-1566.2059757934692, free margin=6631.742764748329)",
          "order id: <br>hold probability: 0.0018<br>hold: False<br>volume: -31.754236<br>modified volume: 31.7500<br>fee: nan<br>margin: nan<br>error: low free margin (order margin=38437.5025, order profit=-749.2001094774497, free margin=6631.742764748329)",
          "order id: <br>hold probability: 0.0000<br>hold: False<br>volume: -70.997940<br>modified volume: 71.0000<br>fee: nan<br>margin: nan<br>error: low free margin (order margin=86052.0, order profit=-1421.617996065805, free margin=6631.742764748329)",
          "order id: <br>hold probability: 0.0000<br>hold: False<br>volume: -10.321128<br>modified volume: 10.3200<br>fee: nan<br>margin: nan<br>error: low free margin (order margin=12514.4448, order profit=-209.91786816238212, free margin=6631.742764748329)",
          "order id: <br>hold probability: 0.0000<br>hold: False<br>volume: 7.573398<br>modified volume: 7.5700<br>fee: nan<br>margin: nan<br>error: low free margin (order margin=9079.6851, order profit=-132.8295690337915, free margin=6631.742764748329)",
          "order id: <br>hold probability: 0.0000<br>hold: False<br>volume: -43.080194<br>modified volume: 43.0800<br>fee: nan<br>margin: nan<br>error: low free margin (order margin=51294.925200000005, order profit=-959.0670869800899, free margin=6631.742764748329)",
          "order id: <br>hold probability: 0.0000<br>hold: False<br>volume: -63.442794<br>modified volume: 63.4400<br>fee: nan<br>margin: nan<br>error: low free margin (order margin=75237.93680000001, order profit=-1221.450354363439, free margin=6631.742764748329)",
          "order id: <br>hold probability: 0.0000<br>hold: False<br>volume: -49.153213<br>modified volume: 49.1500<br>fee: nan<br>margin: nan<br>error: low free margin (order margin=58579.4275, order profit=-957.3008358850329, free margin=6631.742764748329)",
          "order id: <br>hold probability: 0.0000<br>hold: False<br>volume: -71.569073<br>modified volume: 71.5700<br>fee: nan<br>margin: nan<br>error: low free margin (order margin=85352.95060000001, order profit=-1287.6645683330817, free margin=6631.742764748329)",
          "order id: <br>hold probability: 0.0000<br>hold: False<br>volume: -91.121608<br>modified volume: 91.1200<br>fee: nan<br>margin: nan<br>error: low free margin (order margin=108653.31040000002, order profit=-1831.8731577070089, free margin=6631.742764748329)",
          "order id: <br>hold probability: 0.0000<br>hold: False<br>volume: 63.826346<br>modified volume: 63.8300<br>fee: nan<br>margin: nan<br>error: low free margin (order margin=75676.848, order profit=-977.0638905757459, free margin=6434.610791298202)",
          "order id: <br>hold probability: 0.2990<br>hold: False<br>volume: -76.759353<br>modified volume: 76.7600<br>fee: nan<br>margin: nan<br>error: low free margin (order margin=90958.29720000003, order profit=-1527.4725161127346, free margin=6774.610791298202)",
          "order id: <br>hold probability: 0.0000<br>hold: False<br>volume: -45.809153<br>modified volume: 45.8100<br>fee: nan<br>margin: nan<br>error: low free margin (order margin=54011.364299999994, order profit=-875.5882051941194, free margin=6774.610791298202)",
          "order id: <br>hold probability: 0.0000<br>hold: False<br>volume: 73.452062<br>modified volume: 73.4500<br>fee: nan<br>margin: nan<br>error: low free margin (order margin=86498.3925, order profit=-1327.5712679857013, free margin=6774.610791298202)",
          "order id: <br>hold probability: 0.0000<br>hold: False<br>volume: 55.909330<br>modified volume: 55.9100<br>fee: nan<br>margin: nan<br>error: low free margin (order margin=66004.5505, order profit=-1062.1381349632272, free margin=-1320.4318289382863)",
          "order id: <br>hold probability: 0.0000<br>hold: False<br>volume: 36.442341<br>modified volume: 36.4400<br>fee: nan<br>margin: nan<br>error: low free margin (order margin=42928.142, order profit=-789.2156614725378, free margin=7166.822376423728)",
          "order id: <br>hold probability: 0.0000<br>hold: False<br>volume: 69.624155<br>modified volume: 69.6200<br>fee: nan<br>margin: nan<br>error: low free margin (order margin=81947.6134, order profit=-1177.4835298033618, free margin=2795.5626696061927)",
          "order id: <br>hold probability: 0.0000<br>hold: False<br>volume: 55.929067<br>modified volume: 55.9300<br>fee: nan<br>margin: nan<br>error: low free margin (order margin=66089.6845, order profit=-920.0398329007367, free margin=7685.562669606192)",
          "order id: <br>hold probability: 0.0000<br>hold: False<br>volume: -53.828586<br>modified volume: 53.8300<br>fee: nan<br>margin: nan<br>error: low free margin (order margin=63756.7903, order profit=-1171.1150052953524, free margin=7685.562669606192)",
          "order id: <br>hold probability: 0.0000<br>hold: False<br>volume: -97.232021<br>modified volume: 97.2300<br>fee: nan<br>margin: nan<br>error: low free margin (order margin=115400.34240000001, order profit=-2046.9348531011929, free margin=7685.562669606192)",
          "order id: 6<br>hold probability: 0.0000<br>hold: False<br>volume: 2.192036<br>modified volume: 2.1900<br>fee: 0.000178<br>margin: 2598.150300<br>error: ",
          "order id: <br>hold probability: 0.0000<br>hold: False<br>volume: 58.338737<br>modified volume: 58.3400<br>fee: nan<br>margin: nan<br>error: low free margin (order margin=69055.30780000001, order profit=-1157.8867449875033, free margin=4457.050806569232)",
          "order id: <br>hold probability: 0.0000<br>hold: False<br>volume: -32.005987<br>modified volume: 32.0100<br>fee: nan<br>margin: nan<br>error: low free margin (order margin=37876.4727, order profit=-627.4999703417774, free margin=6967.60110656924)",
          "order id: <br>hold probability: 0.0053<br>hold: False<br>volume: -49.654729<br>modified volume: 49.6500<br>fee: nan<br>margin: nan<br>error: low free margin (order margin=58393.861500000006, order profit=-1227.7414791581107, free margin=6967.60110656924)",
          "order id: <br>hold probability: 0.0000<br>hold: False<br>volume: -63.700094<br>modified volume: 63.7000<br>fee: nan<br>margin: nan<br>error: low free margin (order margin=74658.311, order profit=-1094.777743040842, free margin=6967.60110656924)",
          "order id: <br>hold probability: 0.0000<br>hold: False<br>volume: 35.956448<br>modified volume: 35.9600<br>fee: nan<br>margin: nan<br>error: low free margin (order margin=42179.6416, order profit=-852.8677475120844, free margin=6967.60110656924)",
          "order id: <br>hold probability: 0.0000<br>hold: False<br>volume: -40.158446<br>modified volume: 40.1600<br>fee: nan<br>margin: nan<br>error: low free margin (order margin=47295.628800000006, order profit=-834.3964702556772, free margin=6967.60110656924)",
          "order id: <br>hold probability: 0.0000<br>hold: False<br>volume: -82.261630<br>modified volume: 82.2600<br>fee: nan<br>margin: nan<br>error: low free margin (order margin=96310.8306, order profit=-1834.4317445116499, free margin=6967.60110656924)",
          "order id: <br>hold probability: 0.0000<br>hold: False<br>volume: -23.723665<br>modified volume: 23.7200<br>fee: nan<br>margin: nan<br>error: low free margin (order margin=27694.5232, order profit=-513.3867807517563, free margin=6967.60110656924)",
          "order id: <br>hold probability: 0.0000<br>hold: False<br>volume: 71.645286<br>modified volume: 71.6500<br>fee: nan<br>margin: nan<br>error: low free margin (order margin=84228.15750000002, order profit=-1305.698431843665, free margin=6967.60110656924)",
          "order id: <br>hold probability: 0.0000<br>hold: False<br>volume: 13.387355<br>modified volume: 13.3900<br>fee: nan<br>margin: nan<br>error: low free margin (order margin=15762.1724, order profit=-352.1443839551737, free margin=6967.60110656924)",
          "order id: <br>hold probability: 0.0000<br>hold: False<br>volume: -99.394935<br>modified volume: 99.3900<br>fee: nan<br>margin: nan<br>error: low free margin (order margin=117235.4745, order profit=-1773.0138512272601, free margin=6967.60110656924)",
          "order id: <br>hold probability: 0.0000<br>hold: False<br>volume: 28.827729<br>modified volume: 28.8300<br>fee: nan<br>margin: nan<br>error: low free margin (order margin=34130.1072, order profit=-637.9702723646466, free margin=6967.60110656924)"
         ],
         "legendgroup": "g2",
         "marker": {
          "color": [
           "red",
           "gray",
           "gray",
           "green",
           "gray",
           "gray",
           "gray",
           "gray",
           "gray",
           "gray",
           "gray",
           "gray",
           "gray",
           "gray",
           "gray",
           "gray",
           "gray",
           "gray",
           "gray",
           "gray",
           "gray",
           "gray",
           "gray",
           "gray",
           "gray",
           "gray",
           "gray",
           "gray",
           "gray",
           "green",
           "gray",
           "gray",
           "gray",
           "gray",
           "gray",
           "gray",
           "gray",
           "gray",
           "gray",
           "gray",
           "gray",
           "gray"
          ],
          "size": [
           8.812355367743233,
           18.436663648254353,
           24.789415434148307,
           9.881477009759532,
           26.079887312606903,
           10.175872824227788,
           17.407385048797664,
           14.321762752792033,
           19.315424086930275,
           29.80521179193078,
           15.027870007042962,
           23.715866787403158,
           10.284334440084516,
           9.675621289868197,
           17.5357681859342,
           22.042458999899388,
           18.87936412113895,
           23.84203642217527,
           28.169433544622198,
           22.128785592111882,
           24.990844149310796,
           18.140054331421673,
           24.25817486668679,
           20.375691719488884,
           16.066002615957338,
           23.41040346111279,
           20.380118724217727,
           19.915283227688903,
           29.521883489284637,
           8.484757017808633,
           20.913572794043667,
           15.08542106851796,
           18.990039239360097,
           22.100010061374384,
           15.959754502465037,
           16.889425495522687,
           26.208270449743434,
           13.250427608411309,
           23.859744441090655,
           10.96387966596237,
           30,
           14.381527316631452
          ],
          "symbol": [
           "triangle-down",
           "triangle-down",
           "triangle-down",
           "triangle-up",
           "triangle-down",
           "triangle-down",
           "triangle-down",
           "triangle-down",
           "triangle-down",
           "triangle-down",
           "triangle-down",
           "triangle-down",
           "triangle-down",
           "triangle-down",
           "triangle-down",
           "triangle-down",
           "triangle-down",
           "triangle-down",
           "triangle-down",
           "triangle-down",
           "triangle-down",
           "triangle-down",
           "triangle-down",
           "triangle-down",
           "triangle-down",
           "triangle-down",
           "triangle-down",
           "triangle-down",
           "triangle-down",
           "triangle-up",
           "triangle-down",
           "triangle-down",
           "triangle-down",
           "triangle-down",
           "triangle-down",
           "triangle-down",
           "triangle-down",
           "triangle-down",
           "triangle-down",
           "triangle-down",
           "triangle-down",
           "triangle-down"
          ]
         },
         "mode": "markers",
         "name": "EURUSD",
         "showlegend": false,
         "type": "scatter",
         "x": [
          "2021-05-18T00:00:00+00:00",
          "2021-05-20T00:00:00+00:00",
          "2021-05-24T00:00:00+00:00",
          "2021-05-25T00:00:00+00:00",
          "2021-05-31T00:00:00+00:00",
          "2021-06-01T00:00:00+00:00",
          "2021-06-02T00:00:00+00:00",
          "2021-06-04T00:00:00+00:00",
          "2021-06-09T00:00:00+00:00",
          "2021-06-10T00:00:00+00:00",
          "2021-06-11T00:00:00+00:00",
          "2021-06-14T00:00:00+00:00",
          "2021-06-15T00:00:00+00:00",
          "2021-06-16T00:00:00+00:00",
          "2021-06-17T00:00:00+00:00",
          "2021-06-18T00:00:00+00:00",
          "2021-06-21T00:00:00+00:00",
          "2021-06-23T00:00:00+00:00",
          "2021-06-28T00:00:00+00:00",
          "2021-06-30T00:00:00+00:00",
          "2021-07-01T00:00:00+00:00",
          "2021-07-07T00:00:00+00:00",
          "2021-07-13T00:00:00+00:00",
          "2021-07-16T00:00:00+00:00",
          "2021-07-20T00:00:00+00:00",
          "2021-07-22T00:00:00+00:00",
          "2021-07-27T00:00:00+00:00",
          "2021-07-28T00:00:00+00:00",
          "2021-08-02T00:00:00+00:00",
          "2021-08-03T00:00:00+00:00",
          "2021-08-04T00:00:00+00:00",
          "2021-08-05T00:00:00+00:00",
          "2021-08-06T00:00:00+00:00",
          "2021-08-10T00:00:00+00:00",
          "2021-08-12T00:00:00+00:00",
          "2021-08-16T00:00:00+00:00",
          "2021-08-17T00:00:00+00:00",
          "2021-08-19T00:00:00+00:00",
          "2021-08-24T00:00:00+00:00",
          "2021-08-25T00:00:00+00:00",
          "2021-08-27T00:00:00+00:00",
          "2021-09-01T00:00:00+00:00"
         ],
         "y": [
          1.2221899999999999,
          1.22269,
          1.2215,
          1.22497,
          1.2225,
          1.22126,
          1.221,
          1.21662,
          1.21787,
          1.21751,
          1.21063,
          1.212,
          1.21264,
          1.19943,
          1.19069,
          1.18597,
          1.19185,
          1.19258,
          1.19242,
          1.1856,
          1.18497,
          1.17903,
          1.17765,
          1.18055,
          1.17805,
          1.17707,
          1.18165,
          1.18441,
          1.18688,
          1.18637,
          1.18367,
          1.18327,
          1.17611,
          1.17203,
          1.17296,
          1.17768,
          1.17081,
          1.16756,
          1.17555,
          1.17716,
          1.1795499999999999,
          1.18384
         ],
         "yaxis": "y2"
        },
        {
         "hovertext": [
          "order id: 1<br>order type: Sell<br>close probability: 1.0000<br>margin: 4485.437300<br>profit: 1671.459510",
          "order id: 2<br>order type: Buy<br>close probability: 1.0000<br>margin: 10412.245000<br>profit: -5039.716745",
          "order id: 6<br>order type: Buy<br>close probability: 0.9364<br>margin: 2598.150300<br>profit: -717.961563"
         ],
         "legendgroup": "g2",
         "marker": {
          "color": "black",
          "line": {
           "width": 1.5
          },
          "size": 7,
          "symbol": "line-ns"
         },
         "mode": "markers",
         "name": "EURUSD",
         "showlegend": false,
         "type": "scatter",
         "x": [
          "2021-05-19T00:00:00+00:00",
          "2021-05-26T00:00:00+00:00",
          "2021-08-05T00:00:00+00:00"
         ],
         "y": [
          1.21744,
          1.21922,
          1.18327
         ],
         "yaxis": "y2"
        },
        {
         "hovertext": [
          "balance: 10000.000000 USD<br>equity: 10000.000000<br>margin: 0.000000<br>free margin: 10000.000000<br>margin level: inf",
          "balance: 10000.000000 USD<br>equity: 10000.000000<br>margin: 0.000000<br>free margin: 10000.000000<br>margin level: inf",
          "balance: 10000.000000 USD<br>equity: 10000.000000<br>margin: 0.000000<br>free margin: 10000.000000<br>margin level: inf",
          "balance: 10000.000000 USD<br>equity: 10000.000000<br>margin: 0.000000<br>free margin: 10000.000000<br>margin level: inf",
          "balance: 10000.000000 USD<br>equity: 10000.000000<br>margin: 0.000000<br>free margin: 10000.000000<br>margin level: inf",
          "balance: 10000.000000 USD<br>equity: 10000.000000<br>margin: 0.000000<br>free margin: 10000.000000<br>margin level: inf",
          "balance: 10000.000000 USD<br>equity: 10000.000000<br>margin: 0.000000<br>free margin: 10000.000000<br>margin level: inf",
          "balance: 10000.000000 USD<br>equity: 10000.000000<br>margin: 0.000000<br>free margin: 10000.000000<br>margin level: inf",
          "balance: 10000.000000 USD<br>equity: 10000.000000<br>margin: 0.000000<br>free margin: 10000.000000<br>margin level: inf",
          "balance: 10000.000000 USD<br>equity: 10000.000000<br>margin: 0.000000<br>free margin: 10000.000000<br>margin level: inf",
          "balance: 10000.000000 USD<br>equity: 11671.459510<br>margin: 4485.437300<br>free margin: 7186.022210<br>margin level: 2.602078",
          "balance: 11671.459510 USD<br>equity: 11671.459510<br>margin: 0.000000<br>free margin: 11671.459510<br>margin level: inf",
          "balance: 11671.459510 USD<br>equity: 11671.459510<br>margin: 0.000000<br>free margin: 11671.459510<br>margin level: inf",
          "balance: 11671.459510 USD<br>equity: 11671.459510<br>margin: 0.000000<br>free margin: 11671.459510<br>margin level: inf",
          "balance: 11671.459510 USD<br>equity: 11671.459510<br>margin: 0.000000<br>free margin: 11671.459510<br>margin level: inf",
          "balance: 11671.459510 USD<br>equity: 6631.742765<br>margin: 10412.245000<br>free margin: -3780.502235<br>margin level: 0.636918",
          "balance: 6631.742765 USD<br>equity: 6631.742765<br>margin: 0.000000<br>free margin: 6631.742765<br>margin level: inf",
          "balance: 6631.742765 USD<br>equity: 6631.742765<br>margin: 0.000000<br>free margin: 6631.742765<br>margin level: inf",
          "balance: 6631.742765 USD<br>equity: 6631.742765<br>margin: 0.000000<br>free margin: 6631.742765<br>margin level: inf",
          "balance: 6631.742765 USD<br>equity: 6631.742765<br>margin: 0.000000<br>free margin: 6631.742765<br>margin level: inf",
          "balance: 6631.742765 USD<br>equity: 6631.742765<br>margin: 0.000000<br>free margin: 6631.742765<br>margin level: inf",
          "balance: 6631.742765 USD<br>equity: 6631.742765<br>margin: 0.000000<br>free margin: 6631.742765<br>margin level: inf",
          "balance: 6631.742765 USD<br>equity: 6631.742765<br>margin: 0.000000<br>free margin: 6631.742765<br>margin level: inf",
          "balance: 6631.742765 USD<br>equity: 6631.742765<br>margin: 0.000000<br>free margin: 6631.742765<br>margin level: inf",
          "balance: 6631.742765 USD<br>equity: 6631.742765<br>margin: 0.000000<br>free margin: 6631.742765<br>margin level: inf",
          "balance: 6631.742765 USD<br>equity: 6631.742765<br>margin: 0.000000<br>free margin: 6631.742765<br>margin level: inf",
          "balance: 6631.742765 USD<br>equity: 6631.742765<br>margin: 0.000000<br>free margin: 6631.742765<br>margin level: inf",
          "balance: 6631.742765 USD<br>equity: 6631.742765<br>margin: 0.000000<br>free margin: 6631.742765<br>margin level: inf",
          "balance: 6631.742765 USD<br>equity: 6631.742765<br>margin: 0.000000<br>free margin: 6631.742765<br>margin level: inf",
          "balance: 6631.742765 USD<br>equity: 6631.742765<br>margin: 0.000000<br>free margin: 6631.742765<br>margin level: inf",
          "balance: 6631.742765 USD<br>equity: 6631.742765<br>margin: 0.000000<br>free margin: 6631.742765<br>margin level: inf",
          "balance: 6631.742765 USD<br>equity: 6631.742765<br>margin: 0.000000<br>free margin: 6631.742765<br>margin level: inf",
          "balance: 6631.742765 USD<br>equity: 6631.742765<br>margin: 0.000000<br>free margin: 6631.742765<br>margin level: inf",
          "balance: 6631.742765 USD<br>equity: 6631.742765<br>margin: 0.000000<br>free margin: 6631.742765<br>margin level: inf",
          "balance: 6631.742765 USD<br>equity: 6631.742765<br>margin: 0.000000<br>free margin: 6631.742765<br>margin level: inf",
          "balance: 6631.742765 USD<br>equity: 6631.742765<br>margin: 0.000000<br>free margin: 6631.742765<br>margin level: inf",
          "balance: 6631.742765 USD<br>equity: 6631.742765<br>margin: 0.000000<br>free margin: 6631.742765<br>margin level: inf",
          "balance: 6631.742765 USD<br>equity: 6631.742765<br>margin: 0.000000<br>free margin: 6631.742765<br>margin level: inf",
          "balance: 6631.742765 USD<br>equity: 6631.742765<br>margin: 0.000000<br>free margin: 6631.742765<br>margin level: inf",
          "balance: 6631.742765 USD<br>equity: 6602.167240<br>margin: 340.000000<br>free margin: 6262.167240<br>margin level: 19.418139",
          "balance: 6631.742765 USD<br>equity: 6774.610791<br>margin: 340.000000<br>free margin: 6434.610791<br>margin level: 19.925326",
          "balance: 6774.610791 USD<br>equity: 6774.610791<br>margin: 0.000000<br>free margin: 6774.610791<br>margin level: inf",
          "balance: 6774.610791 USD<br>equity: 6774.610791<br>margin: 0.000000<br>free margin: 6774.610791<br>margin level: inf",
          "balance: 6774.610791 USD<br>equity: 6774.610791<br>margin: 0.000000<br>free margin: 6774.610791<br>margin level: inf",
          "balance: 6774.610791 USD<br>equity: 6774.610791<br>margin: 0.000000<br>free margin: 6774.610791<br>margin level: inf",
          "balance: 6774.610791 USD<br>equity: 6774.610791<br>margin: 0.000000<br>free margin: 6774.610791<br>margin level: inf",
          "balance: 6774.610791 USD<br>equity: 6774.610791<br>margin: 0.000000<br>free margin: 6774.610791<br>margin level: inf",
          "balance: 6774.610791 USD<br>equity: 6774.610791<br>margin: 0.000000<br>free margin: 6774.610791<br>margin level: inf",
          "balance: 6774.610791 USD<br>equity: 6774.610791<br>margin: 0.000000<br>free margin: 6774.610791<br>margin level: inf",
          "balance: 6774.610791 USD<br>equity: 6774.610791<br>margin: 0.000000<br>free margin: 6774.610791<br>margin level: inf",
          "balance: 6774.610791 USD<br>equity: 6774.610791<br>margin: 0.000000<br>free margin: 6774.610791<br>margin level: inf",
          "balance: 6774.610791 USD<br>equity: 6774.610791<br>margin: 0.000000<br>free margin: 6774.610791<br>margin level: inf",
          "balance: 6774.610791 USD<br>equity: 5106.997836<br>margin: 6427.429665<br>free margin: -1320.431829<br>margin level: 0.794563",
          "balance: 6774.610791 USD<br>equity: 7166.822376<br>margin: 6427.429665<br>free margin: 739.392711<br>margin level: 1.115037",
          "balance: 7166.822376 USD<br>equity: 7166.822376<br>margin: 0.000000<br>free margin: 7166.822376<br>margin level: inf",
          "balance: 7166.822376 USD<br>equity: 7166.822376<br>margin: 0.000000<br>free margin: 7166.822376<br>margin level: inf",
          "balance: 7166.822376 USD<br>equity: 7685.562670<br>margin: 4890.000000<br>free margin: 2795.562670<br>margin level: 1.571690",
          "balance: 7685.562670 USD<br>equity: 7685.562670<br>margin: 0.000000<br>free margin: 7685.562670<br>margin level: inf",
          "balance: 7685.562670 USD<br>equity: 7685.562670<br>margin: 0.000000<br>free margin: 7685.562670<br>margin level: inf",
          "balance: 7685.562670 USD<br>equity: 7685.562670<br>margin: 0.000000<br>free margin: 7685.562670<br>margin level: inf",
          "balance: 7685.562670 USD<br>equity: 7685.562670<br>margin: 0.000000<br>free margin: 7685.562670<br>margin level: inf",
          "balance: 7685.562670 USD<br>equity: 7685.562670<br>margin: 0.000000<br>free margin: 7685.562670<br>margin level: inf",
          "balance: 7685.562670 USD<br>equity: 7685.562670<br>margin: 0.000000<br>free margin: 7685.562670<br>margin level: inf",
          "balance: 7685.562670 USD<br>equity: 7685.562670<br>margin: 0.000000<br>free margin: 7685.562670<br>margin level: inf",
          "balance: 7685.562670 USD<br>equity: 7685.562670<br>margin: 0.000000<br>free margin: 7685.562670<br>margin level: inf",
          "balance: 7685.562670 USD<br>equity: 7055.201107<br>margin: 2598.150300<br>free margin: 4457.050807<br>margin level: 2.715471",
          "balance: 7685.562670 USD<br>equity: 6967.601107<br>margin: 2598.150300<br>free margin: 4369.450807<br>margin level: 2.681754",
          "balance: 6967.601107 USD<br>equity: 6967.601107<br>margin: 0.000000<br>free margin: 6967.601107<br>margin level: inf",
          "balance: 6967.601107 USD<br>equity: 6967.601107<br>margin: 0.000000<br>free margin: 6967.601107<br>margin level: inf",
          "balance: 6967.601107 USD<br>equity: 6967.601107<br>margin: 0.000000<br>free margin: 6967.601107<br>margin level: inf",
          "balance: 6967.601107 USD<br>equity: 6967.601107<br>margin: 0.000000<br>free margin: 6967.601107<br>margin level: inf",
          "balance: 6967.601107 USD<br>equity: 6967.601107<br>margin: 0.000000<br>free margin: 6967.601107<br>margin level: inf",
          "balance: 6967.601107 USD<br>equity: 6967.601107<br>margin: 0.000000<br>free margin: 6967.601107<br>margin level: inf",
          "balance: 6967.601107 USD<br>equity: 6967.601107<br>margin: 0.000000<br>free margin: 6967.601107<br>margin level: inf",
          "balance: 6967.601107 USD<br>equity: 6967.601107<br>margin: 0.000000<br>free margin: 6967.601107<br>margin level: inf",
          "balance: 6967.601107 USD<br>equity: 6967.601107<br>margin: 0.000000<br>free margin: 6967.601107<br>margin level: inf",
          "balance: 6967.601107 USD<br>equity: 6967.601107<br>margin: 0.000000<br>free margin: 6967.601107<br>margin level: inf",
          "balance: 6967.601107 USD<br>equity: 6967.601107<br>margin: 0.000000<br>free margin: 6967.601107<br>margin level: inf",
          "balance: 6967.601107 USD<br>equity: 6967.601107<br>margin: 0.000000<br>free margin: 6967.601107<br>margin level: inf",
          "balance: 6967.601107 USD<br>equity: 6967.601107<br>margin: 0.000000<br>free margin: 6967.601107<br>margin level: inf",
          "balance: 6967.601107 USD<br>equity: 6967.601107<br>margin: 0.000000<br>free margin: 6967.601107<br>margin level: inf",
          "balance: 6967.601107 USD<br>equity: 6967.601107<br>margin: 0.000000<br>free margin: 6967.601107<br>margin level: inf",
          "balance: 6967.601107 USD<br>equity: 6967.601107<br>margin: 0.000000<br>free margin: 6967.601107<br>margin level: inf",
          "balance: 6967.601107 USD<br>equity: 6967.601107<br>margin: 0.000000<br>free margin: 6967.601107<br>margin level: inf",
          "balance: 6967.601107 USD<br>equity: 6967.601107<br>margin: 0.000000<br>free margin: 6967.601107<br>margin level: inf",
          "balance: 6967.601107 USD<br>equity: 6967.601107<br>margin: 0.000000<br>free margin: 6967.601107<br>margin level: inf",
          "balance: 6967.601107 USD<br>equity: 6967.601107<br>margin: 0.000000<br>free margin: 6967.601107<br>margin level: inf",
          "balance: 6967.601107 USD<br>equity: 6967.601107<br>margin: 0.000000<br>free margin: 6967.601107<br>margin level: inf"
         ],
         "legendgroup": "g3",
         "line": {
          "color": "rgba(0.7372549019607844, 0.7411764705882353, 0.13333333333333333, 1.0)"
         },
         "mode": "lines+markers",
         "name": "USDJPY",
         "opacity": 1,
         "type": "scatter",
         "x": [
          "2021-05-05T00:00:00+00:00",
          "2021-05-06T00:00:00+00:00",
          "2021-05-07T00:00:00+00:00",
          "2021-05-10T00:00:00+00:00",
          "2021-05-11T00:00:00+00:00",
          "2021-05-12T00:00:00+00:00",
          "2021-05-13T00:00:00+00:00",
          "2021-05-14T00:00:00+00:00",
          "2021-05-17T00:00:00+00:00",
          "2021-05-18T00:00:00+00:00",
          "2021-05-19T00:00:00+00:00",
          "2021-05-20T00:00:00+00:00",
          "2021-05-21T00:00:00+00:00",
          "2021-05-24T00:00:00+00:00",
          "2021-05-25T00:00:00+00:00",
          "2021-05-26T00:00:00+00:00",
          "2021-05-27T00:00:00+00:00",
          "2021-05-28T00:00:00+00:00",
          "2021-05-31T00:00:00+00:00",
          "2021-06-01T00:00:00+00:00",
          "2021-06-02T00:00:00+00:00",
          "2021-06-03T00:00:00+00:00",
          "2021-06-04T00:00:00+00:00",
          "2021-06-07T00:00:00+00:00",
          "2021-06-08T00:00:00+00:00",
          "2021-06-09T00:00:00+00:00",
          "2021-06-10T00:00:00+00:00",
          "2021-06-11T00:00:00+00:00",
          "2021-06-14T00:00:00+00:00",
          "2021-06-15T00:00:00+00:00",
          "2021-06-16T00:00:00+00:00",
          "2021-06-17T00:00:00+00:00",
          "2021-06-18T00:00:00+00:00",
          "2021-06-21T00:00:00+00:00",
          "2021-06-22T00:00:00+00:00",
          "2021-06-23T00:00:00+00:00",
          "2021-06-24T00:00:00+00:00",
          "2021-06-25T00:00:00+00:00",
          "2021-06-28T00:00:00+00:00",
          "2021-06-29T00:00:00+00:00",
          "2021-06-30T00:00:00+00:00",
          "2021-07-01T00:00:00+00:00",
          "2021-07-02T00:00:00+00:00",
          "2021-07-05T00:00:00+00:00",
          "2021-07-06T00:00:00+00:00",
          "2021-07-07T00:00:00+00:00",
          "2021-07-08T00:00:00+00:00",
          "2021-07-09T00:00:00+00:00",
          "2021-07-12T00:00:00+00:00",
          "2021-07-13T00:00:00+00:00",
          "2021-07-14T00:00:00+00:00",
          "2021-07-15T00:00:00+00:00",
          "2021-07-16T00:00:00+00:00",
          "2021-07-19T00:00:00+00:00",
          "2021-07-20T00:00:00+00:00",
          "2021-07-21T00:00:00+00:00",
          "2021-07-22T00:00:00+00:00",
          "2021-07-23T00:00:00+00:00",
          "2021-07-26T00:00:00+00:00",
          "2021-07-27T00:00:00+00:00",
          "2021-07-28T00:00:00+00:00",
          "2021-07-29T00:00:00+00:00",
          "2021-07-30T00:00:00+00:00",
          "2021-08-02T00:00:00+00:00",
          "2021-08-03T00:00:00+00:00",
          "2021-08-04T00:00:00+00:00",
          "2021-08-05T00:00:00+00:00",
          "2021-08-06T00:00:00+00:00",
          "2021-08-09T00:00:00+00:00",
          "2021-08-10T00:00:00+00:00",
          "2021-08-11T00:00:00+00:00",
          "2021-08-12T00:00:00+00:00",
          "2021-08-13T00:00:00+00:00",
          "2021-08-16T00:00:00+00:00",
          "2021-08-17T00:00:00+00:00",
          "2021-08-18T00:00:00+00:00",
          "2021-08-19T00:00:00+00:00",
          "2021-08-20T00:00:00+00:00",
          "2021-08-23T00:00:00+00:00",
          "2021-08-24T00:00:00+00:00",
          "2021-08-25T00:00:00+00:00",
          "2021-08-26T00:00:00+00:00",
          "2021-08-27T00:00:00+00:00",
          "2021-08-30T00:00:00+00:00",
          "2021-08-31T00:00:00+00:00",
          "2021-09-01T00:00:00+00:00",
          "2021-09-02T00:00:00+00:00",
          "2021-09-03T00:00:00+00:00"
         ],
         "y": [
          109.188,
          109.09,
          108.604,
          108.81,
          108.615,
          109.699,
          109.453,
          109.362,
          109.209,
          108.888,
          109.227,
          108.767,
          108.945,
          108.74,
          108.747,
          109.139,
          109.808,
          109.872,
          109.556,
          109.467,
          109.547,
          110.276,
          109.524,
          109.238,
          109.492,
          109.618,
          109.319,
          109.682,
          110.071,
          110.056,
          110.708,
          110.221,
          110.211,
          110.314,
          110.658,
          110.949,
          110.874,
          110.778,
          110.614,
          110.538,
          111.101,
          111.521,
          111.02,
          110.962,
          110.61,
          110.608,
          109.748,
          110.102,
          110.349,
          110.627,
          109.95,
          109.831,
          110.081,
          109.447,
          109.843,
          110.286,
          110.149,
          110.547,
          110.381,
          109.774,
          109.909,
          109.47,
          109.656,
          109.305,
          109.042,
          109.473,
          109.761,
          110.217,
          110.267,
          110.56,
          110.428,
          110.386,
          109.592,
          109.243,
          109.595,
          109.763,
          109.763,
          109.799,
          109.694,
          109.679,
          110.023,
          110.081,
          109.85,
          109.913,
          110.007,
          110.025,
          109.937,
          109.712
         ],
         "yaxis": "y3"
        },
        {
         "hovertext": [
          "order id: <br>hold probability: 0.0000<br>hold: False<br>volume: 21.102274<br>modified volume: 21.1000<br>fee: nan<br>margin: nan<br>error: low free margin (order margin=21100.000000000004, order profit=-507.7272352903211, free margin=11671.459509553253)",
          "order id: <br>hold probability: 0.0006<br>hold: False<br>volume: -98.946972<br>modified volume: 98.9500<br>fee: nan<br>margin: nan<br>error: low free margin (order margin=98950.00000000001, order profit=-1859.0616078463672, free margin=11671.459509553253)",
          "order id: <br>hold probability: 0.0000<br>hold: False<br>volume: -27.345010<br>modified volume: 27.3500<br>fee: nan<br>margin: nan<br>error: low free margin (order margin=27350.000000000004, order profit=-442.4681201946459, free margin=11671.459509553253)",
          "order id: <br>hold probability: 0.0000<br>hold: False<br>volume: -12.163443<br>modified volume: 12.1600<br>fee: nan<br>margin: nan<br>error: low free margin (order margin=12159.999999999998, order profit=-234.38459200240712, free margin=11671.459509553253)",
          "order id: <br>hold probability: 0.0000<br>hold: False<br>volume: -6.529857<br>modified volume: 6.5300<br>fee: nan<br>margin: nan<br>error: low free margin (order margin=6530.000000000001, order profit=-129.4051427241195, free margin=1106.9977647482647)",
          "order id: <br>hold probability: 0.0000<br>hold: False<br>volume: 33.605287<br>modified volume: 33.6100<br>fee: nan<br>margin: nan<br>error: low free margin (order margin=33610.0, order profit=-709.4586862212519, free margin=6631.742764748329)",
          "order id: <br>hold probability: 0.0000<br>hold: False<br>volume: 24.342437<br>modified volume: 24.3400<br>fee: nan<br>margin: nan<br>error: low free margin (order margin=24340.0, order profit=-378.3464418484589, free margin=6631.742764748329)",
          "order id: <br>hold probability: 0.0000<br>hold: False<br>volume: -24.647835<br>modified volume: 24.6500<br>fee: nan<br>margin: nan<br>error: low free margin (order margin=24650.000000000004, order profit=-455.6683264462936, free margin=6631.742764748329)",
          "order id: <br>hold probability: 0.0000<br>hold: False<br>volume: 80.902516<br>modified volume: 80.9000<br>fee: nan<br>margin: nan<br>error: low free margin (order margin=80900.00000000001, order profit=-1431.315800426182, free margin=6631.742764748329)",
          "order id: <br>hold probability: 0.0000<br>hold: False<br>volume: 60.602275<br>modified volume: 60.6000<br>fee: nan<br>margin: nan<br>error: low free margin (order margin=60600.0, order profit=-1462.2230967886546, free margin=6631.742764748329)",
          "order id: <br>hold probability: 0.0000<br>hold: False<br>volume: -92.363514<br>modified volume: 92.3600<br>fee: nan<br>margin: nan<br>error: low free margin (order margin=92360.00000000001, order profit=-1844.652119403755, free margin=6631.742764748329)",
          "order id: <br>hold probability: 0.0000<br>hold: False<br>volume: -83.141146<br>modified volume: 83.1400<br>fee: nan<br>margin: nan<br>error: low free margin (order margin=83139.99999999999, order profit=-1822.4033864905887, free margin=6631.742764748329)",
          "order id: <br>hold probability: 0.0000<br>hold: False<br>volume: -18.749418<br>modified volume: 18.7500<br>fee: nan<br>margin: nan<br>error: low free margin (order margin=18750.0, order profit=-360.89051278573834, free margin=6631.742764748329)",
          "order id: <br>hold probability: 0.0000<br>hold: False<br>volume: 71.557903<br>modified volume: 71.5600<br>fee: nan<br>margin: nan<br>error: low free margin (order margin=71560.0, order profit=-1099.8981376179674, free margin=6631.742764748329)",
          "order id: <br>hold probability: 0.0000<br>hold: False<br>volume: -44.252522<br>modified volume: 44.2500<br>fee: nan<br>margin: nan<br>error: low free margin (order margin=44249.99999999999, order profit=-974.0716033126905, free margin=6631.742764748329)",
          "order id: 3<br>hold probability: 0.0574<br>hold: False<br>volume: 0.339334<br>modified volume: 0.3400<br>fee: 0.020154<br>margin: 340.000000<br>error: ",
          "order id: <br>hold probability: 0.0000<br>hold: False<br>volume: 76.417406<br>modified volume: 76.4200<br>fee: nan<br>margin: nan<br>error: low free margin (order margin=76420.0, order profit=-1419.6912056209887, free margin=6774.610791298202)",
          "order id: <br>hold probability: 0.0000<br>hold: False<br>volume: -60.633255<br>modified volume: 60.6300<br>fee: nan<br>margin: nan<br>error: low free margin (order margin=60630.0, order profit=-1074.2224258480287, free margin=6774.610791298202)",
          "order id: <br>hold probability: 0.0000<br>hold: False<br>volume: -99.826591<br>modified volume: 99.8300<br>fee: nan<br>margin: nan<br>error: low free margin (order margin=99830.0, order profit=-1679.3422905665868, free margin=6774.610791298202)",
          "order id: <br>hold probability: 0.0000<br>hold: False<br>volume: -51.790291<br>modified volume: 51.7900<br>fee: nan<br>margin: nan<br>error: low free margin (order margin=51790.0, order profit=-826.019104743997, free margin=6774.610791298202)",
          "order id: <br>hold probability: 0.0000<br>hold: False<br>volume: -32.078819<br>modified volume: 32.0800<br>fee: nan<br>margin: nan<br>error: low free margin (order margin=32080.0, order profit=-447.2719725725822, free margin=6774.610791298202)",
          "order id: <br>hold probability: 0.0000<br>hold: False<br>volume: 15.199693<br>modified volume: 15.2000<br>fee: nan<br>margin: nan<br>error: low free margin (order margin=15200.0, order profit=-290.91920567717546, free margin=6774.610791298202)",
          "order id: <br>hold probability: 0.0628<br>hold: False<br>volume: -58.870363<br>modified volume: 58.8700<br>fee: nan<br>margin: nan<br>error: low free margin (order margin=58870.0, order profit=-1065.0164915852422, free margin=6774.610791298202)",
          "order id: <br>hold probability: 0.0000<br>hold: False<br>volume: 90.150738<br>modified volume: 90.1500<br>fee: nan<br>margin: nan<br>error: low free margin (order margin=90150.0, order profit=-1918.8063137716774, free margin=101.64528877372686)",
          "order id: <br>hold probability: 0.0000<br>hold: False<br>volume: 70.358511<br>modified volume: 70.3600<br>fee: nan<br>margin: nan<br>error: low free margin (order margin=70360.0, order profit=-1608.7510195712764, free margin=7166.822376423728)",
          "order id: 5<br>hold probability: 0.0000<br>hold: False<br>volume: -4.893055<br>modified volume: 4.8900<br>fee: 0.020152<br>margin: 4890.000000<br>error: ",
          "order id: <br>hold probability: 0.0000<br>hold: False<br>volume: -92.454327<br>modified volume: 92.4500<br>fee: nan<br>margin: nan<br>error: low free margin (order margin=92450.00000000001, order profit=-1546.5662519378209, free margin=7685.562669606192)",
          "order id: <br>hold probability: 0.0000<br>hold: False<br>volume: -13.796144<br>modified volume: 13.8000<br>fee: nan<br>margin: nan<br>error: low free margin (order margin=13800.0, order profit=-275.6239443674945, free margin=7685.562669606192)",
          "order id: <br>hold probability: 0.0000<br>hold: False<br>volume: -65.294984<br>modified volume: 65.2900<br>fee: nan<br>margin: nan<br>error: low free margin (order margin=65290.000000000015, order profit=-855.5334405751579, free margin=7685.562669606192)",
          "order id: <br>hold probability: 0.0000<br>hold: False<br>volume: -56.627747<br>modified volume: 56.6300<br>fee: nan<br>margin: nan<br>error: low free margin (order margin=56630.00000000001, order profit=-1202.7026134070936, free margin=7685.562669606192)",
          "order id: <br>hold probability: 0.0103<br>hold: False<br>volume: 7.429670<br>modified volume: 7.4300<br>fee: nan<br>margin: nan<br>error: low free margin (order margin=7430.000000000001, order profit=-132.83989792208223, free margin=5048.350806569215)",
          "order id: <br>hold probability: 0.0000<br>hold: False<br>volume: 24.269831<br>modified volume: 24.2700<br>fee: nan<br>margin: nan<br>error: low free margin (order margin=24270.0, order profit=-316.83436599001493, free margin=4457.050806569232)",
          "order id: <br>hold probability: 0.0000<br>hold: False<br>volume: -93.304687<br>modified volume: 93.3000<br>fee: nan<br>margin: nan<br>error: low free margin (order margin=93300.0, order profit=-1813.683380320416, free margin=6967.60110656924)",
          "order id: <br>hold probability: 0.0000<br>hold: False<br>volume: 11.877776<br>modified volume: 11.8800<br>fee: nan<br>margin: nan<br>error: low free margin (order margin=11880.0, order profit=-266.30251575691074, free margin=6967.60110656924)",
          "order id: <br>hold probability: 0.0000<br>hold: False<br>volume: -80.150182<br>modified volume: 80.1500<br>fee: nan<br>margin: nan<br>error: low free margin (order margin=80150.00000000001, order profit=-1163.4136848387427, free margin=6967.60110656924)",
          "order id: <br>hold probability: 0.0167<br>hold: False<br>volume: -66.418737<br>modified volume: 66.4200<br>fee: nan<br>margin: nan<br>error: low free margin (order margin=66420.0, order profit=-1254.2777787398638, free margin=6967.60110656924)",
          "order id: <br>hold probability: 0.0000<br>hold: False<br>volume: 17.900152<br>modified volume: 17.9000<br>fee: nan<br>margin: nan<br>error: low free margin (order margin=17900.000000000004, order profit=-297.2045645222159, free margin=6967.60110656924)",
          "order id: <br>hold probability: 0.0000<br>hold: False<br>volume: 81.630725<br>modified volume: 81.6300<br>fee: nan<br>margin: nan<br>error: low free margin (order margin=81630.0, order profit=-1297.3221301092988, free margin=6967.60110656924)"
         ],
         "legendgroup": "g3",
         "marker": {
          "color": [
           "gray",
           "gray",
           "gray",
           "gray",
           "gray",
           "gray",
           "gray",
           "gray",
           "gray",
           "gray",
           "gray",
           "gray",
           "gray",
           "gray",
           "gray",
           "green",
           "gray",
           "gray",
           "gray",
           "gray",
           "gray",
           "gray",
           "gray",
           "gray",
           "gray",
           "red",
           "gray",
           "gray",
           "gray",
           "gray",
           "gray",
           "gray",
           "gray",
           "gray",
           "gray",
           "gray",
           "gray",
           "gray"
          ],
          "size": [
           12.649904838224984,
           29.806070319543224,
           14.027246318741861,
           10.67975558449364,
           9.439046378844035,
           15.406791545627566,
           13.363918661724933,
           13.43223479915857,
           25.82830812381048,
           21.354702995091657,
           28.353801462486228,
           26.321947310427728,
           12.132024441550637,
           23.770009015326053,
           17.7515776820595,
           8.074927376540119,
           24.84102975057598,
           21.361314234198137,
           30,
           19.41320244415506,
           15.069618351197034,
           11.34969448061705,
           20.973454873284584,
           27.86677351497546,
           23.505559451066816,
           9.077631974356406,
           28.37363517980567,
           11.041169988981268,
           22.388260042071522,
           20.479815686667337,
           9.637383552038465,
           13.348492437143143,
           28.560953621155964,
           10.618050686166484,
           25.663027146148455,
           22.637283381748972,
           11.944706000200341,
           25.98918160873485
          ],
          "symbol": [
           "triangle-down",
           "triangle-down",
           "triangle-down",
           "triangle-down",
           "triangle-down",
           "triangle-down",
           "triangle-down",
           "triangle-down",
           "triangle-down",
           "triangle-down",
           "triangle-down",
           "triangle-down",
           "triangle-down",
           "triangle-down",
           "triangle-down",
           "triangle-up",
           "triangle-down",
           "triangle-down",
           "triangle-down",
           "triangle-down",
           "triangle-down",
           "triangle-down",
           "triangle-down",
           "triangle-down",
           "triangle-down",
           "triangle-down",
           "triangle-down",
           "triangle-down",
           "triangle-down",
           "triangle-down",
           "triangle-down",
           "triangle-down",
           "triangle-down",
           "triangle-down",
           "triangle-down",
           "triangle-down",
           "triangle-down",
           "triangle-down"
          ]
         },
         "mode": "markers",
         "name": "USDJPY",
         "showlegend": false,
         "type": "scatter",
         "x": [
          "2021-05-19T00:00:00+00:00",
          "2021-05-20T00:00:00+00:00",
          "2021-05-21T00:00:00+00:00",
          "2021-05-24T00:00:00+00:00",
          "2021-05-25T00:00:00+00:00",
          "2021-05-27T00:00:00+00:00",
          "2021-06-01T00:00:00+00:00",
          "2021-06-04T00:00:00+00:00",
          "2021-06-07T00:00:00+00:00",
          "2021-06-08T00:00:00+00:00",
          "2021-06-09T00:00:00+00:00",
          "2021-06-18T00:00:00+00:00",
          "2021-06-22T00:00:00+00:00",
          "2021-06-23T00:00:00+00:00",
          "2021-06-25T00:00:00+00:00",
          "2021-06-28T00:00:00+00:00",
          "2021-06-30T00:00:00+00:00",
          "2021-07-02T00:00:00+00:00",
          "2021-07-07T00:00:00+00:00",
          "2021-07-08T00:00:00+00:00",
          "2021-07-09T00:00:00+00:00",
          "2021-07-12T00:00:00+00:00",
          "2021-07-14T00:00:00+00:00",
          "2021-07-15T00:00:00+00:00",
          "2021-07-19T00:00:00+00:00",
          "2021-07-21T00:00:00+00:00",
          "2021-07-27T00:00:00+00:00",
          "2021-07-29T00:00:00+00:00",
          "2021-07-30T00:00:00+00:00",
          "2021-08-02T00:00:00+00:00",
          "2021-08-03T00:00:00+00:00",
          "2021-08-04T00:00:00+00:00",
          "2021-08-10T00:00:00+00:00",
          "2021-08-13T00:00:00+00:00",
          "2021-08-16T00:00:00+00:00",
          "2021-08-19T00:00:00+00:00",
          "2021-08-27T00:00:00+00:00",
          "2021-09-01T00:00:00+00:00"
         ],
         "y": [
          109.227,
          108.767,
          108.945,
          108.74,
          108.747,
          109.808,
          109.467,
          109.524,
          109.238,
          109.492,
          109.618,
          110.211,
          110.658,
          110.949,
          110.778,
          110.614,
          111.101,
          111.02,
          110.608,
          109.748,
          110.102,
          110.349,
          109.95,
          109.831,
          109.447,
          110.286,
          109.774,
          109.47,
          109.656,
          109.305,
          109.042,
          109.473,
          110.56,
          109.592,
          109.243,
          109.763,
          109.85,
          110.025
         ],
         "yaxis": "y3"
        },
        {
         "hovertext": [
          "order id: 3<br>order type: Buy<br>close probability: 1.0000<br>margin: 340.000000<br>profit: 142.868027",
          "order id: 5<br>order type: Sell<br>close probability: 1.0000<br>margin: 4890.000000<br>profit: 518.740293"
         ],
         "legendgroup": "g3",
         "marker": {
          "color": "black",
          "line": {
           "width": 1.5
          },
          "size": 7,
          "symbol": "line-ns"
         },
         "mode": "markers",
         "name": "USDJPY",
         "showlegend": false,
         "type": "scatter",
         "x": [
          "2021-06-30T00:00:00+00:00",
          "2021-07-22T00:00:00+00:00"
         ],
         "y": [
          111.101,
          110.149
         ],
         "yaxis": "y3"
        }
       ],
       "layout": {
        "height": 600,
        "template": {
         "data": {
          "bar": [
           {
            "error_x": {
             "color": "#2a3f5f"
            },
            "error_y": {
             "color": "#2a3f5f"
            },
            "marker": {
             "line": {
              "color": "#E5ECF6",
              "width": 0.5
             },
             "pattern": {
              "fillmode": "overlay",
              "size": 10,
              "solidity": 0.2
             }
            },
            "type": "bar"
           }
          ],
          "barpolar": [
           {
            "marker": {
             "line": {
              "color": "#E5ECF6",
              "width": 0.5
             },
             "pattern": {
              "fillmode": "overlay",
              "size": 10,
              "solidity": 0.2
             }
            },
            "type": "barpolar"
           }
          ],
          "carpet": [
           {
            "aaxis": {
             "endlinecolor": "#2a3f5f",
             "gridcolor": "white",
             "linecolor": "white",
             "minorgridcolor": "white",
             "startlinecolor": "#2a3f5f"
            },
            "baxis": {
             "endlinecolor": "#2a3f5f",
             "gridcolor": "white",
             "linecolor": "white",
             "minorgridcolor": "white",
             "startlinecolor": "#2a3f5f"
            },
            "type": "carpet"
           }
          ],
          "choropleth": [
           {
            "colorbar": {
             "outlinewidth": 0,
             "ticks": ""
            },
            "type": "choropleth"
           }
          ],
          "contour": [
           {
            "colorbar": {
             "outlinewidth": 0,
             "ticks": ""
            },
            "colorscale": [
             [
              0,
              "#0d0887"
             ],
             [
              0.1111111111111111,
              "#46039f"
             ],
             [
              0.2222222222222222,
              "#7201a8"
             ],
             [
              0.3333333333333333,
              "#9c179e"
             ],
             [
              0.4444444444444444,
              "#bd3786"
             ],
             [
              0.5555555555555556,
              "#d8576b"
             ],
             [
              0.6666666666666666,
              "#ed7953"
             ],
             [
              0.7777777777777778,
              "#fb9f3a"
             ],
             [
              0.8888888888888888,
              "#fdca26"
             ],
             [
              1,
              "#f0f921"
             ]
            ],
            "type": "contour"
           }
          ],
          "contourcarpet": [
           {
            "colorbar": {
             "outlinewidth": 0,
             "ticks": ""
            },
            "type": "contourcarpet"
           }
          ],
          "heatmap": [
           {
            "colorbar": {
             "outlinewidth": 0,
             "ticks": ""
            },
            "colorscale": [
             [
              0,
              "#0d0887"
             ],
             [
              0.1111111111111111,
              "#46039f"
             ],
             [
              0.2222222222222222,
              "#7201a8"
             ],
             [
              0.3333333333333333,
              "#9c179e"
             ],
             [
              0.4444444444444444,
              "#bd3786"
             ],
             [
              0.5555555555555556,
              "#d8576b"
             ],
             [
              0.6666666666666666,
              "#ed7953"
             ],
             [
              0.7777777777777778,
              "#fb9f3a"
             ],
             [
              0.8888888888888888,
              "#fdca26"
             ],
             [
              1,
              "#f0f921"
             ]
            ],
            "type": "heatmap"
           }
          ],
          "heatmapgl": [
           {
            "colorbar": {
             "outlinewidth": 0,
             "ticks": ""
            },
            "colorscale": [
             [
              0,
              "#0d0887"
             ],
             [
              0.1111111111111111,
              "#46039f"
             ],
             [
              0.2222222222222222,
              "#7201a8"
             ],
             [
              0.3333333333333333,
              "#9c179e"
             ],
             [
              0.4444444444444444,
              "#bd3786"
             ],
             [
              0.5555555555555556,
              "#d8576b"
             ],
             [
              0.6666666666666666,
              "#ed7953"
             ],
             [
              0.7777777777777778,
              "#fb9f3a"
             ],
             [
              0.8888888888888888,
              "#fdca26"
             ],
             [
              1,
              "#f0f921"
             ]
            ],
            "type": "heatmapgl"
           }
          ],
          "histogram": [
           {
            "marker": {
             "pattern": {
              "fillmode": "overlay",
              "size": 10,
              "solidity": 0.2
             }
            },
            "type": "histogram"
           }
          ],
          "histogram2d": [
           {
            "colorbar": {
             "outlinewidth": 0,
             "ticks": ""
            },
            "colorscale": [
             [
              0,
              "#0d0887"
             ],
             [
              0.1111111111111111,
              "#46039f"
             ],
             [
              0.2222222222222222,
              "#7201a8"
             ],
             [
              0.3333333333333333,
              "#9c179e"
             ],
             [
              0.4444444444444444,
              "#bd3786"
             ],
             [
              0.5555555555555556,
              "#d8576b"
             ],
             [
              0.6666666666666666,
              "#ed7953"
             ],
             [
              0.7777777777777778,
              "#fb9f3a"
             ],
             [
              0.8888888888888888,
              "#fdca26"
             ],
             [
              1,
              "#f0f921"
             ]
            ],
            "type": "histogram2d"
           }
          ],
          "histogram2dcontour": [
           {
            "colorbar": {
             "outlinewidth": 0,
             "ticks": ""
            },
            "colorscale": [
             [
              0,
              "#0d0887"
             ],
             [
              0.1111111111111111,
              "#46039f"
             ],
             [
              0.2222222222222222,
              "#7201a8"
             ],
             [
              0.3333333333333333,
              "#9c179e"
             ],
             [
              0.4444444444444444,
              "#bd3786"
             ],
             [
              0.5555555555555556,
              "#d8576b"
             ],
             [
              0.6666666666666666,
              "#ed7953"
             ],
             [
              0.7777777777777778,
              "#fb9f3a"
             ],
             [
              0.8888888888888888,
              "#fdca26"
             ],
             [
              1,
              "#f0f921"
             ]
            ],
            "type": "histogram2dcontour"
           }
          ],
          "mesh3d": [
           {
            "colorbar": {
             "outlinewidth": 0,
             "ticks": ""
            },
            "type": "mesh3d"
           }
          ],
          "parcoords": [
           {
            "line": {
             "colorbar": {
              "outlinewidth": 0,
              "ticks": ""
             }
            },
            "type": "parcoords"
           }
          ],
          "pie": [
           {
            "automargin": true,
            "type": "pie"
           }
          ],
          "scatter": [
           {
            "fillpattern": {
             "fillmode": "overlay",
             "size": 10,
             "solidity": 0.2
            },
            "type": "scatter"
           }
          ],
          "scatter3d": [
           {
            "line": {
             "colorbar": {
              "outlinewidth": 0,
              "ticks": ""
             }
            },
            "marker": {
             "colorbar": {
              "outlinewidth": 0,
              "ticks": ""
             }
            },
            "type": "scatter3d"
           }
          ],
          "scattercarpet": [
           {
            "marker": {
             "colorbar": {
              "outlinewidth": 0,
              "ticks": ""
             }
            },
            "type": "scattercarpet"
           }
          ],
          "scattergeo": [
           {
            "marker": {
             "colorbar": {
              "outlinewidth": 0,
              "ticks": ""
             }
            },
            "type": "scattergeo"
           }
          ],
          "scattergl": [
           {
            "marker": {
             "colorbar": {
              "outlinewidth": 0,
              "ticks": ""
             }
            },
            "type": "scattergl"
           }
          ],
          "scattermapbox": [
           {
            "marker": {
             "colorbar": {
              "outlinewidth": 0,
              "ticks": ""
             }
            },
            "type": "scattermapbox"
           }
          ],
          "scatterpolar": [
           {
            "marker": {
             "colorbar": {
              "outlinewidth": 0,
              "ticks": ""
             }
            },
            "type": "scatterpolar"
           }
          ],
          "scatterpolargl": [
           {
            "marker": {
             "colorbar": {
              "outlinewidth": 0,
              "ticks": ""
             }
            },
            "type": "scatterpolargl"
           }
          ],
          "scatterternary": [
           {
            "marker": {
             "colorbar": {
              "outlinewidth": 0,
              "ticks": ""
             }
            },
            "type": "scatterternary"
           }
          ],
          "surface": [
           {
            "colorbar": {
             "outlinewidth": 0,
             "ticks": ""
            },
            "colorscale": [
             [
              0,
              "#0d0887"
             ],
             [
              0.1111111111111111,
              "#46039f"
             ],
             [
              0.2222222222222222,
              "#7201a8"
             ],
             [
              0.3333333333333333,
              "#9c179e"
             ],
             [
              0.4444444444444444,
              "#bd3786"
             ],
             [
              0.5555555555555556,
              "#d8576b"
             ],
             [
              0.6666666666666666,
              "#ed7953"
             ],
             [
              0.7777777777777778,
              "#fb9f3a"
             ],
             [
              0.8888888888888888,
              "#fdca26"
             ],
             [
              1,
              "#f0f921"
             ]
            ],
            "type": "surface"
           }
          ],
          "table": [
           {
            "cells": {
             "fill": {
              "color": "#EBF0F8"
             },
             "line": {
              "color": "white"
             }
            },
            "header": {
             "fill": {
              "color": "#C8D4E3"
             },
             "line": {
              "color": "white"
             }
            },
            "type": "table"
           }
          ]
         },
         "layout": {
          "annotationdefaults": {
           "arrowcolor": "#2a3f5f",
           "arrowhead": 0,
           "arrowwidth": 1
          },
          "autotypenumbers": "strict",
          "coloraxis": {
           "colorbar": {
            "outlinewidth": 0,
            "ticks": ""
           }
          },
          "colorscale": {
           "diverging": [
            [
             0,
             "#8e0152"
            ],
            [
             0.1,
             "#c51b7d"
            ],
            [
             0.2,
             "#de77ae"
            ],
            [
             0.3,
             "#f1b6da"
            ],
            [
             0.4,
             "#fde0ef"
            ],
            [
             0.5,
             "#f7f7f7"
            ],
            [
             0.6,
             "#e6f5d0"
            ],
            [
             0.7,
             "#b8e186"
            ],
            [
             0.8,
             "#7fbc41"
            ],
            [
             0.9,
             "#4d9221"
            ],
            [
             1,
             "#276419"
            ]
           ],
           "sequential": [
            [
             0,
             "#0d0887"
            ],
            [
             0.1111111111111111,
             "#46039f"
            ],
            [
             0.2222222222222222,
             "#7201a8"
            ],
            [
             0.3333333333333333,
             "#9c179e"
            ],
            [
             0.4444444444444444,
             "#bd3786"
            ],
            [
             0.5555555555555556,
             "#d8576b"
            ],
            [
             0.6666666666666666,
             "#ed7953"
            ],
            [
             0.7777777777777778,
             "#fb9f3a"
            ],
            [
             0.8888888888888888,
             "#fdca26"
            ],
            [
             1,
             "#f0f921"
            ]
           ],
           "sequentialminus": [
            [
             0,
             "#0d0887"
            ],
            [
             0.1111111111111111,
             "#46039f"
            ],
            [
             0.2222222222222222,
             "#7201a8"
            ],
            [
             0.3333333333333333,
             "#9c179e"
            ],
            [
             0.4444444444444444,
             "#bd3786"
            ],
            [
             0.5555555555555556,
             "#d8576b"
            ],
            [
             0.6666666666666666,
             "#ed7953"
            ],
            [
             0.7777777777777778,
             "#fb9f3a"
            ],
            [
             0.8888888888888888,
             "#fdca26"
            ],
            [
             1,
             "#f0f921"
            ]
           ]
          },
          "colorway": [
           "#636efa",
           "#EF553B",
           "#00cc96",
           "#ab63fa",
           "#FFA15A",
           "#19d3f3",
           "#FF6692",
           "#B6E880",
           "#FF97FF",
           "#FECB52"
          ],
          "font": {
           "color": "#2a3f5f"
          },
          "geo": {
           "bgcolor": "white",
           "lakecolor": "white",
           "landcolor": "#E5ECF6",
           "showlakes": true,
           "showland": true,
           "subunitcolor": "white"
          },
          "hoverlabel": {
           "align": "left"
          },
          "hovermode": "closest",
          "mapbox": {
           "style": "light"
          },
          "paper_bgcolor": "white",
          "plot_bgcolor": "#E5ECF6",
          "polar": {
           "angularaxis": {
            "gridcolor": "white",
            "linecolor": "white",
            "ticks": ""
           },
           "bgcolor": "#E5ECF6",
           "radialaxis": {
            "gridcolor": "white",
            "linecolor": "white",
            "ticks": ""
           }
          },
          "scene": {
           "xaxis": {
            "backgroundcolor": "#E5ECF6",
            "gridcolor": "white",
            "gridwidth": 2,
            "linecolor": "white",
            "showbackground": true,
            "ticks": "",
            "zerolinecolor": "white"
           },
           "yaxis": {
            "backgroundcolor": "#E5ECF6",
            "gridcolor": "white",
            "gridwidth": 2,
            "linecolor": "white",
            "showbackground": true,
            "ticks": "",
            "zerolinecolor": "white"
           },
           "zaxis": {
            "backgroundcolor": "#E5ECF6",
            "gridcolor": "white",
            "gridwidth": 2,
            "linecolor": "white",
            "showbackground": true,
            "ticks": "",
            "zerolinecolor": "white"
           }
          },
          "shapedefaults": {
           "line": {
            "color": "#2a3f5f"
           }
          },
          "ternary": {
           "aaxis": {
            "gridcolor": "white",
            "linecolor": "white",
            "ticks": ""
           },
           "baxis": {
            "gridcolor": "white",
            "linecolor": "white",
            "ticks": ""
           },
           "bgcolor": "#E5ECF6",
           "caxis": {
            "gridcolor": "white",
            "linecolor": "white",
            "ticks": ""
           }
          },
          "title": {
           "x": 0.05
          },
          "xaxis": {
           "automargin": true,
           "gridcolor": "white",
           "linecolor": "white",
           "ticks": "",
           "title": {
            "standoff": 15
           },
           "zerolinecolor": "white",
           "zerolinewidth": 2
          },
          "yaxis": {
           "automargin": true,
           "gridcolor": "white",
           "linecolor": "white",
           "ticks": "",
           "title": {
            "standoff": 15
           },
           "zerolinecolor": "white",
           "zerolinewidth": 2
          }
         }
        },
        "title": {
         "text": "Balance: 6967.601107 USD ~ Equity: 6967.601107 ~ Margin: 0.000000 ~ Free Margin: 6967.601107 ~ Margin Level: inf"
        },
        "width": 1400,
        "xaxis": {
         "tickformat": "%Y-%m-%d"
        },
        "yaxis": {
         "tickfont": {
          "color": "rgba(0.12156862745098039, 0.4666666666666667, 0.7058823529411765, 0.8)"
         }
        },
        "yaxis2": {
         "overlaying": "y",
         "tickfont": {
          "color": "rgba(0.5643983083429451, 0.36993464052287583, 0.5132641291810843, 0.8)"
         }
        },
        "yaxis3": {
         "overlaying": "y",
         "tickfont": {
          "color": "rgba(0.7372549019607844, 0.7411764705882353, 0.13333333333333333, 0.8)"
         }
        }
       }
      }
     },
     "metadata": {},
     "output_type": "display_data"
    }
   ],
   "source": [
    "env.render('advanced_figure', time_format=\"%Y-%m-%d\")"
   ]
  },
  {
   "cell_type": "markdown",
   "metadata": {},
   "source": [
    "### A Complete Example using `stable-baselines`"
   ]
  },
  {
   "cell_type": "code",
   "execution_count": 15,
   "metadata": {},
   "outputs": [
    {
     "name": "stderr",
     "output_type": "stream",
     "text": [
      "/opt/homebrew/lib/python3.11/site-packages/gymnasium/utils/passive_env_checker.py:42: UserWarning: \u001b[33mWARN: A Box observation space has an unconventional shape (neither an image, nor a 1D vector). We recommend flattening the observation to have only a 1D vector or use a custom policy to properly process the data. Actual observation shape: (10, 6)\u001b[0m\n",
      "  logger.warn(\n",
      "/opt/homebrew/lib/python3.11/site-packages/gymnasium/utils/passive_env_checker.py:29: UserWarning: \u001b[33mWARN: It seems a Box observation space is an image but the `dtype` is not `np.uint8`, actual type: float64. If the Box observation space is not an image, we recommend flattening the observation to have only a 1D vector.\u001b[0m\n",
      "  logger.warn(\n",
      "/opt/homebrew/lib/python3.11/site-packages/gymnasium/utils/passive_env_checker.py:34: UserWarning: \u001b[33mWARN: It seems a Box observation space is an image but the lower and upper bounds are not [0, 255]. Actual lower bound: -10000000000.0, upper bound: 10000000000.0. Generally, CNN policies assume observations are within that range, so you may encounter an issue if the observation values are not.\u001b[0m\n",
      "  logger.warn(\n"
     ]
    },
    {
     "name": "stdout",
     "output_type": "stream",
     "text": [
      "total_reward: [636.5953]\n"
     ]
    }
   ],
   "source": [
    "import gymnasium as gym\n",
    "from gym_mtsim import (\n",
    "    Timeframe, SymbolInfo,\n",
    "    MtSimulator, OrderType, Order, SymbolNotFound, OrderNotFound,\n",
    "    MtEnv,\n",
    "    FOREX_DATA_PATH, STOCKS_DATA_PATH, CRYPTO_DATA_PATH, MIXED_DATA_PATH,\n",
    ")\n",
    "from stable_baselines3 import A2C\n",
    "from stable_baselines3.common.vec_env import DummyVecEnv\n",
    "\n",
    "env_name = 'forex-hedge-v0'\n",
    "\n",
    "env = gym.make(env_name)\n",
    "model = A2C('MultiInputPolicy', env, verbose=0)\n",
    "model.learn(total_timesteps=10000)\n",
    "\n",
    "vec_env = model.get_env()\n",
    "#vec_env = DummyVecEnv([lambda: gym.make(env_name, render_mode = \"human\")])\n",
    "#vec_env = DummyVecEnv([lambda: gym.make(env_name, render_mode = \"simple_figure\")])\n",
    "\n",
    "observation = vec_env.reset()\n",
    "\n",
    "total_reward = 0\n",
    "\n",
    "for _ in range(10000):\n",
    "    action, _states = model.predict(observation)\n",
    "    observation, reward, done, info = vec_env.step(action)\n",
    "\n",
    "    total_reward += reward\n",
    "    #vec_env.render()\n",
    "\n",
    "    if done:\n",
    "        break\n",
    "\n",
    "print ('total_reward:', total_reward)\n",
    "\n",
    "#env.render('advanced_figure', time_format=\"%Y-%m-%d\")"
   ]
  },
  {
   "attachments": {},
   "cell_type": "markdown",
   "metadata": {},
   "source": [
    "## References\n",
    "\n",
    "* [https://www.mql5.com/en/docs/python_metatrader5](https://www.mql5.com/en/docs/python_metatrader5)\n",
    "* [https://www.metatrader5.com/en/terminal/help/trading_advanced/margin_forex](https://www.metatrader5.com/en/terminal/help/trading_advanced/margin_forex)\n",
    "* [https://admiralmarkets.com/education/articles/forex-basics/margin-in-forex-trading-margin-level-vs-margin-call](https://admiralmarkets.com/education/articles/forex-basics/margin-in-forex-trading-margin-level-vs-margin-call)\n",
    "* [https://www.investopedia.com/articles/forex/12/calculating-profits-and-losses-of-forex-trades.asp](https://www.investopedia.com/articles/forex/12/calculating-profits-and-losses-of-forex-trades.asp)\n"
   ]
  }
 ],
 "metadata": {
  "interpreter": {
   "hash": "0abee77d591a174194b91b850e12395de882ac6d36de3e6e63e8904e4cff1216"
  },
  "kernelspec": {
   "display_name": "Python 3.9.6 64-bit ('venv': venv)",
   "name": "python3"
  },
  "language_info": {
   "codemirror_mode": {
    "name": "ipython",
    "version": 3
   },
   "file_extension": ".py",
   "mimetype": "text/x-python",
   "name": "python",
   "nbconvert_exporter": "python",
   "pygments_lexer": "ipython3",
   "version": "3.11.1"
  }
 },
 "nbformat": 4,
 "nbformat_minor": 2
}
