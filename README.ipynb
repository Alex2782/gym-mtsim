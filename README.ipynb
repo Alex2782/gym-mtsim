{
 "cells": [
  {
   "cell_type": "markdown",
   "metadata": {},
   "source": [
    "# gym-mtsim: OpenAI Gym - MetaTrader 5 Simulator\n",
    "\n",
    "`MtSim` is a simulator for the [MetaTrader 5](https://www.metatrader5.com) trading platform alongside an [OpenAI Gym](https://github.com/openai/gym) environment for reinforcement learning-based trading algorithms. `MetaTrader 5` is a **multi-asset** platform that allows trading **Forex**, **Stocks**, **Crypto**, and Futures. It is one of the most popular trading platforms and supports numerous useful features, such as opening demo accounts on various brokers.\n",
    "\n",
    "The simulator is separated from the Gym environment and can work independently. Although the Gym environment is designed to be suitable for RL frameworks, it is also proper for backtesting and classic analysis.\n",
    "\n",
    "The goal of this project was to provide a *general-purpose*, *flexible*, and *easy-to-use* library with a focus on *code readability* that enables users to do all parts of the trading process through it from 0 to 100. So, `gym-mtsim` is not just a testing tool or a Gym environment. It is a combination of a **real-world** simulator, a **backtesting** tool with *high detail visualization*, and a **Gym environment** appropriate for RL/classic algorithms.\n",
    "\n",
    "**Note:** For beginners, it is recommended to check out the [gym-anytrading](https://github.com/AminHP/gym-anytrading) project."
   ]
  },
  {
   "cell_type": "markdown",
   "metadata": {},
   "source": [
    "## Prerequisites\n",
    "\n",
    "### Install MetaTrader 5\n",
    "Download and install MetaTrader 5 software from [here](https://www.metatrader5.com/en/download).\n",
    "\n",
    "Open a demo account on any broker. By default, the software opens a demo account automatically after installation.\n",
    "\n",
    "Explore the software and try to get familiar with it by trading different symbols in both **hedged** and **unhedged** accounts.\n",
    "\n",
    "### Install gym-mtsim\n",
    "\n",
    "#### Via PIP\n",
    "```bash\n",
    "pip install gym-mtsim\n",
    "```\n",
    "\n",
    "#### From Repository\n",
    "```bash\n",
    "git clone https://github.com/AminHP/gym-mtsim\n",
    "cd gym-mtsim\n",
    "pip install -e .\n",
    "\n",
    "## or\n",
    "\n",
    "pip install --upgrade --no-deps --force-reinstall https://github.com/AminHP/gym-mtsim/archive/main.zip\n",
    "```\n",
    "\n",
    "### Install stable-baselines3\n",
    "This package is required to run some examples. Install it from [here](https://github.com/DLR-RM/stable-baselines3#installation)."
   ]
  },
  {
   "cell_type": "markdown",
   "metadata": {},
   "source": [
    "## Components"
   ]
  },
  {
   "cell_type": "markdown",
   "metadata": {},
   "source": [
    "### 1. SymbolInfo\n",
    "\n",
    "This is a data class that contains the essential properties of a symbol. Try to get fully acquainted with [these properties](https://github.com/AminHP/gym-mtsim/blob/main/gym_mtsim/metatrader/symbol.py) in case they are unfamiliar. There are plenty of resources that provide good explanations."
   ]
  },
  {
   "cell_type": "markdown",
   "metadata": {},
   "source": [
    "### 2. Order\n",
    "\n",
    "This is another data class that consists of information of an order. Each order has the following properties:\n",
    "\n",
    "> `id`: A unique number that helps with tracking orders.\n",
    ">\n",
    "> `type`: An enum that specifies the type of the order. It can be either **Buy** or **Sell**.\n",
    ">\n",
    "> `symbol`: The symbol selected for the order.\n",
    ">\n",
    "> `volume`: The volume chose for the order. It can be a multiple of *volume_step* between *volume_min* and *volume_max*. \n",
    ">\n",
    "> `fee`: It is a tricky property. In MetaTrader, there is *no* such concept called fee. Each symbol has bid and ask prices, the difference between which represents the **fee**. Although MetaTrader API provides these bid/ask prices for the recent past, it is not possible to access them for the distant past. Therefore, the **fee** property helps to manage the mentioned difference.\n",
    ">\n",
    "> `entry_time`: The time when the order was placed.\n",
    ">\n",
    "> `entry_price`: The **close** price when the order was placed.\n",
    ">\n",
    "> `exit_time`: The time when the order was closed.\n",
    ">\n",
    "> `exit_price`: The **close** price when the order was closed.\n",
    ">\n",
    "> `profit`: The amount of profit earned by this order so far.\n",
    ">\n",
    "> `margin`: The required amount of margin for this order.\n",
    ">\n",
    "> `closed`: A boolean that specifies whether this order is closed or not."
   ]
  },
  {
   "attachments": {},
   "cell_type": "markdown",
   "metadata": {},
   "source": [
    "### 3. MtSimulator\n",
    "\n",
    "This is the core class that simulates the main parts of MetaTrader. Most of its public properties and methods are explained here. But feel free to take a look at the complete [source code](https://github.com/AminHP/gym-mtsim/blob/main/gym_mtsim/simulator/mt_simulator.py).\n",
    "\n",
    "* Properties:\n",
    "\n",
    "    > `unit`: The unit currency. It is usually *USD*, but it can be anything the broker allows, such as *EUR*.\n",
    "    >\n",
    "    > `balance`: The amount of money before taking into account any open positions.\n",
    "    >\n",
    "    > `equity`: The amount of money, including the value of any open positions.\n",
    "    >\n",
    "    > `margin`: The amount of money which is required for having positions opened.\n",
    "    >\n",
    "    > `leverage`: The leverage ratio.\n",
    "    >\n",
    "    > `free_margin`: The amount of money that is available to open new positions.\n",
    "    >\n",
    "    > `margin_level`: The ratio between **equity** and **margin**.\n",
    "    >\n",
    "    > `stop_out_level`: If the **margin_level** drops below **stop_out_level**, the most unprofitable position will be closed automatically by the broker.\n",
    "    >\n",
    "    > `hedge`: A boolean that specifies whether hedging is enabled or not.\n",
    "    >\n",
    "    > `symbols_info`: A dictionary that contains symbols' information.\n",
    "    >\n",
    "    > `symbols_data`: A dictionary that contains symbols' OHLCV data.\n",
    "    >\n",
    "    > `orders`: The list of open orders.\n",
    "    >\n",
    "    > `closed_orders`: The list of closed orders.\n",
    "    >\n",
    "    > `current_time`: The current time of the system.\n",
    "\n",
    "* Methods:\n",
    "\n",
    "    > `download_data`: Downloads required data from MetaTrader for a list of symbols in a time range. This method can be overridden in order to download data from servers other than MetaTrader. *Note that this method only works on Windows, as the MetaTrader5 Python package is not available on other platforms.*\n",
    "    >\n",
    "    > `save_symbols`: Saves the downloaded symbols' data to a file.\n",
    "    >\n",
    "    > `load_symbols`: Loads the symbols' data from a file.\n",
    "    >\n",
    "    > `tick`: Moves forward in time (by a delta time) and updates orders and other related properties.\n",
    "    >\n",
    "    > `create_order`: Creates a **Buy** or **Sell** order and updates related properties.\n",
    "    >\n",
    "    > `close_order`: Closes an order and updates related properties.\n",
    "    >\n",
    "    > `get_state`: Returns the state of the system. The result is similar to the *Trading tab* and *History tab* of the *Toolbox window* in MetaTrader software."
   ]
  },
  {
   "cell_type": "markdown",
   "metadata": {},
   "source": [
    "### 4. MtEnv\n",
    "\n",
    "This is the Gym environment that works on top of the *MtSim*. Most of its public properties and methods are explained here. But feel free to take a look at the complete [source code](https://github.com/AminHP/gym-mtsim/blob/main/gym_mtsim/envs/mt_env.py).\n",
    "\n",
    "* Properties:\n",
    "\n",
    "    > `original_simulator`: An instance of **MtSim** class as a baseline for simulating the system.\n",
    "    >\n",
    "    > `simulator`: The current simulator in use. It is a copy of the **original_simulator**.\n",
    "    >\n",
    "    > `trading_symbols`: The list of symbols to trade.\n",
    "    >\n",
    "    > `time_points`: A list of time points based on which the simulator moves time. The default value is taken from the *pandas DataFrame.Index* of the first symbol in the **trading_symbols** list.\n",
    "    >\n",
    "    > `hold_threshold`: A probability threshold that controls holding or placing a new order.\n",
    "    >\n",
    "    > `close_threshold`: A probability threshold that controls closing an order.\n",
    "    >\n",
    "    > `fee`: A constant number or a callable that takes a *symbol* as input and returns the **fee** based on that.\n",
    "    >\n",
    "    > `symbol_max_orders`: Specifies the maximum number of open positions per symbol in hedge trading. \n",
    "    >\n",
    "    > `multiprocessing_processes`: Specifies the maximum number of processes used for parallel processing.\n",
    "    >\n",
    "    > `prices`: The symbol prices over time. It is used to calculate signal features and render the environment.\n",
    "    >\n",
    "    > `signal_features`: The extracted features over time. It is used to generate *Gym observations*.\n",
    "    >\n",
    "    > `window_size`: The number of time points (current and previous points) as the length of each observation's features. \n",
    "    >\n",
    "    > `features_shape`: The shape of a single observation's features.\n",
    "    >\n",
    "    > `action_space`: The *Gym action_space* property. It has a complex structure since **stable-baselines** does not support *Dict* or *2D Box* action spaces. The action space is a 1D vector of size `count(trading_symbols) * (symbol_max_orders + 2)`. For each symbol, two types of actions can be performed, closing previous orders and placing a new order. The former is controlled by the first *symbol_max_orders* elements and the latter is controlled by the last two elements. Therefore, the action for each symbol is ***[probability of closing order 1, probability of closing order 2, ..., probability of closing order symbol_max_orders, probability of holding or creating a new order, volume of the new order]***. The last two elements specify whether to hold or place a new order and the volume of the new order (positive volume indicates buy and negative volume indicates sell). These elements are a number in range (-∞, ∞), but the probability values must be in the range [0, 1]. This is a problem with **stable-baselines** as mentioned earlier. To overcome this problem, it is assumed that the probability values belong to the [logit](https://en.wikipedia.org/wiki/Logit) function. So, applying the [expit](https://en.wikipedia.org/wiki/Expit) function on them gives the desired probability values in the range [0, 1]. This function is applied in the **step** method of the environment.\n",
    "    >\n",
    "    > `observation_space`: The *Gym observation_space* property. Each observation contains information about *balance*, *equity*, *margin*, *features*, and *orders*. The **features** is a window on the *signal_features* from index *current_tick - window_size + 1* to *current_tick*. The **orders** is a 3D array. Its first dimension specifies the symbol index in the *trading_symbols* list. The second dimension specifies the order number (each symbol can have more than one open order at the same time in hedge trading). The last dimension has three elements, *entry_price*, *volume*, and *profit* of corresponding order.\n",
    "    >\n",
    "    > `history`: Stores the information of all steps.\n",
    "\n",
    "* Methods:\n",
    "\n",
    "    > `seed`: The typical *Gym seed* method.\n",
    "    >\n",
    "    > `reset`: The typical *Gym reset* method.\n",
    "    >\n",
    "    > `step`: The typical *Gym step* method.\n",
    "    >\n",
    "    > `render`: The typical *Gym render* method. It can render in three modes, **human**, **simple_figure**, and **advanced_figure**.\n",
    "    >\n",
    "    > `close`: The typical *Gym close* method.\n",
    "\n",
    "* Virtual Methods:\n",
    "\n",
    "    > `_get_prices`: It is called in the constructor and calculates symbol **prices**.\n",
    "    >\n",
    "    > `_process_data`: It is called in the constructor and calculates **signal_features**.\n",
    "    >\n",
    "    > `_calculate_reward`: The reward function for the RL agent."
   ]
  },
  {
   "cell_type": "markdown",
   "metadata": {},
   "source": [
    "## A Simple Example"
   ]
  },
  {
   "cell_type": "markdown",
   "metadata": {},
   "source": [
    "### MtSim"
   ]
  },
  {
   "cell_type": "markdown",
   "metadata": {},
   "source": [
    "#### Create a simulator with custom parameters"
   ]
  },
  {
   "cell_type": "code",
   "execution_count": 1,
   "metadata": {},
   "outputs": [],
   "source": [
    "import pytz\n",
    "from datetime import datetime, timedelta\n",
    "from gym_mtsim import MtSimulator, OrderType, Timeframe, FOREX_DATA_PATH\n",
    "\n",
    "\n",
    "sim = MtSimulator(\n",
    "    unit='USD',\n",
    "    balance=10000.,\n",
    "    leverage=100.,\n",
    "    stop_out_level=0.2,\n",
    "    hedge=False,\n",
    ")\n",
    "\n",
    "if not sim.load_symbols(FOREX_DATA_PATH):\n",
    "    sim.download_data(\n",
    "        symbols=['EURUSD', 'GBPCAD', 'GBPUSD', 'USDCAD', 'USDCHF', 'GBPJPY', 'USDJPY'],\n",
    "        time_range=(\n",
    "            datetime(2021, 5, 5, tzinfo=pytz.UTC),\n",
    "            datetime(2021, 9, 5, tzinfo=pytz.UTC)\n",
    "        ),\n",
    "        timeframe=Timeframe.D1\n",
    "    )\n",
    "    sim.save_symbols(FOREX_DATA_PATH)"
   ]
  },
  {
   "cell_type": "markdown",
   "metadata": {},
   "source": [
    "#### Place some orders"
   ]
  },
  {
   "cell_type": "code",
   "execution_count": 2,
   "metadata": {},
   "outputs": [
    {
     "name": "stdout",
     "output_type": "stream",
     "text": [
      "balance: 10000.0, equity: 10717.58118589908, margin: 3375.480933228619\n",
      "free_margin: 7342.1002526704615, margin_level: 3.1751271592500743\n",
      "\n"
     ]
    },
    {
     "data": {
      "text/html": [
       "<div>\n",
       "<style scoped>\n",
       "    .dataframe tbody tr th:only-of-type {\n",
       "        vertical-align: middle;\n",
       "    }\n",
       "\n",
       "    .dataframe tbody tr th {\n",
       "        vertical-align: top;\n",
       "    }\n",
       "\n",
       "    .dataframe thead th {\n",
       "        text-align: right;\n",
       "    }\n",
       "</style>\n",
       "<table border=\"1\" class=\"dataframe\">\n",
       "  <thead>\n",
       "    <tr style=\"text-align: right;\">\n",
       "      <th></th>\n",
       "      <th>Id</th>\n",
       "      <th>Symbol</th>\n",
       "      <th>Type</th>\n",
       "      <th>Volume</th>\n",
       "      <th>Entry Time</th>\n",
       "      <th>Entry Price</th>\n",
       "      <th>Exit Time</th>\n",
       "      <th>Exit Price</th>\n",
       "      <th>Profit</th>\n",
       "      <th>Margin</th>\n",
       "      <th>Fee</th>\n",
       "      <th>Closed</th>\n",
       "    </tr>\n",
       "  </thead>\n",
       "  <tbody>\n",
       "    <tr>\n",
       "      <th>0</th>\n",
       "      <td>2</td>\n",
       "      <td>USDJPY</td>\n",
       "      <td>Sell</td>\n",
       "      <td>2.0</td>\n",
       "      <td>2021-09-01 00:17:52+00:00</td>\n",
       "      <td>110.02500</td>\n",
       "      <td>2021-09-06 00:17:52+00:00</td>\n",
       "      <td>109.71200</td>\n",
       "      <td>552.355257</td>\n",
       "      <td>2000.000000</td>\n",
       "      <td>0.0100</td>\n",
       "      <td>False</td>\n",
       "    </tr>\n",
       "    <tr>\n",
       "      <th>1</th>\n",
       "      <td>1</td>\n",
       "      <td>GBPCAD</td>\n",
       "      <td>Buy</td>\n",
       "      <td>1.0</td>\n",
       "      <td>2021-08-30 00:17:52+00:00</td>\n",
       "      <td>1.73389</td>\n",
       "      <td>2021-09-06 00:17:52+00:00</td>\n",
       "      <td>1.73626</td>\n",
       "      <td>165.225928</td>\n",
       "      <td>1375.480933</td>\n",
       "      <td>0.0003</td>\n",
       "      <td>False</td>\n",
       "    </tr>\n",
       "  </tbody>\n",
       "</table>\n",
       "</div>"
      ],
      "text/plain": [
       "   Id  Symbol  Type  Volume                Entry Time  Entry Price  \\\n",
       "0   2  USDJPY  Sell     2.0 2021-09-01 00:17:52+00:00    110.02500   \n",
       "1   1  GBPCAD   Buy     1.0 2021-08-30 00:17:52+00:00      1.73389   \n",
       "\n",
       "                  Exit Time  Exit Price      Profit       Margin     Fee  \\\n",
       "0 2021-09-06 00:17:52+00:00   109.71200  552.355257  2000.000000  0.0100   \n",
       "1 2021-09-06 00:17:52+00:00     1.73626  165.225928  1375.480933  0.0003   \n",
       "\n",
       "   Closed  \n",
       "0   False  \n",
       "1   False  "
      ]
     },
     "execution_count": 2,
     "metadata": {},
     "output_type": "execute_result"
    }
   ],
   "source": [
    "sim.current_time = datetime(2021, 8, 30, 0, 17, 52, tzinfo=pytz.UTC)\n",
    "\n",
    "order1 = sim.create_order(\n",
    "    order_type=OrderType.Buy,\n",
    "    symbol='GBPCAD',\n",
    "    volume=1.,\n",
    "    fee=0.0003,\n",
    ")\n",
    "\n",
    "sim.tick(timedelta(days=2))\n",
    "\n",
    "order2 = sim.create_order(\n",
    "    order_type=OrderType.Sell,\n",
    "    symbol='USDJPY',\n",
    "    volume=2.,\n",
    "    fee=0.01,\n",
    ")\n",
    "\n",
    "sim.tick(timedelta(days=5))\n",
    "\n",
    "state = sim.get_state()\n",
    "\n",
    "print(\n",
    "    f\"balance: {state['balance']}, equity: {state['equity']}, margin: {state['margin']}\\n\"\n",
    "    f\"free_margin: {state['free_margin']}, margin_level: {state['margin_level']}\\n\"\n",
    ")\n",
    "state['orders']"
   ]
  },
  {
   "cell_type": "markdown",
   "metadata": {},
   "source": [
    "#### Close all orders"
   ]
  },
  {
   "cell_type": "code",
   "execution_count": 3,
   "metadata": {},
   "outputs": [
    {
     "name": "stdout",
     "output_type": "stream",
     "text": [
      "balance: 10717.58118589908, equity: 10717.58118589908, margin: 0.0\n",
      "free_margin: 10717.58118589908, margin_level: inf\n",
      "\n"
     ]
    },
    {
     "data": {
      "text/html": [
       "<div>\n",
       "<style scoped>\n",
       "    .dataframe tbody tr th:only-of-type {\n",
       "        vertical-align: middle;\n",
       "    }\n",
       "\n",
       "    .dataframe tbody tr th {\n",
       "        vertical-align: top;\n",
       "    }\n",
       "\n",
       "    .dataframe thead th {\n",
       "        text-align: right;\n",
       "    }\n",
       "</style>\n",
       "<table border=\"1\" class=\"dataframe\">\n",
       "  <thead>\n",
       "    <tr style=\"text-align: right;\">\n",
       "      <th></th>\n",
       "      <th>Id</th>\n",
       "      <th>Symbol</th>\n",
       "      <th>Type</th>\n",
       "      <th>Volume</th>\n",
       "      <th>Entry Time</th>\n",
       "      <th>Entry Price</th>\n",
       "      <th>Exit Time</th>\n",
       "      <th>Exit Price</th>\n",
       "      <th>Profit</th>\n",
       "      <th>Margin</th>\n",
       "      <th>Fee</th>\n",
       "      <th>Closed</th>\n",
       "    </tr>\n",
       "  </thead>\n",
       "  <tbody>\n",
       "    <tr>\n",
       "      <th>0</th>\n",
       "      <td>2</td>\n",
       "      <td>USDJPY</td>\n",
       "      <td>Sell</td>\n",
       "      <td>2.0</td>\n",
       "      <td>2021-09-01 00:17:52+00:00</td>\n",
       "      <td>110.02500</td>\n",
       "      <td>2021-09-06 00:17:52+00:00</td>\n",
       "      <td>109.71200</td>\n",
       "      <td>552.355257</td>\n",
       "      <td>2000.000000</td>\n",
       "      <td>0.0100</td>\n",
       "      <td>True</td>\n",
       "    </tr>\n",
       "    <tr>\n",
       "      <th>1</th>\n",
       "      <td>1</td>\n",
       "      <td>GBPCAD</td>\n",
       "      <td>Buy</td>\n",
       "      <td>1.0</td>\n",
       "      <td>2021-08-30 00:17:52+00:00</td>\n",
       "      <td>1.73389</td>\n",
       "      <td>2021-09-06 00:17:52+00:00</td>\n",
       "      <td>1.73626</td>\n",
       "      <td>165.225928</td>\n",
       "      <td>1375.480933</td>\n",
       "      <td>0.0003</td>\n",
       "      <td>True</td>\n",
       "    </tr>\n",
       "  </tbody>\n",
       "</table>\n",
       "</div>"
      ],
      "text/plain": [
       "   Id  Symbol  Type  Volume                Entry Time  Entry Price  \\\n",
       "0   2  USDJPY  Sell     2.0 2021-09-01 00:17:52+00:00    110.02500   \n",
       "1   1  GBPCAD   Buy     1.0 2021-08-30 00:17:52+00:00      1.73389   \n",
       "\n",
       "                  Exit Time  Exit Price      Profit       Margin     Fee  \\\n",
       "0 2021-09-06 00:17:52+00:00   109.71200  552.355257  2000.000000  0.0100   \n",
       "1 2021-09-06 00:17:52+00:00     1.73626  165.225928  1375.480933  0.0003   \n",
       "\n",
       "   Closed  \n",
       "0    True  \n",
       "1    True  "
      ]
     },
     "execution_count": 3,
     "metadata": {},
     "output_type": "execute_result"
    }
   ],
   "source": [
    "order1_profit = sim.close_order(order1)\n",
    "order2_profit = sim.close_order(order2)\n",
    "\n",
    "# alternatively:\n",
    "# for order in sim.orders:\n",
    "#     sim.close_order(order)\n",
    "\n",
    "state = sim.get_state()\n",
    "\n",
    "print(\n",
    "    f\"balance: {state['balance']}, equity: {state['equity']}, margin: {state['margin']}\\n\"\n",
    "    f\"free_margin: {state['free_margin']}, margin_level: {state['margin_level']}\\n\"\n",
    ")\n",
    "state['orders']"
   ]
  },
  {
   "cell_type": "markdown",
   "metadata": {},
   "source": [
    "### MtEnv"
   ]
  },
  {
   "cell_type": "markdown",
   "metadata": {},
   "source": [
    "#### Create an environment"
   ]
  },
  {
   "cell_type": "code",
   "execution_count": 4,
   "metadata": {},
   "outputs": [
    {
     "name": "stderr",
     "output_type": "stream",
     "text": [
      "/opt/homebrew/lib/python3.11/site-packages/gymnasium/utils/passive_env_checker.py:42: UserWarning: \u001b[33mWARN: A Box observation space has an unconventional shape (neither an image, nor a 1D vector). We recommend flattening the observation to have only a 1D vector or use a custom policy to properly process the data. Actual observation shape: (10, 6)\u001b[0m\n",
      "  logger.warn(\n",
      "/opt/homebrew/lib/python3.11/site-packages/gymnasium/utils/passive_env_checker.py:29: UserWarning: \u001b[33mWARN: It seems a Box observation space is an image but the `dtype` is not `np.uint8`, actual type: float64. If the Box observation space is not an image, we recommend flattening the observation to have only a 1D vector.\u001b[0m\n",
      "  logger.warn(\n",
      "/opt/homebrew/lib/python3.11/site-packages/gymnasium/utils/passive_env_checker.py:34: UserWarning: \u001b[33mWARN: It seems a Box observation space is an image but the lower and upper bounds are not [0, 255]. Actual lower bound: -10000000000.0, upper bound: 10000000000.0. Generally, CNN policies assume observations are within that range, so you may encounter an issue if the observation values are not.\u001b[0m\n",
      "  logger.warn(\n"
     ]
    }
   ],
   "source": [
    "import gymnasium as gym\n",
    "import gym_mtsim\n",
    "\n",
    "env = gym.make('forex-hedge-v0')\n",
    "# env = gym.make('stocks-hedge-v0')\n",
    "# env = gym.make('crypto-hedge-v0')\n",
    "# env = gym.make('mixed-hedge-v0')\n",
    "\n",
    "# env = gym.make('forex-unhedge-v0')\n",
    "# env = gym.make('stocks-unhedge-v0')\n",
    "# env = gym.make('crypto-unhedge-v0')\n",
    "# env = gym.make('mixed-unhedge-v0')"
   ]
  },
  {
   "cell_type": "markdown",
   "metadata": {},
   "source": [
    "* This will create a default environment. There are eight default environments, but it is also possible to create environments with custom parameters."
   ]
  },
  {
   "cell_type": "markdown",
   "metadata": {},
   "source": [
    "#### Create an environment with custom parameters"
   ]
  },
  {
   "cell_type": "code",
   "execution_count": 5,
   "metadata": {},
   "outputs": [],
   "source": [
    "import pytz\n",
    "from datetime import datetime, timedelta\n",
    "import numpy as np\n",
    "from gym_mtsim import MtEnv, MtSimulator, FOREX_DATA_PATH\n",
    "\n",
    "\n",
    "sim = MtSimulator(\n",
    "    unit='USD',\n",
    "    balance=10000.,\n",
    "    leverage=100.,\n",
    "    stop_out_level=0.2,\n",
    "    hedge=True,\n",
    "    symbols_filename=FOREX_DATA_PATH\n",
    ")\n",
    "\n",
    "env = MtEnv(\n",
    "    original_simulator=sim,\n",
    "    trading_symbols=['GBPCAD', 'EURUSD', 'USDJPY'],\n",
    "    window_size=10,\n",
    "    # time_points=[desired time points ...],\n",
    "    hold_threshold=0.5,\n",
    "    close_threshold=0.5,\n",
    "    fee=lambda symbol: {\n",
    "        'GBPCAD': max(0., np.random.normal(0.0007, 0.00005)),\n",
    "        'EURUSD': max(0., np.random.normal(0.0002, 0.00003)),\n",
    "        'USDJPY': max(0., np.random.normal(0.02, 0.003)),\n",
    "    }[symbol],\n",
    "    symbol_max_orders=2,\n",
    "    multiprocessing_processes=2\n",
    ")"
   ]
  },
  {
   "cell_type": "markdown",
   "metadata": {},
   "source": [
    "#### Print some information"
   ]
  },
  {
   "cell_type": "code",
   "execution_count": 6,
   "metadata": {},
   "outputs": [
    {
     "name": "stdout",
     "output_type": "stream",
     "text": [
      "env information:\n",
      "> prices[GBPCAD].shape: (88, 2)\n",
      "> prices[EURUSD].shape: (88, 2)\n",
      "> prices[USDJPY].shape: (88, 2)\n",
      "> signal_features.shape: (88, 6)\n",
      "> features_shape: (10, 6)\n"
     ]
    }
   ],
   "source": [
    "print(\"env information:\")\n",
    "\n",
    "for symbol in env.prices:\n",
    "    print(f\"> prices[{symbol}].shape:\", env.prices[symbol].shape)\n",
    "\n",
    "print(\"> signal_features.shape:\", env.signal_features.shape)\n",
    "print(\"> features_shape:\", env.features_shape)"
   ]
  },
  {
   "cell_type": "markdown",
   "metadata": {},
   "source": [
    "#### Trade randomly"
   ]
  },
  {
   "cell_type": "code",
   "execution_count": 7,
   "metadata": {},
   "outputs": [
    {
     "name": "stdout",
     "output_type": "stream",
     "text": [
      "balance: 15548.442536437775, equity: 15548.442536437775, margin: 0.0\n",
      "free_margin: 15548.442536437775, margin_level: inf\n",
      "step_reward: 0.0\n"
     ]
    }
   ],
   "source": [
    "observation = env.reset()\n",
    "\n",
    "while True:\n",
    "    action = env.action_space.sample()\n",
    "    observation, reward, terminated, truncated, info = env.step(action)\n",
    "\n",
    "    # End the episode when either truncated or terminated is true\n",
    "    #  - truncated: The episode duration reaches max number of timesteps\n",
    "    #  - terminated: Any of the state space values is no longer finite.\n",
    "    done = terminated or truncated\n",
    "\n",
    "    if done:\n",
    "        # print(info)\n",
    "        print(\n",
    "            f\"balance: {info['balance']}, equity: {info['equity']}, margin: {info['margin']}\\n\"\n",
    "            f\"free_margin: {info['free_margin']}, margin_level: {info['margin_level']}\\n\"\n",
    "            f\"step_reward: {info['step_reward']}\"\n",
    "        )\n",
    "        break"
   ]
  },
  {
   "cell_type": "markdown",
   "metadata": {},
   "source": [
    "#### Render in *human* mode"
   ]
  },
  {
   "cell_type": "code",
   "execution_count": 8,
   "metadata": {},
   "outputs": [
    {
     "name": "stdout",
     "output_type": "stream",
     "text": [
      "balance: 15548.442536437775, equity: 15548.442536437775, margin: 0.0\n",
      "free_margin: 15548.442536437775, margin_level: inf\n",
      "\n"
     ]
    },
    {
     "data": {
      "text/html": [
       "<div>\n",
       "<style scoped>\n",
       "    .dataframe tbody tr th:only-of-type {\n",
       "        vertical-align: middle;\n",
       "    }\n",
       "\n",
       "    .dataframe tbody tr th {\n",
       "        vertical-align: top;\n",
       "    }\n",
       "\n",
       "    .dataframe thead th {\n",
       "        text-align: right;\n",
       "    }\n",
       "</style>\n",
       "<table border=\"1\" class=\"dataframe\">\n",
       "  <thead>\n",
       "    <tr style=\"text-align: right;\">\n",
       "      <th></th>\n",
       "      <th>Id</th>\n",
       "      <th>Symbol</th>\n",
       "      <th>Type</th>\n",
       "      <th>Volume</th>\n",
       "      <th>Entry Time</th>\n",
       "      <th>Entry Price</th>\n",
       "      <th>Exit Time</th>\n",
       "      <th>Exit Price</th>\n",
       "      <th>Profit</th>\n",
       "      <th>Margin</th>\n",
       "      <th>Fee</th>\n",
       "      <th>Closed</th>\n",
       "    </tr>\n",
       "  </thead>\n",
       "  <tbody>\n",
       "    <tr>\n",
       "      <th>0</th>\n",
       "      <td>10</td>\n",
       "      <td>EURUSD</td>\n",
       "      <td>Sell</td>\n",
       "      <td>11.87</td>\n",
       "      <td>2021-08-30 00:00:00+00:00</td>\n",
       "      <td>1.17962</td>\n",
       "      <td>2021-08-31 00:00:00+00:00</td>\n",
       "      <td>1.18083</td>\n",
       "      <td>-1681.708852</td>\n",
       "      <td>14002.089400</td>\n",
       "      <td>0.000207</td>\n",
       "      <td>True</td>\n",
       "    </tr>\n",
       "    <tr>\n",
       "      <th>1</th>\n",
       "      <td>9</td>\n",
       "      <td>USDJPY</td>\n",
       "      <td>Buy</td>\n",
       "      <td>6.14</td>\n",
       "      <td>2021-08-25 00:00:00+00:00</td>\n",
       "      <td>110.02300</td>\n",
       "      <td>2021-08-26 00:00:00+00:00</td>\n",
       "      <td>110.08100</td>\n",
       "      <td>203.887969</td>\n",
       "      <td>6140.000000</td>\n",
       "      <td>0.021446</td>\n",
       "      <td>True</td>\n",
       "    </tr>\n",
       "    <tr>\n",
       "      <th>2</th>\n",
       "      <td>8</td>\n",
       "      <td>USDJPY</td>\n",
       "      <td>Buy</td>\n",
       "      <td>1.42</td>\n",
       "      <td>2021-08-23 00:00:00+00:00</td>\n",
       "      <td>109.69400</td>\n",
       "      <td>2021-08-24 00:00:00+00:00</td>\n",
       "      <td>109.67900</td>\n",
       "      <td>-40.576609</td>\n",
       "      <td>1420.000000</td>\n",
       "      <td>0.016341</td>\n",
       "      <td>True</td>\n",
       "    </tr>\n",
       "    <tr>\n",
       "      <th>3</th>\n",
       "      <td>7</td>\n",
       "      <td>USDJPY</td>\n",
       "      <td>Buy</td>\n",
       "      <td>8.32</td>\n",
       "      <td>2021-08-18 00:00:00+00:00</td>\n",
       "      <td>109.76300</td>\n",
       "      <td>2021-08-19 00:00:00+00:00</td>\n",
       "      <td>109.76300</td>\n",
       "      <td>-179.311923</td>\n",
       "      <td>8320.000000</td>\n",
       "      <td>0.023656</td>\n",
       "      <td>True</td>\n",
       "    </tr>\n",
       "    <tr>\n",
       "      <th>4</th>\n",
       "      <td>6</td>\n",
       "      <td>EURUSD</td>\n",
       "      <td>Buy</td>\n",
       "      <td>5.29</td>\n",
       "      <td>2021-08-12 00:00:00+00:00</td>\n",
       "      <td>1.17296</td>\n",
       "      <td>2021-08-13 00:00:00+00:00</td>\n",
       "      <td>1.17962</td>\n",
       "      <td>3421.938824</td>\n",
       "      <td>6204.958400</td>\n",
       "      <td>0.000191</td>\n",
       "      <td>True</td>\n",
       "    </tr>\n",
       "    <tr>\n",
       "      <th>5</th>\n",
       "      <td>5</td>\n",
       "      <td>EURUSD</td>\n",
       "      <td>Buy</td>\n",
       "      <td>10.56</td>\n",
       "      <td>2021-08-10 00:00:00+00:00</td>\n",
       "      <td>1.17203</td>\n",
       "      <td>2021-08-12 00:00:00+00:00</td>\n",
       "      <td>1.17296</td>\n",
       "      <td>780.829537</td>\n",
       "      <td>12376.636800</td>\n",
       "      <td>0.000191</td>\n",
       "      <td>True</td>\n",
       "    </tr>\n",
       "    <tr>\n",
       "      <th>6</th>\n",
       "      <td>4</td>\n",
       "      <td>USDJPY</td>\n",
       "      <td>Sell</td>\n",
       "      <td>5.43</td>\n",
       "      <td>2021-07-28 00:00:00+00:00</td>\n",
       "      <td>109.90900</td>\n",
       "      <td>2021-08-02 00:00:00+00:00</td>\n",
       "      <td>109.30500</td>\n",
       "      <td>2891.666880</td>\n",
       "      <td>5430.000000</td>\n",
       "      <td>0.021912</td>\n",
       "      <td>True</td>\n",
       "    </tr>\n",
       "    <tr>\n",
       "      <th>7</th>\n",
       "      <td>3</td>\n",
       "      <td>GBPCAD</td>\n",
       "      <td>Sell</td>\n",
       "      <td>2.51</td>\n",
       "      <td>2021-07-15 00:00:00+00:00</td>\n",
       "      <td>1.74070</td>\n",
       "      <td>2021-07-16 00:00:00+00:00</td>\n",
       "      <td>1.73684</td>\n",
       "      <td>627.936705</td>\n",
       "      <td>3469.429776</td>\n",
       "      <td>0.000703</td>\n",
       "      <td>True</td>\n",
       "    </tr>\n",
       "    <tr>\n",
       "      <th>8</th>\n",
       "      <td>2</td>\n",
       "      <td>USDJPY</td>\n",
       "      <td>Buy</td>\n",
       "      <td>6.45</td>\n",
       "      <td>2021-06-23 00:00:00+00:00</td>\n",
       "      <td>110.94900</td>\n",
       "      <td>2021-06-24 00:00:00+00:00</td>\n",
       "      <td>110.87400</td>\n",
       "      <td>-562.537254</td>\n",
       "      <td>6450.000000</td>\n",
       "      <td>0.021699</td>\n",
       "      <td>True</td>\n",
       "    </tr>\n",
       "    <tr>\n",
       "      <th>9</th>\n",
       "      <td>1</td>\n",
       "      <td>EURUSD</td>\n",
       "      <td>Buy</td>\n",
       "      <td>2.70</td>\n",
       "      <td>2021-05-18 00:00:00+00:00</td>\n",
       "      <td>1.22219</td>\n",
       "      <td>2021-05-20 00:00:00+00:00</td>\n",
       "      <td>1.22269</td>\n",
       "      <td>86.317258</td>\n",
       "      <td>3299.913000</td>\n",
       "      <td>0.000180</td>\n",
       "      <td>True</td>\n",
       "    </tr>\n",
       "  </tbody>\n",
       "</table>\n",
       "</div>"
      ],
      "text/plain": [
       "   Id  Symbol  Type  Volume                Entry Time  Entry Price  \\\n",
       "0  10  EURUSD  Sell   11.87 2021-08-30 00:00:00+00:00      1.17962   \n",
       "1   9  USDJPY   Buy    6.14 2021-08-25 00:00:00+00:00    110.02300   \n",
       "2   8  USDJPY   Buy    1.42 2021-08-23 00:00:00+00:00    109.69400   \n",
       "3   7  USDJPY   Buy    8.32 2021-08-18 00:00:00+00:00    109.76300   \n",
       "4   6  EURUSD   Buy    5.29 2021-08-12 00:00:00+00:00      1.17296   \n",
       "5   5  EURUSD   Buy   10.56 2021-08-10 00:00:00+00:00      1.17203   \n",
       "6   4  USDJPY  Sell    5.43 2021-07-28 00:00:00+00:00    109.90900   \n",
       "7   3  GBPCAD  Sell    2.51 2021-07-15 00:00:00+00:00      1.74070   \n",
       "8   2  USDJPY   Buy    6.45 2021-06-23 00:00:00+00:00    110.94900   \n",
       "9   1  EURUSD   Buy    2.70 2021-05-18 00:00:00+00:00      1.22219   \n",
       "\n",
       "                  Exit Time  Exit Price       Profit        Margin       Fee  \\\n",
       "0 2021-08-31 00:00:00+00:00     1.18083 -1681.708852  14002.089400  0.000207   \n",
       "1 2021-08-26 00:00:00+00:00   110.08100   203.887969   6140.000000  0.021446   \n",
       "2 2021-08-24 00:00:00+00:00   109.67900   -40.576609   1420.000000  0.016341   \n",
       "3 2021-08-19 00:00:00+00:00   109.76300  -179.311923   8320.000000  0.023656   \n",
       "4 2021-08-13 00:00:00+00:00     1.17962  3421.938824   6204.958400  0.000191   \n",
       "5 2021-08-12 00:00:00+00:00     1.17296   780.829537  12376.636800  0.000191   \n",
       "6 2021-08-02 00:00:00+00:00   109.30500  2891.666880   5430.000000  0.021912   \n",
       "7 2021-07-16 00:00:00+00:00     1.73684   627.936705   3469.429776  0.000703   \n",
       "8 2021-06-24 00:00:00+00:00   110.87400  -562.537254   6450.000000  0.021699   \n",
       "9 2021-05-20 00:00:00+00:00     1.22269    86.317258   3299.913000  0.000180   \n",
       "\n",
       "   Closed  \n",
       "0    True  \n",
       "1    True  \n",
       "2    True  \n",
       "3    True  \n",
       "4    True  \n",
       "5    True  \n",
       "6    True  \n",
       "7    True  \n",
       "8    True  \n",
       "9    True  "
      ]
     },
     "execution_count": 8,
     "metadata": {},
     "output_type": "execute_result"
    }
   ],
   "source": [
    "state = env.render()\n",
    "\n",
    "print(\n",
    "    f\"balance: {state['balance']}, equity: {state['equity']}, margin: {state['margin']}\\n\"\n",
    "    f\"free_margin: {state['free_margin']}, margin_level: {state['margin_level']}\\n\"\n",
    ")\n",
    "state['orders']"
   ]
  },
  {
   "cell_type": "markdown",
   "metadata": {},
   "source": [
    "#### Render in *simple_figure* mode\n",
    "\n",
    "* Each *symbol* is illustrated with a separate color.\n",
    "* The **green**/**red** triangles show successful **buy**/**sell** actions.\n",
    "* The **gray** triangles indicate that the **buy**/**sell** action has encountered an **error**.\n",
    "* The **black** vertical bars specify **close** actions."
   ]
  },
  {
   "cell_type": "code",
   "execution_count": 9,
   "metadata": {},
   "outputs": [
    {
     "name": "stderr",
     "output_type": "stream",
     "text": [
      "/opt/homebrew/lib/python3.11/site-packages/matplotlib/axis.py:125: FutureWarning: elementwise comparison failed; returning scalar instead, but in the future will perform elementwise comparison\n",
      "  if labelcolor == 'inherit':\n"
     ]
    },
    {
     "data": {
      "image/png": "[encoded data removed]",
      "text/plain": [
       "<Figure size 1400x600 with 3 Axes>"
      ]
     },
     "metadata": {},
     "output_type": "display_data"
    }
   ],
   "source": [
    "env.render('simple_figure')"
   ]
  },
  {
   "cell_type": "markdown",
   "metadata": {},
   "source": [
    "#### Render in *advanced_figure* mode\n",
    "\n",
    "* Clicking on a symbol name will hide/show its plot.\n",
    "* Hovering over points and markers will display their detail.\n",
    "* The size of triangles indicates their relative volume."
   ]
  },
  {
   "cell_type": "code",
   "execution_count": 10,
   "metadata": {},
   "outputs": [
    {
     "data": {
      "application/vnd.plotly.v1+json": {
       "config": {
        "plotlyServerURL": "https://plot.ly"
       },
       "data": [
        {
         "hovertext": [
          "balance: 10000.000000 USD<br>equity: 10000.000000<br>margin: 0.000000<br>free margin: 10000.000000<br>margin level: inf",
          "balance: 10000.000000 USD<br>equity: 10000.000000<br>margin: 0.000000<br>free margin: 10000.000000<br>margin level: inf",
          "balance: 10000.000000 USD<br>equity: 10000.000000<br>margin: 0.000000<br>free margin: 10000.000000<br>margin level: inf",
          "balance: 10000.000000 USD<br>equity: 10000.000000<br>margin: 0.000000<br>free margin: 10000.000000<br>margin level: inf",
          "balance: 10000.000000 USD<br>equity: 10000.000000<br>margin: 0.000000<br>free margin: 10000.000000<br>margin level: inf",
          "balance: 10000.000000 USD<br>equity: 10000.000000<br>margin: 0.000000<br>free margin: 10000.000000<br>margin level: inf",
          "balance: 10000.000000 USD<br>equity: 10000.000000<br>margin: 0.000000<br>free margin: 10000.000000<br>margin level: inf",
          "balance: 10000.000000 USD<br>equity: 10000.000000<br>margin: 0.000000<br>free margin: 10000.000000<br>margin level: inf",
          "balance: 10000.000000 USD<br>equity: 10000.000000<br>margin: 0.000000<br>free margin: 10000.000000<br>margin level: inf",
          "balance: 10000.000000 USD<br>equity: 10000.000000<br>margin: 0.000000<br>free margin: 10000.000000<br>margin level: inf",
          "balance: 10000.000000 USD<br>equity: 8668.817258<br>margin: 3299.913000<br>free margin: 5368.904258<br>margin level: 2.626984",
          "balance: 10000.000000 USD<br>equity: 10086.317258<br>margin: 3299.913000<br>free margin: 6786.404258<br>margin level: 3.056540",
          "balance: 10086.317258 USD<br>equity: 10086.317258<br>margin: 0.000000<br>free margin: 10086.317258<br>margin level: inf",
          "balance: 10086.317258 USD<br>equity: 10086.317258<br>margin: 0.000000<br>free margin: 10086.317258<br>margin level: inf",
          "balance: 10086.317258 USD<br>equity: 10086.317258<br>margin: 0.000000<br>free margin: 10086.317258<br>margin level: inf",
          "balance: 10086.317258 USD<br>equity: 10086.317258<br>margin: 0.000000<br>free margin: 10086.317258<br>margin level: inf",
          "balance: 10086.317258 USD<br>equity: 10086.317258<br>margin: 0.000000<br>free margin: 10086.317258<br>margin level: inf",
          "balance: 10086.317258 USD<br>equity: 10086.317258<br>margin: 0.000000<br>free margin: 10086.317258<br>margin level: inf",
          "balance: 10086.317258 USD<br>equity: 10086.317258<br>margin: 0.000000<br>free margin: 10086.317258<br>margin level: inf",
          "balance: 10086.317258 USD<br>equity: 10086.317258<br>margin: 0.000000<br>free margin: 10086.317258<br>margin level: inf",
          "balance: 10086.317258 USD<br>equity: 10086.317258<br>margin: 0.000000<br>free margin: 10086.317258<br>margin level: inf",
          "balance: 10086.317258 USD<br>equity: 10086.317258<br>margin: 0.000000<br>free margin: 10086.317258<br>margin level: inf",
          "balance: 10086.317258 USD<br>equity: 10086.317258<br>margin: 0.000000<br>free margin: 10086.317258<br>margin level: inf",
          "balance: 10086.317258 USD<br>equity: 10086.317258<br>margin: 0.000000<br>free margin: 10086.317258<br>margin level: inf",
          "balance: 10086.317258 USD<br>equity: 10086.317258<br>margin: 0.000000<br>free margin: 10086.317258<br>margin level: inf",
          "balance: 10086.317258 USD<br>equity: 10086.317258<br>margin: 0.000000<br>free margin: 10086.317258<br>margin level: inf",
          "balance: 10086.317258 USD<br>equity: 10086.317258<br>margin: 0.000000<br>free margin: 10086.317258<br>margin level: inf",
          "balance: 10086.317258 USD<br>equity: 10086.317258<br>margin: 0.000000<br>free margin: 10086.317258<br>margin level: inf",
          "balance: 10086.317258 USD<br>equity: 10086.317258<br>margin: 0.000000<br>free margin: 10086.317258<br>margin level: inf",
          "balance: 10086.317258 USD<br>equity: 10086.317258<br>margin: 0.000000<br>free margin: 10086.317258<br>margin level: inf",
          "balance: 10086.317258 USD<br>equity: 10086.317258<br>margin: 0.000000<br>free margin: 10086.317258<br>margin level: inf",
          "balance: 10086.317258 USD<br>equity: 10086.317258<br>margin: 0.000000<br>free margin: 10086.317258<br>margin level: inf",
          "balance: 10086.317258 USD<br>equity: 10086.317258<br>margin: 0.000000<br>free margin: 10086.317258<br>margin level: inf",
          "balance: 10086.317258 USD<br>equity: 10086.317258<br>margin: 0.000000<br>free margin: 10086.317258<br>margin level: inf",
          "balance: 10086.317258 USD<br>equity: 10086.317258<br>margin: 0.000000<br>free margin: 10086.317258<br>margin level: inf",
          "balance: 10086.317258 USD<br>equity: 10086.317258<br>margin: 0.000000<br>free margin: 10086.317258<br>margin level: inf",
          "balance: 10086.317258 USD<br>equity: 9523.780004<br>margin: 6450.000000<br>free margin: 3073.780004<br>margin level: 1.476555",
          "balance: 9523.780004 USD<br>equity: 9523.780004<br>margin: 0.000000<br>free margin: 9523.780004<br>margin level: inf",
          "balance: 9523.780004 USD<br>equity: 9523.780004<br>margin: 0.000000<br>free margin: 9523.780004<br>margin level: inf",
          "balance: 9523.780004 USD<br>equity: 9523.780004<br>margin: 0.000000<br>free margin: 9523.780004<br>margin level: inf",
          "balance: 9523.780004 USD<br>equity: 9523.780004<br>margin: 0.000000<br>free margin: 9523.780004<br>margin level: inf",
          "balance: 9523.780004 USD<br>equity: 9523.780004<br>margin: 0.000000<br>free margin: 9523.780004<br>margin level: inf",
          "balance: 9523.780004 USD<br>equity: 9523.780004<br>margin: 0.000000<br>free margin: 9523.780004<br>margin level: inf",
          "balance: 9523.780004 USD<br>equity: 9523.780004<br>margin: 0.000000<br>free margin: 9523.780004<br>margin level: inf",
          "balance: 9523.780004 USD<br>equity: 9523.780004<br>margin: 0.000000<br>free margin: 9523.780004<br>margin level: inf",
          "balance: 9523.780004 USD<br>equity: 9523.780004<br>margin: 0.000000<br>free margin: 9523.780004<br>margin level: inf",
          "balance: 9523.780004 USD<br>equity: 9523.780004<br>margin: 0.000000<br>free margin: 9523.780004<br>margin level: inf",
          "balance: 9523.780004 USD<br>equity: 9523.780004<br>margin: 0.000000<br>free margin: 9523.780004<br>margin level: inf",
          "balance: 9523.780004 USD<br>equity: 9523.780004<br>margin: 0.000000<br>free margin: 9523.780004<br>margin level: inf",
          "balance: 9523.780004 USD<br>equity: 9523.780004<br>margin: 0.000000<br>free margin: 9523.780004<br>margin level: inf",
          "balance: 9523.780004 USD<br>equity: 9523.780004<br>margin: 0.000000<br>free margin: 9523.780004<br>margin level: inf",
          "balance: 9523.780004 USD<br>equity: 9523.780004<br>margin: 0.000000<br>free margin: 9523.780004<br>margin level: inf",
          "balance: 9523.780004 USD<br>equity: 10151.716710<br>margin: 3469.429776<br>free margin: 6682.286934<br>margin level: 2.926048",
          "balance: 10151.716710 USD<br>equity: 10151.716710<br>margin: 0.000000<br>free margin: 10151.716710<br>margin level: inf",
          "balance: 10151.716710 USD<br>equity: 10151.716710<br>margin: 0.000000<br>free margin: 10151.716710<br>margin level: inf",
          "balance: 10151.716710 USD<br>equity: 10151.716710<br>margin: 0.000000<br>free margin: 10151.716710<br>margin level: inf",
          "balance: 10151.716710 USD<br>equity: 10151.716710<br>margin: 0.000000<br>free margin: 10151.716710<br>margin level: inf",
          "balance: 10151.716710 USD<br>equity: 10151.716710<br>margin: 0.000000<br>free margin: 10151.716710<br>margin level: inf",
          "balance: 10151.716710 USD<br>equity: 10151.716710<br>margin: 0.000000<br>free margin: 10151.716710<br>margin level: inf",
          "balance: 10151.716710 USD<br>equity: 10151.716710<br>margin: 0.000000<br>free margin: 10151.716710<br>margin level: inf",
          "balance: 10151.716710 USD<br>equity: 10151.716710<br>margin: 0.000000<br>free margin: 10151.716710<br>margin level: inf",
          "balance: 10151.716710 USD<br>equity: 12220.581680<br>margin: 5430.000000<br>free margin: 6790.581680<br>margin level: 2.250568",
          "balance: 10151.716710 USD<br>equity: 11296.028451<br>margin: 5430.000000<br>free margin: 5866.028451<br>margin level: 2.080300",
          "balance: 10151.716710 USD<br>equity: 13043.383589<br>margin: 5430.000000<br>free margin: 7613.383589<br>margin level: 2.402096",
          "balance: 13043.383589 USD<br>equity: 13043.383589<br>margin: 0.000000<br>free margin: 13043.383589<br>margin level: inf",
          "balance: 13043.383589 USD<br>equity: 13043.383589<br>margin: 0.000000<br>free margin: 13043.383589<br>margin level: inf",
          "balance: 13043.383589 USD<br>equity: 13043.383589<br>margin: 0.000000<br>free margin: 13043.383589<br>margin level: inf",
          "balance: 13043.383589 USD<br>equity: 13043.383589<br>margin: 0.000000<br>free margin: 13043.383589<br>margin level: inf",
          "balance: 13043.383589 USD<br>equity: 13043.383589<br>margin: 0.000000<br>free margin: 13043.383589<br>margin level: inf",
          "balance: 13043.383589 USD<br>equity: 13043.383589<br>margin: 0.000000<br>free margin: 13043.383589<br>margin level: inf",
          "balance: 13043.383589 USD<br>equity: 14795.733127<br>margin: 12376.636800<br>free margin: 2419.096327<br>margin level: 1.195457",
          "balance: 13043.383589 USD<br>equity: 13824.213127<br>margin: 12376.636800<br>free margin: 1447.576327<br>margin level: 1.116960",
          "balance: 13824.213127 USD<br>equity: 17246.151951<br>margin: 6204.958400<br>free margin: 11041.193551<br>margin level: 2.779415",
          "balance: 17246.151951 USD<br>equity: 17246.151951<br>margin: 0.000000<br>free margin: 17246.151951<br>margin level: inf",
          "balance: 17246.151951 USD<br>equity: 17246.151951<br>margin: 0.000000<br>free margin: 17246.151951<br>margin level: inf",
          "balance: 17246.151951 USD<br>equity: 17246.151951<br>margin: 0.000000<br>free margin: 17246.151951<br>margin level: inf",
          "balance: 17246.151951 USD<br>equity: 17066.840028<br>margin: 8320.000000<br>free margin: 8746.840028<br>margin level: 2.051303",
          "balance: 17066.840028 USD<br>equity: 17066.840028<br>margin: 0.000000<br>free margin: 17066.840028<br>margin level: inf",
          "balance: 17066.840028 USD<br>equity: 17066.840028<br>margin: 0.000000<br>free margin: 17066.840028<br>margin level: inf",
          "balance: 17066.840028 USD<br>equity: 17026.263419<br>margin: 1420.000000<br>free margin: 15606.263419<br>margin level: 11.990326",
          "balance: 17026.263419 USD<br>equity: 17026.263419<br>margin: 0.000000<br>free margin: 17026.263419<br>margin level: inf",
          "balance: 17026.263419 USD<br>equity: 17230.151388<br>margin: 6140.000000<br>free margin: 11090.151388<br>margin level: 2.806214",
          "balance: 17230.151388 USD<br>equity: 17230.151388<br>margin: 0.000000<br>free margin: 17230.151388<br>margin level: inf",
          "balance: 17230.151388 USD<br>equity: 17230.151388<br>margin: 0.000000<br>free margin: 17230.151388<br>margin level: inf",
          "balance: 17230.151388 USD<br>equity: 15548.442536<br>margin: 14002.089400<br>free margin: 1546.353136<br>margin level: 1.110437",
          "balance: 15548.442536 USD<br>equity: 15548.442536<br>margin: 0.000000<br>free margin: 15548.442536<br>margin level: inf",
          "balance: 15548.442536 USD<br>equity: 15548.442536<br>margin: 0.000000<br>free margin: 15548.442536<br>margin level: inf",
          "balance: 15548.442536 USD<br>equity: 15548.442536<br>margin: 0.000000<br>free margin: 15548.442536<br>margin level: inf"
         ],
         "legendgroup": "g1",
         "line": {
          "color": "rgba(0.12156862745098039, 0.4666666666666667, 0.7058823529411765, 1.0)"
         },
         "mode": "lines+markers",
         "name": "GBPCAD",
         "opacity": 1,
         "type": "scatter",
         "x": [
          "2021-05-05T00:00:00+00:00",
          "2021-05-06T00:00:00+00:00",
          "2021-05-07T00:00:00+00:00",
          "2021-05-10T00:00:00+00:00",
          "2021-05-11T00:00:00+00:00",
          "2021-05-12T00:00:00+00:00",
          "2021-05-13T00:00:00+00:00",
          "2021-05-14T00:00:00+00:00",
          "2021-05-17T00:00:00+00:00",
          "2021-05-18T00:00:00+00:00",
          "2021-05-19T00:00:00+00:00",
          "2021-05-20T00:00:00+00:00",
          "2021-05-21T00:00:00+00:00",
          "2021-05-24T00:00:00+00:00",
          "2021-05-25T00:00:00+00:00",
          "2021-05-26T00:00:00+00:00",
          "2021-05-27T00:00:00+00:00",
          "2021-05-28T00:00:00+00:00",
          "2021-05-31T00:00:00+00:00",
          "2021-06-01T00:00:00+00:00",
          "2021-06-02T00:00:00+00:00",
          "2021-06-03T00:00:00+00:00",
          "2021-06-04T00:00:00+00:00",
          "2021-06-07T00:00:00+00:00",
          "2021-06-08T00:00:00+00:00",
          "2021-06-09T00:00:00+00:00",
          "2021-06-10T00:00:00+00:00",
          "2021-06-11T00:00:00+00:00",
          "2021-06-14T00:00:00+00:00",
          "2021-06-15T00:00:00+00:00",
          "2021-06-16T00:00:00+00:00",
          "2021-06-17T00:00:00+00:00",
          "2021-06-18T00:00:00+00:00",
          "2021-06-21T00:00:00+00:00",
          "2021-06-22T00:00:00+00:00",
          "2021-06-23T00:00:00+00:00",
          "2021-06-24T00:00:00+00:00",
          "2021-06-25T00:00:00+00:00",
          "2021-06-28T00:00:00+00:00",
          "2021-06-29T00:00:00+00:00",
          "2021-06-30T00:00:00+00:00",
          "2021-07-01T00:00:00+00:00",
          "2021-07-02T00:00:00+00:00",
          "2021-07-05T00:00:00+00:00",
          "2021-07-06T00:00:00+00:00",
          "2021-07-07T00:00:00+00:00",
          "2021-07-08T00:00:00+00:00",
          "2021-07-09T00:00:00+00:00",
          "2021-07-12T00:00:00+00:00",
          "2021-07-13T00:00:00+00:00",
          "2021-07-14T00:00:00+00:00",
          "2021-07-15T00:00:00+00:00",
          "2021-07-16T00:00:00+00:00",
          "2021-07-19T00:00:00+00:00",
          "2021-07-20T00:00:00+00:00",
          "2021-07-21T00:00:00+00:00",
          "2021-07-22T00:00:00+00:00",
          "2021-07-23T00:00:00+00:00",
          "2021-07-26T00:00:00+00:00",
          "2021-07-27T00:00:00+00:00",
          "2021-07-28T00:00:00+00:00",
          "2021-07-29T00:00:00+00:00",
          "2021-07-30T00:00:00+00:00",
          "2021-08-02T00:00:00+00:00",
          "2021-08-03T00:00:00+00:00",
          "2021-08-04T00:00:00+00:00",
          "2021-08-05T00:00:00+00:00",
          "2021-08-06T00:00:00+00:00",
          "2021-08-09T00:00:00+00:00",
          "2021-08-10T00:00:00+00:00",
          "2021-08-11T00:00:00+00:00",
          "2021-08-12T00:00:00+00:00",
          "2021-08-13T00:00:00+00:00",
          "2021-08-16T00:00:00+00:00",
          "2021-08-17T00:00:00+00:00",
          "2021-08-18T00:00:00+00:00",
          "2021-08-19T00:00:00+00:00",
          "2021-08-20T00:00:00+00:00",
          "2021-08-23T00:00:00+00:00",
          "2021-08-24T00:00:00+00:00",
          "2021-08-25T00:00:00+00:00",
          "2021-08-26T00:00:00+00:00",
          "2021-08-27T00:00:00+00:00",
          "2021-08-30T00:00:00+00:00",
          "2021-08-31T00:00:00+00:00",
          "2021-09-01T00:00:00+00:00",
          "2021-09-02T00:00:00+00:00",
          "2021-09-03T00:00:00+00:00"
         ],
         "y": [
          1.70525,
          1.68648,
          1.69619,
          1.7070699999999999,
          1.71108,
          1.70468,
          1.7082899999999999,
          1.70635,
          1.7059199999999999,
          1.71128,
          1.71211,
          1.7107,
          1.70726,
          1.7044000000000001,
          1.7066,
          1.71089,
          1.71345,
          1.71356,
          1.7132399999999999,
          1.70755,
          1.70462,
          1.7068400000000001,
          1.70999,
          1.71255,
          1.7139199999999999,
          1.70927,
          1.71433,
          1.71691,
          1.71341,
          1.71492,
          1.71638,
          1.71949,
          1.72017,
          1.72173,
          1.7158099999999998,
          1.7177,
          1.7149299999999998,
          1.70721,
          1.71244,
          1.71535,
          1.71437,
          1.71059,
          1.70511,
          1.70716,
          1.71879,
          1.72167,
          1.72692,
          1.7307000000000001,
          1.72832,
          1.72767,
          1.73236,
          1.7407,
          1.73684,
          1.74244,
          1.7273800000000001,
          1.72183,
          1.72851,
          1.72728,
          1.73336,
          1.7481900000000001,
          1.7405300000000001,
          1.73688,
          1.73335,
          1.73577,
          1.7441499999999999,
          1.7412999999999998,
          1.7408299999999999,
          1.7419799999999999,
          1.7408000000000001,
          1.7316500000000001,
          1.73282,
          1.72889,
          1.7357200000000002,
          1.7402199999999999,
          1.7349700000000001,
          1.74061,
          1.74874,
          1.7468,
          1.73506,
          1.72784,
          1.73259,
          1.7377,
          1.7353399999999999,
          1.7338900000000002,
          1.73501,
          1.7372800000000002,
          1.73603,
          1.7362600000000001
         ],
         "yaxis": "y"
        },
        {
         "hovertext": [
          "order id: <br>hold probability: 0.0000<br>hold: False<br>volume: 20.038533<br>modified volume: 20.0400<br>fee: nan<br>margin: nan<br>error: low free margin (order margin=28426.530947190422, order profit=-1128.0193457323267, free margin=10000.0)",
          "order id: <br>hold probability: 0.0000<br>hold: False<br>volume: 94.234138<br>modified volume: 35.0000<br>fee: nan<br>margin: nan<br>error: low free margin (order margin=49397.69514215763, order profit=-2132.4234904578116, free margin=5368.904258406263)",
          "order id: <br>hold probability: 0.0000<br>hold: False<br>volume: -44.344211<br>modified volume: 35.0000<br>fee: nan<br>margin: nan<br>error: low free margin (order margin=49526.81309573146, order profit=-2022.540640297412, free margin=10086.317258406256)",
          "order id: <br>hold probability: 0.0000<br>hold: False<br>volume: 79.741036<br>modified volume: 35.0000<br>fee: nan<br>margin: nan<br>error: low free margin (order margin=49507.25646699986, order profit=-2007.1457685286605, free margin=10086.317258406256)",
          "order id: <br>hold probability: 0.0000<br>hold: False<br>volume: 79.910255<br>modified volume: 35.0000<br>fee: nan<br>margin: nan<br>error: low free margin (order margin=49517.57765570497, order profit=-2279.8752543566334, free margin=10086.317258406256)",
          "order id: <br>hold probability: 0.0000<br>hold: False<br>volume: 75.571962<br>modified volume: 35.0000<br>fee: nan<br>margin: nan<br>error: low free margin (order margin=49584.61806969573, order profit=-1911.3075132071656, free margin=10086.317258406256)",
          "order id: <br>hold probability: 0.0000<br>hold: False<br>volume: 90.023278<br>modified volume: 35.0000<br>fee: nan<br>margin: nan<br>error: low free margin (order margin=49624.33560180816, order profit=-2024.7268345934472, free margin=10086.317258406256)",
          "order id: <br>hold probability: 0.0000<br>hold: False<br>volume: -78.653511<br>modified volume: 35.0000<br>fee: nan<br>margin: nan<br>error: low free margin (order margin=49543.851534948255, order profit=-2061.057568061058, free margin=10086.317258406256)",
          "order id: <br>hold probability: 0.0000<br>hold: False<br>volume: 15.073462<br>modified volume: 15.0700<br>fee: nan<br>margin: nan<br>error: low free margin (order margin=21363.913320322838, order profit=-848.4329631100795, free margin=10086.317258406256)",
          "order id: <br>hold probability: 0.0000<br>hold: False<br>volume: -60.763421<br>modified volume: 35.0000<br>fee: nan<br>margin: nan<br>error: low free margin (order margin=49394.48613725474, order profit=-2077.4803779950103, free margin=10086.317258406256)",
          "order id: <br>hold probability: 0.0000<br>hold: False<br>volume: -90.379174<br>modified volume: 35.0000<br>fee: nan<br>margin: nan<br>error: low free margin (order margin=49268.79319685453, order profit=-1907.0255025761694, free margin=10086.317258406256)",
          "order id: <br>hold probability: 0.0000<br>hold: False<br>volume: 45.028375<br>modified volume: 35.0000<br>fee: nan<br>margin: nan<br>error: low free margin (order margin=48716.679483547174, order profit=-1809.481017655545, free margin=10086.317258406256)",
          "order id: <br>hold probability: 0.0000<br>hold: False<br>volume: -72.514651<br>modified volume: 35.0000<br>fee: nan<br>margin: nan<br>error: low free margin (order margin=48751.33486505728, order profit=-1844.0366534740217, free margin=10086.317258406256)",
          "order id: <br>hold probability: 0.0000<br>hold: False<br>volume: -51.274134<br>modified volume: 35.0000<br>fee: nan<br>margin: nan<br>error: low free margin (order margin=48805.60928433269, order profit=-2022.3777877109958, free margin=10086.317258406256)",
          "order id: <br>hold probability: 0.0000<br>hold: False<br>volume: 80.944985<br>modified volume: 35.0000<br>fee: nan<br>margin: nan<br>error: low free margin (order margin=48862.149399783804, order profit=-1968.4638729628773, free margin=10086.317258406256)",
          "order id: <br>hold probability: 0.0000<br>hold: False<br>volume: -77.604901<br>modified volume: 35.0000<br>fee: nan<br>margin: nan<br>error: low free margin (order margin=48709.71799553661, order profit=-1800.4700227327587, free margin=3073.780004392055)",
          "order id: <br>hold probability: 0.0000<br>hold: False<br>volume: 44.223632<br>modified volume: 35.0000<br>fee: nan<br>margin: nan<br>error: low free margin (order margin=48401.185770750984, order profit=-2082.2351955619406, free margin=9523.780004392056)",
          "order id: <br>hold probability: 0.0000<br>hold: False<br>volume: -34.869269<br>modified volume: 34.8700<br>fee: nan<br>margin: nan<br>error: low free margin (order margin=48231.7323198728, order profit=-1951.865816006283, free margin=9523.780004392056)",
          "order id: <br>hold probability: 0.0000<br>hold: False<br>volume: -32.193408<br>modified volume: 32.1900<br>fee: nan<br>margin: nan<br>error: low free margin (order margin=44528.113245768276, order profit=-1856.497073654496, free margin=9523.780004392056)",
          "order id: <br>hold probability: 0.0000<br>hold: False<br>volume: -70.573870<br>modified volume: 35.0000<br>fee: nan<br>margin: nan<br>error: low free margin (order margin=48279.37217575232, order profit=-1875.3399874605552, free margin=9523.780004392056)",
          "order id: 3<br>hold probability: 0.0000<br>hold: False<br>volume: -2.511560<br>modified volume: 2.5100<br>fee: 0.000703<br>margin: 3469.429776<br>error: ",
          "order id: <br>hold probability: 0.0000<br>hold: False<br>volume: 53.524610<br>modified volume: 35.0000<br>fee: nan<br>margin: nan<br>error: low free margin (order margin=47848.94942489055, order profit=-1971.5542893284369, free margin=10151.716709810442)",
          "order id: <br>hold probability: 0.0000<br>hold: False<br>volume: 20.549721<br>modified volume: 20.5500<br>fee: nan<br>margin: nan<br>error: low free margin (order margin=27996.10315864191, order profit=-1080.0915277772888, free margin=10151.716709810442)",
          "order id: <br>hold probability: 0.0000<br>hold: False<br>volume: -15.501338<br>modified volume: 15.5000<br>fee: nan<br>margin: nan<br>error: low free margin (order margin=21330.625064687945, order profit=-861.7466505014145, free margin=10151.716709810442)",
          "order id: <br>hold probability: 0.0000<br>hold: False<br>volume: 66.650781<br>modified volume: 35.0000<br>fee: nan<br>margin: nan<br>error: low free margin (order margin=48112.117401754025, order profit=-2003.545817575804, free margin=10151.716709810442)",
          "order id: <br>hold probability: 0.0000<br>hold: False<br>volume: -59.346897<br>modified volume: 35.0000<br>fee: nan<br>margin: nan<br>error: low free margin (order margin=48354.20236719404, order profit=-2032.1063943368392, free margin=10151.716709810442)",
          "order id: <br>hold probability: 0.0011<br>hold: False<br>volume: -37.952375<br>modified volume: 35.0000<br>fee: nan<br>margin: nan<br>error: low free margin (order margin=48557.36495012261, order profit=-1803.301617193949, free margin=10151.716709810442)",
          "order id: <br>hold probability: 0.0000<br>hold: False<br>volume: 82.700391<br>modified volume: 35.0000<br>fee: nan<br>margin: nan<br>error: low free margin (order margin=48674.37158513788, order profit=-2047.028991114661, free margin=5866.02845086565)",
          "order id: <br>hold probability: 0.0000<br>hold: False<br>volume: 62.330938<br>modified volume: 35.0000<br>fee: nan<br>margin: nan<br>error: low free margin (order margin=48588.34397044004, order profit=-1834.7146170636227, free margin=7613.383589433051)",
          "order id: <br>hold probability: 0.0000<br>hold: False<br>volume: 29.153451<br>modified volume: 29.1500<br>fee: nan<br>margin: nan<br>error: low free margin (order margin=40560.657130548556, order profit=-1613.6385388514796, free margin=13043.383589433051)",
          "order id: <br>hold probability: 0.0000<br>hold: False<br>volume: -97.067828<br>modified volume: 35.0000<br>fee: nan<br>margin: nan<br>error: low free margin (order margin=48600.87719298245, order profit=-1928.02096766923, free margin=13043.383589433051)",
          "order id: <br>hold probability: 0.0000<br>hold: False<br>volume: 68.360775<br>modified volume: 35.0000<br>fee: nan<br>margin: nan<br>error: low free margin (order margin=48748.699854383696, order profit=-1786.955232771234, free margin=13043.383589433051)",
          "order id: <br>hold probability: 0.0000<br>hold: False<br>volume: -11.164115<br>modified volume: 11.1600<br>fee: nan<br>margin: nan<br>error: low free margin (order margin=15484.636669932377, order profit=-622.1158180435485, free margin=13043.383589433051)",
          "order id: <br>hold probability: 0.0000<br>hold: False<br>volume: -50.767676<br>modified volume: 35.0000<br>fee: nan<br>margin: nan<br>error: low free margin (order margin=48411.839414659094, order profit=-1935.8458970040153, free margin=13043.383589433051)",
          "order id: <br>hold probability: 0.0000<br>hold: False<br>volume: -6.286136<br>modified volume: 6.2900<br>fee: nan<br>margin: nan<br>error: low free margin (order margin=8685.114007555247, order profit=-311.5719736677106, free margin=1447.5763265648984)",
          "order id: <br>hold probability: 0.0000<br>hold: False<br>volume: 33.167762<br>modified volume: 33.1700<br>fee: nan<br>margin: nan<br>error: low free margin (order margin=45916.93505791014, order profit=-2046.9645817665803, free margin=17246.151950962372)",
          "order id: <br>hold probability: 0.0000<br>hold: False<br>volume: 55.442373<br>modified volume: 35.0000<br>fee: nan<br>margin: nan<br>error: low free margin (order margin=47720.17776391705, order profit=-1872.1449524851348, free margin=8746.840028241604)",
          "order id: <br>hold probability: 0.0000<br>hold: False<br>volume: 31.311104<br>modified volume: 31.3100<br>fee: nan<br>margin: nan<br>error: low free margin (order margin=42889.76855282451, order profit=-1718.4992004951912, free margin=11090.151388393675)",
          "order id: <br>hold probability: 0.0000<br>hold: False<br>volume: -50.730892<br>modified volume: 35.0000<br>fee: nan<br>margin: nan<br>error: low free margin (order margin=48150.00673849106, order profit=-2018.9588368436039, free margin=17230.151388393675)",
          "order id: <br>hold probability: 0.0000<br>hold: False<br>volume: 97.579226<br>modified volume: 35.0000<br>fee: nan<br>margin: nan<br>error: low free margin (order margin=48409.00761655885, order profit=-1797.2406405263687, free margin=15548.442536437775)"
         ],
         "legendgroup": "g1",
         "marker": {
          "color": [
           "gray",
           "gray",
           "gray",
           "gray",
           "gray",
           "gray",
           "gray",
           "gray",
           "gray",
           "gray",
           "gray",
           "gray",
           "gray",
           "gray",
           "gray",
           "gray",
           "gray",
           "gray",
           "gray",
           "gray",
           "red",
           "gray",
           "gray",
           "gray",
           "gray",
           "gray",
           "gray",
           "gray",
           "gray",
           "gray",
           "gray",
           "gray",
           "gray",
           "gray",
           "gray",
           "gray",
           "gray",
           "gray",
           "gray",
           "gray"
          ],
          "size": [
           20.596571428571426,
           30,
           30,
           30,
           30,
           30,
           30,
           30,
           17.472571428571428,
           30,
           30,
           30,
           30,
           30,
           30,
           30,
           30,
           29.918285714285712,
           28.23371428571428,
           30,
           9.577714285714286,
           30,
           20.917142857142856,
           17.74285714285714,
           30,
           30,
           30,
           30,
           30,
           26.322857142857146,
           30,
           30,
           15.014857142857142,
           30,
           11.953714285714286,
           28.849714285714285,
           30,
           27.68057142857143,
           30,
           30
          ],
          "symbol": [
           "triangle-down",
           "triangle-down",
           "triangle-down",
           "triangle-down",
           "triangle-down",
           "triangle-down",
           "triangle-down",
           "triangle-down",
           "triangle-down",
           "triangle-down",
           "triangle-down",
           "triangle-down",
           "triangle-down",
           "triangle-down",
           "triangle-down",
           "triangle-down",
           "triangle-down",
           "triangle-down",
           "triangle-down",
           "triangle-down",
           "triangle-down",
           "triangle-down",
           "triangle-down",
           "triangle-down",
           "triangle-down",
           "triangle-down",
           "triangle-down",
           "triangle-down",
           "triangle-down",
           "triangle-down",
           "triangle-down",
           "triangle-down",
           "triangle-down",
           "triangle-down",
           "triangle-down",
           "triangle-down",
           "triangle-down",
           "triangle-down",
           "triangle-down",
           "triangle-down"
          ]
         },
         "mode": "markers",
         "name": "GBPCAD",
         "showlegend": false,
         "type": "scatter",
         "x": [
          "2021-05-18T00:00:00+00:00",
          "2021-05-19T00:00:00+00:00",
          "2021-05-21T00:00:00+00:00",
          "2021-05-25T00:00:00+00:00",
          "2021-06-01T00:00:00+00:00",
          "2021-06-02T00:00:00+00:00",
          "2021-06-07T00:00:00+00:00",
          "2021-06-08T00:00:00+00:00",
          "2021-06-10T00:00:00+00:00",
          "2021-06-11T00:00:00+00:00",
          "2021-06-15T00:00:00+00:00",
          "2021-06-17T00:00:00+00:00",
          "2021-06-21T00:00:00+00:00",
          "2021-06-22T00:00:00+00:00",
          "2021-06-23T00:00:00+00:00",
          "2021-06-24T00:00:00+00:00",
          "2021-06-30T00:00:00+00:00",
          "2021-07-02T00:00:00+00:00",
          "2021-07-05T00:00:00+00:00",
          "2021-07-07T00:00:00+00:00",
          "2021-07-15T00:00:00+00:00",
          "2021-07-19T00:00:00+00:00",
          "2021-07-20T00:00:00+00:00",
          "2021-07-22T00:00:00+00:00",
          "2021-07-23T00:00:00+00:00",
          "2021-07-26T00:00:00+00:00",
          "2021-07-27T00:00:00+00:00",
          "2021-07-30T00:00:00+00:00",
          "2021-08-02T00:00:00+00:00",
          "2021-08-03T00:00:00+00:00",
          "2021-08-04T00:00:00+00:00",
          "2021-08-05T00:00:00+00:00",
          "2021-08-06T00:00:00+00:00",
          "2021-08-10T00:00:00+00:00",
          "2021-08-12T00:00:00+00:00",
          "2021-08-16T00:00:00+00:00",
          "2021-08-19T00:00:00+00:00",
          "2021-08-26T00:00:00+00:00",
          "2021-08-27T00:00:00+00:00",
          "2021-09-02T00:00:00+00:00"
         ],
         "y": [
          1.71128,
          1.71211,
          1.70726,
          1.7066,
          1.70755,
          1.70462,
          1.71255,
          1.7139199999999999,
          1.71433,
          1.71691,
          1.71492,
          1.71949,
          1.72173,
          1.7158099999999998,
          1.7177,
          1.7149299999999998,
          1.71437,
          1.70511,
          1.70716,
          1.72167,
          1.7407,
          1.74244,
          1.7273800000000001,
          1.72851,
          1.72728,
          1.73336,
          1.7481900000000001,
          1.73335,
          1.73577,
          1.7441499999999999,
          1.7412999999999998,
          1.7408299999999999,
          1.7419799999999999,
          1.7316500000000001,
          1.72889,
          1.7402199999999999,
          1.74874,
          1.7377,
          1.7353399999999999,
          1.73603
         ],
         "yaxis": "y"
        },
        {
         "hovertext": [
          "order id: 3<br>order type: Sell<br>close probability: 1.0000<br>margin: 3469.429776<br>profit: 627.936705"
         ],
         "legendgroup": "g1",
         "marker": {
          "color": "black",
          "line": {
           "width": 1.5
          },
          "size": 7,
          "symbol": "line-ns"
         },
         "mode": "markers",
         "name": "GBPCAD",
         "showlegend": false,
         "type": "scatter",
         "x": [
          "2021-07-16T00:00:00+00:00"
         ],
         "y": [
          1.73684
         ],
         "yaxis": "y"
        },
        {
         "hovertext": [
          "balance: 10000.000000 USD<br>equity: 10000.000000<br>margin: 0.000000<br>free margin: 10000.000000<br>margin level: inf",
          "balance: 10000.000000 USD<br>equity: 10000.000000<br>margin: 0.000000<br>free margin: 10000.000000<br>margin level: inf",
          "balance: 10000.000000 USD<br>equity: 10000.000000<br>margin: 0.000000<br>free margin: 10000.000000<br>margin level: inf",
          "balance: 10000.000000 USD<br>equity: 10000.000000<br>margin: 0.000000<br>free margin: 10000.000000<br>margin level: inf",
          "balance: 10000.000000 USD<br>equity: 10000.000000<br>margin: 0.000000<br>free margin: 10000.000000<br>margin level: inf",
          "balance: 10000.000000 USD<br>equity: 10000.000000<br>margin: 0.000000<br>free margin: 10000.000000<br>margin level: inf",
          "balance: 10000.000000 USD<br>equity: 10000.000000<br>margin: 0.000000<br>free margin: 10000.000000<br>margin level: inf",
          "balance: 10000.000000 USD<br>equity: 10000.000000<br>margin: 0.000000<br>free margin: 10000.000000<br>margin level: inf",
          "balance: 10000.000000 USD<br>equity: 10000.000000<br>margin: 0.000000<br>free margin: 10000.000000<br>margin level: inf",
          "balance: 10000.000000 USD<br>equity: 10000.000000<br>margin: 0.000000<br>free margin: 10000.000000<br>margin level: inf",
          "balance: 10000.000000 USD<br>equity: 8668.817258<br>margin: 3299.913000<br>free margin: 5368.904258<br>margin level: 2.626984",
          "balance: 10000.000000 USD<br>equity: 10086.317258<br>margin: 3299.913000<br>free margin: 6786.404258<br>margin level: 3.056540",
          "balance: 10086.317258 USD<br>equity: 10086.317258<br>margin: 0.000000<br>free margin: 10086.317258<br>margin level: inf",
          "balance: 10086.317258 USD<br>equity: 10086.317258<br>margin: 0.000000<br>free margin: 10086.317258<br>margin level: inf",
          "balance: 10086.317258 USD<br>equity: 10086.317258<br>margin: 0.000000<br>free margin: 10086.317258<br>margin level: inf",
          "balance: 10086.317258 USD<br>equity: 10086.317258<br>margin: 0.000000<br>free margin: 10086.317258<br>margin level: inf",
          "balance: 10086.317258 USD<br>equity: 10086.317258<br>margin: 0.000000<br>free margin: 10086.317258<br>margin level: inf",
          "balance: 10086.317258 USD<br>equity: 10086.317258<br>margin: 0.000000<br>free margin: 10086.317258<br>margin level: inf",
          "balance: 10086.317258 USD<br>equity: 10086.317258<br>margin: 0.000000<br>free margin: 10086.317258<br>margin level: inf",
          "balance: 10086.317258 USD<br>equity: 10086.317258<br>margin: 0.000000<br>free margin: 10086.317258<br>margin level: inf",
          "balance: 10086.317258 USD<br>equity: 10086.317258<br>margin: 0.000000<br>free margin: 10086.317258<br>margin level: inf",
          "balance: 10086.317258 USD<br>equity: 10086.317258<br>margin: 0.000000<br>free margin: 10086.317258<br>margin level: inf",
          "balance: 10086.317258 USD<br>equity: 10086.317258<br>margin: 0.000000<br>free margin: 10086.317258<br>margin level: inf",
          "balance: 10086.317258 USD<br>equity: 10086.317258<br>margin: 0.000000<br>free margin: 10086.317258<br>margin level: inf",
          "balance: 10086.317258 USD<br>equity: 10086.317258<br>margin: 0.000000<br>free margin: 10086.317258<br>margin level: inf",
          "balance: 10086.317258 USD<br>equity: 10086.317258<br>margin: 0.000000<br>free margin: 10086.317258<br>margin level: inf",
          "balance: 10086.317258 USD<br>equity: 10086.317258<br>margin: 0.000000<br>free margin: 10086.317258<br>margin level: inf",
          "balance: 10086.317258 USD<br>equity: 10086.317258<br>margin: 0.000000<br>free margin: 10086.317258<br>margin level: inf",
          "balance: 10086.317258 USD<br>equity: 10086.317258<br>margin: 0.000000<br>free margin: 10086.317258<br>margin level: inf",
          "balance: 10086.317258 USD<br>equity: 10086.317258<br>margin: 0.000000<br>free margin: 10086.317258<br>margin level: inf",
          "balance: 10086.317258 USD<br>equity: 10086.317258<br>margin: 0.000000<br>free margin: 10086.317258<br>margin level: inf",
          "balance: 10086.317258 USD<br>equity: 10086.317258<br>margin: 0.000000<br>free margin: 10086.317258<br>margin level: inf",
          "balance: 10086.317258 USD<br>equity: 10086.317258<br>margin: 0.000000<br>free margin: 10086.317258<br>margin level: inf",
          "balance: 10086.317258 USD<br>equity: 10086.317258<br>margin: 0.000000<br>free margin: 10086.317258<br>margin level: inf",
          "balance: 10086.317258 USD<br>equity: 10086.317258<br>margin: 0.000000<br>free margin: 10086.317258<br>margin level: inf",
          "balance: 10086.317258 USD<br>equity: 10086.317258<br>margin: 0.000000<br>free margin: 10086.317258<br>margin level: inf",
          "balance: 10086.317258 USD<br>equity: 9523.780004<br>margin: 6450.000000<br>free margin: 3073.780004<br>margin level: 1.476555",
          "balance: 9523.780004 USD<br>equity: 9523.780004<br>margin: 0.000000<br>free margin: 9523.780004<br>margin level: inf",
          "balance: 9523.780004 USD<br>equity: 9523.780004<br>margin: 0.000000<br>free margin: 9523.780004<br>margin level: inf",
          "balance: 9523.780004 USD<br>equity: 9523.780004<br>margin: 0.000000<br>free margin: 9523.780004<br>margin level: inf",
          "balance: 9523.780004 USD<br>equity: 9523.780004<br>margin: 0.000000<br>free margin: 9523.780004<br>margin level: inf",
          "balance: 9523.780004 USD<br>equity: 9523.780004<br>margin: 0.000000<br>free margin: 9523.780004<br>margin level: inf",
          "balance: 9523.780004 USD<br>equity: 9523.780004<br>margin: 0.000000<br>free margin: 9523.780004<br>margin level: inf",
          "balance: 9523.780004 USD<br>equity: 9523.780004<br>margin: 0.000000<br>free margin: 9523.780004<br>margin level: inf",
          "balance: 9523.780004 USD<br>equity: 9523.780004<br>margin: 0.000000<br>free margin: 9523.780004<br>margin level: inf",
          "balance: 9523.780004 USD<br>equity: 9523.780004<br>margin: 0.000000<br>free margin: 9523.780004<br>margin level: inf",
          "balance: 9523.780004 USD<br>equity: 9523.780004<br>margin: 0.000000<br>free margin: 9523.780004<br>margin level: inf",
          "balance: 9523.780004 USD<br>equity: 9523.780004<br>margin: 0.000000<br>free margin: 9523.780004<br>margin level: inf",
          "balance: 9523.780004 USD<br>equity: 9523.780004<br>margin: 0.000000<br>free margin: 9523.780004<br>margin level: inf",
          "balance: 9523.780004 USD<br>equity: 9523.780004<br>margin: 0.000000<br>free margin: 9523.780004<br>margin level: inf",
          "balance: 9523.780004 USD<br>equity: 9523.780004<br>margin: 0.000000<br>free margin: 9523.780004<br>margin level: inf",
          "balance: 9523.780004 USD<br>equity: 9523.780004<br>margin: 0.000000<br>free margin: 9523.780004<br>margin level: inf",
          "balance: 9523.780004 USD<br>equity: 10151.716710<br>margin: 3469.429776<br>free margin: 6682.286934<br>margin level: 2.926048",
          "balance: 10151.716710 USD<br>equity: 10151.716710<br>margin: 0.000000<br>free margin: 10151.716710<br>margin level: inf",
          "balance: 10151.716710 USD<br>equity: 10151.716710<br>margin: 0.000000<br>free margin: 10151.716710<br>margin level: inf",
          "balance: 10151.716710 USD<br>equity: 10151.716710<br>margin: 0.000000<br>free margin: 10151.716710<br>margin level: inf",
          "balance: 10151.716710 USD<br>equity: 10151.716710<br>margin: 0.000000<br>free margin: 10151.716710<br>margin level: inf",
          "balance: 10151.716710 USD<br>equity: 10151.716710<br>margin: 0.000000<br>free margin: 10151.716710<br>margin level: inf",
          "balance: 10151.716710 USD<br>equity: 10151.716710<br>margin: 0.000000<br>free margin: 10151.716710<br>margin level: inf",
          "balance: 10151.716710 USD<br>equity: 10151.716710<br>margin: 0.000000<br>free margin: 10151.716710<br>margin level: inf",
          "balance: 10151.716710 USD<br>equity: 10151.716710<br>margin: 0.000000<br>free margin: 10151.716710<br>margin level: inf",
          "balance: 10151.716710 USD<br>equity: 12220.581680<br>margin: 5430.000000<br>free margin: 6790.581680<br>margin level: 2.250568",
          "balance: 10151.716710 USD<br>equity: 11296.028451<br>margin: 5430.000000<br>free margin: 5866.028451<br>margin level: 2.080300",
          "balance: 10151.716710 USD<br>equity: 13043.383589<br>margin: 5430.000000<br>free margin: 7613.383589<br>margin level: 2.402096",
          "balance: 13043.383589 USD<br>equity: 13043.383589<br>margin: 0.000000<br>free margin: 13043.383589<br>margin level: inf",
          "balance: 13043.383589 USD<br>equity: 13043.383589<br>margin: 0.000000<br>free margin: 13043.383589<br>margin level: inf",
          "balance: 13043.383589 USD<br>equity: 13043.383589<br>margin: 0.000000<br>free margin: 13043.383589<br>margin level: inf",
          "balance: 13043.383589 USD<br>equity: 13043.383589<br>margin: 0.000000<br>free margin: 13043.383589<br>margin level: inf",
          "balance: 13043.383589 USD<br>equity: 13043.383589<br>margin: 0.000000<br>free margin: 13043.383589<br>margin level: inf",
          "balance: 13043.383589 USD<br>equity: 13043.383589<br>margin: 0.000000<br>free margin: 13043.383589<br>margin level: inf",
          "balance: 13043.383589 USD<br>equity: 14795.733127<br>margin: 12376.636800<br>free margin: 2419.096327<br>margin level: 1.195457",
          "balance: 13043.383589 USD<br>equity: 13824.213127<br>margin: 12376.636800<br>free margin: 1447.576327<br>margin level: 1.116960",
          "balance: 13824.213127 USD<br>equity: 17246.151951<br>margin: 6204.958400<br>free margin: 11041.193551<br>margin level: 2.779415",
          "balance: 17246.151951 USD<br>equity: 17246.151951<br>margin: 0.000000<br>free margin: 17246.151951<br>margin level: inf",
          "balance: 17246.151951 USD<br>equity: 17246.151951<br>margin: 0.000000<br>free margin: 17246.151951<br>margin level: inf",
          "balance: 17246.151951 USD<br>equity: 17246.151951<br>margin: 0.000000<br>free margin: 17246.151951<br>margin level: inf",
          "balance: 17246.151951 USD<br>equity: 17066.840028<br>margin: 8320.000000<br>free margin: 8746.840028<br>margin level: 2.051303",
          "balance: 17066.840028 USD<br>equity: 17066.840028<br>margin: 0.000000<br>free margin: 17066.840028<br>margin level: inf",
          "balance: 17066.840028 USD<br>equity: 17066.840028<br>margin: 0.000000<br>free margin: 17066.840028<br>margin level: inf",
          "balance: 17066.840028 USD<br>equity: 17026.263419<br>margin: 1420.000000<br>free margin: 15606.263419<br>margin level: 11.990326",
          "balance: 17026.263419 USD<br>equity: 17026.263419<br>margin: 0.000000<br>free margin: 17026.263419<br>margin level: inf",
          "balance: 17026.263419 USD<br>equity: 17230.151388<br>margin: 6140.000000<br>free margin: 11090.151388<br>margin level: 2.806214",
          "balance: 17230.151388 USD<br>equity: 17230.151388<br>margin: 0.000000<br>free margin: 17230.151388<br>margin level: inf",
          "balance: 17230.151388 USD<br>equity: 17230.151388<br>margin: 0.000000<br>free margin: 17230.151388<br>margin level: inf",
          "balance: 17230.151388 USD<br>equity: 15548.442536<br>margin: 14002.089400<br>free margin: 1546.353136<br>margin level: 1.110437",
          "balance: 15548.442536 USD<br>equity: 15548.442536<br>margin: 0.000000<br>free margin: 15548.442536<br>margin level: inf",
          "balance: 15548.442536 USD<br>equity: 15548.442536<br>margin: 0.000000<br>free margin: 15548.442536<br>margin level: inf",
          "balance: 15548.442536 USD<br>equity: 15548.442536<br>margin: 0.000000<br>free margin: 15548.442536<br>margin level: inf"
         ],
         "legendgroup": "g2",
         "line": {
          "color": "rgba(0.5643983083429451, 0.36993464052287583, 0.5132641291810843, 1.0)"
         },
         "mode": "lines+markers",
         "name": "EURUSD",
         "opacity": 1,
         "type": "scatter",
         "x": [
          "2021-05-05T00:00:00+00:00",
          "2021-05-06T00:00:00+00:00",
          "2021-05-07T00:00:00+00:00",
          "2021-05-10T00:00:00+00:00",
          "2021-05-11T00:00:00+00:00",
          "2021-05-12T00:00:00+00:00",
          "2021-05-13T00:00:00+00:00",
          "2021-05-14T00:00:00+00:00",
          "2021-05-17T00:00:00+00:00",
          "2021-05-18T00:00:00+00:00",
          "2021-05-19T00:00:00+00:00",
          "2021-05-20T00:00:00+00:00",
          "2021-05-21T00:00:00+00:00",
          "2021-05-24T00:00:00+00:00",
          "2021-05-25T00:00:00+00:00",
          "2021-05-26T00:00:00+00:00",
          "2021-05-27T00:00:00+00:00",
          "2021-05-28T00:00:00+00:00",
          "2021-05-31T00:00:00+00:00",
          "2021-06-01T00:00:00+00:00",
          "2021-06-02T00:00:00+00:00",
          "2021-06-03T00:00:00+00:00",
          "2021-06-04T00:00:00+00:00",
          "2021-06-07T00:00:00+00:00",
          "2021-06-08T00:00:00+00:00",
          "2021-06-09T00:00:00+00:00",
          "2021-06-10T00:00:00+00:00",
          "2021-06-11T00:00:00+00:00",
          "2021-06-14T00:00:00+00:00",
          "2021-06-15T00:00:00+00:00",
          "2021-06-16T00:00:00+00:00",
          "2021-06-17T00:00:00+00:00",
          "2021-06-18T00:00:00+00:00",
          "2021-06-21T00:00:00+00:00",
          "2021-06-22T00:00:00+00:00",
          "2021-06-23T00:00:00+00:00",
          "2021-06-24T00:00:00+00:00",
          "2021-06-25T00:00:00+00:00",
          "2021-06-28T00:00:00+00:00",
          "2021-06-29T00:00:00+00:00",
          "2021-06-30T00:00:00+00:00",
          "2021-07-01T00:00:00+00:00",
          "2021-07-02T00:00:00+00:00",
          "2021-07-05T00:00:00+00:00",
          "2021-07-06T00:00:00+00:00",
          "2021-07-07T00:00:00+00:00",
          "2021-07-08T00:00:00+00:00",
          "2021-07-09T00:00:00+00:00",
          "2021-07-12T00:00:00+00:00",
          "2021-07-13T00:00:00+00:00",
          "2021-07-14T00:00:00+00:00",
          "2021-07-15T00:00:00+00:00",
          "2021-07-16T00:00:00+00:00",
          "2021-07-19T00:00:00+00:00",
          "2021-07-20T00:00:00+00:00",
          "2021-07-21T00:00:00+00:00",
          "2021-07-22T00:00:00+00:00",
          "2021-07-23T00:00:00+00:00",
          "2021-07-26T00:00:00+00:00",
          "2021-07-27T00:00:00+00:00",
          "2021-07-28T00:00:00+00:00",
          "2021-07-29T00:00:00+00:00",
          "2021-07-30T00:00:00+00:00",
          "2021-08-02T00:00:00+00:00",
          "2021-08-03T00:00:00+00:00",
          "2021-08-04T00:00:00+00:00",
          "2021-08-05T00:00:00+00:00",
          "2021-08-06T00:00:00+00:00",
          "2021-08-09T00:00:00+00:00",
          "2021-08-10T00:00:00+00:00",
          "2021-08-11T00:00:00+00:00",
          "2021-08-12T00:00:00+00:00",
          "2021-08-13T00:00:00+00:00",
          "2021-08-16T00:00:00+00:00",
          "2021-08-17T00:00:00+00:00",
          "2021-08-18T00:00:00+00:00",
          "2021-08-19T00:00:00+00:00",
          "2021-08-20T00:00:00+00:00",
          "2021-08-23T00:00:00+00:00",
          "2021-08-24T00:00:00+00:00",
          "2021-08-25T00:00:00+00:00",
          "2021-08-26T00:00:00+00:00",
          "2021-08-27T00:00:00+00:00",
          "2021-08-30T00:00:00+00:00",
          "2021-08-31T00:00:00+00:00",
          "2021-09-01T00:00:00+00:00",
          "2021-09-02T00:00:00+00:00",
          "2021-09-03T00:00:00+00:00"
         ],
         "y": [
          1.20036,
          1.20646,
          1.21618,
          1.21282,
          1.2147000000000001,
          1.20705,
          1.20791,
          1.21441,
          1.21511,
          1.2221899999999999,
          1.21744,
          1.22269,
          1.21806,
          1.2215,
          1.22497,
          1.21922,
          1.21934,
          1.21896,
          1.2225,
          1.22126,
          1.221,
          1.21265,
          1.21662,
          1.21893,
          1.21726,
          1.21787,
          1.21751,
          1.21063,
          1.212,
          1.21264,
          1.19943,
          1.19069,
          1.18597,
          1.19185,
          1.19413,
          1.19258,
          1.19315,
          1.1937,
          1.19242,
          1.1896,
          1.1856,
          1.18497,
          1.18646,
          1.18634,
          1.18231,
          1.17903,
          1.18449,
          1.18774,
          1.18606,
          1.17765,
          1.18358,
          1.18118,
          1.18055,
          1.17987,
          1.17805,
          1.17946,
          1.17707,
          1.17689,
          1.18029,
          1.18165,
          1.18441,
          1.18865,
          1.1873,
          1.18688,
          1.18637,
          1.18367,
          1.18327,
          1.17611,
          1.17362,
          1.17203,
          1.17388,
          1.17296,
          1.17962,
          1.17768,
          1.17081,
          1.17108,
          1.16756,
          1.16996,
          1.1745700000000001,
          1.17555,
          1.17716,
          1.17515,
          1.1795499999999999,
          1.17962,
          1.18083,
          1.18384,
          1.18744,
          1.18772
         ],
         "yaxis": "y2"
        },
        {
         "hovertext": [
          "order id: 1<br>hold probability: 0.0000<br>hold: False<br>volume: 2.699246<br>modified volume: 2.7000<br>fee: 0.000180<br>margin: 3299.913000<br>error: ",
          "order id: <br>hold probability: 0.0000<br>hold: False<br>volume: 54.253488<br>modified volume: 54.2500<br>fee: nan<br>margin: nan<br>error: low free margin (order margin=66046.12, order profit=-1081.0181737094078, free margin=5368.904258406263)",
          "order id: <br>hold probability: 0.0000<br>hold: False<br>volume: 30.144992<br>modified volume: 30.1400<br>fee: nan<br>margin: nan<br>error: low free margin (order margin=36851.8766, order profit=-635.794811501933, free margin=10086.317258406256)",
          "order id: <br>hold probability: 0.0000<br>hold: False<br>volume: -73.118783<br>modified volume: 73.1200<br>fee: nan<br>margin: nan<br>error: low free margin (order margin=89316.08, order profit=-1578.2556878809983, free margin=10086.317258406256)",
          "order id: <br>hold probability: 0.0000<br>hold: False<br>volume: 34.163545<br>modified volume: 34.1600<br>fee: nan<br>margin: nan<br>error: low free margin (order margin=41652.65440000001, order profit=-606.7951695287303, free margin=10086.317258406256)",
          "order id: <br>hold probability: 0.0000<br>hold: False<br>volume: -55.919758<br>modified volume: 55.9200<br>fee: nan<br>margin: nan<br>error: low free margin (order margin=68362.2, order profit=-1211.0149849159654, free margin=10086.317258406256)",
          "order id: <br>hold probability: 0.0000<br>hold: False<br>volume: -87.575742<br>modified volume: 87.5800<br>fee: nan<br>margin: nan<br>error: low free margin (order margin=106957.9508, order profit=-2071.6339415470793, free margin=10086.317258406256)",
          "order id: <br>hold probability: 0.0000<br>hold: False<br>volume: -43.545134<br>modified volume: 43.5500<br>fee: nan<br>margin: nan<br>error: low free margin (order margin=53084.40150000001, order profit=-730.4124434808059, free margin=10086.317258406256)",
          "order id: <br>hold probability: 0.2027<br>hold: False<br>volume: 79.480478<br>modified volume: 79.4800<br>fee: nan<br>margin: nan<br>error: low free margin (order margin=96220.87240000001, order profit=-1429.2978648087433, free margin=10086.317258406256)",
          "order id: <br>hold probability: 0.0000<br>hold: False<br>volume: 42.368899<br>modified volume: 42.3700<br>fee: nan<br>margin: nan<br>error: low free margin (order margin=50249.548899999994, order profit=-908.9061847391922, free margin=10086.317258406256)",
          "order id: <br>hold probability: 0.0000<br>hold: False<br>volume: 62.860067<br>modified volume: 62.8600<br>fee: nan<br>margin: nan<br>error: low free margin (order margin=75063.0118, order profit=-1111.1388169897355, free margin=10086.317258406256)",
          "order id: <br>hold probability: 0.0000<br>hold: False<br>volume: -70.210552<br>modified volume: 70.2100<br>fee: nan<br>margin: nan<br>error: low free margin (order margin=83719.80820000001, order profit=-1371.1399532853113, free margin=9523.780004392056)",
          "order id: <br>hold probability: 0.0000<br>hold: False<br>volume: -63.103113<br>modified volume: 63.1000<br>fee: nan<br>margin: nan<br>error: low free margin (order margin=74811.36, order profit=-1258.7057877108618, free margin=9523.780004392056)",
          "order id: <br>hold probability: 0.0000<br>hold: False<br>volume: 87.410165<br>modified volume: 87.4100<br>fee: nan<br>margin: nan<br>error: low free margin (order margin=103578.22770000002, order profit=-1802.3778795506666, free margin=9523.780004392056)",
          "order id: <br>hold probability: 0.0000<br>hold: False<br>volume: 95.183699<br>modified volume: 95.1800<br>fee: nan<br>margin: nan<br>error: low free margin (order margin=112927.26280000001, order profit=-2267.4058321874063, free margin=9523.780004392056)",
          "order id: <br>hold probability: 0.0000<br>hold: False<br>volume: 72.227751<br>modified volume: 72.2300<br>fee: nan<br>margin: nan<br>error: low free margin (order margin=85689.3382, order profit=-1333.2833980438827, free margin=9523.780004392056)",
          "order id: <br>hold probability: 0.0000<br>hold: False<br>volume: 76.397849<br>modified volume: 76.4000<br>fee: nan<br>margin: nan<br>error: low free margin (order margin=90077.892, order profit=-1754.8547132848912, free margin=9523.780004392056)",
          "order id: <br>hold probability: 0.0000<br>hold: False<br>volume: 42.547993<br>modified volume: 42.5500<br>fee: nan<br>margin: nan<br>error: low free margin (order margin=50400.0495, order profit=-844.1598915959347, free margin=9523.780004392056)",
          "order id: <br>hold probability: 0.0000<br>hold: False<br>volume: -88.790796<br>modified volume: 88.7900<br>fee: nan<br>margin: nan<br>error: low free margin (order margin=105310.26739999998, order profit=-1794.2602377160144, free margin=9523.780004392056)",
          "order id: <br>hold probability: 0.0000<br>hold: False<br>volume: 41.381911<br>modified volume: 41.3800<br>fee: nan<br>margin: nan<br>error: low free margin (order margin=48976.54040000001, order profit=-853.4350421578655, free margin=9523.780004392056)",
          "order id: <br>hold probability: 0.0000<br>hold: False<br>volume: 83.267332<br>modified volume: 83.2700<br>fee: nan<br>margin: nan<br>error: low free margin (order margin=98356.85859999999, order profit=-1683.284986588137, free margin=5914.148008061987)",
          "order id: <br>hold probability: 0.0000<br>hold: False<br>volume: 54.876913<br>modified volume: 54.8800<br>fee: nan<br>margin: nan<br>error: low free margin (order margin=64751.2656, order profit=-1078.6383727428395, free margin=10151.716709810442)",
          "order id: <br>hold probability: 0.0000<br>hold: False<br>volume: -25.228518<br>modified volume: 25.2300<br>fee: nan<br>margin: nan<br>error: low free margin (order margin=29722.2015, order profit=-523.7126083729062, free margin=10151.716709810442)",
          "order id: <br>hold probability: 0.0000<br>hold: False<br>volume: -94.672472<br>modified volume: 94.6700<br>fee: nan<br>margin: nan<br>error: low free margin (order margin=111738.0543, order profit=-1628.2442058075897, free margin=10151.716709810442)",
          "order id: <br>hold probability: 0.0000<br>hold: False<br>volume: 93.811428<br>modified volume: 93.8100<br>fee: nan<br>margin: nan<br>error: low free margin (order margin=110850.5865, order profit=-2145.6573974288535, free margin=10151.716709810442)",
          "order id: <br>hold probability: 0.0000<br>hold: False<br>volume: 99.012776<br>modified volume: 99.0100<br>fee: nan<br>margin: nan<br>error: low free margin (order margin=117688.2365, order profit=-2011.8806586282521, free margin=6790.581679913243)",
          "order id: <br>hold probability: 0.0000<br>hold: False<br>volume: 84.145193<br>modified volume: 84.1500<br>fee: nan<br>margin: nan<br>error: low free margin (order margin=99833.03549999998, order profit=-1691.147863144676, free margin=13043.383589433051)",
          "order id: <br>hold probability: 0.0000<br>hold: False<br>volume: -55.259402<br>modified volume: 55.2600<br>fee: nan<br>margin: nan<br>error: low free margin (order margin=65409.6042, order profit=-1415.8609295544104, free margin=13043.383589433051)",
          "order id: <br>hold probability: 0.0000<br>hold: False<br>volume: 18.142451<br>modified volume: 18.1400<br>fee: nan<br>margin: nan<br>error: low free margin (order margin=21289.466800000002, order profit=-490.30266230585767, free margin=13043.383589433051)",
          "order id: 5<br>hold probability: 0.0011<br>hold: False<br>volume: 10.562768<br>modified volume: 10.5600<br>fee: 0.000191<br>margin: 12376.636800<br>error: ",
          "order id: 6<br>hold probability: 0.0359<br>hold: False<br>volume: 5.289552<br>modified volume: 5.2900<br>fee: 0.000191<br>margin: 6204.958400<br>error: ",
          "order id: <br>hold probability: 0.0000<br>hold: False<br>volume: 25.603392<br>modified volume: 25.6000<br>fee: nan<br>margin: nan<br>error: low free margin (order margin=30148.608000000004, order profit=-575.1781325655222, free margin=17246.151950962372)",
          "order id: <br>hold probability: 0.0000<br>hold: False<br>volume: 14.600253<br>modified volume: 14.6000<br>fee: nan<br>margin: nan<br>error: low free margin (order margin=17097.767999999996, order profit=-335.019999306067, free margin=17246.151950962372)",
          "order id: <br>hold probability: 0.0000<br>hold: False<br>volume: 44.981585<br>modified volume: 44.9800<br>fee: nan<br>margin: nan<br>error: low free margin (order margin=52516.8488, order profit=-865.0529201173512, free margin=8746.840028241604)",
          "order id: <br>hold probability: 0.0000<br>hold: False<br>volume: -63.032540<br>modified volume: 63.0300<br>fee: nan<br>margin: nan<br>error: low free margin (order margin=74033.1471, order profit=-996.8580763019694, free margin=17066.840028241604)",
          "order id: 10<br>hold probability: 0.0000<br>hold: False<br>volume: -11.873471<br>modified volume: 11.8700<br>fee: 0.000207<br>margin: 14002.089400<br>error: ",
          "order id: <br>hold probability: 0.0000<br>hold: False<br>volume: -93.711880<br>modified volume: 93.7100<br>fee: nan<br>margin: nan<br>error: low free margin (order margin=110937.64640000001, order profit=-1321.5406518175835, free margin=15548.442536437775)",
          "order id: <br>hold probability: 0.0000<br>hold: False<br>volume: -81.640212<br>modified volume: 81.6400<br>fee: nan<br>margin: nan<br>error: low free margin (order margin=96942.6016, order profit=-1543.2735769978567, free margin=15548.442536437775)"
         ],
         "legendgroup": "g2",
         "marker": {
          "color": [
           "green",
           "gray",
           "gray",
           "gray",
           "gray",
           "gray",
           "gray",
           "gray",
           "gray",
           "gray",
           "gray",
           "gray",
           "gray",
           "gray",
           "gray",
           "gray",
           "gray",
           "gray",
           "gray",
           "gray",
           "gray",
           "gray",
           "gray",
           "gray",
           "gray",
           "gray",
           "gray",
           "gray",
           "gray",
           "green",
           "green",
           "gray",
           "gray",
           "gray",
           "gray",
           "red",
           "gray",
           "gray"
          ],
          "size": [
           8.5999394000606,
           20.054337945662052,
           14.697101302898696,
           24.247247752752248,
           15.590344409655591,
           20.425411574588423,
           27.460256539743458,
           17.67680032319968,
           25.66043833956166,
           17.414604585395413,
           21.967478032521967,
           23.6006463993536,
           22.020805979194023,
           27.42248257751742,
           29.14897485102515,
           24.04948995051005,
           24.976063023936977,
           17.454600545399455,
           27.729118270881727,
           17.194626805373197,
           26.502575497424502,
           20.194323805676195,
           13.606100393899606,
           29.035652964347033,
           28.844561155438846,
           30,
           26.698111301888698,
           20.278759721240277,
           12.030703969296031,
           10.346429653570347,
           9.175436824563175,
           13.688314311685687,
           11.244116755883244,
           17.994546005453998,
           22.005251994748004,
           10.637511362488638,
           28.822341177658824,
           26.14038985961014
          ],
          "symbol": [
           "triangle-up",
           "triangle-down",
           "triangle-down",
           "triangle-down",
           "triangle-down",
           "triangle-down",
           "triangle-down",
           "triangle-down",
           "triangle-down",
           "triangle-down",
           "triangle-down",
           "triangle-down",
           "triangle-down",
           "triangle-down",
           "triangle-down",
           "triangle-down",
           "triangle-down",
           "triangle-down",
           "triangle-down",
           "triangle-down",
           "triangle-down",
           "triangle-down",
           "triangle-down",
           "triangle-down",
           "triangle-down",
           "triangle-down",
           "triangle-down",
           "triangle-down",
           "triangle-down",
           "triangle-up",
           "triangle-up",
           "triangle-down",
           "triangle-down",
           "triangle-down",
           "triangle-down",
           "triangle-down",
           "triangle-down",
           "triangle-down"
          ]
         },
         "mode": "markers",
         "name": "EURUSD",
         "showlegend": false,
         "type": "scatter",
         "x": [
          "2021-05-18T00:00:00+00:00",
          "2021-05-19T00:00:00+00:00",
          "2021-05-20T00:00:00+00:00",
          "2021-05-24T00:00:00+00:00",
          "2021-05-27T00:00:00+00:00",
          "2021-05-31T00:00:00+00:00",
          "2021-06-01T00:00:00+00:00",
          "2021-06-07T00:00:00+00:00",
          "2021-06-11T00:00:00+00:00",
          "2021-06-18T00:00:00+00:00",
          "2021-06-22T00:00:00+00:00",
          "2021-06-28T00:00:00+00:00",
          "2021-06-30T00:00:00+00:00",
          "2021-07-01T00:00:00+00:00",
          "2021-07-02T00:00:00+00:00",
          "2021-07-05T00:00:00+00:00",
          "2021-07-07T00:00:00+00:00",
          "2021-07-08T00:00:00+00:00",
          "2021-07-12T00:00:00+00:00",
          "2021-07-14T00:00:00+00:00",
          "2021-07-15T00:00:00+00:00",
          "2021-07-19T00:00:00+00:00",
          "2021-07-20T00:00:00+00:00",
          "2021-07-26T00:00:00+00:00",
          "2021-07-27T00:00:00+00:00",
          "2021-07-29T00:00:00+00:00",
          "2021-08-03T00:00:00+00:00",
          "2021-08-04T00:00:00+00:00",
          "2021-08-09T00:00:00+00:00",
          "2021-08-10T00:00:00+00:00",
          "2021-08-12T00:00:00+00:00",
          "2021-08-16T00:00:00+00:00",
          "2021-08-18T00:00:00+00:00",
          "2021-08-19T00:00:00+00:00",
          "2021-08-23T00:00:00+00:00",
          "2021-08-30T00:00:00+00:00",
          "2021-09-01T00:00:00+00:00",
          "2021-09-02T00:00:00+00:00"
         ],
         "y": [
          1.2221899999999999,
          1.21744,
          1.22269,
          1.2215,
          1.21934,
          1.2225,
          1.22126,
          1.21893,
          1.21063,
          1.18597,
          1.19413,
          1.19242,
          1.1856,
          1.18497,
          1.18646,
          1.18634,
          1.17903,
          1.18449,
          1.18606,
          1.18358,
          1.18118,
          1.17987,
          1.17805,
          1.18029,
          1.18165,
          1.18865,
          1.18637,
          1.18367,
          1.17362,
          1.17203,
          1.17296,
          1.17768,
          1.17108,
          1.16756,
          1.1745700000000001,
          1.17962,
          1.18384,
          1.18744
         ],
         "yaxis": "y2"
        },
        {
         "hovertext": [
          "order id: 1<br>order type: Buy<br>close probability: 1.0000<br>margin: 3299.913000<br>profit: 86.317258",
          "order id: 5<br>order type: Buy<br>close probability: 1.0000<br>margin: 12376.636800<br>profit: 780.829537",
          "order id: 6<br>order type: Buy<br>close probability: 1.0000<br>margin: 6204.958400<br>profit: 3421.938824",
          "order id: 10<br>order type: Sell<br>close probability: 1.0000<br>margin: 14002.089400<br>profit: -1681.708852"
         ],
         "legendgroup": "g2",
         "marker": {
          "color": "black",
          "line": {
           "width": 1.5
          },
          "size": 7,
          "symbol": "line-ns"
         },
         "mode": "markers",
         "name": "EURUSD",
         "showlegend": false,
         "type": "scatter",
         "x": [
          "2021-05-20T00:00:00+00:00",
          "2021-08-12T00:00:00+00:00",
          "2021-08-13T00:00:00+00:00",
          "2021-08-31T00:00:00+00:00"
         ],
         "y": [
          1.22269,
          1.17296,
          1.17962,
          1.18083
         ],
         "yaxis": "y2"
        },
        {
         "hovertext": [
          "balance: 10000.000000 USD<br>equity: 10000.000000<br>margin: 0.000000<br>free margin: 10000.000000<br>margin level: inf",
          "balance: 10000.000000 USD<br>equity: 10000.000000<br>margin: 0.000000<br>free margin: 10000.000000<br>margin level: inf",
          "balance: 10000.000000 USD<br>equity: 10000.000000<br>margin: 0.000000<br>free margin: 10000.000000<br>margin level: inf",
          "balance: 10000.000000 USD<br>equity: 10000.000000<br>margin: 0.000000<br>free margin: 10000.000000<br>margin level: inf",
          "balance: 10000.000000 USD<br>equity: 10000.000000<br>margin: 0.000000<br>free margin: 10000.000000<br>margin level: inf",
          "balance: 10000.000000 USD<br>equity: 10000.000000<br>margin: 0.000000<br>free margin: 10000.000000<br>margin level: inf",
          "balance: 10000.000000 USD<br>equity: 10000.000000<br>margin: 0.000000<br>free margin: 10000.000000<br>margin level: inf",
          "balance: 10000.000000 USD<br>equity: 10000.000000<br>margin: 0.000000<br>free margin: 10000.000000<br>margin level: inf",
          "balance: 10000.000000 USD<br>equity: 10000.000000<br>margin: 0.000000<br>free margin: 10000.000000<br>margin level: inf",
          "balance: 10000.000000 USD<br>equity: 10000.000000<br>margin: 0.000000<br>free margin: 10000.000000<br>margin level: inf",
          "balance: 10000.000000 USD<br>equity: 8668.817258<br>margin: 3299.913000<br>free margin: 5368.904258<br>margin level: 2.626984",
          "balance: 10000.000000 USD<br>equity: 10086.317258<br>margin: 3299.913000<br>free margin: 6786.404258<br>margin level: 3.056540",
          "balance: 10086.317258 USD<br>equity: 10086.317258<br>margin: 0.000000<br>free margin: 10086.317258<br>margin level: inf",
          "balance: 10086.317258 USD<br>equity: 10086.317258<br>margin: 0.000000<br>free margin: 10086.317258<br>margin level: inf",
          "balance: 10086.317258 USD<br>equity: 10086.317258<br>margin: 0.000000<br>free margin: 10086.317258<br>margin level: inf",
          "balance: 10086.317258 USD<br>equity: 10086.317258<br>margin: 0.000000<br>free margin: 10086.317258<br>margin level: inf",
          "balance: 10086.317258 USD<br>equity: 10086.317258<br>margin: 0.000000<br>free margin: 10086.317258<br>margin level: inf",
          "balance: 10086.317258 USD<br>equity: 10086.317258<br>margin: 0.000000<br>free margin: 10086.317258<br>margin level: inf",
          "balance: 10086.317258 USD<br>equity: 10086.317258<br>margin: 0.000000<br>free margin: 10086.317258<br>margin level: inf",
          "balance: 10086.317258 USD<br>equity: 10086.317258<br>margin: 0.000000<br>free margin: 10086.317258<br>margin level: inf",
          "balance: 10086.317258 USD<br>equity: 10086.317258<br>margin: 0.000000<br>free margin: 10086.317258<br>margin level: inf",
          "balance: 10086.317258 USD<br>equity: 10086.317258<br>margin: 0.000000<br>free margin: 10086.317258<br>margin level: inf",
          "balance: 10086.317258 USD<br>equity: 10086.317258<br>margin: 0.000000<br>free margin: 10086.317258<br>margin level: inf",
          "balance: 10086.317258 USD<br>equity: 10086.317258<br>margin: 0.000000<br>free margin: 10086.317258<br>margin level: inf",
          "balance: 10086.317258 USD<br>equity: 10086.317258<br>margin: 0.000000<br>free margin: 10086.317258<br>margin level: inf",
          "balance: 10086.317258 USD<br>equity: 10086.317258<br>margin: 0.000000<br>free margin: 10086.317258<br>margin level: inf",
          "balance: 10086.317258 USD<br>equity: 10086.317258<br>margin: 0.000000<br>free margin: 10086.317258<br>margin level: inf",
          "balance: 10086.317258 USD<br>equity: 10086.317258<br>margin: 0.000000<br>free margin: 10086.317258<br>margin level: inf",
          "balance: 10086.317258 USD<br>equity: 10086.317258<br>margin: 0.000000<br>free margin: 10086.317258<br>margin level: inf",
          "balance: 10086.317258 USD<br>equity: 10086.317258<br>margin: 0.000000<br>free margin: 10086.317258<br>margin level: inf",
          "balance: 10086.317258 USD<br>equity: 10086.317258<br>margin: 0.000000<br>free margin: 10086.317258<br>margin level: inf",
          "balance: 10086.317258 USD<br>equity: 10086.317258<br>margin: 0.000000<br>free margin: 10086.317258<br>margin level: inf",
          "balance: 10086.317258 USD<br>equity: 10086.317258<br>margin: 0.000000<br>free margin: 10086.317258<br>margin level: inf",
          "balance: 10086.317258 USD<br>equity: 10086.317258<br>margin: 0.000000<br>free margin: 10086.317258<br>margin level: inf",
          "balance: 10086.317258 USD<br>equity: 10086.317258<br>margin: 0.000000<br>free margin: 10086.317258<br>margin level: inf",
          "balance: 10086.317258 USD<br>equity: 10086.317258<br>margin: 0.000000<br>free margin: 10086.317258<br>margin level: inf",
          "balance: 10086.317258 USD<br>equity: 9523.780004<br>margin: 6450.000000<br>free margin: 3073.780004<br>margin level: 1.476555",
          "balance: 9523.780004 USD<br>equity: 9523.780004<br>margin: 0.000000<br>free margin: 9523.780004<br>margin level: inf",
          "balance: 9523.780004 USD<br>equity: 9523.780004<br>margin: 0.000000<br>free margin: 9523.780004<br>margin level: inf",
          "balance: 9523.780004 USD<br>equity: 9523.780004<br>margin: 0.000000<br>free margin: 9523.780004<br>margin level: inf",
          "balance: 9523.780004 USD<br>equity: 9523.780004<br>margin: 0.000000<br>free margin: 9523.780004<br>margin level: inf",
          "balance: 9523.780004 USD<br>equity: 9523.780004<br>margin: 0.000000<br>free margin: 9523.780004<br>margin level: inf",
          "balance: 9523.780004 USD<br>equity: 9523.780004<br>margin: 0.000000<br>free margin: 9523.780004<br>margin level: inf",
          "balance: 9523.780004 USD<br>equity: 9523.780004<br>margin: 0.000000<br>free margin: 9523.780004<br>margin level: inf",
          "balance: 9523.780004 USD<br>equity: 9523.780004<br>margin: 0.000000<br>free margin: 9523.780004<br>margin level: inf",
          "balance: 9523.780004 USD<br>equity: 9523.780004<br>margin: 0.000000<br>free margin: 9523.780004<br>margin level: inf",
          "balance: 9523.780004 USD<br>equity: 9523.780004<br>margin: 0.000000<br>free margin: 9523.780004<br>margin level: inf",
          "balance: 9523.780004 USD<br>equity: 9523.780004<br>margin: 0.000000<br>free margin: 9523.780004<br>margin level: inf",
          "balance: 9523.780004 USD<br>equity: 9523.780004<br>margin: 0.000000<br>free margin: 9523.780004<br>margin level: inf",
          "balance: 9523.780004 USD<br>equity: 9523.780004<br>margin: 0.000000<br>free margin: 9523.780004<br>margin level: inf",
          "balance: 9523.780004 USD<br>equity: 9523.780004<br>margin: 0.000000<br>free margin: 9523.780004<br>margin level: inf",
          "balance: 9523.780004 USD<br>equity: 9523.780004<br>margin: 0.000000<br>free margin: 9523.780004<br>margin level: inf",
          "balance: 9523.780004 USD<br>equity: 10151.716710<br>margin: 3469.429776<br>free margin: 6682.286934<br>margin level: 2.926048",
          "balance: 10151.716710 USD<br>equity: 10151.716710<br>margin: 0.000000<br>free margin: 10151.716710<br>margin level: inf",
          "balance: 10151.716710 USD<br>equity: 10151.716710<br>margin: 0.000000<br>free margin: 10151.716710<br>margin level: inf",
          "balance: 10151.716710 USD<br>equity: 10151.716710<br>margin: 0.000000<br>free margin: 10151.716710<br>margin level: inf",
          "balance: 10151.716710 USD<br>equity: 10151.716710<br>margin: 0.000000<br>free margin: 10151.716710<br>margin level: inf",
          "balance: 10151.716710 USD<br>equity: 10151.716710<br>margin: 0.000000<br>free margin: 10151.716710<br>margin level: inf",
          "balance: 10151.716710 USD<br>equity: 10151.716710<br>margin: 0.000000<br>free margin: 10151.716710<br>margin level: inf",
          "balance: 10151.716710 USD<br>equity: 10151.716710<br>margin: 0.000000<br>free margin: 10151.716710<br>margin level: inf",
          "balance: 10151.716710 USD<br>equity: 10151.716710<br>margin: 0.000000<br>free margin: 10151.716710<br>margin level: inf",
          "balance: 10151.716710 USD<br>equity: 12220.581680<br>margin: 5430.000000<br>free margin: 6790.581680<br>margin level: 2.250568",
          "balance: 10151.716710 USD<br>equity: 11296.028451<br>margin: 5430.000000<br>free margin: 5866.028451<br>margin level: 2.080300",
          "balance: 10151.716710 USD<br>equity: 13043.383589<br>margin: 5430.000000<br>free margin: 7613.383589<br>margin level: 2.402096",
          "balance: 13043.383589 USD<br>equity: 13043.383589<br>margin: 0.000000<br>free margin: 13043.383589<br>margin level: inf",
          "balance: 13043.383589 USD<br>equity: 13043.383589<br>margin: 0.000000<br>free margin: 13043.383589<br>margin level: inf",
          "balance: 13043.383589 USD<br>equity: 13043.383589<br>margin: 0.000000<br>free margin: 13043.383589<br>margin level: inf",
          "balance: 13043.383589 USD<br>equity: 13043.383589<br>margin: 0.000000<br>free margin: 13043.383589<br>margin level: inf",
          "balance: 13043.383589 USD<br>equity: 13043.383589<br>margin: 0.000000<br>free margin: 13043.383589<br>margin level: inf",
          "balance: 13043.383589 USD<br>equity: 13043.383589<br>margin: 0.000000<br>free margin: 13043.383589<br>margin level: inf",
          "balance: 13043.383589 USD<br>equity: 14795.733127<br>margin: 12376.636800<br>free margin: 2419.096327<br>margin level: 1.195457",
          "balance: 13043.383589 USD<br>equity: 13824.213127<br>margin: 12376.636800<br>free margin: 1447.576327<br>margin level: 1.116960",
          "balance: 13824.213127 USD<br>equity: 17246.151951<br>margin: 6204.958400<br>free margin: 11041.193551<br>margin level: 2.779415",
          "balance: 17246.151951 USD<br>equity: 17246.151951<br>margin: 0.000000<br>free margin: 17246.151951<br>margin level: inf",
          "balance: 17246.151951 USD<br>equity: 17246.151951<br>margin: 0.000000<br>free margin: 17246.151951<br>margin level: inf",
          "balance: 17246.151951 USD<br>equity: 17246.151951<br>margin: 0.000000<br>free margin: 17246.151951<br>margin level: inf",
          "balance: 17246.151951 USD<br>equity: 17066.840028<br>margin: 8320.000000<br>free margin: 8746.840028<br>margin level: 2.051303",
          "balance: 17066.840028 USD<br>equity: 17066.840028<br>margin: 0.000000<br>free margin: 17066.840028<br>margin level: inf",
          "balance: 17066.840028 USD<br>equity: 17066.840028<br>margin: 0.000000<br>free margin: 17066.840028<br>margin level: inf",
          "balance: 17066.840028 USD<br>equity: 17026.263419<br>margin: 1420.000000<br>free margin: 15606.263419<br>margin level: 11.990326",
          "balance: 17026.263419 USD<br>equity: 17026.263419<br>margin: 0.000000<br>free margin: 17026.263419<br>margin level: inf",
          "balance: 17026.263419 USD<br>equity: 17230.151388<br>margin: 6140.000000<br>free margin: 11090.151388<br>margin level: 2.806214",
          "balance: 17230.151388 USD<br>equity: 17230.151388<br>margin: 0.000000<br>free margin: 17230.151388<br>margin level: inf",
          "balance: 17230.151388 USD<br>equity: 17230.151388<br>margin: 0.000000<br>free margin: 17230.151388<br>margin level: inf",
          "balance: 17230.151388 USD<br>equity: 15548.442536<br>margin: 14002.089400<br>free margin: 1546.353136<br>margin level: 1.110437",
          "balance: 15548.442536 USD<br>equity: 15548.442536<br>margin: 0.000000<br>free margin: 15548.442536<br>margin level: inf",
          "balance: 15548.442536 USD<br>equity: 15548.442536<br>margin: 0.000000<br>free margin: 15548.442536<br>margin level: inf",
          "balance: 15548.442536 USD<br>equity: 15548.442536<br>margin: 0.000000<br>free margin: 15548.442536<br>margin level: inf"
         ],
         "legendgroup": "g3",
         "line": {
          "color": "rgba(0.7372549019607844, 0.7411764705882353, 0.13333333333333333, 1.0)"
         },
         "mode": "lines+markers",
         "name": "USDJPY",
         "opacity": 1,
         "type": "scatter",
         "x": [
          "2021-05-05T00:00:00+00:00",
          "2021-05-06T00:00:00+00:00",
          "2021-05-07T00:00:00+00:00",
          "2021-05-10T00:00:00+00:00",
          "2021-05-11T00:00:00+00:00",
          "2021-05-12T00:00:00+00:00",
          "2021-05-13T00:00:00+00:00",
          "2021-05-14T00:00:00+00:00",
          "2021-05-17T00:00:00+00:00",
          "2021-05-18T00:00:00+00:00",
          "2021-05-19T00:00:00+00:00",
          "2021-05-20T00:00:00+00:00",
          "2021-05-21T00:00:00+00:00",
          "2021-05-24T00:00:00+00:00",
          "2021-05-25T00:00:00+00:00",
          "2021-05-26T00:00:00+00:00",
          "2021-05-27T00:00:00+00:00",
          "2021-05-28T00:00:00+00:00",
          "2021-05-31T00:00:00+00:00",
          "2021-06-01T00:00:00+00:00",
          "2021-06-02T00:00:00+00:00",
          "2021-06-03T00:00:00+00:00",
          "2021-06-04T00:00:00+00:00",
          "2021-06-07T00:00:00+00:00",
          "2021-06-08T00:00:00+00:00",
          "2021-06-09T00:00:00+00:00",
          "2021-06-10T00:00:00+00:00",
          "2021-06-11T00:00:00+00:00",
          "2021-06-14T00:00:00+00:00",
          "2021-06-15T00:00:00+00:00",
          "2021-06-16T00:00:00+00:00",
          "2021-06-17T00:00:00+00:00",
          "2021-06-18T00:00:00+00:00",
          "2021-06-21T00:00:00+00:00",
          "2021-06-22T00:00:00+00:00",
          "2021-06-23T00:00:00+00:00",
          "2021-06-24T00:00:00+00:00",
          "2021-06-25T00:00:00+00:00",
          "2021-06-28T00:00:00+00:00",
          "2021-06-29T00:00:00+00:00",
          "2021-06-30T00:00:00+00:00",
          "2021-07-01T00:00:00+00:00",
          "2021-07-02T00:00:00+00:00",
          "2021-07-05T00:00:00+00:00",
          "2021-07-06T00:00:00+00:00",
          "2021-07-07T00:00:00+00:00",
          "2021-07-08T00:00:00+00:00",
          "2021-07-09T00:00:00+00:00",
          "2021-07-12T00:00:00+00:00",
          "2021-07-13T00:00:00+00:00",
          "2021-07-14T00:00:00+00:00",
          "2021-07-15T00:00:00+00:00",
          "2021-07-16T00:00:00+00:00",
          "2021-07-19T00:00:00+00:00",
          "2021-07-20T00:00:00+00:00",
          "2021-07-21T00:00:00+00:00",
          "2021-07-22T00:00:00+00:00",
          "2021-07-23T00:00:00+00:00",
          "2021-07-26T00:00:00+00:00",
          "2021-07-27T00:00:00+00:00",
          "2021-07-28T00:00:00+00:00",
          "2021-07-29T00:00:00+00:00",
          "2021-07-30T00:00:00+00:00",
          "2021-08-02T00:00:00+00:00",
          "2021-08-03T00:00:00+00:00",
          "2021-08-04T00:00:00+00:00",
          "2021-08-05T00:00:00+00:00",
          "2021-08-06T00:00:00+00:00",
          "2021-08-09T00:00:00+00:00",
          "2021-08-10T00:00:00+00:00",
          "2021-08-11T00:00:00+00:00",
          "2021-08-12T00:00:00+00:00",
          "2021-08-13T00:00:00+00:00",
          "2021-08-16T00:00:00+00:00",
          "2021-08-17T00:00:00+00:00",
          "2021-08-18T00:00:00+00:00",
          "2021-08-19T00:00:00+00:00",
          "2021-08-20T00:00:00+00:00",
          "2021-08-23T00:00:00+00:00",
          "2021-08-24T00:00:00+00:00",
          "2021-08-25T00:00:00+00:00",
          "2021-08-26T00:00:00+00:00",
          "2021-08-27T00:00:00+00:00",
          "2021-08-30T00:00:00+00:00",
          "2021-08-31T00:00:00+00:00",
          "2021-09-01T00:00:00+00:00",
          "2021-09-02T00:00:00+00:00",
          "2021-09-03T00:00:00+00:00"
         ],
         "y": [
          109.188,
          109.09,
          108.604,
          108.81,
          108.615,
          109.699,
          109.453,
          109.362,
          109.209,
          108.888,
          109.227,
          108.767,
          108.945,
          108.74,
          108.747,
          109.139,
          109.808,
          109.872,
          109.556,
          109.467,
          109.547,
          110.276,
          109.524,
          109.238,
          109.492,
          109.618,
          109.319,
          109.682,
          110.071,
          110.056,
          110.708,
          110.221,
          110.211,
          110.314,
          110.658,
          110.949,
          110.874,
          110.778,
          110.614,
          110.538,
          111.101,
          111.521,
          111.02,
          110.962,
          110.61,
          110.608,
          109.748,
          110.102,
          110.349,
          110.627,
          109.95,
          109.831,
          110.081,
          109.447,
          109.843,
          110.286,
          110.149,
          110.547,
          110.381,
          109.774,
          109.909,
          109.47,
          109.656,
          109.305,
          109.042,
          109.473,
          109.761,
          110.217,
          110.267,
          110.56,
          110.428,
          110.386,
          109.592,
          109.243,
          109.595,
          109.763,
          109.763,
          109.799,
          109.694,
          109.679,
          110.023,
          110.081,
          109.85,
          109.913,
          110.007,
          110.025,
          109.937,
          109.712
         ],
         "yaxis": "y3"
        },
        {
         "hovertext": [
          "order id: <br>hold probability: 0.0000<br>hold: False<br>volume: -61.871733<br>modified volume: 61.8700<br>fee: nan<br>margin: nan<br>error: low free margin (order margin=61870.00000000001, order profit=-774.0030313026783, free margin=5368.904258406263)",
          "order id: <br>hold probability: 0.0049<br>hold: False<br>volume: -70.924174<br>modified volume: 70.9200<br>fee: nan<br>margin: nan<br>error: low free margin (order margin=70920.0, order profit=-1140.5108189770042, free margin=10086.317258406256)",
          "order id: <br>hold probability: 0.0000<br>hold: False<br>volume: 73.038377<br>modified volume: 73.0400<br>fee: nan<br>margin: nan<br>error: low free margin (order margin=73040.00000000001, order profit=-1283.0829035882705, free margin=10086.317258406256)",
          "order id: <br>hold probability: 0.0000<br>hold: False<br>volume: -40.962800<br>modified volume: 40.9600<br>fee: nan<br>margin: nan<br>error: low free margin (order margin=40959.99999999999, order profit=-582.343994792177, free margin=10086.317258406256)",
          "order id: <br>hold probability: 0.0000<br>hold: False<br>volume: 88.550096<br>modified volume: 88.5500<br>fee: nan<br>margin: nan<br>error: low free margin (order margin=88550.0, order profit=-1714.0291372052673, free margin=10086.317258406256)",
          "order id: <br>hold probability: 0.0000<br>hold: False<br>volume: -49.313482<br>modified volume: 49.3100<br>fee: nan<br>margin: nan<br>error: low free margin (order margin=49310.0, order profit=-1099.384176475514, free margin=10086.317258406256)",
          "order id: <br>hold probability: 0.0000<br>hold: False<br>volume: 39.317756<br>modified volume: 39.3200<br>fee: nan<br>margin: nan<br>error: low free margin (order margin=39320.0, order profit=-686.5213703219829, free margin=10086.317258406256)",
          "order id: <br>hold probability: 0.0000<br>hold: False<br>volume: -39.002395<br>modified volume: 39.0000<br>fee: nan<br>margin: nan<br>error: low free margin (order margin=39000.0, order profit=-845.5296892041367, free margin=10086.317258406256)",
          "order id: <br>hold probability: 0.0000<br>hold: False<br>volume: -85.073178<br>modified volume: 85.0700<br>fee: nan<br>margin: nan<br>error: low free margin (order margin=85070.00000000001, order profit=-1997.5797089049597, free margin=10086.317258406256)",
          "order id: <br>hold probability: 0.0022<br>hold: False<br>volume: 42.087557<br>modified volume: 42.0900<br>fee: nan<br>margin: nan<br>error: low free margin (order margin=42090.0, order profit=-528.1484221877012, free margin=10086.317258406256)",
          "order id: <br>hold probability: 0.0000<br>hold: False<br>volume: 17.692785<br>modified volume: 17.6900<br>fee: nan<br>margin: nan<br>error: low free margin (order margin=17690.0, order profit=-331.41173964742916, free margin=10086.317258406256)",
          "order id: <br>hold probability: 0.0000<br>hold: False<br>volume: 52.398685<br>modified volume: 52.4000<br>fee: nan<br>margin: nan<br>error: low free margin (order margin=52400.0, order profit=-986.6886142441325, free margin=10086.317258406256)",
          "order id: 2<br>hold probability: 0.0000<br>hold: False<br>volume: 6.445049<br>modified volume: 6.4500<br>fee: 0.021699<br>margin: 6450.000000<br>error: ",
          "order id: <br>hold probability: 0.0000<br>hold: False<br>volume: 78.124173<br>modified volume: 78.1200<br>fee: nan<br>margin: nan<br>error: low free margin (order margin=78120.00000000001, order profit=-941.9268730370421, free margin=9523.780004392056)",
          "order id: <br>hold probability: 0.0000<br>hold: False<br>volume: -99.254279<br>modified volume: 99.2500<br>fee: nan<br>margin: nan<br>error: low free margin (order margin=99249.99999999999, order profit=-2087.297411313568, free margin=9523.780004392056)",
          "order id: <br>hold probability: 0.0000<br>hold: False<br>volume: 51.649802<br>modified volume: 51.6500<br>fee: nan<br>margin: nan<br>error: low free margin (order margin=51649.99999999999, order profit=-737.3894823511116, free margin=9523.780004392056)",
          "order id: <br>hold probability: 0.0000<br>hold: False<br>volume: -95.857605<br>modified volume: 95.8600<br>fee: nan<br>margin: nan<br>error: low free margin (order margin=95859.99999999999, order profit=-1545.6762314020166, free margin=9523.780004392056)",
          "order id: <br>hold probability: 0.0000<br>hold: False<br>volume: -79.893596<br>modified volume: 79.8900<br>fee: nan<br>margin: nan<br>error: low free margin (order margin=79889.99999999999, order profit=-1400.0212994549036, free margin=9523.780004392056)",
          "order id: <br>hold probability: 0.0000<br>hold: False<br>volume: -79.795699<br>modified volume: 79.8000<br>fee: nan<br>margin: nan<br>error: low free margin (order margin=79800.0, order profit=-1685.992657093687, free margin=9523.780004392056)",
          "order id: <br>hold probability: 0.0000<br>hold: False<br>volume: 18.658375<br>modified volume: 18.6600<br>fee: nan<br>margin: nan<br>error: low free margin (order margin=18660.0, order profit=-299.3994046109639, free margin=9523.780004392056)",
          "order id: <br>hold probability: 0.0000<br>hold: False<br>volume: -45.354960<br>modified volume: 45.3500<br>fee: nan<br>margin: nan<br>error: low free margin (order margin=45350.0, order profit=-702.3352555937865, free margin=10151.716709810442)",
          "order id: <br>hold probability: 0.0000<br>hold: False<br>volume: 80.190954<br>modified volume: 80.1900<br>fee: nan<br>margin: nan<br>error: low free margin (order margin=80189.99999999999, order profit=-1674.9313800227, free margin=10151.716709810442)",
          "order id: <br>hold probability: 0.0000<br>hold: False<br>volume: 31.163821<br>modified volume: 31.1600<br>fee: nan<br>margin: nan<br>error: low free margin (order margin=31159.999999999996, order profit=-488.3056747794772, free margin=10151.716709810442)",
          "order id: 4<br>hold probability: 0.0000<br>hold: False<br>volume: -5.434830<br>modified volume: 5.4300<br>fee: 0.021912<br>margin: 5430.000000<br>error: ",
          "order id: <br>hold probability: 0.0000<br>hold: False<br>volume: -27.836261<br>modified volume: 27.8400<br>fee: nan<br>margin: nan<br>error: low free margin (order margin=27839.999999999996, order profit=-523.0623325499131, free margin=13043.383589433051)",
          "order id: <br>hold probability: 0.0000<br>hold: False<br>volume: -87.487506<br>modified volume: 87.4900<br>fee: nan<br>margin: nan<br>error: low free margin (order margin=87490.0, order profit=-1617.2341214131604, free margin=13043.383589433051)",
          "order id: <br>hold probability: 0.0000<br>hold: False<br>volume: -79.026109<br>modified volume: 79.0300<br>fee: nan<br>margin: nan<br>error: low free margin (order margin=79030.0, order profit=-1182.99261009386, free margin=2419.0963265649316)",
          "order id: 7<br>hold probability: 0.0000<br>hold: False<br>volume: 8.322232<br>modified volume: 8.3200<br>fee: 0.023656<br>margin: 8320.000000<br>error: ",
          "order id: <br>hold probability: 0.0000<br>hold: False<br>volume: -24.154110<br>modified volume: 24.1500<br>fee: nan<br>margin: nan<br>error: low free margin (order margin=24150.000000000004, order profit=-500.1018129000984, free margin=17066.840028241604)",
          "order id: 8<br>hold probability: 0.0000<br>hold: False<br>volume: 1.418718<br>modified volume: 1.4200<br>fee: 0.016341<br>margin: 1420.000000<br>error: ",
          "order id: 9<br>hold probability: 0.0000<br>hold: False<br>volume: 6.138331<br>modified volume: 6.1400<br>fee: 0.021446<br>margin: 6140.000000<br>error: ",
          "order id: <br>hold probability: 0.0000<br>hold: False<br>volume: -26.758047<br>modified volume: 26.7600<br>fee: nan<br>margin: nan<br>error: low free margin (order margin=26760.0, order profit=-477.94821971213366, free margin=17230.151388393675)",
          "order id: <br>hold probability: 0.0000<br>hold: False<br>volume: -47.083997<br>modified volume: 47.0800<br>fee: nan<br>margin: nan<br>error: low free margin (order margin=47080.0, order profit=-867.9601595149668, free margin=15548.442536437775)",
          "order id: <br>hold probability: 0.0000<br>hold: False<br>volume: -55.624280<br>modified volume: 55.6200<br>fee: nan<br>margin: nan<br>error: low free margin (order margin=55620.00000000001, order profit=-949.8626765925685, free margin=15548.442536437775)"
         ],
         "legendgroup": "g3",
         "marker": {
          "color": [
           "gray",
           "gray",
           "gray",
           "gray",
           "gray",
           "gray",
           "gray",
           "gray",
           "gray",
           "gray",
           "gray",
           "gray",
           "green",
           "gray",
           "gray",
           "gray",
           "gray",
           "gray",
           "gray",
           "gray",
           "gray",
           "gray",
           "gray",
           "red",
           "gray",
           "gray",
           "gray",
           "green",
           "gray",
           "green",
           "green",
           "gray",
           "gray",
           "gray"
          ],
          "size": [
           21.646881892921595,
           23.643071987166632,
           24.11068778824945,
           17.034690194505714,
           27.53178263485061,
           18.876478844996992,
           16.67294966913976,
           16.602366151995188,
           26.76418688590335,
           17.283938239422497,
           11.901945057148586,
           19.5580509324243,
           9.422699017445357,
           25.23120112291959,
           29.891918989372368,
           19.392620814116704,
           29.144174854622015,
           25.621616202125526,
           25.601764587928614,
           12.115901343493082,
           18.003007820332865,
           25.687788249448566,
           14.873069981953078,
           9.197714056547023,
           14.140765991578103,
           27.2979747343092,
           25.43192299979948,
           9.835171445758974,
           13.326849809504711,
           8.313214357329056,
           9.35432123521155,
           13.902546621215158,
           18.384599959895727,
           20.268297573691598
          ],
          "symbol": [
           "triangle-down",
           "triangle-down",
           "triangle-down",
           "triangle-down",
           "triangle-down",
           "triangle-down",
           "triangle-down",
           "triangle-down",
           "triangle-down",
           "triangle-down",
           "triangle-down",
           "triangle-down",
           "triangle-up",
           "triangle-down",
           "triangle-down",
           "triangle-down",
           "triangle-down",
           "triangle-down",
           "triangle-down",
           "triangle-down",
           "triangle-down",
           "triangle-down",
           "triangle-down",
           "triangle-down",
           "triangle-down",
           "triangle-down",
           "triangle-down",
           "triangle-up",
           "triangle-down",
           "triangle-up",
           "triangle-up",
           "triangle-down",
           "triangle-down",
           "triangle-down"
          ]
         },
         "mode": "markers",
         "name": "USDJPY",
         "showlegend": false,
         "type": "scatter",
         "x": [
          "2021-05-19T00:00:00+00:00",
          "2021-05-20T00:00:00+00:00",
          "2021-05-26T00:00:00+00:00",
          "2021-05-31T00:00:00+00:00",
          "2021-06-01T00:00:00+00:00",
          "2021-06-03T00:00:00+00:00",
          "2021-06-07T00:00:00+00:00",
          "2021-06-10T00:00:00+00:00",
          "2021-06-14T00:00:00+00:00",
          "2021-06-15T00:00:00+00:00",
          "2021-06-17T00:00:00+00:00",
          "2021-06-22T00:00:00+00:00",
          "2021-06-23T00:00:00+00:00",
          "2021-06-24T00:00:00+00:00",
          "2021-06-25T00:00:00+00:00",
          "2021-06-28T00:00:00+00:00",
          "2021-06-30T00:00:00+00:00",
          "2021-07-07T00:00:00+00:00",
          "2021-07-08T00:00:00+00:00",
          "2021-07-12T00:00:00+00:00",
          "2021-07-19T00:00:00+00:00",
          "2021-07-21T00:00:00+00:00",
          "2021-07-22T00:00:00+00:00",
          "2021-07-28T00:00:00+00:00",
          "2021-08-04T00:00:00+00:00",
          "2021-08-05T00:00:00+00:00",
          "2021-08-11T00:00:00+00:00",
          "2021-08-18T00:00:00+00:00",
          "2021-08-19T00:00:00+00:00",
          "2021-08-23T00:00:00+00:00",
          "2021-08-25T00:00:00+00:00",
          "2021-08-26T00:00:00+00:00",
          "2021-08-31T00:00:00+00:00",
          "2021-09-02T00:00:00+00:00"
         ],
         "y": [
          109.227,
          108.767,
          109.139,
          109.556,
          109.467,
          110.276,
          109.238,
          109.319,
          110.071,
          110.056,
          110.221,
          110.658,
          110.949,
          110.874,
          110.778,
          110.614,
          111.101,
          110.608,
          109.748,
          110.349,
          109.447,
          110.286,
          110.149,
          109.909,
          109.473,
          109.761,
          110.428,
          109.763,
          109.763,
          109.694,
          110.023,
          110.081,
          110.007,
          109.937
         ],
         "yaxis": "y3"
        },
        {
         "hovertext": [
          "order id: 2<br>order type: Buy<br>close probability: 1.0000<br>margin: 6450.000000<br>profit: -562.537254",
          "order id: 4<br>order type: Sell<br>close probability: 1.0000<br>margin: 5430.000000<br>profit: 2891.666880",
          "order id: 7<br>order type: Buy<br>close probability: 1.0000<br>margin: 8320.000000<br>profit: -179.311923",
          "order id: 8<br>order type: Buy<br>close probability: 1.0000<br>margin: 1420.000000<br>profit: -40.576609",
          "order id: 9<br>order type: Buy<br>close probability: 1.0000<br>margin: 6140.000000<br>profit: 203.887969"
         ],
         "legendgroup": "g3",
         "marker": {
          "color": "black",
          "line": {
           "width": 1.5
          },
          "size": 7,
          "symbol": "line-ns"
         },
         "mode": "markers",
         "name": "USDJPY",
         "showlegend": false,
         "type": "scatter",
         "x": [
          "2021-06-24T00:00:00+00:00",
          "2021-08-02T00:00:00+00:00",
          "2021-08-19T00:00:00+00:00",
          "2021-08-24T00:00:00+00:00",
          "2021-08-26T00:00:00+00:00"
         ],
         "y": [
          110.874,
          109.305,
          109.763,
          109.679,
          110.081
         ],
         "yaxis": "y3"
        }
       ],
       "layout": {
        "height": 600,
        "template": {
         "data": {
          "bar": [
           {
            "error_x": {
             "color": "#2a3f5f"
            },
            "error_y": {
             "color": "#2a3f5f"
            },
            "marker": {
             "line": {
              "color": "#E5ECF6",
              "width": 0.5
             },
             "pattern": {
              "fillmode": "overlay",
              "size": 10,
              "solidity": 0.2
             }
            },
            "type": "bar"
           }
          ],
          "barpolar": [
           {
            "marker": {
             "line": {
              "color": "#E5ECF6",
              "width": 0.5
             },
             "pattern": {
              "fillmode": "overlay",
              "size": 10,
              "solidity": 0.2
             }
            },
            "type": "barpolar"
           }
          ],
          "carpet": [
           {
            "aaxis": {
             "endlinecolor": "#2a3f5f",
             "gridcolor": "white",
             "linecolor": "white",
             "minorgridcolor": "white",
             "startlinecolor": "#2a3f5f"
            },
            "baxis": {
             "endlinecolor": "#2a3f5f",
             "gridcolor": "white",
             "linecolor": "white",
             "minorgridcolor": "white",
             "startlinecolor": "#2a3f5f"
            },
            "type": "carpet"
           }
          ],
          "choropleth": [
           {
            "colorbar": {
             "outlinewidth": 0,
             "ticks": ""
            },
            "type": "choropleth"
           }
          ],
          "contour": [
           {
            "colorbar": {
             "outlinewidth": 0,
             "ticks": ""
            },
            "colorscale": [
             [
              0,
              "#0d0887"
             ],
             [
              0.1111111111111111,
              "#46039f"
             ],
             [
              0.2222222222222222,
              "#7201a8"
             ],
             [
              0.3333333333333333,
              "#9c179e"
             ],
             [
              0.4444444444444444,
              "#bd3786"
             ],
             [
              0.5555555555555556,
              "#d8576b"
             ],
             [
              0.6666666666666666,
              "#ed7953"
             ],
             [
              0.7777777777777778,
              "#fb9f3a"
             ],
             [
              0.8888888888888888,
              "#fdca26"
             ],
             [
              1,
              "#f0f921"
             ]
            ],
            "type": "contour"
           }
          ],
          "contourcarpet": [
           {
            "colorbar": {
             "outlinewidth": 0,
             "ticks": ""
            },
            "type": "contourcarpet"
           }
          ],
          "heatmap": [
           {
            "colorbar": {
             "outlinewidth": 0,
             "ticks": ""
            },
            "colorscale": [
             [
              0,
              "#0d0887"
             ],
             [
              0.1111111111111111,
              "#46039f"
             ],
             [
              0.2222222222222222,
              "#7201a8"
             ],
             [
              0.3333333333333333,
              "#9c179e"
             ],
             [
              0.4444444444444444,
              "#bd3786"
             ],
             [
              0.5555555555555556,
              "#d8576b"
             ],
             [
              0.6666666666666666,
              "#ed7953"
             ],
             [
              0.7777777777777778,
              "#fb9f3a"
             ],
             [
              0.8888888888888888,
              "#fdca26"
             ],
             [
              1,
              "#f0f921"
             ]
            ],
            "type": "heatmap"
           }
          ],
          "heatmapgl": [
           {
            "colorbar": {
             "outlinewidth": 0,
             "ticks": ""
            },
            "colorscale": [
             [
              0,
              "#0d0887"
             ],
             [
              0.1111111111111111,
              "#46039f"
             ],
             [
              0.2222222222222222,
              "#7201a8"
             ],
             [
              0.3333333333333333,
              "#9c179e"
             ],
             [
              0.4444444444444444,
              "#bd3786"
             ],
             [
              0.5555555555555556,
              "#d8576b"
             ],
             [
              0.6666666666666666,
              "#ed7953"
             ],
             [
              0.7777777777777778,
              "#fb9f3a"
             ],
             [
              0.8888888888888888,
              "#fdca26"
             ],
             [
              1,
              "#f0f921"
             ]
            ],
            "type": "heatmapgl"
           }
          ],
          "histogram": [
           {
            "marker": {
             "pattern": {
              "fillmode": "overlay",
              "size": 10,
              "solidity": 0.2
             }
            },
            "type": "histogram"
           }
          ],
          "histogram2d": [
           {
            "colorbar": {
             "outlinewidth": 0,
             "ticks": ""
            },
            "colorscale": [
             [
              0,
              "#0d0887"
             ],
             [
              0.1111111111111111,
              "#46039f"
             ],
             [
              0.2222222222222222,
              "#7201a8"
             ],
             [
              0.3333333333333333,
              "#9c179e"
             ],
             [
              0.4444444444444444,
              "#bd3786"
             ],
             [
              0.5555555555555556,
              "#d8576b"
             ],
             [
              0.6666666666666666,
              "#ed7953"
             ],
             [
              0.7777777777777778,
              "#fb9f3a"
             ],
             [
              0.8888888888888888,
              "#fdca26"
             ],
             [
              1,
              "#f0f921"
             ]
            ],
            "type": "histogram2d"
           }
          ],
          "histogram2dcontour": [
           {
            "colorbar": {
             "outlinewidth": 0,
             "ticks": ""
            },
            "colorscale": [
             [
              0,
              "#0d0887"
             ],
             [
              0.1111111111111111,
              "#46039f"
             ],
             [
              0.2222222222222222,
              "#7201a8"
             ],
             [
              0.3333333333333333,
              "#9c179e"
             ],
             [
              0.4444444444444444,
              "#bd3786"
             ],
             [
              0.5555555555555556,
              "#d8576b"
             ],
             [
              0.6666666666666666,
              "#ed7953"
             ],
             [
              0.7777777777777778,
              "#fb9f3a"
             ],
             [
              0.8888888888888888,
              "#fdca26"
             ],
             [
              1,
              "#f0f921"
             ]
            ],
            "type": "histogram2dcontour"
           }
          ],
          "mesh3d": [
           {
            "colorbar": {
             "outlinewidth": 0,
             "ticks": ""
            },
            "type": "mesh3d"
           }
          ],
          "parcoords": [
           {
            "line": {
             "colorbar": {
              "outlinewidth": 0,
              "ticks": ""
             }
            },
            "type": "parcoords"
           }
          ],
          "pie": [
           {
            "automargin": true,
            "type": "pie"
           }
          ],
          "scatter": [
           {
            "fillpattern": {
             "fillmode": "overlay",
             "size": 10,
             "solidity": 0.2
            },
            "type": "scatter"
           }
          ],
          "scatter3d": [
           {
            "line": {
             "colorbar": {
              "outlinewidth": 0,
              "ticks": ""
             }
            },
            "marker": {
             "colorbar": {
              "outlinewidth": 0,
              "ticks": ""
             }
            },
            "type": "scatter3d"
           }
          ],
          "scattercarpet": [
           {
            "marker": {
             "colorbar": {
              "outlinewidth": 0,
              "ticks": ""
             }
            },
            "type": "scattercarpet"
           }
          ],
          "scattergeo": [
           {
            "marker": {
             "colorbar": {
              "outlinewidth": 0,
              "ticks": ""
             }
            },
            "type": "scattergeo"
           }
          ],
          "scattergl": [
           {
            "marker": {
             "colorbar": {
              "outlinewidth": 0,
              "ticks": ""
             }
            },
            "type": "scattergl"
           }
          ],
          "scattermapbox": [
           {
            "marker": {
             "colorbar": {
              "outlinewidth": 0,
              "ticks": ""
             }
            },
            "type": "scattermapbox"
           }
          ],
          "scatterpolar": [
           {
            "marker": {
             "colorbar": {
              "outlinewidth": 0,
              "ticks": ""
             }
            },
            "type": "scatterpolar"
           }
          ],
          "scatterpolargl": [
           {
            "marker": {
             "colorbar": {
              "outlinewidth": 0,
              "ticks": ""
             }
            },
            "type": "scatterpolargl"
           }
          ],
          "scatterternary": [
           {
            "marker": {
             "colorbar": {
              "outlinewidth": 0,
              "ticks": ""
             }
            },
            "type": "scatterternary"
           }
          ],
          "surface": [
           {
            "colorbar": {
             "outlinewidth": 0,
             "ticks": ""
            },
            "colorscale": [
             [
              0,
              "#0d0887"
             ],
             [
              0.1111111111111111,
              "#46039f"
             ],
             [
              0.2222222222222222,
              "#7201a8"
             ],
             [
              0.3333333333333333,
              "#9c179e"
             ],
             [
              0.4444444444444444,
              "#bd3786"
             ],
             [
              0.5555555555555556,
              "#d8576b"
             ],
             [
              0.6666666666666666,
              "#ed7953"
             ],
             [
              0.7777777777777778,
              "#fb9f3a"
             ],
             [
              0.8888888888888888,
              "#fdca26"
             ],
             [
              1,
              "#f0f921"
             ]
            ],
            "type": "surface"
           }
          ],
          "table": [
           {
            "cells": {
             "fill": {
              "color": "#EBF0F8"
             },
             "line": {
              "color": "white"
             }
            },
            "header": {
             "fill": {
              "color": "#C8D4E3"
             },
             "line": {
              "color": "white"
             }
            },
            "type": "table"
           }
          ]
         },
         "layout": {
          "annotationdefaults": {
           "arrowcolor": "#2a3f5f",
           "arrowhead": 0,
           "arrowwidth": 1
          },
          "autotypenumbers": "strict",
          "coloraxis": {
           "colorbar": {
            "outlinewidth": 0,
            "ticks": ""
           }
          },
          "colorscale": {
           "diverging": [
            [
             0,
             "#8e0152"
            ],
            [
             0.1,
             "#c51b7d"
            ],
            [
             0.2,
             "#de77ae"
            ],
            [
             0.3,
             "#f1b6da"
            ],
            [
             0.4,
             "#fde0ef"
            ],
            [
             0.5,
             "#f7f7f7"
            ],
            [
             0.6,
             "#e6f5d0"
            ],
            [
             0.7,
             "#b8e186"
            ],
            [
             0.8,
             "#7fbc41"
            ],
            [
             0.9,
             "#4d9221"
            ],
            [
             1,
             "#276419"
            ]
           ],
           "sequential": [
            [
             0,
             "#0d0887"
            ],
            [
             0.1111111111111111,
             "#46039f"
            ],
            [
             0.2222222222222222,
             "#7201a8"
            ],
            [
             0.3333333333333333,
             "#9c179e"
            ],
            [
             0.4444444444444444,
             "#bd3786"
            ],
            [
             0.5555555555555556,
             "#d8576b"
            ],
            [
             0.6666666666666666,
             "#ed7953"
            ],
            [
             0.7777777777777778,
             "#fb9f3a"
            ],
            [
             0.8888888888888888,
             "#fdca26"
            ],
            [
             1,
             "#f0f921"
            ]
           ],
           "sequentialminus": [
            [
             0,
             "#0d0887"
            ],
            [
             0.1111111111111111,
             "#46039f"
            ],
            [
             0.2222222222222222,
             "#7201a8"
            ],
            [
             0.3333333333333333,
             "#9c179e"
            ],
            [
             0.4444444444444444,
             "#bd3786"
            ],
            [
             0.5555555555555556,
             "#d8576b"
            ],
            [
             0.6666666666666666,
             "#ed7953"
            ],
            [
             0.7777777777777778,
             "#fb9f3a"
            ],
            [
             0.8888888888888888,
             "#fdca26"
            ],
            [
             1,
             "#f0f921"
            ]
           ]
          },
          "colorway": [
           "#636efa",
           "#EF553B",
           "#00cc96",
           "#ab63fa",
           "#FFA15A",
           "#19d3f3",
           "#FF6692",
           "#B6E880",
           "#FF97FF",
           "#FECB52"
          ],
          "font": {
           "color": "#2a3f5f"
          },
          "geo": {
           "bgcolor": "white",
           "lakecolor": "white",
           "landcolor": "#E5ECF6",
           "showlakes": true,
           "showland": true,
           "subunitcolor": "white"
          },
          "hoverlabel": {
           "align": "left"
          },
          "hovermode": "closest",
          "mapbox": {
           "style": "light"
          },
          "paper_bgcolor": "white",
          "plot_bgcolor": "#E5ECF6",
          "polar": {
           "angularaxis": {
            "gridcolor": "white",
            "linecolor": "white",
            "ticks": ""
           },
           "bgcolor": "#E5ECF6",
           "radialaxis": {
            "gridcolor": "white",
            "linecolor": "white",
            "ticks": ""
           }
          },
          "scene": {
           "xaxis": {
            "backgroundcolor": "#E5ECF6",
            "gridcolor": "white",
            "gridwidth": 2,
            "linecolor": "white",
            "showbackground": true,
            "ticks": "",
            "zerolinecolor": "white"
           },
           "yaxis": {
            "backgroundcolor": "#E5ECF6",
            "gridcolor": "white",
            "gridwidth": 2,
            "linecolor": "white",
            "showbackground": true,
            "ticks": "",
            "zerolinecolor": "white"
           },
           "zaxis": {
            "backgroundcolor": "#E5ECF6",
            "gridcolor": "white",
            "gridwidth": 2,
            "linecolor": "white",
            "showbackground": true,
            "ticks": "",
            "zerolinecolor": "white"
           }
          },
          "shapedefaults": {
           "line": {
            "color": "#2a3f5f"
           }
          },
          "ternary": {
           "aaxis": {
            "gridcolor": "white",
            "linecolor": "white",
            "ticks": ""
           },
           "baxis": {
            "gridcolor": "white",
            "linecolor": "white",
            "ticks": ""
           },
           "bgcolor": "#E5ECF6",
           "caxis": {
            "gridcolor": "white",
            "linecolor": "white",
            "ticks": ""
           }
          },
          "title": {
           "x": 0.05
          },
          "xaxis": {
           "automargin": true,
           "gridcolor": "white",
           "linecolor": "white",
           "ticks": "",
           "title": {
            "standoff": 15
           },
           "zerolinecolor": "white",
           "zerolinewidth": 2
          },
          "yaxis": {
           "automargin": true,
           "gridcolor": "white",
           "linecolor": "white",
           "ticks": "",
           "title": {
            "standoff": 15
           },
           "zerolinecolor": "white",
           "zerolinewidth": 2
          }
         }
        },
        "title": {
         "text": "Balance: 15548.442536 USD ~ Equity: 15548.442536 ~ Margin: 0.000000 ~ Free Margin: 15548.442536 ~ Margin Level: inf"
        },
        "width": 1400,
        "xaxis": {
         "tickformat": "%Y-%m-%d"
        },
        "yaxis": {
         "tickfont": {
          "color": "rgba(0.12156862745098039, 0.4666666666666667, 0.7058823529411765, 0.8)"
         }
        },
        "yaxis2": {
         "overlaying": "y",
         "tickfont": {
          "color": "rgba(0.5643983083429451, 0.36993464052287583, 0.5132641291810843, 0.8)"
         }
        },
        "yaxis3": {
         "overlaying": "y",
         "tickfont": {
          "color": "rgba(0.7372549019607844, 0.7411764705882353, 0.13333333333333333, 0.8)"
         }
        }
       }
      }
     },
     "metadata": {},
     "output_type": "display_data"
    }
   ],
   "source": [
    "env.render('advanced_figure', time_format=\"%Y-%m-%d\")"
   ]
  },
  {
   "cell_type": "markdown",
   "metadata": {},
   "source": [
    "### A Complete Example using `stable-baselines`"
   ]
  },
  {
   "cell_type": "code",
   "execution_count": 18,
   "metadata": {},
   "outputs": [
    {
     "name": "stdout",
     "output_type": "stream",
     "text": [
      "[10000.]\n"
     ]
    },
    {
     "name": "stderr",
     "output_type": "stream",
     "text": [
      "/opt/homebrew/lib/python3.11/site-packages/gymnasium/utils/passive_env_checker.py:42: UserWarning:\n",
      "\n",
      "\u001b[33mWARN: A Box observation space has an unconventional shape (neither an image, nor a 1D vector). We recommend flattening the observation to have only a 1D vector or use a custom policy to properly process the data. Actual observation shape: (10, 6)\u001b[0m\n",
      "\n",
      "/opt/homebrew/lib/python3.11/site-packages/gymnasium/utils/passive_env_checker.py:29: UserWarning:\n",
      "\n",
      "\u001b[33mWARN: It seems a Box observation space is an image but the `dtype` is not `np.uint8`, actual type: float64. If the Box observation space is not an image, we recommend flattening the observation to have only a 1D vector.\u001b[0m\n",
      "\n",
      "/opt/homebrew/lib/python3.11/site-packages/gymnasium/utils/passive_env_checker.py:34: UserWarning:\n",
      "\n",
      "\u001b[33mWARN: It seems a Box observation space is an image but the lower and upper bounds are not [0, 255]. Actual lower bound: -10000000000.0, upper bound: 10000000000.0. Generally, CNN policies assume observations are within that range, so you may encounter an issue if the observation values are not.\u001b[0m\n",
      "\n"
     ]
    },
    {
     "name": "stdout",
     "output_type": "stream",
     "text": [
      "total_reward :   8014.658 (+0.527%)\n",
      "balance      :  21134.057\n",
      "equity       :  18014.659\n"
     ]
    },
    {
     "data": {
      "application/vnd.plotly.v1+json": {
       "config": {
        "plotlyServerURL": "https://plot.ly"
       },
       "data": [
        {
         "hovertext": [
          "balance: 10000.000000 USD<br>equity: 10000.000000<br>margin: 0.000000<br>free margin: 10000.000000<br>margin level: inf",
          "balance: 10000.000000 USD<br>equity: 10000.000000<br>margin: 0.000000<br>free margin: 10000.000000<br>margin level: inf",
          "balance: 10000.000000 USD<br>equity: 10000.000000<br>margin: 0.000000<br>free margin: 10000.000000<br>margin level: inf",
          "balance: 10000.000000 USD<br>equity: 10000.000000<br>margin: 0.000000<br>free margin: 10000.000000<br>margin level: inf",
          "balance: 10000.000000 USD<br>equity: 10000.000000<br>margin: 0.000000<br>free margin: 10000.000000<br>margin level: inf",
          "balance: 10000.000000 USD<br>equity: 10000.000000<br>margin: 0.000000<br>free margin: 10000.000000<br>margin level: inf",
          "balance: 10000.000000 USD<br>equity: 10000.000000<br>margin: 0.000000<br>free margin: 10000.000000<br>margin level: inf",
          "balance: 10000.000000 USD<br>equity: 10000.000000<br>margin: 0.000000<br>free margin: 10000.000000<br>margin level: inf",
          "balance: 10000.000000 USD<br>equity: 10000.000000<br>margin: 0.000000<br>free margin: 10000.000000<br>margin level: inf",
          "balance: 10000.000000 USD<br>equity: 10000.000000<br>margin: 0.000000<br>free margin: 10000.000000<br>margin level: inf"
         ],
         "legendgroup": "g1",
         "line": {
          "color": "rgba(0.12156862745098039, 0.4666666666666667, 0.7058823529411765, 1.0)"
         },
         "mode": "lines+markers",
         "name": "EURUSD",
         "opacity": 1,
         "type": "scatter",
         "x": [
          "2021-05-05T00:00:00+00:00",
          "2021-05-06T00:00:00+00:00",
          "2021-05-07T00:00:00+00:00",
          "2021-05-10T00:00:00+00:00",
          "2021-05-11T00:00:00+00:00",
          "2021-05-12T00:00:00+00:00",
          "2021-05-13T00:00:00+00:00",
          "2021-05-14T00:00:00+00:00",
          "2021-05-17T00:00:00+00:00",
          "2021-05-18T00:00:00+00:00",
          "2021-05-19T00:00:00+00:00",
          "2021-05-20T00:00:00+00:00",
          "2021-05-21T00:00:00+00:00",
          "2021-05-24T00:00:00+00:00",
          "2021-05-25T00:00:00+00:00",
          "2021-05-26T00:00:00+00:00",
          "2021-05-27T00:00:00+00:00",
          "2021-05-28T00:00:00+00:00",
          "2021-05-31T00:00:00+00:00",
          "2021-06-01T00:00:00+00:00",
          "2021-06-02T00:00:00+00:00",
          "2021-06-03T00:00:00+00:00",
          "2021-06-04T00:00:00+00:00",
          "2021-06-07T00:00:00+00:00",
          "2021-06-08T00:00:00+00:00",
          "2021-06-09T00:00:00+00:00",
          "2021-06-10T00:00:00+00:00",
          "2021-06-11T00:00:00+00:00",
          "2021-06-14T00:00:00+00:00",
          "2021-06-15T00:00:00+00:00",
          "2021-06-16T00:00:00+00:00",
          "2021-06-17T00:00:00+00:00",
          "2021-06-18T00:00:00+00:00",
          "2021-06-21T00:00:00+00:00",
          "2021-06-22T00:00:00+00:00",
          "2021-06-23T00:00:00+00:00",
          "2021-06-24T00:00:00+00:00",
          "2021-06-25T00:00:00+00:00",
          "2021-06-28T00:00:00+00:00",
          "2021-06-29T00:00:00+00:00",
          "2021-06-30T00:00:00+00:00",
          "2021-07-01T00:00:00+00:00",
          "2021-07-02T00:00:00+00:00",
          "2021-07-05T00:00:00+00:00",
          "2021-07-06T00:00:00+00:00",
          "2021-07-07T00:00:00+00:00",
          "2021-07-08T00:00:00+00:00",
          "2021-07-09T00:00:00+00:00",
          "2021-07-12T00:00:00+00:00",
          "2021-07-13T00:00:00+00:00",
          "2021-07-14T00:00:00+00:00",
          "2021-07-15T00:00:00+00:00",
          "2021-07-16T00:00:00+00:00",
          "2021-07-19T00:00:00+00:00",
          "2021-07-20T00:00:00+00:00",
          "2021-07-21T00:00:00+00:00",
          "2021-07-22T00:00:00+00:00",
          "2021-07-23T00:00:00+00:00",
          "2021-07-26T00:00:00+00:00",
          "2021-07-27T00:00:00+00:00",
          "2021-07-28T00:00:00+00:00",
          "2021-07-29T00:00:00+00:00",
          "2021-07-30T00:00:00+00:00",
          "2021-08-02T00:00:00+00:00",
          "2021-08-03T00:00:00+00:00",
          "2021-08-04T00:00:00+00:00",
          "2021-08-05T00:00:00+00:00",
          "2021-08-06T00:00:00+00:00",
          "2021-08-09T00:00:00+00:00",
          "2021-08-10T00:00:00+00:00",
          "2021-08-11T00:00:00+00:00",
          "2021-08-12T00:00:00+00:00",
          "2021-08-13T00:00:00+00:00",
          "2021-08-16T00:00:00+00:00",
          "2021-08-17T00:00:00+00:00",
          "2021-08-18T00:00:00+00:00",
          "2021-08-19T00:00:00+00:00",
          "2021-08-20T00:00:00+00:00",
          "2021-08-23T00:00:00+00:00",
          "2021-08-24T00:00:00+00:00",
          "2021-08-25T00:00:00+00:00",
          "2021-08-26T00:00:00+00:00",
          "2021-08-27T00:00:00+00:00",
          "2021-08-30T00:00:00+00:00",
          "2021-08-31T00:00:00+00:00",
          "2021-09-01T00:00:00+00:00",
          "2021-09-02T00:00:00+00:00",
          "2021-09-03T00:00:00+00:00"
         ],
         "y": [
          1.20036,
          1.20646,
          1.21618,
          1.21282,
          1.2147000000000001,
          1.20705,
          1.20791,
          1.21441,
          1.21511,
          1.2221899999999999,
          1.21744,
          1.22269,
          1.21806,
          1.2215,
          1.22497,
          1.21922,
          1.21934,
          1.21896,
          1.2225,
          1.22126,
          1.221,
          1.21265,
          1.21662,
          1.21893,
          1.21726,
          1.21787,
          1.21751,
          1.21063,
          1.212,
          1.21264,
          1.19943,
          1.19069,
          1.18597,
          1.19185,
          1.19413,
          1.19258,
          1.19315,
          1.1937,
          1.19242,
          1.1896,
          1.1856,
          1.18497,
          1.18646,
          1.18634,
          1.18231,
          1.17903,
          1.18449,
          1.18774,
          1.18606,
          1.17765,
          1.18358,
          1.18118,
          1.18055,
          1.17987,
          1.17805,
          1.17946,
          1.17707,
          1.17689,
          1.18029,
          1.18165,
          1.18441,
          1.18865,
          1.1873,
          1.18688,
          1.18637,
          1.18367,
          1.18327,
          1.17611,
          1.17362,
          1.17203,
          1.17388,
          1.17296,
          1.17962,
          1.17768,
          1.17081,
          1.17108,
          1.16756,
          1.16996,
          1.1745700000000001,
          1.17555,
          1.17716,
          1.17515,
          1.1795499999999999,
          1.17962,
          1.18083,
          1.18384,
          1.18744,
          1.18772
         ],
         "yaxis": "y"
        },
        {
         "hovertext": [],
         "legendgroup": "g1",
         "marker": {
          "color": [],
          "size": [],
          "symbol": []
         },
         "mode": "markers",
         "name": "EURUSD",
         "showlegend": false,
         "type": "scatter",
         "x": [],
         "y": [],
         "yaxis": "y"
        },
        {
         "hovertext": [],
         "legendgroup": "g1",
         "marker": {
          "color": "black",
          "line": {
           "width": 1.5
          },
          "size": 7,
          "symbol": "line-ns"
         },
         "mode": "markers",
         "name": "EURUSD",
         "showlegend": false,
         "type": "scatter",
         "x": [],
         "y": [],
         "yaxis": "y"
        },
        {
         "hovertext": [
          "balance: 10000.000000 USD<br>equity: 10000.000000<br>margin: 0.000000<br>free margin: 10000.000000<br>margin level: inf",
          "balance: 10000.000000 USD<br>equity: 10000.000000<br>margin: 0.000000<br>free margin: 10000.000000<br>margin level: inf",
          "balance: 10000.000000 USD<br>equity: 10000.000000<br>margin: 0.000000<br>free margin: 10000.000000<br>margin level: inf",
          "balance: 10000.000000 USD<br>equity: 10000.000000<br>margin: 0.000000<br>free margin: 10000.000000<br>margin level: inf",
          "balance: 10000.000000 USD<br>equity: 10000.000000<br>margin: 0.000000<br>free margin: 10000.000000<br>margin level: inf",
          "balance: 10000.000000 USD<br>equity: 10000.000000<br>margin: 0.000000<br>free margin: 10000.000000<br>margin level: inf",
          "balance: 10000.000000 USD<br>equity: 10000.000000<br>margin: 0.000000<br>free margin: 10000.000000<br>margin level: inf",
          "balance: 10000.000000 USD<br>equity: 10000.000000<br>margin: 0.000000<br>free margin: 10000.000000<br>margin level: inf",
          "balance: 10000.000000 USD<br>equity: 10000.000000<br>margin: 0.000000<br>free margin: 10000.000000<br>margin level: inf",
          "balance: 10000.000000 USD<br>equity: 10000.000000<br>margin: 0.000000<br>free margin: 10000.000000<br>margin level: inf"
         ],
         "legendgroup": "g2",
         "line": {
          "color": "rgba(0.5643983083429451, 0.36993464052287583, 0.5132641291810843, 1.0)"
         },
         "mode": "lines+markers",
         "name": "GBPCAD",
         "opacity": 1,
         "type": "scatter",
         "x": [
          "2021-05-05T00:00:00+00:00",
          "2021-05-06T00:00:00+00:00",
          "2021-05-07T00:00:00+00:00",
          "2021-05-10T00:00:00+00:00",
          "2021-05-11T00:00:00+00:00",
          "2021-05-12T00:00:00+00:00",
          "2021-05-13T00:00:00+00:00",
          "2021-05-14T00:00:00+00:00",
          "2021-05-17T00:00:00+00:00",
          "2021-05-18T00:00:00+00:00",
          "2021-05-19T00:00:00+00:00",
          "2021-05-20T00:00:00+00:00",
          "2021-05-21T00:00:00+00:00",
          "2021-05-24T00:00:00+00:00",
          "2021-05-25T00:00:00+00:00",
          "2021-05-26T00:00:00+00:00",
          "2021-05-27T00:00:00+00:00",
          "2021-05-28T00:00:00+00:00",
          "2021-05-31T00:00:00+00:00",
          "2021-06-01T00:00:00+00:00",
          "2021-06-02T00:00:00+00:00",
          "2021-06-03T00:00:00+00:00",
          "2021-06-04T00:00:00+00:00",
          "2021-06-07T00:00:00+00:00",
          "2021-06-08T00:00:00+00:00",
          "2021-06-09T00:00:00+00:00",
          "2021-06-10T00:00:00+00:00",
          "2021-06-11T00:00:00+00:00",
          "2021-06-14T00:00:00+00:00",
          "2021-06-15T00:00:00+00:00",
          "2021-06-16T00:00:00+00:00",
          "2021-06-17T00:00:00+00:00",
          "2021-06-18T00:00:00+00:00",
          "2021-06-21T00:00:00+00:00",
          "2021-06-22T00:00:00+00:00",
          "2021-06-23T00:00:00+00:00",
          "2021-06-24T00:00:00+00:00",
          "2021-06-25T00:00:00+00:00",
          "2021-06-28T00:00:00+00:00",
          "2021-06-29T00:00:00+00:00",
          "2021-06-30T00:00:00+00:00",
          "2021-07-01T00:00:00+00:00",
          "2021-07-02T00:00:00+00:00",
          "2021-07-05T00:00:00+00:00",
          "2021-07-06T00:00:00+00:00",
          "2021-07-07T00:00:00+00:00",
          "2021-07-08T00:00:00+00:00",
          "2021-07-09T00:00:00+00:00",
          "2021-07-12T00:00:00+00:00",
          "2021-07-13T00:00:00+00:00",
          "2021-07-14T00:00:00+00:00",
          "2021-07-15T00:00:00+00:00",
          "2021-07-16T00:00:00+00:00",
          "2021-07-19T00:00:00+00:00",
          "2021-07-20T00:00:00+00:00",
          "2021-07-21T00:00:00+00:00",
          "2021-07-22T00:00:00+00:00",
          "2021-07-23T00:00:00+00:00",
          "2021-07-26T00:00:00+00:00",
          "2021-07-27T00:00:00+00:00",
          "2021-07-28T00:00:00+00:00",
          "2021-07-29T00:00:00+00:00",
          "2021-07-30T00:00:00+00:00",
          "2021-08-02T00:00:00+00:00",
          "2021-08-03T00:00:00+00:00",
          "2021-08-04T00:00:00+00:00",
          "2021-08-05T00:00:00+00:00",
          "2021-08-06T00:00:00+00:00",
          "2021-08-09T00:00:00+00:00",
          "2021-08-10T00:00:00+00:00",
          "2021-08-11T00:00:00+00:00",
          "2021-08-12T00:00:00+00:00",
          "2021-08-13T00:00:00+00:00",
          "2021-08-16T00:00:00+00:00",
          "2021-08-17T00:00:00+00:00",
          "2021-08-18T00:00:00+00:00",
          "2021-08-19T00:00:00+00:00",
          "2021-08-20T00:00:00+00:00",
          "2021-08-23T00:00:00+00:00",
          "2021-08-24T00:00:00+00:00",
          "2021-08-25T00:00:00+00:00",
          "2021-08-26T00:00:00+00:00",
          "2021-08-27T00:00:00+00:00",
          "2021-08-30T00:00:00+00:00",
          "2021-08-31T00:00:00+00:00",
          "2021-09-01T00:00:00+00:00",
          "2021-09-02T00:00:00+00:00",
          "2021-09-03T00:00:00+00:00"
         ],
         "y": [
          1.70525,
          1.68648,
          1.69619,
          1.7070699999999999,
          1.71108,
          1.70468,
          1.7082899999999999,
          1.70635,
          1.7059199999999999,
          1.71128,
          1.71211,
          1.7107,
          1.70726,
          1.7044000000000001,
          1.7066,
          1.71089,
          1.71345,
          1.71356,
          1.7132399999999999,
          1.70755,
          1.70462,
          1.7068400000000001,
          1.70999,
          1.71255,
          1.7139199999999999,
          1.70927,
          1.71433,
          1.71691,
          1.71341,
          1.71492,
          1.71638,
          1.71949,
          1.72017,
          1.72173,
          1.7158099999999998,
          1.7177,
          1.7149299999999998,
          1.70721,
          1.71244,
          1.71535,
          1.71437,
          1.71059,
          1.70511,
          1.70716,
          1.71879,
          1.72167,
          1.72692,
          1.7307000000000001,
          1.72832,
          1.72767,
          1.73236,
          1.7407,
          1.73684,
          1.74244,
          1.7273800000000001,
          1.72183,
          1.72851,
          1.72728,
          1.73336,
          1.7481900000000001,
          1.7405300000000001,
          1.73688,
          1.73335,
          1.73577,
          1.7441499999999999,
          1.7412999999999998,
          1.7408299999999999,
          1.7419799999999999,
          1.7408000000000001,
          1.7316500000000001,
          1.73282,
          1.72889,
          1.7357200000000002,
          1.7402199999999999,
          1.7349700000000001,
          1.74061,
          1.74874,
          1.7468,
          1.73506,
          1.72784,
          1.73259,
          1.7377,
          1.7353399999999999,
          1.7338900000000002,
          1.73501,
          1.7372800000000002,
          1.73603,
          1.7362600000000001
         ],
         "yaxis": "y2"
        },
        {
         "hovertext": [],
         "legendgroup": "g2",
         "marker": {
          "color": [],
          "size": [],
          "symbol": []
         },
         "mode": "markers",
         "name": "GBPCAD",
         "showlegend": false,
         "type": "scatter",
         "x": [],
         "y": [],
         "yaxis": "y2"
        },
        {
         "hovertext": [],
         "legendgroup": "g2",
         "marker": {
          "color": "black",
          "line": {
           "width": 1.5
          },
          "size": 7,
          "symbol": "line-ns"
         },
         "mode": "markers",
         "name": "GBPCAD",
         "showlegend": false,
         "type": "scatter",
         "x": [],
         "y": [],
         "yaxis": "y2"
        },
        {
         "hovertext": [
          "balance: 10000.000000 USD<br>equity: 10000.000000<br>margin: 0.000000<br>free margin: 10000.000000<br>margin level: inf",
          "balance: 10000.000000 USD<br>equity: 10000.000000<br>margin: 0.000000<br>free margin: 10000.000000<br>margin level: inf",
          "balance: 10000.000000 USD<br>equity: 10000.000000<br>margin: 0.000000<br>free margin: 10000.000000<br>margin level: inf",
          "balance: 10000.000000 USD<br>equity: 10000.000000<br>margin: 0.000000<br>free margin: 10000.000000<br>margin level: inf",
          "balance: 10000.000000 USD<br>equity: 10000.000000<br>margin: 0.000000<br>free margin: 10000.000000<br>margin level: inf",
          "balance: 10000.000000 USD<br>equity: 10000.000000<br>margin: 0.000000<br>free margin: 10000.000000<br>margin level: inf",
          "balance: 10000.000000 USD<br>equity: 10000.000000<br>margin: 0.000000<br>free margin: 10000.000000<br>margin level: inf",
          "balance: 10000.000000 USD<br>equity: 10000.000000<br>margin: 0.000000<br>free margin: 10000.000000<br>margin level: inf",
          "balance: 10000.000000 USD<br>equity: 10000.000000<br>margin: 0.000000<br>free margin: 10000.000000<br>margin level: inf",
          "balance: 10000.000000 USD<br>equity: 10000.000000<br>margin: 0.000000<br>free margin: 10000.000000<br>margin level: inf"
         ],
         "legendgroup": "g3",
         "line": {
          "color": "rgba(0.7372549019607844, 0.7411764705882353, 0.13333333333333333, 1.0)"
         },
         "mode": "lines+markers",
         "name": "USDJPY",
         "opacity": 1,
         "type": "scatter",
         "x": [
          "2021-05-05T00:00:00+00:00",
          "2021-05-06T00:00:00+00:00",
          "2021-05-07T00:00:00+00:00",
          "2021-05-10T00:00:00+00:00",
          "2021-05-11T00:00:00+00:00",
          "2021-05-12T00:00:00+00:00",
          "2021-05-13T00:00:00+00:00",
          "2021-05-14T00:00:00+00:00",
          "2021-05-17T00:00:00+00:00",
          "2021-05-18T00:00:00+00:00",
          "2021-05-19T00:00:00+00:00",
          "2021-05-20T00:00:00+00:00",
          "2021-05-21T00:00:00+00:00",
          "2021-05-24T00:00:00+00:00",
          "2021-05-25T00:00:00+00:00",
          "2021-05-26T00:00:00+00:00",
          "2021-05-27T00:00:00+00:00",
          "2021-05-28T00:00:00+00:00",
          "2021-05-31T00:00:00+00:00",
          "2021-06-01T00:00:00+00:00",
          "2021-06-02T00:00:00+00:00",
          "2021-06-03T00:00:00+00:00",
          "2021-06-04T00:00:00+00:00",
          "2021-06-07T00:00:00+00:00",
          "2021-06-08T00:00:00+00:00",
          "2021-06-09T00:00:00+00:00",
          "2021-06-10T00:00:00+00:00",
          "2021-06-11T00:00:00+00:00",
          "2021-06-14T00:00:00+00:00",
          "2021-06-15T00:00:00+00:00",
          "2021-06-16T00:00:00+00:00",
          "2021-06-17T00:00:00+00:00",
          "2021-06-18T00:00:00+00:00",
          "2021-06-21T00:00:00+00:00",
          "2021-06-22T00:00:00+00:00",
          "2021-06-23T00:00:00+00:00",
          "2021-06-24T00:00:00+00:00",
          "2021-06-25T00:00:00+00:00",
          "2021-06-28T00:00:00+00:00",
          "2021-06-29T00:00:00+00:00",
          "2021-06-30T00:00:00+00:00",
          "2021-07-01T00:00:00+00:00",
          "2021-07-02T00:00:00+00:00",
          "2021-07-05T00:00:00+00:00",
          "2021-07-06T00:00:00+00:00",
          "2021-07-07T00:00:00+00:00",
          "2021-07-08T00:00:00+00:00",
          "2021-07-09T00:00:00+00:00",
          "2021-07-12T00:00:00+00:00",
          "2021-07-13T00:00:00+00:00",
          "2021-07-14T00:00:00+00:00",
          "2021-07-15T00:00:00+00:00",
          "2021-07-16T00:00:00+00:00",
          "2021-07-19T00:00:00+00:00",
          "2021-07-20T00:00:00+00:00",
          "2021-07-21T00:00:00+00:00",
          "2021-07-22T00:00:00+00:00",
          "2021-07-23T00:00:00+00:00",
          "2021-07-26T00:00:00+00:00",
          "2021-07-27T00:00:00+00:00",
          "2021-07-28T00:00:00+00:00",
          "2021-07-29T00:00:00+00:00",
          "2021-07-30T00:00:00+00:00",
          "2021-08-02T00:00:00+00:00",
          "2021-08-03T00:00:00+00:00",
          "2021-08-04T00:00:00+00:00",
          "2021-08-05T00:00:00+00:00",
          "2021-08-06T00:00:00+00:00",
          "2021-08-09T00:00:00+00:00",
          "2021-08-10T00:00:00+00:00",
          "2021-08-11T00:00:00+00:00",
          "2021-08-12T00:00:00+00:00",
          "2021-08-13T00:00:00+00:00",
          "2021-08-16T00:00:00+00:00",
          "2021-08-17T00:00:00+00:00",
          "2021-08-18T00:00:00+00:00",
          "2021-08-19T00:00:00+00:00",
          "2021-08-20T00:00:00+00:00",
          "2021-08-23T00:00:00+00:00",
          "2021-08-24T00:00:00+00:00",
          "2021-08-25T00:00:00+00:00",
          "2021-08-26T00:00:00+00:00",
          "2021-08-27T00:00:00+00:00",
          "2021-08-30T00:00:00+00:00",
          "2021-08-31T00:00:00+00:00",
          "2021-09-01T00:00:00+00:00",
          "2021-09-02T00:00:00+00:00",
          "2021-09-03T00:00:00+00:00"
         ],
         "y": [
          109.188,
          109.09,
          108.604,
          108.81,
          108.615,
          109.699,
          109.453,
          109.362,
          109.209,
          108.888,
          109.227,
          108.767,
          108.945,
          108.74,
          108.747,
          109.139,
          109.808,
          109.872,
          109.556,
          109.467,
          109.547,
          110.276,
          109.524,
          109.238,
          109.492,
          109.618,
          109.319,
          109.682,
          110.071,
          110.056,
          110.708,
          110.221,
          110.211,
          110.314,
          110.658,
          110.949,
          110.874,
          110.778,
          110.614,
          110.538,
          111.101,
          111.521,
          111.02,
          110.962,
          110.61,
          110.608,
          109.748,
          110.102,
          110.349,
          110.627,
          109.95,
          109.831,
          110.081,
          109.447,
          109.843,
          110.286,
          110.149,
          110.547,
          110.381,
          109.774,
          109.909,
          109.47,
          109.656,
          109.305,
          109.042,
          109.473,
          109.761,
          110.217,
          110.267,
          110.56,
          110.428,
          110.386,
          109.592,
          109.243,
          109.595,
          109.763,
          109.763,
          109.799,
          109.694,
          109.679,
          110.023,
          110.081,
          109.85,
          109.913,
          110.007,
          110.025,
          109.937,
          109.712
         ],
         "yaxis": "y3"
        },
        {
         "hovertext": [],
         "legendgroup": "g3",
         "marker": {
          "color": [],
          "size": [],
          "symbol": []
         },
         "mode": "markers",
         "name": "USDJPY",
         "showlegend": false,
         "type": "scatter",
         "x": [],
         "y": [],
         "yaxis": "y3"
        },
        {
         "hovertext": [],
         "legendgroup": "g3",
         "marker": {
          "color": "black",
          "line": {
           "width": 1.5
          },
          "size": 7,
          "symbol": "line-ns"
         },
         "mode": "markers",
         "name": "USDJPY",
         "showlegend": false,
         "type": "scatter",
         "x": [],
         "y": [],
         "yaxis": "y3"
        }
       ],
       "layout": {
        "height": 600,
        "template": {
         "data": {
          "bar": [
           {
            "error_x": {
             "color": "#2a3f5f"
            },
            "error_y": {
             "color": "#2a3f5f"
            },
            "marker": {
             "line": {
              "color": "#E5ECF6",
              "width": 0.5
             },
             "pattern": {
              "fillmode": "overlay",
              "size": 10,
              "solidity": 0.2
             }
            },
            "type": "bar"
           }
          ],
          "barpolar": [
           {
            "marker": {
             "line": {
              "color": "#E5ECF6",
              "width": 0.5
             },
             "pattern": {
              "fillmode": "overlay",
              "size": 10,
              "solidity": 0.2
             }
            },
            "type": "barpolar"
           }
          ],
          "carpet": [
           {
            "aaxis": {
             "endlinecolor": "#2a3f5f",
             "gridcolor": "white",
             "linecolor": "white",
             "minorgridcolor": "white",
             "startlinecolor": "#2a3f5f"
            },
            "baxis": {
             "endlinecolor": "#2a3f5f",
             "gridcolor": "white",
             "linecolor": "white",
             "minorgridcolor": "white",
             "startlinecolor": "#2a3f5f"
            },
            "type": "carpet"
           }
          ],
          "choropleth": [
           {
            "colorbar": {
             "outlinewidth": 0,
             "ticks": ""
            },
            "type": "choropleth"
           }
          ],
          "contour": [
           {
            "colorbar": {
             "outlinewidth": 0,
             "ticks": ""
            },
            "colorscale": [
             [
              0,
              "#0d0887"
             ],
             [
              0.1111111111111111,
              "#46039f"
             ],
             [
              0.2222222222222222,
              "#7201a8"
             ],
             [
              0.3333333333333333,
              "#9c179e"
             ],
             [
              0.4444444444444444,
              "#bd3786"
             ],
             [
              0.5555555555555556,
              "#d8576b"
             ],
             [
              0.6666666666666666,
              "#ed7953"
             ],
             [
              0.7777777777777778,
              "#fb9f3a"
             ],
             [
              0.8888888888888888,
              "#fdca26"
             ],
             [
              1,
              "#f0f921"
             ]
            ],
            "type": "contour"
           }
          ],
          "contourcarpet": [
           {
            "colorbar": {
             "outlinewidth": 0,
             "ticks": ""
            },
            "type": "contourcarpet"
           }
          ],
          "heatmap": [
           {
            "colorbar": {
             "outlinewidth": 0,
             "ticks": ""
            },
            "colorscale": [
             [
              0,
              "#0d0887"
             ],
             [
              0.1111111111111111,
              "#46039f"
             ],
             [
              0.2222222222222222,
              "#7201a8"
             ],
             [
              0.3333333333333333,
              "#9c179e"
             ],
             [
              0.4444444444444444,
              "#bd3786"
             ],
             [
              0.5555555555555556,
              "#d8576b"
             ],
             [
              0.6666666666666666,
              "#ed7953"
             ],
             [
              0.7777777777777778,
              "#fb9f3a"
             ],
             [
              0.8888888888888888,
              "#fdca26"
             ],
             [
              1,
              "#f0f921"
             ]
            ],
            "type": "heatmap"
           }
          ],
          "heatmapgl": [
           {
            "colorbar": {
             "outlinewidth": 0,
             "ticks": ""
            },
            "colorscale": [
             [
              0,
              "#0d0887"
             ],
             [
              0.1111111111111111,
              "#46039f"
             ],
             [
              0.2222222222222222,
              "#7201a8"
             ],
             [
              0.3333333333333333,
              "#9c179e"
             ],
             [
              0.4444444444444444,
              "#bd3786"
             ],
             [
              0.5555555555555556,
              "#d8576b"
             ],
             [
              0.6666666666666666,
              "#ed7953"
             ],
             [
              0.7777777777777778,
              "#fb9f3a"
             ],
             [
              0.8888888888888888,
              "#fdca26"
             ],
             [
              1,
              "#f0f921"
             ]
            ],
            "type": "heatmapgl"
           }
          ],
          "histogram": [
           {
            "marker": {
             "pattern": {
              "fillmode": "overlay",
              "size": 10,
              "solidity": 0.2
             }
            },
            "type": "histogram"
           }
          ],
          "histogram2d": [
           {
            "colorbar": {
             "outlinewidth": 0,
             "ticks": ""
            },
            "colorscale": [
             [
              0,
              "#0d0887"
             ],
             [
              0.1111111111111111,
              "#46039f"
             ],
             [
              0.2222222222222222,
              "#7201a8"
             ],
             [
              0.3333333333333333,
              "#9c179e"
             ],
             [
              0.4444444444444444,
              "#bd3786"
             ],
             [
              0.5555555555555556,
              "#d8576b"
             ],
             [
              0.6666666666666666,
              "#ed7953"
             ],
             [
              0.7777777777777778,
              "#fb9f3a"
             ],
             [
              0.8888888888888888,
              "#fdca26"
             ],
             [
              1,
              "#f0f921"
             ]
            ],
            "type": "histogram2d"
           }
          ],
          "histogram2dcontour": [
           {
            "colorbar": {
             "outlinewidth": 0,
             "ticks": ""
            },
            "colorscale": [
             [
              0,
              "#0d0887"
             ],
             [
              0.1111111111111111,
              "#46039f"
             ],
             [
              0.2222222222222222,
              "#7201a8"
             ],
             [
              0.3333333333333333,
              "#9c179e"
             ],
             [
              0.4444444444444444,
              "#bd3786"
             ],
             [
              0.5555555555555556,
              "#d8576b"
             ],
             [
              0.6666666666666666,
              "#ed7953"
             ],
             [
              0.7777777777777778,
              "#fb9f3a"
             ],
             [
              0.8888888888888888,
              "#fdca26"
             ],
             [
              1,
              "#f0f921"
             ]
            ],
            "type": "histogram2dcontour"
           }
          ],
          "mesh3d": [
           {
            "colorbar": {
             "outlinewidth": 0,
             "ticks": ""
            },
            "type": "mesh3d"
           }
          ],
          "parcoords": [
           {
            "line": {
             "colorbar": {
              "outlinewidth": 0,
              "ticks": ""
             }
            },
            "type": "parcoords"
           }
          ],
          "pie": [
           {
            "automargin": true,
            "type": "pie"
           }
          ],
          "scatter": [
           {
            "fillpattern": {
             "fillmode": "overlay",
             "size": 10,
             "solidity": 0.2
            },
            "type": "scatter"
           }
          ],
          "scatter3d": [
           {
            "line": {
             "colorbar": {
              "outlinewidth": 0,
              "ticks": ""
             }
            },
            "marker": {
             "colorbar": {
              "outlinewidth": 0,
              "ticks": ""
             }
            },
            "type": "scatter3d"
           }
          ],
          "scattercarpet": [
           {
            "marker": {
             "colorbar": {
              "outlinewidth": 0,
              "ticks": ""
             }
            },
            "type": "scattercarpet"
           }
          ],
          "scattergeo": [
           {
            "marker": {
             "colorbar": {
              "outlinewidth": 0,
              "ticks": ""
             }
            },
            "type": "scattergeo"
           }
          ],
          "scattergl": [
           {
            "marker": {
             "colorbar": {
              "outlinewidth": 0,
              "ticks": ""
             }
            },
            "type": "scattergl"
           }
          ],
          "scattermapbox": [
           {
            "marker": {
             "colorbar": {
              "outlinewidth": 0,
              "ticks": ""
             }
            },
            "type": "scattermapbox"
           }
          ],
          "scatterpolar": [
           {
            "marker": {
             "colorbar": {
              "outlinewidth": 0,
              "ticks": ""
             }
            },
            "type": "scatterpolar"
           }
          ],
          "scatterpolargl": [
           {
            "marker": {
             "colorbar": {
              "outlinewidth": 0,
              "ticks": ""
             }
            },
            "type": "scatterpolargl"
           }
          ],
          "scatterternary": [
           {
            "marker": {
             "colorbar": {
              "outlinewidth": 0,
              "ticks": ""
             }
            },
            "type": "scatterternary"
           }
          ],
          "surface": [
           {
            "colorbar": {
             "outlinewidth": 0,
             "ticks": ""
            },
            "colorscale": [
             [
              0,
              "#0d0887"
             ],
             [
              0.1111111111111111,
              "#46039f"
             ],
             [
              0.2222222222222222,
              "#7201a8"
             ],
             [
              0.3333333333333333,
              "#9c179e"
             ],
             [
              0.4444444444444444,
              "#bd3786"
             ],
             [
              0.5555555555555556,
              "#d8576b"
             ],
             [
              0.6666666666666666,
              "#ed7953"
             ],
             [
              0.7777777777777778,
              "#fb9f3a"
             ],
             [
              0.8888888888888888,
              "#fdca26"
             ],
             [
              1,
              "#f0f921"
             ]
            ],
            "type": "surface"
           }
          ],
          "table": [
           {
            "cells": {
             "fill": {
              "color": "#EBF0F8"
             },
             "line": {
              "color": "white"
             }
            },
            "header": {
             "fill": {
              "color": "#C8D4E3"
             },
             "line": {
              "color": "white"
             }
            },
            "type": "table"
           }
          ]
         },
         "layout": {
          "annotationdefaults": {
           "arrowcolor": "#2a3f5f",
           "arrowhead": 0,
           "arrowwidth": 1
          },
          "autotypenumbers": "strict",
          "coloraxis": {
           "colorbar": {
            "outlinewidth": 0,
            "ticks": ""
           }
          },
          "colorscale": {
           "diverging": [
            [
             0,
             "#8e0152"
            ],
            [
             0.1,
             "#c51b7d"
            ],
            [
             0.2,
             "#de77ae"
            ],
            [
             0.3,
             "#f1b6da"
            ],
            [
             0.4,
             "#fde0ef"
            ],
            [
             0.5,
             "#f7f7f7"
            ],
            [
             0.6,
             "#e6f5d0"
            ],
            [
             0.7,
             "#b8e186"
            ],
            [
             0.8,
             "#7fbc41"
            ],
            [
             0.9,
             "#4d9221"
            ],
            [
             1,
             "#276419"
            ]
           ],
           "sequential": [
            [
             0,
             "#0d0887"
            ],
            [
             0.1111111111111111,
             "#46039f"
            ],
            [
             0.2222222222222222,
             "#7201a8"
            ],
            [
             0.3333333333333333,
             "#9c179e"
            ],
            [
             0.4444444444444444,
             "#bd3786"
            ],
            [
             0.5555555555555556,
             "#d8576b"
            ],
            [
             0.6666666666666666,
             "#ed7953"
            ],
            [
             0.7777777777777778,
             "#fb9f3a"
            ],
            [
             0.8888888888888888,
             "#fdca26"
            ],
            [
             1,
             "#f0f921"
            ]
           ],
           "sequentialminus": [
            [
             0,
             "#0d0887"
            ],
            [
             0.1111111111111111,
             "#46039f"
            ],
            [
             0.2222222222222222,
             "#7201a8"
            ],
            [
             0.3333333333333333,
             "#9c179e"
            ],
            [
             0.4444444444444444,
             "#bd3786"
            ],
            [
             0.5555555555555556,
             "#d8576b"
            ],
            [
             0.6666666666666666,
             "#ed7953"
            ],
            [
             0.7777777777777778,
             "#fb9f3a"
            ],
            [
             0.8888888888888888,
             "#fdca26"
            ],
            [
             1,
             "#f0f921"
            ]
           ]
          },
          "colorway": [
           "#636efa",
           "#EF553B",
           "#00cc96",
           "#ab63fa",
           "#FFA15A",
           "#19d3f3",
           "#FF6692",
           "#B6E880",
           "#FF97FF",
           "#FECB52"
          ],
          "font": {
           "color": "#2a3f5f"
          },
          "geo": {
           "bgcolor": "white",
           "lakecolor": "white",
           "landcolor": "#E5ECF6",
           "showlakes": true,
           "showland": true,
           "subunitcolor": "white"
          },
          "hoverlabel": {
           "align": "left"
          },
          "hovermode": "closest",
          "mapbox": {
           "style": "light"
          },
          "paper_bgcolor": "white",
          "plot_bgcolor": "#E5ECF6",
          "polar": {
           "angularaxis": {
            "gridcolor": "white",
            "linecolor": "white",
            "ticks": ""
           },
           "bgcolor": "#E5ECF6",
           "radialaxis": {
            "gridcolor": "white",
            "linecolor": "white",
            "ticks": ""
           }
          },
          "scene": {
           "xaxis": {
            "backgroundcolor": "#E5ECF6",
            "gridcolor": "white",
            "gridwidth": 2,
            "linecolor": "white",
            "showbackground": true,
            "ticks": "",
            "zerolinecolor": "white"
           },
           "yaxis": {
            "backgroundcolor": "#E5ECF6",
            "gridcolor": "white",
            "gridwidth": 2,
            "linecolor": "white",
            "showbackground": true,
            "ticks": "",
            "zerolinecolor": "white"
           },
           "zaxis": {
            "backgroundcolor": "#E5ECF6",
            "gridcolor": "white",
            "gridwidth": 2,
            "linecolor": "white",
            "showbackground": true,
            "ticks": "",
            "zerolinecolor": "white"
           }
          },
          "shapedefaults": {
           "line": {
            "color": "#2a3f5f"
           }
          },
          "ternary": {
           "aaxis": {
            "gridcolor": "white",
            "linecolor": "white",
            "ticks": ""
           },
           "baxis": {
            "gridcolor": "white",
            "linecolor": "white",
            "ticks": ""
           },
           "bgcolor": "#E5ECF6",
           "caxis": {
            "gridcolor": "white",
            "linecolor": "white",
            "ticks": ""
           }
          },
          "title": {
           "x": 0.05
          },
          "xaxis": {
           "automargin": true,
           "gridcolor": "white",
           "linecolor": "white",
           "ticks": "",
           "title": {
            "standoff": 15
           },
           "zerolinecolor": "white",
           "zerolinewidth": 2
          },
          "yaxis": {
           "automargin": true,
           "gridcolor": "white",
           "linecolor": "white",
           "ticks": "",
           "title": {
            "standoff": 15
           },
           "zerolinecolor": "white",
           "zerolinewidth": 2
          }
         }
        },
        "title": {
         "text": "Balance: 10000.000000 USD ~ Equity: 10000.000000 ~ Margin: 0.000000 ~ Free Margin: 10000.000000 ~ Margin Level: inf"
        },
        "width": 1400,
        "xaxis": {
         "tickformat": "%Y-%m-%d"
        },
        "yaxis": {
         "tickfont": {
          "color": "rgba(0.12156862745098039, 0.4666666666666667, 0.7058823529411765, 0.8)"
         }
        },
        "yaxis2": {
         "overlaying": "y",
         "tickfont": {
          "color": "rgba(0.5643983083429451, 0.36993464052287583, 0.5132641291810843, 0.8)"
         }
        },
        "yaxis3": {
         "overlaying": "y",
         "tickfont": {
          "color": "rgba(0.7372549019607844, 0.7411764705882353, 0.13333333333333333, 0.8)"
         }
        }
       }
      }
     },
     "metadata": {},
     "output_type": "display_data"
    }
   ],
   "source": [
    "import gymnasium as gym\n",
    "from gym_mtsim import (\n",
    "    Timeframe, SymbolInfo,\n",
    "    MtSimulator, OrderType, Order, SymbolNotFound, OrderNotFound,\n",
    "    MtEnv,\n",
    "    FOREX_DATA_PATH, STOCKS_DATA_PATH, CRYPTO_DATA_PATH, MIXED_DATA_PATH,\n",
    ")\n",
    "from stable_baselines3 import A2C\n",
    "from stable_baselines3.common.vec_env import DummyVecEnv\n",
    "import random\n",
    "import torch\n",
    "\n",
    "env_name = 'forex-hedge-v0'\n",
    "\n",
    "#reproduce training and test\n",
    "seed = 42\n",
    "\n",
    "obs = env.reset(seed=seed)\n",
    "start_balance = observation['balance'][0]\n",
    "print(start_balance)\n",
    "\n",
    "torch.manual_seed(seed)\n",
    "random.seed(seed)\n",
    "np.random.seed(seed)\n",
    "\n",
    "env = gym.make(env_name)\n",
    "model = A2C('MultiInputPolicy', env, verbose=0)\n",
    "model.learn(total_timesteps=10000)\n",
    "\n",
    "vec_env = model.get_env()\n",
    "#vec_env = DummyVecEnv([lambda: gym.make(env_name, render_mode = \"human\")])\n",
    "#vec_env = DummyVecEnv([lambda: gym.make(env_name, render_mode = \"simple_figure\")])\n",
    "\n",
    "observation = vec_env.reset()\n",
    "total_reward = 0\n",
    "\n",
    "while True:\n",
    "    action, _states = model.predict(observation)\n",
    "    observation, reward, done, info = vec_env.step(action)\n",
    "\n",
    "    total_reward += reward\n",
    "    if done: break\n",
    "\n",
    "end_balance = info[0][\"balance\"]\n",
    "returns = (end_balance - start_balance) / end_balance\n",
    "out_returns = ''\n",
    "if returns > 0: out_returns = '+'\n",
    "out_returns += f'{returns[0]:.3f}%' \n",
    "\n",
    "print (f'total_reward : {total_reward[0]:>10.3f} ({out_returns})')\n",
    "print (f'balance      : {info[0][\"balance\"]:>10.3f}')\n",
    "print (f'equity       : {info[0][\"equity\"]:>10.3f}')\n",
    "\n",
    "env.unwrapped.render('advanced_figure', time_format='%Y-%m-%d')"
   ]
  },
  {
   "attachments": {},
   "cell_type": "markdown",
   "metadata": {},
   "source": [
    "## References\n",
    "\n",
    "* [https://www.mql5.com/en/docs/python_metatrader5](https://www.mql5.com/en/docs/python_metatrader5)\n",
    "* [https://www.metatrader5.com/en/terminal/help/trading_advanced/margin_forex](https://www.metatrader5.com/en/terminal/help/trading_advanced/margin_forex)\n",
    "* [https://admiralmarkets.com/education/articles/forex-basics/margin-in-forex-trading-margin-level-vs-margin-call](https://admiralmarkets.com/education/articles/forex-basics/margin-in-forex-trading-margin-level-vs-margin-call)\n",
    "* [https://www.investopedia.com/articles/forex/12/calculating-profits-and-losses-of-forex-trades.asp](https://www.investopedia.com/articles/forex/12/calculating-profits-and-losses-of-forex-trades.asp)\n"
   ]
  }
 ],
 "metadata": {
  "interpreter": {
   "hash": "0abee77d591a174194b91b850e12395de882ac6d36de3e6e63e8904e4cff1216"
  },
  "kernelspec": {
   "display_name": "Python 3.9.6 64-bit ('venv': venv)",
   "name": "python3"
  },
  "language_info": {
   "codemirror_mode": {
    "name": "ipython",
    "version": 3
   },
   "file_extension": ".py",
   "mimetype": "text/x-python",
   "name": "python",
   "nbconvert_exporter": "python",
   "pygments_lexer": "ipython3",
   "version": "3.11.4"
  }
 },
 "nbformat": 4,
 "nbformat_minor": 2
}
